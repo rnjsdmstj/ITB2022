{
  "nbformat": 4,
  "nbformat_minor": 0,
  "metadata": {
    "colab": {
      "provenance": [],
      "collapsed_sections": [
        "AYy9rCj5XWcI",
        "HCtJTBhdXbos",
        "e4bu7pLwdWOP",
        "H35fytx8kJx8"
      ],
      "toc_visible": true,
      "include_colab_link": true
    },
    "kernelspec": {
      "name": "python3",
      "display_name": "Python 3"
    },
    "language_info": {
      "name": "python"
    }
  },
  "cells": [
    {
      "cell_type": "markdown",
      "metadata": {
        "id": "view-in-github",
        "colab_type": "text"
      },
      "source": [
        "<a href=\"https://colab.research.google.com/github/rnjsdmstj/ITB2022/blob/main/w15_%EA%B8%B0%EB%A7%90%EB%AF%B8%EB%8B%88%ED%94%84%EB%A1%9C%EC%A0%9D%ED%8A%B8_team12_%EB%B6%84%EB%A5%98%EB%B6%84%EC%84%9D_%EC%88%98%EC%A0%95.ipynb\" target=\"_parent\"><img src=\"https://colab.research.google.com/assets/colab-badge.svg\" alt=\"Open In Colab\"/></a>"
      ]
    },
    {
      "cell_type": "markdown",
      "source": [
        "### 필수 실행 코드"
      ],
      "metadata": {
        "id": "AYy9rCj5XWcI"
      }
    },
    {
      "cell_type": "code",
      "execution_count": null,
      "metadata": {
        "id": "vU3tFJEAPlbS",
        "colab": {
          "base_uri": "https://localhost:8080/"
        },
        "outputId": "ec087e79-a653-4af3-b318-afdc23ba57de"
      },
      "outputs": [
        {
          "output_type": "stream",
          "name": "stdout",
          "text": [
            "Reading package lists... Done\n",
            "Building dependency tree       \n",
            "Reading state information... Done\n",
            "The following package was automatically installed and is no longer required:\n",
            "  libnvidia-common-460\n",
            "Use 'sudo apt autoremove' to remove it.\n",
            "The following NEW packages will be installed:\n",
            "  fonts-nanum\n",
            "0 upgraded, 1 newly installed, 0 to remove and 11 not upgraded.\n",
            "Need to get 9,604 kB of archives.\n",
            "After this operation, 29.5 MB of additional disk space will be used.\n",
            "Get:1 http://archive.ubuntu.com/ubuntu bionic/universe amd64 fonts-nanum all 20170925-1 [9,604 kB]\n",
            "Fetched 9,604 kB in 1s (8,963 kB/s)\n",
            "debconf: unable to initialize frontend: Dialog\n",
            "debconf: (No usable dialog-like program is installed, so the dialog based frontend cannot be used. at /usr/share/perl5/Debconf/FrontEnd/Dialog.pm line 76, <> line 1.)\n",
            "debconf: falling back to frontend: Readline\n",
            "debconf: unable to initialize frontend: Readline\n",
            "debconf: (This frontend requires a controlling tty.)\n",
            "debconf: falling back to frontend: Teletype\n",
            "dpkg-preconfigure: unable to re-open stdin: \n",
            "Selecting previously unselected package fonts-nanum.\n",
            "(Reading database ... 124013 files and directories currently installed.)\n",
            "Preparing to unpack .../fonts-nanum_20170925-1_all.deb ...\n",
            "Unpacking fonts-nanum (20170925-1) ...\n",
            "Setting up fonts-nanum (20170925-1) ...\n",
            "Processing triggers for fontconfig (2.12.6-0ubuntu2) ...\n",
            "/usr/share/fonts: caching, new cache contents: 0 fonts, 1 dirs\n",
            "/usr/share/fonts/truetype: caching, new cache contents: 0 fonts, 3 dirs\n",
            "/usr/share/fonts/truetype/humor-sans: caching, new cache contents: 1 fonts, 0 dirs\n",
            "/usr/share/fonts/truetype/liberation: caching, new cache contents: 16 fonts, 0 dirs\n",
            "/usr/share/fonts/truetype/nanum: caching, new cache contents: 10 fonts, 0 dirs\n",
            "/usr/local/share/fonts: caching, new cache contents: 0 fonts, 0 dirs\n",
            "/root/.local/share/fonts: skipping, no such directory\n",
            "/root/.fonts: skipping, no such directory\n",
            "/var/cache/fontconfig: cleaning cache directory\n",
            "/root/.cache/fontconfig: not cleaning non-existent cache directory\n",
            "/root/.fontconfig: not cleaning non-existent cache directory\n",
            "fc-cache: succeeded\n"
          ]
        }
      ],
      "source": [
        "#한글 깨짐 방지\n",
        "!sudo apt-get install -y fonts-nanum\n",
        "!sudo fc-cache -fv\n",
        "!rm ~/.cache/matplotlib -rf \n",
        "\n",
        "#해당 코드 실행 후 런타임을 다시 실행하면 한글이 깨지지 않음"
      ]
    },
    {
      "cell_type": "code",
      "execution_count": null,
      "metadata": {
        "id": "OA1l96sWs0Ku"
      },
      "outputs": [],
      "source": [
        "#패키지 불러오기\n",
        "import pandas as pd\n",
        "import numpy as np\n",
        "import matplotlib.pyplot as plt"
      ]
    },
    {
      "cell_type": "code",
      "execution_count": null,
      "metadata": {
        "id": "8LemX_aYlvt8"
      },
      "outputs": [],
      "source": [
        "#폰트 설정\n",
        "import matplotlib.pyplot as plt\n",
        "plt.rc('font', family='NanumBarunGothic')"
      ]
    },
    {
      "cell_type": "code",
      "execution_count": null,
      "metadata": {
        "id": "tNNdKjIvr2jS",
        "colab": {
          "base_uri": "https://localhost:8080/"
        },
        "outputId": "1a48f067-c4c7-476f-d070-b49974863a39"
      },
      "outputs": [
        {
          "output_type": "stream",
          "name": "stdout",
          "text": [
            "Mounted at /content/drive\n"
          ]
        }
      ],
      "source": [
        "#파일 경로 설정\n",
        "from google.colab import drive\n",
        "drive.mount('/content/drive')"
      ]
    },
    {
      "cell_type": "markdown",
      "source": [
        "### **데이터 전처리0. charts.csv 전처리**\n",
        "\n",
        "charts.csv: 1958년 8월 4일부터 2021년 11월 6일까지 매 주차 스포티파이 Top100 차트에 랭크된 곡에 대한 정보를 포함하고 있다. top100 아티스트와 곡 정보를 추출한 뒤 다른 데이터와 연결해 top100 차트인 여부를 판단하는 새로운 변수 top100 만들 때 활용하고자 한다\n",
        "\n",
        "*   week: 해당 월 주차 수\n",
        "*   date: 날짜\n",
        "*   rank: 순위\n",
        "*   song: 곡명\n",
        "*   artist: 아티스트명\n",
        "*   peak_rank: 최고 순위\n",
        "*   weeks-on-board: Top100 차트인 기간\n"
      ],
      "metadata": {
        "id": "HCtJTBhdXbos"
      }
    },
    {
      "cell_type": "code",
      "source": [
        "#데이터 불러오기\n",
        "charts = pd.read_csv(\"/content/drive/My Drive/Colab Notebooks/Bigmining/charts_new.csv\",  encoding='cp949')"
      ],
      "metadata": {
        "id": "uV-wG0T5XmUk"
      },
      "execution_count": null,
      "outputs": []
    },
    {
      "cell_type": "code",
      "execution_count": null,
      "metadata": {
        "id": "c4qnpC6QdXX9",
        "colab": {
          "base_uri": "https://localhost:8080/",
          "height": 206
        },
        "outputId": "cd8abfdf-f8fe-41ae-b6a5-46f61e255b44"
      },
      "outputs": [
        {
          "output_type": "display_data",
          "data": {
            "text/plain": [
              "   week        date  rank           song                         artist  \\\n",
              "0     1  2021-11-06     1     Easy On Me                          Adele   \n",
              "1     1  2021-11-06     2           Stay  The Kid LAROI & Justin Bieber   \n",
              "2     1  2021-11-06     3  Industry Baby        Lil Nas X & Jack Harlow   \n",
              "3     1  2021-11-06     4     Fancy Like                   Walker Hayes   \n",
              "4     1  2021-11-06     5     Bad Habits                     Ed Sheeran   \n",
              "\n",
              "   last-week  peak-rank  weeks-on-board  \n",
              "0        1.0          1               3  \n",
              "1        2.0          1              16  \n",
              "2        3.0          1              14  \n",
              "3        4.0          3              19  \n",
              "4        5.0          2              18  "
            ],
            "text/html": [
              "\n",
              "  <div id=\"df-be6874c1-ce2b-4626-b83b-45e12cc03b76\">\n",
              "    <div class=\"colab-df-container\">\n",
              "      <div>\n",
              "<style scoped>\n",
              "    .dataframe tbody tr th:only-of-type {\n",
              "        vertical-align: middle;\n",
              "    }\n",
              "\n",
              "    .dataframe tbody tr th {\n",
              "        vertical-align: top;\n",
              "    }\n",
              "\n",
              "    .dataframe thead th {\n",
              "        text-align: right;\n",
              "    }\n",
              "</style>\n",
              "<table border=\"1\" class=\"dataframe\">\n",
              "  <thead>\n",
              "    <tr style=\"text-align: right;\">\n",
              "      <th></th>\n",
              "      <th>week</th>\n",
              "      <th>date</th>\n",
              "      <th>rank</th>\n",
              "      <th>song</th>\n",
              "      <th>artist</th>\n",
              "      <th>last-week</th>\n",
              "      <th>peak-rank</th>\n",
              "      <th>weeks-on-board</th>\n",
              "    </tr>\n",
              "  </thead>\n",
              "  <tbody>\n",
              "    <tr>\n",
              "      <th>0</th>\n",
              "      <td>1</td>\n",
              "      <td>2021-11-06</td>\n",
              "      <td>1</td>\n",
              "      <td>Easy On Me</td>\n",
              "      <td>Adele</td>\n",
              "      <td>1.0</td>\n",
              "      <td>1</td>\n",
              "      <td>3</td>\n",
              "    </tr>\n",
              "    <tr>\n",
              "      <th>1</th>\n",
              "      <td>1</td>\n",
              "      <td>2021-11-06</td>\n",
              "      <td>2</td>\n",
              "      <td>Stay</td>\n",
              "      <td>The Kid LAROI &amp; Justin Bieber</td>\n",
              "      <td>2.0</td>\n",
              "      <td>1</td>\n",
              "      <td>16</td>\n",
              "    </tr>\n",
              "    <tr>\n",
              "      <th>2</th>\n",
              "      <td>1</td>\n",
              "      <td>2021-11-06</td>\n",
              "      <td>3</td>\n",
              "      <td>Industry Baby</td>\n",
              "      <td>Lil Nas X &amp; Jack Harlow</td>\n",
              "      <td>3.0</td>\n",
              "      <td>1</td>\n",
              "      <td>14</td>\n",
              "    </tr>\n",
              "    <tr>\n",
              "      <th>3</th>\n",
              "      <td>1</td>\n",
              "      <td>2021-11-06</td>\n",
              "      <td>4</td>\n",
              "      <td>Fancy Like</td>\n",
              "      <td>Walker Hayes</td>\n",
              "      <td>4.0</td>\n",
              "      <td>3</td>\n",
              "      <td>19</td>\n",
              "    </tr>\n",
              "    <tr>\n",
              "      <th>4</th>\n",
              "      <td>1</td>\n",
              "      <td>2021-11-06</td>\n",
              "      <td>5</td>\n",
              "      <td>Bad Habits</td>\n",
              "      <td>Ed Sheeran</td>\n",
              "      <td>5.0</td>\n",
              "      <td>2</td>\n",
              "      <td>18</td>\n",
              "    </tr>\n",
              "  </tbody>\n",
              "</table>\n",
              "</div>\n",
              "      <button class=\"colab-df-convert\" onclick=\"convertToInteractive('df-be6874c1-ce2b-4626-b83b-45e12cc03b76')\"\n",
              "              title=\"Convert this dataframe to an interactive table.\"\n",
              "              style=\"display:none;\">\n",
              "        \n",
              "  <svg xmlns=\"http://www.w3.org/2000/svg\" height=\"24px\"viewBox=\"0 0 24 24\"\n",
              "       width=\"24px\">\n",
              "    <path d=\"M0 0h24v24H0V0z\" fill=\"none\"/>\n",
              "    <path d=\"M18.56 5.44l.94 2.06.94-2.06 2.06-.94-2.06-.94-.94-2.06-.94 2.06-2.06.94zm-11 1L8.5 8.5l.94-2.06 2.06-.94-2.06-.94L8.5 2.5l-.94 2.06-2.06.94zm10 10l.94 2.06.94-2.06 2.06-.94-2.06-.94-.94-2.06-.94 2.06-2.06.94z\"/><path d=\"M17.41 7.96l-1.37-1.37c-.4-.4-.92-.59-1.43-.59-.52 0-1.04.2-1.43.59L10.3 9.45l-7.72 7.72c-.78.78-.78 2.05 0 2.83L4 21.41c.39.39.9.59 1.41.59.51 0 1.02-.2 1.41-.59l7.78-7.78 2.81-2.81c.8-.78.8-2.07 0-2.86zM5.41 20L4 18.59l7.72-7.72 1.47 1.35L5.41 20z\"/>\n",
              "  </svg>\n",
              "      </button>\n",
              "      \n",
              "  <style>\n",
              "    .colab-df-container {\n",
              "      display:flex;\n",
              "      flex-wrap:wrap;\n",
              "      gap: 12px;\n",
              "    }\n",
              "\n",
              "    .colab-df-convert {\n",
              "      background-color: #E8F0FE;\n",
              "      border: none;\n",
              "      border-radius: 50%;\n",
              "      cursor: pointer;\n",
              "      display: none;\n",
              "      fill: #1967D2;\n",
              "      height: 32px;\n",
              "      padding: 0 0 0 0;\n",
              "      width: 32px;\n",
              "    }\n",
              "\n",
              "    .colab-df-convert:hover {\n",
              "      background-color: #E2EBFA;\n",
              "      box-shadow: 0px 1px 2px rgba(60, 64, 67, 0.3), 0px 1px 3px 1px rgba(60, 64, 67, 0.15);\n",
              "      fill: #174EA6;\n",
              "    }\n",
              "\n",
              "    [theme=dark] .colab-df-convert {\n",
              "      background-color: #3B4455;\n",
              "      fill: #D2E3FC;\n",
              "    }\n",
              "\n",
              "    [theme=dark] .colab-df-convert:hover {\n",
              "      background-color: #434B5C;\n",
              "      box-shadow: 0px 1px 3px 1px rgba(0, 0, 0, 0.15);\n",
              "      filter: drop-shadow(0px 1px 2px rgba(0, 0, 0, 0.3));\n",
              "      fill: #FFFFFF;\n",
              "    }\n",
              "  </style>\n",
              "\n",
              "      <script>\n",
              "        const buttonEl =\n",
              "          document.querySelector('#df-be6874c1-ce2b-4626-b83b-45e12cc03b76 button.colab-df-convert');\n",
              "        buttonEl.style.display =\n",
              "          google.colab.kernel.accessAllowed ? 'block' : 'none';\n",
              "\n",
              "        async function convertToInteractive(key) {\n",
              "          const element = document.querySelector('#df-be6874c1-ce2b-4626-b83b-45e12cc03b76');\n",
              "          const dataTable =\n",
              "            await google.colab.kernel.invokeFunction('convertToInteractive',\n",
              "                                                     [key], {});\n",
              "          if (!dataTable) return;\n",
              "\n",
              "          const docLinkHtml = 'Like what you see? Visit the ' +\n",
              "            '<a target=\"_blank\" href=https://colab.research.google.com/notebooks/data_table.ipynb>data table notebook</a>'\n",
              "            + ' to learn more about interactive tables.';\n",
              "          element.innerHTML = '';\n",
              "          dataTable['output_type'] = 'display_data';\n",
              "          await google.colab.output.renderOutput(dataTable, element);\n",
              "          const docLink = document.createElement('div');\n",
              "          docLink.innerHTML = docLinkHtml;\n",
              "          element.appendChild(docLink);\n",
              "        }\n",
              "      </script>\n",
              "    </div>\n",
              "  </div>\n",
              "  "
            ]
          },
          "metadata": {}
        }
      ],
      "source": [
        "#데이터 탐색하기\n",
        "display(charts.head())"
      ]
    },
    {
      "cell_type": "code",
      "source": [
        "#데이터 탐색하기2\n",
        "charts.describe"
      ],
      "metadata": {
        "colab": {
          "base_uri": "https://localhost:8080/"
        },
        "id": "2Y4N10_WX2ah",
        "outputId": "47eb8fab-eb9f-427c-c5a7-98a935b7bad1"
      },
      "execution_count": null,
      "outputs": [
        {
          "output_type": "execute_result",
          "data": {
            "text/plain": [
              "<bound method NDFrame.describe of         week        date  rank                                 song  \\\n",
              "0          1  2021-11-06     1                           Easy On Me   \n",
              "1          1  2021-11-06     2                                 Stay   \n",
              "2          1  2021-11-06     3                        Industry Baby   \n",
              "3          1  2021-11-06     4                           Fancy Like   \n",
              "4          1  2021-11-06     5                           Bad Habits   \n",
              "...      ...         ...   ...                                  ...   \n",
              "330082     2  1958-08-04    96                        Over And Over   \n",
              "330083     2  1958-08-04    97                     I Believe In You   \n",
              "330084     2  1958-08-04    98                      Little Serenade   \n",
              "330085     2  1958-08-04    99  I'll Get By (As Long As I Have You)   \n",
              "330086     2  1958-08-04   100                                 Judy   \n",
              "\n",
              "                               artist  last-week  peak-rank  weeks-on-board  \n",
              "0                               Adele        1.0          1               3  \n",
              "1       The Kid LAROI & Justin Bieber        2.0          1              16  \n",
              "2             Lil Nas X & Jack Harlow        3.0          1              14  \n",
              "3                        Walker Hayes        4.0          3              19  \n",
              "4                          Ed Sheeran        5.0          2              18  \n",
              "...                               ...        ...        ...             ...  \n",
              "330082                Thurston Harris        NaN         96               1  \n",
              "330083                Robert & Johnny        NaN         97               1  \n",
              "330084              The Ames Brothers        NaN         98               1  \n",
              "330085                 Billy Williams        NaN         99               1  \n",
              "330086                Frankie Vaughan        NaN        100               1  \n",
              "\n",
              "[330087 rows x 8 columns]>"
            ]
          },
          "metadata": {},
          "execution_count": 7
        }
      ]
    },
    {
      "cell_type": "markdown",
      "source": [
        "**0-1) 적정한 기간 설정: 2000년 1월 ~ 2019년 12월까지 10년간의 데이터 추출**"
      ],
      "metadata": {
        "id": "0mAwxVvzcypS"
      }
    },
    {
      "cell_type": "code",
      "execution_count": null,
      "metadata": {
        "id": "ZMyvnIT-dk3F",
        "colab": {
          "base_uri": "https://localhost:8080/",
          "height": 690
        },
        "outputId": "519fb142-829d-4876-9ded-6b03611a46f0"
      },
      "outputs": [
        {
          "output_type": "execute_result",
          "data": {
            "text/plain": [
              "            week  rank                                     song  \\\n",
              "date                                                              \n",
              "2019-12-28     5     1          All I Want For Christmas Is You   \n",
              "2019-12-28     5     2        Rockin' Around The Christmas Tree   \n",
              "2019-12-28     5     3                                  Circles   \n",
              "2019-12-28     5     4                                  Roxanne   \n",
              "2019-12-28     5     5                      Futsal Shuffle 2020   \n",
              "...          ...   ...                                      ...   \n",
              "2000-01-15     3    61                             Heartbreaker   \n",
              "2000-01-15     3    78                               15 Minutes   \n",
              "2000-01-15     3    92  A Country Boy Can Survive (Y2K Version)   \n",
              "2000-01-15     3    94         Give You What You Want (Fa Sure)   \n",
              "2000-01-08     2    91                             Left & Right   \n",
              "\n",
              "                                                      artist  last-week  \\\n",
              "date                                                                      \n",
              "2019-12-28                                      Mariah Carey        1.0   \n",
              "2019-12-28                                        Brenda Lee        3.0   \n",
              "2019-12-28                                       Post Malone        2.0   \n",
              "2019-12-28                                    Arizona Zervas        6.0   \n",
              "2019-12-28                                      Lil Uzi Vert        NaN   \n",
              "...                                                      ...        ...   \n",
              "2000-01-15                      Mariah Carey Featuring Jay-Z       66.0   \n",
              "2000-01-15                                       Marc Nelson       67.0   \n",
              "2000-01-15  Chad Brock With Hank Williams Jr. & George Jones       75.0   \n",
              "2000-01-15                                     Chico DeBarge       87.0   \n",
              "2000-01-08          D'Angelo Featuring Method Man And Redman       70.0   \n",
              "\n",
              "            peak-rank  weeks-on-board  \n",
              "date                                   \n",
              "2019-12-28          1              36  \n",
              "2019-12-28          2              31  \n",
              "2019-12-28          1              16  \n",
              "2019-12-28          4               7  \n",
              "2019-12-28          5               1  \n",
              "...               ...             ...  \n",
              "2000-01-15          1              20  \n",
              "2000-01-15         27              16  \n",
              "2000-01-15         75               3  \n",
              "2000-01-15         71              13  \n",
              "2000-01-08         70               5  \n",
              "\n",
              "[3672 rows x 7 columns]"
            ],
            "text/html": [
              "\n",
              "  <div id=\"df-40271c92-96e3-43fd-957c-7bb77d7f9565\">\n",
              "    <div class=\"colab-df-container\">\n",
              "      <div>\n",
              "<style scoped>\n",
              "    .dataframe tbody tr th:only-of-type {\n",
              "        vertical-align: middle;\n",
              "    }\n",
              "\n",
              "    .dataframe tbody tr th {\n",
              "        vertical-align: top;\n",
              "    }\n",
              "\n",
              "    .dataframe thead th {\n",
              "        text-align: right;\n",
              "    }\n",
              "</style>\n",
              "<table border=\"1\" class=\"dataframe\">\n",
              "  <thead>\n",
              "    <tr style=\"text-align: right;\">\n",
              "      <th></th>\n",
              "      <th>week</th>\n",
              "      <th>rank</th>\n",
              "      <th>song</th>\n",
              "      <th>artist</th>\n",
              "      <th>last-week</th>\n",
              "      <th>peak-rank</th>\n",
              "      <th>weeks-on-board</th>\n",
              "    </tr>\n",
              "    <tr>\n",
              "      <th>date</th>\n",
              "      <th></th>\n",
              "      <th></th>\n",
              "      <th></th>\n",
              "      <th></th>\n",
              "      <th></th>\n",
              "      <th></th>\n",
              "      <th></th>\n",
              "    </tr>\n",
              "  </thead>\n",
              "  <tbody>\n",
              "    <tr>\n",
              "      <th>2019-12-28</th>\n",
              "      <td>5</td>\n",
              "      <td>1</td>\n",
              "      <td>All I Want For Christmas Is You</td>\n",
              "      <td>Mariah Carey</td>\n",
              "      <td>1.0</td>\n",
              "      <td>1</td>\n",
              "      <td>36</td>\n",
              "    </tr>\n",
              "    <tr>\n",
              "      <th>2019-12-28</th>\n",
              "      <td>5</td>\n",
              "      <td>2</td>\n",
              "      <td>Rockin' Around The Christmas Tree</td>\n",
              "      <td>Brenda Lee</td>\n",
              "      <td>3.0</td>\n",
              "      <td>2</td>\n",
              "      <td>31</td>\n",
              "    </tr>\n",
              "    <tr>\n",
              "      <th>2019-12-28</th>\n",
              "      <td>5</td>\n",
              "      <td>3</td>\n",
              "      <td>Circles</td>\n",
              "      <td>Post Malone</td>\n",
              "      <td>2.0</td>\n",
              "      <td>1</td>\n",
              "      <td>16</td>\n",
              "    </tr>\n",
              "    <tr>\n",
              "      <th>2019-12-28</th>\n",
              "      <td>5</td>\n",
              "      <td>4</td>\n",
              "      <td>Roxanne</td>\n",
              "      <td>Arizona Zervas</td>\n",
              "      <td>6.0</td>\n",
              "      <td>4</td>\n",
              "      <td>7</td>\n",
              "    </tr>\n",
              "    <tr>\n",
              "      <th>2019-12-28</th>\n",
              "      <td>5</td>\n",
              "      <td>5</td>\n",
              "      <td>Futsal Shuffle 2020</td>\n",
              "      <td>Lil Uzi Vert</td>\n",
              "      <td>NaN</td>\n",
              "      <td>5</td>\n",
              "      <td>1</td>\n",
              "    </tr>\n",
              "    <tr>\n",
              "      <th>...</th>\n",
              "      <td>...</td>\n",
              "      <td>...</td>\n",
              "      <td>...</td>\n",
              "      <td>...</td>\n",
              "      <td>...</td>\n",
              "      <td>...</td>\n",
              "      <td>...</td>\n",
              "    </tr>\n",
              "    <tr>\n",
              "      <th>2000-01-15</th>\n",
              "      <td>3</td>\n",
              "      <td>61</td>\n",
              "      <td>Heartbreaker</td>\n",
              "      <td>Mariah Carey Featuring Jay-Z</td>\n",
              "      <td>66.0</td>\n",
              "      <td>1</td>\n",
              "      <td>20</td>\n",
              "    </tr>\n",
              "    <tr>\n",
              "      <th>2000-01-15</th>\n",
              "      <td>3</td>\n",
              "      <td>78</td>\n",
              "      <td>15 Minutes</td>\n",
              "      <td>Marc Nelson</td>\n",
              "      <td>67.0</td>\n",
              "      <td>27</td>\n",
              "      <td>16</td>\n",
              "    </tr>\n",
              "    <tr>\n",
              "      <th>2000-01-15</th>\n",
              "      <td>3</td>\n",
              "      <td>92</td>\n",
              "      <td>A Country Boy Can Survive (Y2K Version)</td>\n",
              "      <td>Chad Brock With Hank Williams Jr. &amp; George Jones</td>\n",
              "      <td>75.0</td>\n",
              "      <td>75</td>\n",
              "      <td>3</td>\n",
              "    </tr>\n",
              "    <tr>\n",
              "      <th>2000-01-15</th>\n",
              "      <td>3</td>\n",
              "      <td>94</td>\n",
              "      <td>Give You What You Want (Fa Sure)</td>\n",
              "      <td>Chico DeBarge</td>\n",
              "      <td>87.0</td>\n",
              "      <td>71</td>\n",
              "      <td>13</td>\n",
              "    </tr>\n",
              "    <tr>\n",
              "      <th>2000-01-08</th>\n",
              "      <td>2</td>\n",
              "      <td>91</td>\n",
              "      <td>Left &amp; Right</td>\n",
              "      <td>D'Angelo Featuring Method Man And Redman</td>\n",
              "      <td>70.0</td>\n",
              "      <td>70</td>\n",
              "      <td>5</td>\n",
              "    </tr>\n",
              "  </tbody>\n",
              "</table>\n",
              "<p>3672 rows × 7 columns</p>\n",
              "</div>\n",
              "      <button class=\"colab-df-convert\" onclick=\"convertToInteractive('df-40271c92-96e3-43fd-957c-7bb77d7f9565')\"\n",
              "              title=\"Convert this dataframe to an interactive table.\"\n",
              "              style=\"display:none;\">\n",
              "        \n",
              "  <svg xmlns=\"http://www.w3.org/2000/svg\" height=\"24px\"viewBox=\"0 0 24 24\"\n",
              "       width=\"24px\">\n",
              "    <path d=\"M0 0h24v24H0V0z\" fill=\"none\"/>\n",
              "    <path d=\"M18.56 5.44l.94 2.06.94-2.06 2.06-.94-2.06-.94-.94-2.06-.94 2.06-2.06.94zm-11 1L8.5 8.5l.94-2.06 2.06-.94-2.06-.94L8.5 2.5l-.94 2.06-2.06.94zm10 10l.94 2.06.94-2.06 2.06-.94-2.06-.94-.94-2.06-.94 2.06-2.06.94z\"/><path d=\"M17.41 7.96l-1.37-1.37c-.4-.4-.92-.59-1.43-.59-.52 0-1.04.2-1.43.59L10.3 9.45l-7.72 7.72c-.78.78-.78 2.05 0 2.83L4 21.41c.39.39.9.59 1.41.59.51 0 1.02-.2 1.41-.59l7.78-7.78 2.81-2.81c.8-.78.8-2.07 0-2.86zM5.41 20L4 18.59l7.72-7.72 1.47 1.35L5.41 20z\"/>\n",
              "  </svg>\n",
              "      </button>\n",
              "      \n",
              "  <style>\n",
              "    .colab-df-container {\n",
              "      display:flex;\n",
              "      flex-wrap:wrap;\n",
              "      gap: 12px;\n",
              "    }\n",
              "\n",
              "    .colab-df-convert {\n",
              "      background-color: #E8F0FE;\n",
              "      border: none;\n",
              "      border-radius: 50%;\n",
              "      cursor: pointer;\n",
              "      display: none;\n",
              "      fill: #1967D2;\n",
              "      height: 32px;\n",
              "      padding: 0 0 0 0;\n",
              "      width: 32px;\n",
              "    }\n",
              "\n",
              "    .colab-df-convert:hover {\n",
              "      background-color: #E2EBFA;\n",
              "      box-shadow: 0px 1px 2px rgba(60, 64, 67, 0.3), 0px 1px 3px 1px rgba(60, 64, 67, 0.15);\n",
              "      fill: #174EA6;\n",
              "    }\n",
              "\n",
              "    [theme=dark] .colab-df-convert {\n",
              "      background-color: #3B4455;\n",
              "      fill: #D2E3FC;\n",
              "    }\n",
              "\n",
              "    [theme=dark] .colab-df-convert:hover {\n",
              "      background-color: #434B5C;\n",
              "      box-shadow: 0px 1px 3px 1px rgba(0, 0, 0, 0.15);\n",
              "      filter: drop-shadow(0px 1px 2px rgba(0, 0, 0, 0.3));\n",
              "      fill: #FFFFFF;\n",
              "    }\n",
              "  </style>\n",
              "\n",
              "      <script>\n",
              "        const buttonEl =\n",
              "          document.querySelector('#df-40271c92-96e3-43fd-957c-7bb77d7f9565 button.colab-df-convert');\n",
              "        buttonEl.style.display =\n",
              "          google.colab.kernel.accessAllowed ? 'block' : 'none';\n",
              "\n",
              "        async function convertToInteractive(key) {\n",
              "          const element = document.querySelector('#df-40271c92-96e3-43fd-957c-7bb77d7f9565');\n",
              "          const dataTable =\n",
              "            await google.colab.kernel.invokeFunction('convertToInteractive',\n",
              "                                                     [key], {});\n",
              "          if (!dataTable) return;\n",
              "\n",
              "          const docLinkHtml = 'Like what you see? Visit the ' +\n",
              "            '<a target=\"_blank\" href=https://colab.research.google.com/notebooks/data_table.ipynb>data table notebook</a>'\n",
              "            + ' to learn more about interactive tables.';\n",
              "          element.innerHTML = '';\n",
              "          dataTable['output_type'] = 'display_data';\n",
              "          await google.colab.output.renderOutput(dataTable, element);\n",
              "          const docLink = document.createElement('div');\n",
              "          docLink.innerHTML = docLinkHtml;\n",
              "          element.appendChild(docLink);\n",
              "        }\n",
              "      </script>\n",
              "    </div>\n",
              "  </div>\n",
              "  "
            ]
          },
          "metadata": {},
          "execution_count": 8
        }
      ],
      "source": [
        "#date를 인덱스로 설정\n",
        "charts = charts.set_index('date')\n",
        "\n",
        "#기간에 맞는 행만 추출해 charts에 저장\n",
        "charts = charts['2019-12-31':'2000-01-01']\n",
        "\n",
        "#artist를 기준으로 중복되는 행 제거\n",
        "charts.drop_duplicates(['artist'])"
      ]
    },
    {
      "cell_type": "markdown",
      "source": [
        "**0-2) 데이터 분석에 사용할 변수만 추출: song, artist,rank**"
      ],
      "metadata": {
        "id": "GdD8bFABc4Fq"
      }
    },
    {
      "cell_type": "code",
      "source": [
        "#칼럼 추출하기\n",
        "charts = charts.loc[:,['song','artist','rank']]\n",
        "\n",
        "display(charts.head())"
      ],
      "metadata": {
        "colab": {
          "base_uri": "https://localhost:8080/",
          "height": 237
        },
        "id": "Qiklu1I2dGl1",
        "outputId": "db5de7ce-afd2-4044-e682-d4158c5fc027"
      },
      "execution_count": null,
      "outputs": [
        {
          "output_type": "display_data",
          "data": {
            "text/plain": [
              "                                         song          artist  rank\n",
              "date                                                               \n",
              "2019-12-28    All I Want For Christmas Is You    Mariah Carey     1\n",
              "2019-12-28  Rockin' Around The Christmas Tree      Brenda Lee     2\n",
              "2019-12-28                            Circles     Post Malone     3\n",
              "2019-12-28                            Roxanne  Arizona Zervas     4\n",
              "2019-12-28                Futsal Shuffle 2020    Lil Uzi Vert     5"
            ],
            "text/html": [
              "\n",
              "  <div id=\"df-7c111e49-1da2-471e-a035-ef7d441562c2\">\n",
              "    <div class=\"colab-df-container\">\n",
              "      <div>\n",
              "<style scoped>\n",
              "    .dataframe tbody tr th:only-of-type {\n",
              "        vertical-align: middle;\n",
              "    }\n",
              "\n",
              "    .dataframe tbody tr th {\n",
              "        vertical-align: top;\n",
              "    }\n",
              "\n",
              "    .dataframe thead th {\n",
              "        text-align: right;\n",
              "    }\n",
              "</style>\n",
              "<table border=\"1\" class=\"dataframe\">\n",
              "  <thead>\n",
              "    <tr style=\"text-align: right;\">\n",
              "      <th></th>\n",
              "      <th>song</th>\n",
              "      <th>artist</th>\n",
              "      <th>rank</th>\n",
              "    </tr>\n",
              "    <tr>\n",
              "      <th>date</th>\n",
              "      <th></th>\n",
              "      <th></th>\n",
              "      <th></th>\n",
              "    </tr>\n",
              "  </thead>\n",
              "  <tbody>\n",
              "    <tr>\n",
              "      <th>2019-12-28</th>\n",
              "      <td>All I Want For Christmas Is You</td>\n",
              "      <td>Mariah Carey</td>\n",
              "      <td>1</td>\n",
              "    </tr>\n",
              "    <tr>\n",
              "      <th>2019-12-28</th>\n",
              "      <td>Rockin' Around The Christmas Tree</td>\n",
              "      <td>Brenda Lee</td>\n",
              "      <td>2</td>\n",
              "    </tr>\n",
              "    <tr>\n",
              "      <th>2019-12-28</th>\n",
              "      <td>Circles</td>\n",
              "      <td>Post Malone</td>\n",
              "      <td>3</td>\n",
              "    </tr>\n",
              "    <tr>\n",
              "      <th>2019-12-28</th>\n",
              "      <td>Roxanne</td>\n",
              "      <td>Arizona Zervas</td>\n",
              "      <td>4</td>\n",
              "    </tr>\n",
              "    <tr>\n",
              "      <th>2019-12-28</th>\n",
              "      <td>Futsal Shuffle 2020</td>\n",
              "      <td>Lil Uzi Vert</td>\n",
              "      <td>5</td>\n",
              "    </tr>\n",
              "  </tbody>\n",
              "</table>\n",
              "</div>\n",
              "      <button class=\"colab-df-convert\" onclick=\"convertToInteractive('df-7c111e49-1da2-471e-a035-ef7d441562c2')\"\n",
              "              title=\"Convert this dataframe to an interactive table.\"\n",
              "              style=\"display:none;\">\n",
              "        \n",
              "  <svg xmlns=\"http://www.w3.org/2000/svg\" height=\"24px\"viewBox=\"0 0 24 24\"\n",
              "       width=\"24px\">\n",
              "    <path d=\"M0 0h24v24H0V0z\" fill=\"none\"/>\n",
              "    <path d=\"M18.56 5.44l.94 2.06.94-2.06 2.06-.94-2.06-.94-.94-2.06-.94 2.06-2.06.94zm-11 1L8.5 8.5l.94-2.06 2.06-.94-2.06-.94L8.5 2.5l-.94 2.06-2.06.94zm10 10l.94 2.06.94-2.06 2.06-.94-2.06-.94-.94-2.06-.94 2.06-2.06.94z\"/><path d=\"M17.41 7.96l-1.37-1.37c-.4-.4-.92-.59-1.43-.59-.52 0-1.04.2-1.43.59L10.3 9.45l-7.72 7.72c-.78.78-.78 2.05 0 2.83L4 21.41c.39.39.9.59 1.41.59.51 0 1.02-.2 1.41-.59l7.78-7.78 2.81-2.81c.8-.78.8-2.07 0-2.86zM5.41 20L4 18.59l7.72-7.72 1.47 1.35L5.41 20z\"/>\n",
              "  </svg>\n",
              "      </button>\n",
              "      \n",
              "  <style>\n",
              "    .colab-df-container {\n",
              "      display:flex;\n",
              "      flex-wrap:wrap;\n",
              "      gap: 12px;\n",
              "    }\n",
              "\n",
              "    .colab-df-convert {\n",
              "      background-color: #E8F0FE;\n",
              "      border: none;\n",
              "      border-radius: 50%;\n",
              "      cursor: pointer;\n",
              "      display: none;\n",
              "      fill: #1967D2;\n",
              "      height: 32px;\n",
              "      padding: 0 0 0 0;\n",
              "      width: 32px;\n",
              "    }\n",
              "\n",
              "    .colab-df-convert:hover {\n",
              "      background-color: #E2EBFA;\n",
              "      box-shadow: 0px 1px 2px rgba(60, 64, 67, 0.3), 0px 1px 3px 1px rgba(60, 64, 67, 0.15);\n",
              "      fill: #174EA6;\n",
              "    }\n",
              "\n",
              "    [theme=dark] .colab-df-convert {\n",
              "      background-color: #3B4455;\n",
              "      fill: #D2E3FC;\n",
              "    }\n",
              "\n",
              "    [theme=dark] .colab-df-convert:hover {\n",
              "      background-color: #434B5C;\n",
              "      box-shadow: 0px 1px 3px 1px rgba(0, 0, 0, 0.15);\n",
              "      filter: drop-shadow(0px 1px 2px rgba(0, 0, 0, 0.3));\n",
              "      fill: #FFFFFF;\n",
              "    }\n",
              "  </style>\n",
              "\n",
              "      <script>\n",
              "        const buttonEl =\n",
              "          document.querySelector('#df-7c111e49-1da2-471e-a035-ef7d441562c2 button.colab-df-convert');\n",
              "        buttonEl.style.display =\n",
              "          google.colab.kernel.accessAllowed ? 'block' : 'none';\n",
              "\n",
              "        async function convertToInteractive(key) {\n",
              "          const element = document.querySelector('#df-7c111e49-1da2-471e-a035-ef7d441562c2');\n",
              "          const dataTable =\n",
              "            await google.colab.kernel.invokeFunction('convertToInteractive',\n",
              "                                                     [key], {});\n",
              "          if (!dataTable) return;\n",
              "\n",
              "          const docLinkHtml = 'Like what you see? Visit the ' +\n",
              "            '<a target=\"_blank\" href=https://colab.research.google.com/notebooks/data_table.ipynb>data table notebook</a>'\n",
              "            + ' to learn more about interactive tables.';\n",
              "          element.innerHTML = '';\n",
              "          dataTable['output_type'] = 'display_data';\n",
              "          await google.colab.output.renderOutput(dataTable, element);\n",
              "          const docLink = document.createElement('div');\n",
              "          docLink.innerHTML = docLinkHtml;\n",
              "          element.appendChild(docLink);\n",
              "        }\n",
              "      </script>\n",
              "    </div>\n",
              "  </div>\n",
              "  "
            ]
          },
          "metadata": {}
        }
      ]
    },
    {
      "cell_type": "markdown",
      "source": [
        "### **데이터 전처리1.spotify_artist 데이터 만들기**\n",
        "\n",
        "feature_corel_100.csv는 12904명의 스포티파이 아티스트에 대한 통계적 정보를 보여준다. charts 데이터와 연결해 해당 아티스트가 2000~2019년 스포티파이 top100에 포함된 적이 있는 지를 판단하고자 한다.\n",
        "\n",
        "\n",
        "*   name: 아티스트명\n",
        "*   popularity: 아티스트 좋아요 수\n",
        "*   followers: 아티스트 팔로워 수\n",
        "*   num_release: 발매한 노래 수\n",
        "*   pop_mean:발매한 노래의 좋아요 수 평균\n",
        "*   fol_mean:?\n",
        "*   rel_mean:?\n",
        "\n"
      ],
      "metadata": {
        "id": "e4bu7pLwdWOP"
      }
    },
    {
      "cell_type": "code",
      "source": [
        "#feature_corel_100.csv파일 불러오기\n",
        "feature = pd.read_csv(\"/content/drive/My Drive/Colab Notebooks/Bigmining/feature_corel_100.csv\")"
      ],
      "metadata": {
        "id": "-GnGlaZme140"
      },
      "execution_count": null,
      "outputs": []
    },
    {
      "cell_type": "code",
      "execution_count": null,
      "metadata": {
        "id": "BYgmk6pWo6OG",
        "colab": {
          "base_uri": "https://localhost:8080/"
        },
        "outputId": "9fa5e11a-3f00-432d-d811-41e08e62ed48"
      },
      "outputs": [
        {
          "output_type": "stream",
          "name": "stdout",
          "text": [
            "            id                name  isdone               spotifyid  \\\n",
            "0       600808               Drake    True  3TVXtAsR1Inumwj472S9r4   \n",
            "1       706819          Ed Sheeran    True  6eUKZXaKkcviH0Ku9w2n3V   \n",
            "2       823336       Ariana Grande    True  66CXWjxzNUsdJxJ2JdwvnR   \n",
            "3      1492430           Bad Bunny    True  4q3ewBCX7sLwd24euuV69X   \n",
            "4       796889          The Weeknd    True  1Xyo4u8uXC1ZmMpatF05PJ   \n",
            "...        ...                 ...     ...                     ...   \n",
            "12900  1418260          Unreqvited    True  1ZYRTJCj869ya07OpEAlGR   \n",
            "12901   844823  Show Me a Dinosaur    True  1wou9vWv5PgrTn3pu3TydQ   \n",
            "12902  1796328              Flovry    True  2pLu3Ut2C3RviYZ3xUanBs   \n",
            "12903   121805            The Bled    True  0EvGuw8fuWFtxhAsBOFTin   \n",
            "12904    11473          Primordial    True  0BZr6WHaejNA63uhZZZZek   \n",
            "\n",
            "                                                  genres  popularity  \\\n",
            "0      ['canadian hip hop', 'canadian pop', 'hip hop'...        98.0   \n",
            "1                                      ['pop', 'uk pop']        95.0   \n",
            "2                                   ['dance pop', 'pop']        93.0   \n",
            "3                  ['latin', 'reggaeton', 'trap latino']       100.0   \n",
            "4      ['canadian contemporary r&b', 'canadian pop', ...        98.0   \n",
            "...                                                  ...         ...   \n",
            "12900  ['atmospheric black metal', 'canadian black me...        32.0   \n",
            "12901  ['instrumental post-rock', 'post-rock', 'russi...        31.0   \n",
            "12902                                    ['lo-fi beats']        53.0   \n",
            "12903  ['arizona punk', 'melodic metalcore', 'post-ha...        32.0   \n",
            "12904  ['black metal', 'celtic metal', 'doom metal', ...        37.0   \n",
            "\n",
            "        followers                                          histogram  \\\n",
            "0      61377383.0  [0, 1, 1, 1, 1, 6, 6, 6, 6, 6, 6, 9, 9, 10, 10...   \n",
            "1      93327682.0  [0, 1, 1, 1, 1, 1, 1, 1, 2, 2, 3, 4, 4, 4, 4, ...   \n",
            "2      76626333.0  [0, 1, 1, 1, 1, 1, 1, 1, 1, 1, 2, 2, 9, 9, 9, ...   \n",
            "3      44516743.0  [0, 1, 1, 2, 4, 4, 5, 5, 6, 7, 8, 8, 8, 9, 9, ...   \n",
            "4      42275433.0  [0, 5, 5, 6, 6, 6, 6, 7, 7, 7, 8, 26, 26, 26, ...   \n",
            "...           ...                                                ...   \n",
            "12900     20071.0  [0, 1, 1, 1, 1, 1, 1, 1, 1, 1, 1, 1, 1, 1, 1, ...   \n",
            "12901     10235.0  [0, 0, 0, 0, 0, 0, 0, 0, 0, 0, 0, 0, 0, 0, 0, ...   \n",
            "12902      7478.0  [0, 0, 0, 0, 0, 0, 0, 0, 0, 0, 0, 0, 0, 0, 0, ...   \n",
            "12903     33531.0  [0, 1, 1, 1, 1, 1, 1, 1, 1, 1, 1, 1, 2, 2, 2, ...   \n",
            "12904     64127.0  [0, 1, 1, 1, 1, 1, 1, 1, 1, 1, 1, 1, 1, 1, 1, ...   \n",
            "\n",
            "       num_release first_release  ...     pop_var  pop_max      fol_mean  \\\n",
            "0              124    2008-06-12  ...  109.819865    100.0  1.100285e+07   \n",
            "1               34    2011-07-11  ...  117.177296     98.0  1.472265e+07   \n",
            "2               94    2011-12-12  ...  165.627500     98.0  1.000831e+07   \n",
            "3               30    2016-11-09  ...  266.004898     98.0  8.425305e+06   \n",
            "4              108    2011-01-01  ...  191.923469     98.0  1.363645e+07   \n",
            "...            ...           ...  ...         ...      ...           ...   \n",
            "12900            3    2017-05-20  ...    6.250000     36.0  1.870100e+04   \n",
            "12901            1    2017-05-20  ...    4.000000     36.0  2.361900e+04   \n",
            "12902            1    2019-11-26  ...    0.000000     62.0  5.242000e+03   \n",
            "12903            7    2001-01-01  ...    0.000000     56.0  3.298930e+05   \n",
            "12904            9    2000-01-01  ...    0.000000     53.0  2.853120e+05   \n",
            "\n",
            "            fol_std       fol_var     fol_max   rel_mean    rel_std  \\\n",
            "0      1.434559e+07  2.057958e+14  57338230.0  53.075472  50.238994   \n",
            "1      1.730608e+07  2.995005e+14  57338230.0  44.035714  54.543221   \n",
            "2      1.214947e+07  1.476096e+14  57338230.0  51.900000  45.408039   \n",
            "3      1.087911e+07  1.183549e+14  61377383.0  23.142857  30.127958   \n",
            "4      1.757874e+07  3.090122e+14  76626333.0  53.178571  36.640194   \n",
            "...             ...           ...         ...        ...        ...   \n",
            "12900  8.466000e+03  7.167316e+07     27167.0   3.500000   2.500000   \n",
            "12901  3.548000e+03  1.258830e+07     27167.0   4.500000   1.500000   \n",
            "12902  0.000000e+00  0.000000e+00      5242.0   2.000000   0.000000   \n",
            "12903  0.000000e+00  0.000000e+00    329893.0   8.000000   0.000000   \n",
            "12904  0.000000e+00  0.000000e+00    285312.0  11.000000   0.000000   \n",
            "\n",
            "           rel_var  rel_max  \n",
            "0      2523.956568    191.0  \n",
            "1      2974.963010    226.0  \n",
            "2      2061.890000    181.0  \n",
            "3       907.693878    181.0  \n",
            "4      1342.503827    151.0  \n",
            "...            ...      ...  \n",
            "12900     6.250000      6.0  \n",
            "12901     2.250000      6.0  \n",
            "12902     0.000000      2.0  \n",
            "12903     0.000000      8.0  \n",
            "12904     0.000000     11.0  \n",
            "\n",
            "[12905 rows x 26 columns]\n"
          ]
        }
      ],
      "source": [
        "#데이터 확인\n",
        "print(feature)"
      ]
    },
    {
      "cell_type": "markdown",
      "source": [
        "**1-1) 데이터 분석에 사용할 변수만 추출: name, popularity, followers, num_release, pop_mean, fol_mean, rel_mean**"
      ],
      "metadata": {
        "id": "uZplIxHCfFjH"
      }
    },
    {
      "cell_type": "code",
      "execution_count": null,
      "metadata": {
        "id": "OBxYWi_YpRyn"
      },
      "outputs": [],
      "source": [
        "feature = feature.loc[:,['name','popularity','followers','num_release','pop_mean','rel_mean','fol_mean']]"
      ]
    },
    {
      "cell_type": "markdown",
      "source": [
        "**1-2) 변수명 바꾸기**"
      ],
      "metadata": {
        "id": "ne_sOH0XgeO4"
      }
    },
    {
      "cell_type": "code",
      "execution_count": null,
      "metadata": {
        "id": "CbrVTvHiq5-q",
        "colab": {
          "base_uri": "https://localhost:8080/",
          "height": 206
        },
        "outputId": "95dd4196-b75b-48ac-fe4d-6e309d9b17a9"
      },
      "outputs": [
        {
          "output_type": "display_data",
          "data": {
            "text/plain": [
              "          artist  popularity   followers  num_release   pop_mean   rel_mean  \\\n",
              "0          Drake        98.0  61377383.0          124  81.377358  53.075472   \n",
              "1     Ed Sheeran        95.0  93327682.0           34  80.035714  44.035714   \n",
              "2  Ariana Grande        93.0  76626333.0           94  77.650000  51.900000   \n",
              "3      Bad Bunny       100.0  44516743.0           30  75.628571  23.142857   \n",
              "4     The Weeknd        98.0  42275433.0          108  81.928571  53.178571   \n",
              "\n",
              "       fol_mean  \n",
              "0  1.100285e+07  \n",
              "1  1.472265e+07  \n",
              "2  1.000831e+07  \n",
              "3  8.425305e+06  \n",
              "4  1.363645e+07  "
            ],
            "text/html": [
              "\n",
              "  <div id=\"df-f812f4ef-d0b6-4a02-887a-58036cf46a21\">\n",
              "    <div class=\"colab-df-container\">\n",
              "      <div>\n",
              "<style scoped>\n",
              "    .dataframe tbody tr th:only-of-type {\n",
              "        vertical-align: middle;\n",
              "    }\n",
              "\n",
              "    .dataframe tbody tr th {\n",
              "        vertical-align: top;\n",
              "    }\n",
              "\n",
              "    .dataframe thead th {\n",
              "        text-align: right;\n",
              "    }\n",
              "</style>\n",
              "<table border=\"1\" class=\"dataframe\">\n",
              "  <thead>\n",
              "    <tr style=\"text-align: right;\">\n",
              "      <th></th>\n",
              "      <th>artist</th>\n",
              "      <th>popularity</th>\n",
              "      <th>followers</th>\n",
              "      <th>num_release</th>\n",
              "      <th>pop_mean</th>\n",
              "      <th>rel_mean</th>\n",
              "      <th>fol_mean</th>\n",
              "    </tr>\n",
              "  </thead>\n",
              "  <tbody>\n",
              "    <tr>\n",
              "      <th>0</th>\n",
              "      <td>Drake</td>\n",
              "      <td>98.0</td>\n",
              "      <td>61377383.0</td>\n",
              "      <td>124</td>\n",
              "      <td>81.377358</td>\n",
              "      <td>53.075472</td>\n",
              "      <td>1.100285e+07</td>\n",
              "    </tr>\n",
              "    <tr>\n",
              "      <th>1</th>\n",
              "      <td>Ed Sheeran</td>\n",
              "      <td>95.0</td>\n",
              "      <td>93327682.0</td>\n",
              "      <td>34</td>\n",
              "      <td>80.035714</td>\n",
              "      <td>44.035714</td>\n",
              "      <td>1.472265e+07</td>\n",
              "    </tr>\n",
              "    <tr>\n",
              "      <th>2</th>\n",
              "      <td>Ariana Grande</td>\n",
              "      <td>93.0</td>\n",
              "      <td>76626333.0</td>\n",
              "      <td>94</td>\n",
              "      <td>77.650000</td>\n",
              "      <td>51.900000</td>\n",
              "      <td>1.000831e+07</td>\n",
              "    </tr>\n",
              "    <tr>\n",
              "      <th>3</th>\n",
              "      <td>Bad Bunny</td>\n",
              "      <td>100.0</td>\n",
              "      <td>44516743.0</td>\n",
              "      <td>30</td>\n",
              "      <td>75.628571</td>\n",
              "      <td>23.142857</td>\n",
              "      <td>8.425305e+06</td>\n",
              "    </tr>\n",
              "    <tr>\n",
              "      <th>4</th>\n",
              "      <td>The Weeknd</td>\n",
              "      <td>98.0</td>\n",
              "      <td>42275433.0</td>\n",
              "      <td>108</td>\n",
              "      <td>81.928571</td>\n",
              "      <td>53.178571</td>\n",
              "      <td>1.363645e+07</td>\n",
              "    </tr>\n",
              "  </tbody>\n",
              "</table>\n",
              "</div>\n",
              "      <button class=\"colab-df-convert\" onclick=\"convertToInteractive('df-f812f4ef-d0b6-4a02-887a-58036cf46a21')\"\n",
              "              title=\"Convert this dataframe to an interactive table.\"\n",
              "              style=\"display:none;\">\n",
              "        \n",
              "  <svg xmlns=\"http://www.w3.org/2000/svg\" height=\"24px\"viewBox=\"0 0 24 24\"\n",
              "       width=\"24px\">\n",
              "    <path d=\"M0 0h24v24H0V0z\" fill=\"none\"/>\n",
              "    <path d=\"M18.56 5.44l.94 2.06.94-2.06 2.06-.94-2.06-.94-.94-2.06-.94 2.06-2.06.94zm-11 1L8.5 8.5l.94-2.06 2.06-.94-2.06-.94L8.5 2.5l-.94 2.06-2.06.94zm10 10l.94 2.06.94-2.06 2.06-.94-2.06-.94-.94-2.06-.94 2.06-2.06.94z\"/><path d=\"M17.41 7.96l-1.37-1.37c-.4-.4-.92-.59-1.43-.59-.52 0-1.04.2-1.43.59L10.3 9.45l-7.72 7.72c-.78.78-.78 2.05 0 2.83L4 21.41c.39.39.9.59 1.41.59.51 0 1.02-.2 1.41-.59l7.78-7.78 2.81-2.81c.8-.78.8-2.07 0-2.86zM5.41 20L4 18.59l7.72-7.72 1.47 1.35L5.41 20z\"/>\n",
              "  </svg>\n",
              "      </button>\n",
              "      \n",
              "  <style>\n",
              "    .colab-df-container {\n",
              "      display:flex;\n",
              "      flex-wrap:wrap;\n",
              "      gap: 12px;\n",
              "    }\n",
              "\n",
              "    .colab-df-convert {\n",
              "      background-color: #E8F0FE;\n",
              "      border: none;\n",
              "      border-radius: 50%;\n",
              "      cursor: pointer;\n",
              "      display: none;\n",
              "      fill: #1967D2;\n",
              "      height: 32px;\n",
              "      padding: 0 0 0 0;\n",
              "      width: 32px;\n",
              "    }\n",
              "\n",
              "    .colab-df-convert:hover {\n",
              "      background-color: #E2EBFA;\n",
              "      box-shadow: 0px 1px 2px rgba(60, 64, 67, 0.3), 0px 1px 3px 1px rgba(60, 64, 67, 0.15);\n",
              "      fill: #174EA6;\n",
              "    }\n",
              "\n",
              "    [theme=dark] .colab-df-convert {\n",
              "      background-color: #3B4455;\n",
              "      fill: #D2E3FC;\n",
              "    }\n",
              "\n",
              "    [theme=dark] .colab-df-convert:hover {\n",
              "      background-color: #434B5C;\n",
              "      box-shadow: 0px 1px 3px 1px rgba(0, 0, 0, 0.15);\n",
              "      filter: drop-shadow(0px 1px 2px rgba(0, 0, 0, 0.3));\n",
              "      fill: #FFFFFF;\n",
              "    }\n",
              "  </style>\n",
              "\n",
              "      <script>\n",
              "        const buttonEl =\n",
              "          document.querySelector('#df-f812f4ef-d0b6-4a02-887a-58036cf46a21 button.colab-df-convert');\n",
              "        buttonEl.style.display =\n",
              "          google.colab.kernel.accessAllowed ? 'block' : 'none';\n",
              "\n",
              "        async function convertToInteractive(key) {\n",
              "          const element = document.querySelector('#df-f812f4ef-d0b6-4a02-887a-58036cf46a21');\n",
              "          const dataTable =\n",
              "            await google.colab.kernel.invokeFunction('convertToInteractive',\n",
              "                                                     [key], {});\n",
              "          if (!dataTable) return;\n",
              "\n",
              "          const docLinkHtml = 'Like what you see? Visit the ' +\n",
              "            '<a target=\"_blank\" href=https://colab.research.google.com/notebooks/data_table.ipynb>data table notebook</a>'\n",
              "            + ' to learn more about interactive tables.';\n",
              "          element.innerHTML = '';\n",
              "          dataTable['output_type'] = 'display_data';\n",
              "          await google.colab.output.renderOutput(dataTable, element);\n",
              "          const docLink = document.createElement('div');\n",
              "          docLink.innerHTML = docLinkHtml;\n",
              "          element.appendChild(docLink);\n",
              "        }\n",
              "      </script>\n",
              "    </div>\n",
              "  </div>\n",
              "  "
            ]
          },
          "metadata": {}
        }
      ],
      "source": [
        "#name을 artist로 변수명 바꾸기\n",
        "feature.rename(columns = {'name':'artist'},inplace=True)\n",
        "display(feature.head())"
      ]
    },
    {
      "cell_type": "markdown",
      "source": [
        "**1-3) charts와 feature를 합친 새로운 데이터프레임 spotify_artist 만들기**\n"
      ],
      "metadata": {
        "id": "qYLXxBA2gq5T"
      }
    },
    {
      "cell_type": "code",
      "execution_count": null,
      "metadata": {
        "id": "OiOrpVfNqz29",
        "colab": {
          "base_uri": "https://localhost:8080/",
          "height": 424
        },
        "outputId": "23e505fb-397a-4959-d569-8d3ffe529e0d"
      },
      "outputs": [
        {
          "output_type": "display_data",
          "data": {
            "text/plain": [
              "                   artist  popularity   followers  num_release   pop_mean  \\\n",
              "0                   Drake        98.0  61377383.0          124  81.377358   \n",
              "1                   Drake        98.0  61377383.0          124  81.377358   \n",
              "2                   Drake        98.0  61377383.0          124  81.377358   \n",
              "3                   Drake        98.0  61377383.0          124  81.377358   \n",
              "4                   Drake        98.0  61377383.0          124  81.377358   \n",
              "...                   ...         ...         ...          ...        ...   \n",
              "66395          Unreqvited        32.0     20071.0            3  33.500000   \n",
              "66396  Show Me a Dinosaur        31.0     10235.0            1  34.000000   \n",
              "66397              Flovry        53.0      7478.0            1  62.000000   \n",
              "66398            The Bled        32.0     33531.0            7  56.000000   \n",
              "66399          Primordial        37.0     64127.0            9  53.000000   \n",
              "\n",
              "        rel_mean      fol_mean           song  rank  \n",
              "0      53.075472  1.100285e+07    Behind Barz  83.0  \n",
              "1      53.075472  1.100285e+07    Behind Barz  75.0  \n",
              "2      53.075472  1.100285e+07   Trust Issues  58.0  \n",
              "3      53.075472  1.100285e+07  How About Now  60.0  \n",
              "4      53.075472  1.100285e+07     The Motion  61.0  \n",
              "...          ...           ...            ...   ...  \n",
              "66395   3.500000  1.870100e+04            NaN   NaN  \n",
              "66396   4.500000  2.361900e+04            NaN   NaN  \n",
              "66397   2.000000  5.242000e+03            NaN   NaN  \n",
              "66398   8.000000  3.298930e+05            NaN   NaN  \n",
              "66399  11.000000  2.853120e+05            NaN   NaN  \n",
              "\n",
              "[66400 rows x 9 columns]"
            ],
            "text/html": [
              "\n",
              "  <div id=\"df-0e6a8f34-5b98-41ba-90ed-fa9698f7a6e2\">\n",
              "    <div class=\"colab-df-container\">\n",
              "      <div>\n",
              "<style scoped>\n",
              "    .dataframe tbody tr th:only-of-type {\n",
              "        vertical-align: middle;\n",
              "    }\n",
              "\n",
              "    .dataframe tbody tr th {\n",
              "        vertical-align: top;\n",
              "    }\n",
              "\n",
              "    .dataframe thead th {\n",
              "        text-align: right;\n",
              "    }\n",
              "</style>\n",
              "<table border=\"1\" class=\"dataframe\">\n",
              "  <thead>\n",
              "    <tr style=\"text-align: right;\">\n",
              "      <th></th>\n",
              "      <th>artist</th>\n",
              "      <th>popularity</th>\n",
              "      <th>followers</th>\n",
              "      <th>num_release</th>\n",
              "      <th>pop_mean</th>\n",
              "      <th>rel_mean</th>\n",
              "      <th>fol_mean</th>\n",
              "      <th>song</th>\n",
              "      <th>rank</th>\n",
              "    </tr>\n",
              "  </thead>\n",
              "  <tbody>\n",
              "    <tr>\n",
              "      <th>0</th>\n",
              "      <td>Drake</td>\n",
              "      <td>98.0</td>\n",
              "      <td>61377383.0</td>\n",
              "      <td>124</td>\n",
              "      <td>81.377358</td>\n",
              "      <td>53.075472</td>\n",
              "      <td>1.100285e+07</td>\n",
              "      <td>Behind Barz</td>\n",
              "      <td>83.0</td>\n",
              "    </tr>\n",
              "    <tr>\n",
              "      <th>1</th>\n",
              "      <td>Drake</td>\n",
              "      <td>98.0</td>\n",
              "      <td>61377383.0</td>\n",
              "      <td>124</td>\n",
              "      <td>81.377358</td>\n",
              "      <td>53.075472</td>\n",
              "      <td>1.100285e+07</td>\n",
              "      <td>Behind Barz</td>\n",
              "      <td>75.0</td>\n",
              "    </tr>\n",
              "    <tr>\n",
              "      <th>2</th>\n",
              "      <td>Drake</td>\n",
              "      <td>98.0</td>\n",
              "      <td>61377383.0</td>\n",
              "      <td>124</td>\n",
              "      <td>81.377358</td>\n",
              "      <td>53.075472</td>\n",
              "      <td>1.100285e+07</td>\n",
              "      <td>Trust Issues</td>\n",
              "      <td>58.0</td>\n",
              "    </tr>\n",
              "    <tr>\n",
              "      <th>3</th>\n",
              "      <td>Drake</td>\n",
              "      <td>98.0</td>\n",
              "      <td>61377383.0</td>\n",
              "      <td>124</td>\n",
              "      <td>81.377358</td>\n",
              "      <td>53.075472</td>\n",
              "      <td>1.100285e+07</td>\n",
              "      <td>How About Now</td>\n",
              "      <td>60.0</td>\n",
              "    </tr>\n",
              "    <tr>\n",
              "      <th>4</th>\n",
              "      <td>Drake</td>\n",
              "      <td>98.0</td>\n",
              "      <td>61377383.0</td>\n",
              "      <td>124</td>\n",
              "      <td>81.377358</td>\n",
              "      <td>53.075472</td>\n",
              "      <td>1.100285e+07</td>\n",
              "      <td>The Motion</td>\n",
              "      <td>61.0</td>\n",
              "    </tr>\n",
              "    <tr>\n",
              "      <th>...</th>\n",
              "      <td>...</td>\n",
              "      <td>...</td>\n",
              "      <td>...</td>\n",
              "      <td>...</td>\n",
              "      <td>...</td>\n",
              "      <td>...</td>\n",
              "      <td>...</td>\n",
              "      <td>...</td>\n",
              "      <td>...</td>\n",
              "    </tr>\n",
              "    <tr>\n",
              "      <th>66395</th>\n",
              "      <td>Unreqvited</td>\n",
              "      <td>32.0</td>\n",
              "      <td>20071.0</td>\n",
              "      <td>3</td>\n",
              "      <td>33.500000</td>\n",
              "      <td>3.500000</td>\n",
              "      <td>1.870100e+04</td>\n",
              "      <td>NaN</td>\n",
              "      <td>NaN</td>\n",
              "    </tr>\n",
              "    <tr>\n",
              "      <th>66396</th>\n",
              "      <td>Show Me a Dinosaur</td>\n",
              "      <td>31.0</td>\n",
              "      <td>10235.0</td>\n",
              "      <td>1</td>\n",
              "      <td>34.000000</td>\n",
              "      <td>4.500000</td>\n",
              "      <td>2.361900e+04</td>\n",
              "      <td>NaN</td>\n",
              "      <td>NaN</td>\n",
              "    </tr>\n",
              "    <tr>\n",
              "      <th>66397</th>\n",
              "      <td>Flovry</td>\n",
              "      <td>53.0</td>\n",
              "      <td>7478.0</td>\n",
              "      <td>1</td>\n",
              "      <td>62.000000</td>\n",
              "      <td>2.000000</td>\n",
              "      <td>5.242000e+03</td>\n",
              "      <td>NaN</td>\n",
              "      <td>NaN</td>\n",
              "    </tr>\n",
              "    <tr>\n",
              "      <th>66398</th>\n",
              "      <td>The Bled</td>\n",
              "      <td>32.0</td>\n",
              "      <td>33531.0</td>\n",
              "      <td>7</td>\n",
              "      <td>56.000000</td>\n",
              "      <td>8.000000</td>\n",
              "      <td>3.298930e+05</td>\n",
              "      <td>NaN</td>\n",
              "      <td>NaN</td>\n",
              "    </tr>\n",
              "    <tr>\n",
              "      <th>66399</th>\n",
              "      <td>Primordial</td>\n",
              "      <td>37.0</td>\n",
              "      <td>64127.0</td>\n",
              "      <td>9</td>\n",
              "      <td>53.000000</td>\n",
              "      <td>11.000000</td>\n",
              "      <td>2.853120e+05</td>\n",
              "      <td>NaN</td>\n",
              "      <td>NaN</td>\n",
              "    </tr>\n",
              "  </tbody>\n",
              "</table>\n",
              "<p>66400 rows × 9 columns</p>\n",
              "</div>\n",
              "      <button class=\"colab-df-convert\" onclick=\"convertToInteractive('df-0e6a8f34-5b98-41ba-90ed-fa9698f7a6e2')\"\n",
              "              title=\"Convert this dataframe to an interactive table.\"\n",
              "              style=\"display:none;\">\n",
              "        \n",
              "  <svg xmlns=\"http://www.w3.org/2000/svg\" height=\"24px\"viewBox=\"0 0 24 24\"\n",
              "       width=\"24px\">\n",
              "    <path d=\"M0 0h24v24H0V0z\" fill=\"none\"/>\n",
              "    <path d=\"M18.56 5.44l.94 2.06.94-2.06 2.06-.94-2.06-.94-.94-2.06-.94 2.06-2.06.94zm-11 1L8.5 8.5l.94-2.06 2.06-.94-2.06-.94L8.5 2.5l-.94 2.06-2.06.94zm10 10l.94 2.06.94-2.06 2.06-.94-2.06-.94-.94-2.06-.94 2.06-2.06.94z\"/><path d=\"M17.41 7.96l-1.37-1.37c-.4-.4-.92-.59-1.43-.59-.52 0-1.04.2-1.43.59L10.3 9.45l-7.72 7.72c-.78.78-.78 2.05 0 2.83L4 21.41c.39.39.9.59 1.41.59.51 0 1.02-.2 1.41-.59l7.78-7.78 2.81-2.81c.8-.78.8-2.07 0-2.86zM5.41 20L4 18.59l7.72-7.72 1.47 1.35L5.41 20z\"/>\n",
              "  </svg>\n",
              "      </button>\n",
              "      \n",
              "  <style>\n",
              "    .colab-df-container {\n",
              "      display:flex;\n",
              "      flex-wrap:wrap;\n",
              "      gap: 12px;\n",
              "    }\n",
              "\n",
              "    .colab-df-convert {\n",
              "      background-color: #E8F0FE;\n",
              "      border: none;\n",
              "      border-radius: 50%;\n",
              "      cursor: pointer;\n",
              "      display: none;\n",
              "      fill: #1967D2;\n",
              "      height: 32px;\n",
              "      padding: 0 0 0 0;\n",
              "      width: 32px;\n",
              "    }\n",
              "\n",
              "    .colab-df-convert:hover {\n",
              "      background-color: #E2EBFA;\n",
              "      box-shadow: 0px 1px 2px rgba(60, 64, 67, 0.3), 0px 1px 3px 1px rgba(60, 64, 67, 0.15);\n",
              "      fill: #174EA6;\n",
              "    }\n",
              "\n",
              "    [theme=dark] .colab-df-convert {\n",
              "      background-color: #3B4455;\n",
              "      fill: #D2E3FC;\n",
              "    }\n",
              "\n",
              "    [theme=dark] .colab-df-convert:hover {\n",
              "      background-color: #434B5C;\n",
              "      box-shadow: 0px 1px 3px 1px rgba(0, 0, 0, 0.15);\n",
              "      filter: drop-shadow(0px 1px 2px rgba(0, 0, 0, 0.3));\n",
              "      fill: #FFFFFF;\n",
              "    }\n",
              "  </style>\n",
              "\n",
              "      <script>\n",
              "        const buttonEl =\n",
              "          document.querySelector('#df-0e6a8f34-5b98-41ba-90ed-fa9698f7a6e2 button.colab-df-convert');\n",
              "        buttonEl.style.display =\n",
              "          google.colab.kernel.accessAllowed ? 'block' : 'none';\n",
              "\n",
              "        async function convertToInteractive(key) {\n",
              "          const element = document.querySelector('#df-0e6a8f34-5b98-41ba-90ed-fa9698f7a6e2');\n",
              "          const dataTable =\n",
              "            await google.colab.kernel.invokeFunction('convertToInteractive',\n",
              "                                                     [key], {});\n",
              "          if (!dataTable) return;\n",
              "\n",
              "          const docLinkHtml = 'Like what you see? Visit the ' +\n",
              "            '<a target=\"_blank\" href=https://colab.research.google.com/notebooks/data_table.ipynb>data table notebook</a>'\n",
              "            + ' to learn more about interactive tables.';\n",
              "          element.innerHTML = '';\n",
              "          dataTable['output_type'] = 'display_data';\n",
              "          await google.colab.output.renderOutput(dataTable, element);\n",
              "          const docLink = document.createElement('div');\n",
              "          docLink.innerHTML = docLinkHtml;\n",
              "          element.appendChild(docLink);\n",
              "        }\n",
              "      </script>\n",
              "    </div>\n",
              "  </div>\n",
              "  "
            ]
          },
          "metadata": {}
        }
      ],
      "source": [
        "#charts 데이터 복사하기\n",
        "charts_1 = charts.copy()\n",
        "\n",
        "#artist를 기준으로 데이터 합치기\n",
        "spotify_artist = pd.merge(feature,charts_1,how='left',on='artist')\n",
        "display(spotify_artist)"
      ]
    },
    {
      "cell_type": "markdown",
      "source": [
        "**1-4) spotify_artist 전처리: 새로운 변수 top-100 만들기**\n",
        "\n"
      ],
      "metadata": {
        "id": "A3eXB-4VinSO"
      }
    },
    {
      "cell_type": "code",
      "source": [
        "#새로운 열 추가\n",
        "spotify_artist[\"top100\"]=spotify_artist[\"rank\"]\n",
        "\n",
        "#조건에 맞는 값을 칼럼에 추가\n",
        "spotify_artist['top100']=spotify_artist['top100'].fillna(\"No\")\n",
        "spotify_artist.loc[(spotify_artist['top100']!=\"No\"),'top100']=\"Yes\"\n"
      ],
      "metadata": {
        "id": "nJFxDhKxhXz4"
      },
      "execution_count": null,
      "outputs": []
    },
    {
      "cell_type": "markdown",
      "source": [
        "**1-5) spotify_artist 전처리: 불필요한 변수와 중복되는 행 제거**\n",
        "\n"
      ],
      "metadata": {
        "id": "01_ZvKpRjgO1"
      }
    },
    {
      "cell_type": "code",
      "source": [
        "#불필요한 변수 제거\n",
        "spotify_artist = spotify_artist.drop(columns = ['song','rank'],axis=0)\n",
        "\n",
        "#artist를 기준으로 중복되는 행 제거\n",
        "spotify_artist.drop_duplicates(['artist'])"
      ],
      "metadata": {
        "colab": {
          "base_uri": "https://localhost:8080/",
          "height": 424
        },
        "id": "x1MkCJOCjnUc",
        "outputId": "bb9594cb-a173-4b5e-f866-0b37c319e884"
      },
      "execution_count": null,
      "outputs": [
        {
          "output_type": "execute_result",
          "data": {
            "text/plain": [
              "                   artist  popularity   followers  num_release   pop_mean  \\\n",
              "0                   Drake        98.0  61377383.0          124  81.377358   \n",
              "707            Ed Sheeran        95.0  93327682.0           34  80.035714   \n",
              "1068        Ariana Grande        93.0  76626333.0           94  77.650000   \n",
              "1345            Bad Bunny       100.0  44516743.0           30  75.628571   \n",
              "1350           The Weeknd        98.0  42275433.0          108  81.928571   \n",
              "...                   ...         ...         ...          ...        ...   \n",
              "66395          Unreqvited        32.0     20071.0            3  33.500000   \n",
              "66396  Show Me a Dinosaur        31.0     10235.0            1  34.000000   \n",
              "66397              Flovry        53.0      7478.0            1  62.000000   \n",
              "66398            The Bled        32.0     33531.0            7  56.000000   \n",
              "66399          Primordial        37.0     64127.0            9  53.000000   \n",
              "\n",
              "        rel_mean      fol_mean top100  \n",
              "0      53.075472  1.100285e+07    Yes  \n",
              "707    44.035714  1.472265e+07    Yes  \n",
              "1068   51.900000  1.000831e+07    Yes  \n",
              "1345   23.142857  8.425305e+06    Yes  \n",
              "1350   53.178571  1.363645e+07    Yes  \n",
              "...          ...           ...    ...  \n",
              "66395   3.500000  1.870100e+04     No  \n",
              "66396   4.500000  2.361900e+04     No  \n",
              "66397   2.000000  5.242000e+03     No  \n",
              "66398   8.000000  3.298930e+05     No  \n",
              "66399  11.000000  2.853120e+05     No  \n",
              "\n",
              "[12883 rows x 8 columns]"
            ],
            "text/html": [
              "\n",
              "  <div id=\"df-f8220ccb-7d03-453c-818c-0df8784bbf3d\">\n",
              "    <div class=\"colab-df-container\">\n",
              "      <div>\n",
              "<style scoped>\n",
              "    .dataframe tbody tr th:only-of-type {\n",
              "        vertical-align: middle;\n",
              "    }\n",
              "\n",
              "    .dataframe tbody tr th {\n",
              "        vertical-align: top;\n",
              "    }\n",
              "\n",
              "    .dataframe thead th {\n",
              "        text-align: right;\n",
              "    }\n",
              "</style>\n",
              "<table border=\"1\" class=\"dataframe\">\n",
              "  <thead>\n",
              "    <tr style=\"text-align: right;\">\n",
              "      <th></th>\n",
              "      <th>artist</th>\n",
              "      <th>popularity</th>\n",
              "      <th>followers</th>\n",
              "      <th>num_release</th>\n",
              "      <th>pop_mean</th>\n",
              "      <th>rel_mean</th>\n",
              "      <th>fol_mean</th>\n",
              "      <th>top100</th>\n",
              "    </tr>\n",
              "  </thead>\n",
              "  <tbody>\n",
              "    <tr>\n",
              "      <th>0</th>\n",
              "      <td>Drake</td>\n",
              "      <td>98.0</td>\n",
              "      <td>61377383.0</td>\n",
              "      <td>124</td>\n",
              "      <td>81.377358</td>\n",
              "      <td>53.075472</td>\n",
              "      <td>1.100285e+07</td>\n",
              "      <td>Yes</td>\n",
              "    </tr>\n",
              "    <tr>\n",
              "      <th>707</th>\n",
              "      <td>Ed Sheeran</td>\n",
              "      <td>95.0</td>\n",
              "      <td>93327682.0</td>\n",
              "      <td>34</td>\n",
              "      <td>80.035714</td>\n",
              "      <td>44.035714</td>\n",
              "      <td>1.472265e+07</td>\n",
              "      <td>Yes</td>\n",
              "    </tr>\n",
              "    <tr>\n",
              "      <th>1068</th>\n",
              "      <td>Ariana Grande</td>\n",
              "      <td>93.0</td>\n",
              "      <td>76626333.0</td>\n",
              "      <td>94</td>\n",
              "      <td>77.650000</td>\n",
              "      <td>51.900000</td>\n",
              "      <td>1.000831e+07</td>\n",
              "      <td>Yes</td>\n",
              "    </tr>\n",
              "    <tr>\n",
              "      <th>1345</th>\n",
              "      <td>Bad Bunny</td>\n",
              "      <td>100.0</td>\n",
              "      <td>44516743.0</td>\n",
              "      <td>30</td>\n",
              "      <td>75.628571</td>\n",
              "      <td>23.142857</td>\n",
              "      <td>8.425305e+06</td>\n",
              "      <td>Yes</td>\n",
              "    </tr>\n",
              "    <tr>\n",
              "      <th>1350</th>\n",
              "      <td>The Weeknd</td>\n",
              "      <td>98.0</td>\n",
              "      <td>42275433.0</td>\n",
              "      <td>108</td>\n",
              "      <td>81.928571</td>\n",
              "      <td>53.178571</td>\n",
              "      <td>1.363645e+07</td>\n",
              "      <td>Yes</td>\n",
              "    </tr>\n",
              "    <tr>\n",
              "      <th>...</th>\n",
              "      <td>...</td>\n",
              "      <td>...</td>\n",
              "      <td>...</td>\n",
              "      <td>...</td>\n",
              "      <td>...</td>\n",
              "      <td>...</td>\n",
              "      <td>...</td>\n",
              "      <td>...</td>\n",
              "    </tr>\n",
              "    <tr>\n",
              "      <th>66395</th>\n",
              "      <td>Unreqvited</td>\n",
              "      <td>32.0</td>\n",
              "      <td>20071.0</td>\n",
              "      <td>3</td>\n",
              "      <td>33.500000</td>\n",
              "      <td>3.500000</td>\n",
              "      <td>1.870100e+04</td>\n",
              "      <td>No</td>\n",
              "    </tr>\n",
              "    <tr>\n",
              "      <th>66396</th>\n",
              "      <td>Show Me a Dinosaur</td>\n",
              "      <td>31.0</td>\n",
              "      <td>10235.0</td>\n",
              "      <td>1</td>\n",
              "      <td>34.000000</td>\n",
              "      <td>4.500000</td>\n",
              "      <td>2.361900e+04</td>\n",
              "      <td>No</td>\n",
              "    </tr>\n",
              "    <tr>\n",
              "      <th>66397</th>\n",
              "      <td>Flovry</td>\n",
              "      <td>53.0</td>\n",
              "      <td>7478.0</td>\n",
              "      <td>1</td>\n",
              "      <td>62.000000</td>\n",
              "      <td>2.000000</td>\n",
              "      <td>5.242000e+03</td>\n",
              "      <td>No</td>\n",
              "    </tr>\n",
              "    <tr>\n",
              "      <th>66398</th>\n",
              "      <td>The Bled</td>\n",
              "      <td>32.0</td>\n",
              "      <td>33531.0</td>\n",
              "      <td>7</td>\n",
              "      <td>56.000000</td>\n",
              "      <td>8.000000</td>\n",
              "      <td>3.298930e+05</td>\n",
              "      <td>No</td>\n",
              "    </tr>\n",
              "    <tr>\n",
              "      <th>66399</th>\n",
              "      <td>Primordial</td>\n",
              "      <td>37.0</td>\n",
              "      <td>64127.0</td>\n",
              "      <td>9</td>\n",
              "      <td>53.000000</td>\n",
              "      <td>11.000000</td>\n",
              "      <td>2.853120e+05</td>\n",
              "      <td>No</td>\n",
              "    </tr>\n",
              "  </tbody>\n",
              "</table>\n",
              "<p>12883 rows × 8 columns</p>\n",
              "</div>\n",
              "      <button class=\"colab-df-convert\" onclick=\"convertToInteractive('df-f8220ccb-7d03-453c-818c-0df8784bbf3d')\"\n",
              "              title=\"Convert this dataframe to an interactive table.\"\n",
              "              style=\"display:none;\">\n",
              "        \n",
              "  <svg xmlns=\"http://www.w3.org/2000/svg\" height=\"24px\"viewBox=\"0 0 24 24\"\n",
              "       width=\"24px\">\n",
              "    <path d=\"M0 0h24v24H0V0z\" fill=\"none\"/>\n",
              "    <path d=\"M18.56 5.44l.94 2.06.94-2.06 2.06-.94-2.06-.94-.94-2.06-.94 2.06-2.06.94zm-11 1L8.5 8.5l.94-2.06 2.06-.94-2.06-.94L8.5 2.5l-.94 2.06-2.06.94zm10 10l.94 2.06.94-2.06 2.06-.94-2.06-.94-.94-2.06-.94 2.06-2.06.94z\"/><path d=\"M17.41 7.96l-1.37-1.37c-.4-.4-.92-.59-1.43-.59-.52 0-1.04.2-1.43.59L10.3 9.45l-7.72 7.72c-.78.78-.78 2.05 0 2.83L4 21.41c.39.39.9.59 1.41.59.51 0 1.02-.2 1.41-.59l7.78-7.78 2.81-2.81c.8-.78.8-2.07 0-2.86zM5.41 20L4 18.59l7.72-7.72 1.47 1.35L5.41 20z\"/>\n",
              "  </svg>\n",
              "      </button>\n",
              "      \n",
              "  <style>\n",
              "    .colab-df-container {\n",
              "      display:flex;\n",
              "      flex-wrap:wrap;\n",
              "      gap: 12px;\n",
              "    }\n",
              "\n",
              "    .colab-df-convert {\n",
              "      background-color: #E8F0FE;\n",
              "      border: none;\n",
              "      border-radius: 50%;\n",
              "      cursor: pointer;\n",
              "      display: none;\n",
              "      fill: #1967D2;\n",
              "      height: 32px;\n",
              "      padding: 0 0 0 0;\n",
              "      width: 32px;\n",
              "    }\n",
              "\n",
              "    .colab-df-convert:hover {\n",
              "      background-color: #E2EBFA;\n",
              "      box-shadow: 0px 1px 2px rgba(60, 64, 67, 0.3), 0px 1px 3px 1px rgba(60, 64, 67, 0.15);\n",
              "      fill: #174EA6;\n",
              "    }\n",
              "\n",
              "    [theme=dark] .colab-df-convert {\n",
              "      background-color: #3B4455;\n",
              "      fill: #D2E3FC;\n",
              "    }\n",
              "\n",
              "    [theme=dark] .colab-df-convert:hover {\n",
              "      background-color: #434B5C;\n",
              "      box-shadow: 0px 1px 3px 1px rgba(0, 0, 0, 0.15);\n",
              "      filter: drop-shadow(0px 1px 2px rgba(0, 0, 0, 0.3));\n",
              "      fill: #FFFFFF;\n",
              "    }\n",
              "  </style>\n",
              "\n",
              "      <script>\n",
              "        const buttonEl =\n",
              "          document.querySelector('#df-f8220ccb-7d03-453c-818c-0df8784bbf3d button.colab-df-convert');\n",
              "        buttonEl.style.display =\n",
              "          google.colab.kernel.accessAllowed ? 'block' : 'none';\n",
              "\n",
              "        async function convertToInteractive(key) {\n",
              "          const element = document.querySelector('#df-f8220ccb-7d03-453c-818c-0df8784bbf3d');\n",
              "          const dataTable =\n",
              "            await google.colab.kernel.invokeFunction('convertToInteractive',\n",
              "                                                     [key], {});\n",
              "          if (!dataTable) return;\n",
              "\n",
              "          const docLinkHtml = 'Like what you see? Visit the ' +\n",
              "            '<a target=\"_blank\" href=https://colab.research.google.com/notebooks/data_table.ipynb>data table notebook</a>'\n",
              "            + ' to learn more about interactive tables.';\n",
              "          element.innerHTML = '';\n",
              "          dataTable['output_type'] = 'display_data';\n",
              "          await google.colab.output.renderOutput(dataTable, element);\n",
              "          const docLink = document.createElement('div');\n",
              "          docLink.innerHTML = docLinkHtml;\n",
              "          element.appendChild(docLink);\n",
              "        }\n",
              "      </script>\n",
              "    </div>\n",
              "  </div>\n",
              "  "
            ]
          },
          "metadata": {},
          "execution_count": 16
        }
      ]
    },
    {
      "cell_type": "markdown",
      "source": [
        "### **데이터 전처리2. spotify_song 데이터 만들기**\n",
        "\n",
        "songs_normalize.csv는 2000년부터 2019년까지 스포티파이에서 가장 인기있던 2000개의 곡에 대한 정보를 보여준다. charts 데이터와 연결해 해당 곡이 top100 차트에 오른 적이 있었는지를 판단하고자 한다. \n",
        "\n",
        "* popularity: 노래의 좋아요 수\n",
        "* danceability\n",
        "* energy\n",
        "* key\n",
        "* loudness\n",
        "* speechiness\n",
        "* acousticness\n",
        "* instrumentalness\n",
        "* liveness\n",
        "* valence\n",
        "* tempo\n",
        "* genre\n",
        "* top100\n",
        "\n"
      ],
      "metadata": {
        "id": "H35fytx8kJx8"
      }
    },
    {
      "cell_type": "code",
      "source": [
        "#songs_normalize.csv파일 불러오기\n",
        "songs = pd.read_csv(\"/content/drive/My Drive/Colab Notebooks/Bigmining/songs_normalize.csv\", encoding='cp949')\n",
        "\n",
        "#데이터 탐색하기\n",
        "display(songs.head())"
      ],
      "metadata": {
        "id": "EB47M4URipf_",
        "colab": {
          "base_uri": "https://localhost:8080/",
          "height": 392
        },
        "outputId": "afdc8ce0-546d-45b4-aedd-4cff20cce337"
      },
      "execution_count": null,
      "outputs": [
        {
          "output_type": "display_data",
          "data": {
            "text/plain": [
              "           artist                    song duration_ms explicit  year  \\\n",
              "0  Britney Spears  Oops!...I Did It Again      211160    FALSE  2000   \n",
              "1       blink-182    All The Small Things      167066    FALSE  1999   \n",
              "2      Faith Hill                 Breathe      250546    FALSE  1999   \n",
              "3        Bon Jovi            It's My Life      224493    FALSE  2000   \n",
              "4          *NSYNC             Bye Bye Bye      200560    FALSE  2000   \n",
              "\n",
              "   popularity  danceability  energy  key  loudness  mode  speechiness  \\\n",
              "0        77.0         0.751   0.834  1.0    -5.444   0.0       0.0437   \n",
              "1        79.0         0.434   0.897  0.0    -4.918   1.0       0.0488   \n",
              "2        66.0         0.529   0.496  7.0    -9.007   1.0       0.0290   \n",
              "3        78.0         0.551   0.913  0.0    -4.063   0.0       0.0466   \n",
              "4        65.0         0.614   0.928  8.0    -4.806   0.0       0.0516   \n",
              "\n",
              "   acousticness  instrumentalness  liveness  valence    tempo         genre  \n",
              "0        0.3000          0.000018    0.3550    0.894   95.053           pop  \n",
              "1        0.0103          0.000000    0.6120    0.684  148.726     rock, pop  \n",
              "2        0.1730          0.000000    0.2510    0.278  136.859  pop, country  \n",
              "3        0.0263          0.000013    0.3470    0.544  119.992   rock, metal  \n",
              "4        0.0408          0.001040    0.0845    0.879  172.656           pop  "
            ],
            "text/html": [
              "\n",
              "  <div id=\"df-f525c5ef-4bcb-4526-bce0-a5687c32fe56\">\n",
              "    <div class=\"colab-df-container\">\n",
              "      <div>\n",
              "<style scoped>\n",
              "    .dataframe tbody tr th:only-of-type {\n",
              "        vertical-align: middle;\n",
              "    }\n",
              "\n",
              "    .dataframe tbody tr th {\n",
              "        vertical-align: top;\n",
              "    }\n",
              "\n",
              "    .dataframe thead th {\n",
              "        text-align: right;\n",
              "    }\n",
              "</style>\n",
              "<table border=\"1\" class=\"dataframe\">\n",
              "  <thead>\n",
              "    <tr style=\"text-align: right;\">\n",
              "      <th></th>\n",
              "      <th>artist</th>\n",
              "      <th>song</th>\n",
              "      <th>duration_ms</th>\n",
              "      <th>explicit</th>\n",
              "      <th>year</th>\n",
              "      <th>popularity</th>\n",
              "      <th>danceability</th>\n",
              "      <th>energy</th>\n",
              "      <th>key</th>\n",
              "      <th>loudness</th>\n",
              "      <th>mode</th>\n",
              "      <th>speechiness</th>\n",
              "      <th>acousticness</th>\n",
              "      <th>instrumentalness</th>\n",
              "      <th>liveness</th>\n",
              "      <th>valence</th>\n",
              "      <th>tempo</th>\n",
              "      <th>genre</th>\n",
              "    </tr>\n",
              "  </thead>\n",
              "  <tbody>\n",
              "    <tr>\n",
              "      <th>0</th>\n",
              "      <td>Britney Spears</td>\n",
              "      <td>Oops!...I Did It Again</td>\n",
              "      <td>211160</td>\n",
              "      <td>FALSE</td>\n",
              "      <td>2000</td>\n",
              "      <td>77.0</td>\n",
              "      <td>0.751</td>\n",
              "      <td>0.834</td>\n",
              "      <td>1.0</td>\n",
              "      <td>-5.444</td>\n",
              "      <td>0.0</td>\n",
              "      <td>0.0437</td>\n",
              "      <td>0.3000</td>\n",
              "      <td>0.000018</td>\n",
              "      <td>0.3550</td>\n",
              "      <td>0.894</td>\n",
              "      <td>95.053</td>\n",
              "      <td>pop</td>\n",
              "    </tr>\n",
              "    <tr>\n",
              "      <th>1</th>\n",
              "      <td>blink-182</td>\n",
              "      <td>All The Small Things</td>\n",
              "      <td>167066</td>\n",
              "      <td>FALSE</td>\n",
              "      <td>1999</td>\n",
              "      <td>79.0</td>\n",
              "      <td>0.434</td>\n",
              "      <td>0.897</td>\n",
              "      <td>0.0</td>\n",
              "      <td>-4.918</td>\n",
              "      <td>1.0</td>\n",
              "      <td>0.0488</td>\n",
              "      <td>0.0103</td>\n",
              "      <td>0.000000</td>\n",
              "      <td>0.6120</td>\n",
              "      <td>0.684</td>\n",
              "      <td>148.726</td>\n",
              "      <td>rock, pop</td>\n",
              "    </tr>\n",
              "    <tr>\n",
              "      <th>2</th>\n",
              "      <td>Faith Hill</td>\n",
              "      <td>Breathe</td>\n",
              "      <td>250546</td>\n",
              "      <td>FALSE</td>\n",
              "      <td>1999</td>\n",
              "      <td>66.0</td>\n",
              "      <td>0.529</td>\n",
              "      <td>0.496</td>\n",
              "      <td>7.0</td>\n",
              "      <td>-9.007</td>\n",
              "      <td>1.0</td>\n",
              "      <td>0.0290</td>\n",
              "      <td>0.1730</td>\n",
              "      <td>0.000000</td>\n",
              "      <td>0.2510</td>\n",
              "      <td>0.278</td>\n",
              "      <td>136.859</td>\n",
              "      <td>pop, country</td>\n",
              "    </tr>\n",
              "    <tr>\n",
              "      <th>3</th>\n",
              "      <td>Bon Jovi</td>\n",
              "      <td>It's My Life</td>\n",
              "      <td>224493</td>\n",
              "      <td>FALSE</td>\n",
              "      <td>2000</td>\n",
              "      <td>78.0</td>\n",
              "      <td>0.551</td>\n",
              "      <td>0.913</td>\n",
              "      <td>0.0</td>\n",
              "      <td>-4.063</td>\n",
              "      <td>0.0</td>\n",
              "      <td>0.0466</td>\n",
              "      <td>0.0263</td>\n",
              "      <td>0.000013</td>\n",
              "      <td>0.3470</td>\n",
              "      <td>0.544</td>\n",
              "      <td>119.992</td>\n",
              "      <td>rock, metal</td>\n",
              "    </tr>\n",
              "    <tr>\n",
              "      <th>4</th>\n",
              "      <td>*NSYNC</td>\n",
              "      <td>Bye Bye Bye</td>\n",
              "      <td>200560</td>\n",
              "      <td>FALSE</td>\n",
              "      <td>2000</td>\n",
              "      <td>65.0</td>\n",
              "      <td>0.614</td>\n",
              "      <td>0.928</td>\n",
              "      <td>8.0</td>\n",
              "      <td>-4.806</td>\n",
              "      <td>0.0</td>\n",
              "      <td>0.0516</td>\n",
              "      <td>0.0408</td>\n",
              "      <td>0.001040</td>\n",
              "      <td>0.0845</td>\n",
              "      <td>0.879</td>\n",
              "      <td>172.656</td>\n",
              "      <td>pop</td>\n",
              "    </tr>\n",
              "  </tbody>\n",
              "</table>\n",
              "</div>\n",
              "      <button class=\"colab-df-convert\" onclick=\"convertToInteractive('df-f525c5ef-4bcb-4526-bce0-a5687c32fe56')\"\n",
              "              title=\"Convert this dataframe to an interactive table.\"\n",
              "              style=\"display:none;\">\n",
              "        \n",
              "  <svg xmlns=\"http://www.w3.org/2000/svg\" height=\"24px\"viewBox=\"0 0 24 24\"\n",
              "       width=\"24px\">\n",
              "    <path d=\"M0 0h24v24H0V0z\" fill=\"none\"/>\n",
              "    <path d=\"M18.56 5.44l.94 2.06.94-2.06 2.06-.94-2.06-.94-.94-2.06-.94 2.06-2.06.94zm-11 1L8.5 8.5l.94-2.06 2.06-.94-2.06-.94L8.5 2.5l-.94 2.06-2.06.94zm10 10l.94 2.06.94-2.06 2.06-.94-2.06-.94-.94-2.06-.94 2.06-2.06.94z\"/><path d=\"M17.41 7.96l-1.37-1.37c-.4-.4-.92-.59-1.43-.59-.52 0-1.04.2-1.43.59L10.3 9.45l-7.72 7.72c-.78.78-.78 2.05 0 2.83L4 21.41c.39.39.9.59 1.41.59.51 0 1.02-.2 1.41-.59l7.78-7.78 2.81-2.81c.8-.78.8-2.07 0-2.86zM5.41 20L4 18.59l7.72-7.72 1.47 1.35L5.41 20z\"/>\n",
              "  </svg>\n",
              "      </button>\n",
              "      \n",
              "  <style>\n",
              "    .colab-df-container {\n",
              "      display:flex;\n",
              "      flex-wrap:wrap;\n",
              "      gap: 12px;\n",
              "    }\n",
              "\n",
              "    .colab-df-convert {\n",
              "      background-color: #E8F0FE;\n",
              "      border: none;\n",
              "      border-radius: 50%;\n",
              "      cursor: pointer;\n",
              "      display: none;\n",
              "      fill: #1967D2;\n",
              "      height: 32px;\n",
              "      padding: 0 0 0 0;\n",
              "      width: 32px;\n",
              "    }\n",
              "\n",
              "    .colab-df-convert:hover {\n",
              "      background-color: #E2EBFA;\n",
              "      box-shadow: 0px 1px 2px rgba(60, 64, 67, 0.3), 0px 1px 3px 1px rgba(60, 64, 67, 0.15);\n",
              "      fill: #174EA6;\n",
              "    }\n",
              "\n",
              "    [theme=dark] .colab-df-convert {\n",
              "      background-color: #3B4455;\n",
              "      fill: #D2E3FC;\n",
              "    }\n",
              "\n",
              "    [theme=dark] .colab-df-convert:hover {\n",
              "      background-color: #434B5C;\n",
              "      box-shadow: 0px 1px 3px 1px rgba(0, 0, 0, 0.15);\n",
              "      filter: drop-shadow(0px 1px 2px rgba(0, 0, 0, 0.3));\n",
              "      fill: #FFFFFF;\n",
              "    }\n",
              "  </style>\n",
              "\n",
              "      <script>\n",
              "        const buttonEl =\n",
              "          document.querySelector('#df-f525c5ef-4bcb-4526-bce0-a5687c32fe56 button.colab-df-convert');\n",
              "        buttonEl.style.display =\n",
              "          google.colab.kernel.accessAllowed ? 'block' : 'none';\n",
              "\n",
              "        async function convertToInteractive(key) {\n",
              "          const element = document.querySelector('#df-f525c5ef-4bcb-4526-bce0-a5687c32fe56');\n",
              "          const dataTable =\n",
              "            await google.colab.kernel.invokeFunction('convertToInteractive',\n",
              "                                                     [key], {});\n",
              "          if (!dataTable) return;\n",
              "\n",
              "          const docLinkHtml = 'Like what you see? Visit the ' +\n",
              "            '<a target=\"_blank\" href=https://colab.research.google.com/notebooks/data_table.ipynb>data table notebook</a>'\n",
              "            + ' to learn more about interactive tables.';\n",
              "          element.innerHTML = '';\n",
              "          dataTable['output_type'] = 'display_data';\n",
              "          await google.colab.output.renderOutput(dataTable, element);\n",
              "          const docLink = document.createElement('div');\n",
              "          docLink.innerHTML = docLinkHtml;\n",
              "          element.appendChild(docLink);\n",
              "        }\n",
              "      </script>\n",
              "    </div>\n",
              "  </div>\n",
              "  "
            ]
          },
          "metadata": {}
        }
      ]
    },
    {
      "cell_type": "markdown",
      "source": [
        "**2-3) charts와 songs를 합친 새로운 데이터프레임 spotify_song 만들기**"
      ],
      "metadata": {
        "id": "bayrAbyipO4f"
      }
    },
    {
      "cell_type": "code",
      "source": [
        "#charts 복사하기\n",
        "charts_2 = charts.copy()\n",
        "\n",
        "#'song'을 기준으로 데이터 합치기\n",
        "spotify_song = pd.merge(songs,charts_2,how='left',on='song')\n",
        "display(spotify_song)"
      ],
      "metadata": {
        "colab": {
          "base_uri": "https://localhost:8080/",
          "height": 748
        },
        "id": "mvNir1o5pN3K",
        "outputId": "8e0e0f62-b204-44fc-c8e7-9978b1444ffc"
      },
      "execution_count": null,
      "outputs": [
        {
          "output_type": "display_data",
          "data": {
            "text/plain": [
              "             artist_x                    song duration_ms explicit  year  \\\n",
              "0      Britney Spears  Oops!...I Did It Again      211160    FALSE  2000   \n",
              "1      Britney Spears  Oops!...I Did It Again      211160    FALSE  2000   \n",
              "2      Britney Spears  Oops!...I Did It Again      211160    FALSE  2000   \n",
              "3      Britney Spears  Oops!...I Did It Again      211160    FALSE  2000   \n",
              "4      Britney Spears  Oops!...I Did It Again      211160    FALSE  2000   \n",
              "...               ...                     ...         ...      ...   ...   \n",
              "35593     Post Malone                 Circles      215280    FALSE  2019   \n",
              "35594     Post Malone                 Circles      215280    FALSE  2019   \n",
              "35595     Post Malone                 Circles      215280    FALSE  2019   \n",
              "35596     Post Malone                 Circles      215280    FALSE  2019   \n",
              "35597     Post Malone                 Circles      215280    FALSE  2019   \n",
              "\n",
              "       popularity  danceability  energy  key  loudness  mode  speechiness  \\\n",
              "0            77.0         0.751   0.834  1.0    -5.444   0.0       0.0437   \n",
              "1            77.0         0.751   0.834  1.0    -5.444   0.0       0.0437   \n",
              "2            77.0         0.751   0.834  1.0    -5.444   0.0       0.0437   \n",
              "3            77.0         0.751   0.834  1.0    -5.444   0.0       0.0437   \n",
              "4            77.0         0.751   0.834  1.0    -5.444   0.0       0.0437   \n",
              "...           ...           ...     ...  ...       ...   ...          ...   \n",
              "35593        85.0         0.695   0.762  0.0    -3.497   1.0       0.0395   \n",
              "35594        85.0         0.695   0.762  0.0    -3.497   1.0       0.0395   \n",
              "35595        85.0         0.695   0.762  0.0    -3.497   1.0       0.0395   \n",
              "35596        85.0         0.695   0.762  0.0    -3.497   1.0       0.0395   \n",
              "35597        85.0         0.695   0.762  0.0    -3.497   1.0       0.0395   \n",
              "\n",
              "       acousticness  instrumentalness  liveness  valence    tempo    genre  \\\n",
              "0             0.300          0.000018    0.3550    0.894   95.053      pop   \n",
              "1             0.300          0.000018    0.3550    0.894   95.053      pop   \n",
              "2             0.300          0.000018    0.3550    0.894   95.053      pop   \n",
              "3             0.300          0.000018    0.3550    0.894   95.053      pop   \n",
              "4             0.300          0.000018    0.3550    0.894   95.053      pop   \n",
              "...             ...               ...       ...      ...      ...      ...   \n",
              "35593         0.192          0.002440    0.0863    0.553  120.042  hip hop   \n",
              "35594         0.192          0.002440    0.0863    0.553  120.042  hip hop   \n",
              "35595         0.192          0.002440    0.0863    0.553  120.042  hip hop   \n",
              "35596         0.192          0.002440    0.0863    0.553  120.042  hip hop   \n",
              "35597         0.192          0.002440    0.0863    0.553  120.042  hip hop   \n",
              "\n",
              "             artist_y  rank  \n",
              "0      Britney Spears  96.0  \n",
              "1      Britney Spears  90.0  \n",
              "2      Britney Spears  85.0  \n",
              "3      Britney Spears  77.0  \n",
              "4      Britney Spears  49.0  \n",
              "...               ...   ...  \n",
              "35593     Post Malone   7.0  \n",
              "35594     Post Malone   8.0  \n",
              "35595     Post Malone   9.0  \n",
              "35596     Post Malone   4.0  \n",
              "35597     Post Malone   7.0  \n",
              "\n",
              "[35598 rows x 20 columns]"
            ],
            "text/html": [
              "\n",
              "  <div id=\"df-8d889e71-62b6-4bd3-a9f9-bbcfbdc85b76\">\n",
              "    <div class=\"colab-df-container\">\n",
              "      <div>\n",
              "<style scoped>\n",
              "    .dataframe tbody tr th:only-of-type {\n",
              "        vertical-align: middle;\n",
              "    }\n",
              "\n",
              "    .dataframe tbody tr th {\n",
              "        vertical-align: top;\n",
              "    }\n",
              "\n",
              "    .dataframe thead th {\n",
              "        text-align: right;\n",
              "    }\n",
              "</style>\n",
              "<table border=\"1\" class=\"dataframe\">\n",
              "  <thead>\n",
              "    <tr style=\"text-align: right;\">\n",
              "      <th></th>\n",
              "      <th>artist_x</th>\n",
              "      <th>song</th>\n",
              "      <th>duration_ms</th>\n",
              "      <th>explicit</th>\n",
              "      <th>year</th>\n",
              "      <th>popularity</th>\n",
              "      <th>danceability</th>\n",
              "      <th>energy</th>\n",
              "      <th>key</th>\n",
              "      <th>loudness</th>\n",
              "      <th>mode</th>\n",
              "      <th>speechiness</th>\n",
              "      <th>acousticness</th>\n",
              "      <th>instrumentalness</th>\n",
              "      <th>liveness</th>\n",
              "      <th>valence</th>\n",
              "      <th>tempo</th>\n",
              "      <th>genre</th>\n",
              "      <th>artist_y</th>\n",
              "      <th>rank</th>\n",
              "    </tr>\n",
              "  </thead>\n",
              "  <tbody>\n",
              "    <tr>\n",
              "      <th>0</th>\n",
              "      <td>Britney Spears</td>\n",
              "      <td>Oops!...I Did It Again</td>\n",
              "      <td>211160</td>\n",
              "      <td>FALSE</td>\n",
              "      <td>2000</td>\n",
              "      <td>77.0</td>\n",
              "      <td>0.751</td>\n",
              "      <td>0.834</td>\n",
              "      <td>1.0</td>\n",
              "      <td>-5.444</td>\n",
              "      <td>0.0</td>\n",
              "      <td>0.0437</td>\n",
              "      <td>0.300</td>\n",
              "      <td>0.000018</td>\n",
              "      <td>0.3550</td>\n",
              "      <td>0.894</td>\n",
              "      <td>95.053</td>\n",
              "      <td>pop</td>\n",
              "      <td>Britney Spears</td>\n",
              "      <td>96.0</td>\n",
              "    </tr>\n",
              "    <tr>\n",
              "      <th>1</th>\n",
              "      <td>Britney Spears</td>\n",
              "      <td>Oops!...I Did It Again</td>\n",
              "      <td>211160</td>\n",
              "      <td>FALSE</td>\n",
              "      <td>2000</td>\n",
              "      <td>77.0</td>\n",
              "      <td>0.751</td>\n",
              "      <td>0.834</td>\n",
              "      <td>1.0</td>\n",
              "      <td>-5.444</td>\n",
              "      <td>0.0</td>\n",
              "      <td>0.0437</td>\n",
              "      <td>0.300</td>\n",
              "      <td>0.000018</td>\n",
              "      <td>0.3550</td>\n",
              "      <td>0.894</td>\n",
              "      <td>95.053</td>\n",
              "      <td>pop</td>\n",
              "      <td>Britney Spears</td>\n",
              "      <td>90.0</td>\n",
              "    </tr>\n",
              "    <tr>\n",
              "      <th>2</th>\n",
              "      <td>Britney Spears</td>\n",
              "      <td>Oops!...I Did It Again</td>\n",
              "      <td>211160</td>\n",
              "      <td>FALSE</td>\n",
              "      <td>2000</td>\n",
              "      <td>77.0</td>\n",
              "      <td>0.751</td>\n",
              "      <td>0.834</td>\n",
              "      <td>1.0</td>\n",
              "      <td>-5.444</td>\n",
              "      <td>0.0</td>\n",
              "      <td>0.0437</td>\n",
              "      <td>0.300</td>\n",
              "      <td>0.000018</td>\n",
              "      <td>0.3550</td>\n",
              "      <td>0.894</td>\n",
              "      <td>95.053</td>\n",
              "      <td>pop</td>\n",
              "      <td>Britney Spears</td>\n",
              "      <td>85.0</td>\n",
              "    </tr>\n",
              "    <tr>\n",
              "      <th>3</th>\n",
              "      <td>Britney Spears</td>\n",
              "      <td>Oops!...I Did It Again</td>\n",
              "      <td>211160</td>\n",
              "      <td>FALSE</td>\n",
              "      <td>2000</td>\n",
              "      <td>77.0</td>\n",
              "      <td>0.751</td>\n",
              "      <td>0.834</td>\n",
              "      <td>1.0</td>\n",
              "      <td>-5.444</td>\n",
              "      <td>0.0</td>\n",
              "      <td>0.0437</td>\n",
              "      <td>0.300</td>\n",
              "      <td>0.000018</td>\n",
              "      <td>0.3550</td>\n",
              "      <td>0.894</td>\n",
              "      <td>95.053</td>\n",
              "      <td>pop</td>\n",
              "      <td>Britney Spears</td>\n",
              "      <td>77.0</td>\n",
              "    </tr>\n",
              "    <tr>\n",
              "      <th>4</th>\n",
              "      <td>Britney Spears</td>\n",
              "      <td>Oops!...I Did It Again</td>\n",
              "      <td>211160</td>\n",
              "      <td>FALSE</td>\n",
              "      <td>2000</td>\n",
              "      <td>77.0</td>\n",
              "      <td>0.751</td>\n",
              "      <td>0.834</td>\n",
              "      <td>1.0</td>\n",
              "      <td>-5.444</td>\n",
              "      <td>0.0</td>\n",
              "      <td>0.0437</td>\n",
              "      <td>0.300</td>\n",
              "      <td>0.000018</td>\n",
              "      <td>0.3550</td>\n",
              "      <td>0.894</td>\n",
              "      <td>95.053</td>\n",
              "      <td>pop</td>\n",
              "      <td>Britney Spears</td>\n",
              "      <td>49.0</td>\n",
              "    </tr>\n",
              "    <tr>\n",
              "      <th>...</th>\n",
              "      <td>...</td>\n",
              "      <td>...</td>\n",
              "      <td>...</td>\n",
              "      <td>...</td>\n",
              "      <td>...</td>\n",
              "      <td>...</td>\n",
              "      <td>...</td>\n",
              "      <td>...</td>\n",
              "      <td>...</td>\n",
              "      <td>...</td>\n",
              "      <td>...</td>\n",
              "      <td>...</td>\n",
              "      <td>...</td>\n",
              "      <td>...</td>\n",
              "      <td>...</td>\n",
              "      <td>...</td>\n",
              "      <td>...</td>\n",
              "      <td>...</td>\n",
              "      <td>...</td>\n",
              "      <td>...</td>\n",
              "    </tr>\n",
              "    <tr>\n",
              "      <th>35593</th>\n",
              "      <td>Post Malone</td>\n",
              "      <td>Circles</td>\n",
              "      <td>215280</td>\n",
              "      <td>FALSE</td>\n",
              "      <td>2019</td>\n",
              "      <td>85.0</td>\n",
              "      <td>0.695</td>\n",
              "      <td>0.762</td>\n",
              "      <td>0.0</td>\n",
              "      <td>-3.497</td>\n",
              "      <td>1.0</td>\n",
              "      <td>0.0395</td>\n",
              "      <td>0.192</td>\n",
              "      <td>0.002440</td>\n",
              "      <td>0.0863</td>\n",
              "      <td>0.553</td>\n",
              "      <td>120.042</td>\n",
              "      <td>hip hop</td>\n",
              "      <td>Post Malone</td>\n",
              "      <td>7.0</td>\n",
              "    </tr>\n",
              "    <tr>\n",
              "      <th>35594</th>\n",
              "      <td>Post Malone</td>\n",
              "      <td>Circles</td>\n",
              "      <td>215280</td>\n",
              "      <td>FALSE</td>\n",
              "      <td>2019</td>\n",
              "      <td>85.0</td>\n",
              "      <td>0.695</td>\n",
              "      <td>0.762</td>\n",
              "      <td>0.0</td>\n",
              "      <td>-3.497</td>\n",
              "      <td>1.0</td>\n",
              "      <td>0.0395</td>\n",
              "      <td>0.192</td>\n",
              "      <td>0.002440</td>\n",
              "      <td>0.0863</td>\n",
              "      <td>0.553</td>\n",
              "      <td>120.042</td>\n",
              "      <td>hip hop</td>\n",
              "      <td>Post Malone</td>\n",
              "      <td>8.0</td>\n",
              "    </tr>\n",
              "    <tr>\n",
              "      <th>35595</th>\n",
              "      <td>Post Malone</td>\n",
              "      <td>Circles</td>\n",
              "      <td>215280</td>\n",
              "      <td>FALSE</td>\n",
              "      <td>2019</td>\n",
              "      <td>85.0</td>\n",
              "      <td>0.695</td>\n",
              "      <td>0.762</td>\n",
              "      <td>0.0</td>\n",
              "      <td>-3.497</td>\n",
              "      <td>1.0</td>\n",
              "      <td>0.0395</td>\n",
              "      <td>0.192</td>\n",
              "      <td>0.002440</td>\n",
              "      <td>0.0863</td>\n",
              "      <td>0.553</td>\n",
              "      <td>120.042</td>\n",
              "      <td>hip hop</td>\n",
              "      <td>Post Malone</td>\n",
              "      <td>9.0</td>\n",
              "    </tr>\n",
              "    <tr>\n",
              "      <th>35596</th>\n",
              "      <td>Post Malone</td>\n",
              "      <td>Circles</td>\n",
              "      <td>215280</td>\n",
              "      <td>FALSE</td>\n",
              "      <td>2019</td>\n",
              "      <td>85.0</td>\n",
              "      <td>0.695</td>\n",
              "      <td>0.762</td>\n",
              "      <td>0.0</td>\n",
              "      <td>-3.497</td>\n",
              "      <td>1.0</td>\n",
              "      <td>0.0395</td>\n",
              "      <td>0.192</td>\n",
              "      <td>0.002440</td>\n",
              "      <td>0.0863</td>\n",
              "      <td>0.553</td>\n",
              "      <td>120.042</td>\n",
              "      <td>hip hop</td>\n",
              "      <td>Post Malone</td>\n",
              "      <td>4.0</td>\n",
              "    </tr>\n",
              "    <tr>\n",
              "      <th>35597</th>\n",
              "      <td>Post Malone</td>\n",
              "      <td>Circles</td>\n",
              "      <td>215280</td>\n",
              "      <td>FALSE</td>\n",
              "      <td>2019</td>\n",
              "      <td>85.0</td>\n",
              "      <td>0.695</td>\n",
              "      <td>0.762</td>\n",
              "      <td>0.0</td>\n",
              "      <td>-3.497</td>\n",
              "      <td>1.0</td>\n",
              "      <td>0.0395</td>\n",
              "      <td>0.192</td>\n",
              "      <td>0.002440</td>\n",
              "      <td>0.0863</td>\n",
              "      <td>0.553</td>\n",
              "      <td>120.042</td>\n",
              "      <td>hip hop</td>\n",
              "      <td>Post Malone</td>\n",
              "      <td>7.0</td>\n",
              "    </tr>\n",
              "  </tbody>\n",
              "</table>\n",
              "<p>35598 rows × 20 columns</p>\n",
              "</div>\n",
              "      <button class=\"colab-df-convert\" onclick=\"convertToInteractive('df-8d889e71-62b6-4bd3-a9f9-bbcfbdc85b76')\"\n",
              "              title=\"Convert this dataframe to an interactive table.\"\n",
              "              style=\"display:none;\">\n",
              "        \n",
              "  <svg xmlns=\"http://www.w3.org/2000/svg\" height=\"24px\"viewBox=\"0 0 24 24\"\n",
              "       width=\"24px\">\n",
              "    <path d=\"M0 0h24v24H0V0z\" fill=\"none\"/>\n",
              "    <path d=\"M18.56 5.44l.94 2.06.94-2.06 2.06-.94-2.06-.94-.94-2.06-.94 2.06-2.06.94zm-11 1L8.5 8.5l.94-2.06 2.06-.94-2.06-.94L8.5 2.5l-.94 2.06-2.06.94zm10 10l.94 2.06.94-2.06 2.06-.94-2.06-.94-.94-2.06-.94 2.06-2.06.94z\"/><path d=\"M17.41 7.96l-1.37-1.37c-.4-.4-.92-.59-1.43-.59-.52 0-1.04.2-1.43.59L10.3 9.45l-7.72 7.72c-.78.78-.78 2.05 0 2.83L4 21.41c.39.39.9.59 1.41.59.51 0 1.02-.2 1.41-.59l7.78-7.78 2.81-2.81c.8-.78.8-2.07 0-2.86zM5.41 20L4 18.59l7.72-7.72 1.47 1.35L5.41 20z\"/>\n",
              "  </svg>\n",
              "      </button>\n",
              "      \n",
              "  <style>\n",
              "    .colab-df-container {\n",
              "      display:flex;\n",
              "      flex-wrap:wrap;\n",
              "      gap: 12px;\n",
              "    }\n",
              "\n",
              "    .colab-df-convert {\n",
              "      background-color: #E8F0FE;\n",
              "      border: none;\n",
              "      border-radius: 50%;\n",
              "      cursor: pointer;\n",
              "      display: none;\n",
              "      fill: #1967D2;\n",
              "      height: 32px;\n",
              "      padding: 0 0 0 0;\n",
              "      width: 32px;\n",
              "    }\n",
              "\n",
              "    .colab-df-convert:hover {\n",
              "      background-color: #E2EBFA;\n",
              "      box-shadow: 0px 1px 2px rgba(60, 64, 67, 0.3), 0px 1px 3px 1px rgba(60, 64, 67, 0.15);\n",
              "      fill: #174EA6;\n",
              "    }\n",
              "\n",
              "    [theme=dark] .colab-df-convert {\n",
              "      background-color: #3B4455;\n",
              "      fill: #D2E3FC;\n",
              "    }\n",
              "\n",
              "    [theme=dark] .colab-df-convert:hover {\n",
              "      background-color: #434B5C;\n",
              "      box-shadow: 0px 1px 3px 1px rgba(0, 0, 0, 0.15);\n",
              "      filter: drop-shadow(0px 1px 2px rgba(0, 0, 0, 0.3));\n",
              "      fill: #FFFFFF;\n",
              "    }\n",
              "  </style>\n",
              "\n",
              "      <script>\n",
              "        const buttonEl =\n",
              "          document.querySelector('#df-8d889e71-62b6-4bd3-a9f9-bbcfbdc85b76 button.colab-df-convert');\n",
              "        buttonEl.style.display =\n",
              "          google.colab.kernel.accessAllowed ? 'block' : 'none';\n",
              "\n",
              "        async function convertToInteractive(key) {\n",
              "          const element = document.querySelector('#df-8d889e71-62b6-4bd3-a9f9-bbcfbdc85b76');\n",
              "          const dataTable =\n",
              "            await google.colab.kernel.invokeFunction('convertToInteractive',\n",
              "                                                     [key], {});\n",
              "          if (!dataTable) return;\n",
              "\n",
              "          const docLinkHtml = 'Like what you see? Visit the ' +\n",
              "            '<a target=\"_blank\" href=https://colab.research.google.com/notebooks/data_table.ipynb>data table notebook</a>'\n",
              "            + ' to learn more about interactive tables.';\n",
              "          element.innerHTML = '';\n",
              "          dataTable['output_type'] = 'display_data';\n",
              "          await google.colab.output.renderOutput(dataTable, element);\n",
              "          const docLink = document.createElement('div');\n",
              "          docLink.innerHTML = docLinkHtml;\n",
              "          element.appendChild(docLink);\n",
              "        }\n",
              "      </script>\n",
              "    </div>\n",
              "  </div>\n",
              "  "
            ]
          },
          "metadata": {}
        }
      ]
    },
    {
      "cell_type": "markdown",
      "source": [
        "**2-4) spotify_song 전처리: 새로운 변수 top-100 만들기**\n",
        "\n"
      ],
      "metadata": {
        "id": "TYuBLZtKrij_"
      }
    },
    {
      "cell_type": "code",
      "source": [
        "#새로운 열 추가\n",
        "spotify_song[\"top100\"]=spotify_song[\"rank\"]\n",
        "\n",
        "#조건에 맞는 값을 칼럼에 추가\n",
        "spotify_song['top100']=spotify_song['top100'].fillna(\"No\")\n",
        "spotify_song.loc[(spotify_song['top100']!=\"No\"),'top100']=\"Yes\"\n",
        "\n",
        "display(spotify_song)"
      ],
      "metadata": {
        "colab": {
          "base_uri": "https://localhost:8080/",
          "height": 748
        },
        "id": "e335Gn8jqerf",
        "outputId": "c4f1545a-8e4b-4493-e080-5983e5e2ebda"
      },
      "execution_count": null,
      "outputs": [
        {
          "output_type": "display_data",
          "data": {
            "text/plain": [
              "             artist_x                    song duration_ms explicit  year  \\\n",
              "0      Britney Spears  Oops!...I Did It Again      211160    FALSE  2000   \n",
              "1      Britney Spears  Oops!...I Did It Again      211160    FALSE  2000   \n",
              "2      Britney Spears  Oops!...I Did It Again      211160    FALSE  2000   \n",
              "3      Britney Spears  Oops!...I Did It Again      211160    FALSE  2000   \n",
              "4      Britney Spears  Oops!...I Did It Again      211160    FALSE  2000   \n",
              "...               ...                     ...         ...      ...   ...   \n",
              "35593     Post Malone                 Circles      215280    FALSE  2019   \n",
              "35594     Post Malone                 Circles      215280    FALSE  2019   \n",
              "35595     Post Malone                 Circles      215280    FALSE  2019   \n",
              "35596     Post Malone                 Circles      215280    FALSE  2019   \n",
              "35597     Post Malone                 Circles      215280    FALSE  2019   \n",
              "\n",
              "       popularity  danceability  energy  key  loudness  ...  speechiness  \\\n",
              "0            77.0         0.751   0.834  1.0    -5.444  ...       0.0437   \n",
              "1            77.0         0.751   0.834  1.0    -5.444  ...       0.0437   \n",
              "2            77.0         0.751   0.834  1.0    -5.444  ...       0.0437   \n",
              "3            77.0         0.751   0.834  1.0    -5.444  ...       0.0437   \n",
              "4            77.0         0.751   0.834  1.0    -5.444  ...       0.0437   \n",
              "...           ...           ...     ...  ...       ...  ...          ...   \n",
              "35593        85.0         0.695   0.762  0.0    -3.497  ...       0.0395   \n",
              "35594        85.0         0.695   0.762  0.0    -3.497  ...       0.0395   \n",
              "35595        85.0         0.695   0.762  0.0    -3.497  ...       0.0395   \n",
              "35596        85.0         0.695   0.762  0.0    -3.497  ...       0.0395   \n",
              "35597        85.0         0.695   0.762  0.0    -3.497  ...       0.0395   \n",
              "\n",
              "       acousticness  instrumentalness  liveness  valence    tempo    genre  \\\n",
              "0             0.300          0.000018    0.3550    0.894   95.053      pop   \n",
              "1             0.300          0.000018    0.3550    0.894   95.053      pop   \n",
              "2             0.300          0.000018    0.3550    0.894   95.053      pop   \n",
              "3             0.300          0.000018    0.3550    0.894   95.053      pop   \n",
              "4             0.300          0.000018    0.3550    0.894   95.053      pop   \n",
              "...             ...               ...       ...      ...      ...      ...   \n",
              "35593         0.192          0.002440    0.0863    0.553  120.042  hip hop   \n",
              "35594         0.192          0.002440    0.0863    0.553  120.042  hip hop   \n",
              "35595         0.192          0.002440    0.0863    0.553  120.042  hip hop   \n",
              "35596         0.192          0.002440    0.0863    0.553  120.042  hip hop   \n",
              "35597         0.192          0.002440    0.0863    0.553  120.042  hip hop   \n",
              "\n",
              "             artist_y  rank  top100  \n",
              "0      Britney Spears  96.0     Yes  \n",
              "1      Britney Spears  90.0     Yes  \n",
              "2      Britney Spears  85.0     Yes  \n",
              "3      Britney Spears  77.0     Yes  \n",
              "4      Britney Spears  49.0     Yes  \n",
              "...               ...   ...     ...  \n",
              "35593     Post Malone   7.0     Yes  \n",
              "35594     Post Malone   8.0     Yes  \n",
              "35595     Post Malone   9.0     Yes  \n",
              "35596     Post Malone   4.0     Yes  \n",
              "35597     Post Malone   7.0     Yes  \n",
              "\n",
              "[35598 rows x 21 columns]"
            ],
            "text/html": [
              "\n",
              "  <div id=\"df-c7222784-112c-442d-99e0-4f6a64036320\">\n",
              "    <div class=\"colab-df-container\">\n",
              "      <div>\n",
              "<style scoped>\n",
              "    .dataframe tbody tr th:only-of-type {\n",
              "        vertical-align: middle;\n",
              "    }\n",
              "\n",
              "    .dataframe tbody tr th {\n",
              "        vertical-align: top;\n",
              "    }\n",
              "\n",
              "    .dataframe thead th {\n",
              "        text-align: right;\n",
              "    }\n",
              "</style>\n",
              "<table border=\"1\" class=\"dataframe\">\n",
              "  <thead>\n",
              "    <tr style=\"text-align: right;\">\n",
              "      <th></th>\n",
              "      <th>artist_x</th>\n",
              "      <th>song</th>\n",
              "      <th>duration_ms</th>\n",
              "      <th>explicit</th>\n",
              "      <th>year</th>\n",
              "      <th>popularity</th>\n",
              "      <th>danceability</th>\n",
              "      <th>energy</th>\n",
              "      <th>key</th>\n",
              "      <th>loudness</th>\n",
              "      <th>...</th>\n",
              "      <th>speechiness</th>\n",
              "      <th>acousticness</th>\n",
              "      <th>instrumentalness</th>\n",
              "      <th>liveness</th>\n",
              "      <th>valence</th>\n",
              "      <th>tempo</th>\n",
              "      <th>genre</th>\n",
              "      <th>artist_y</th>\n",
              "      <th>rank</th>\n",
              "      <th>top100</th>\n",
              "    </tr>\n",
              "  </thead>\n",
              "  <tbody>\n",
              "    <tr>\n",
              "      <th>0</th>\n",
              "      <td>Britney Spears</td>\n",
              "      <td>Oops!...I Did It Again</td>\n",
              "      <td>211160</td>\n",
              "      <td>FALSE</td>\n",
              "      <td>2000</td>\n",
              "      <td>77.0</td>\n",
              "      <td>0.751</td>\n",
              "      <td>0.834</td>\n",
              "      <td>1.0</td>\n",
              "      <td>-5.444</td>\n",
              "      <td>...</td>\n",
              "      <td>0.0437</td>\n",
              "      <td>0.300</td>\n",
              "      <td>0.000018</td>\n",
              "      <td>0.3550</td>\n",
              "      <td>0.894</td>\n",
              "      <td>95.053</td>\n",
              "      <td>pop</td>\n",
              "      <td>Britney Spears</td>\n",
              "      <td>96.0</td>\n",
              "      <td>Yes</td>\n",
              "    </tr>\n",
              "    <tr>\n",
              "      <th>1</th>\n",
              "      <td>Britney Spears</td>\n",
              "      <td>Oops!...I Did It Again</td>\n",
              "      <td>211160</td>\n",
              "      <td>FALSE</td>\n",
              "      <td>2000</td>\n",
              "      <td>77.0</td>\n",
              "      <td>0.751</td>\n",
              "      <td>0.834</td>\n",
              "      <td>1.0</td>\n",
              "      <td>-5.444</td>\n",
              "      <td>...</td>\n",
              "      <td>0.0437</td>\n",
              "      <td>0.300</td>\n",
              "      <td>0.000018</td>\n",
              "      <td>0.3550</td>\n",
              "      <td>0.894</td>\n",
              "      <td>95.053</td>\n",
              "      <td>pop</td>\n",
              "      <td>Britney Spears</td>\n",
              "      <td>90.0</td>\n",
              "      <td>Yes</td>\n",
              "    </tr>\n",
              "    <tr>\n",
              "      <th>2</th>\n",
              "      <td>Britney Spears</td>\n",
              "      <td>Oops!...I Did It Again</td>\n",
              "      <td>211160</td>\n",
              "      <td>FALSE</td>\n",
              "      <td>2000</td>\n",
              "      <td>77.0</td>\n",
              "      <td>0.751</td>\n",
              "      <td>0.834</td>\n",
              "      <td>1.0</td>\n",
              "      <td>-5.444</td>\n",
              "      <td>...</td>\n",
              "      <td>0.0437</td>\n",
              "      <td>0.300</td>\n",
              "      <td>0.000018</td>\n",
              "      <td>0.3550</td>\n",
              "      <td>0.894</td>\n",
              "      <td>95.053</td>\n",
              "      <td>pop</td>\n",
              "      <td>Britney Spears</td>\n",
              "      <td>85.0</td>\n",
              "      <td>Yes</td>\n",
              "    </tr>\n",
              "    <tr>\n",
              "      <th>3</th>\n",
              "      <td>Britney Spears</td>\n",
              "      <td>Oops!...I Did It Again</td>\n",
              "      <td>211160</td>\n",
              "      <td>FALSE</td>\n",
              "      <td>2000</td>\n",
              "      <td>77.0</td>\n",
              "      <td>0.751</td>\n",
              "      <td>0.834</td>\n",
              "      <td>1.0</td>\n",
              "      <td>-5.444</td>\n",
              "      <td>...</td>\n",
              "      <td>0.0437</td>\n",
              "      <td>0.300</td>\n",
              "      <td>0.000018</td>\n",
              "      <td>0.3550</td>\n",
              "      <td>0.894</td>\n",
              "      <td>95.053</td>\n",
              "      <td>pop</td>\n",
              "      <td>Britney Spears</td>\n",
              "      <td>77.0</td>\n",
              "      <td>Yes</td>\n",
              "    </tr>\n",
              "    <tr>\n",
              "      <th>4</th>\n",
              "      <td>Britney Spears</td>\n",
              "      <td>Oops!...I Did It Again</td>\n",
              "      <td>211160</td>\n",
              "      <td>FALSE</td>\n",
              "      <td>2000</td>\n",
              "      <td>77.0</td>\n",
              "      <td>0.751</td>\n",
              "      <td>0.834</td>\n",
              "      <td>1.0</td>\n",
              "      <td>-5.444</td>\n",
              "      <td>...</td>\n",
              "      <td>0.0437</td>\n",
              "      <td>0.300</td>\n",
              "      <td>0.000018</td>\n",
              "      <td>0.3550</td>\n",
              "      <td>0.894</td>\n",
              "      <td>95.053</td>\n",
              "      <td>pop</td>\n",
              "      <td>Britney Spears</td>\n",
              "      <td>49.0</td>\n",
              "      <td>Yes</td>\n",
              "    </tr>\n",
              "    <tr>\n",
              "      <th>...</th>\n",
              "      <td>...</td>\n",
              "      <td>...</td>\n",
              "      <td>...</td>\n",
              "      <td>...</td>\n",
              "      <td>...</td>\n",
              "      <td>...</td>\n",
              "      <td>...</td>\n",
              "      <td>...</td>\n",
              "      <td>...</td>\n",
              "      <td>...</td>\n",
              "      <td>...</td>\n",
              "      <td>...</td>\n",
              "      <td>...</td>\n",
              "      <td>...</td>\n",
              "      <td>...</td>\n",
              "      <td>...</td>\n",
              "      <td>...</td>\n",
              "      <td>...</td>\n",
              "      <td>...</td>\n",
              "      <td>...</td>\n",
              "      <td>...</td>\n",
              "    </tr>\n",
              "    <tr>\n",
              "      <th>35593</th>\n",
              "      <td>Post Malone</td>\n",
              "      <td>Circles</td>\n",
              "      <td>215280</td>\n",
              "      <td>FALSE</td>\n",
              "      <td>2019</td>\n",
              "      <td>85.0</td>\n",
              "      <td>0.695</td>\n",
              "      <td>0.762</td>\n",
              "      <td>0.0</td>\n",
              "      <td>-3.497</td>\n",
              "      <td>...</td>\n",
              "      <td>0.0395</td>\n",
              "      <td>0.192</td>\n",
              "      <td>0.002440</td>\n",
              "      <td>0.0863</td>\n",
              "      <td>0.553</td>\n",
              "      <td>120.042</td>\n",
              "      <td>hip hop</td>\n",
              "      <td>Post Malone</td>\n",
              "      <td>7.0</td>\n",
              "      <td>Yes</td>\n",
              "    </tr>\n",
              "    <tr>\n",
              "      <th>35594</th>\n",
              "      <td>Post Malone</td>\n",
              "      <td>Circles</td>\n",
              "      <td>215280</td>\n",
              "      <td>FALSE</td>\n",
              "      <td>2019</td>\n",
              "      <td>85.0</td>\n",
              "      <td>0.695</td>\n",
              "      <td>0.762</td>\n",
              "      <td>0.0</td>\n",
              "      <td>-3.497</td>\n",
              "      <td>...</td>\n",
              "      <td>0.0395</td>\n",
              "      <td>0.192</td>\n",
              "      <td>0.002440</td>\n",
              "      <td>0.0863</td>\n",
              "      <td>0.553</td>\n",
              "      <td>120.042</td>\n",
              "      <td>hip hop</td>\n",
              "      <td>Post Malone</td>\n",
              "      <td>8.0</td>\n",
              "      <td>Yes</td>\n",
              "    </tr>\n",
              "    <tr>\n",
              "      <th>35595</th>\n",
              "      <td>Post Malone</td>\n",
              "      <td>Circles</td>\n",
              "      <td>215280</td>\n",
              "      <td>FALSE</td>\n",
              "      <td>2019</td>\n",
              "      <td>85.0</td>\n",
              "      <td>0.695</td>\n",
              "      <td>0.762</td>\n",
              "      <td>0.0</td>\n",
              "      <td>-3.497</td>\n",
              "      <td>...</td>\n",
              "      <td>0.0395</td>\n",
              "      <td>0.192</td>\n",
              "      <td>0.002440</td>\n",
              "      <td>0.0863</td>\n",
              "      <td>0.553</td>\n",
              "      <td>120.042</td>\n",
              "      <td>hip hop</td>\n",
              "      <td>Post Malone</td>\n",
              "      <td>9.0</td>\n",
              "      <td>Yes</td>\n",
              "    </tr>\n",
              "    <tr>\n",
              "      <th>35596</th>\n",
              "      <td>Post Malone</td>\n",
              "      <td>Circles</td>\n",
              "      <td>215280</td>\n",
              "      <td>FALSE</td>\n",
              "      <td>2019</td>\n",
              "      <td>85.0</td>\n",
              "      <td>0.695</td>\n",
              "      <td>0.762</td>\n",
              "      <td>0.0</td>\n",
              "      <td>-3.497</td>\n",
              "      <td>...</td>\n",
              "      <td>0.0395</td>\n",
              "      <td>0.192</td>\n",
              "      <td>0.002440</td>\n",
              "      <td>0.0863</td>\n",
              "      <td>0.553</td>\n",
              "      <td>120.042</td>\n",
              "      <td>hip hop</td>\n",
              "      <td>Post Malone</td>\n",
              "      <td>4.0</td>\n",
              "      <td>Yes</td>\n",
              "    </tr>\n",
              "    <tr>\n",
              "      <th>35597</th>\n",
              "      <td>Post Malone</td>\n",
              "      <td>Circles</td>\n",
              "      <td>215280</td>\n",
              "      <td>FALSE</td>\n",
              "      <td>2019</td>\n",
              "      <td>85.0</td>\n",
              "      <td>0.695</td>\n",
              "      <td>0.762</td>\n",
              "      <td>0.0</td>\n",
              "      <td>-3.497</td>\n",
              "      <td>...</td>\n",
              "      <td>0.0395</td>\n",
              "      <td>0.192</td>\n",
              "      <td>0.002440</td>\n",
              "      <td>0.0863</td>\n",
              "      <td>0.553</td>\n",
              "      <td>120.042</td>\n",
              "      <td>hip hop</td>\n",
              "      <td>Post Malone</td>\n",
              "      <td>7.0</td>\n",
              "      <td>Yes</td>\n",
              "    </tr>\n",
              "  </tbody>\n",
              "</table>\n",
              "<p>35598 rows × 21 columns</p>\n",
              "</div>\n",
              "      <button class=\"colab-df-convert\" onclick=\"convertToInteractive('df-c7222784-112c-442d-99e0-4f6a64036320')\"\n",
              "              title=\"Convert this dataframe to an interactive table.\"\n",
              "              style=\"display:none;\">\n",
              "        \n",
              "  <svg xmlns=\"http://www.w3.org/2000/svg\" height=\"24px\"viewBox=\"0 0 24 24\"\n",
              "       width=\"24px\">\n",
              "    <path d=\"M0 0h24v24H0V0z\" fill=\"none\"/>\n",
              "    <path d=\"M18.56 5.44l.94 2.06.94-2.06 2.06-.94-2.06-.94-.94-2.06-.94 2.06-2.06.94zm-11 1L8.5 8.5l.94-2.06 2.06-.94-2.06-.94L8.5 2.5l-.94 2.06-2.06.94zm10 10l.94 2.06.94-2.06 2.06-.94-2.06-.94-.94-2.06-.94 2.06-2.06.94z\"/><path d=\"M17.41 7.96l-1.37-1.37c-.4-.4-.92-.59-1.43-.59-.52 0-1.04.2-1.43.59L10.3 9.45l-7.72 7.72c-.78.78-.78 2.05 0 2.83L4 21.41c.39.39.9.59 1.41.59.51 0 1.02-.2 1.41-.59l7.78-7.78 2.81-2.81c.8-.78.8-2.07 0-2.86zM5.41 20L4 18.59l7.72-7.72 1.47 1.35L5.41 20z\"/>\n",
              "  </svg>\n",
              "      </button>\n",
              "      \n",
              "  <style>\n",
              "    .colab-df-container {\n",
              "      display:flex;\n",
              "      flex-wrap:wrap;\n",
              "      gap: 12px;\n",
              "    }\n",
              "\n",
              "    .colab-df-convert {\n",
              "      background-color: #E8F0FE;\n",
              "      border: none;\n",
              "      border-radius: 50%;\n",
              "      cursor: pointer;\n",
              "      display: none;\n",
              "      fill: #1967D2;\n",
              "      height: 32px;\n",
              "      padding: 0 0 0 0;\n",
              "      width: 32px;\n",
              "    }\n",
              "\n",
              "    .colab-df-convert:hover {\n",
              "      background-color: #E2EBFA;\n",
              "      box-shadow: 0px 1px 2px rgba(60, 64, 67, 0.3), 0px 1px 3px 1px rgba(60, 64, 67, 0.15);\n",
              "      fill: #174EA6;\n",
              "    }\n",
              "\n",
              "    [theme=dark] .colab-df-convert {\n",
              "      background-color: #3B4455;\n",
              "      fill: #D2E3FC;\n",
              "    }\n",
              "\n",
              "    [theme=dark] .colab-df-convert:hover {\n",
              "      background-color: #434B5C;\n",
              "      box-shadow: 0px 1px 3px 1px rgba(0, 0, 0, 0.15);\n",
              "      filter: drop-shadow(0px 1px 2px rgba(0, 0, 0, 0.3));\n",
              "      fill: #FFFFFF;\n",
              "    }\n",
              "  </style>\n",
              "\n",
              "      <script>\n",
              "        const buttonEl =\n",
              "          document.querySelector('#df-c7222784-112c-442d-99e0-4f6a64036320 button.colab-df-convert');\n",
              "        buttonEl.style.display =\n",
              "          google.colab.kernel.accessAllowed ? 'block' : 'none';\n",
              "\n",
              "        async function convertToInteractive(key) {\n",
              "          const element = document.querySelector('#df-c7222784-112c-442d-99e0-4f6a64036320');\n",
              "          const dataTable =\n",
              "            await google.colab.kernel.invokeFunction('convertToInteractive',\n",
              "                                                     [key], {});\n",
              "          if (!dataTable) return;\n",
              "\n",
              "          const docLinkHtml = 'Like what you see? Visit the ' +\n",
              "            '<a target=\"_blank\" href=https://colab.research.google.com/notebooks/data_table.ipynb>data table notebook</a>'\n",
              "            + ' to learn more about interactive tables.';\n",
              "          element.innerHTML = '';\n",
              "          dataTable['output_type'] = 'display_data';\n",
              "          await google.colab.output.renderOutput(dataTable, element);\n",
              "          const docLink = document.createElement('div');\n",
              "          docLink.innerHTML = docLinkHtml;\n",
              "          element.appendChild(docLink);\n",
              "        }\n",
              "      </script>\n",
              "    </div>\n",
              "  </div>\n",
              "  "
            ]
          },
          "metadata": {}
        }
      ]
    },
    {
      "cell_type": "markdown",
      "source": [
        "**2-5) spotify_song 전처리: 불필요한 변수와 중복되는 행 제거**\n",
        "\n"
      ],
      "metadata": {
        "id": "BcYU7ttGrikB"
      }
    },
    {
      "cell_type": "code",
      "execution_count": null,
      "metadata": {
        "id": "IuoECe4XwQXX",
        "colab": {
          "base_uri": "https://localhost:8080/",
          "height": 748
        },
        "outputId": "767d2e03-af1c-42e8-a7be-7b1461700d7e"
      },
      "outputs": [
        {
          "output_type": "execute_result",
          "data": {
            "text/plain": [
              "                                         song  popularity  danceability  \\\n",
              "0                      Oops!...I Did It Again        77.0         0.751   \n",
              "20                       All The Small Things        79.0         0.434   \n",
              "39                                    Breathe        66.0         0.529   \n",
              "153                              It's My Life        78.0         0.551   \n",
              "201                               Bye Bye Bye        65.0         0.614   \n",
              "...                                       ...         ...           ...   \n",
              "35521                                  Sucker        79.0         0.842   \n",
              "35559                            Cruel Summer        78.0         0.552   \n",
              "35561                              The Git Up        69.0         0.847   \n",
              "35581  Dancing With A Stranger (with Normani)        75.0         0.741   \n",
              "35582                                 Circles        85.0         0.695   \n",
              "\n",
              "       energy  key  loudness  speechiness  acousticness  instrumentalness  \\\n",
              "0       0.834  1.0    -5.444       0.0437        0.3000          0.000018   \n",
              "20      0.897  0.0    -4.918       0.0488        0.0103          0.000000   \n",
              "39      0.496  7.0    -9.007       0.0290        0.1730          0.000000   \n",
              "153     0.913  0.0    -4.063       0.0466        0.0263          0.000013   \n",
              "201     0.928  8.0    -4.806       0.0516        0.0408          0.001040   \n",
              "...       ...  ...       ...          ...           ...               ...   \n",
              "35521   0.734  1.0    -5.065       0.0588        0.0427          0.000000   \n",
              "35559   0.702  9.0    -5.707       0.1570        0.1170          0.000021   \n",
              "35561   0.678  9.0    -8.635       0.1090        0.0669          0.000000   \n",
              "35581   0.520  8.0    -7.513       0.0656        0.4500          0.000002   \n",
              "35582   0.762  0.0    -3.497       0.0395        0.1920          0.002440   \n",
              "\n",
              "       liveness  valence    tempo             genre top100  \n",
              "0        0.3550    0.894   95.053               pop    Yes  \n",
              "20       0.6120    0.684  148.726         rock, pop    Yes  \n",
              "39       0.2510    0.278  136.859      pop, country    Yes  \n",
              "153      0.3470    0.544  119.992       rock, metal    Yes  \n",
              "201      0.0845    0.879  172.656               pop    Yes  \n",
              "...         ...      ...      ...               ...    ...  \n",
              "35521    0.1060    0.952  137.958               pop    Yes  \n",
              "35559    0.1050    0.564  169.994               pop    Yes  \n",
              "35561    0.2740    0.811   97.984  hip hop, country    Yes  \n",
              "35581    0.2220    0.347  102.998               pop     No  \n",
              "35582    0.0863    0.553  120.042           hip hop    Yes  \n",
              "\n",
              "[1879 rows x 14 columns]"
            ],
            "text/html": [
              "\n",
              "  <div id=\"df-4ec7a826-c4b7-460c-a274-663f414fd0d6\">\n",
              "    <div class=\"colab-df-container\">\n",
              "      <div>\n",
              "<style scoped>\n",
              "    .dataframe tbody tr th:only-of-type {\n",
              "        vertical-align: middle;\n",
              "    }\n",
              "\n",
              "    .dataframe tbody tr th {\n",
              "        vertical-align: top;\n",
              "    }\n",
              "\n",
              "    .dataframe thead th {\n",
              "        text-align: right;\n",
              "    }\n",
              "</style>\n",
              "<table border=\"1\" class=\"dataframe\">\n",
              "  <thead>\n",
              "    <tr style=\"text-align: right;\">\n",
              "      <th></th>\n",
              "      <th>song</th>\n",
              "      <th>popularity</th>\n",
              "      <th>danceability</th>\n",
              "      <th>energy</th>\n",
              "      <th>key</th>\n",
              "      <th>loudness</th>\n",
              "      <th>speechiness</th>\n",
              "      <th>acousticness</th>\n",
              "      <th>instrumentalness</th>\n",
              "      <th>liveness</th>\n",
              "      <th>valence</th>\n",
              "      <th>tempo</th>\n",
              "      <th>genre</th>\n",
              "      <th>top100</th>\n",
              "    </tr>\n",
              "  </thead>\n",
              "  <tbody>\n",
              "    <tr>\n",
              "      <th>0</th>\n",
              "      <td>Oops!...I Did It Again</td>\n",
              "      <td>77.0</td>\n",
              "      <td>0.751</td>\n",
              "      <td>0.834</td>\n",
              "      <td>1.0</td>\n",
              "      <td>-5.444</td>\n",
              "      <td>0.0437</td>\n",
              "      <td>0.3000</td>\n",
              "      <td>0.000018</td>\n",
              "      <td>0.3550</td>\n",
              "      <td>0.894</td>\n",
              "      <td>95.053</td>\n",
              "      <td>pop</td>\n",
              "      <td>Yes</td>\n",
              "    </tr>\n",
              "    <tr>\n",
              "      <th>20</th>\n",
              "      <td>All The Small Things</td>\n",
              "      <td>79.0</td>\n",
              "      <td>0.434</td>\n",
              "      <td>0.897</td>\n",
              "      <td>0.0</td>\n",
              "      <td>-4.918</td>\n",
              "      <td>0.0488</td>\n",
              "      <td>0.0103</td>\n",
              "      <td>0.000000</td>\n",
              "      <td>0.6120</td>\n",
              "      <td>0.684</td>\n",
              "      <td>148.726</td>\n",
              "      <td>rock, pop</td>\n",
              "      <td>Yes</td>\n",
              "    </tr>\n",
              "    <tr>\n",
              "      <th>39</th>\n",
              "      <td>Breathe</td>\n",
              "      <td>66.0</td>\n",
              "      <td>0.529</td>\n",
              "      <td>0.496</td>\n",
              "      <td>7.0</td>\n",
              "      <td>-9.007</td>\n",
              "      <td>0.0290</td>\n",
              "      <td>0.1730</td>\n",
              "      <td>0.000000</td>\n",
              "      <td>0.2510</td>\n",
              "      <td>0.278</td>\n",
              "      <td>136.859</td>\n",
              "      <td>pop, country</td>\n",
              "      <td>Yes</td>\n",
              "    </tr>\n",
              "    <tr>\n",
              "      <th>153</th>\n",
              "      <td>It's My Life</td>\n",
              "      <td>78.0</td>\n",
              "      <td>0.551</td>\n",
              "      <td>0.913</td>\n",
              "      <td>0.0</td>\n",
              "      <td>-4.063</td>\n",
              "      <td>0.0466</td>\n",
              "      <td>0.0263</td>\n",
              "      <td>0.000013</td>\n",
              "      <td>0.3470</td>\n",
              "      <td>0.544</td>\n",
              "      <td>119.992</td>\n",
              "      <td>rock, metal</td>\n",
              "      <td>Yes</td>\n",
              "    </tr>\n",
              "    <tr>\n",
              "      <th>201</th>\n",
              "      <td>Bye Bye Bye</td>\n",
              "      <td>65.0</td>\n",
              "      <td>0.614</td>\n",
              "      <td>0.928</td>\n",
              "      <td>8.0</td>\n",
              "      <td>-4.806</td>\n",
              "      <td>0.0516</td>\n",
              "      <td>0.0408</td>\n",
              "      <td>0.001040</td>\n",
              "      <td>0.0845</td>\n",
              "      <td>0.879</td>\n",
              "      <td>172.656</td>\n",
              "      <td>pop</td>\n",
              "      <td>Yes</td>\n",
              "    </tr>\n",
              "    <tr>\n",
              "      <th>...</th>\n",
              "      <td>...</td>\n",
              "      <td>...</td>\n",
              "      <td>...</td>\n",
              "      <td>...</td>\n",
              "      <td>...</td>\n",
              "      <td>...</td>\n",
              "      <td>...</td>\n",
              "      <td>...</td>\n",
              "      <td>...</td>\n",
              "      <td>...</td>\n",
              "      <td>...</td>\n",
              "      <td>...</td>\n",
              "      <td>...</td>\n",
              "      <td>...</td>\n",
              "    </tr>\n",
              "    <tr>\n",
              "      <th>35521</th>\n",
              "      <td>Sucker</td>\n",
              "      <td>79.0</td>\n",
              "      <td>0.842</td>\n",
              "      <td>0.734</td>\n",
              "      <td>1.0</td>\n",
              "      <td>-5.065</td>\n",
              "      <td>0.0588</td>\n",
              "      <td>0.0427</td>\n",
              "      <td>0.000000</td>\n",
              "      <td>0.1060</td>\n",
              "      <td>0.952</td>\n",
              "      <td>137.958</td>\n",
              "      <td>pop</td>\n",
              "      <td>Yes</td>\n",
              "    </tr>\n",
              "    <tr>\n",
              "      <th>35559</th>\n",
              "      <td>Cruel Summer</td>\n",
              "      <td>78.0</td>\n",
              "      <td>0.552</td>\n",
              "      <td>0.702</td>\n",
              "      <td>9.0</td>\n",
              "      <td>-5.707</td>\n",
              "      <td>0.1570</td>\n",
              "      <td>0.1170</td>\n",
              "      <td>0.000021</td>\n",
              "      <td>0.1050</td>\n",
              "      <td>0.564</td>\n",
              "      <td>169.994</td>\n",
              "      <td>pop</td>\n",
              "      <td>Yes</td>\n",
              "    </tr>\n",
              "    <tr>\n",
              "      <th>35561</th>\n",
              "      <td>The Git Up</td>\n",
              "      <td>69.0</td>\n",
              "      <td>0.847</td>\n",
              "      <td>0.678</td>\n",
              "      <td>9.0</td>\n",
              "      <td>-8.635</td>\n",
              "      <td>0.1090</td>\n",
              "      <td>0.0669</td>\n",
              "      <td>0.000000</td>\n",
              "      <td>0.2740</td>\n",
              "      <td>0.811</td>\n",
              "      <td>97.984</td>\n",
              "      <td>hip hop, country</td>\n",
              "      <td>Yes</td>\n",
              "    </tr>\n",
              "    <tr>\n",
              "      <th>35581</th>\n",
              "      <td>Dancing With A Stranger (with Normani)</td>\n",
              "      <td>75.0</td>\n",
              "      <td>0.741</td>\n",
              "      <td>0.520</td>\n",
              "      <td>8.0</td>\n",
              "      <td>-7.513</td>\n",
              "      <td>0.0656</td>\n",
              "      <td>0.4500</td>\n",
              "      <td>0.000002</td>\n",
              "      <td>0.2220</td>\n",
              "      <td>0.347</td>\n",
              "      <td>102.998</td>\n",
              "      <td>pop</td>\n",
              "      <td>No</td>\n",
              "    </tr>\n",
              "    <tr>\n",
              "      <th>35582</th>\n",
              "      <td>Circles</td>\n",
              "      <td>85.0</td>\n",
              "      <td>0.695</td>\n",
              "      <td>0.762</td>\n",
              "      <td>0.0</td>\n",
              "      <td>-3.497</td>\n",
              "      <td>0.0395</td>\n",
              "      <td>0.1920</td>\n",
              "      <td>0.002440</td>\n",
              "      <td>0.0863</td>\n",
              "      <td>0.553</td>\n",
              "      <td>120.042</td>\n",
              "      <td>hip hop</td>\n",
              "      <td>Yes</td>\n",
              "    </tr>\n",
              "  </tbody>\n",
              "</table>\n",
              "<p>1879 rows × 14 columns</p>\n",
              "</div>\n",
              "      <button class=\"colab-df-convert\" onclick=\"convertToInteractive('df-4ec7a826-c4b7-460c-a274-663f414fd0d6')\"\n",
              "              title=\"Convert this dataframe to an interactive table.\"\n",
              "              style=\"display:none;\">\n",
              "        \n",
              "  <svg xmlns=\"http://www.w3.org/2000/svg\" height=\"24px\"viewBox=\"0 0 24 24\"\n",
              "       width=\"24px\">\n",
              "    <path d=\"M0 0h24v24H0V0z\" fill=\"none\"/>\n",
              "    <path d=\"M18.56 5.44l.94 2.06.94-2.06 2.06-.94-2.06-.94-.94-2.06-.94 2.06-2.06.94zm-11 1L8.5 8.5l.94-2.06 2.06-.94-2.06-.94L8.5 2.5l-.94 2.06-2.06.94zm10 10l.94 2.06.94-2.06 2.06-.94-2.06-.94-.94-2.06-.94 2.06-2.06.94z\"/><path d=\"M17.41 7.96l-1.37-1.37c-.4-.4-.92-.59-1.43-.59-.52 0-1.04.2-1.43.59L10.3 9.45l-7.72 7.72c-.78.78-.78 2.05 0 2.83L4 21.41c.39.39.9.59 1.41.59.51 0 1.02-.2 1.41-.59l7.78-7.78 2.81-2.81c.8-.78.8-2.07 0-2.86zM5.41 20L4 18.59l7.72-7.72 1.47 1.35L5.41 20z\"/>\n",
              "  </svg>\n",
              "      </button>\n",
              "      \n",
              "  <style>\n",
              "    .colab-df-container {\n",
              "      display:flex;\n",
              "      flex-wrap:wrap;\n",
              "      gap: 12px;\n",
              "    }\n",
              "\n",
              "    .colab-df-convert {\n",
              "      background-color: #E8F0FE;\n",
              "      border: none;\n",
              "      border-radius: 50%;\n",
              "      cursor: pointer;\n",
              "      display: none;\n",
              "      fill: #1967D2;\n",
              "      height: 32px;\n",
              "      padding: 0 0 0 0;\n",
              "      width: 32px;\n",
              "    }\n",
              "\n",
              "    .colab-df-convert:hover {\n",
              "      background-color: #E2EBFA;\n",
              "      box-shadow: 0px 1px 2px rgba(60, 64, 67, 0.3), 0px 1px 3px 1px rgba(60, 64, 67, 0.15);\n",
              "      fill: #174EA6;\n",
              "    }\n",
              "\n",
              "    [theme=dark] .colab-df-convert {\n",
              "      background-color: #3B4455;\n",
              "      fill: #D2E3FC;\n",
              "    }\n",
              "\n",
              "    [theme=dark] .colab-df-convert:hover {\n",
              "      background-color: #434B5C;\n",
              "      box-shadow: 0px 1px 3px 1px rgba(0, 0, 0, 0.15);\n",
              "      filter: drop-shadow(0px 1px 2px rgba(0, 0, 0, 0.3));\n",
              "      fill: #FFFFFF;\n",
              "    }\n",
              "  </style>\n",
              "\n",
              "      <script>\n",
              "        const buttonEl =\n",
              "          document.querySelector('#df-4ec7a826-c4b7-460c-a274-663f414fd0d6 button.colab-df-convert');\n",
              "        buttonEl.style.display =\n",
              "          google.colab.kernel.accessAllowed ? 'block' : 'none';\n",
              "\n",
              "        async function convertToInteractive(key) {\n",
              "          const element = document.querySelector('#df-4ec7a826-c4b7-460c-a274-663f414fd0d6');\n",
              "          const dataTable =\n",
              "            await google.colab.kernel.invokeFunction('convertToInteractive',\n",
              "                                                     [key], {});\n",
              "          if (!dataTable) return;\n",
              "\n",
              "          const docLinkHtml = 'Like what you see? Visit the ' +\n",
              "            '<a target=\"_blank\" href=https://colab.research.google.com/notebooks/data_table.ipynb>data table notebook</a>'\n",
              "            + ' to learn more about interactive tables.';\n",
              "          element.innerHTML = '';\n",
              "          dataTable['output_type'] = 'display_data';\n",
              "          await google.colab.output.renderOutput(dataTable, element);\n",
              "          const docLink = document.createElement('div');\n",
              "          docLink.innerHTML = docLinkHtml;\n",
              "          element.appendChild(docLink);\n",
              "        }\n",
              "      </script>\n",
              "    </div>\n",
              "  </div>\n",
              "  "
            ]
          },
          "metadata": {},
          "execution_count": 22
        }
      ],
      "source": [
        "#불필요한 변수 제거\n",
        "spotify_song = spotify_song.drop(columns = ['artist_x','artist_y','rank','duration_ms','explicit','year','mode'],axis=0)\n",
        "\n",
        "#중복되는 행 제거\n",
        "spotify_song.drop_duplicates(['song'])"
      ]
    },
    {
      "cell_type": "markdown",
      "source": [
        "### **분류분석1. spotify_artist**\n",
        "\n",
        "### 분류 문제 선정: 아티스트의 성공 예측 및 전략 수립하기\n",
        "\n",
        "\n",
        "* 종속변수: top-100 포함 여부\n",
        "\n",
        "* 독립변수: popularity, followers, rel_mean, fol_mean\n",
        "\n",
        "Yes: 2019년부터 2년간 1~11월의 첫째 주마다 top-100위를 기록한 가수들\n",
        "No: top-100에 포함되지 않은 가수들\n",
        "\n",
        "\n",
        "어떤 독립변수가 스포티파이 차트에서 높은 순위를 기록하는 데 영향을 줄 수 있는지 확인한다.\n",
        "\n",
        "결과에 무관하게 세운 가정: 인기도가 높을수록 가수가 성공할 확률이 높을 것이기 때문에, 인기도가 top-100에 영향을 줄 것이다."
      ],
      "metadata": {
        "id": "8dsQK7Cq-ALR"
      }
    },
    {
      "cell_type": "markdown",
      "source": [
        "#### **1) 모델구축**"
      ],
      "metadata": {
        "id": "pSMtaYIWI-i5"
      }
    },
    {
      "cell_type": "code",
      "source": [
        "print(spotify_artist.isnull().sum())"
      ],
      "metadata": {
        "colab": {
          "base_uri": "https://localhost:8080/"
        },
        "id": "2_kcmWt5-B5S",
        "outputId": "ea20dbff-f148-4e5c-86b4-da44f801d909"
      },
      "execution_count": null,
      "outputs": [
        {
          "output_type": "stream",
          "name": "stdout",
          "text": [
            "artist         0\n",
            "popularity     0\n",
            "followers      0\n",
            "num_release    0\n",
            "pop_mean       0\n",
            "rel_mean       0\n",
            "fol_mean       0\n",
            "top100         0\n",
            "dtype: int64\n"
          ]
        }
      ]
    },
    {
      "cell_type": "code",
      "source": [
        "display(spotify_artist.info())"
      ],
      "metadata": {
        "colab": {
          "base_uri": "https://localhost:8080/",
          "height": 307
        },
        "id": "QvkhFWNn_sUW",
        "outputId": "0fb89aaf-3957-4b35-a7db-e96d17d7be32"
      },
      "execution_count": null,
      "outputs": [
        {
          "output_type": "stream",
          "name": "stdout",
          "text": [
            "<class 'pandas.core.frame.DataFrame'>\n",
            "Int64Index: 66400 entries, 0 to 66399\n",
            "Data columns (total 8 columns):\n",
            " #   Column       Non-Null Count  Dtype  \n",
            "---  ------       --------------  -----  \n",
            " 0   artist       66400 non-null  object \n",
            " 1   popularity   66400 non-null  float64\n",
            " 2   followers    66400 non-null  float64\n",
            " 3   num_release  66400 non-null  int64  \n",
            " 4   pop_mean     66400 non-null  float64\n",
            " 5   rel_mean     66400 non-null  float64\n",
            " 6   fol_mean     66400 non-null  float64\n",
            " 7   top100       66400 non-null  object \n",
            "dtypes: float64(5), int64(1), object(2)\n",
            "memory usage: 4.6+ MB\n"
          ]
        },
        {
          "output_type": "display_data",
          "data": {
            "text/plain": [
              "None"
            ]
          },
          "metadata": {}
        }
      ]
    },
    {
      "cell_type": "markdown",
      "source": [
        "데이터의 불균형을 막기 위해 각 모델에 class_weigh = \"balanced\"를 적용할 예정"
      ],
      "metadata": {
        "id": "0bNsr5EMWN_H"
      }
    },
    {
      "cell_type": "code",
      "source": [
        "print(spotify_artist['top100'].value_counts())\n",
        "\n",
        "spotify_artist['top100'].value_counts().plot.bar()\n",
        "plt.ylabel('count')\n",
        "plt.title('Distribution of top100')\n",
        "plt.show()"
      ],
      "metadata": {
        "colab": {
          "base_uri": "https://localhost:8080/",
          "height": 378
        },
        "id": "kwtdKUNO_z3A",
        "outputId": "8d7e55b9-3459-4e21-e6e1-9b5df59f34ac"
      },
      "execution_count": null,
      "outputs": [
        {
          "output_type": "stream",
          "name": "stderr",
          "text": [
            "WARNING:matplotlib.font_manager:findfont: Font family ['NanumBarunGothic'] not found. Falling back to DejaVu Sans.\n",
            "WARNING:matplotlib.font_manager:findfont: Font family ['NanumBarunGothic'] not found. Falling back to DejaVu Sans.\n"
          ]
        },
        {
          "output_type": "stream",
          "name": "stdout",
          "text": [
            "Yes    54266\n",
            "No     12134\n",
            "Name: top100, dtype: int64\n"
          ]
        },
        {
          "output_type": "display_data",
          "data": {
            "text/plain": [
              "<Figure size 432x288 with 1 Axes>"
            ],
            "image/png": "[encoded data removed]"
          },
          "metadata": {
            "needs_background": "light"
          }
        }
      ]
    },
    {
      "cell_type": "markdown",
      "source": [
        "**1-1) 의사결정나무**"
      ],
      "metadata": {
        "id": "Cy3WH_A1Ajbk"
      }
    },
    {
      "cell_type": "code",
      "source": [
        "from sklearn.tree import DecisionTreeClassifier\n",
        "from sklearn.model_selection import train_test_split\n",
        "\n",
        "X = spotify_artist.iloc[:, [1, 2, 3, 4, 5, 6]]  # 6개 변수 \n",
        "y = spotify_artist.iloc[:, 7]   # top-100으로 설정\n",
        "\n",
        "# 데이터셋을 학습(train)과 테스트(test) 세트로 분할\n",
        "# random_state : random 으로 분할시 사용되는 난수 seed 숫자\n",
        "#X_train, X_test, y_train, y_test = train_test_split(X, y, test_size = 0.25, stratify=y, random_state=42)\n",
        "\n",
        "X_train, X_test, y_train, y_test = train_test_split(X, y, test_size = 0.25, random_state=42)\n",
        "\n",
        "tree = DecisionTreeClassifier(class_weight = \"balanced\", random_state=0)   #데이터 균형 맞춰주기\n",
        "tree.fit(X_train, y_train)  #(학습용 데이터 작성)\n",
        "print(\"학습용 데이터 정확도: {:.3f}\".format(tree.score(X_train, y_train)))\n",
        "print(\"시험용 데이터 정확도: {:.3f}\".format(tree.score(X_test, y_test)))"
      ],
      "metadata": {
        "colab": {
          "base_uri": "https://localhost:8080/"
        },
        "id": "zBbXpGbJAMBi",
        "outputId": "229c5dc4-721b-455d-cf34-9d2e695ef6b0"
      },
      "execution_count": null,
      "outputs": [
        {
          "output_type": "stream",
          "name": "stdout",
          "text": [
            "학습용 데이터 정확도: 1.000\n",
            "시험용 데이터 정확도: 0.991\n"
          ]
        }
      ]
    },
    {
      "cell_type": "code",
      "source": [
        "# 의사결정나무의 깊이를 4로 제한하면 시험용 데이터에 대한 성능이 향상됨 (과적합을 줄임)\n",
        "#가중치 고려, 해당 모델 선택\n",
        "tree = DecisionTreeClassifier(class_weight = \"balanced\", max_depth=4, random_state=0)\n",
        "tree.fit(X_train, y_train)\n",
        "\n",
        "print(\"학습용 데이터 정확도: {:.3f}\".format(tree.score(X_train, y_train)))\n",
        "print(\"시험용 데이터 정확도: {:.3f}\".format(tree.score(X_test, y_test)))"
      ],
      "metadata": {
        "colab": {
          "base_uri": "https://localhost:8080/"
        },
        "id": "h9B56CM3BLJ0",
        "outputId": "dd41d68c-9da2-408a-e816-22ac90dd7252"
      },
      "execution_count": null,
      "outputs": [
        {
          "output_type": "stream",
          "name": "stdout",
          "text": [
            "학습용 데이터 정확도: 0.942\n",
            "시험용 데이터 정확도: 0.938\n"
          ]
        }
      ]
    },
    {
      "cell_type": "code",
      "source": [
        "#graphviz 라이브러리를 이용하여 의사결정나무 그리기 \n",
        "from sklearn.tree import export_graphviz\n",
        "import graphviz\n",
        "\n",
        "# filled = True: 색상의 진하기로 클래스를 나타냄, impurity: 불순도 계산값 보여주기 옵션\n",
        "export_graphviz(tree, out_file=\"tree.dot\", class_names=[ \"Top-100 No\", \"Top-100 Yes\"],\n",
        "                feature_names=spotify_artist.columns[[1, 2, 3, 4, 5, 6]], impurity=False, filled=True)\n",
        "\n",
        "with open(\"tree.dot\") as f:\n",
        "    dot_graph = f.read()\n",
        "\n",
        "display(graphviz.Source(dot_graph))\n",
        "\n",
        "#(어떤 순서로 중요한지 확인 가능)"
      ],
      "metadata": {
        "colab": {
          "base_uri": "https://localhost:8080/",
          "height": 676
        },
        "id": "tJeREqiUBSwQ",
        "outputId": "cfccc4e3-a904-41a9-8ad9-d34768f87a73"
      },
      "execution_count": null,
      "outputs": [
        {
          "output_type": "display_data",
          "data": {
            "text/plain": [
              "<graphviz.files.Source at 0x7f646fb57ee0>"
            ],
            "image/svg+xml": "<?xml version=\"1.0\" encoding=\"UTF-8\" standalone=\"no\"?>\n<!DOCTYPE svg PUBLIC \"-//W3C//DTD SVG 1.1//EN\"\n \"http://www.w3.org/Graphics/SVG/1.1/DTD/svg11.dtd\">\n<!-- Generated by graphviz version 2.40.1 (20161225.0304)\n -->\n<!-- Title: Tree Pages: 1 -->\n<svg width=\"3265pt\" height=\"477pt\"\n viewBox=\"0.00 0.00 3265.00 477.00\" xmlns=\"http://www.w3.org/2000/svg\" xmlns:xlink=\"http://www.w3.org/1999/xlink\">\n<g id=\"graph0\" class=\"graph\" transform=\"scale(1 1) rotate(0) translate(4 473)\">\n<title>Tree</title>\n<polygon fill=\"#ffffff\" stroke=\"transparent\" points=\"-4,4 -4,-473 3261,-473 3261,4 -4,4\"/>\n<!-- 0 -->\n<g id=\"node1\" class=\"node\">\n<title>0</title>\n<polygon fill=\"#ffffff\" stroke=\"#000000\" points=\"1702.5,-469 1513.5,-469 1513.5,-401 1702.5,-401 1702.5,-469\"/>\n<text text-anchor=\"middle\" x=\"1608\" y=\"-453.8\" font-family=\"Helvetica,sans-Serif\" font-size=\"14.00\" fill=\"#000000\">followers &lt;= 522118.0</text>\n<text text-anchor=\"middle\" x=\"1608\" y=\"-438.8\" font-family=\"Helvetica,sans-Serif\" font-size=\"14.00\" fill=\"#000000\">samples = 49800</text>\n<text text-anchor=\"middle\" x=\"1608\" y=\"-423.8\" font-family=\"Helvetica,sans-Serif\" font-size=\"14.00\" fill=\"#000000\">value = [24900.0, 24900.0]</text>\n<text text-anchor=\"middle\" x=\"1608\" y=\"-408.8\" font-family=\"Helvetica,sans-Serif\" font-size=\"14.00\" fill=\"#000000\">class = Top&#45;100 No</text>\n</g>\n<!-- 1 -->\n<g id=\"node2\" class=\"node\">\n<title>1</title>\n<polygon fill=\"#e68742\" stroke=\"#000000\" points=\"1317,-365 1111,-365 1111,-297 1317,-297 1317,-365\"/>\n<text text-anchor=\"middle\" x=\"1214\" y=\"-349.8\" font-family=\"Helvetica,sans-Serif\" font-size=\"14.00\" fill=\"#000000\">followers &lt;= 294083.5</text>\n<text text-anchor=\"middle\" x=\"1214\" y=\"-334.8\" font-family=\"Helvetica,sans-Serif\" font-size=\"14.00\" fill=\"#000000\">samples = 9509</text>\n<text text-anchor=\"middle\" x=\"1214\" y=\"-319.8\" font-family=\"Helvetica,sans-Serif\" font-size=\"14.00\" fill=\"#000000\">value = [21759.014, 968.344]</text>\n<text text-anchor=\"middle\" x=\"1214\" y=\"-304.8\" font-family=\"Helvetica,sans-Serif\" font-size=\"14.00\" fill=\"#000000\">class = Top&#45;100 No</text>\n</g>\n<!-- 0&#45;&gt;1 -->\n<g id=\"edge1\" class=\"edge\">\n<title>0&#45;&gt;1</title>\n<path fill=\"none\" stroke=\"#000000\" d=\"M1513.3766,-410.0233C1457.3011,-395.2216 1385.9003,-376.3747 1326.8936,-360.7993\"/>\n<polygon fill=\"#000000\" stroke=\"#000000\" points=\"1327.7211,-357.3979 1317.1589,-358.2298 1325.9345,-364.1661 1327.7211,-357.3979\"/>\n<text text-anchor=\"middle\" x=\"1329.7395\" y=\"-376.1337\" font-family=\"Helvetica,sans-Serif\" font-size=\"14.00\" fill=\"#000000\">True</text>\n</g>\n<!-- 16 -->\n<g id=\"node17\" class=\"node\">\n<title>16</title>\n<polygon fill=\"#53aae8\" stroke=\"#000000\" points=\"2121,-365 1907,-365 1907,-297 2121,-297 2121,-365\"/>\n<text text-anchor=\"middle\" x=\"2014\" y=\"-349.8\" font-family=\"Helvetica,sans-Serif\" font-size=\"14.00\" fill=\"#000000\">num_release &lt;= 6.5</text>\n<text text-anchor=\"middle\" x=\"2014\" y=\"-334.8\" font-family=\"Helvetica,sans-Serif\" font-size=\"14.00\" fill=\"#000000\">samples = 40291</text>\n<text text-anchor=\"middle\" x=\"2014\" y=\"-319.8\" font-family=\"Helvetica,sans-Serif\" font-size=\"14.00\" fill=\"#000000\">value = [3140.986, 23931.656]</text>\n<text text-anchor=\"middle\" x=\"2014\" y=\"-304.8\" font-family=\"Helvetica,sans-Serif\" font-size=\"14.00\" fill=\"#000000\">class = Top&#45;100 Yes</text>\n</g>\n<!-- 0&#45;&gt;16 -->\n<g id=\"edge16\" class=\"edge\">\n<title>0&#45;&gt;16</title>\n<path fill=\"none\" stroke=\"#000000\" d=\"M1702.6766,-410.7479C1760.7274,-395.8777 1835.492,-376.7262 1897.2036,-360.9183\"/>\n<polygon fill=\"#000000\" stroke=\"#000000\" points=\"1898.1726,-364.2832 1906.9913,-358.4111 1896.4355,-357.5021 1898.1726,-364.2832\"/>\n<text text-anchor=\"middle\" x=\"1894.2531\" y=\"-376.2225\" font-family=\"Helvetica,sans-Serif\" font-size=\"14.00\" fill=\"#000000\">False</text>\n</g>\n<!-- 2 -->\n<g id=\"node3\" class=\"node\">\n<title>2</title>\n<polygon fill=\"#e6843e\" stroke=\"#000000\" points=\"726.5,-261 529.5,-261 529.5,-193 726.5,-193 726.5,-261\"/>\n<text text-anchor=\"middle\" x=\"628\" y=\"-245.8\" font-family=\"Helvetica,sans-Serif\" font-size=\"14.00\" fill=\"#000000\">followers &lt;= 117608.0</text>\n<text text-anchor=\"middle\" x=\"628\" y=\"-230.8\" font-family=\"Helvetica,sans-Serif\" font-size=\"14.00\" fill=\"#000000\">samples = 8183</text>\n<text text-anchor=\"middle\" x=\"628\" y=\"-215.8\" font-family=\"Helvetica,sans-Serif\" font-size=\"14.00\" fill=\"#000000\">value = [20276.381, 487.84]</text>\n<text text-anchor=\"middle\" x=\"628\" y=\"-200.8\" font-family=\"Helvetica,sans-Serif\" font-size=\"14.00\" fill=\"#000000\">class = Top&#45;100 No</text>\n</g>\n<!-- 1&#45;&gt;2 -->\n<g id=\"edge2\" class=\"edge\">\n<title>1&#45;&gt;2</title>\n<path fill=\"none\" stroke=\"#000000\" d=\"M1110.9201,-312.706C1005.8257,-294.0544 843.4511,-265.2371 736.4538,-246.2478\"/>\n<polygon fill=\"#000000\" stroke=\"#000000\" points=\"737.056,-242.8 726.5982,-244.4987 735.8327,-249.6923 737.056,-242.8\"/>\n</g>\n<!-- 9 -->\n<g id=\"node10\" class=\"node\">\n<title>9</title>\n<polygon fill=\"#edaa79\" stroke=\"#000000\" points=\"1312.5,-261 1115.5,-261 1115.5,-193 1312.5,-193 1312.5,-261\"/>\n<text text-anchor=\"middle\" x=\"1214\" y=\"-245.8\" font-family=\"Helvetica,sans-Serif\" font-size=\"14.00\" fill=\"#000000\">fol_mean &lt;= 750687.906</text>\n<text text-anchor=\"middle\" x=\"1214\" y=\"-230.8\" font-family=\"Helvetica,sans-Serif\" font-size=\"14.00\" fill=\"#000000\">samples = 1326</text>\n<text text-anchor=\"middle\" x=\"1214\" y=\"-215.8\" font-family=\"Helvetica,sans-Serif\" font-size=\"14.00\" fill=\"#000000\">value = [1482.633, 480.504]</text>\n<text text-anchor=\"middle\" x=\"1214\" y=\"-200.8\" font-family=\"Helvetica,sans-Serif\" font-size=\"14.00\" fill=\"#000000\">class = Top&#45;100 No</text>\n</g>\n<!-- 1&#45;&gt;9 -->\n<g id=\"edge9\" class=\"edge\">\n<title>1&#45;&gt;9</title>\n<path fill=\"none\" stroke=\"#000000\" d=\"M1214,-296.9465C1214,-288.776 1214,-279.9318 1214,-271.3697\"/>\n<polygon fill=\"#000000\" stroke=\"#000000\" points=\"1217.5001,-271.13 1214,-261.13 1210.5001,-271.13 1217.5001,-271.13\"/>\n</g>\n<!-- 3 -->\n<g id=\"node4\" class=\"node\">\n<title>3</title>\n<polygon fill=\"#e5833c\" stroke=\"#000000\" points=\"414,-157 208,-157 208,-89 414,-89 414,-157\"/>\n<text text-anchor=\"middle\" x=\"311\" y=\"-141.8\" font-family=\"Helvetica,sans-Serif\" font-size=\"14.00\" fill=\"#000000\">fol_mean &lt;= 12869656.5</text>\n<text text-anchor=\"middle\" x=\"311\" y=\"-126.8\" font-family=\"Helvetica,sans-Serif\" font-size=\"14.00\" fill=\"#000000\">samples = 6706</text>\n<text text-anchor=\"middle\" x=\"311\" y=\"-111.8\" font-family=\"Helvetica,sans-Serif\" font-size=\"14.00\" fill=\"#000000\">value = [17415.448, 221.912]</text>\n<text text-anchor=\"middle\" x=\"311\" y=\"-96.8\" font-family=\"Helvetica,sans-Serif\" font-size=\"14.00\" fill=\"#000000\">class = Top&#45;100 No</text>\n</g>\n<!-- 2&#45;&gt;3 -->\n<g id=\"edge3\" class=\"edge\">\n<title>2&#45;&gt;3</title>\n<path fill=\"none\" stroke=\"#000000\" d=\"M529.4369,-194.6638C495.9615,-183.6814 458.303,-171.3265 423.803,-160.0079\"/>\n<polygon fill=\"#000000\" stroke=\"#000000\" points=\"424.7549,-156.6367 414.1621,-156.845 422.5728,-163.2879 424.7549,-156.6367\"/>\n</g>\n<!-- 6 -->\n<g id=\"node7\" class=\"node\">\n<title>6</title>\n<polygon fill=\"#e78d4b\" stroke=\"#000000\" points=\"726.5,-157 529.5,-157 529.5,-89 726.5,-89 726.5,-157\"/>\n<text text-anchor=\"middle\" x=\"628\" y=\"-141.8\" font-family=\"Helvetica,sans-Serif\" font-size=\"14.00\" fill=\"#000000\">popularity &lt;= 60.5</text>\n<text text-anchor=\"middle\" x=\"628\" y=\"-126.8\" font-family=\"Helvetica,sans-Serif\" font-size=\"14.00\" fill=\"#000000\">samples = 1477</text>\n<text text-anchor=\"middle\" x=\"628\" y=\"-111.8\" font-family=\"Helvetica,sans-Serif\" font-size=\"14.00\" fill=\"#000000\">value = [2860.933, 265.928]</text>\n<text text-anchor=\"middle\" x=\"628\" y=\"-96.8\" font-family=\"Helvetica,sans-Serif\" font-size=\"14.00\" fill=\"#000000\">class = Top&#45;100 No</text>\n</g>\n<!-- 2&#45;&gt;6 -->\n<g id=\"edge6\" class=\"edge\">\n<title>2&#45;&gt;6</title>\n<path fill=\"none\" stroke=\"#000000\" d=\"M628,-192.9465C628,-184.776 628,-175.9318 628,-167.3697\"/>\n<polygon fill=\"#000000\" stroke=\"#000000\" points=\"631.5001,-167.13 628,-157.13 624.5001,-167.13 631.5001,-167.13\"/>\n</g>\n<!-- 4 -->\n<g id=\"node5\" class=\"node\">\n<title>4</title>\n<polygon fill=\"#e5823b\" stroke=\"#000000\" points=\"206,-53 0,-53 0,0 206,0 206,-53\"/>\n<text text-anchor=\"middle\" x=\"103\" y=\"-37.8\" font-family=\"Helvetica,sans-Serif\" font-size=\"14.00\" fill=\"#000000\">samples = 6633</text>\n<text text-anchor=\"middle\" x=\"103\" y=\"-22.8\" font-family=\"Helvetica,sans-Serif\" font-size=\"14.00\" fill=\"#000000\">value = [17355.045, 190.734]</text>\n<text text-anchor=\"middle\" x=\"103\" y=\"-7.8\" font-family=\"Helvetica,sans-Serif\" font-size=\"14.00\" fill=\"#000000\">class = Top&#45;100 No</text>\n</g>\n<!-- 3&#45;&gt;4 -->\n<g id=\"edge4\" class=\"edge\">\n<title>3&#45;&gt;4</title>\n<path fill=\"none\" stroke=\"#000000\" d=\"M237.667,-88.9777C215.4589,-78.6744 191.2018,-67.4205 169.4698,-57.3381\"/>\n<polygon fill=\"#000000\" stroke=\"#000000\" points=\"170.8683,-54.1287 160.324,-53.095 167.9223,-60.4786 170.8683,-54.1287\"/>\n</g>\n<!-- 5 -->\n<g id=\"node6\" class=\"node\">\n<title>5</title>\n<polygon fill=\"#f2c29f\" stroke=\"#000000\" points=\"397.5,-53 224.5,-53 224.5,0 397.5,0 397.5,-53\"/>\n<text text-anchor=\"middle\" x=\"311\" y=\"-37.8\" font-family=\"Helvetica,sans-Serif\" font-size=\"14.00\" fill=\"#000000\">samples = 73</text>\n<text text-anchor=\"middle\" x=\"311\" y=\"-22.8\" font-family=\"Helvetica,sans-Serif\" font-size=\"14.00\" fill=\"#000000\">value = [60.404, 31.178]</text>\n<text text-anchor=\"middle\" x=\"311\" y=\"-7.8\" font-family=\"Helvetica,sans-Serif\" font-size=\"14.00\" fill=\"#000000\">class = Top&#45;100 No</text>\n</g>\n<!-- 3&#45;&gt;5 -->\n<g id=\"edge5\" class=\"edge\">\n<title>3&#45;&gt;5</title>\n<path fill=\"none\" stroke=\"#000000\" d=\"M311,-88.9777C311,-80.7364 311,-71.887 311,-63.5153\"/>\n<polygon fill=\"#000000\" stroke=\"#000000\" points=\"314.5001,-63.2484 311,-53.2485 307.5001,-63.2485 314.5001,-63.2484\"/>\n</g>\n<!-- 7 -->\n<g id=\"node8\" class=\"node\">\n<title>7</title>\n<polygon fill=\"#e68743\" stroke=\"#000000\" points=\"612.5,-53 415.5,-53 415.5,0 612.5,0 612.5,-53\"/>\n<text text-anchor=\"middle\" x=\"514\" y=\"-37.8\" font-family=\"Helvetica,sans-Serif\" font-size=\"14.00\" fill=\"#000000\">samples = 949</text>\n<text text-anchor=\"middle\" x=\"514\" y=\"-22.8\" font-family=\"Helvetica,sans-Serif\" font-size=\"14.00\" fill=\"#000000\">value = [2125.108, 106.982]</text>\n<text text-anchor=\"middle\" x=\"514\" y=\"-7.8\" font-family=\"Helvetica,sans-Serif\" font-size=\"14.00\" fill=\"#000000\">class = Top&#45;100 No</text>\n</g>\n<!-- 6&#45;&gt;7 -->\n<g id=\"edge7\" class=\"edge\">\n<title>6&#45;&gt;7</title>\n<path fill=\"none\" stroke=\"#000000\" d=\"M587.8079,-88.9777C576.6658,-79.546 564.5827,-69.3178 553.4815,-59.9208\"/>\n<polygon fill=\"#000000\" stroke=\"#000000\" points=\"555.4932,-57.038 545.5992,-53.2485 550.9705,-62.3809 555.4932,-57.038\"/>\n</g>\n<!-- 8 -->\n<g id=\"node9\" class=\"node\">\n<title>8</title>\n<polygon fill=\"#eb9c64\" stroke=\"#000000\" points=\"819.5,-53 630.5,-53 630.5,0 819.5,0 819.5,-53\"/>\n<text text-anchor=\"middle\" x=\"725\" y=\"-37.8\" font-family=\"Helvetica,sans-Serif\" font-size=\"14.00\" fill=\"#000000\">samples = 528</text>\n<text text-anchor=\"middle\" x=\"725\" y=\"-22.8\" font-family=\"Helvetica,sans-Serif\" font-size=\"14.00\" fill=\"#000000\">value = [735.825, 158.945]</text>\n<text text-anchor=\"middle\" x=\"725\" y=\"-7.8\" font-family=\"Helvetica,sans-Serif\" font-size=\"14.00\" fill=\"#000000\">class = Top&#45;100 No</text>\n</g>\n<!-- 6&#45;&gt;8 -->\n<g id=\"edge8\" class=\"edge\">\n<title>6&#45;&gt;8</title>\n<path fill=\"none\" stroke=\"#000000\" d=\"M662.1986,-88.9777C671.495,-79.7292 681.5614,-69.7147 690.8549,-60.4691\"/>\n<polygon fill=\"#000000\" stroke=\"#000000\" points=\"693.4921,-62.7825 698.1129,-53.2485 688.5551,-57.82 693.4921,-62.7825\"/>\n</g>\n<!-- 10 -->\n<g id=\"node11\" class=\"node\">\n<title>10</title>\n<polygon fill=\"#e88e4e\" stroke=\"#000000\" points=\"1203.5,-157 1022.5,-157 1022.5,-89 1203.5,-89 1203.5,-157\"/>\n<text text-anchor=\"middle\" x=\"1113\" y=\"-141.8\" font-family=\"Helvetica,sans-Serif\" font-size=\"14.00\" fill=\"#000000\">num_release &lt;= 15.5</text>\n<text text-anchor=\"middle\" x=\"1113\" y=\"-126.8\" font-family=\"Helvetica,sans-Serif\" font-size=\"14.00\" fill=\"#000000\">samples = 445</text>\n<text text-anchor=\"middle\" x=\"1113\" y=\"-111.8\" font-family=\"Helvetica,sans-Serif\" font-size=\"14.00\" fill=\"#000000\">value = [831.922, 86.809]</text>\n<text text-anchor=\"middle\" x=\"1113\" y=\"-96.8\" font-family=\"Helvetica,sans-Serif\" font-size=\"14.00\" fill=\"#000000\">class = Top&#45;100 No</text>\n</g>\n<!-- 9&#45;&gt;10 -->\n<g id=\"edge10\" class=\"edge\">\n<title>9&#45;&gt;10</title>\n<path fill=\"none\" stroke=\"#000000\" d=\"M1180.9288,-192.9465C1172.1221,-183.8782 1162.5093,-173.9799 1153.3597,-164.5585\"/>\n<polygon fill=\"#000000\" stroke=\"#000000\" points=\"1155.6232,-161.8654 1146.1455,-157.13 1150.6015,-166.7422 1155.6232,-161.8654\"/>\n</g>\n<!-- 13 -->\n<g id=\"node14\" class=\"node\">\n<title>13</title>\n<polygon fill=\"#f5cdb1\" stroke=\"#000000\" points=\"1410.5,-157 1221.5,-157 1221.5,-89 1410.5,-89 1410.5,-157\"/>\n<text text-anchor=\"middle\" x=\"1316\" y=\"-141.8\" font-family=\"Helvetica,sans-Serif\" font-size=\"14.00\" fill=\"#000000\">followers &lt;= 467540.0</text>\n<text text-anchor=\"middle\" x=\"1316\" y=\"-126.8\" font-family=\"Helvetica,sans-Serif\" font-size=\"14.00\" fill=\"#000000\">samples = 881</text>\n<text text-anchor=\"middle\" x=\"1316\" y=\"-111.8\" font-family=\"Helvetica,sans-Serif\" font-size=\"14.00\" fill=\"#000000\">value = [650.711, 393.695]</text>\n<text text-anchor=\"middle\" x=\"1316\" y=\"-96.8\" font-family=\"Helvetica,sans-Serif\" font-size=\"14.00\" fill=\"#000000\">class = Top&#45;100 No</text>\n</g>\n<!-- 9&#45;&gt;13 -->\n<g id=\"edge13\" class=\"edge\">\n<title>9&#45;&gt;13</title>\n<path fill=\"none\" stroke=\"#000000\" d=\"M1247.3986,-192.9465C1256.3806,-183.7884 1266.1928,-173.7838 1275.515,-164.2788\"/>\n<polygon fill=\"#000000\" stroke=\"#000000\" points=\"1278.023,-166.7201 1282.5263,-157.13 1273.0254,-161.8187 1278.023,-166.7201\"/>\n</g>\n<!-- 11 -->\n<g id=\"node12\" class=\"node\">\n<title>11</title>\n<polygon fill=\"#e5833c\" stroke=\"#000000\" points=\"1010.5,-53 837.5,-53 837.5,0 1010.5,0 1010.5,-53\"/>\n<text text-anchor=\"middle\" x=\"924\" y=\"-37.8\" font-family=\"Helvetica,sans-Serif\" font-size=\"14.00\" fill=\"#000000\">samples = 191</text>\n<text text-anchor=\"middle\" x=\"924\" y=\"-22.8\" font-family=\"Helvetica,sans-Serif\" font-size=\"14.00\" fill=\"#000000\">value = [485.974, 8.559]</text>\n<text text-anchor=\"middle\" x=\"924\" y=\"-7.8\" font-family=\"Helvetica,sans-Serif\" font-size=\"14.00\" fill=\"#000000\">class = Top&#45;100 No</text>\n</g>\n<!-- 10&#45;&gt;11 -->\n<g id=\"edge11\" class=\"edge\">\n<title>10&#45;&gt;11</title>\n<path fill=\"none\" stroke=\"#000000\" d=\"M1046.3657,-88.9777C1026.4564,-78.8124 1004.735,-67.7218 985.1927,-57.7439\"/>\n<polygon fill=\"#000000\" stroke=\"#000000\" points=\"986.5855,-54.5253 976.0877,-53.095 983.4023,-60.7596 986.5855,-54.5253\"/>\n</g>\n<!-- 12 -->\n<g id=\"node13\" class=\"node\">\n<title>12</title>\n<polygon fill=\"#eb9d66\" stroke=\"#000000\" points=\"1201.5,-53 1028.5,-53 1028.5,0 1201.5,0 1201.5,-53\"/>\n<text text-anchor=\"middle\" x=\"1115\" y=\"-37.8\" font-family=\"Helvetica,sans-Serif\" font-size=\"14.00\" fill=\"#000000\">samples = 254</text>\n<text text-anchor=\"middle\" x=\"1115\" y=\"-22.8\" font-family=\"Helvetica,sans-Serif\" font-size=\"14.00\" fill=\"#000000\">value = [345.948, 78.25]</text>\n<text text-anchor=\"middle\" x=\"1115\" y=\"-7.8\" font-family=\"Helvetica,sans-Serif\" font-size=\"14.00\" fill=\"#000000\">class = Top&#45;100 No</text>\n</g>\n<!-- 10&#45;&gt;12 -->\n<g id=\"edge12\" class=\"edge\">\n<title>10&#45;&gt;12</title>\n<path fill=\"none\" stroke=\"#000000\" d=\"M1113.7051,-88.9777C1113.8759,-80.7364 1114.0593,-71.887 1114.2328,-63.5153\"/>\n<polygon fill=\"#000000\" stroke=\"#000000\" points=\"1117.7376,-63.3189 1114.4456,-53.2485 1110.7391,-63.1738 1117.7376,-63.3189\"/>\n</g>\n<!-- 14 -->\n<g id=\"node15\" class=\"node\">\n<title>14</title>\n<polygon fill=\"#efb184\" stroke=\"#000000\" points=\"1408.5,-53 1219.5,-53 1219.5,0 1408.5,0 1408.5,-53\"/>\n<text text-anchor=\"middle\" x=\"1314\" y=\"-37.8\" font-family=\"Helvetica,sans-Serif\" font-size=\"14.00\" fill=\"#000000\">samples = 537</text>\n<text text-anchor=\"middle\" x=\"1314\" y=\"-22.8\" font-family=\"Helvetica,sans-Serif\" font-size=\"14.00\" fill=\"#000000\">value = [546.378, 206.629]</text>\n<text text-anchor=\"middle\" x=\"1314\" y=\"-7.8\" font-family=\"Helvetica,sans-Serif\" font-size=\"14.00\" fill=\"#000000\">class = Top&#45;100 No</text>\n</g>\n<!-- 13&#45;&gt;14 -->\n<g id=\"edge14\" class=\"edge\">\n<title>13&#45;&gt;14</title>\n<path fill=\"none\" stroke=\"#000000\" d=\"M1315.2949,-88.9777C1315.1241,-80.7364 1314.9407,-71.887 1314.7672,-63.5153\"/>\n<polygon fill=\"#000000\" stroke=\"#000000\" points=\"1318.2609,-63.1738 1314.5544,-53.2485 1311.2624,-63.3189 1318.2609,-63.1738\"/>\n</g>\n<!-- 15 -->\n<g id=\"node16\" class=\"node\">\n<title>15</title>\n<polygon fill=\"#a7d4f4\" stroke=\"#000000\" points=\"1615.5,-53 1426.5,-53 1426.5,0 1615.5,0 1615.5,-53\"/>\n<text text-anchor=\"middle\" x=\"1521\" y=\"-37.8\" font-family=\"Helvetica,sans-Serif\" font-size=\"14.00\" fill=\"#000000\">samples = 344</text>\n<text text-anchor=\"middle\" x=\"1521\" y=\"-22.8\" font-family=\"Helvetica,sans-Serif\" font-size=\"14.00\" fill=\"#000000\">value = [104.333, 187.066]</text>\n<text text-anchor=\"middle\" x=\"1521\" y=\"-7.8\" font-family=\"Helvetica,sans-Serif\" font-size=\"14.00\" fill=\"#000000\">class = Top&#45;100 Yes</text>\n</g>\n<!-- 13&#45;&gt;15 -->\n<g id=\"edge15\" class=\"edge\">\n<title>13&#45;&gt;15</title>\n<path fill=\"none\" stroke=\"#000000\" d=\"M1388.2753,-88.9777C1410.0654,-78.7204 1433.8569,-67.521 1455.2019,-57.4732\"/>\n<polygon fill=\"#000000\" stroke=\"#000000\" points=\"1456.9458,-60.5208 1464.5028,-53.095 1453.9644,-54.1874 1456.9458,-60.5208\"/>\n</g>\n<!-- 17 -->\n<g id=\"node18\" class=\"node\">\n<title>17</title>\n<polygon fill=\"#eda978\" stroke=\"#000000\" points=\"2112.5,-261 1915.5,-261 1915.5,-193 2112.5,-193 2112.5,-261\"/>\n<text text-anchor=\"middle\" x=\"2014\" y=\"-245.8\" font-family=\"Helvetica,sans-Serif\" font-size=\"14.00\" fill=\"#000000\">rel_mean &lt;= 20.911</text>\n<text text-anchor=\"middle\" x=\"2014\" y=\"-230.8\" font-family=\"Helvetica,sans-Serif\" font-size=\"14.00\" fill=\"#000000\">samples = 1038</text>\n<text text-anchor=\"middle\" x=\"2014\" y=\"-215.8\" font-family=\"Helvetica,sans-Serif\" font-size=\"14.00\" fill=\"#000000\">value = [1169.633, 374.133]</text>\n<text text-anchor=\"middle\" x=\"2014\" y=\"-200.8\" font-family=\"Helvetica,sans-Serif\" font-size=\"14.00\" fill=\"#000000\">class = Top&#45;100 No</text>\n</g>\n<!-- 16&#45;&gt;17 -->\n<g id=\"edge17\" class=\"edge\">\n<title>16&#45;&gt;17</title>\n<path fill=\"none\" stroke=\"#000000\" d=\"M2014,-296.9465C2014,-288.776 2014,-279.9318 2014,-271.3697\"/>\n<polygon fill=\"#000000\" stroke=\"#000000\" points=\"2017.5001,-271.13 2014,-261.13 2010.5001,-271.13 2017.5001,-271.13\"/>\n</g>\n<!-- 24 -->\n<g id=\"node25\" class=\"node\">\n<title>24</title>\n<polygon fill=\"#4aa5e7\" stroke=\"#000000\" points=\"2718,-261 2504,-261 2504,-193 2718,-193 2718,-261\"/>\n<text text-anchor=\"middle\" x=\"2611\" y=\"-245.8\" font-family=\"Helvetica,sans-Serif\" font-size=\"14.00\" fill=\"#000000\">followers &lt;= 1225191.5</text>\n<text text-anchor=\"middle\" x=\"2611\" y=\"-230.8\" font-family=\"Helvetica,sans-Serif\" font-size=\"14.00\" fill=\"#000000\">samples = 39253</text>\n<text text-anchor=\"middle\" x=\"2611\" y=\"-215.8\" font-family=\"Helvetica,sans-Serif\" font-size=\"14.00\" fill=\"#000000\">value = [1971.353, 23557.524]</text>\n<text text-anchor=\"middle\" x=\"2611\" y=\"-200.8\" font-family=\"Helvetica,sans-Serif\" font-size=\"14.00\" fill=\"#000000\">class = Top&#45;100 Yes</text>\n</g>\n<!-- 16&#45;&gt;24 -->\n<g id=\"edge24\" class=\"edge\">\n<title>16&#45;&gt;24</title>\n<path fill=\"none\" stroke=\"#000000\" d=\"M2121.0762,-312.3469C2226.0138,-294.0663 2385.5442,-266.2754 2493.8238,-247.4126\"/>\n<polygon fill=\"#000000\" stroke=\"#000000\" points=\"2494.5607,-250.837 2503.8117,-245.6727 2493.3593,-243.9409 2494.5607,-250.837\"/>\n</g>\n<!-- 18 -->\n<g id=\"node19\" class=\"node\">\n<title>18</title>\n<polygon fill=\"#e99254\" stroke=\"#000000\" points=\"2005.5,-157 1816.5,-157 1816.5,-89 2005.5,-89 2005.5,-157\"/>\n<text text-anchor=\"middle\" x=\"1911\" y=\"-141.8\" font-family=\"Helvetica,sans-Serif\" font-size=\"14.00\" fill=\"#000000\">pop_mean &lt;= 79.844</text>\n<text text-anchor=\"middle\" x=\"1911\" y=\"-126.8\" font-family=\"Helvetica,sans-Serif\" font-size=\"14.00\" fill=\"#000000\">samples = 555</text>\n<text text-anchor=\"middle\" x=\"1911\" y=\"-111.8\" font-family=\"Helvetica,sans-Serif\" font-size=\"14.00\" fill=\"#000000\">value = [947.238, 128.379]</text>\n<text text-anchor=\"middle\" x=\"1911\" y=\"-96.8\" font-family=\"Helvetica,sans-Serif\" font-size=\"14.00\" fill=\"#000000\">class = Top&#45;100 No</text>\n</g>\n<!-- 17&#45;&gt;18 -->\n<g id=\"edge18\" class=\"edge\">\n<title>17&#45;&gt;18</title>\n<path fill=\"none\" stroke=\"#000000\" d=\"M1980.2739,-192.9465C1971.2039,-183.7884 1961.2955,-173.7838 1951.8819,-164.2788\"/>\n<polygon fill=\"#000000\" stroke=\"#000000\" points=\"1954.3255,-161.7723 1944.8018,-157.13 1949.3519,-166.6981 1954.3255,-161.7723\"/>\n</g>\n<!-- 21 -->\n<g id=\"node22\" class=\"node\">\n<title>21</title>\n<polygon fill=\"#ecf6fd\" stroke=\"#000000\" points=\"2212.5,-157 2023.5,-157 2023.5,-89 2212.5,-89 2212.5,-157\"/>\n<text text-anchor=\"middle\" x=\"2118\" y=\"-141.8\" font-family=\"Helvetica,sans-Serif\" font-size=\"14.00\" fill=\"#000000\">num_release &lt;= 2.5</text>\n<text text-anchor=\"middle\" x=\"2118\" y=\"-126.8\" font-family=\"Helvetica,sans-Serif\" font-size=\"14.00\" fill=\"#000000\">samples = 483</text>\n<text text-anchor=\"middle\" x=\"2118\" y=\"-111.8\" font-family=\"Helvetica,sans-Serif\" font-size=\"14.00\" fill=\"#000000\">value = [222.395, 245.754]</text>\n<text text-anchor=\"middle\" x=\"2118\" y=\"-96.8\" font-family=\"Helvetica,sans-Serif\" font-size=\"14.00\" fill=\"#000000\">class = Top&#45;100 Yes</text>\n</g>\n<!-- 17&#45;&gt;21 -->\n<g id=\"edge21\" class=\"edge\">\n<title>17&#45;&gt;21</title>\n<path fill=\"none\" stroke=\"#000000\" d=\"M2048.0535,-192.9465C2057.2116,-183.7884 2067.2162,-173.7838 2076.7212,-164.2788\"/>\n<polygon fill=\"#000000\" stroke=\"#000000\" points=\"2079.2738,-166.676 2083.87,-157.13 2074.324,-161.7262 2079.2738,-166.676\"/>\n</g>\n<!-- 19 -->\n<g id=\"node20\" class=\"node\">\n<title>19</title>\n<polygon fill=\"#e78c4a\" stroke=\"#000000\" points=\"1814.5,-53 1633.5,-53 1633.5,0 1814.5,0 1814.5,-53\"/>\n<text text-anchor=\"middle\" x=\"1724\" y=\"-37.8\" font-family=\"Helvetica,sans-Serif\" font-size=\"14.00\" fill=\"#000000\">samples = 456</text>\n<text text-anchor=\"middle\" x=\"1724\" y=\"-22.8\" font-family=\"Helvetica,sans-Serif\" font-size=\"14.00\" fill=\"#000000\">value = [906.054, 77.027]</text>\n<text text-anchor=\"middle\" x=\"1724\" y=\"-7.8\" font-family=\"Helvetica,sans-Serif\" font-size=\"14.00\" fill=\"#000000\">class = Top&#45;100 No</text>\n</g>\n<!-- 18&#45;&gt;19 -->\n<g id=\"edge19\" class=\"edge\">\n<title>18&#45;&gt;19</title>\n<path fill=\"none\" stroke=\"#000000\" d=\"M1845.0708,-88.9777C1825.3722,-78.8124 1803.8806,-67.7218 1784.5451,-57.7439\"/>\n<polygon fill=\"#000000\" stroke=\"#000000\" points=\"1786.0281,-54.5706 1775.5365,-53.095 1782.818,-60.7912 1786.0281,-54.5706\"/>\n</g>\n<!-- 20 -->\n<g id=\"node21\" class=\"node\">\n<title>20</title>\n<polygon fill=\"#d8ecfa\" stroke=\"#000000\" points=\"2005.5,-53 1832.5,-53 1832.5,0 2005.5,0 2005.5,-53\"/>\n<text text-anchor=\"middle\" x=\"1919\" y=\"-37.8\" font-family=\"Helvetica,sans-Serif\" font-size=\"14.00\" fill=\"#000000\">samples = 99</text>\n<text text-anchor=\"middle\" x=\"1919\" y=\"-22.8\" font-family=\"Helvetica,sans-Serif\" font-size=\"14.00\" fill=\"#000000\">value = [41.184, 51.352]</text>\n<text text-anchor=\"middle\" x=\"1919\" y=\"-7.8\" font-family=\"Helvetica,sans-Serif\" font-size=\"14.00\" fill=\"#000000\">class = Top&#45;100 Yes</text>\n</g>\n<!-- 18&#45;&gt;20 -->\n<g id=\"edge20\" class=\"edge\">\n<title>18&#45;&gt;20</title>\n<path fill=\"none\" stroke=\"#000000\" d=\"M1913.8205,-88.9777C1914.5113,-80.6449 1915.2537,-71.6903 1915.9545,-63.2364\"/>\n<polygon fill=\"#000000\" stroke=\"#000000\" points=\"1919.4443,-63.5035 1916.7825,-53.2485 1912.4682,-62.9251 1919.4443,-63.5035\"/>\n</g>\n<!-- 22 -->\n<g id=\"node23\" class=\"node\">\n<title>22</title>\n<polygon fill=\"#e99457\" stroke=\"#000000\" points=\"2196.5,-53 2023.5,-53 2023.5,0 2196.5,0 2196.5,-53\"/>\n<text text-anchor=\"middle\" x=\"2110\" y=\"-37.8\" font-family=\"Helvetica,sans-Serif\" font-size=\"14.00\" fill=\"#000000\">samples = 59</text>\n<text text-anchor=\"middle\" x=\"2110\" y=\"-22.8\" font-family=\"Helvetica,sans-Serif\" font-size=\"14.00\" fill=\"#000000\">value = [96.097, 14.672]</text>\n<text text-anchor=\"middle\" x=\"2110\" y=\"-7.8\" font-family=\"Helvetica,sans-Serif\" font-size=\"14.00\" fill=\"#000000\">class = Top&#45;100 No</text>\n</g>\n<!-- 21&#45;&gt;22 -->\n<g id=\"edge22\" class=\"edge\">\n<title>21&#45;&gt;22</title>\n<path fill=\"none\" stroke=\"#000000\" d=\"M2115.1795,-88.9777C2114.4887,-80.6449 2113.7463,-71.6903 2113.0455,-63.2364\"/>\n<polygon fill=\"#000000\" stroke=\"#000000\" points=\"2116.5318,-62.9251 2112.2175,-53.2485 2109.5557,-63.5035 2116.5318,-62.9251\"/>\n</g>\n<!-- 23 -->\n<g id=\"node24\" class=\"node\">\n<title>23</title>\n<polygon fill=\"#a5d3f3\" stroke=\"#000000\" points=\"2403.5,-53 2214.5,-53 2214.5,0 2403.5,0 2403.5,-53\"/>\n<text text-anchor=\"middle\" x=\"2309\" y=\"-37.8\" font-family=\"Helvetica,sans-Serif\" font-size=\"14.00\" fill=\"#000000\">samples = 424</text>\n<text text-anchor=\"middle\" x=\"2309\" y=\"-22.8\" font-family=\"Helvetica,sans-Serif\" font-size=\"14.00\" fill=\"#000000\">value = [126.298, 231.082]</text>\n<text text-anchor=\"middle\" x=\"2309\" y=\"-7.8\" font-family=\"Helvetica,sans-Serif\" font-size=\"14.00\" fill=\"#000000\">class = Top&#45;100 Yes</text>\n</g>\n<!-- 21&#45;&gt;23 -->\n<g id=\"edge23\" class=\"edge\">\n<title>21&#45;&gt;23</title>\n<path fill=\"none\" stroke=\"#000000\" d=\"M2185.3395,-88.9777C2205.5504,-78.7664 2227.6094,-67.6214 2247.4278,-57.6085\"/>\n<polygon fill=\"#000000\" stroke=\"#000000\" points=\"2249.014,-60.7285 2256.3611,-53.095 2245.8573,-54.4806 2249.014,-60.7285\"/>\n</g>\n<!-- 25 -->\n<g id=\"node26\" class=\"node\">\n<title>25</title>\n<polygon fill=\"#98ccf1\" stroke=\"#000000\" points=\"2714,-157 2508,-157 2508,-89 2714,-89 2714,-157\"/>\n<text text-anchor=\"middle\" x=\"2611\" y=\"-141.8\" font-family=\"Helvetica,sans-Serif\" font-size=\"14.00\" fill=\"#000000\">pop_mean &lt;= 63.45</text>\n<text text-anchor=\"middle\" x=\"2611\" y=\"-126.8\" font-family=\"Helvetica,sans-Serif\" font-size=\"14.00\" fill=\"#000000\">samples = 4032</text>\n<text text-anchor=\"middle\" x=\"2611\" y=\"-111.8\" font-family=\"Helvetica,sans-Serif\" font-size=\"14.00\" fill=\"#000000\">value = [1065.299, 2227.679]</text>\n<text text-anchor=\"middle\" x=\"2611\" y=\"-96.8\" font-family=\"Helvetica,sans-Serif\" font-size=\"14.00\" fill=\"#000000\">class = Top&#45;100 Yes</text>\n</g>\n<!-- 24&#45;&gt;25 -->\n<g id=\"edge25\" class=\"edge\">\n<title>24&#45;&gt;25</title>\n<path fill=\"none\" stroke=\"#000000\" d=\"M2611,-192.9465C2611,-184.776 2611,-175.9318 2611,-167.3697\"/>\n<polygon fill=\"#000000\" stroke=\"#000000\" points=\"2614.5001,-167.13 2611,-157.13 2607.5001,-167.13 2614.5001,-167.13\"/>\n</g>\n<!-- 28 -->\n<g id=\"node29\" class=\"node\">\n<title>28</title>\n<polygon fill=\"#41a1e6\" stroke=\"#000000\" points=\"3037,-157 2831,-157 2831,-89 3037,-89 3037,-157\"/>\n<text text-anchor=\"middle\" x=\"2934\" y=\"-141.8\" font-family=\"Helvetica,sans-Serif\" font-size=\"14.00\" fill=\"#000000\">followers &lt;= 2960488.0</text>\n<text text-anchor=\"middle\" x=\"2934\" y=\"-126.8\" font-family=\"Helvetica,sans-Serif\" font-size=\"14.00\" fill=\"#000000\">samples = 35221</text>\n<text text-anchor=\"middle\" x=\"2934\" y=\"-111.8\" font-family=\"Helvetica,sans-Serif\" font-size=\"14.00\" fill=\"#000000\">value = [906.054, 21329.845]</text>\n<text text-anchor=\"middle\" x=\"2934\" y=\"-96.8\" font-family=\"Helvetica,sans-Serif\" font-size=\"14.00\" fill=\"#000000\">class = Top&#45;100 Yes</text>\n</g>\n<!-- 24&#45;&gt;28 -->\n<g id=\"edge28\" class=\"edge\">\n<title>24&#45;&gt;28</title>\n<path fill=\"none\" stroke=\"#000000\" d=\"M2716.7623,-192.9465C2750.0859,-182.2169 2787.0181,-170.3254 2820.8358,-159.4368\"/>\n<polygon fill=\"#000000\" stroke=\"#000000\" points=\"2822.3069,-162.6401 2830.7529,-156.2436 2820.1615,-155.977 2822.3069,-162.6401\"/>\n</g>\n<!-- 26 -->\n<g id=\"node27\" class=\"node\">\n<title>26</title>\n<polygon fill=\"#fceee5\" stroke=\"#000000\" points=\"2602.5,-53 2421.5,-53 2421.5,0 2602.5,0 2602.5,-53\"/>\n<text text-anchor=\"middle\" x=\"2512\" y=\"-37.8\" font-family=\"Helvetica,sans-Serif\" font-size=\"14.00\" fill=\"#000000\">samples = 1088</text>\n<text text-anchor=\"middle\" x=\"2512\" y=\"-22.8\" font-family=\"Helvetica,sans-Serif\" font-size=\"14.00\" fill=\"#000000\">value = [609.527, 529.41]</text>\n<text text-anchor=\"middle\" x=\"2512\" y=\"-7.8\" font-family=\"Helvetica,sans-Serif\" font-size=\"14.00\" fill=\"#000000\">class = Top&#45;100 No</text>\n</g>\n<!-- 25&#45;&gt;26 -->\n<g id=\"edge26\" class=\"edge\">\n<title>25&#45;&gt;26</title>\n<path fill=\"none\" stroke=\"#000000\" d=\"M2576.0963,-88.9777C2566.6082,-79.7292 2556.3343,-69.7147 2546.8491,-60.4691\"/>\n<polygon fill=\"#000000\" stroke=\"#000000\" points=\"2549.0454,-57.7223 2539.4414,-53.2485 2544.1593,-62.7349 2549.0454,-57.7223\"/>\n</g>\n<!-- 27 -->\n<g id=\"node28\" class=\"node\">\n<title>27</title>\n<polygon fill=\"#6eb7ec\" stroke=\"#000000\" points=\"2817.5,-53 2620.5,-53 2620.5,0 2817.5,0 2817.5,-53\"/>\n<text text-anchor=\"middle\" x=\"2719\" y=\"-37.8\" font-family=\"Helvetica,sans-Serif\" font-size=\"14.00\" fill=\"#000000\">samples = 2944</text>\n<text text-anchor=\"middle\" x=\"2719\" y=\"-22.8\" font-family=\"Helvetica,sans-Serif\" font-size=\"14.00\" fill=\"#000000\">value = [455.772, 1698.269]</text>\n<text text-anchor=\"middle\" x=\"2719\" y=\"-7.8\" font-family=\"Helvetica,sans-Serif\" font-size=\"14.00\" fill=\"#000000\">class = Top&#45;100 Yes</text>\n</g>\n<!-- 25&#45;&gt;27 -->\n<g id=\"edge27\" class=\"edge\">\n<title>25&#45;&gt;27</title>\n<path fill=\"none\" stroke=\"#000000\" d=\"M2649.0768,-88.9777C2659.6324,-79.546 2671.0796,-69.3178 2681.5964,-59.9208\"/>\n<polygon fill=\"#000000\" stroke=\"#000000\" points=\"2683.939,-62.5213 2689.0639,-53.2485 2679.2749,-57.3015 2683.939,-62.5213\"/>\n</g>\n<!-- 29 -->\n<g id=\"node30\" class=\"node\">\n<title>29</title>\n<polygon fill=\"#4fa8e8\" stroke=\"#000000\" points=\"3032.5,-53 2835.5,-53 2835.5,0 3032.5,0 3032.5,-53\"/>\n<text text-anchor=\"middle\" x=\"2934\" y=\"-37.8\" font-family=\"Helvetica,sans-Serif\" font-size=\"14.00\" fill=\"#000000\">samples = 8725</text>\n<text text-anchor=\"middle\" x=\"2934\" y=\"-22.8\" font-family=\"Helvetica,sans-Serif\" font-size=\"14.00\" fill=\"#000000\">value = [579.325, 5204.846]</text>\n<text text-anchor=\"middle\" x=\"2934\" y=\"-7.8\" font-family=\"Helvetica,sans-Serif\" font-size=\"14.00\" fill=\"#000000\">class = Top&#45;100 Yes</text>\n</g>\n<!-- 28&#45;&gt;29 -->\n<g id=\"edge29\" class=\"edge\">\n<title>28&#45;&gt;29</title>\n<path fill=\"none\" stroke=\"#000000\" d=\"M2934,-88.9777C2934,-80.7364 2934,-71.887 2934,-63.5153\"/>\n<polygon fill=\"#000000\" stroke=\"#000000\" points=\"2937.5001,-63.2484 2934,-53.2485 2930.5001,-63.2485 2937.5001,-63.2484\"/>\n</g>\n<!-- 30 -->\n<g id=\"node31\" class=\"node\">\n<title>30</title>\n<polygon fill=\"#3d9fe6\" stroke=\"#000000\" points=\"3257,-53 3051,-53 3051,0 3257,0 3257,-53\"/>\n<text text-anchor=\"middle\" x=\"3154\" y=\"-37.8\" font-family=\"Helvetica,sans-Serif\" font-size=\"14.00\" fill=\"#000000\">samples = 26496</text>\n<text text-anchor=\"middle\" x=\"3154\" y=\"-22.8\" font-family=\"Helvetica,sans-Serif\" font-size=\"14.00\" fill=\"#000000\">value = [326.728, 16124.998]</text>\n<text text-anchor=\"middle\" x=\"3154\" y=\"-7.8\" font-family=\"Helvetica,sans-Serif\" font-size=\"14.00\" fill=\"#000000\">class = Top&#45;100 Yes</text>\n</g>\n<!-- 28&#45;&gt;30 -->\n<g id=\"edge30\" class=\"edge\">\n<title>28&#45;&gt;30</title>\n<path fill=\"none\" stroke=\"#000000\" d=\"M3011.5638,-88.9777C3035.158,-78.6284 3060.9387,-67.32 3084.0031,-57.2032\"/>\n<polygon fill=\"#000000\" stroke=\"#000000\" points=\"3085.617,-60.3172 3093.3688,-53.095 3082.8052,-53.9068 3085.617,-60.3172\"/>\n</g>\n</g>\n</svg>\n"
          },
          "metadata": {}
        }
      ]
    },
    {
      "cell_type": "code",
      "source": [
        "result = tree.feature_importances_\n",
        "print(\"변수의 중요도:\\n\", result)"
      ],
      "metadata": {
        "colab": {
          "base_uri": "https://localhost:8080/"
        },
        "id": "Jz-vbd1jBpP6",
        "outputId": "732ea0ae-4cdb-4ad6-b2b8-4b246b534a20"
      },
      "execution_count": null,
      "outputs": [
        {
          "output_type": "stream",
          "name": "stdout",
          "text": [
            "변수의 중요도:\n",
            " [0.00106963 0.90910089 0.06994522 0.00967656 0.00534101 0.00486669]\n"
          ]
        }
      ]
    },
    {
      "cell_type": "code",
      "source": [
        "import numpy as np\n",
        "\n",
        "def plot_feature_importances_spotify_artist(model):\n",
        "    plt.rcParams[\"figure.figsize\"] = (9,6)\n",
        "    n_features = len(spotify_artist.columns[[1, 2, 3, 4, 5, 6]])  # 6개 \n",
        "    plt.barh(np.arange(n_features), model.feature_importances_, align='center') \n",
        "    plt.yticks(np.arange(n_features), spotify_artist.columns[[1, 2, 3, 4, 5, 6]])   # 6개의 눈금을 표시하고 눈금 레이블을 변수 이름으로 지정\n",
        "    plt.xlabel(\"feature importance\")\n",
        "    plt.ylabel(\"feature\")\n",
        "    plt.ylim(-1, n_features) #Y 축 범위 지정\n",
        "\n",
        "plot_feature_importances_spotify_artist(tree)\n",
        "\n",
        "#(0이라고 해서 중요하지 않은 것 아님)"
      ],
      "metadata": {
        "colab": {
          "base_uri": "https://localhost:8080/",
          "height": 388
        },
        "id": "_7n8YyCrBs-D",
        "outputId": "5e1060df-e675-425c-a7a5-257b1a693997"
      },
      "execution_count": null,
      "outputs": [
        {
          "output_type": "display_data",
          "data": {
            "text/plain": [
              "<Figure size 648x432 with 1 Axes>"
            ],
            "image/png": "[encoded data removed]"
          },
          "metadata": {
            "needs_background": "light"
          }
        }
      ]
    },
    {
      "cell_type": "markdown",
      "source": [
        "**1-2) 앙상블 모델: 랜덤 포레스트**"
      ],
      "metadata": {
        "id": "9sd64pBAFkeT"
      }
    },
    {
      "cell_type": "code",
      "source": [
        "from sklearn.ensemble import RandomForestClassifier\n",
        "\n",
        "# 30개 변수를 모두 이용하여 100개의 나무 생성 (정확도가 높아짐)\n",
        "forest = RandomForestClassifier(n_estimators=100, class_weight=\"balanced\", random_state=0)\n",
        "forest.fit(X_train, y_train)\n",
        "\n",
        "print(\"학습용 데이터 세트 정확도: {:.3f}\".format(forest.score(X_train, y_train)))\n",
        "print(\"시험용 데이터 세트 정확도: {:.3f}\".format(forest.score(X_test, y_test)))"
      ],
      "metadata": {
        "colab": {
          "base_uri": "https://localhost:8080/"
        },
        "id": "YSkOgP8UFVBi",
        "outputId": "9ae7f2d3-49ed-4446-e179-490d5f19f257"
      },
      "execution_count": null,
      "outputs": [
        {
          "output_type": "stream",
          "name": "stdout",
          "text": [
            "학습용 데이터 세트 정확도: 1.000\n",
            "시험용 데이터 세트 정확도: 0.993\n"
          ]
        }
      ]
    },
    {
      "cell_type": "code",
      "source": [
        "# 단일 의사결정나무의 경우보다 많은 변수(feature)들이 사용됨\n",
        "plot_feature_importances_spotify_artist(forest)"
      ],
      "metadata": {
        "colab": {
          "base_uri": "https://localhost:8080/",
          "height": 388
        },
        "id": "UyF-L2C4Fz42",
        "outputId": "ad280961-743e-4eea-8f9e-ea358dc4229d"
      },
      "execution_count": null,
      "outputs": [
        {
          "output_type": "display_data",
          "data": {
            "text/plain": [
              "<Figure size 648x432 with 1 Axes>"
            ],
            "image/png": "[encoded data removed]"
          },
          "metadata": {
            "needs_background": "light"
          }
        }
      ]
    },
    {
      "cell_type": "code",
      "source": [
        "from sklearn.model_selection import cross_val_score\n",
        "\n",
        "# 교차 검증을 10번 수행하여 10번의 교차 검증 평균 정확도를 비교 (10-fold cross validation)\n",
        "# default cv=5\n",
        "\n",
        "dt_scores = cross_val_score(tree, X_train, y_train, cv=10, scoring='accuracy')  \n",
        "rf_scores = cross_val_score(forest, X_train, y_train, cv=10, scoring='accuracy')\n",
        "\n",
        "print(\"Accuracy\")\n",
        "print(\"Decision tree: \", dt_scores) \n",
        "print(\"Random forest: \", rf_scores) \n",
        "\n",
        "print(\"Accuracy mean\")\n",
        "print(\"Decision tree :{:.3f}\".format(dt_scores.mean())) \n",
        "print(\"Random forest :{:.3f}\".format(rf_scores.mean()))"
      ],
      "metadata": {
        "colab": {
          "base_uri": "https://localhost:8080/"
        },
        "id": "lUCF22YZF8b6",
        "outputId": "5ffca564-3ed5-41fd-9fd9-c9bb3ba7b6e7"
      },
      "execution_count": null,
      "outputs": [
        {
          "output_type": "stream",
          "name": "stdout",
          "text": [
            "Accuracy\n",
            "Decision tree:  [0.93935743 0.95783133 0.93795181 0.94236948 0.93955823 0.94016064\n",
            " 0.9437751  0.94457831 0.93915663 0.94076305]\n",
            "Random forest:  [0.99538153 0.99437751 0.9935743  0.99598394 0.99297189 0.99317269\n",
            " 0.9935743  0.99417671 0.9939759  0.99417671]\n",
            "Accuracy mean\n",
            "Decision tree :0.943\n",
            "Random forest :0.994\n"
          ]
        }
      ]
    },
    {
      "cell_type": "code",
      "source": [
        "cv_list = [    \n",
        "            ['decision_tree',dt_scores],\n",
        "            ['random_forest',rf_scores],\n",
        "          ]\n",
        "df = pd.DataFrame.from_dict(dict(cv_list))\n",
        "df.plot()"
      ],
      "metadata": {
        "colab": {
          "base_uri": "https://localhost:8080/",
          "height": 392
        },
        "id": "VflS7VEZGM88",
        "outputId": "69c52e0f-f38a-4815-cf64-12ef478e0341"
      },
      "execution_count": null,
      "outputs": [
        {
          "output_type": "execute_result",
          "data": {
            "text/plain": [
              "<matplotlib.axes._subplots.AxesSubplot at 0x7f6467229bb0>"
            ]
          },
          "metadata": {},
          "execution_count": 39
        },
        {
          "output_type": "display_data",
          "data": {
            "text/plain": [
              "<Figure size 648x432 with 1 Axes>"
            ],
            "image/png": "[encoded data removed]"
          },
          "metadata": {
            "needs_background": "light"
          }
        }
      ]
    },
    {
      "cell_type": "markdown",
      "source": [
        "**1-3) 앙상블 모델: 그래디언트 부스팅**"
      ],
      "metadata": {
        "id": "PuvQBxc_GR-Z"
      }
    },
    {
      "cell_type": "code",
      "source": [
        "from sklearn.ensemble import GradientBoostingClassifier\n",
        "# 기본값은 max_depth= 3, n_estimators=100, learning_rate = 0.1\n",
        "\n",
        "gbrt = GradientBoostingClassifier(random_state=0)\n",
        "gbrt.fit(X_train, y_train)"
      ],
      "metadata": {
        "colab": {
          "base_uri": "https://localhost:8080/"
        },
        "id": "jnbMD1yXGWuR",
        "outputId": "df824ec8-e7ff-489c-d944-e4ba96a854ee"
      },
      "execution_count": null,
      "outputs": [
        {
          "output_type": "execute_result",
          "data": {
            "text/plain": [
              "GradientBoostingClassifier(random_state=0)"
            ]
          },
          "metadata": {},
          "execution_count": 47
        }
      ]
    },
    {
      "cell_type": "code",
      "source": [
        "print(\"학습용 데이터 세트 정확도: {:.3f}\".format(gbrt.score(X_train, y_train)))\n",
        "print(\"시험용 데이터 세트 정확도: {:.3f}\".format(gbrt.score(X_test, y_test)))"
      ],
      "metadata": {
        "colab": {
          "base_uri": "https://localhost:8080/"
        },
        "id": "sxrGqnLIGcn8",
        "outputId": "707cffd4-4d3e-44c5-f82c-1a76c377a36b"
      },
      "execution_count": null,
      "outputs": [
        {
          "output_type": "stream",
          "name": "stdout",
          "text": [
            "학습용 데이터 세트 정확도: 0.971\n",
            "시험용 데이터 세트 정확도: 0.968\n"
          ]
        }
      ]
    },
    {
      "cell_type": "code",
      "source": [
        "plot_feature_importances_spotify_artist(gbrt)"
      ],
      "metadata": {
        "colab": {
          "base_uri": "https://localhost:8080/",
          "height": 388
        },
        "id": "iUcKUeDhGcy9",
        "outputId": "fa73cf2d-76c7-467d-9499-b352225a5134"
      },
      "execution_count": null,
      "outputs": [
        {
          "output_type": "display_data",
          "data": {
            "text/plain": [
              "<Figure size 648x432 with 1 Axes>"
            ],
            "image/png": "[encoded data removed]"
          },
          "metadata": {
            "needs_background": "light"
          }
        }
      ]
    },
    {
      "cell_type": "code",
      "source": [
        "#나무 깊이 제한\n",
        "gbrt = GradientBoostingClassifier(random_state=0, max_depth=2)\n",
        "gbrt.fit(X_train, y_train)\n",
        "\n",
        "print(\"학습 데이터 세트 정확도: {:.3f}\".format(gbrt.score(X_train, y_train)))\n",
        "print(\"시험용 데이터 세트 정확도: {:.3f}\".format(gbrt.score(X_test, y_test)))"
      ],
      "metadata": {
        "colab": {
          "base_uri": "https://localhost:8080/"
        },
        "id": "r_D_93jLGsBD",
        "outputId": "ff6ddc1b-29be-410e-817b-a2aa54c1d8cb"
      },
      "execution_count": null,
      "outputs": [
        {
          "output_type": "stream",
          "name": "stdout",
          "text": [
            "학습 데이터 세트 정확도: 0.961\n",
            "시험용 데이터 세트 정확도: 0.960\n"
          ]
        }
      ]
    },
    {
      "cell_type": "code",
      "source": [
        "#학습률 감소\n",
        "gbrt = GradientBoostingClassifier(random_state=0, learning_rate=0.01)\n",
        "gbrt.fit(X_train, y_train)\n",
        "\n",
        "print(\"학습 데이터 세트 정확도: {:.3f}\".format(gbrt.score(X_train, y_train)))\n",
        "print(\"시험용 데이터 세트 정확도: {:.3f}\".format(gbrt.score(X_test, y_test)))"
      ],
      "metadata": {
        "colab": {
          "base_uri": "https://localhost:8080/"
        },
        "id": "EXZQf_GwGxUk",
        "outputId": "e3510c1e-b185-4bab-f3f2-a64b79c97eef"
      },
      "execution_count": null,
      "outputs": [
        {
          "output_type": "stream",
          "name": "stdout",
          "text": [
            "학습 데이터 세트 정확도: 0.958\n",
            "시험용 데이터 세트 정확도: 0.956\n"
          ]
        }
      ]
    },
    {
      "cell_type": "markdown",
      "source": [
        "#### **2) 모델평가**"
      ],
      "metadata": {
        "id": "Molte3OfJqRo"
      }
    },
    {
      "cell_type": "markdown",
      "source": [
        "**2-1) 교차검증**"
      ],
      "metadata": {
        "id": "Ixf5dGo9HGIZ"
      }
    },
    {
      "cell_type": "code",
      "source": [
        "# 교차 검증을 10번 수행하여 10번의 교차 검증 평균 정확도를 비교 (10-fold cross validation)\n",
        "\n",
        "dt_scores = cross_val_score(tree, X_train, y_train, cv=10, scoring='accuracy')  \n",
        "rf_scores = cross_val_score(forest, X_train, y_train, cv=10, scoring='accuracy')\n",
        "gbrt_scores = cross_val_score(gbrt, X_train, y_train, cv=10, scoring='accuracy')\n",
        "\n",
        "print(\"Accuracy\")\n",
        "print(\"Decision tree: \", dt_scores) \n",
        "print(\"Random forest: \", rf_scores) \n",
        "print(\"Gradient boosting: \", gbrt_scores) \n",
        "\n",
        "print(\"Accuracy mean\")\n",
        "print(\"Decision tree :{:.3f}\".format(dt_scores.mean())) \n",
        "print(\"Random forest :{:.3f}\".format(rf_scores.mean())) \n",
        "print(\"Gradient boosting :{:.3f}\".format(gbrt_scores.mean())) "
      ],
      "metadata": {
        "colab": {
          "base_uri": "https://localhost:8080/"
        },
        "id": "8p3iN687HLKS",
        "outputId": "eafcb5a2-9ad5-4839-e83c-2084f454d3a2"
      },
      "execution_count": null,
      "outputs": [
        {
          "output_type": "stream",
          "name": "stdout",
          "text": [
            "Accuracy\n",
            "Decision tree:  [0.93935743 0.95783133 0.93795181 0.94236948 0.93955823 0.94016064\n",
            " 0.9437751  0.94457831 0.93915663 0.94076305]\n",
            "Random forest:  [0.99538153 0.99437751 0.9935743  0.99598394 0.99297189 0.99317269\n",
            " 0.9935743  0.99417671 0.9939759  0.99417671]\n",
            "Gradient boosting:  [0.96907631 0.96947791 0.96646586 0.96927711 0.96586345 0.96907631\n",
            " 0.96706827 0.97188755 0.96787149 0.96927711]\n",
            "Accuracy mean\n",
            "Decision tree :0.943\n",
            "Random forest :0.994\n",
            "Gradient boosting :0.969\n"
          ]
        }
      ]
    },
    {
      "cell_type": "markdown",
      "source": [
        "**2-2) 그리드서치**"
      ],
      "metadata": {
        "id": "TrzlCHhuHuUo"
      }
    },
    {
      "cell_type": "code",
      "source": [
        "from sklearn.model_selection import GridSearchCV\n",
        "\n",
        "# 파라미터를 dictionary 형태로 설정\n",
        "parameters = {'max_depth':[1,2,3], 'learning_rate':[0.1,0.08, 0.06, 0.04, 0.02]}"
      ],
      "metadata": {
        "id": "GP83T1hAHo13"
      },
      "execution_count": null,
      "outputs": []
    },
    {
      "cell_type": "code",
      "source": [
        "# param_grid의 파라미터들을 3개의 fold 로 나누어 검증\n",
        "# refit=True (기본값): 가장 좋은 파라미터 설정으로 재학습  \n",
        "init_gbrt = GradientBoostingClassifier(random_state=0)\n",
        "grid_gbrt = GridSearchCV(init_gbrt, param_grid=parameters, cv=3, refit=True)\n",
        "print(grid_gbrt)\n",
        "# 파라미터들을 순차적으로 학습, 검증\n",
        "grid_gbrt.fit(X_train, y_train)\n",
        "\n",
        "# GridSearchCV 결과 추출하여 DataFrame으로 변환\n",
        "scores_df = pd.DataFrame(grid_gbrt.cv_results_)\n",
        "scores_df[['params', 'mean_test_score', 'rank_test_score', 'split0_test_score', 'split1_test_score', 'split2_test_score']]"
      ],
      "metadata": {
        "colab": {
          "base_uri": "https://localhost:8080/",
          "height": 574
        },
        "id": "tDNaPmRRHxEU",
        "outputId": "14486f5a-290a-41aa-ab03-1f828fab1792"
      },
      "execution_count": null,
      "outputs": [
        {
          "output_type": "stream",
          "name": "stdout",
          "text": [
            "GridSearchCV(cv=3, estimator=GradientBoostingClassifier(random_state=0),\n",
            "             param_grid={'learning_rate': [0.1, 0.08, 0.06, 0.04, 0.02],\n",
            "                         'max_depth': [1, 2, 3]})\n"
          ]
        },
        {
          "output_type": "execute_result",
          "data": {
            "text/plain": [
              "                                     params  mean_test_score  rank_test_score  \\\n",
              "0    {'learning_rate': 0.1, 'max_depth': 1}         0.954920               11   \n",
              "1    {'learning_rate': 0.1, 'max_depth': 2}         0.961486                5   \n",
              "2    {'learning_rate': 0.1, 'max_depth': 3}         0.968896                1   \n",
              "3   {'learning_rate': 0.08, 'max_depth': 1}         0.954799               12   \n",
              "4   {'learning_rate': 0.08, 'max_depth': 2}         0.960361                7   \n",
              "5   {'learning_rate': 0.08, 'max_depth': 3}         0.967329                2   \n",
              "6   {'learning_rate': 0.06, 'max_depth': 1}         0.954759               13   \n",
              "7   {'learning_rate': 0.06, 'max_depth': 2}         0.958193                9   \n",
              "8   {'learning_rate': 0.06, 'max_depth': 3}         0.965622                3   \n",
              "9   {'learning_rate': 0.04, 'max_depth': 1}         0.953012               14   \n",
              "10  {'learning_rate': 0.04, 'max_depth': 2}         0.958253                8   \n",
              "11  {'learning_rate': 0.04, 'max_depth': 3}         0.963193                4   \n",
              "12  {'learning_rate': 0.02, 'max_depth': 1}         0.951606               15   \n",
              "13  {'learning_rate': 0.02, 'max_depth': 2}         0.955221               10   \n",
              "14  {'learning_rate': 0.02, 'max_depth': 3}         0.960723                6   \n",
              "\n",
              "    split0_test_score  split1_test_score  split2_test_score  \n",
              "0            0.954880           0.954578           0.955301  \n",
              "1            0.961988           0.960361           0.962108  \n",
              "2            0.968976           0.968494           0.969217  \n",
              "3            0.954880           0.954096           0.955422  \n",
              "4            0.961024           0.959096           0.960964  \n",
              "5            0.966807           0.966506           0.968675  \n",
              "6            0.954699           0.953976           0.955602  \n",
              "7            0.958916           0.957470           0.958193  \n",
              "8            0.965361           0.965422           0.966084  \n",
              "9            0.952771           0.951867           0.954398  \n",
              "10           0.958313           0.957229           0.959217  \n",
              "11           0.961566           0.963072           0.964940  \n",
              "12           0.951867           0.950904           0.952048  \n",
              "13           0.954819           0.954337           0.956506  \n",
              "14           0.960602           0.959458           0.962108  "
            ],
            "text/html": [
              "\n",
              "  <div id=\"df-61d003c7-ee6b-413f-924a-92b0fb04ef60\">\n",
              "    <div class=\"colab-df-container\">\n",
              "      <div>\n",
              "<style scoped>\n",
              "    .dataframe tbody tr th:only-of-type {\n",
              "        vertical-align: middle;\n",
              "    }\n",
              "\n",
              "    .dataframe tbody tr th {\n",
              "        vertical-align: top;\n",
              "    }\n",
              "\n",
              "    .dataframe thead th {\n",
              "        text-align: right;\n",
              "    }\n",
              "</style>\n",
              "<table border=\"1\" class=\"dataframe\">\n",
              "  <thead>\n",
              "    <tr style=\"text-align: right;\">\n",
              "      <th></th>\n",
              "      <th>params</th>\n",
              "      <th>mean_test_score</th>\n",
              "      <th>rank_test_score</th>\n",
              "      <th>split0_test_score</th>\n",
              "      <th>split1_test_score</th>\n",
              "      <th>split2_test_score</th>\n",
              "    </tr>\n",
              "  </thead>\n",
              "  <tbody>\n",
              "    <tr>\n",
              "      <th>0</th>\n",
              "      <td>{'learning_rate': 0.1, 'max_depth': 1}</td>\n",
              "      <td>0.954920</td>\n",
              "      <td>11</td>\n",
              "      <td>0.954880</td>\n",
              "      <td>0.954578</td>\n",
              "      <td>0.955301</td>\n",
              "    </tr>\n",
              "    <tr>\n",
              "      <th>1</th>\n",
              "      <td>{'learning_rate': 0.1, 'max_depth': 2}</td>\n",
              "      <td>0.961486</td>\n",
              "      <td>5</td>\n",
              "      <td>0.961988</td>\n",
              "      <td>0.960361</td>\n",
              "      <td>0.962108</td>\n",
              "    </tr>\n",
              "    <tr>\n",
              "      <th>2</th>\n",
              "      <td>{'learning_rate': 0.1, 'max_depth': 3}</td>\n",
              "      <td>0.968896</td>\n",
              "      <td>1</td>\n",
              "      <td>0.968976</td>\n",
              "      <td>0.968494</td>\n",
              "      <td>0.969217</td>\n",
              "    </tr>\n",
              "    <tr>\n",
              "      <th>3</th>\n",
              "      <td>{'learning_rate': 0.08, 'max_depth': 1}</td>\n",
              "      <td>0.954799</td>\n",
              "      <td>12</td>\n",
              "      <td>0.954880</td>\n",
              "      <td>0.954096</td>\n",
              "      <td>0.955422</td>\n",
              "    </tr>\n",
              "    <tr>\n",
              "      <th>4</th>\n",
              "      <td>{'learning_rate': 0.08, 'max_depth': 2}</td>\n",
              "      <td>0.960361</td>\n",
              "      <td>7</td>\n",
              "      <td>0.961024</td>\n",
              "      <td>0.959096</td>\n",
              "      <td>0.960964</td>\n",
              "    </tr>\n",
              "    <tr>\n",
              "      <th>5</th>\n",
              "      <td>{'learning_rate': 0.08, 'max_depth': 3}</td>\n",
              "      <td>0.967329</td>\n",
              "      <td>2</td>\n",
              "      <td>0.966807</td>\n",
              "      <td>0.966506</td>\n",
              "      <td>0.968675</td>\n",
              "    </tr>\n",
              "    <tr>\n",
              "      <th>6</th>\n",
              "      <td>{'learning_rate': 0.06, 'max_depth': 1}</td>\n",
              "      <td>0.954759</td>\n",
              "      <td>13</td>\n",
              "      <td>0.954699</td>\n",
              "      <td>0.953976</td>\n",
              "      <td>0.955602</td>\n",
              "    </tr>\n",
              "    <tr>\n",
              "      <th>7</th>\n",
              "      <td>{'learning_rate': 0.06, 'max_depth': 2}</td>\n",
              "      <td>0.958193</td>\n",
              "      <td>9</td>\n",
              "      <td>0.958916</td>\n",
              "      <td>0.957470</td>\n",
              "      <td>0.958193</td>\n",
              "    </tr>\n",
              "    <tr>\n",
              "      <th>8</th>\n",
              "      <td>{'learning_rate': 0.06, 'max_depth': 3}</td>\n",
              "      <td>0.965622</td>\n",
              "      <td>3</td>\n",
              "      <td>0.965361</td>\n",
              "      <td>0.965422</td>\n",
              "      <td>0.966084</td>\n",
              "    </tr>\n",
              "    <tr>\n",
              "      <th>9</th>\n",
              "      <td>{'learning_rate': 0.04, 'max_depth': 1}</td>\n",
              "      <td>0.953012</td>\n",
              "      <td>14</td>\n",
              "      <td>0.952771</td>\n",
              "      <td>0.951867</td>\n",
              "      <td>0.954398</td>\n",
              "    </tr>\n",
              "    <tr>\n",
              "      <th>10</th>\n",
              "      <td>{'learning_rate': 0.04, 'max_depth': 2}</td>\n",
              "      <td>0.958253</td>\n",
              "      <td>8</td>\n",
              "      <td>0.958313</td>\n",
              "      <td>0.957229</td>\n",
              "      <td>0.959217</td>\n",
              "    </tr>\n",
              "    <tr>\n",
              "      <th>11</th>\n",
              "      <td>{'learning_rate': 0.04, 'max_depth': 3}</td>\n",
              "      <td>0.963193</td>\n",
              "      <td>4</td>\n",
              "      <td>0.961566</td>\n",
              "      <td>0.963072</td>\n",
              "      <td>0.964940</td>\n",
              "    </tr>\n",
              "    <tr>\n",
              "      <th>12</th>\n",
              "      <td>{'learning_rate': 0.02, 'max_depth': 1}</td>\n",
              "      <td>0.951606</td>\n",
              "      <td>15</td>\n",
              "      <td>0.951867</td>\n",
              "      <td>0.950904</td>\n",
              "      <td>0.952048</td>\n",
              "    </tr>\n",
              "    <tr>\n",
              "      <th>13</th>\n",
              "      <td>{'learning_rate': 0.02, 'max_depth': 2}</td>\n",
              "      <td>0.955221</td>\n",
              "      <td>10</td>\n",
              "      <td>0.954819</td>\n",
              "      <td>0.954337</td>\n",
              "      <td>0.956506</td>\n",
              "    </tr>\n",
              "    <tr>\n",
              "      <th>14</th>\n",
              "      <td>{'learning_rate': 0.02, 'max_depth': 3}</td>\n",
              "      <td>0.960723</td>\n",
              "      <td>6</td>\n",
              "      <td>0.960602</td>\n",
              "      <td>0.959458</td>\n",
              "      <td>0.962108</td>\n",
              "    </tr>\n",
              "  </tbody>\n",
              "</table>\n",
              "</div>\n",
              "      <button class=\"colab-df-convert\" onclick=\"convertToInteractive('df-61d003c7-ee6b-413f-924a-92b0fb04ef60')\"\n",
              "              title=\"Convert this dataframe to an interactive table.\"\n",
              "              style=\"display:none;\">\n",
              "        \n",
              "  <svg xmlns=\"http://www.w3.org/2000/svg\" height=\"24px\"viewBox=\"0 0 24 24\"\n",
              "       width=\"24px\">\n",
              "    <path d=\"M0 0h24v24H0V0z\" fill=\"none\"/>\n",
              "    <path d=\"M18.56 5.44l.94 2.06.94-2.06 2.06-.94-2.06-.94-.94-2.06-.94 2.06-2.06.94zm-11 1L8.5 8.5l.94-2.06 2.06-.94-2.06-.94L8.5 2.5l-.94 2.06-2.06.94zm10 10l.94 2.06.94-2.06 2.06-.94-2.06-.94-.94-2.06-.94 2.06-2.06.94z\"/><path d=\"M17.41 7.96l-1.37-1.37c-.4-.4-.92-.59-1.43-.59-.52 0-1.04.2-1.43.59L10.3 9.45l-7.72 7.72c-.78.78-.78 2.05 0 2.83L4 21.41c.39.39.9.59 1.41.59.51 0 1.02-.2 1.41-.59l7.78-7.78 2.81-2.81c.8-.78.8-2.07 0-2.86zM5.41 20L4 18.59l7.72-7.72 1.47 1.35L5.41 20z\"/>\n",
              "  </svg>\n",
              "      </button>\n",
              "      \n",
              "  <style>\n",
              "    .colab-df-container {\n",
              "      display:flex;\n",
              "      flex-wrap:wrap;\n",
              "      gap: 12px;\n",
              "    }\n",
              "\n",
              "    .colab-df-convert {\n",
              "      background-color: #E8F0FE;\n",
              "      border: none;\n",
              "      border-radius: 50%;\n",
              "      cursor: pointer;\n",
              "      display: none;\n",
              "      fill: #1967D2;\n",
              "      height: 32px;\n",
              "      padding: 0 0 0 0;\n",
              "      width: 32px;\n",
              "    }\n",
              "\n",
              "    .colab-df-convert:hover {\n",
              "      background-color: #E2EBFA;\n",
              "      box-shadow: 0px 1px 2px rgba(60, 64, 67, 0.3), 0px 1px 3px 1px rgba(60, 64, 67, 0.15);\n",
              "      fill: #174EA6;\n",
              "    }\n",
              "\n",
              "    [theme=dark] .colab-df-convert {\n",
              "      background-color: #3B4455;\n",
              "      fill: #D2E3FC;\n",
              "    }\n",
              "\n",
              "    [theme=dark] .colab-df-convert:hover {\n",
              "      background-color: #434B5C;\n",
              "      box-shadow: 0px 1px 3px 1px rgba(0, 0, 0, 0.15);\n",
              "      filter: drop-shadow(0px 1px 2px rgba(0, 0, 0, 0.3));\n",
              "      fill: #FFFFFF;\n",
              "    }\n",
              "  </style>\n",
              "\n",
              "      <script>\n",
              "        const buttonEl =\n",
              "          document.querySelector('#df-61d003c7-ee6b-413f-924a-92b0fb04ef60 button.colab-df-convert');\n",
              "        buttonEl.style.display =\n",
              "          google.colab.kernel.accessAllowed ? 'block' : 'none';\n",
              "\n",
              "        async function convertToInteractive(key) {\n",
              "          const element = document.querySelector('#df-61d003c7-ee6b-413f-924a-92b0fb04ef60');\n",
              "          const dataTable =\n",
              "            await google.colab.kernel.invokeFunction('convertToInteractive',\n",
              "                                                     [key], {});\n",
              "          if (!dataTable) return;\n",
              "\n",
              "          const docLinkHtml = 'Like what you see? Visit the ' +\n",
              "            '<a target=\"_blank\" href=https://colab.research.google.com/notebooks/data_table.ipynb>data table notebook</a>'\n",
              "            + ' to learn more about interactive tables.';\n",
              "          element.innerHTML = '';\n",
              "          dataTable['output_type'] = 'display_data';\n",
              "          await google.colab.output.renderOutput(dataTable, element);\n",
              "          const docLink = document.createElement('div');\n",
              "          docLink.innerHTML = docLinkHtml;\n",
              "          element.appendChild(docLink);\n",
              "        }\n",
              "      </script>\n",
              "    </div>\n",
              "  </div>\n",
              "  "
            ]
          },
          "metadata": {},
          "execution_count": 51
        }
      ]
    },
    {
      "cell_type": "code",
      "source": [
        "print('GridSearchCV 최적 파라미터:', grid_gbrt.best_params_)\n",
        "print('GridSearchCV 최고 정확도: {0:.4f}'.format(grid_gbrt.best_score_))"
      ],
      "metadata": {
        "colab": {
          "base_uri": "https://localhost:8080/"
        },
        "id": "zo5o_DW5HxQS",
        "outputId": "cbcbc62c-e2cc-43ea-c38a-5edb2b7234b1"
      },
      "execution_count": null,
      "outputs": [
        {
          "output_type": "stream",
          "name": "stdout",
          "text": [
            "GridSearchCV 최적 파라미터: {'learning_rate': 0.1, 'max_depth': 3}\n",
            "GridSearchCV 최고 정확도: 0.9689\n"
          ]
        }
      ]
    },
    {
      "cell_type": "markdown",
      "source": [
        "**2-3) 모델평가지표: 정오분류표**"
      ],
      "metadata": {
        "id": "0eVTcXPqIdyE"
      }
    },
    {
      "cell_type": "code",
      "source": [
        "from sklearn.metrics import accuracy_score, precision_score, recall_score, f1_score\n",
        "from sklearn.metrics import confusion_matrix \n",
        "\n",
        "print(y_test.value_counts()) # y_test 의 B,M 분포\n",
        "\n",
        "dt_pred = tree.predict(X_test)\n",
        "rf_pred = forest.predict(X_test)\n",
        "grid_gbrt_pred = grid_gbrt.predict(X_test)\n",
        "\n",
        "# 예측 결과인 pred와 실제 결과인 y_test의 Confusion Matrix 출력\n",
        "print('Decision tree 시험용 데이터 세트 정확도:{:.3f}'.format(accuracy_score(y_test, dt_pred)))\n",
        "print(confusion_matrix(y_test, dt_pred))\n",
        "print('Random forest 시험용 데이터 세트 정확도:{:.3f}'.format(accuracy_score(y_test, rf_pred)))\n",
        "print(confusion_matrix(y_test, rf_pred))\n",
        "print('Gradient boosting 시험용 데이터 세트 정확도:{:.3f}'.format(accuracy_score(y_test, grid_gbrt_pred)))\n",
        "print(confusion_matrix(y_test, grid_gbrt_pred))"
      ],
      "metadata": {
        "colab": {
          "base_uri": "https://localhost:8080/"
        },
        "id": "nW-qcryWIcut",
        "outputId": "eb043284-d07e-4f0e-99f9-b646a1318b3c"
      },
      "execution_count": null,
      "outputs": [
        {
          "output_type": "stream",
          "name": "stdout",
          "text": [
            "Yes    13535\n",
            "No      3065\n",
            "Name: top100, dtype: int64\n",
            "Decision tree 시험용 데이터 세트 정확도:0.938\n",
            "[[ 2833   232]\n",
            " [  796 12739]]\n",
            "Random forest 시험용 데이터 세트 정확도:0.994\n",
            "[[ 2967    98]\n",
            " [    6 13529]]\n",
            "Gradient boosting 시험용 데이터 세트 정확도:0.968\n",
            "[[ 2680   385]\n",
            " [  152 13383]]\n"
          ]
        }
      ]
    },
    {
      "cell_type": "code",
      "source": [
        "from sklearn.metrics import classification_report\n",
        "\n",
        "# 각 클래스가 Positive일 때의 정밀도, 재현율, f1 값을 보여줌 (\"M\"이 Postivit인 경우가 기본값임)\n",
        "# macro avg는 클래스별 점수의 평균을 계산\n",
        "# weighted avg는 클래스의 샘플 수로 가중평균을 계산\n",
        "print(\"Decision Tree:\")\n",
        "print(classification_report(y_test, dt_pred, target_names=[\"No\", \"Yes\"]))\n",
        "print(\"Random Forest:\")\n",
        "print(classification_report(y_test, rf_pred, target_names=[\"No\", \"Yes\"]))\n",
        "print(\"Gradient Boosting:\")\n",
        "print(classification_report(y_test, grid_gbrt_pred, target_names=[\"No\", \"Yes\"]))"
      ],
      "metadata": {
        "colab": {
          "base_uri": "https://localhost:8080/"
        },
        "id": "47bbNocjItcB",
        "outputId": "8381c10f-964e-4d1b-f113-a31b93950e6a"
      },
      "execution_count": null,
      "outputs": [
        {
          "output_type": "stream",
          "name": "stdout",
          "text": [
            "Decision Tree:\n",
            "              precision    recall  f1-score   support\n",
            "\n",
            "          No       0.78      0.92      0.85      3065\n",
            "         Yes       0.98      0.94      0.96     13535\n",
            "\n",
            "    accuracy                           0.94     16600\n",
            "   macro avg       0.88      0.93      0.90     16600\n",
            "weighted avg       0.94      0.94      0.94     16600\n",
            "\n",
            "Random Forest:\n",
            "              precision    recall  f1-score   support\n",
            "\n",
            "          No       1.00      0.97      0.98      3065\n",
            "         Yes       0.99      1.00      1.00     13535\n",
            "\n",
            "    accuracy                           0.99     16600\n",
            "   macro avg       1.00      0.98      0.99     16600\n",
            "weighted avg       0.99      0.99      0.99     16600\n",
            "\n",
            "Gradient Boosting:\n",
            "              precision    recall  f1-score   support\n",
            "\n",
            "          No       0.95      0.87      0.91      3065\n",
            "         Yes       0.97      0.99      0.98     13535\n",
            "\n",
            "    accuracy                           0.97     16600\n",
            "   macro avg       0.96      0.93      0.94     16600\n",
            "weighted avg       0.97      0.97      0.97     16600\n",
            "\n"
          ]
        }
      ]
    },
    {
      "cell_type": "markdown",
      "source": [
        "#### 분류 모델 선택 및 평가 결과\n",
        "\n",
        "* 선택한 평가: Accuracy(정확도) \n",
        "* 최적의 분류모델: 그래디언트 부스팅\n",
        "\n",
        "교차검증과 정오분류표 평가를 시도한 결과, 랜덤 포레스트 모델에서의 정확도가 0.994로 가장 높았으나, 과적합 문제가 발생할 가능성이 있기 때문에 그래디언트 부스팅 모델을 선택하게 되었다. 그래디언트부스팅 모델은 학습용 데이터 모델의 정확도가 0.971, 시험용 데이터 모델의 정확도가 0.968로 과적합 문제가 비교적 발생하지 않을 것으로 보인다.\n"
      ],
      "metadata": {
        "id": "8JPmEoYRLC_M"
      }
    },
    {
      "cell_type": "markdown",
      "source": [
        "#### 인사이트 도출"
      ],
      "metadata": {
        "id": "Se9zGzlhKvHl"
      }
    },
    {
      "cell_type": "markdown",
      "source": [
        "### **분류분석 2.spotify_song**"
      ],
      "metadata": {
        "id": "hOBUc1aiLbnn"
      }
    },
    {
      "cell_type": "code",
      "source": [
        "print(spotify_song.isnull().sum())"
      ],
      "metadata": {
        "colab": {
          "base_uri": "https://localhost:8080/"
        },
        "id": "P1o1_RpaLZXK",
        "outputId": "dada9e3e-62da-4d16-e270-b9e3afdea7fd"
      },
      "execution_count": null,
      "outputs": [
        {
          "output_type": "stream",
          "name": "stdout",
          "text": [
            "song                0\n",
            "popularity          0\n",
            "danceability        0\n",
            "energy              0\n",
            "key                 0\n",
            "loudness            0\n",
            "speechiness         0\n",
            "acousticness        0\n",
            "instrumentalness    0\n",
            "liveness            0\n",
            "valence             0\n",
            "tempo               0\n",
            "top100              0\n",
            "dtype: int64\n"
          ]
        }
      ]
    },
    {
      "cell_type": "code",
      "source": [
        "# 결측치 열 전체 삭제\n",
        "spotify_song = spotify_song.dropna(axis=1)   #열삭제의 경우 axis =1 \n",
        "print(\"결측열 모두 제거: \", songs.shape)    # 결측치 모두 없어졌는지 확인\n",
        "\n",
        "print(spotify_song.isnull().sum())"
      ],
      "metadata": {
        "colab": {
          "base_uri": "https://localhost:8080/"
        },
        "id": "e3qfmtj9ODoT",
        "outputId": "5afa33ec-66db-4151-b3f9-6aa8c615b76b"
      },
      "execution_count": null,
      "outputs": [
        {
          "output_type": "stream",
          "name": "stdout",
          "text": [
            "결측열 모두 제거:  (2000, 14)\n",
            "song                0\n",
            "popularity          0\n",
            "danceability        0\n",
            "energy              0\n",
            "key                 0\n",
            "loudness            0\n",
            "speechiness         0\n",
            "acousticness        0\n",
            "instrumentalness    0\n",
            "liveness            0\n",
            "valence             0\n",
            "tempo               0\n",
            "top100              0\n",
            "dtype: int64\n"
          ]
        }
      ]
    },
    {
      "cell_type": "code",
      "source": [
        "display(spotify_song.info())"
      ],
      "metadata": {
        "colab": {
          "base_uri": "https://localhost:8080/",
          "height": 398
        },
        "id": "B0NUbnKYOR8U",
        "outputId": "3701ea96-2f3e-4f3d-885f-aa8dbf21e1a1"
      },
      "execution_count": null,
      "outputs": [
        {
          "output_type": "stream",
          "name": "stdout",
          "text": [
            "<class 'pandas.core.frame.DataFrame'>\n",
            "Int64Index: 35598 entries, 0 to 35597\n",
            "Data columns (total 13 columns):\n",
            " #   Column            Non-Null Count  Dtype  \n",
            "---  ------            --------------  -----  \n",
            " 0   song              35598 non-null  object \n",
            " 1   popularity        35598 non-null  float64\n",
            " 2   danceability      35598 non-null  float64\n",
            " 3   energy            35598 non-null  float64\n",
            " 4   key               35598 non-null  float64\n",
            " 5   loudness          35598 non-null  float64\n",
            " 6   speechiness       35598 non-null  float64\n",
            " 7   acousticness      35598 non-null  float64\n",
            " 8   instrumentalness  35598 non-null  float64\n",
            " 9   liveness          35598 non-null  float64\n",
            " 10  valence           35598 non-null  float64\n",
            " 11  tempo             35598 non-null  object \n",
            " 12  top100            35598 non-null  object \n",
            "dtypes: float64(10), object(3)\n",
            "memory usage: 3.8+ MB\n"
          ]
        },
        {
          "output_type": "display_data",
          "data": {
            "text/plain": [
              "None"
            ]
          },
          "metadata": {}
        }
      ]
    },
    {
      "cell_type": "code",
      "source": [
        "print(spotify_song['top100'].value_counts())\n",
        "\n",
        "spotify_song['top100'].value_counts().plot.bar()\n",
        "plt.ylabel('count')\n",
        "plt.title('Distribution of top100')"
      ],
      "metadata": {
        "colab": {
          "base_uri": "https://localhost:8080/",
          "height": 469
        },
        "id": "L5h_MfSFOZbS",
        "outputId": "5cc82666-9096-43be-8740-7087b7f9682d"
      },
      "execution_count": null,
      "outputs": [
        {
          "output_type": "stream",
          "name": "stdout",
          "text": [
            "Yes    34726\n",
            "No       872\n",
            "Name: top100, dtype: int64\n"
          ]
        },
        {
          "output_type": "execute_result",
          "data": {
            "text/plain": [
              "Text(0.5, 1.0, 'Distribution of top100')"
            ]
          },
          "metadata": {},
          "execution_count": 150
        },
        {
          "output_type": "display_data",
          "data": {
            "text/plain": [
              "<Figure size 648x432 with 1 Axes>"
            ],
            "image/png": "[encoded data removed]"
          },
          "metadata": {
            "needs_background": "light"
          }
        }
      ]
    },
    {
      "cell_type": "code",
      "source": [
        "!pip install imblearn"
      ],
      "metadata": {
        "colab": {
          "base_uri": "https://localhost:8080/"
        },
        "id": "k81yKWvxTKBS",
        "outputId": "bf696cbe-a058-488c-d92b-bb0e260e01d2"
      },
      "execution_count": null,
      "outputs": [
        {
          "output_type": "stream",
          "name": "stdout",
          "text": [
            "Looking in indexes: https://pypi.org/simple, https://us-python.pkg.dev/colab-wheels/public/simple/\n",
            "Requirement already satisfied: imblearn in /usr/local/lib/python3.8/dist-packages (0.0)\n",
            "Requirement already satisfied: imbalanced-learn in /usr/local/lib/python3.8/dist-packages (from imblearn) (0.8.1)\n",
            "Requirement already satisfied: scipy>=0.19.1 in /usr/local/lib/python3.8/dist-packages (from imbalanced-learn->imblearn) (1.7.3)\n",
            "Requirement already satisfied: joblib>=0.11 in /usr/local/lib/python3.8/dist-packages (from imbalanced-learn->imblearn) (1.2.0)\n",
            "Requirement already satisfied: numpy>=1.13.3 in /usr/local/lib/python3.8/dist-packages (from imbalanced-learn->imblearn) (1.21.6)\n",
            "Requirement already satisfied: scikit-learn>=0.24 in /usr/local/lib/python3.8/dist-packages (from imbalanced-learn->imblearn) (1.0.2)\n",
            "Requirement already satisfied: threadpoolctl>=2.0.0 in /usr/local/lib/python3.8/dist-packages (from scikit-learn>=0.24->imbalanced-learn->imblearn) (3.1.0)\n"
          ]
        }
      ]
    },
    {
      "cell_type": "code",
      "source": [
        "from imblearn.under_sampling import RandomUnderSampler\n",
        "from imblearn.over_sampling import SMOTE # oversampling에서 많이 사용되는 알고리즘\n",
        "\n",
        "X = spotify_song.iloc[:, [2, 3, 4, 5, 6, 7, 8, 9, 10]]  # 9개 변수 \n",
        "y = spotify_song.iloc[:, 12]   # top-100으로 설정\n",
        "\n",
        "Under= RandomUnderSampler(random_state=0)\n",
        "X, y = Under.fit_resample(X, y)\n",
        "print(y.value_counts(()))\n",
        "\n",
        "#Over = SMOTE(random_state=0)\n",
        "#X, y = Over.fit_resample(X, y)\n",
        "#print(y.value_counts(())) # 과적합이 심해짐"
      ],
      "metadata": {
        "colab": {
          "base_uri": "https://localhost:8080/"
        },
        "id": "XzFK7CWMV__f",
        "outputId": "75793482-4217-4531-e6c4-1e8ba8db38b5"
      },
      "execution_count": null,
      "outputs": [
        {
          "output_type": "stream",
          "name": "stdout",
          "text": [
            "No     872\n",
            "Yes    872\n",
            "Name: top100, dtype: int64\n"
          ]
        }
      ]
    },
    {
      "cell_type": "code",
      "source": [
        "from sklearn.tree import DecisionTreeClassifier\n",
        "from sklearn.model_selection import train_test_split\n",
        "\n",
        "\n",
        "# 데이터셋을 학습(train)과 테스트(test) 세트로 분할\n",
        "# random_state : random 으로 분할시 사용되는 난수 seed 숫자\n",
        "#X_train, X_test, y_train, y_test = train_test_split(X, y, test_size = 0.25, stratify=y, random_state=42)\n",
        "\n",
        "X_train, X_test, y_train, y_test = train_test_split(X, y, test_size = 0.25, random_state=42)\n",
        "\n",
        "tree = DecisionTreeClassifier(class_weight = \"balanced\", random_state=0)   #데이터 균형 맞춰주기\n",
        "tree.fit(X_train, y_train)  #(학습용 데이터 작성)\n",
        "print(\"학습용 데이터 정확도: {:.3f}\".format(tree.score(X_train, y_train)))\n",
        "print(\"시험용 데이터 정확도: {:.3f}\".format(tree.score(X_test, y_test)))"
      ],
      "metadata": {
        "colab": {
          "base_uri": "https://localhost:8080/"
        },
        "id": "wT2Z_cJbWo8D",
        "outputId": "dbc95568-dcf4-4f59-b412-35c4c2cafee2"
      },
      "execution_count": null,
      "outputs": [
        {
          "output_type": "stream",
          "name": "stdout",
          "text": [
            "학습용 데이터 정확도: 0.999\n",
            "시험용 데이터 정확도: 0.697\n"
          ]
        }
      ]
    },
    {
      "cell_type": "code",
      "source": [
        "# 의사결정나무의 깊이를 4로 제한하면 시험용 데이터에 대한 성능이 향상됨 (과적합을 줄임)\n",
        "#가중치 고려, 해당 모델 선택\n",
        "tree = DecisionTreeClassifier(class_weight = \"balanced\", max_depth=4, random_state=0)\n",
        "tree.fit(X_train, y_train)\n",
        "\n",
        "print(\"학습용 데이터 정확도: {:.3f}\".format(tree.score(X_train, y_train)))\n",
        "print(\"시험용 데이터 정확도: {:.3f}\".format(tree.score(X_test, y_test)))"
      ],
      "metadata": {
        "colab": {
          "base_uri": "https://localhost:8080/"
        },
        "id": "Mn4GxBkTZwMC",
        "outputId": "18eb923d-9bd7-4fe6-8b8d-e2b638b7aa61"
      },
      "execution_count": null,
      "outputs": [
        {
          "output_type": "stream",
          "name": "stdout",
          "text": [
            "학습용 데이터 정확도: 0.608\n",
            "시험용 데이터 정확도: 0.528\n"
          ]
        }
      ]
    },
    {
      "cell_type": "code",
      "source": [
        "#graphviz 라이브러리를 이용하여 의사결정나무 그리기 \n",
        "from sklearn.tree import export_graphviz\n",
        "import graphviz\n",
        "\n",
        "# filled = True: 색상의 진하기로 클래스를 나타냄, impurity: 불순도 계산값 보여주기 옵션\n",
        "export_graphviz(tree, out_file=\"tree.dot\", class_names=[ \"No\", \"Yes\"],\n",
        "                feature_names=spotify_song.columns[[2, 3, 4, 5, 6, 7, 8, 9, 10]], impurity=False, filled=True)\n",
        "\n",
        "with open(\"tree.dot\") as f:\n",
        "    dot_graph = f.read()\n",
        "\n",
        "display(graphviz.Source(dot_graph))\n",
        "\n",
        "#(어떤 순서로 중요한지 확인 가능)"
      ],
      "metadata": {
        "colab": {
          "base_uri": "https://localhost:8080/",
          "height": 676
        },
        "id": "7eu0G7lRZ1YG",
        "outputId": "38c47309-56a8-4236-8657-dfd4feb34647"
      },
      "execution_count": null,
      "outputs": [
        {
          "output_type": "display_data",
          "data": {
            "text/plain": [
              "<graphviz.files.Source at 0x7f646679fcd0>"
            ],
            "image/svg+xml": "<?xml version=\"1.0\" encoding=\"UTF-8\" standalone=\"no\"?>\n<!DOCTYPE svg PUBLIC \"-//W3C//DTD SVG 1.1//EN\"\n \"http://www.w3.org/Graphics/SVG/1.1/DTD/svg11.dtd\">\n<!-- Generated by graphviz version 2.40.1 (20161225.0304)\n -->\n<!-- Title: Tree Pages: 1 -->\n<svg width=\"1933pt\" height=\"477pt\"\n viewBox=\"0.00 0.00 1933.00 477.00\" xmlns=\"http://www.w3.org/2000/svg\" xmlns:xlink=\"http://www.w3.org/1999/xlink\">\n<g id=\"graph0\" class=\"graph\" transform=\"scale(1 1) rotate(0) translate(4 473)\">\n<title>Tree</title>\n<polygon fill=\"#ffffff\" stroke=\"transparent\" points=\"-4,4 -4,-473 1929,-473 1929,4 -4,4\"/>\n<!-- 0 -->\n<g id=\"node1\" class=\"node\">\n<title>0</title>\n<polygon fill=\"#ffffff\" stroke=\"#000000\" points=\"1330,-469 1142,-469 1142,-401 1330,-401 1330,-469\"/>\n<text text-anchor=\"middle\" x=\"1236\" y=\"-453.8\" font-family=\"Helvetica,sans-Serif\" font-size=\"14.00\" fill=\"#000000\">instrumentalness &lt;= 0.005</text>\n<text text-anchor=\"middle\" x=\"1236\" y=\"-438.8\" font-family=\"Helvetica,sans-Serif\" font-size=\"14.00\" fill=\"#000000\">samples = 1308</text>\n<text text-anchor=\"middle\" x=\"1236\" y=\"-423.8\" font-family=\"Helvetica,sans-Serif\" font-size=\"14.00\" fill=\"#000000\">value = [654.0, 654.0]</text>\n<text text-anchor=\"middle\" x=\"1236\" y=\"-408.8\" font-family=\"Helvetica,sans-Serif\" font-size=\"14.00\" fill=\"#000000\">class = No</text>\n</g>\n<!-- 1 -->\n<g id=\"node2\" class=\"node\">\n<title>1</title>\n<polygon fill=\"#ebf5fc\" stroke=\"#000000\" points=\"1136.5,-365 947.5,-365 947.5,-297 1136.5,-297 1136.5,-365\"/>\n<text text-anchor=\"middle\" x=\"1042\" y=\"-349.8\" font-family=\"Helvetica,sans-Serif\" font-size=\"14.00\" fill=\"#000000\">acousticness &lt;= 0.001</text>\n<text text-anchor=\"middle\" x=\"1042\" y=\"-334.8\" font-family=\"Helvetica,sans-Serif\" font-size=\"14.00\" fill=\"#000000\">samples = 1189</text>\n<text text-anchor=\"middle\" x=\"1042\" y=\"-319.8\" font-family=\"Helvetica,sans-Serif\" font-size=\"14.00\" fill=\"#000000\">value = [563.446, 625.176]</text>\n<text text-anchor=\"middle\" x=\"1042\" y=\"-304.8\" font-family=\"Helvetica,sans-Serif\" font-size=\"14.00\" fill=\"#000000\">class = Yes</text>\n</g>\n<!-- 0&#45;&gt;1 -->\n<g id=\"edge1\" class=\"edge\">\n<title>0&#45;&gt;1</title>\n<path fill=\"none\" stroke=\"#000000\" d=\"M1172.4771,-400.9465C1153.9701,-391.0252 1133.61,-380.1105 1114.5891,-369.9138\"/>\n<polygon fill=\"#000000\" stroke=\"#000000\" points=\"1116.1327,-366.7701 1105.6656,-365.13 1112.8254,-372.9395 1116.1327,-366.7701\"/>\n<text text-anchor=\"middle\" x=\"1112.8935\" y=\"-385.3624\" font-family=\"Helvetica,sans-Serif\" font-size=\"14.00\" fill=\"#000000\">True</text>\n</g>\n<!-- 16 -->\n<g id=\"node17\" class=\"node\">\n<title>16</title>\n<polygon fill=\"#eda978\" stroke=\"#000000\" points=\"1505.5,-365 1332.5,-365 1332.5,-297 1505.5,-297 1505.5,-365\"/>\n<text text-anchor=\"middle\" x=\"1419\" y=\"-349.8\" font-family=\"Helvetica,sans-Serif\" font-size=\"14.00\" fill=\"#000000\">energy &lt;= 0.878</text>\n<text text-anchor=\"middle\" x=\"1419\" y=\"-334.8\" font-family=\"Helvetica,sans-Serif\" font-size=\"14.00\" fill=\"#000000\">samples = 119</text>\n<text text-anchor=\"middle\" x=\"1419\" y=\"-319.8\" font-family=\"Helvetica,sans-Serif\" font-size=\"14.00\" fill=\"#000000\">value = [90.554, 28.824]</text>\n<text text-anchor=\"middle\" x=\"1419\" y=\"-304.8\" font-family=\"Helvetica,sans-Serif\" font-size=\"14.00\" fill=\"#000000\">class = No</text>\n</g>\n<!-- 0&#45;&gt;16 -->\n<g id=\"edge16\" class=\"edge\">\n<title>0&#45;&gt;16</title>\n<path fill=\"none\" stroke=\"#000000\" d=\"M1295.921,-400.9465C1313.1417,-391.1599 1332.0633,-380.4066 1349.7954,-370.3294\"/>\n<polygon fill=\"#000000\" stroke=\"#000000\" points=\"1351.9796,-373.1139 1358.9443,-365.13 1348.5209,-367.028 1351.9796,-373.1139\"/>\n<text text-anchor=\"middle\" x=\"1352.3096\" y=\"-385.5335\" font-family=\"Helvetica,sans-Serif\" font-size=\"14.00\" fill=\"#000000\">False</text>\n</g>\n<!-- 2 -->\n<g id=\"node3\" class=\"node\">\n<title>2</title>\n<polygon fill=\"#68b4eb\" stroke=\"#000000\" points=\"579,-261 415,-261 415,-193 579,-193 579,-261\"/>\n<text text-anchor=\"middle\" x=\"497\" y=\"-245.8\" font-family=\"Helvetica,sans-Serif\" font-size=\"14.00\" fill=\"#000000\">key &lt;= 2.5</text>\n<text text-anchor=\"middle\" x=\"497\" y=\"-230.8\" font-family=\"Helvetica,sans-Serif\" font-size=\"14.00\" fill=\"#000000\">samples = 42</text>\n<text text-anchor=\"middle\" x=\"497\" y=\"-215.8\" font-family=\"Helvetica,sans-Serif\" font-size=\"14.00\" fill=\"#000000\">value = [8.049, 33.793]</text>\n<text text-anchor=\"middle\" x=\"497\" y=\"-200.8\" font-family=\"Helvetica,sans-Serif\" font-size=\"14.00\" fill=\"#000000\">class = Yes</text>\n</g>\n<!-- 1&#45;&gt;2 -->\n<g id=\"edge2\" class=\"edge\">\n<title>1&#45;&gt;2</title>\n<path fill=\"none\" stroke=\"#000000\" d=\"M947.3795,-312.944C846.8881,-293.7676 689.0782,-263.6535 589.4295,-244.6379\"/>\n<polygon fill=\"#000000\" stroke=\"#000000\" points=\"589.852,-241.1555 579.3732,-242.7189 588.5399,-248.0314 589.852,-241.1555\"/>\n</g>\n<!-- 9 -->\n<g id=\"node10\" class=\"node\">\n<title>9</title>\n<polygon fill=\"#f3f9fd\" stroke=\"#000000\" points=\"1136.5,-261 947.5,-261 947.5,-193 1136.5,-193 1136.5,-261\"/>\n<text text-anchor=\"middle\" x=\"1042\" y=\"-245.8\" font-family=\"Helvetica,sans-Serif\" font-size=\"14.00\" fill=\"#000000\">energy &lt;= 0.833</text>\n<text text-anchor=\"middle\" x=\"1042\" y=\"-230.8\" font-family=\"Helvetica,sans-Serif\" font-size=\"14.00\" fill=\"#000000\">samples = 1147</text>\n<text text-anchor=\"middle\" x=\"1042\" y=\"-215.8\" font-family=\"Helvetica,sans-Serif\" font-size=\"14.00\" fill=\"#000000\">value = [555.397, 591.383]</text>\n<text text-anchor=\"middle\" x=\"1042\" y=\"-200.8\" font-family=\"Helvetica,sans-Serif\" font-size=\"14.00\" fill=\"#000000\">class = Yes</text>\n</g>\n<!-- 1&#45;&gt;9 -->\n<g id=\"edge9\" class=\"edge\">\n<title>1&#45;&gt;9</title>\n<path fill=\"none\" stroke=\"#000000\" d=\"M1042,-296.9465C1042,-288.776 1042,-279.9318 1042,-271.3697\"/>\n<polygon fill=\"#000000\" stroke=\"#000000\" points=\"1045.5001,-271.13 1042,-261.13 1038.5001,-271.13 1045.5001,-271.13\"/>\n</g>\n<!-- 3 -->\n<g id=\"node4\" class=\"node\">\n<title>3</title>\n<polygon fill=\"#bfdff7\" stroke=\"#000000\" points=\"322,-157 166,-157 166,-89 322,-89 322,-157\"/>\n<text text-anchor=\"middle\" x=\"244\" y=\"-141.8\" font-family=\"Helvetica,sans-Serif\" font-size=\"14.00\" fill=\"#000000\">valence &lt;= 0.598</text>\n<text text-anchor=\"middle\" x=\"244\" y=\"-126.8\" font-family=\"Helvetica,sans-Serif\" font-size=\"14.00\" fill=\"#000000\">samples = 15</text>\n<text text-anchor=\"middle\" x=\"244\" y=\"-111.8\" font-family=\"Helvetica,sans-Serif\" font-size=\"14.00\" fill=\"#000000\">value = [6.037, 8.945]</text>\n<text text-anchor=\"middle\" x=\"244\" y=\"-96.8\" font-family=\"Helvetica,sans-Serif\" font-size=\"14.00\" fill=\"#000000\">class = Yes</text>\n</g>\n<!-- 2&#45;&gt;3 -->\n<g id=\"edge3\" class=\"edge\">\n<title>2&#45;&gt;3</title>\n<path fill=\"none\" stroke=\"#000000\" d=\"M414.8582,-193.2342C388.2701,-182.3047 358.6886,-170.1447 331.7124,-159.0557\"/>\n<polygon fill=\"#000000\" stroke=\"#000000\" points=\"332.8682,-155.7467 322.2885,-155.1818 330.2068,-162.221 332.8682,-155.7467\"/>\n</g>\n<!-- 6 -->\n<g id=\"node7\" class=\"node\">\n<title>6</title>\n<polygon fill=\"#49a5e7\" stroke=\"#000000\" points=\"579,-157 415,-157 415,-89 579,-89 579,-157\"/>\n<text text-anchor=\"middle\" x=\"497\" y=\"-141.8\" font-family=\"Helvetica,sans-Serif\" font-size=\"14.00\" fill=\"#000000\">energy &lt;= 0.565</text>\n<text text-anchor=\"middle\" x=\"497\" y=\"-126.8\" font-family=\"Helvetica,sans-Serif\" font-size=\"14.00\" fill=\"#000000\">samples = 27</text>\n<text text-anchor=\"middle\" x=\"497\" y=\"-111.8\" font-family=\"Helvetica,sans-Serif\" font-size=\"14.00\" fill=\"#000000\">value = [2.012, 24.848]</text>\n<text text-anchor=\"middle\" x=\"497\" y=\"-96.8\" font-family=\"Helvetica,sans-Serif\" font-size=\"14.00\" fill=\"#000000\">class = Yes</text>\n</g>\n<!-- 2&#45;&gt;6 -->\n<g id=\"edge6\" class=\"edge\">\n<title>2&#45;&gt;6</title>\n<path fill=\"none\" stroke=\"#000000\" d=\"M497,-192.9465C497,-184.776 497,-175.9318 497,-167.3697\"/>\n<polygon fill=\"#000000\" stroke=\"#000000\" points=\"500.5001,-167.13 497,-157.13 493.5001,-167.13 500.5001,-167.13\"/>\n</g>\n<!-- 4 -->\n<g id=\"node5\" class=\"node\">\n<title>4</title>\n<polygon fill=\"#7cbeee\" stroke=\"#000000\" points=\"156,-53 0,-53 0,0 156,0 156,-53\"/>\n<text text-anchor=\"middle\" x=\"78\" y=\"-37.8\" font-family=\"Helvetica,sans-Serif\" font-size=\"14.00\" fill=\"#000000\">samples = 12</text>\n<text text-anchor=\"middle\" x=\"78\" y=\"-22.8\" font-family=\"Helvetica,sans-Serif\" font-size=\"14.00\" fill=\"#000000\">value = [3.018, 8.945]</text>\n<text text-anchor=\"middle\" x=\"78\" y=\"-7.8\" font-family=\"Helvetica,sans-Serif\" font-size=\"14.00\" fill=\"#000000\">class = Yes</text>\n</g>\n<!-- 3&#45;&gt;4 -->\n<g id=\"edge4\" class=\"edge\">\n<title>3&#45;&gt;4</title>\n<path fill=\"none\" stroke=\"#000000\" d=\"M185.4746,-88.9777C168.2256,-78.9504 149.4277,-68.0228 132.446,-58.1508\"/>\n<polygon fill=\"#000000\" stroke=\"#000000\" points=\"134.1533,-55.095 123.749,-53.095 130.6353,-61.1467 134.1533,-55.095\"/>\n</g>\n<!-- 5 -->\n<g id=\"node6\" class=\"node\">\n<title>5</title>\n<polygon fill=\"#e58139\" stroke=\"#000000\" points=\"314,-53 174,-53 174,0 314,0 314,-53\"/>\n<text text-anchor=\"middle\" x=\"244\" y=\"-37.8\" font-family=\"Helvetica,sans-Serif\" font-size=\"14.00\" fill=\"#000000\">samples = 3</text>\n<text text-anchor=\"middle\" x=\"244\" y=\"-22.8\" font-family=\"Helvetica,sans-Serif\" font-size=\"14.00\" fill=\"#000000\">value = [3.018, 0.0]</text>\n<text text-anchor=\"middle\" x=\"244\" y=\"-7.8\" font-family=\"Helvetica,sans-Serif\" font-size=\"14.00\" fill=\"#000000\">class = No</text>\n</g>\n<!-- 3&#45;&gt;5 -->\n<g id=\"edge5\" class=\"edge\">\n<title>3&#45;&gt;5</title>\n<path fill=\"none\" stroke=\"#000000\" d=\"M244,-88.9777C244,-80.7364 244,-71.887 244,-63.5153\"/>\n<polygon fill=\"#000000\" stroke=\"#000000\" points=\"247.5001,-63.2484 244,-53.2485 240.5001,-63.2485 247.5001,-63.2484\"/>\n</g>\n<!-- 7 -->\n<g id=\"node8\" class=\"node\">\n<title>7</title>\n<polygon fill=\"#e58139\" stroke=\"#000000\" points=\"472,-53 332,-53 332,0 472,0 472,-53\"/>\n<text text-anchor=\"middle\" x=\"402\" y=\"-37.8\" font-family=\"Helvetica,sans-Serif\" font-size=\"14.00\" fill=\"#000000\">samples = 1</text>\n<text text-anchor=\"middle\" x=\"402\" y=\"-22.8\" font-family=\"Helvetica,sans-Serif\" font-size=\"14.00\" fill=\"#000000\">value = [1.006, 0.0]</text>\n<text text-anchor=\"middle\" x=\"402\" y=\"-7.8\" font-family=\"Helvetica,sans-Serif\" font-size=\"14.00\" fill=\"#000000\">class = No</text>\n</g>\n<!-- 6&#45;&gt;7 -->\n<g id=\"edge7\" class=\"edge\">\n<title>6&#45;&gt;7</title>\n<path fill=\"none\" stroke=\"#000000\" d=\"M463.5066,-88.9777C454.4018,-79.7292 444.543,-69.7147 435.4411,-60.4691\"/>\n<polygon fill=\"#000000\" stroke=\"#000000\" points=\"437.8424,-57.9193 428.3327,-53.2485 432.854,-62.8302 437.8424,-57.9193\"/>\n</g>\n<!-- 8 -->\n<g id=\"node9\" class=\"node\">\n<title>8</title>\n<polygon fill=\"#41a1e6\" stroke=\"#000000\" points=\"654,-53 490,-53 490,0 654,0 654,-53\"/>\n<text text-anchor=\"middle\" x=\"572\" y=\"-37.8\" font-family=\"Helvetica,sans-Serif\" font-size=\"14.00\" fill=\"#000000\">samples = 26</text>\n<text text-anchor=\"middle\" x=\"572\" y=\"-22.8\" font-family=\"Helvetica,sans-Serif\" font-size=\"14.00\" fill=\"#000000\">value = [1.006, 24.848]</text>\n<text text-anchor=\"middle\" x=\"572\" y=\"-7.8\" font-family=\"Helvetica,sans-Serif\" font-size=\"14.00\" fill=\"#000000\">class = Yes</text>\n</g>\n<!-- 6&#45;&gt;8 -->\n<g id=\"edge8\" class=\"edge\">\n<title>6&#45;&gt;8</title>\n<path fill=\"none\" stroke=\"#000000\" d=\"M523.4422,-88.9777C530.4167,-80.0039 537.9516,-70.3089 544.9573,-61.295\"/>\n<polygon fill=\"#000000\" stroke=\"#000000\" points=\"547.8379,-63.292 551.211,-53.2485 542.3109,-58.9964 547.8379,-63.292\"/>\n</g>\n<!-- 10 -->\n<g id=\"node11\" class=\"node\">\n<title>10</title>\n<polygon fill=\"#dfeffb\" stroke=\"#000000\" points=\"1041.5,-157 852.5,-157 852.5,-89 1041.5,-89 1041.5,-157\"/>\n<text text-anchor=\"middle\" x=\"947\" y=\"-141.8\" font-family=\"Helvetica,sans-Serif\" font-size=\"14.00\" fill=\"#000000\">speechiness &lt;= 0.1</text>\n<text text-anchor=\"middle\" x=\"947\" y=\"-126.8\" font-family=\"Helvetica,sans-Serif\" font-size=\"14.00\" fill=\"#000000\">samples = 875</text>\n<text text-anchor=\"middle\" x=\"947\" y=\"-111.8\" font-family=\"Helvetica,sans-Serif\" font-size=\"14.00\" fill=\"#000000\">value = [398.437, 476.088]</text>\n<text text-anchor=\"middle\" x=\"947\" y=\"-96.8\" font-family=\"Helvetica,sans-Serif\" font-size=\"14.00\" fill=\"#000000\">class = Yes</text>\n</g>\n<!-- 9&#45;&gt;10 -->\n<g id=\"edge10\" class=\"edge\">\n<title>9&#45;&gt;10</title>\n<path fill=\"none\" stroke=\"#000000\" d=\"M1010.8934,-192.9465C1002.6099,-183.8782 993.5682,-173.9799 984.9621,-164.5585\"/>\n<polygon fill=\"#000000\" stroke=\"#000000\" points=\"987.505,-162.1528 978.1764,-157.13 982.3367,-166.8739 987.505,-162.1528\"/>\n</g>\n<!-- 13 -->\n<g id=\"node14\" class=\"node\">\n<title>13</title>\n<polygon fill=\"#f8deca\" stroke=\"#000000\" points=\"1240.5,-157 1059.5,-157 1059.5,-89 1240.5,-89 1240.5,-157\"/>\n<text text-anchor=\"middle\" x=\"1150\" y=\"-141.8\" font-family=\"Helvetica,sans-Serif\" font-size=\"14.00\" fill=\"#000000\">speechiness &lt;= 0.12</text>\n<text text-anchor=\"middle\" x=\"1150\" y=\"-126.8\" font-family=\"Helvetica,sans-Serif\" font-size=\"14.00\" fill=\"#000000\">samples = 272</text>\n<text text-anchor=\"middle\" x=\"1150\" y=\"-111.8\" font-family=\"Helvetica,sans-Serif\" font-size=\"14.00\" fill=\"#000000\">value = [156.96, 115.295]</text>\n<text text-anchor=\"middle\" x=\"1150\" y=\"-96.8\" font-family=\"Helvetica,sans-Serif\" font-size=\"14.00\" fill=\"#000000\">class = No</text>\n</g>\n<!-- 9&#45;&gt;13 -->\n<g id=\"edge13\" class=\"edge\">\n<title>9&#45;&gt;13</title>\n<path fill=\"none\" stroke=\"#000000\" d=\"M1077.3632,-192.9465C1086.8736,-183.7884 1097.263,-173.7838 1107.1335,-164.2788\"/>\n<polygon fill=\"#000000\" stroke=\"#000000\" points=\"1109.7818,-166.5876 1114.5573,-157.13 1104.9263,-161.5453 1109.7818,-166.5876\"/>\n</g>\n<!-- 11 -->\n<g id=\"node12\" class=\"node\">\n<title>11</title>\n<polygon fill=\"#c6e3f8\" stroke=\"#000000\" points=\"845.5,-53 672.5,-53 672.5,0 845.5,0 845.5,-53\"/>\n<text text-anchor=\"middle\" x=\"759\" y=\"-37.8\" font-family=\"Helvetica,sans-Serif\" font-size=\"14.00\" fill=\"#000000\">samples = 561</text>\n<text text-anchor=\"middle\" x=\"759\" y=\"-22.8\" font-family=\"Helvetica,sans-Serif\" font-size=\"14.00\" fill=\"#000000\">value = [233.428, 327.0]</text>\n<text text-anchor=\"middle\" x=\"759\" y=\"-7.8\" font-family=\"Helvetica,sans-Serif\" font-size=\"14.00\" fill=\"#000000\">class = Yes</text>\n</g>\n<!-- 10&#45;&gt;11 -->\n<g id=\"edge11\" class=\"edge\">\n<title>10&#45;&gt;11</title>\n<path fill=\"none\" stroke=\"#000000\" d=\"M880.7182,-88.9777C860.9143,-78.8124 839.3078,-67.7218 819.8689,-57.7439\"/>\n<polygon fill=\"#000000\" stroke=\"#000000\" points=\"821.3068,-54.5478 810.8121,-53.095 818.1102,-60.7754 821.3068,-54.5478\"/>\n</g>\n<!-- 12 -->\n<g id=\"node13\" class=\"node\">\n<title>12</title>\n<polygon fill=\"#fcf3ec\" stroke=\"#000000\" points=\"1052.5,-53 863.5,-53 863.5,0 1052.5,0 1052.5,-53\"/>\n<text text-anchor=\"middle\" x=\"958\" y=\"-37.8\" font-family=\"Helvetica,sans-Serif\" font-size=\"14.00\" fill=\"#000000\">samples = 314</text>\n<text text-anchor=\"middle\" x=\"958\" y=\"-22.8\" font-family=\"Helvetica,sans-Serif\" font-size=\"14.00\" fill=\"#000000\">value = [165.009, 149.088]</text>\n<text text-anchor=\"middle\" x=\"958\" y=\"-7.8\" font-family=\"Helvetica,sans-Serif\" font-size=\"14.00\" fill=\"#000000\">class = No</text>\n</g>\n<!-- 10&#45;&gt;12 -->\n<g id=\"edge12\" class=\"edge\">\n<title>10&#45;&gt;12</title>\n<path fill=\"none\" stroke=\"#000000\" d=\"M950.8782,-88.9777C951.828,-80.6449 952.8488,-71.6903 953.8124,-63.2364\"/>\n<polygon fill=\"#000000\" stroke=\"#000000\" points=\"957.2958,-63.5806 954.951,-53.2485 950.3408,-62.7877 957.2958,-63.5806\"/>\n</g>\n<!-- 14 -->\n<g id=\"node15\" class=\"node\">\n<title>14</title>\n<polygon fill=\"#f4c8a8\" stroke=\"#000000\" points=\"1227,-53 1071,-53 1071,0 1227,0 1227,-53\"/>\n<text text-anchor=\"middle\" x=\"1149\" y=\"-37.8\" font-family=\"Helvetica,sans-Serif\" font-size=\"14.00\" fill=\"#000000\">samples = 204</text>\n<text text-anchor=\"middle\" x=\"1149\" y=\"-22.8\" font-family=\"Helvetica,sans-Serif\" font-size=\"14.00\" fill=\"#000000\">value = [130.8, 73.55]</text>\n<text text-anchor=\"middle\" x=\"1149\" y=\"-7.8\" font-family=\"Helvetica,sans-Serif\" font-size=\"14.00\" fill=\"#000000\">class = No</text>\n</g>\n<!-- 13&#45;&gt;14 -->\n<g id=\"edge14\" class=\"edge\">\n<title>13&#45;&gt;14</title>\n<path fill=\"none\" stroke=\"#000000\" d=\"M1149.6474,-88.9777C1149.562,-80.7364 1149.4703,-71.887 1149.3836,-63.5153\"/>\n<polygon fill=\"#000000\" stroke=\"#000000\" points=\"1152.8807,-63.2116 1149.2772,-53.2485 1145.8811,-63.2842 1152.8807,-63.2116\"/>\n</g>\n<!-- 15 -->\n<g id=\"node16\" class=\"node\">\n<title>15</title>\n<polygon fill=\"#b5daf5\" stroke=\"#000000\" points=\"1409,-53 1245,-53 1245,0 1409,0 1409,-53\"/>\n<text text-anchor=\"middle\" x=\"1327\" y=\"-37.8\" font-family=\"Helvetica,sans-Serif\" font-size=\"14.00\" fill=\"#000000\">samples = 68</text>\n<text text-anchor=\"middle\" x=\"1327\" y=\"-22.8\" font-family=\"Helvetica,sans-Serif\" font-size=\"14.00\" fill=\"#000000\">value = [26.16, 41.745]</text>\n<text text-anchor=\"middle\" x=\"1327\" y=\"-7.8\" font-family=\"Helvetica,sans-Serif\" font-size=\"14.00\" fill=\"#000000\">class = Yes</text>\n</g>\n<!-- 13&#45;&gt;15 -->\n<g id=\"edge15\" class=\"edge\">\n<title>13&#45;&gt;15</title>\n<path fill=\"none\" stroke=\"#000000\" d=\"M1212.4036,-88.9777C1230.7956,-78.9504 1250.8391,-68.0228 1268.9462,-58.1508\"/>\n<polygon fill=\"#000000\" stroke=\"#000000\" points=\"1271.115,-60.9548 1278.2195,-53.095 1267.7642,-54.8089 1271.115,-60.9548\"/>\n</g>\n<!-- 17 -->\n<g id=\"node18\" class=\"node\">\n<title>17</title>\n<polygon fill=\"#f2c19e\" stroke=\"#000000\" points=\"1505.5,-261 1332.5,-261 1332.5,-193 1505.5,-193 1505.5,-261\"/>\n<text text-anchor=\"middle\" x=\"1419\" y=\"-245.8\" font-family=\"Helvetica,sans-Serif\" font-size=\"14.00\" fill=\"#000000\">liveness &lt;= 0.094</text>\n<text text-anchor=\"middle\" x=\"1419\" y=\"-230.8\" font-family=\"Helvetica,sans-Serif\" font-size=\"14.00\" fill=\"#000000\">samples = 85</text>\n<text text-anchor=\"middle\" x=\"1419\" y=\"-215.8\" font-family=\"Helvetica,sans-Serif\" font-size=\"14.00\" fill=\"#000000\">value = [56.345, 28.824]</text>\n<text text-anchor=\"middle\" x=\"1419\" y=\"-200.8\" font-family=\"Helvetica,sans-Serif\" font-size=\"14.00\" fill=\"#000000\">class = No</text>\n</g>\n<!-- 16&#45;&gt;17 -->\n<g id=\"edge17\" class=\"edge\">\n<title>16&#45;&gt;17</title>\n<path fill=\"none\" stroke=\"#000000\" d=\"M1419,-296.9465C1419,-288.776 1419,-279.9318 1419,-271.3697\"/>\n<polygon fill=\"#000000\" stroke=\"#000000\" points=\"1422.5001,-271.13 1419,-261.13 1415.5001,-271.13 1422.5001,-271.13\"/>\n</g>\n<!-- 22 -->\n<g id=\"node23\" class=\"node\">\n<title>22</title>\n<polygon fill=\"#e58139\" stroke=\"#000000\" points=\"1769,-261 1609,-261 1609,-193 1769,-193 1769,-261\"/>\n<text text-anchor=\"middle\" x=\"1689\" y=\"-245.8\" font-family=\"Helvetica,sans-Serif\" font-size=\"14.00\" fill=\"#000000\">speechiness &lt;= 0.029</text>\n<text text-anchor=\"middle\" x=\"1689\" y=\"-230.8\" font-family=\"Helvetica,sans-Serif\" font-size=\"14.00\" fill=\"#000000\">samples = 34</text>\n<text text-anchor=\"middle\" x=\"1689\" y=\"-215.8\" font-family=\"Helvetica,sans-Serif\" font-size=\"14.00\" fill=\"#000000\">value = [34.209, 0.0]</text>\n<text text-anchor=\"middle\" x=\"1689\" y=\"-200.8\" font-family=\"Helvetica,sans-Serif\" font-size=\"14.00\" fill=\"#000000\">class = No</text>\n</g>\n<!-- 16&#45;&gt;22 -->\n<g id=\"edge22\" class=\"edge\">\n<title>16&#45;&gt;22</title>\n<path fill=\"none\" stroke=\"#000000\" d=\"M1505.5438,-297.6646C1535.4681,-286.1382 1569.0548,-273.2011 1599.232,-261.5773\"/>\n<polygon fill=\"#000000\" stroke=\"#000000\" points=\"1600.8274,-264.7135 1608.901,-257.8529 1598.3113,-258.1813 1600.8274,-264.7135\"/>\n</g>\n<!-- 18 -->\n<g id=\"node19\" class=\"node\">\n<title>18</title>\n<polygon fill=\"#e58139\" stroke=\"#000000\" points=\"1409,-149.5 1261,-149.5 1261,-96.5 1409,-96.5 1409,-149.5\"/>\n<text text-anchor=\"middle\" x=\"1335\" y=\"-134.3\" font-family=\"Helvetica,sans-Serif\" font-size=\"14.00\" fill=\"#000000\">samples = 21</text>\n<text text-anchor=\"middle\" x=\"1335\" y=\"-119.3\" font-family=\"Helvetica,sans-Serif\" font-size=\"14.00\" fill=\"#000000\">value = [21.129, 0.0]</text>\n<text text-anchor=\"middle\" x=\"1335\" y=\"-104.3\" font-family=\"Helvetica,sans-Serif\" font-size=\"14.00\" fill=\"#000000\">class = No</text>\n</g>\n<!-- 17&#45;&gt;18 -->\n<g id=\"edge18\" class=\"edge\">\n<title>17&#45;&gt;18</title>\n<path fill=\"none\" stroke=\"#000000\" d=\"M1391.4953,-192.9465C1382.3317,-181.6012 1372.1189,-168.9567 1362.9239,-157.5724\"/>\n<polygon fill=\"#000000\" stroke=\"#000000\" points=\"1365.4441,-155.1224 1356.4379,-149.5422 1359.9985,-159.5208 1365.4441,-155.1224\"/>\n</g>\n<!-- 19 -->\n<g id=\"node20\" class=\"node\">\n<title>19</title>\n<polygon fill=\"#fae8db\" stroke=\"#000000\" points=\"1600.5,-157 1427.5,-157 1427.5,-89 1600.5,-89 1600.5,-157\"/>\n<text text-anchor=\"middle\" x=\"1514\" y=\"-141.8\" font-family=\"Helvetica,sans-Serif\" font-size=\"14.00\" fill=\"#000000\">liveness &lt;= 0.324</text>\n<text text-anchor=\"middle\" x=\"1514\" y=\"-126.8\" font-family=\"Helvetica,sans-Serif\" font-size=\"14.00\" fill=\"#000000\">samples = 64</text>\n<text text-anchor=\"middle\" x=\"1514\" y=\"-111.8\" font-family=\"Helvetica,sans-Serif\" font-size=\"14.00\" fill=\"#000000\">value = [35.215, 28.824]</text>\n<text text-anchor=\"middle\" x=\"1514\" y=\"-96.8\" font-family=\"Helvetica,sans-Serif\" font-size=\"14.00\" fill=\"#000000\">class = No</text>\n</g>\n<!-- 17&#45;&gt;19 -->\n<g id=\"edge19\" class=\"edge\">\n<title>17&#45;&gt;19</title>\n<path fill=\"none\" stroke=\"#000000\" d=\"M1450.1066,-192.9465C1458.3901,-183.8782 1467.4318,-173.9799 1476.0379,-164.5585\"/>\n<polygon fill=\"#000000\" stroke=\"#000000\" points=\"1478.6633,-166.8739 1482.8236,-157.13 1473.495,-162.1528 1478.6633,-166.8739\"/>\n</g>\n<!-- 20 -->\n<g id=\"node21\" class=\"node\">\n<title>20</title>\n<polygon fill=\"#f4f9fe\" stroke=\"#000000\" points=\"1600.5,-53 1427.5,-53 1427.5,0 1600.5,0 1600.5,-53\"/>\n<text text-anchor=\"middle\" x=\"1514\" y=\"-37.8\" font-family=\"Helvetica,sans-Serif\" font-size=\"14.00\" fill=\"#000000\">samples = 56</text>\n<text text-anchor=\"middle\" x=\"1514\" y=\"-22.8\" font-family=\"Helvetica,sans-Serif\" font-size=\"14.00\" fill=\"#000000\">value = [27.166, 28.824]</text>\n<text text-anchor=\"middle\" x=\"1514\" y=\"-7.8\" font-family=\"Helvetica,sans-Serif\" font-size=\"14.00\" fill=\"#000000\">class = Yes</text>\n</g>\n<!-- 19&#45;&gt;20 -->\n<g id=\"edge20\" class=\"edge\">\n<title>19&#45;&gt;20</title>\n<path fill=\"none\" stroke=\"#000000\" d=\"M1514,-88.9777C1514,-80.7364 1514,-71.887 1514,-63.5153\"/>\n<polygon fill=\"#000000\" stroke=\"#000000\" points=\"1517.5001,-63.2484 1514,-53.2485 1510.5001,-63.2485 1517.5001,-63.2484\"/>\n</g>\n<!-- 21 -->\n<g id=\"node22\" class=\"node\">\n<title>21</title>\n<polygon fill=\"#e58139\" stroke=\"#000000\" points=\"1759,-53 1619,-53 1619,0 1759,0 1759,-53\"/>\n<text text-anchor=\"middle\" x=\"1689\" y=\"-37.8\" font-family=\"Helvetica,sans-Serif\" font-size=\"14.00\" fill=\"#000000\">samples = 8</text>\n<text text-anchor=\"middle\" x=\"1689\" y=\"-22.8\" font-family=\"Helvetica,sans-Serif\" font-size=\"14.00\" fill=\"#000000\">value = [8.049, 0.0]</text>\n<text text-anchor=\"middle\" x=\"1689\" y=\"-7.8\" font-family=\"Helvetica,sans-Serif\" font-size=\"14.00\" fill=\"#000000\">class = No</text>\n</g>\n<!-- 19&#45;&gt;21 -->\n<g id=\"edge21\" class=\"edge\">\n<title>19&#45;&gt;21</title>\n<path fill=\"none\" stroke=\"#000000\" d=\"M1575.6985,-88.9777C1593.8827,-78.9504 1613.6997,-68.0228 1631.6021,-58.1508\"/>\n<polygon fill=\"#000000\" stroke=\"#000000\" points=\"1633.7039,-60.9888 1640.7707,-53.095 1630.3237,-54.859 1633.7039,-60.9888\"/>\n</g>\n<!-- 23 -->\n<g id=\"node24\" class=\"node\">\n<title>23</title>\n<polygon fill=\"#e58139\" stroke=\"#000000\" points=\"1759,-149.5 1619,-149.5 1619,-96.5 1759,-96.5 1759,-149.5\"/>\n<text text-anchor=\"middle\" x=\"1689\" y=\"-134.3\" font-family=\"Helvetica,sans-Serif\" font-size=\"14.00\" fill=\"#000000\">samples = 1</text>\n<text text-anchor=\"middle\" x=\"1689\" y=\"-119.3\" font-family=\"Helvetica,sans-Serif\" font-size=\"14.00\" fill=\"#000000\">value = [1.006, 0.0]</text>\n<text text-anchor=\"middle\" x=\"1689\" y=\"-104.3\" font-family=\"Helvetica,sans-Serif\" font-size=\"14.00\" fill=\"#000000\">class = No</text>\n</g>\n<!-- 22&#45;&gt;23 -->\n<g id=\"edge23\" class=\"edge\">\n<title>22&#45;&gt;23</title>\n<path fill=\"none\" stroke=\"#000000\" d=\"M1689,-192.9465C1689,-182.2621 1689,-170.4254 1689,-159.5742\"/>\n<polygon fill=\"#000000\" stroke=\"#000000\" points=\"1692.5001,-159.5421 1689,-149.5422 1685.5001,-159.5422 1692.5001,-159.5421\"/>\n</g>\n<!-- 24 -->\n<g id=\"node25\" class=\"node\">\n<title>24</title>\n<polygon fill=\"#e58139\" stroke=\"#000000\" points=\"1925,-149.5 1777,-149.5 1777,-96.5 1925,-96.5 1925,-149.5\"/>\n<text text-anchor=\"middle\" x=\"1851\" y=\"-134.3\" font-family=\"Helvetica,sans-Serif\" font-size=\"14.00\" fill=\"#000000\">samples = 33</text>\n<text text-anchor=\"middle\" x=\"1851\" y=\"-119.3\" font-family=\"Helvetica,sans-Serif\" font-size=\"14.00\" fill=\"#000000\">value = [33.203, 0.0]</text>\n<text text-anchor=\"middle\" x=\"1851\" y=\"-104.3\" font-family=\"Helvetica,sans-Serif\" font-size=\"14.00\" fill=\"#000000\">class = No</text>\n</g>\n<!-- 22&#45;&gt;24 -->\n<g id=\"edge24\" class=\"edge\">\n<title>22&#45;&gt;24</title>\n<path fill=\"none\" stroke=\"#000000\" d=\"M1742.0449,-192.9465C1761.0043,-180.775 1782.2927,-167.1084 1800.9879,-155.1066\"/>\n<polygon fill=\"#000000\" stroke=\"#000000\" points=\"1803.1311,-157.8898 1809.6555,-149.5422 1799.3495,-151.9992 1803.1311,-157.8898\"/>\n</g>\n</g>\n</svg>\n"
          },
          "metadata": {}
        }
      ]
    },
    {
      "cell_type": "code",
      "source": [
        "result = tree.feature_importances_\n",
        "print(\"변수의 중요도:\\n\", result)"
      ],
      "metadata": {
        "colab": {
          "base_uri": "https://localhost:8080/"
        },
        "id": "nYFkXJoSaw6_",
        "outputId": "1ef8fa79-c09c-477b-cd81-851b8ddd6bd2"
      },
      "execution_count": null,
      "outputs": [
        {
          "output_type": "stream",
          "name": "stdout",
          "text": [
            "변수의 중요도:\n",
            " [0.         0.20946614 0.03223066 0.         0.17733353 0.10716104\n",
            " 0.2735079  0.15833205 0.04196868]\n"
          ]
        }
      ]
    },
    {
      "cell_type": "code",
      "source": [
        "import numpy as np\n",
        "\n",
        "def plot_feature_importances_spotify_song(model):\n",
        "    plt.rcParams[\"figure.figsize\"] = (9,6)\n",
        "    n_features = len(spotify_song.columns[[2 ,3, 4, 5, 6, 7, 8, 9, 10]])  # 9개 \n",
        "    plt.barh(np.arange(n_features), model.feature_importances_, align='center') \n",
        "    plt.yticks(np.arange(n_features), spotify_song.columns[[2, 3, 4, 5, 6, 7, 8, 9, 10]])   # 9개의 눈금을 표시하고 눈금 레이블을 변수 이름으로 지정\n",
        "    plt.xlabel(\"feature importance\")\n",
        "    plt.ylabel(\"feature\")\n",
        "    plt.ylim(-1, n_features) #Y 축 범위 지정\n",
        "\n",
        "plot_feature_importances_spotify_song(tree)\n",
        "\n",
        "#(0이라고 해서 중요하지 않은 것 아님)"
      ],
      "metadata": {
        "colab": {
          "base_uri": "https://localhost:8080/",
          "height": 388
        },
        "id": "juC54ch6a1VB",
        "outputId": "a42c2835-a01b-4329-ad62-893680707c2b"
      },
      "execution_count": null,
      "outputs": [
        {
          "output_type": "display_data",
          "data": {
            "text/plain": [
              "<Figure size 648x432 with 1 Axes>"
            ],
            "image/png": "[encoded data removed]"
          },
          "metadata": {
            "needs_background": "light"
          }
        }
      ]
    },
    {
      "cell_type": "code",
      "source": [
        "from sklearn.ensemble import RandomForestClassifier\n",
        "\n",
        "# 30개 변수를 모두 이용하여 100개의 나무 생성 (정확도가 높아짐)\n",
        "forest = RandomForestClassifier(n_estimators=100, random_state=0)\n",
        "forest.fit(X_train, y_train)\n",
        "\n",
        "print(\"학습용 데이터 세트 정확도: {:.3f}\".format(forest.score(X_train, y_train)))\n",
        "print(\"시험용 데이터 세트 정확도: {:.3f}\".format(forest.score(X_test, y_test)))"
      ],
      "metadata": {
        "colab": {
          "base_uri": "https://localhost:8080/"
        },
        "id": "t5WDBBv7a1fo",
        "outputId": "271a17c1-314e-421d-8fc0-213915ac2f2f"
      },
      "execution_count": null,
      "outputs": [
        {
          "output_type": "stream",
          "name": "stdout",
          "text": [
            "학습용 데이터 세트 정확도: 0.999\n",
            "시험용 데이터 세트 정확도: 0.681\n"
          ]
        }
      ]
    },
    {
      "cell_type": "code",
      "source": [
        "# 단일 의사결정나무의 경우보다 많은 변수(feature)들이 사용됨\n",
        "plot_feature_importances_spotify_song(forest)"
      ],
      "metadata": {
        "colab": {
          "base_uri": "https://localhost:8080/",
          "height": 388
        },
        "id": "InNIfz4ua1mb",
        "outputId": "b7468b83-f2c0-45d2-b52a-bf5f92c4616a"
      },
      "execution_count": null,
      "outputs": [
        {
          "output_type": "display_data",
          "data": {
            "text/plain": [
              "<Figure size 648x432 with 1 Axes>"
            ],
            "image/png": "[encoded data removed]"
          },
          "metadata": {
            "needs_background": "light"
          }
        }
      ]
    },
    {
      "cell_type": "code",
      "source": [
        "from sklearn.model_selection import cross_val_score\n",
        "\n",
        "# 교차 검증을 10번 수행하여 10번의 교차 검증 평균 정확도를 비교 (10-fold cross validation)\n",
        "# default cv=5\n",
        "\n",
        "dt_scores = cross_val_score(tree, X_train, y_train, cv=10, scoring='accuracy')  \n",
        "rf_scores = cross_val_score(forest, X_train, y_train, cv=10, scoring='accuracy')\n",
        "\n",
        "print(\"Accuracy\")\n",
        "print(\"Decision tree: \", dt_scores) \n",
        "print(\"Random forest: \", rf_scores) \n",
        "\n",
        "print(\"Accuracy mean\")\n",
        "print(\"Decision tree :{:.3f}\".format(dt_scores.mean()))\n",
        "print(\"Random forest :{:.3f}\".format(rf_scores.mean()))"
      ],
      "metadata": {
        "colab": {
          "base_uri": "https://localhost:8080/"
        },
        "id": "PBhTJMGEbj6V",
        "outputId": "578bbd6a-080d-4c93-f23f-c554adea7b83"
      },
      "execution_count": null,
      "outputs": [
        {
          "output_type": "stream",
          "name": "stdout",
          "text": [
            "Accuracy\n",
            "Decision tree:  [0.48854962 0.51908397 0.51908397 0.52671756 0.53435115 0.49618321\n",
            " 0.48854962 0.61068702 0.53076923 0.55384615]\n",
            "Random forest:  [0.67938931 0.6870229  0.70229008 0.70992366 0.76335878 0.70229008\n",
            " 0.67175573 0.72519084 0.71538462 0.67692308]\n",
            "Accuracy mean\n",
            "Decision tree :0.527\n",
            "Random forest :0.703\n"
          ]
        }
      ]
    },
    {
      "cell_type": "code",
      "source": [
        "cv_list = [    \n",
        "            ['decision_tree',dt_scores],\n",
        "            ['random_forest',rf_scores],\n",
        "          ]\n",
        "df = pd.DataFrame.from_dict(dict(cv_list))\n",
        "df.plot()"
      ],
      "metadata": {
        "colab": {
          "base_uri": "https://localhost:8080/",
          "height": 392
        },
        "id": "zL_ysPiDbtB9",
        "outputId": "4661ce89-e71e-4828-ddec-8a4a48da021a"
      },
      "execution_count": null,
      "outputs": [
        {
          "output_type": "execute_result",
          "data": {
            "text/plain": [
              "<matplotlib.axes._subplots.AxesSubplot at 0x7f6466325c70>"
            ]
          },
          "metadata": {},
          "execution_count": 131
        },
        {
          "output_type": "display_data",
          "data": {
            "text/plain": [
              "<Figure size 648x432 with 1 Axes>"
            ],
            "image/png": "[encoded data removed]"
          },
          "metadata": {
            "needs_background": "light"
          }
        }
      ]
    },
    {
      "cell_type": "code",
      "source": [
        "from sklearn.ensemble import GradientBoostingClassifier\n",
        "# 기본값은 max_depth= 3, n_estimators=100, learning_rate = 0.1\n",
        "\n",
        "gbrt = GradientBoostingClassifier(random_state=0)\n",
        "gbrt.fit(X_train, y_train)"
      ],
      "metadata": {
        "colab": {
          "base_uri": "https://localhost:8080/"
        },
        "id": "JduLzl1XbyLX",
        "outputId": "4d2ff111-3684-43b4-c3eb-3537e3e51325"
      },
      "execution_count": null,
      "outputs": [
        {
          "output_type": "execute_result",
          "data": {
            "text/plain": [
              "GradientBoostingClassifier(random_state=0)"
            ]
          },
          "metadata": {},
          "execution_count": 158
        }
      ]
    },
    {
      "cell_type": "code",
      "source": [
        "print(\"학습용 데이터 세트 정확도: {:.3f}\".format(gbrt.score(X_train, y_train)))\n",
        "print(\"시험용 데이터 세트 정확도: {:.3f}\".format(gbrt.score(X_test, y_test)))"
      ],
      "metadata": {
        "colab": {
          "base_uri": "https://localhost:8080/"
        },
        "id": "Fx23sFYGb284",
        "outputId": "96a95e76-ed66-4cf5-c5fd-e5886365730b"
      },
      "execution_count": null,
      "outputs": [
        {
          "output_type": "stream",
          "name": "stdout",
          "text": [
            "학습용 데이터 세트 정확도: 0.849\n",
            "시험용 데이터 세트 정확도: 0.651\n"
          ]
        }
      ]
    },
    {
      "cell_type": "code",
      "source": [
        "plot_feature_importances_spotify_song(gbrt)"
      ],
      "metadata": {
        "colab": {
          "base_uri": "https://localhost:8080/",
          "height": 388
        },
        "id": "mUCnivw2b7Ic",
        "outputId": "b4eae2a3-3b3a-4cac-d643-f24b701989ca"
      },
      "execution_count": null,
      "outputs": [
        {
          "output_type": "display_data",
          "data": {
            "text/plain": [
              "<Figure size 648x432 with 1 Axes>"
            ],
            "image/png": "[encoded data removed]"
          },
          "metadata": {
            "needs_background": "light"
          }
        }
      ]
    },
    {
      "cell_type": "code",
      "source": [
        "#나무 깊이 제한 - 사용하지 않기\n",
        "#gbrt = GradientBoostingClassifier(random_state=0, max_depth=2)\n",
        "#gbrt.fit(X_train, y_train)\n",
        "\n",
        "#print(\"학습 데이터 세트 정확도: {:.3f}\".format(gbrt.score(X_train, y_train)))\n",
        "#print(\"시험용 데이터 세트 정확도: {:.3f}\".format(gbrt.score(X_test, y_test))) # 나무깊이 제안은 하지 않는 것이 좋음"
      ],
      "metadata": {
        "colab": {
          "base_uri": "https://localhost:8080/"
        },
        "id": "QE_lWAnJcGjw",
        "outputId": "4cdc2af0-fc39-46af-9c99-f8f29fc35d7a"
      },
      "execution_count": null,
      "outputs": [
        {
          "output_type": "stream",
          "name": "stdout",
          "text": [
            "학습 데이터 세트 정확도: 0.748\n",
            "시험용 데이터 세트 정확도: 0.601\n"
          ]
        }
      ]
    },
    {
      "cell_type": "code",
      "source": [
        "#학습률 감소 - 사용하지 않기\n",
        "#gbrt = GradientBoostingClassifier(random_state=0, learning_rate=0.01)\n",
        "#gbrt.fit(X_train, y_train)\n",
        "\n",
        "#print(\"학습 데이터 세트 정확도: {:.3f}\".format(gbrt.score(X_train, y_train)))\n",
        "#print(\"시험용 데이터 세트 정확도: {:.3f}\".format(gbrt.score(X_test, y_test))) "
      ],
      "metadata": {
        "colab": {
          "base_uri": "https://localhost:8080/"
        },
        "id": "ZWs4vi6qcMSY",
        "outputId": "e4f0e08d-c5d7-4ee9-f978-f006f49033fc"
      },
      "execution_count": null,
      "outputs": [
        {
          "output_type": "stream",
          "name": "stdout",
          "text": [
            "학습 데이터 세트 정확도: 0.636\n",
            "시험용 데이터 세트 정확도: 0.555\n"
          ]
        }
      ]
    },
    {
      "cell_type": "code",
      "source": [
        "# 교차 검증을 10번 수행하여 10번의 교차 검증 평균 정확도를 비교 (10-fold cross validation)\n",
        "\n",
        "dt_scores = cross_val_score(tree, X_train, y_train, cv=10, scoring='accuracy')  \n",
        "rf_scores = cross_val_score(forest, X_train, y_train, cv=10, scoring='accuracy')\n",
        "gbrt_scores = cross_val_score(gbrt, X_train, y_train, cv=10, scoring='accuracy')\n",
        "\n",
        "print(\"Accuracy\")\n",
        "print(\"Decision tree: \", dt_scores) \n",
        "print(\"Random forest: \", rf_scores) \n",
        "print(\"Gradient boosting: \", gbrt_scores) \n",
        "\n",
        "print(\"Accuracy mean\")\n",
        "print(\"Decision tree :{:.3f}\".format(dt_scores.mean())) \n",
        "print(\"Random forest :{:.3f}\".format(rf_scores.mean()))\n",
        "print(\"Gradient boosting :{:.3f}\".format(gbrt_scores.mean())) #교순님이 다른 측정지표 추천하심"
      ],
      "metadata": {
        "colab": {
          "base_uri": "https://localhost:8080/"
        },
        "id": "dqyMzTuxcWNV",
        "outputId": "77d66c12-034e-4af7-c5a2-31810515ced0"
      },
      "execution_count": null,
      "outputs": [
        {
          "output_type": "stream",
          "name": "stdout",
          "text": [
            "Accuracy\n",
            "Decision tree:  [0.48854962 0.51908397 0.51908397 0.52671756 0.53435115 0.49618321\n",
            " 0.48854962 0.61068702 0.53076923 0.55384615]\n",
            "Random forest:  [0.67938931 0.6870229  0.70229008 0.70992366 0.76335878 0.70229008\n",
            " 0.67175573 0.72519084 0.71538462 0.67692308]\n",
            "Gradient boosting:  [0.54961832 0.5648855  0.51145038 0.57251908 0.60305344 0.5648855\n",
            " 0.51145038 0.65648855 0.54615385 0.61538462]\n",
            "Accuracy mean\n",
            "Decision tree :0.527\n",
            "Random forest :0.703\n",
            "Gradient boosting :0.570\n"
          ]
        }
      ]
    },
    {
      "cell_type": "code",
      "source": [
        "from sklearn.model_selection import GridSearchCV\n",
        "\n",
        "# 파라미터를 dictionary 형태로 설정\n",
        "parameters = {'max_depth':[1,2,3], 'learning_rate':[0.1,0.08, 0.06, 0.04, 0.02]}"
      ],
      "metadata": {
        "id": "ELzGpmxZcuW0"
      },
      "execution_count": null,
      "outputs": []
    },
    {
      "cell_type": "code",
      "source": [
        "# param_grid의 파라미터들을 3개의 fold 로 나누어 검증\n",
        "# refit=True (기본값): 가장 좋은 파라미터 설정으로 재학습  \n",
        "init_gbrt = GradientBoostingClassifier(random_state=0)\n",
        "grid_gbrt = GridSearchCV(init_gbrt, param_grid=parameters, cv=3, refit=True)\n",
        "print(grid_gbrt)\n",
        "# 파라미터들을 순차적으로 학습, 검증\n",
        "grid_gbrt.fit(X_train, y_train)\n",
        "\n",
        "# GridSearchCV 결과 추출하여 DataFrame으로 변환\n",
        "scores_df = pd.DataFrame(grid_gbrt.cv_results_)\n",
        "scores_df[['params', 'mean_test_score', 'rank_test_score', 'split0_test_score', 'split1_test_score', 'split2_test_score']]"
      ],
      "metadata": {
        "colab": {
          "base_uri": "https://localhost:8080/",
          "height": 574
        },
        "id": "UfonMV3icx8E",
        "outputId": "51da9bbd-29bf-465b-cbda-db1553bdcd0c"
      },
      "execution_count": null,
      "outputs": [
        {
          "output_type": "stream",
          "name": "stdout",
          "text": [
            "GridSearchCV(cv=3, estimator=GradientBoostingClassifier(random_state=0),\n",
            "             param_grid={'learning_rate': [0.1, 0.08, 0.06, 0.04, 0.02],\n",
            "                         'max_depth': [1, 2, 3]})\n"
          ]
        },
        {
          "output_type": "execute_result",
          "data": {
            "text/plain": [
              "                                     params  mean_test_score  rank_test_score  \\\n",
              "0    {'learning_rate': 0.1, 'max_depth': 1}         0.566514               11   \n",
              "1    {'learning_rate': 0.1, 'max_depth': 2}         0.577217                8   \n",
              "2    {'learning_rate': 0.1, 'max_depth': 3}         0.604740                1   \n",
              "3   {'learning_rate': 0.08, 'max_depth': 1}         0.561927               13   \n",
              "4   {'learning_rate': 0.08, 'max_depth': 2}         0.585627                6   \n",
              "5   {'learning_rate': 0.08, 'max_depth': 3}         0.599388                2   \n",
              "6   {'learning_rate': 0.06, 'max_depth': 1}         0.559633               14   \n",
              "7   {'learning_rate': 0.06, 'max_depth': 2}         0.588685                5   \n",
              "8   {'learning_rate': 0.06, 'max_depth': 3}         0.590979                4   \n",
              "9   {'learning_rate': 0.04, 'max_depth': 1}         0.562691               12   \n",
              "10  {'learning_rate': 0.04, 'max_depth': 2}         0.578746                7   \n",
              "11  {'learning_rate': 0.04, 'max_depth': 3}         0.594801                3   \n",
              "12  {'learning_rate': 0.02, 'max_depth': 1}         0.551988               15   \n",
              "13  {'learning_rate': 0.02, 'max_depth': 2}         0.568807               10   \n",
              "14  {'learning_rate': 0.02, 'max_depth': 3}         0.576453                9   \n",
              "\n",
              "    split0_test_score  split1_test_score  split2_test_score  \n",
              "0            0.538991           0.573394           0.587156  \n",
              "1            0.571101           0.557339           0.603211  \n",
              "2            0.605505           0.580275           0.628440  \n",
              "3            0.550459           0.555046           0.580275  \n",
              "4            0.577982           0.559633           0.619266  \n",
              "5            0.600917           0.584862           0.612385  \n",
              "6            0.543578           0.557339           0.577982  \n",
              "7            0.573394           0.566514           0.626147  \n",
              "8            0.603211           0.561927           0.607798  \n",
              "9            0.545872           0.559633           0.582569  \n",
              "10           0.561927           0.555046           0.619266  \n",
              "11           0.598624           0.568807           0.616972  \n",
              "12           0.543578           0.545872           0.566514  \n",
              "13           0.550459           0.561927           0.594037  \n",
              "14           0.559633           0.561927           0.607798  "
            ],
            "text/html": [
              "\n",
              "  <div id=\"df-e6379eea-ec7a-46d8-bb00-ad919ded2737\">\n",
              "    <div class=\"colab-df-container\">\n",
              "      <div>\n",
              "<style scoped>\n",
              "    .dataframe tbody tr th:only-of-type {\n",
              "        vertical-align: middle;\n",
              "    }\n",
              "\n",
              "    .dataframe tbody tr th {\n",
              "        vertical-align: top;\n",
              "    }\n",
              "\n",
              "    .dataframe thead th {\n",
              "        text-align: right;\n",
              "    }\n",
              "</style>\n",
              "<table border=\"1\" class=\"dataframe\">\n",
              "  <thead>\n",
              "    <tr style=\"text-align: right;\">\n",
              "      <th></th>\n",
              "      <th>params</th>\n",
              "      <th>mean_test_score</th>\n",
              "      <th>rank_test_score</th>\n",
              "      <th>split0_test_score</th>\n",
              "      <th>split1_test_score</th>\n",
              "      <th>split2_test_score</th>\n",
              "    </tr>\n",
              "  </thead>\n",
              "  <tbody>\n",
              "    <tr>\n",
              "      <th>0</th>\n",
              "      <td>{'learning_rate': 0.1, 'max_depth': 1}</td>\n",
              "      <td>0.566514</td>\n",
              "      <td>11</td>\n",
              "      <td>0.538991</td>\n",
              "      <td>0.573394</td>\n",
              "      <td>0.587156</td>\n",
              "    </tr>\n",
              "    <tr>\n",
              "      <th>1</th>\n",
              "      <td>{'learning_rate': 0.1, 'max_depth': 2}</td>\n",
              "      <td>0.577217</td>\n",
              "      <td>8</td>\n",
              "      <td>0.571101</td>\n",
              "      <td>0.557339</td>\n",
              "      <td>0.603211</td>\n",
              "    </tr>\n",
              "    <tr>\n",
              "      <th>2</th>\n",
              "      <td>{'learning_rate': 0.1, 'max_depth': 3}</td>\n",
              "      <td>0.604740</td>\n",
              "      <td>1</td>\n",
              "      <td>0.605505</td>\n",
              "      <td>0.580275</td>\n",
              "      <td>0.628440</td>\n",
              "    </tr>\n",
              "    <tr>\n",
              "      <th>3</th>\n",
              "      <td>{'learning_rate': 0.08, 'max_depth': 1}</td>\n",
              "      <td>0.561927</td>\n",
              "      <td>13</td>\n",
              "      <td>0.550459</td>\n",
              "      <td>0.555046</td>\n",
              "      <td>0.580275</td>\n",
              "    </tr>\n",
              "    <tr>\n",
              "      <th>4</th>\n",
              "      <td>{'learning_rate': 0.08, 'max_depth': 2}</td>\n",
              "      <td>0.585627</td>\n",
              "      <td>6</td>\n",
              "      <td>0.577982</td>\n",
              "      <td>0.559633</td>\n",
              "      <td>0.619266</td>\n",
              "    </tr>\n",
              "    <tr>\n",
              "      <th>5</th>\n",
              "      <td>{'learning_rate': 0.08, 'max_depth': 3}</td>\n",
              "      <td>0.599388</td>\n",
              "      <td>2</td>\n",
              "      <td>0.600917</td>\n",
              "      <td>0.584862</td>\n",
              "      <td>0.612385</td>\n",
              "    </tr>\n",
              "    <tr>\n",
              "      <th>6</th>\n",
              "      <td>{'learning_rate': 0.06, 'max_depth': 1}</td>\n",
              "      <td>0.559633</td>\n",
              "      <td>14</td>\n",
              "      <td>0.543578</td>\n",
              "      <td>0.557339</td>\n",
              "      <td>0.577982</td>\n",
              "    </tr>\n",
              "    <tr>\n",
              "      <th>7</th>\n",
              "      <td>{'learning_rate': 0.06, 'max_depth': 2}</td>\n",
              "      <td>0.588685</td>\n",
              "      <td>5</td>\n",
              "      <td>0.573394</td>\n",
              "      <td>0.566514</td>\n",
              "      <td>0.626147</td>\n",
              "    </tr>\n",
              "    <tr>\n",
              "      <th>8</th>\n",
              "      <td>{'learning_rate': 0.06, 'max_depth': 3}</td>\n",
              "      <td>0.590979</td>\n",
              "      <td>4</td>\n",
              "      <td>0.603211</td>\n",
              "      <td>0.561927</td>\n",
              "      <td>0.607798</td>\n",
              "    </tr>\n",
              "    <tr>\n",
              "      <th>9</th>\n",
              "      <td>{'learning_rate': 0.04, 'max_depth': 1}</td>\n",
              "      <td>0.562691</td>\n",
              "      <td>12</td>\n",
              "      <td>0.545872</td>\n",
              "      <td>0.559633</td>\n",
              "      <td>0.582569</td>\n",
              "    </tr>\n",
              "    <tr>\n",
              "      <th>10</th>\n",
              "      <td>{'learning_rate': 0.04, 'max_depth': 2}</td>\n",
              "      <td>0.578746</td>\n",
              "      <td>7</td>\n",
              "      <td>0.561927</td>\n",
              "      <td>0.555046</td>\n",
              "      <td>0.619266</td>\n",
              "    </tr>\n",
              "    <tr>\n",
              "      <th>11</th>\n",
              "      <td>{'learning_rate': 0.04, 'max_depth': 3}</td>\n",
              "      <td>0.594801</td>\n",
              "      <td>3</td>\n",
              "      <td>0.598624</td>\n",
              "      <td>0.568807</td>\n",
              "      <td>0.616972</td>\n",
              "    </tr>\n",
              "    <tr>\n",
              "      <th>12</th>\n",
              "      <td>{'learning_rate': 0.02, 'max_depth': 1}</td>\n",
              "      <td>0.551988</td>\n",
              "      <td>15</td>\n",
              "      <td>0.543578</td>\n",
              "      <td>0.545872</td>\n",
              "      <td>0.566514</td>\n",
              "    </tr>\n",
              "    <tr>\n",
              "      <th>13</th>\n",
              "      <td>{'learning_rate': 0.02, 'max_depth': 2}</td>\n",
              "      <td>0.568807</td>\n",
              "      <td>10</td>\n",
              "      <td>0.550459</td>\n",
              "      <td>0.561927</td>\n",
              "      <td>0.594037</td>\n",
              "    </tr>\n",
              "    <tr>\n",
              "      <th>14</th>\n",
              "      <td>{'learning_rate': 0.02, 'max_depth': 3}</td>\n",
              "      <td>0.576453</td>\n",
              "      <td>9</td>\n",
              "      <td>0.559633</td>\n",
              "      <td>0.561927</td>\n",
              "      <td>0.607798</td>\n",
              "    </tr>\n",
              "  </tbody>\n",
              "</table>\n",
              "</div>\n",
              "      <button class=\"colab-df-convert\" onclick=\"convertToInteractive('df-e6379eea-ec7a-46d8-bb00-ad919ded2737')\"\n",
              "              title=\"Convert this dataframe to an interactive table.\"\n",
              "              style=\"display:none;\">\n",
              "        \n",
              "  <svg xmlns=\"http://www.w3.org/2000/svg\" height=\"24px\"viewBox=\"0 0 24 24\"\n",
              "       width=\"24px\">\n",
              "    <path d=\"M0 0h24v24H0V0z\" fill=\"none\"/>\n",
              "    <path d=\"M18.56 5.44l.94 2.06.94-2.06 2.06-.94-2.06-.94-.94-2.06-.94 2.06-2.06.94zm-11 1L8.5 8.5l.94-2.06 2.06-.94-2.06-.94L8.5 2.5l-.94 2.06-2.06.94zm10 10l.94 2.06.94-2.06 2.06-.94-2.06-.94-.94-2.06-.94 2.06-2.06.94z\"/><path d=\"M17.41 7.96l-1.37-1.37c-.4-.4-.92-.59-1.43-.59-.52 0-1.04.2-1.43.59L10.3 9.45l-7.72 7.72c-.78.78-.78 2.05 0 2.83L4 21.41c.39.39.9.59 1.41.59.51 0 1.02-.2 1.41-.59l7.78-7.78 2.81-2.81c.8-.78.8-2.07 0-2.86zM5.41 20L4 18.59l7.72-7.72 1.47 1.35L5.41 20z\"/>\n",
              "  </svg>\n",
              "      </button>\n",
              "      \n",
              "  <style>\n",
              "    .colab-df-container {\n",
              "      display:flex;\n",
              "      flex-wrap:wrap;\n",
              "      gap: 12px;\n",
              "    }\n",
              "\n",
              "    .colab-df-convert {\n",
              "      background-color: #E8F0FE;\n",
              "      border: none;\n",
              "      border-radius: 50%;\n",
              "      cursor: pointer;\n",
              "      display: none;\n",
              "      fill: #1967D2;\n",
              "      height: 32px;\n",
              "      padding: 0 0 0 0;\n",
              "      width: 32px;\n",
              "    }\n",
              "\n",
              "    .colab-df-convert:hover {\n",
              "      background-color: #E2EBFA;\n",
              "      box-shadow: 0px 1px 2px rgba(60, 64, 67, 0.3), 0px 1px 3px 1px rgba(60, 64, 67, 0.15);\n",
              "      fill: #174EA6;\n",
              "    }\n",
              "\n",
              "    [theme=dark] .colab-df-convert {\n",
              "      background-color: #3B4455;\n",
              "      fill: #D2E3FC;\n",
              "    }\n",
              "\n",
              "    [theme=dark] .colab-df-convert:hover {\n",
              "      background-color: #434B5C;\n",
              "      box-shadow: 0px 1px 3px 1px rgba(0, 0, 0, 0.15);\n",
              "      filter: drop-shadow(0px 1px 2px rgba(0, 0, 0, 0.3));\n",
              "      fill: #FFFFFF;\n",
              "    }\n",
              "  </style>\n",
              "\n",
              "      <script>\n",
              "        const buttonEl =\n",
              "          document.querySelector('#df-e6379eea-ec7a-46d8-bb00-ad919ded2737 button.colab-df-convert');\n",
              "        buttonEl.style.display =\n",
              "          google.colab.kernel.accessAllowed ? 'block' : 'none';\n",
              "\n",
              "        async function convertToInteractive(key) {\n",
              "          const element = document.querySelector('#df-e6379eea-ec7a-46d8-bb00-ad919ded2737');\n",
              "          const dataTable =\n",
              "            await google.colab.kernel.invokeFunction('convertToInteractive',\n",
              "                                                     [key], {});\n",
              "          if (!dataTable) return;\n",
              "\n",
              "          const docLinkHtml = 'Like what you see? Visit the ' +\n",
              "            '<a target=\"_blank\" href=https://colab.research.google.com/notebooks/data_table.ipynb>data table notebook</a>'\n",
              "            + ' to learn more about interactive tables.';\n",
              "          element.innerHTML = '';\n",
              "          dataTable['output_type'] = 'display_data';\n",
              "          await google.colab.output.renderOutput(dataTable, element);\n",
              "          const docLink = document.createElement('div');\n",
              "          docLink.innerHTML = docLinkHtml;\n",
              "          element.appendChild(docLink);\n",
              "        }\n",
              "      </script>\n",
              "    </div>\n",
              "  </div>\n",
              "  "
            ]
          },
          "metadata": {},
          "execution_count": 139
        }
      ]
    },
    {
      "cell_type": "code",
      "source": [
        "# 최적 파라미터로 학습이 된 모델을 이용하여 시험용 데이터 세트 분류\n",
        "print(\"시험용 데이터 세트 정확도: {:.3f}\".format(grid_gbrt.score(X_test, y_test)))"
      ],
      "metadata": {
        "colab": {
          "base_uri": "https://localhost:8080/"
        },
        "id": "z0xnpOsKc8i_",
        "outputId": "734b5665-34eb-4e99-c2a9-e81ffbfe0ef5"
      },
      "execution_count": null,
      "outputs": [
        {
          "output_type": "stream",
          "name": "stdout",
          "text": [
            "시험용 데이터 세트 정확도: 0.651\n"
          ]
        }
      ]
    },
    {
      "cell_type": "code",
      "source": [
        "from sklearn.metrics import accuracy_score, precision_score, recall_score, f1_score\n",
        "from sklearn.metrics import confusion_matrix \n",
        "\n",
        "print(y_test.value_counts()) # y_test 의 Yes, No 분포\n",
        "\n",
        "dt_pred = tree.predict(X_test)\n",
        "rf_pred = forest.predict(X_test)\n",
        "grid_gbrt_pred = grid_gbrt.predict(X_test)\n",
        "\n",
        "# 예측 결과인 pred와 실제 결과인 y_test의 Confusion Matrix 출력\n",
        "print('Decision tree 시험용 데이터 세트 정확도:{:.3f}'.format(accuracy_score(y_test, dt_pred)))\n",
        "print(confusion_matrix(y_test, dt_pred))\n",
        "print('Random forest 시험용 데이터 세트 정확도:{:.3f}'.format(accuracy_score(y_test, rf_pred)))\n",
        "print(confusion_matrix(y_test, rf_pred))\n",
        "print('Gradient boosting 시험용 데이터 세트 정확도:{:.3f}'.format(accuracy_score(y_test, grid_gbrt_pred)))\n",
        "print(confusion_matrix(y_test, grid_gbrt_pred))"
      ],
      "metadata": {
        "colab": {
          "base_uri": "https://localhost:8080/"
        },
        "id": "DR1SadRLdDeC",
        "outputId": "f308c296-4e16-4e5a-d6ff-7c5776838a51"
      },
      "execution_count": null,
      "outputs": [
        {
          "output_type": "stream",
          "name": "stdout",
          "text": [
            "No     222\n",
            "Yes    214\n",
            "Name: top100, dtype: int64\n",
            "Decision tree 시험용 데이터 세트 정확도:0.528\n",
            "[[ 95 127]\n",
            " [ 79 135]]\n",
            "Random forest 시험용 데이터 세트 정확도:0.681\n",
            "[[148  74]\n",
            " [ 65 149]]\n",
            "Gradient boosting 시험용 데이터 세트 정확도:0.651\n",
            "[[130  92]\n",
            " [ 60 154]]\n"
          ]
        }
      ]
    },
    {
      "cell_type": "code",
      "source": [
        "from sklearn.metrics import classification_report\n",
        "\n",
        "# 각 클래스가 Positive일 때의 정밀도, 재현율, f1 값을 보여줌 (\"M\"이 Postivit인 경우가 기본값임)\n",
        "# macro avg는 클래스별 점수의 평균을 계산\n",
        "# weighted avg는 클래스의 샘플 수로 가중평균을 계산\n",
        "print(\"Decision Tree:\")\n",
        "print(classification_report(y_test, dt_pred, target_names=[\"No\", \"Yes\"]))\n",
        "print(\"Random Forest:\")\n",
        "print(classification_report(y_test, rf_pred, target_names=[\"No\", \"Yes\"]))\n",
        "print(\"Gradient Boosting:\")\n",
        "print(classification_report(y_test, grid_gbrt_pred, target_names=[\"No\", \"Yes\"]))"
      ],
      "metadata": {
        "colab": {
          "base_uri": "https://localhost:8080/"
        },
        "id": "xGXl1rh4dNtN",
        "outputId": "f0cb9fc8-3be0-4efd-f8c2-eb7e9d53849f"
      },
      "execution_count": null,
      "outputs": [
        {
          "output_type": "stream",
          "name": "stdout",
          "text": [
            "Decision Tree:\n",
            "              precision    recall  f1-score   support\n",
            "\n",
            "          No       0.55      0.43      0.48       222\n",
            "         Yes       0.52      0.63      0.57       214\n",
            "\n",
            "    accuracy                           0.53       436\n",
            "   macro avg       0.53      0.53      0.52       436\n",
            "weighted avg       0.53      0.53      0.52       436\n",
            "\n",
            "Random Forest:\n",
            "              precision    recall  f1-score   support\n",
            "\n",
            "          No       0.69      0.67      0.68       222\n",
            "         Yes       0.67      0.70      0.68       214\n",
            "\n",
            "    accuracy                           0.68       436\n",
            "   macro avg       0.68      0.68      0.68       436\n",
            "weighted avg       0.68      0.68      0.68       436\n",
            "\n",
            "Gradient Boosting:\n",
            "              precision    recall  f1-score   support\n",
            "\n",
            "          No       0.68      0.59      0.63       222\n",
            "         Yes       0.63      0.72      0.67       214\n",
            "\n",
            "    accuracy                           0.65       436\n",
            "   macro avg       0.66      0.65      0.65       436\n",
            "weighted avg       0.66      0.65      0.65       436\n",
            "\n"
          ]
        }
      ]
    }
  ]
}