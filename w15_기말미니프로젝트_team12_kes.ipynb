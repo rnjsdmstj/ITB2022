{
  "cells": [
    {
      "cell_type": "markdown",
      "metadata": {
        "id": "view-in-github",
        "colab_type": "text"
      },
      "source": [
        "<a href=\"https://colab.research.google.com/github/rnjsdmstj/ITB2022/blob/main/w15_%EA%B8%B0%EB%A7%90%EB%AF%B8%EB%8B%88%ED%94%84%EB%A1%9C%EC%A0%9D%ED%8A%B8_team12_kes.ipynb\" target=\"_parent\"><img src=\"https://colab.research.google.com/assets/colab-badge.svg\" alt=\"Open In Colab\"/></a>"
      ]
    },
    {
      "cell_type": "markdown",
      "metadata": {
        "id": "h_bvLOVLGej6"
      },
      "source": [
        "# **22-2 ITB 기말 미니 프로젝트**\n",
        "\n",
        "\n",
        "**팀명: 12조**\n",
        "\n",
        "**팀원: 숙명여자대학교 홍보광고학과 이지우, 경영학부 권은서, 김민서**"
      ]
    },
    {
      "cell_type": "markdown",
      "metadata": {
        "id": "-R6ujoIuqiNU"
      },
      "source": [
        "필수 실행 코드\n",
        "\n"
      ]
    },
    {
      "cell_type": "code",
      "execution_count": null,
      "metadata": {
        "id": "vU3tFJEAPlbS",
        "colab": {
          "base_uri": "https://localhost:8080/"
        },
        "outputId": "12a5d927-800d-4a73-8569-628e55a0493c"
      },
      "outputs": [
        {
          "output_type": "stream",
          "name": "stdout",
          "text": [
            "Reading package lists... Done\n",
            "Building dependency tree       \n",
            "Reading state information... Done\n",
            "fonts-nanum is already the newest version (20170925-1).\n",
            "The following package was automatically installed and is no longer required:\n",
            "  libnvidia-common-460\n",
            "Use 'sudo apt autoremove' to remove it.\n",
            "0 upgraded, 0 newly installed, 0 to remove and 7 not upgraded.\n",
            "/usr/share/fonts: caching, new cache contents: 0 fonts, 1 dirs\n",
            "/usr/share/fonts/truetype: caching, new cache contents: 0 fonts, 3 dirs\n",
            "/usr/share/fonts/truetype/humor-sans: caching, new cache contents: 1 fonts, 0 dirs\n",
            "/usr/share/fonts/truetype/liberation: caching, new cache contents: 16 fonts, 0 dirs\n",
            "/usr/share/fonts/truetype/nanum: caching, new cache contents: 10 fonts, 0 dirs\n",
            "/usr/local/share/fonts: caching, new cache contents: 0 fonts, 0 dirs\n",
            "/root/.local/share/fonts: skipping, no such directory\n",
            "/root/.fonts: skipping, no such directory\n",
            "/var/cache/fontconfig: cleaning cache directory\n",
            "/root/.cache/fontconfig: not cleaning non-existent cache directory\n",
            "/root/.fontconfig: not cleaning non-existent cache directory\n",
            "fc-cache: succeeded\n"
          ]
        }
      ],
      "source": [
        "#한글 깨짐 방지\n",
        "!sudo apt-get install -y fonts-nanum\n",
        "!sudo fc-cache -fv\n",
        "!rm ~/.cache/matplotlib -rf\n",
        "\n",
        "#해당 코드 실행 후 런타임을 다시 실행하면 한글이 깨지지 않음"
      ]
    },
    {
      "cell_type": "code",
      "execution_count": null,
      "metadata": {
        "id": "OA1l96sWs0Ku"
      },
      "outputs": [],
      "source": [
        "#패키지 불러오기\n",
        "import pandas as pd\n",
        "import numpy as np\n",
        "import matplotlib.pyplot as plt"
      ]
    },
    {
      "cell_type": "code",
      "execution_count": null,
      "metadata": {
        "id": "8LemX_aYlvt8"
      },
      "outputs": [],
      "source": [
        "#폰트 설정\n",
        "import matplotlib.pyplot as plt\n",
        "plt.rc('font', family='NanumBarunGothic')"
      ]
    },
    {
      "cell_type": "code",
      "execution_count": null,
      "metadata": {
        "colab": {
          "base_uri": "https://localhost:8080/"
        },
        "id": "tNNdKjIvr2jS",
        "outputId": "7fcda337-788e-4baf-f9e3-d5a5a5156c44"
      },
      "outputs": [
        {
          "output_type": "stream",
          "name": "stdout",
          "text": [
            "Drive already mounted at /content/drive; to attempt to forcibly remount, call drive.mount(\"/content/drive\", force_remount=True).\n"
          ]
        }
      ],
      "source": [
        "#파일 경로 설정\n",
        "from google.colab import drive\n",
        "drive.mount('/content/drive')"
      ]
    },
    {
      "cell_type": "markdown",
      "metadata": {
        "id": "a2AJpvl1OEkG"
      },
      "source": [
        "## **Step 1.데이터 전처리**"
      ]
    },
    {
      "cell_type": "markdown",
      "metadata": {
        "id": "TbYiYclVRe5u"
      },
      "source": [
        "### **1) charts.csv 전처리**\n",
        "2019년 11월~2021년 11월까지 2년 간 매월 첫 주차에 해당하는 Top 100 아티스트의 데이터 추출하기"
      ]
    },
    {
      "cell_type": "markdown",
      "metadata": {
        "id": "Awfo4Tj_bRWX"
      },
      "source": [
        "\n",
        "***엑셀을 사용해 charts.csv에 월 주차를 나타내는 변수 week 추가***\n",
        "\n",
        "```\n",
        "사용함수 : =WEEKNUM(B2,11)-WEEKNUM(DATE(YEAR(B2),MONTH(B2),1),11)+1\n",
        "```"
      ]
    },
    {
      "cell_type": "markdown",
      "metadata": {
        "id": "IE2GffW9dSBW"
      },
      "source": [
        "***조건 기간(2019년 11월~2021년 11월)에 맞는 행만 남기고 제거하기***\n",
        "\n"
      ]
    },
    {
      "cell_type": "code",
      "execution_count": null,
      "metadata": {
        "id": "NRXtOfOfHBBJ"
      },
      "outputs": [],
      "source": [
        "#csv파일 불러오기\n",
        "charts = pd.read_csv(\"/content/drive/My Drive/Colab Notebooks/Bigmining/charts_new.csv\", encoding='cp949')"
      ]
    },
    {
      "cell_type": "code",
      "execution_count": null,
      "metadata": {
        "id": "c4qnpC6QdXX9",
        "colab": {
          "base_uri": "https://localhost:8080/",
          "height": 206
        },
        "outputId": "a42dcc10-6693-4d51-8070-93fd69e74a77"
      },
      "outputs": [
        {
          "output_type": "display_data",
          "data": {
            "text/plain": [
              "   week        date  rank           song                         artist  \\\n",
              "0     1  2021-11-06     1     Easy On Me                          Adele   \n",
              "1     1  2021-11-06     2           Stay  The Kid LAROI & Justin Bieber   \n",
              "2     1  2021-11-06     3  Industry Baby        Lil Nas X & Jack Harlow   \n",
              "3     1  2021-11-06     4     Fancy Like                   Walker Hayes   \n",
              "4     1  2021-11-06     5     Bad Habits                     Ed Sheeran   \n",
              "\n",
              "   last-week  peak-rank  weeks-on-board  \n",
              "0        1.0          1               3  \n",
              "1        2.0          1              16  \n",
              "2        3.0          1              14  \n",
              "3        4.0          3              19  \n",
              "4        5.0          2              18  "
            ],
            "text/html": [
              "\n",
              "  <div id=\"df-14455937-901b-41fe-971c-fa8aa0cce641\">\n",
              "    <div class=\"colab-df-container\">\n",
              "      <div>\n",
              "<style scoped>\n",
              "    .dataframe tbody tr th:only-of-type {\n",
              "        vertical-align: middle;\n",
              "    }\n",
              "\n",
              "    .dataframe tbody tr th {\n",
              "        vertical-align: top;\n",
              "    }\n",
              "\n",
              "    .dataframe thead th {\n",
              "        text-align: right;\n",
              "    }\n",
              "</style>\n",
              "<table border=\"1\" class=\"dataframe\">\n",
              "  <thead>\n",
              "    <tr style=\"text-align: right;\">\n",
              "      <th></th>\n",
              "      <th>week</th>\n",
              "      <th>date</th>\n",
              "      <th>rank</th>\n",
              "      <th>song</th>\n",
              "      <th>artist</th>\n",
              "      <th>last-week</th>\n",
              "      <th>peak-rank</th>\n",
              "      <th>weeks-on-board</th>\n",
              "    </tr>\n",
              "  </thead>\n",
              "  <tbody>\n",
              "    <tr>\n",
              "      <th>0</th>\n",
              "      <td>1</td>\n",
              "      <td>2021-11-06</td>\n",
              "      <td>1</td>\n",
              "      <td>Easy On Me</td>\n",
              "      <td>Adele</td>\n",
              "      <td>1.0</td>\n",
              "      <td>1</td>\n",
              "      <td>3</td>\n",
              "    </tr>\n",
              "    <tr>\n",
              "      <th>1</th>\n",
              "      <td>1</td>\n",
              "      <td>2021-11-06</td>\n",
              "      <td>2</td>\n",
              "      <td>Stay</td>\n",
              "      <td>The Kid LAROI &amp; Justin Bieber</td>\n",
              "      <td>2.0</td>\n",
              "      <td>1</td>\n",
              "      <td>16</td>\n",
              "    </tr>\n",
              "    <tr>\n",
              "      <th>2</th>\n",
              "      <td>1</td>\n",
              "      <td>2021-11-06</td>\n",
              "      <td>3</td>\n",
              "      <td>Industry Baby</td>\n",
              "      <td>Lil Nas X &amp; Jack Harlow</td>\n",
              "      <td>3.0</td>\n",
              "      <td>1</td>\n",
              "      <td>14</td>\n",
              "    </tr>\n",
              "    <tr>\n",
              "      <th>3</th>\n",
              "      <td>1</td>\n",
              "      <td>2021-11-06</td>\n",
              "      <td>4</td>\n",
              "      <td>Fancy Like</td>\n",
              "      <td>Walker Hayes</td>\n",
              "      <td>4.0</td>\n",
              "      <td>3</td>\n",
              "      <td>19</td>\n",
              "    </tr>\n",
              "    <tr>\n",
              "      <th>4</th>\n",
              "      <td>1</td>\n",
              "      <td>2021-11-06</td>\n",
              "      <td>5</td>\n",
              "      <td>Bad Habits</td>\n",
              "      <td>Ed Sheeran</td>\n",
              "      <td>5.0</td>\n",
              "      <td>2</td>\n",
              "      <td>18</td>\n",
              "    </tr>\n",
              "  </tbody>\n",
              "</table>\n",
              "</div>\n",
              "      <button class=\"colab-df-convert\" onclick=\"convertToInteractive('df-14455937-901b-41fe-971c-fa8aa0cce641')\"\n",
              "              title=\"Convert this dataframe to an interactive table.\"\n",
              "              style=\"display:none;\">\n",
              "        \n",
              "  <svg xmlns=\"http://www.w3.org/2000/svg\" height=\"24px\"viewBox=\"0 0 24 24\"\n",
              "       width=\"24px\">\n",
              "    <path d=\"M0 0h24v24H0V0z\" fill=\"none\"/>\n",
              "    <path d=\"M18.56 5.44l.94 2.06.94-2.06 2.06-.94-2.06-.94-.94-2.06-.94 2.06-2.06.94zm-11 1L8.5 8.5l.94-2.06 2.06-.94-2.06-.94L8.5 2.5l-.94 2.06-2.06.94zm10 10l.94 2.06.94-2.06 2.06-.94-2.06-.94-.94-2.06-.94 2.06-2.06.94z\"/><path d=\"M17.41 7.96l-1.37-1.37c-.4-.4-.92-.59-1.43-.59-.52 0-1.04.2-1.43.59L10.3 9.45l-7.72 7.72c-.78.78-.78 2.05 0 2.83L4 21.41c.39.39.9.59 1.41.59.51 0 1.02-.2 1.41-.59l7.78-7.78 2.81-2.81c.8-.78.8-2.07 0-2.86zM5.41 20L4 18.59l7.72-7.72 1.47 1.35L5.41 20z\"/>\n",
              "  </svg>\n",
              "      </button>\n",
              "      \n",
              "  <style>\n",
              "    .colab-df-container {\n",
              "      display:flex;\n",
              "      flex-wrap:wrap;\n",
              "      gap: 12px;\n",
              "    }\n",
              "\n",
              "    .colab-df-convert {\n",
              "      background-color: #E8F0FE;\n",
              "      border: none;\n",
              "      border-radius: 50%;\n",
              "      cursor: pointer;\n",
              "      display: none;\n",
              "      fill: #1967D2;\n",
              "      height: 32px;\n",
              "      padding: 0 0 0 0;\n",
              "      width: 32px;\n",
              "    }\n",
              "\n",
              "    .colab-df-convert:hover {\n",
              "      background-color: #E2EBFA;\n",
              "      box-shadow: 0px 1px 2px rgba(60, 64, 67, 0.3), 0px 1px 3px 1px rgba(60, 64, 67, 0.15);\n",
              "      fill: #174EA6;\n",
              "    }\n",
              "\n",
              "    [theme=dark] .colab-df-convert {\n",
              "      background-color: #3B4455;\n",
              "      fill: #D2E3FC;\n",
              "    }\n",
              "\n",
              "    [theme=dark] .colab-df-convert:hover {\n",
              "      background-color: #434B5C;\n",
              "      box-shadow: 0px 1px 3px 1px rgba(0, 0, 0, 0.15);\n",
              "      filter: drop-shadow(0px 1px 2px rgba(0, 0, 0, 0.3));\n",
              "      fill: #FFFFFF;\n",
              "    }\n",
              "  </style>\n",
              "\n",
              "      <script>\n",
              "        const buttonEl =\n",
              "          document.querySelector('#df-14455937-901b-41fe-971c-fa8aa0cce641 button.colab-df-convert');\n",
              "        buttonEl.style.display =\n",
              "          google.colab.kernel.accessAllowed ? 'block' : 'none';\n",
              "\n",
              "        async function convertToInteractive(key) {\n",
              "          const element = document.querySelector('#df-14455937-901b-41fe-971c-fa8aa0cce641');\n",
              "          const dataTable =\n",
              "            await google.colab.kernel.invokeFunction('convertToInteractive',\n",
              "                                                     [key], {});\n",
              "          if (!dataTable) return;\n",
              "\n",
              "          const docLinkHtml = 'Like what you see? Visit the ' +\n",
              "            '<a target=\"_blank\" href=https://colab.research.google.com/notebooks/data_table.ipynb>data table notebook</a>'\n",
              "            + ' to learn more about interactive tables.';\n",
              "          element.innerHTML = '';\n",
              "          dataTable['output_type'] = 'display_data';\n",
              "          await google.colab.output.renderOutput(dataTable, element);\n",
              "          const docLink = document.createElement('div');\n",
              "          docLink.innerHTML = docLinkHtml;\n",
              "          element.appendChild(docLink);\n",
              "        }\n",
              "      </script>\n",
              "    </div>\n",
              "  </div>\n",
              "  "
            ]
          },
          "metadata": {}
        }
      ],
      "source": [
        "#데이터 확인\n",
        "display(charts.head())"
      ]
    },
    {
      "cell_type": "code",
      "execution_count": null,
      "metadata": {
        "id": "ZMyvnIT-dk3F"
      },
      "outputs": [],
      "source": [
        "#date를 인덱스로 설정\n",
        "charts = charts.set_index('date')"
      ]
    },
    {
      "cell_type": "code",
      "execution_count": null,
      "metadata": {
        "id": "Z7cWCDHohVIJ"
      },
      "outputs": [],
      "source": [
        "#기간에 맞는 행만 추출해 charts에 저장\n",
        "charts = charts[:'2019-10-31']"
      ]
    },
    {
      "cell_type": "markdown",
      "metadata": {
        "id": "jVdlk7wQh29r"
      },
      "source": [
        "***매월 1주차에 해당하는 열만 남기고 제거하기***"
      ]
    },
    {
      "cell_type": "code",
      "execution_count": null,
      "metadata": {
        "id": "ZFBHkeGJiEoM"
      },
      "outputs": [],
      "source": [
        "#인덱스를 행 번호로 바꾸기\n",
        "charts = charts.reset_index()\n",
        "\n",
        "#display(charts.head())"
      ]
    },
    {
      "cell_type": "code",
      "execution_count": null,
      "metadata": {
        "id": "suqnoTIyiL4_"
      },
      "outputs": [],
      "source": [
        "#week!=1인 열 제거하기\n",
        "no_week = charts[charts['week']!=1].index\n",
        "charts = charts.drop(no_week)"
      ]
    },
    {
      "cell_type": "markdown",
      "metadata": {
        "id": "JL7AaMx6jd1g"
      },
      "source": [
        "***데이터 분석에 사용할 칼럼만 추출하기***\n",
        "\n",
        "(후반부에서 데이터를 합칠 때 해당 칼럼들이 사용될 가능성이 낮아 'artist'만 남겨도 상관없을 것 같아요 -지우)"
      ]
    },
    {
      "cell_type": "code",
      "execution_count": null,
      "metadata": {
        "id": "xz3JKUC_kUwI"
      },
      "outputs": [],
      "source": [
        "charts = charts.loc[:,['date','rank','artist','weeks-on-board']]\n",
        "\n",
        "#print(charts)\n",
        "#display(charts.head())"
      ]
    },
    {
      "cell_type": "markdown",
      "metadata": {
        "id": "iEUPQLMavGDk"
      },
      "source": [
        "***'artist'를 기준으로 중복되는 행 제거***\n"
      ]
    },
    {
      "cell_type": "code",
      "execution_count": null,
      "metadata": {
        "id": "CpDiJEH3vTvH",
        "colab": {
          "base_uri": "https://localhost:8080/",
          "height": 424
        },
        "outputId": "07ecc06c-78d5-4d8a-b393-de46dc7b6894"
      },
      "outputs": [
        {
          "output_type": "execute_result",
          "data": {
            "text/plain": [
              "             date  rank                                             artist  \\\n",
              "0      2021-11-06     1                                              Adele   \n",
              "1      2021-11-06     2                      The Kid LAROI & Justin Bieber   \n",
              "2      2021-11-06     3                            Lil Nas X & Jack Harlow   \n",
              "3      2021-11-06     4                                       Walker Hayes   \n",
              "4      2021-11-06     5                                         Ed Sheeran   \n",
              "...           ...   ...                                                ...   \n",
              "10594  2019-11-02    95                 Summer Walker Featuring Jhene Aiko   \n",
              "10596  2019-11-02    97  Internet Money, Lil Tecca & A Boogie Wit da Ho...   \n",
              "10597  2019-11-02    98                                        Frank Ocean   \n",
              "10598  2019-11-02    99                       Ariana Grande & Social House   \n",
              "10599  2019-11-02   100            DJ Khaled Featuring Cardi B & 21 Savage   \n",
              "\n",
              "       weeks-on-board  \n",
              "0                   3  \n",
              "1                  16  \n",
              "2                  14  \n",
              "3                  19  \n",
              "4                  18  \n",
              "...               ...  \n",
              "10594               3  \n",
              "10596               1  \n",
              "10597               1  \n",
              "10598              12  \n",
              "10599              15  \n",
              "\n",
              "[545 rows x 4 columns]"
            ],
            "text/html": [
              "\n",
              "  <div id=\"df-3e75f481-36da-46ac-8847-5d9cfcda21fa\">\n",
              "    <div class=\"colab-df-container\">\n",
              "      <div>\n",
              "<style scoped>\n",
              "    .dataframe tbody tr th:only-of-type {\n",
              "        vertical-align: middle;\n",
              "    }\n",
              "\n",
              "    .dataframe tbody tr th {\n",
              "        vertical-align: top;\n",
              "    }\n",
              "\n",
              "    .dataframe thead th {\n",
              "        text-align: right;\n",
              "    }\n",
              "</style>\n",
              "<table border=\"1\" class=\"dataframe\">\n",
              "  <thead>\n",
              "    <tr style=\"text-align: right;\">\n",
              "      <th></th>\n",
              "      <th>date</th>\n",
              "      <th>rank</th>\n",
              "      <th>artist</th>\n",
              "      <th>weeks-on-board</th>\n",
              "    </tr>\n",
              "  </thead>\n",
              "  <tbody>\n",
              "    <tr>\n",
              "      <th>0</th>\n",
              "      <td>2021-11-06</td>\n",
              "      <td>1</td>\n",
              "      <td>Adele</td>\n",
              "      <td>3</td>\n",
              "    </tr>\n",
              "    <tr>\n",
              "      <th>1</th>\n",
              "      <td>2021-11-06</td>\n",
              "      <td>2</td>\n",
              "      <td>The Kid LAROI &amp; Justin Bieber</td>\n",
              "      <td>16</td>\n",
              "    </tr>\n",
              "    <tr>\n",
              "      <th>2</th>\n",
              "      <td>2021-11-06</td>\n",
              "      <td>3</td>\n",
              "      <td>Lil Nas X &amp; Jack Harlow</td>\n",
              "      <td>14</td>\n",
              "    </tr>\n",
              "    <tr>\n",
              "      <th>3</th>\n",
              "      <td>2021-11-06</td>\n",
              "      <td>4</td>\n",
              "      <td>Walker Hayes</td>\n",
              "      <td>19</td>\n",
              "    </tr>\n",
              "    <tr>\n",
              "      <th>4</th>\n",
              "      <td>2021-11-06</td>\n",
              "      <td>5</td>\n",
              "      <td>Ed Sheeran</td>\n",
              "      <td>18</td>\n",
              "    </tr>\n",
              "    <tr>\n",
              "      <th>...</th>\n",
              "      <td>...</td>\n",
              "      <td>...</td>\n",
              "      <td>...</td>\n",
              "      <td>...</td>\n",
              "    </tr>\n",
              "    <tr>\n",
              "      <th>10594</th>\n",
              "      <td>2019-11-02</td>\n",
              "      <td>95</td>\n",
              "      <td>Summer Walker Featuring Jhene Aiko</td>\n",
              "      <td>3</td>\n",
              "    </tr>\n",
              "    <tr>\n",
              "      <th>10596</th>\n",
              "      <td>2019-11-02</td>\n",
              "      <td>97</td>\n",
              "      <td>Internet Money, Lil Tecca &amp; A Boogie Wit da Ho...</td>\n",
              "      <td>1</td>\n",
              "    </tr>\n",
              "    <tr>\n",
              "      <th>10597</th>\n",
              "      <td>2019-11-02</td>\n",
              "      <td>98</td>\n",
              "      <td>Frank Ocean</td>\n",
              "      <td>1</td>\n",
              "    </tr>\n",
              "    <tr>\n",
              "      <th>10598</th>\n",
              "      <td>2019-11-02</td>\n",
              "      <td>99</td>\n",
              "      <td>Ariana Grande &amp; Social House</td>\n",
              "      <td>12</td>\n",
              "    </tr>\n",
              "    <tr>\n",
              "      <th>10599</th>\n",
              "      <td>2019-11-02</td>\n",
              "      <td>100</td>\n",
              "      <td>DJ Khaled Featuring Cardi B &amp; 21 Savage</td>\n",
              "      <td>15</td>\n",
              "    </tr>\n",
              "  </tbody>\n",
              "</table>\n",
              "<p>545 rows × 4 columns</p>\n",
              "</div>\n",
              "      <button class=\"colab-df-convert\" onclick=\"convertToInteractive('df-3e75f481-36da-46ac-8847-5d9cfcda21fa')\"\n",
              "              title=\"Convert this dataframe to an interactive table.\"\n",
              "              style=\"display:none;\">\n",
              "        \n",
              "  <svg xmlns=\"http://www.w3.org/2000/svg\" height=\"24px\"viewBox=\"0 0 24 24\"\n",
              "       width=\"24px\">\n",
              "    <path d=\"M0 0h24v24H0V0z\" fill=\"none\"/>\n",
              "    <path d=\"M18.56 5.44l.94 2.06.94-2.06 2.06-.94-2.06-.94-.94-2.06-.94 2.06-2.06.94zm-11 1L8.5 8.5l.94-2.06 2.06-.94-2.06-.94L8.5 2.5l-.94 2.06-2.06.94zm10 10l.94 2.06.94-2.06 2.06-.94-2.06-.94-.94-2.06-.94 2.06-2.06.94z\"/><path d=\"M17.41 7.96l-1.37-1.37c-.4-.4-.92-.59-1.43-.59-.52 0-1.04.2-1.43.59L10.3 9.45l-7.72 7.72c-.78.78-.78 2.05 0 2.83L4 21.41c.39.39.9.59 1.41.59.51 0 1.02-.2 1.41-.59l7.78-7.78 2.81-2.81c.8-.78.8-2.07 0-2.86zM5.41 20L4 18.59l7.72-7.72 1.47 1.35L5.41 20z\"/>\n",
              "  </svg>\n",
              "      </button>\n",
              "      \n",
              "  <style>\n",
              "    .colab-df-container {\n",
              "      display:flex;\n",
              "      flex-wrap:wrap;\n",
              "      gap: 12px;\n",
              "    }\n",
              "\n",
              "    .colab-df-convert {\n",
              "      background-color: #E8F0FE;\n",
              "      border: none;\n",
              "      border-radius: 50%;\n",
              "      cursor: pointer;\n",
              "      display: none;\n",
              "      fill: #1967D2;\n",
              "      height: 32px;\n",
              "      padding: 0 0 0 0;\n",
              "      width: 32px;\n",
              "    }\n",
              "\n",
              "    .colab-df-convert:hover {\n",
              "      background-color: #E2EBFA;\n",
              "      box-shadow: 0px 1px 2px rgba(60, 64, 67, 0.3), 0px 1px 3px 1px rgba(60, 64, 67, 0.15);\n",
              "      fill: #174EA6;\n",
              "    }\n",
              "\n",
              "    [theme=dark] .colab-df-convert {\n",
              "      background-color: #3B4455;\n",
              "      fill: #D2E3FC;\n",
              "    }\n",
              "\n",
              "    [theme=dark] .colab-df-convert:hover {\n",
              "      background-color: #434B5C;\n",
              "      box-shadow: 0px 1px 3px 1px rgba(0, 0, 0, 0.15);\n",
              "      filter: drop-shadow(0px 1px 2px rgba(0, 0, 0, 0.3));\n",
              "      fill: #FFFFFF;\n",
              "    }\n",
              "  </style>\n",
              "\n",
              "      <script>\n",
              "        const buttonEl =\n",
              "          document.querySelector('#df-3e75f481-36da-46ac-8847-5d9cfcda21fa button.colab-df-convert');\n",
              "        buttonEl.style.display =\n",
              "          google.colab.kernel.accessAllowed ? 'block' : 'none';\n",
              "\n",
              "        async function convertToInteractive(key) {\n",
              "          const element = document.querySelector('#df-3e75f481-36da-46ac-8847-5d9cfcda21fa');\n",
              "          const dataTable =\n",
              "            await google.colab.kernel.invokeFunction('convertToInteractive',\n",
              "                                                     [key], {});\n",
              "          if (!dataTable) return;\n",
              "\n",
              "          const docLinkHtml = 'Like what you see? Visit the ' +\n",
              "            '<a target=\"_blank\" href=https://colab.research.google.com/notebooks/data_table.ipynb>data table notebook</a>'\n",
              "            + ' to learn more about interactive tables.';\n",
              "          element.innerHTML = '';\n",
              "          dataTable['output_type'] = 'display_data';\n",
              "          await google.colab.output.renderOutput(dataTable, element);\n",
              "          const docLink = document.createElement('div');\n",
              "          docLink.innerHTML = docLinkHtml;\n",
              "          element.appendChild(docLink);\n",
              "        }\n",
              "      </script>\n",
              "    </div>\n",
              "  </div>\n",
              "  "
            ]
          },
          "metadata": {},
          "execution_count": 22
        }
      ],
      "source": [
        "charts.drop_duplicates(['artist'])"
      ]
    },
    {
      "cell_type": "markdown",
      "metadata": {
        "id": "Os8HRyrdoRsF"
      },
      "source": [
        "### **2) feature_corel_100.csv 전처리**"
      ]
    },
    {
      "cell_type": "code",
      "execution_count": null,
      "metadata": {
        "id": "rihw81jKouE2"
      },
      "outputs": [],
      "source": [
        "#csv파일 불러오기\n",
        "feature = pd.read_csv(\"/content/drive/My Drive/Colab Notebooks/Bigmining/feature_corel_100.csv\")"
      ]
    },
    {
      "cell_type": "code",
      "execution_count": null,
      "metadata": {
        "id": "BYgmk6pWo6OG",
        "colab": {
          "base_uri": "https://localhost:8080/"
        },
        "outputId": "e0db1e07-6e9a-4855-876f-fbe356bc449e"
      },
      "outputs": [
        {
          "output_type": "stream",
          "name": "stdout",
          "text": [
            "            id                name  isdone               spotifyid  \\\n",
            "0       600808               Drake    True  3TVXtAsR1Inumwj472S9r4   \n",
            "1       706819          Ed Sheeran    True  6eUKZXaKkcviH0Ku9w2n3V   \n",
            "2       823336       Ariana Grande    True  66CXWjxzNUsdJxJ2JdwvnR   \n",
            "3      1492430           Bad Bunny    True  4q3ewBCX7sLwd24euuV69X   \n",
            "4       796889          The Weeknd    True  1Xyo4u8uXC1ZmMpatF05PJ   \n",
            "...        ...                 ...     ...                     ...   \n",
            "12900  1418260          Unreqvited    True  1ZYRTJCj869ya07OpEAlGR   \n",
            "12901   844823  Show Me a Dinosaur    True  1wou9vWv5PgrTn3pu3TydQ   \n",
            "12902  1796328              Flovry    True  2pLu3Ut2C3RviYZ3xUanBs   \n",
            "12903   121805            The Bled    True  0EvGuw8fuWFtxhAsBOFTin   \n",
            "12904    11473          Primordial    True  0BZr6WHaejNA63uhZZZZek   \n",
            "\n",
            "                                                  genres  popularity  \\\n",
            "0      ['canadian hip hop', 'canadian pop', 'hip hop'...        98.0   \n",
            "1                                      ['pop', 'uk pop']        95.0   \n",
            "2                                   ['dance pop', 'pop']        93.0   \n",
            "3                  ['latin', 'reggaeton', 'trap latino']       100.0   \n",
            "4      ['canadian contemporary r&b', 'canadian pop', ...        98.0   \n",
            "...                                                  ...         ...   \n",
            "12900  ['atmospheric black metal', 'canadian black me...        32.0   \n",
            "12901  ['instrumental post-rock', 'post-rock', 'russi...        31.0   \n",
            "12902                                    ['lo-fi beats']        53.0   \n",
            "12903  ['arizona punk', 'melodic metalcore', 'post-ha...        32.0   \n",
            "12904  ['black metal', 'celtic metal', 'doom metal', ...        37.0   \n",
            "\n",
            "        followers                                          histogram  \\\n",
            "0      61377383.0  [0, 1, 1, 1, 1, 6, 6, 6, 6, 6, 6, 9, 9, 10, 10...   \n",
            "1      93327682.0  [0, 1, 1, 1, 1, 1, 1, 1, 2, 2, 3, 4, 4, 4, 4, ...   \n",
            "2      76626333.0  [0, 1, 1, 1, 1, 1, 1, 1, 1, 1, 2, 2, 9, 9, 9, ...   \n",
            "3      44516743.0  [0, 1, 1, 2, 4, 4, 5, 5, 6, 7, 8, 8, 8, 9, 9, ...   \n",
            "4      42275433.0  [0, 5, 5, 6, 6, 6, 6, 7, 7, 7, 8, 26, 26, 26, ...   \n",
            "...           ...                                                ...   \n",
            "12900     20071.0  [0, 1, 1, 1, 1, 1, 1, 1, 1, 1, 1, 1, 1, 1, 1, ...   \n",
            "12901     10235.0  [0, 0, 0, 0, 0, 0, 0, 0, 0, 0, 0, 0, 0, 0, 0, ...   \n",
            "12902      7478.0  [0, 0, 0, 0, 0, 0, 0, 0, 0, 0, 0, 0, 0, 0, 0, ...   \n",
            "12903     33531.0  [0, 1, 1, 1, 1, 1, 1, 1, 1, 1, 1, 1, 2, 2, 2, ...   \n",
            "12904     64127.0  [0, 1, 1, 1, 1, 1, 1, 1, 1, 1, 1, 1, 1, 1, 1, ...   \n",
            "\n",
            "       num_release first_release  ...     pop_var  pop_max      fol_mean  \\\n",
            "0              124    2008-06-12  ...  109.819865    100.0  1.100285e+07   \n",
            "1               34    2011-07-11  ...  117.177296     98.0  1.472265e+07   \n",
            "2               94    2011-12-12  ...  165.627500     98.0  1.000831e+07   \n",
            "3               30    2016-11-09  ...  266.004898     98.0  8.425305e+06   \n",
            "4              108    2011-01-01  ...  191.923469     98.0  1.363645e+07   \n",
            "...            ...           ...  ...         ...      ...           ...   \n",
            "12900            3    2017-05-20  ...    6.250000     36.0  1.870100e+04   \n",
            "12901            1    2017-05-20  ...    4.000000     36.0  2.361900e+04   \n",
            "12902            1    2019-11-26  ...    0.000000     62.0  5.242000e+03   \n",
            "12903            7    2001-01-01  ...    0.000000     56.0  3.298930e+05   \n",
            "12904            9    2000-01-01  ...    0.000000     53.0  2.853120e+05   \n",
            "\n",
            "            fol_std       fol_var     fol_max   rel_mean    rel_std  \\\n",
            "0      1.434559e+07  2.057958e+14  57338230.0  53.075472  50.238994   \n",
            "1      1.730608e+07  2.995005e+14  57338230.0  44.035714  54.543221   \n",
            "2      1.214947e+07  1.476096e+14  57338230.0  51.900000  45.408039   \n",
            "3      1.087911e+07  1.183549e+14  61377383.0  23.142857  30.127958   \n",
            "4      1.757874e+07  3.090122e+14  76626333.0  53.178571  36.640194   \n",
            "...             ...           ...         ...        ...        ...   \n",
            "12900  8.466000e+03  7.167316e+07     27167.0   3.500000   2.500000   \n",
            "12901  3.548000e+03  1.258830e+07     27167.0   4.500000   1.500000   \n",
            "12902  0.000000e+00  0.000000e+00      5242.0   2.000000   0.000000   \n",
            "12903  0.000000e+00  0.000000e+00    329893.0   8.000000   0.000000   \n",
            "12904  0.000000e+00  0.000000e+00    285312.0  11.000000   0.000000   \n",
            "\n",
            "           rel_var  rel_max  \n",
            "0      2523.956568    191.0  \n",
            "1      2974.963010    226.0  \n",
            "2      2061.890000    181.0  \n",
            "3       907.693878    181.0  \n",
            "4      1342.503827    151.0  \n",
            "...            ...      ...  \n",
            "12900     6.250000      6.0  \n",
            "12901     2.250000      6.0  \n",
            "12902     0.000000      2.0  \n",
            "12903     0.000000      8.0  \n",
            "12904     0.000000     11.0  \n",
            "\n",
            "[12905 rows x 26 columns]\n"
          ]
        }
      ],
      "source": [
        "#데이터 확인\n",
        "print(feature)"
      ]
    },
    {
      "cell_type": "markdown",
      "source": [
        "***데이터 분석에 사용할 칼럼만 추출하기***"
      ],
      "metadata": {
        "id": "vrwvQRQi-NYC"
      }
    },
    {
      "cell_type": "code",
      "execution_count": null,
      "metadata": {
        "id": "OBxYWi_YpRyn"
      },
      "outputs": [],
      "source": [
        "feature = feature.loc[:,['id','name','genres','popularity','followers','pop_mean','rel_mean','fol_mean']]"
      ]
    },
    {
      "cell_type": "code",
      "execution_count": null,
      "metadata": {
        "id": "CbrVTvHiq5-q",
        "colab": {
          "base_uri": "https://localhost:8080/",
          "height": 206
        },
        "outputId": "e6ab8adc-633b-40d1-a53d-d8229d0f9685"
      },
      "outputs": [
        {
          "output_type": "display_data",
          "data": {
            "text/plain": [
              "        id         artist                                             genres  \\\n",
              "0   600808          Drake  ['canadian hip hop', 'canadian pop', 'hip hop'...   \n",
              "1   706819     Ed Sheeran                                  ['pop', 'uk pop']   \n",
              "2   823336  Ariana Grande                               ['dance pop', 'pop']   \n",
              "3  1492430      Bad Bunny              ['latin', 'reggaeton', 'trap latino']   \n",
              "4   796889     The Weeknd  ['canadian contemporary r&b', 'canadian pop', ...   \n",
              "\n",
              "   popularity   followers   pop_mean   rel_mean      fol_mean  \n",
              "0        98.0  61377383.0  81.377358  53.075472  1.100285e+07  \n",
              "1        95.0  93327682.0  80.035714  44.035714  1.472265e+07  \n",
              "2        93.0  76626333.0  77.650000  51.900000  1.000831e+07  \n",
              "3       100.0  44516743.0  75.628571  23.142857  8.425305e+06  \n",
              "4        98.0  42275433.0  81.928571  53.178571  1.363645e+07  "
            ],
            "text/html": [
              "\n",
              "  <div id=\"df-84b30dcb-5ba5-47a4-8e06-c9fca460e734\">\n",
              "    <div class=\"colab-df-container\">\n",
              "      <div>\n",
              "<style scoped>\n",
              "    .dataframe tbody tr th:only-of-type {\n",
              "        vertical-align: middle;\n",
              "    }\n",
              "\n",
              "    .dataframe tbody tr th {\n",
              "        vertical-align: top;\n",
              "    }\n",
              "\n",
              "    .dataframe thead th {\n",
              "        text-align: right;\n",
              "    }\n",
              "</style>\n",
              "<table border=\"1\" class=\"dataframe\">\n",
              "  <thead>\n",
              "    <tr style=\"text-align: right;\">\n",
              "      <th></th>\n",
              "      <th>id</th>\n",
              "      <th>artist</th>\n",
              "      <th>genres</th>\n",
              "      <th>popularity</th>\n",
              "      <th>followers</th>\n",
              "      <th>pop_mean</th>\n",
              "      <th>rel_mean</th>\n",
              "      <th>fol_mean</th>\n",
              "    </tr>\n",
              "  </thead>\n",
              "  <tbody>\n",
              "    <tr>\n",
              "      <th>0</th>\n",
              "      <td>600808</td>\n",
              "      <td>Drake</td>\n",
              "      <td>['canadian hip hop', 'canadian pop', 'hip hop'...</td>\n",
              "      <td>98.0</td>\n",
              "      <td>61377383.0</td>\n",
              "      <td>81.377358</td>\n",
              "      <td>53.075472</td>\n",
              "      <td>1.100285e+07</td>\n",
              "    </tr>\n",
              "    <tr>\n",
              "      <th>1</th>\n",
              "      <td>706819</td>\n",
              "      <td>Ed Sheeran</td>\n",
              "      <td>['pop', 'uk pop']</td>\n",
              "      <td>95.0</td>\n",
              "      <td>93327682.0</td>\n",
              "      <td>80.035714</td>\n",
              "      <td>44.035714</td>\n",
              "      <td>1.472265e+07</td>\n",
              "    </tr>\n",
              "    <tr>\n",
              "      <th>2</th>\n",
              "      <td>823336</td>\n",
              "      <td>Ariana Grande</td>\n",
              "      <td>['dance pop', 'pop']</td>\n",
              "      <td>93.0</td>\n",
              "      <td>76626333.0</td>\n",
              "      <td>77.650000</td>\n",
              "      <td>51.900000</td>\n",
              "      <td>1.000831e+07</td>\n",
              "    </tr>\n",
              "    <tr>\n",
              "      <th>3</th>\n",
              "      <td>1492430</td>\n",
              "      <td>Bad Bunny</td>\n",
              "      <td>['latin', 'reggaeton', 'trap latino']</td>\n",
              "      <td>100.0</td>\n",
              "      <td>44516743.0</td>\n",
              "      <td>75.628571</td>\n",
              "      <td>23.142857</td>\n",
              "      <td>8.425305e+06</td>\n",
              "    </tr>\n",
              "    <tr>\n",
              "      <th>4</th>\n",
              "      <td>796889</td>\n",
              "      <td>The Weeknd</td>\n",
              "      <td>['canadian contemporary r&amp;b', 'canadian pop', ...</td>\n",
              "      <td>98.0</td>\n",
              "      <td>42275433.0</td>\n",
              "      <td>81.928571</td>\n",
              "      <td>53.178571</td>\n",
              "      <td>1.363645e+07</td>\n",
              "    </tr>\n",
              "  </tbody>\n",
              "</table>\n",
              "</div>\n",
              "      <button class=\"colab-df-convert\" onclick=\"convertToInteractive('df-84b30dcb-5ba5-47a4-8e06-c9fca460e734')\"\n",
              "              title=\"Convert this dataframe to an interactive table.\"\n",
              "              style=\"display:none;\">\n",
              "        \n",
              "  <svg xmlns=\"http://www.w3.org/2000/svg\" height=\"24px\"viewBox=\"0 0 24 24\"\n",
              "       width=\"24px\">\n",
              "    <path d=\"M0 0h24v24H0V0z\" fill=\"none\"/>\n",
              "    <path d=\"M18.56 5.44l.94 2.06.94-2.06 2.06-.94-2.06-.94-.94-2.06-.94 2.06-2.06.94zm-11 1L8.5 8.5l.94-2.06 2.06-.94-2.06-.94L8.5 2.5l-.94 2.06-2.06.94zm10 10l.94 2.06.94-2.06 2.06-.94-2.06-.94-.94-2.06-.94 2.06-2.06.94z\"/><path d=\"M17.41 7.96l-1.37-1.37c-.4-.4-.92-.59-1.43-.59-.52 0-1.04.2-1.43.59L10.3 9.45l-7.72 7.72c-.78.78-.78 2.05 0 2.83L4 21.41c.39.39.9.59 1.41.59.51 0 1.02-.2 1.41-.59l7.78-7.78 2.81-2.81c.8-.78.8-2.07 0-2.86zM5.41 20L4 18.59l7.72-7.72 1.47 1.35L5.41 20z\"/>\n",
              "  </svg>\n",
              "      </button>\n",
              "      \n",
              "  <style>\n",
              "    .colab-df-container {\n",
              "      display:flex;\n",
              "      flex-wrap:wrap;\n",
              "      gap: 12px;\n",
              "    }\n",
              "\n",
              "    .colab-df-convert {\n",
              "      background-color: #E8F0FE;\n",
              "      border: none;\n",
              "      border-radius: 50%;\n",
              "      cursor: pointer;\n",
              "      display: none;\n",
              "      fill: #1967D2;\n",
              "      height: 32px;\n",
              "      padding: 0 0 0 0;\n",
              "      width: 32px;\n",
              "    }\n",
              "\n",
              "    .colab-df-convert:hover {\n",
              "      background-color: #E2EBFA;\n",
              "      box-shadow: 0px 1px 2px rgba(60, 64, 67, 0.3), 0px 1px 3px 1px rgba(60, 64, 67, 0.15);\n",
              "      fill: #174EA6;\n",
              "    }\n",
              "\n",
              "    [theme=dark] .colab-df-convert {\n",
              "      background-color: #3B4455;\n",
              "      fill: #D2E3FC;\n",
              "    }\n",
              "\n",
              "    [theme=dark] .colab-df-convert:hover {\n",
              "      background-color: #434B5C;\n",
              "      box-shadow: 0px 1px 3px 1px rgba(0, 0, 0, 0.15);\n",
              "      filter: drop-shadow(0px 1px 2px rgba(0, 0, 0, 0.3));\n",
              "      fill: #FFFFFF;\n",
              "    }\n",
              "  </style>\n",
              "\n",
              "      <script>\n",
              "        const buttonEl =\n",
              "          document.querySelector('#df-84b30dcb-5ba5-47a4-8e06-c9fca460e734 button.colab-df-convert');\n",
              "        buttonEl.style.display =\n",
              "          google.colab.kernel.accessAllowed ? 'block' : 'none';\n",
              "\n",
              "        async function convertToInteractive(key) {\n",
              "          const element = document.querySelector('#df-84b30dcb-5ba5-47a4-8e06-c9fca460e734');\n",
              "          const dataTable =\n",
              "            await google.colab.kernel.invokeFunction('convertToInteractive',\n",
              "                                                     [key], {});\n",
              "          if (!dataTable) return;\n",
              "\n",
              "          const docLinkHtml = 'Like what you see? Visit the ' +\n",
              "            '<a target=\"_blank\" href=https://colab.research.google.com/notebooks/data_table.ipynb>data table notebook</a>'\n",
              "            + ' to learn more about interactive tables.';\n",
              "          element.innerHTML = '';\n",
              "          dataTable['output_type'] = 'display_data';\n",
              "          await google.colab.output.renderOutput(dataTable, element);\n",
              "          const docLink = document.createElement('div');\n",
              "          docLink.innerHTML = docLinkHtml;\n",
              "          element.appendChild(docLink);\n",
              "        }\n",
              "      </script>\n",
              "    </div>\n",
              "  </div>\n",
              "  "
            ]
          },
          "metadata": {}
        }
      ],
      "source": [
        "#name을 artist로 변수명 바꾸기\n",
        "feature.rename(columns = {'name':'artist'},inplace=True)\n",
        "display(feature.head())"
      ]
    },
    {
      "cell_type": "markdown",
      "metadata": {
        "id": "_uYU_DADqxAi"
      },
      "source": [
        "### ***3) spotify.csv 만들기***\n",
        "\n",
        "charts와 feature_corel_100 파일을 하나로 합친 새로운 데이터 spotify 만들기\n"
      ]
    },
    {
      "cell_type": "code",
      "execution_count": null,
      "metadata": {
        "id": "OiOrpVfNqz29",
        "colab": {
          "base_uri": "https://localhost:8080/",
          "height": 641
        },
        "outputId": "aa1a11ee-028c-4a99-b90d-b2f925a702c6"
      },
      "outputs": [
        {
          "output_type": "display_data",
          "data": {
            "text/plain": [
              "            id              artist  \\\n",
              "0       600808               Drake   \n",
              "1       600808               Drake   \n",
              "2       600808               Drake   \n",
              "3       600808               Drake   \n",
              "4       600808               Drake   \n",
              "...        ...                 ...   \n",
              "13834  1418260          Unreqvited   \n",
              "13835   844823  Show Me a Dinosaur   \n",
              "13836  1796328              Flovry   \n",
              "13837   121805            The Bled   \n",
              "13838    11473          Primordial   \n",
              "\n",
              "                                                  genres  popularity  \\\n",
              "0      ['canadian hip hop', 'canadian pop', 'hip hop'...        98.0   \n",
              "1      ['canadian hip hop', 'canadian pop', 'hip hop'...        98.0   \n",
              "2      ['canadian hip hop', 'canadian pop', 'hip hop'...        98.0   \n",
              "3      ['canadian hip hop', 'canadian pop', 'hip hop'...        98.0   \n",
              "4      ['canadian hip hop', 'canadian pop', 'hip hop'...        98.0   \n",
              "...                                                  ...         ...   \n",
              "13834  ['atmospheric black metal', 'canadian black me...        32.0   \n",
              "13835  ['instrumental post-rock', 'post-rock', 'russi...        31.0   \n",
              "13836                                    ['lo-fi beats']        53.0   \n",
              "13837  ['arizona punk', 'melodic metalcore', 'post-ha...        32.0   \n",
              "13838  ['black metal', 'celtic metal', 'doom metal', ...        37.0   \n",
              "\n",
              "        followers   pop_mean   rel_mean      fol_mean        date  rank  \\\n",
              "0      61377383.0  81.377358  53.075472  1.100285e+07  2021-11-06  91.0   \n",
              "1      61377383.0  81.377358  53.075472  1.100285e+07  2021-10-02  30.0   \n",
              "2      61377383.0  81.377358  53.075472  1.100285e+07  2021-10-02  40.0   \n",
              "3      61377383.0  81.377358  53.075472  1.100285e+07  2021-10-02  48.0   \n",
              "4      61377383.0  81.377358  53.075472  1.100285e+07  2021-10-02  66.0   \n",
              "...           ...        ...        ...           ...         ...   ...   \n",
              "13834     20071.0  33.500000   3.500000  1.870100e+04         NaN   NaN   \n",
              "13835     10235.0  34.000000   4.500000  2.361900e+04         NaN   NaN   \n",
              "13836      7478.0  62.000000   2.000000  5.242000e+03         NaN   NaN   \n",
              "13837     33531.0  56.000000   8.000000  3.298930e+05         NaN   NaN   \n",
              "13838     64127.0  53.000000  11.000000  2.853120e+05         NaN   NaN   \n",
              "\n",
              "       weeks-on-board  \n",
              "0                 8.0  \n",
              "1                 3.0  \n",
              "2                 3.0  \n",
              "3                 3.0  \n",
              "4                 3.0  \n",
              "...               ...  \n",
              "13834             NaN  \n",
              "13835             NaN  \n",
              "13836             NaN  \n",
              "13837             NaN  \n",
              "13838             NaN  \n",
              "\n",
              "[13839 rows x 11 columns]"
            ],
            "text/html": [
              "\n",
              "  <div id=\"df-a4141dce-bc5d-4379-b197-44e687435dc9\">\n",
              "    <div class=\"colab-df-container\">\n",
              "      <div>\n",
              "<style scoped>\n",
              "    .dataframe tbody tr th:only-of-type {\n",
              "        vertical-align: middle;\n",
              "    }\n",
              "\n",
              "    .dataframe tbody tr th {\n",
              "        vertical-align: top;\n",
              "    }\n",
              "\n",
              "    .dataframe thead th {\n",
              "        text-align: right;\n",
              "    }\n",
              "</style>\n",
              "<table border=\"1\" class=\"dataframe\">\n",
              "  <thead>\n",
              "    <tr style=\"text-align: right;\">\n",
              "      <th></th>\n",
              "      <th>id</th>\n",
              "      <th>artist</th>\n",
              "      <th>genres</th>\n",
              "      <th>popularity</th>\n",
              "      <th>followers</th>\n",
              "      <th>pop_mean</th>\n",
              "      <th>rel_mean</th>\n",
              "      <th>fol_mean</th>\n",
              "      <th>date</th>\n",
              "      <th>rank</th>\n",
              "      <th>weeks-on-board</th>\n",
              "    </tr>\n",
              "  </thead>\n",
              "  <tbody>\n",
              "    <tr>\n",
              "      <th>0</th>\n",
              "      <td>600808</td>\n",
              "      <td>Drake</td>\n",
              "      <td>['canadian hip hop', 'canadian pop', 'hip hop'...</td>\n",
              "      <td>98.0</td>\n",
              "      <td>61377383.0</td>\n",
              "      <td>81.377358</td>\n",
              "      <td>53.075472</td>\n",
              "      <td>1.100285e+07</td>\n",
              "      <td>2021-11-06</td>\n",
              "      <td>91.0</td>\n",
              "      <td>8.0</td>\n",
              "    </tr>\n",
              "    <tr>\n",
              "      <th>1</th>\n",
              "      <td>600808</td>\n",
              "      <td>Drake</td>\n",
              "      <td>['canadian hip hop', 'canadian pop', 'hip hop'...</td>\n",
              "      <td>98.0</td>\n",
              "      <td>61377383.0</td>\n",
              "      <td>81.377358</td>\n",
              "      <td>53.075472</td>\n",
              "      <td>1.100285e+07</td>\n",
              "      <td>2021-10-02</td>\n",
              "      <td>30.0</td>\n",
              "      <td>3.0</td>\n",
              "    </tr>\n",
              "    <tr>\n",
              "      <th>2</th>\n",
              "      <td>600808</td>\n",
              "      <td>Drake</td>\n",
              "      <td>['canadian hip hop', 'canadian pop', 'hip hop'...</td>\n",
              "      <td>98.0</td>\n",
              "      <td>61377383.0</td>\n",
              "      <td>81.377358</td>\n",
              "      <td>53.075472</td>\n",
              "      <td>1.100285e+07</td>\n",
              "      <td>2021-10-02</td>\n",
              "      <td>40.0</td>\n",
              "      <td>3.0</td>\n",
              "    </tr>\n",
              "    <tr>\n",
              "      <th>3</th>\n",
              "      <td>600808</td>\n",
              "      <td>Drake</td>\n",
              "      <td>['canadian hip hop', 'canadian pop', 'hip hop'...</td>\n",
              "      <td>98.0</td>\n",
              "      <td>61377383.0</td>\n",
              "      <td>81.377358</td>\n",
              "      <td>53.075472</td>\n",
              "      <td>1.100285e+07</td>\n",
              "      <td>2021-10-02</td>\n",
              "      <td>48.0</td>\n",
              "      <td>3.0</td>\n",
              "    </tr>\n",
              "    <tr>\n",
              "      <th>4</th>\n",
              "      <td>600808</td>\n",
              "      <td>Drake</td>\n",
              "      <td>['canadian hip hop', 'canadian pop', 'hip hop'...</td>\n",
              "      <td>98.0</td>\n",
              "      <td>61377383.0</td>\n",
              "      <td>81.377358</td>\n",
              "      <td>53.075472</td>\n",
              "      <td>1.100285e+07</td>\n",
              "      <td>2021-10-02</td>\n",
              "      <td>66.0</td>\n",
              "      <td>3.0</td>\n",
              "    </tr>\n",
              "    <tr>\n",
              "      <th>...</th>\n",
              "      <td>...</td>\n",
              "      <td>...</td>\n",
              "      <td>...</td>\n",
              "      <td>...</td>\n",
              "      <td>...</td>\n",
              "      <td>...</td>\n",
              "      <td>...</td>\n",
              "      <td>...</td>\n",
              "      <td>...</td>\n",
              "      <td>...</td>\n",
              "      <td>...</td>\n",
              "    </tr>\n",
              "    <tr>\n",
              "      <th>13834</th>\n",
              "      <td>1418260</td>\n",
              "      <td>Unreqvited</td>\n",
              "      <td>['atmospheric black metal', 'canadian black me...</td>\n",
              "      <td>32.0</td>\n",
              "      <td>20071.0</td>\n",
              "      <td>33.500000</td>\n",
              "      <td>3.500000</td>\n",
              "      <td>1.870100e+04</td>\n",
              "      <td>NaN</td>\n",
              "      <td>NaN</td>\n",
              "      <td>NaN</td>\n",
              "    </tr>\n",
              "    <tr>\n",
              "      <th>13835</th>\n",
              "      <td>844823</td>\n",
              "      <td>Show Me a Dinosaur</td>\n",
              "      <td>['instrumental post-rock', 'post-rock', 'russi...</td>\n",
              "      <td>31.0</td>\n",
              "      <td>10235.0</td>\n",
              "      <td>34.000000</td>\n",
              "      <td>4.500000</td>\n",
              "      <td>2.361900e+04</td>\n",
              "      <td>NaN</td>\n",
              "      <td>NaN</td>\n",
              "      <td>NaN</td>\n",
              "    </tr>\n",
              "    <tr>\n",
              "      <th>13836</th>\n",
              "      <td>1796328</td>\n",
              "      <td>Flovry</td>\n",
              "      <td>['lo-fi beats']</td>\n",
              "      <td>53.0</td>\n",
              "      <td>7478.0</td>\n",
              "      <td>62.000000</td>\n",
              "      <td>2.000000</td>\n",
              "      <td>5.242000e+03</td>\n",
              "      <td>NaN</td>\n",
              "      <td>NaN</td>\n",
              "      <td>NaN</td>\n",
              "    </tr>\n",
              "    <tr>\n",
              "      <th>13837</th>\n",
              "      <td>121805</td>\n",
              "      <td>The Bled</td>\n",
              "      <td>['arizona punk', 'melodic metalcore', 'post-ha...</td>\n",
              "      <td>32.0</td>\n",
              "      <td>33531.0</td>\n",
              "      <td>56.000000</td>\n",
              "      <td>8.000000</td>\n",
              "      <td>3.298930e+05</td>\n",
              "      <td>NaN</td>\n",
              "      <td>NaN</td>\n",
              "      <td>NaN</td>\n",
              "    </tr>\n",
              "    <tr>\n",
              "      <th>13838</th>\n",
              "      <td>11473</td>\n",
              "      <td>Primordial</td>\n",
              "      <td>['black metal', 'celtic metal', 'doom metal', ...</td>\n",
              "      <td>37.0</td>\n",
              "      <td>64127.0</td>\n",
              "      <td>53.000000</td>\n",
              "      <td>11.000000</td>\n",
              "      <td>2.853120e+05</td>\n",
              "      <td>NaN</td>\n",
              "      <td>NaN</td>\n",
              "      <td>NaN</td>\n",
              "    </tr>\n",
              "  </tbody>\n",
              "</table>\n",
              "<p>13839 rows × 11 columns</p>\n",
              "</div>\n",
              "      <button class=\"colab-df-convert\" onclick=\"convertToInteractive('df-a4141dce-bc5d-4379-b197-44e687435dc9')\"\n",
              "              title=\"Convert this dataframe to an interactive table.\"\n",
              "              style=\"display:none;\">\n",
              "        \n",
              "  <svg xmlns=\"http://www.w3.org/2000/svg\" height=\"24px\"viewBox=\"0 0 24 24\"\n",
              "       width=\"24px\">\n",
              "    <path d=\"M0 0h24v24H0V0z\" fill=\"none\"/>\n",
              "    <path d=\"M18.56 5.44l.94 2.06.94-2.06 2.06-.94-2.06-.94-.94-2.06-.94 2.06-2.06.94zm-11 1L8.5 8.5l.94-2.06 2.06-.94-2.06-.94L8.5 2.5l-.94 2.06-2.06.94zm10 10l.94 2.06.94-2.06 2.06-.94-2.06-.94-.94-2.06-.94 2.06-2.06.94z\"/><path d=\"M17.41 7.96l-1.37-1.37c-.4-.4-.92-.59-1.43-.59-.52 0-1.04.2-1.43.59L10.3 9.45l-7.72 7.72c-.78.78-.78 2.05 0 2.83L4 21.41c.39.39.9.59 1.41.59.51 0 1.02-.2 1.41-.59l7.78-7.78 2.81-2.81c.8-.78.8-2.07 0-2.86zM5.41 20L4 18.59l7.72-7.72 1.47 1.35L5.41 20z\"/>\n",
              "  </svg>\n",
              "      </button>\n",
              "      \n",
              "  <style>\n",
              "    .colab-df-container {\n",
              "      display:flex;\n",
              "      flex-wrap:wrap;\n",
              "      gap: 12px;\n",
              "    }\n",
              "\n",
              "    .colab-df-convert {\n",
              "      background-color: #E8F0FE;\n",
              "      border: none;\n",
              "      border-radius: 50%;\n",
              "      cursor: pointer;\n",
              "      display: none;\n",
              "      fill: #1967D2;\n",
              "      height: 32px;\n",
              "      padding: 0 0 0 0;\n",
              "      width: 32px;\n",
              "    }\n",
              "\n",
              "    .colab-df-convert:hover {\n",
              "      background-color: #E2EBFA;\n",
              "      box-shadow: 0px 1px 2px rgba(60, 64, 67, 0.3), 0px 1px 3px 1px rgba(60, 64, 67, 0.15);\n",
              "      fill: #174EA6;\n",
              "    }\n",
              "\n",
              "    [theme=dark] .colab-df-convert {\n",
              "      background-color: #3B4455;\n",
              "      fill: #D2E3FC;\n",
              "    }\n",
              "\n",
              "    [theme=dark] .colab-df-convert:hover {\n",
              "      background-color: #434B5C;\n",
              "      box-shadow: 0px 1px 3px 1px rgba(0, 0, 0, 0.15);\n",
              "      filter: drop-shadow(0px 1px 2px rgba(0, 0, 0, 0.3));\n",
              "      fill: #FFFFFF;\n",
              "    }\n",
              "  </style>\n",
              "\n",
              "      <script>\n",
              "        const buttonEl =\n",
              "          document.querySelector('#df-a4141dce-bc5d-4379-b197-44e687435dc9 button.colab-df-convert');\n",
              "        buttonEl.style.display =\n",
              "          google.colab.kernel.accessAllowed ? 'block' : 'none';\n",
              "\n",
              "        async function convertToInteractive(key) {\n",
              "          const element = document.querySelector('#df-a4141dce-bc5d-4379-b197-44e687435dc9');\n",
              "          const dataTable =\n",
              "            await google.colab.kernel.invokeFunction('convertToInteractive',\n",
              "                                                     [key], {});\n",
              "          if (!dataTable) return;\n",
              "\n",
              "          const docLinkHtml = 'Like what you see? Visit the ' +\n",
              "            '<a target=\"_blank\" href=https://colab.research.google.com/notebooks/data_table.ipynb>data table notebook</a>'\n",
              "            + ' to learn more about interactive tables.';\n",
              "          element.innerHTML = '';\n",
              "          dataTable['output_type'] = 'display_data';\n",
              "          await google.colab.output.renderOutput(dataTable, element);\n",
              "          const docLink = document.createElement('div');\n",
              "          docLink.innerHTML = docLinkHtml;\n",
              "          element.appendChild(docLink);\n",
              "        }\n",
              "      </script>\n",
              "    </div>\n",
              "  </div>\n",
              "  "
            ]
          },
          "metadata": {}
        }
      ],
      "source": [
        "#데이터 합치기\n",
        "spotify = pd.merge(feature,charts,how='left',on='artist')\n",
        "display(spotify)"
      ]
    },
    {
      "cell_type": "markdown",
      "metadata": {
        "id": "x-yhYRtdw_5j"
      },
      "source": [
        "***Top100에 차트인 한 아티스트는 yes, 그렇지 않은 아티스트는 no인 새로운 변수 'top100'만들기***"
      ]
    },
    {
      "cell_type": "code",
      "execution_count": null,
      "metadata": {
        "id": "KGZeKYc_x_-G",
        "colab": {
          "base_uri": "https://localhost:8080/",
          "height": 797
        },
        "outputId": "3d9691b2-27a6-423e-9f95-0aeb3909b891"
      },
      "outputs": [
        {
          "output_type": "display_data",
          "data": {
            "text/plain": [
              "            id              artist  \\\n",
              "0       600808               Drake   \n",
              "1       600808               Drake   \n",
              "2       600808               Drake   \n",
              "3       600808               Drake   \n",
              "4       600808               Drake   \n",
              "...        ...                 ...   \n",
              "13834  1418260          Unreqvited   \n",
              "13835   844823  Show Me a Dinosaur   \n",
              "13836  1796328              Flovry   \n",
              "13837   121805            The Bled   \n",
              "13838    11473          Primordial   \n",
              "\n",
              "                                                  genres  popularity  \\\n",
              "0      ['canadian hip hop', 'canadian pop', 'hip hop'...        98.0   \n",
              "1      ['canadian hip hop', 'canadian pop', 'hip hop'...        98.0   \n",
              "2      ['canadian hip hop', 'canadian pop', 'hip hop'...        98.0   \n",
              "3      ['canadian hip hop', 'canadian pop', 'hip hop'...        98.0   \n",
              "4      ['canadian hip hop', 'canadian pop', 'hip hop'...        98.0   \n",
              "...                                                  ...         ...   \n",
              "13834  ['atmospheric black metal', 'canadian black me...        32.0   \n",
              "13835  ['instrumental post-rock', 'post-rock', 'russi...        31.0   \n",
              "13836                                    ['lo-fi beats']        53.0   \n",
              "13837  ['arizona punk', 'melodic metalcore', 'post-ha...        32.0   \n",
              "13838  ['black metal', 'celtic metal', 'doom metal', ...        37.0   \n",
              "\n",
              "        followers   pop_mean   rel_mean      fol_mean        date  rank  \\\n",
              "0      61377383.0  81.377358  53.075472  1.100285e+07  2021-11-06  91.0   \n",
              "1      61377383.0  81.377358  53.075472  1.100285e+07  2021-10-02  30.0   \n",
              "2      61377383.0  81.377358  53.075472  1.100285e+07  2021-10-02  40.0   \n",
              "3      61377383.0  81.377358  53.075472  1.100285e+07  2021-10-02  48.0   \n",
              "4      61377383.0  81.377358  53.075472  1.100285e+07  2021-10-02  66.0   \n",
              "...           ...        ...        ...           ...         ...   ...   \n",
              "13834     20071.0  33.500000   3.500000  1.870100e+04         NaN   NaN   \n",
              "13835     10235.0  34.000000   4.500000  2.361900e+04         NaN   NaN   \n",
              "13836      7478.0  62.000000   2.000000  5.242000e+03         NaN   NaN   \n",
              "13837     33531.0  56.000000   8.000000  3.298930e+05         NaN   NaN   \n",
              "13838     64127.0  53.000000  11.000000  2.853120e+05         NaN   NaN   \n",
              "\n",
              "       weeks-on-board top100  \n",
              "0                 8.0    Yes  \n",
              "1                 3.0    Yes  \n",
              "2                 3.0    Yes  \n",
              "3                 3.0    Yes  \n",
              "4                 3.0    Yes  \n",
              "...               ...    ...  \n",
              "13834             NaN     No  \n",
              "13835             NaN     No  \n",
              "13836             NaN     No  \n",
              "13837             NaN     No  \n",
              "13838             NaN     No  \n",
              "\n",
              "[13839 rows x 12 columns]"
            ],
            "text/html": [
              "\n",
              "  <div id=\"df-49ba5498-ec56-47fc-bfbe-d88d92cacf66\">\n",
              "    <div class=\"colab-df-container\">\n",
              "      <div>\n",
              "<style scoped>\n",
              "    .dataframe tbody tr th:only-of-type {\n",
              "        vertical-align: middle;\n",
              "    }\n",
              "\n",
              "    .dataframe tbody tr th {\n",
              "        vertical-align: top;\n",
              "    }\n",
              "\n",
              "    .dataframe thead th {\n",
              "        text-align: right;\n",
              "    }\n",
              "</style>\n",
              "<table border=\"1\" class=\"dataframe\">\n",
              "  <thead>\n",
              "    <tr style=\"text-align: right;\">\n",
              "      <th></th>\n",
              "      <th>id</th>\n",
              "      <th>artist</th>\n",
              "      <th>genres</th>\n",
              "      <th>popularity</th>\n",
              "      <th>followers</th>\n",
              "      <th>pop_mean</th>\n",
              "      <th>rel_mean</th>\n",
              "      <th>fol_mean</th>\n",
              "      <th>date</th>\n",
              "      <th>rank</th>\n",
              "      <th>weeks-on-board</th>\n",
              "      <th>top100</th>\n",
              "    </tr>\n",
              "  </thead>\n",
              "  <tbody>\n",
              "    <tr>\n",
              "      <th>0</th>\n",
              "      <td>600808</td>\n",
              "      <td>Drake</td>\n",
              "      <td>['canadian hip hop', 'canadian pop', 'hip hop'...</td>\n",
              "      <td>98.0</td>\n",
              "      <td>61377383.0</td>\n",
              "      <td>81.377358</td>\n",
              "      <td>53.075472</td>\n",
              "      <td>1.100285e+07</td>\n",
              "      <td>2021-11-06</td>\n",
              "      <td>91.0</td>\n",
              "      <td>8.0</td>\n",
              "      <td>Yes</td>\n",
              "    </tr>\n",
              "    <tr>\n",
              "      <th>1</th>\n",
              "      <td>600808</td>\n",
              "      <td>Drake</td>\n",
              "      <td>['canadian hip hop', 'canadian pop', 'hip hop'...</td>\n",
              "      <td>98.0</td>\n",
              "      <td>61377383.0</td>\n",
              "      <td>81.377358</td>\n",
              "      <td>53.075472</td>\n",
              "      <td>1.100285e+07</td>\n",
              "      <td>2021-10-02</td>\n",
              "      <td>30.0</td>\n",
              "      <td>3.0</td>\n",
              "      <td>Yes</td>\n",
              "    </tr>\n",
              "    <tr>\n",
              "      <th>2</th>\n",
              "      <td>600808</td>\n",
              "      <td>Drake</td>\n",
              "      <td>['canadian hip hop', 'canadian pop', 'hip hop'...</td>\n",
              "      <td>98.0</td>\n",
              "      <td>61377383.0</td>\n",
              "      <td>81.377358</td>\n",
              "      <td>53.075472</td>\n",
              "      <td>1.100285e+07</td>\n",
              "      <td>2021-10-02</td>\n",
              "      <td>40.0</td>\n",
              "      <td>3.0</td>\n",
              "      <td>Yes</td>\n",
              "    </tr>\n",
              "    <tr>\n",
              "      <th>3</th>\n",
              "      <td>600808</td>\n",
              "      <td>Drake</td>\n",
              "      <td>['canadian hip hop', 'canadian pop', 'hip hop'...</td>\n",
              "      <td>98.0</td>\n",
              "      <td>61377383.0</td>\n",
              "      <td>81.377358</td>\n",
              "      <td>53.075472</td>\n",
              "      <td>1.100285e+07</td>\n",
              "      <td>2021-10-02</td>\n",
              "      <td>48.0</td>\n",
              "      <td>3.0</td>\n",
              "      <td>Yes</td>\n",
              "    </tr>\n",
              "    <tr>\n",
              "      <th>4</th>\n",
              "      <td>600808</td>\n",
              "      <td>Drake</td>\n",
              "      <td>['canadian hip hop', 'canadian pop', 'hip hop'...</td>\n",
              "      <td>98.0</td>\n",
              "      <td>61377383.0</td>\n",
              "      <td>81.377358</td>\n",
              "      <td>53.075472</td>\n",
              "      <td>1.100285e+07</td>\n",
              "      <td>2021-10-02</td>\n",
              "      <td>66.0</td>\n",
              "      <td>3.0</td>\n",
              "      <td>Yes</td>\n",
              "    </tr>\n",
              "    <tr>\n",
              "      <th>...</th>\n",
              "      <td>...</td>\n",
              "      <td>...</td>\n",
              "      <td>...</td>\n",
              "      <td>...</td>\n",
              "      <td>...</td>\n",
              "      <td>...</td>\n",
              "      <td>...</td>\n",
              "      <td>...</td>\n",
              "      <td>...</td>\n",
              "      <td>...</td>\n",
              "      <td>...</td>\n",
              "      <td>...</td>\n",
              "    </tr>\n",
              "    <tr>\n",
              "      <th>13834</th>\n",
              "      <td>1418260</td>\n",
              "      <td>Unreqvited</td>\n",
              "      <td>['atmospheric black metal', 'canadian black me...</td>\n",
              "      <td>32.0</td>\n",
              "      <td>20071.0</td>\n",
              "      <td>33.500000</td>\n",
              "      <td>3.500000</td>\n",
              "      <td>1.870100e+04</td>\n",
              "      <td>NaN</td>\n",
              "      <td>NaN</td>\n",
              "      <td>NaN</td>\n",
              "      <td>No</td>\n",
              "    </tr>\n",
              "    <tr>\n",
              "      <th>13835</th>\n",
              "      <td>844823</td>\n",
              "      <td>Show Me a Dinosaur</td>\n",
              "      <td>['instrumental post-rock', 'post-rock', 'russi...</td>\n",
              "      <td>31.0</td>\n",
              "      <td>10235.0</td>\n",
              "      <td>34.000000</td>\n",
              "      <td>4.500000</td>\n",
              "      <td>2.361900e+04</td>\n",
              "      <td>NaN</td>\n",
              "      <td>NaN</td>\n",
              "      <td>NaN</td>\n",
              "      <td>No</td>\n",
              "    </tr>\n",
              "    <tr>\n",
              "      <th>13836</th>\n",
              "      <td>1796328</td>\n",
              "      <td>Flovry</td>\n",
              "      <td>['lo-fi beats']</td>\n",
              "      <td>53.0</td>\n",
              "      <td>7478.0</td>\n",
              "      <td>62.000000</td>\n",
              "      <td>2.000000</td>\n",
              "      <td>5.242000e+03</td>\n",
              "      <td>NaN</td>\n",
              "      <td>NaN</td>\n",
              "      <td>NaN</td>\n",
              "      <td>No</td>\n",
              "    </tr>\n",
              "    <tr>\n",
              "      <th>13837</th>\n",
              "      <td>121805</td>\n",
              "      <td>The Bled</td>\n",
              "      <td>['arizona punk', 'melodic metalcore', 'post-ha...</td>\n",
              "      <td>32.0</td>\n",
              "      <td>33531.0</td>\n",
              "      <td>56.000000</td>\n",
              "      <td>8.000000</td>\n",
              "      <td>3.298930e+05</td>\n",
              "      <td>NaN</td>\n",
              "      <td>NaN</td>\n",
              "      <td>NaN</td>\n",
              "      <td>No</td>\n",
              "    </tr>\n",
              "    <tr>\n",
              "      <th>13838</th>\n",
              "      <td>11473</td>\n",
              "      <td>Primordial</td>\n",
              "      <td>['black metal', 'celtic metal', 'doom metal', ...</td>\n",
              "      <td>37.0</td>\n",
              "      <td>64127.0</td>\n",
              "      <td>53.000000</td>\n",
              "      <td>11.000000</td>\n",
              "      <td>2.853120e+05</td>\n",
              "      <td>NaN</td>\n",
              "      <td>NaN</td>\n",
              "      <td>NaN</td>\n",
              "      <td>No</td>\n",
              "    </tr>\n",
              "  </tbody>\n",
              "</table>\n",
              "<p>13839 rows × 12 columns</p>\n",
              "</div>\n",
              "      <button class=\"colab-df-convert\" onclick=\"convertToInteractive('df-49ba5498-ec56-47fc-bfbe-d88d92cacf66')\"\n",
              "              title=\"Convert this dataframe to an interactive table.\"\n",
              "              style=\"display:none;\">\n",
              "        \n",
              "  <svg xmlns=\"http://www.w3.org/2000/svg\" height=\"24px\"viewBox=\"0 0 24 24\"\n",
              "       width=\"24px\">\n",
              "    <path d=\"M0 0h24v24H0V0z\" fill=\"none\"/>\n",
              "    <path d=\"M18.56 5.44l.94 2.06.94-2.06 2.06-.94-2.06-.94-.94-2.06-.94 2.06-2.06.94zm-11 1L8.5 8.5l.94-2.06 2.06-.94-2.06-.94L8.5 2.5l-.94 2.06-2.06.94zm10 10l.94 2.06.94-2.06 2.06-.94-2.06-.94-.94-2.06-.94 2.06-2.06.94z\"/><path d=\"M17.41 7.96l-1.37-1.37c-.4-.4-.92-.59-1.43-.59-.52 0-1.04.2-1.43.59L10.3 9.45l-7.72 7.72c-.78.78-.78 2.05 0 2.83L4 21.41c.39.39.9.59 1.41.59.51 0 1.02-.2 1.41-.59l7.78-7.78 2.81-2.81c.8-.78.8-2.07 0-2.86zM5.41 20L4 18.59l7.72-7.72 1.47 1.35L5.41 20z\"/>\n",
              "  </svg>\n",
              "      </button>\n",
              "      \n",
              "  <style>\n",
              "    .colab-df-container {\n",
              "      display:flex;\n",
              "      flex-wrap:wrap;\n",
              "      gap: 12px;\n",
              "    }\n",
              "\n",
              "    .colab-df-convert {\n",
              "      background-color: #E8F0FE;\n",
              "      border: none;\n",
              "      border-radius: 50%;\n",
              "      cursor: pointer;\n",
              "      display: none;\n",
              "      fill: #1967D2;\n",
              "      height: 32px;\n",
              "      padding: 0 0 0 0;\n",
              "      width: 32px;\n",
              "    }\n",
              "\n",
              "    .colab-df-convert:hover {\n",
              "      background-color: #E2EBFA;\n",
              "      box-shadow: 0px 1px 2px rgba(60, 64, 67, 0.3), 0px 1px 3px 1px rgba(60, 64, 67, 0.15);\n",
              "      fill: #174EA6;\n",
              "    }\n",
              "\n",
              "    [theme=dark] .colab-df-convert {\n",
              "      background-color: #3B4455;\n",
              "      fill: #D2E3FC;\n",
              "    }\n",
              "\n",
              "    [theme=dark] .colab-df-convert:hover {\n",
              "      background-color: #434B5C;\n",
              "      box-shadow: 0px 1px 3px 1px rgba(0, 0, 0, 0.15);\n",
              "      filter: drop-shadow(0px 1px 2px rgba(0, 0, 0, 0.3));\n",
              "      fill: #FFFFFF;\n",
              "    }\n",
              "  </style>\n",
              "\n",
              "      <script>\n",
              "        const buttonEl =\n",
              "          document.querySelector('#df-49ba5498-ec56-47fc-bfbe-d88d92cacf66 button.colab-df-convert');\n",
              "        buttonEl.style.display =\n",
              "          google.colab.kernel.accessAllowed ? 'block' : 'none';\n",
              "\n",
              "        async function convertToInteractive(key) {\n",
              "          const element = document.querySelector('#df-49ba5498-ec56-47fc-bfbe-d88d92cacf66');\n",
              "          const dataTable =\n",
              "            await google.colab.kernel.invokeFunction('convertToInteractive',\n",
              "                                                     [key], {});\n",
              "          if (!dataTable) return;\n",
              "\n",
              "          const docLinkHtml = 'Like what you see? Visit the ' +\n",
              "            '<a target=\"_blank\" href=https://colab.research.google.com/notebooks/data_table.ipynb>data table notebook</a>'\n",
              "            + ' to learn more about interactive tables.';\n",
              "          element.innerHTML = '';\n",
              "          dataTable['output_type'] = 'display_data';\n",
              "          await google.colab.output.renderOutput(dataTable, element);\n",
              "          const docLink = document.createElement('div');\n",
              "          docLink.innerHTML = docLinkHtml;\n",
              "          element.appendChild(docLink);\n",
              "        }\n",
              "      </script>\n",
              "    </div>\n",
              "  </div>\n",
              "  "
            ]
          },
          "metadata": {}
        }
      ],
      "source": [
        "#새로운 열 추가\n",
        "spotify[\"top100\"]=spotify[\"rank\"]\n",
        "\n",
        "#조건에 맞는 값을 칼럼에 추가\n",
        "spotify['top100']=spotify['top100'].fillna(\"No\")\n",
        "spotify.loc[(spotify['top100']!=\"No\"),'top100']=\"Yes\"\n",
        "\n",
        "display(spotify)"
      ]
    },
    {
      "cell_type": "markdown",
      "metadata": {
        "id": "O6hxrRjptNox"
      },
      "source": [
        "***artist를 기준으로 중복되는 행 제거***"
      ]
    },
    {
      "cell_type": "code",
      "execution_count": null,
      "metadata": {
        "id": "nunbwC8EwoRV",
        "colab": {
          "base_uri": "https://localhost:8080/",
          "height": 763
        },
        "outputId": "221f2319-5cd6-4d4c-85f3-924c7a2799b7"
      },
      "outputs": [
        {
          "output_type": "execute_result",
          "data": {
            "text/plain": [
              "            id              artist  \\\n",
              "0       600808               Drake   \n",
              "16      706819          Ed Sheeran   \n",
              "25      823336       Ariana Grande   \n",
              "43     1492430           Bad Bunny   \n",
              "53      796889          The Weeknd   \n",
              "...        ...                 ...   \n",
              "13834  1418260          Unreqvited   \n",
              "13835   844823  Show Me a Dinosaur   \n",
              "13836  1796328              Flovry   \n",
              "13837   121805            The Bled   \n",
              "13838    11473          Primordial   \n",
              "\n",
              "                                                  genres  popularity  \\\n",
              "0      ['canadian hip hop', 'canadian pop', 'hip hop'...        98.0   \n",
              "16                                     ['pop', 'uk pop']        95.0   \n",
              "25                                  ['dance pop', 'pop']        93.0   \n",
              "43                 ['latin', 'reggaeton', 'trap latino']       100.0   \n",
              "53     ['canadian contemporary r&b', 'canadian pop', ...        98.0   \n",
              "...                                                  ...         ...   \n",
              "13834  ['atmospheric black metal', 'canadian black me...        32.0   \n",
              "13835  ['instrumental post-rock', 'post-rock', 'russi...        31.0   \n",
              "13836                                    ['lo-fi beats']        53.0   \n",
              "13837  ['arizona punk', 'melodic metalcore', 'post-ha...        32.0   \n",
              "13838  ['black metal', 'celtic metal', 'doom metal', ...        37.0   \n",
              "\n",
              "        followers   pop_mean   rel_mean      fol_mean        date  rank  \\\n",
              "0      61377383.0  81.377358  53.075472  1.100285e+07  2021-11-06  91.0   \n",
              "16     93327682.0  80.035714  44.035714  1.472265e+07  2021-11-06   5.0   \n",
              "25     76626333.0  77.650000  51.900000  1.000831e+07  2021-07-03  27.0   \n",
              "43     44516743.0  75.628571  23.142857  8.425305e+06  2021-10-02  85.0   \n",
              "53     42275433.0  81.928571  53.178571  1.363645e+07  2021-11-06  32.0   \n",
              "...           ...        ...        ...           ...         ...   ...   \n",
              "13834     20071.0  33.500000   3.500000  1.870100e+04         NaN   NaN   \n",
              "13835     10235.0  34.000000   4.500000  2.361900e+04         NaN   NaN   \n",
              "13836      7478.0  62.000000   2.000000  5.242000e+03         NaN   NaN   \n",
              "13837     33531.0  56.000000   8.000000  3.298930e+05         NaN   NaN   \n",
              "13838     64127.0  53.000000  11.000000  2.853120e+05         NaN   NaN   \n",
              "\n",
              "       weeks-on-board top100  \n",
              "0                 8.0    Yes  \n",
              "16               18.0    Yes  \n",
              "25               16.0    Yes  \n",
              "43               16.0    Yes  \n",
              "53               12.0    Yes  \n",
              "...               ...    ...  \n",
              "13834             NaN     No  \n",
              "13835             NaN     No  \n",
              "13836             NaN     No  \n",
              "13837             NaN     No  \n",
              "13838             NaN     No  \n",
              "\n",
              "[12883 rows x 12 columns]"
            ],
            "text/html": [
              "\n",
              "  <div id=\"df-89c83765-f079-4959-8973-a0bf524e1c5f\">\n",
              "    <div class=\"colab-df-container\">\n",
              "      <div>\n",
              "<style scoped>\n",
              "    .dataframe tbody tr th:only-of-type {\n",
              "        vertical-align: middle;\n",
              "    }\n",
              "\n",
              "    .dataframe tbody tr th {\n",
              "        vertical-align: top;\n",
              "    }\n",
              "\n",
              "    .dataframe thead th {\n",
              "        text-align: right;\n",
              "    }\n",
              "</style>\n",
              "<table border=\"1\" class=\"dataframe\">\n",
              "  <thead>\n",
              "    <tr style=\"text-align: right;\">\n",
              "      <th></th>\n",
              "      <th>id</th>\n",
              "      <th>artist</th>\n",
              "      <th>genres</th>\n",
              "      <th>popularity</th>\n",
              "      <th>followers</th>\n",
              "      <th>pop_mean</th>\n",
              "      <th>rel_mean</th>\n",
              "      <th>fol_mean</th>\n",
              "      <th>date</th>\n",
              "      <th>rank</th>\n",
              "      <th>weeks-on-board</th>\n",
              "      <th>top100</th>\n",
              "    </tr>\n",
              "  </thead>\n",
              "  <tbody>\n",
              "    <tr>\n",
              "      <th>0</th>\n",
              "      <td>600808</td>\n",
              "      <td>Drake</td>\n",
              "      <td>['canadian hip hop', 'canadian pop', 'hip hop'...</td>\n",
              "      <td>98.0</td>\n",
              "      <td>61377383.0</td>\n",
              "      <td>81.377358</td>\n",
              "      <td>53.075472</td>\n",
              "      <td>1.100285e+07</td>\n",
              "      <td>2021-11-06</td>\n",
              "      <td>91.0</td>\n",
              "      <td>8.0</td>\n",
              "      <td>Yes</td>\n",
              "    </tr>\n",
              "    <tr>\n",
              "      <th>16</th>\n",
              "      <td>706819</td>\n",
              "      <td>Ed Sheeran</td>\n",
              "      <td>['pop', 'uk pop']</td>\n",
              "      <td>95.0</td>\n",
              "      <td>93327682.0</td>\n",
              "      <td>80.035714</td>\n",
              "      <td>44.035714</td>\n",
              "      <td>1.472265e+07</td>\n",
              "      <td>2021-11-06</td>\n",
              "      <td>5.0</td>\n",
              "      <td>18.0</td>\n",
              "      <td>Yes</td>\n",
              "    </tr>\n",
              "    <tr>\n",
              "      <th>25</th>\n",
              "      <td>823336</td>\n",
              "      <td>Ariana Grande</td>\n",
              "      <td>['dance pop', 'pop']</td>\n",
              "      <td>93.0</td>\n",
              "      <td>76626333.0</td>\n",
              "      <td>77.650000</td>\n",
              "      <td>51.900000</td>\n",
              "      <td>1.000831e+07</td>\n",
              "      <td>2021-07-03</td>\n",
              "      <td>27.0</td>\n",
              "      <td>16.0</td>\n",
              "      <td>Yes</td>\n",
              "    </tr>\n",
              "    <tr>\n",
              "      <th>43</th>\n",
              "      <td>1492430</td>\n",
              "      <td>Bad Bunny</td>\n",
              "      <td>['latin', 'reggaeton', 'trap latino']</td>\n",
              "      <td>100.0</td>\n",
              "      <td>44516743.0</td>\n",
              "      <td>75.628571</td>\n",
              "      <td>23.142857</td>\n",
              "      <td>8.425305e+06</td>\n",
              "      <td>2021-10-02</td>\n",
              "      <td>85.0</td>\n",
              "      <td>16.0</td>\n",
              "      <td>Yes</td>\n",
              "    </tr>\n",
              "    <tr>\n",
              "      <th>53</th>\n",
              "      <td>796889</td>\n",
              "      <td>The Weeknd</td>\n",
              "      <td>['canadian contemporary r&amp;b', 'canadian pop', ...</td>\n",
              "      <td>98.0</td>\n",
              "      <td>42275433.0</td>\n",
              "      <td>81.928571</td>\n",
              "      <td>53.178571</td>\n",
              "      <td>1.363645e+07</td>\n",
              "      <td>2021-11-06</td>\n",
              "      <td>32.0</td>\n",
              "      <td>12.0</td>\n",
              "      <td>Yes</td>\n",
              "    </tr>\n",
              "    <tr>\n",
              "      <th>...</th>\n",
              "      <td>...</td>\n",
              "      <td>...</td>\n",
              "      <td>...</td>\n",
              "      <td>...</td>\n",
              "      <td>...</td>\n",
              "      <td>...</td>\n",
              "      <td>...</td>\n",
              "      <td>...</td>\n",
              "      <td>...</td>\n",
              "      <td>...</td>\n",
              "      <td>...</td>\n",
              "      <td>...</td>\n",
              "    </tr>\n",
              "    <tr>\n",
              "      <th>13834</th>\n",
              "      <td>1418260</td>\n",
              "      <td>Unreqvited</td>\n",
              "      <td>['atmospheric black metal', 'canadian black me...</td>\n",
              "      <td>32.0</td>\n",
              "      <td>20071.0</td>\n",
              "      <td>33.500000</td>\n",
              "      <td>3.500000</td>\n",
              "      <td>1.870100e+04</td>\n",
              "      <td>NaN</td>\n",
              "      <td>NaN</td>\n",
              "      <td>NaN</td>\n",
              "      <td>No</td>\n",
              "    </tr>\n",
              "    <tr>\n",
              "      <th>13835</th>\n",
              "      <td>844823</td>\n",
              "      <td>Show Me a Dinosaur</td>\n",
              "      <td>['instrumental post-rock', 'post-rock', 'russi...</td>\n",
              "      <td>31.0</td>\n",
              "      <td>10235.0</td>\n",
              "      <td>34.000000</td>\n",
              "      <td>4.500000</td>\n",
              "      <td>2.361900e+04</td>\n",
              "      <td>NaN</td>\n",
              "      <td>NaN</td>\n",
              "      <td>NaN</td>\n",
              "      <td>No</td>\n",
              "    </tr>\n",
              "    <tr>\n",
              "      <th>13836</th>\n",
              "      <td>1796328</td>\n",
              "      <td>Flovry</td>\n",
              "      <td>['lo-fi beats']</td>\n",
              "      <td>53.0</td>\n",
              "      <td>7478.0</td>\n",
              "      <td>62.000000</td>\n",
              "      <td>2.000000</td>\n",
              "      <td>5.242000e+03</td>\n",
              "      <td>NaN</td>\n",
              "      <td>NaN</td>\n",
              "      <td>NaN</td>\n",
              "      <td>No</td>\n",
              "    </tr>\n",
              "    <tr>\n",
              "      <th>13837</th>\n",
              "      <td>121805</td>\n",
              "      <td>The Bled</td>\n",
              "      <td>['arizona punk', 'melodic metalcore', 'post-ha...</td>\n",
              "      <td>32.0</td>\n",
              "      <td>33531.0</td>\n",
              "      <td>56.000000</td>\n",
              "      <td>8.000000</td>\n",
              "      <td>3.298930e+05</td>\n",
              "      <td>NaN</td>\n",
              "      <td>NaN</td>\n",
              "      <td>NaN</td>\n",
              "      <td>No</td>\n",
              "    </tr>\n",
              "    <tr>\n",
              "      <th>13838</th>\n",
              "      <td>11473</td>\n",
              "      <td>Primordial</td>\n",
              "      <td>['black metal', 'celtic metal', 'doom metal', ...</td>\n",
              "      <td>37.0</td>\n",
              "      <td>64127.0</td>\n",
              "      <td>53.000000</td>\n",
              "      <td>11.000000</td>\n",
              "      <td>2.853120e+05</td>\n",
              "      <td>NaN</td>\n",
              "      <td>NaN</td>\n",
              "      <td>NaN</td>\n",
              "      <td>No</td>\n",
              "    </tr>\n",
              "  </tbody>\n",
              "</table>\n",
              "<p>12883 rows × 12 columns</p>\n",
              "</div>\n",
              "      <button class=\"colab-df-convert\" onclick=\"convertToInteractive('df-89c83765-f079-4959-8973-a0bf524e1c5f')\"\n",
              "              title=\"Convert this dataframe to an interactive table.\"\n",
              "              style=\"display:none;\">\n",
              "        \n",
              "  <svg xmlns=\"http://www.w3.org/2000/svg\" height=\"24px\"viewBox=\"0 0 24 24\"\n",
              "       width=\"24px\">\n",
              "    <path d=\"M0 0h24v24H0V0z\" fill=\"none\"/>\n",
              "    <path d=\"M18.56 5.44l.94 2.06.94-2.06 2.06-.94-2.06-.94-.94-2.06-.94 2.06-2.06.94zm-11 1L8.5 8.5l.94-2.06 2.06-.94-2.06-.94L8.5 2.5l-.94 2.06-2.06.94zm10 10l.94 2.06.94-2.06 2.06-.94-2.06-.94-.94-2.06-.94 2.06-2.06.94z\"/><path d=\"M17.41 7.96l-1.37-1.37c-.4-.4-.92-.59-1.43-.59-.52 0-1.04.2-1.43.59L10.3 9.45l-7.72 7.72c-.78.78-.78 2.05 0 2.83L4 21.41c.39.39.9.59 1.41.59.51 0 1.02-.2 1.41-.59l7.78-7.78 2.81-2.81c.8-.78.8-2.07 0-2.86zM5.41 20L4 18.59l7.72-7.72 1.47 1.35L5.41 20z\"/>\n",
              "  </svg>\n",
              "      </button>\n",
              "      \n",
              "  <style>\n",
              "    .colab-df-container {\n",
              "      display:flex;\n",
              "      flex-wrap:wrap;\n",
              "      gap: 12px;\n",
              "    }\n",
              "\n",
              "    .colab-df-convert {\n",
              "      background-color: #E8F0FE;\n",
              "      border: none;\n",
              "      border-radius: 50%;\n",
              "      cursor: pointer;\n",
              "      display: none;\n",
              "      fill: #1967D2;\n",
              "      height: 32px;\n",
              "      padding: 0 0 0 0;\n",
              "      width: 32px;\n",
              "    }\n",
              "\n",
              "    .colab-df-convert:hover {\n",
              "      background-color: #E2EBFA;\n",
              "      box-shadow: 0px 1px 2px rgba(60, 64, 67, 0.3), 0px 1px 3px 1px rgba(60, 64, 67, 0.15);\n",
              "      fill: #174EA6;\n",
              "    }\n",
              "\n",
              "    [theme=dark] .colab-df-convert {\n",
              "      background-color: #3B4455;\n",
              "      fill: #D2E3FC;\n",
              "    }\n",
              "\n",
              "    [theme=dark] .colab-df-convert:hover {\n",
              "      background-color: #434B5C;\n",
              "      box-shadow: 0px 1px 3px 1px rgba(0, 0, 0, 0.15);\n",
              "      filter: drop-shadow(0px 1px 2px rgba(0, 0, 0, 0.3));\n",
              "      fill: #FFFFFF;\n",
              "    }\n",
              "  </style>\n",
              "\n",
              "      <script>\n",
              "        const buttonEl =\n",
              "          document.querySelector('#df-89c83765-f079-4959-8973-a0bf524e1c5f button.colab-df-convert');\n",
              "        buttonEl.style.display =\n",
              "          google.colab.kernel.accessAllowed ? 'block' : 'none';\n",
              "\n",
              "        async function convertToInteractive(key) {\n",
              "          const element = document.querySelector('#df-89c83765-f079-4959-8973-a0bf524e1c5f');\n",
              "          const dataTable =\n",
              "            await google.colab.kernel.invokeFunction('convertToInteractive',\n",
              "                                                     [key], {});\n",
              "          if (!dataTable) return;\n",
              "\n",
              "          const docLinkHtml = 'Like what you see? Visit the ' +\n",
              "            '<a target=\"_blank\" href=https://colab.research.google.com/notebooks/data_table.ipynb>data table notebook</a>'\n",
              "            + ' to learn more about interactive tables.';\n",
              "          element.innerHTML = '';\n",
              "          dataTable['output_type'] = 'display_data';\n",
              "          await google.colab.output.renderOutput(dataTable, element);\n",
              "          const docLink = document.createElement('div');\n",
              "          docLink.innerHTML = docLinkHtml;\n",
              "          element.appendChild(docLink);\n",
              "        }\n",
              "      </script>\n",
              "    </div>\n",
              "  </div>\n",
              "  "
            ]
          },
          "metadata": {},
          "execution_count": 29
        }
      ],
      "source": [
        "spotify.drop_duplicates(['artist'])"
      ]
    },
    {
      "cell_type": "markdown",
      "source": [
        "##**Step 2. 분류**"
      ],
      "metadata": {
        "id": "S8ihdTeG9mwO"
      }
    },
    {
      "cell_type": "markdown",
      "source": [
        "### 분류 문제 선정: 아티스트의 성공 예측 및 전략 수립하기\n",
        "\n",
        "* 종속변수: top-100 포함 여부\n",
        "\n",
        "* 독립변수: popularity, followers, rel_mean, fol_mean, pop_mean\n",
        "\n",
        "Yes: 2019년부터 2년간 1~11월의 첫째 주마다 top-100위를 기록한 가수들\n",
        "No: top-100에 포함되지 않은 가수들\n",
        "\n",
        "어떤 독립변수가 스포티파이 차트에서 높은 순위를 기록하는 데 영향을 줄 수 있는지 확인한다.\n",
        "\n",
        "결과에 무관하게 세운 가정: 인기도가 높을수록 가수가 성공할 확률이 높을 것이기 때문에, 인기도가 top-100에 영향을 줄 것이다."
      ],
      "metadata": {
        "id": "AW1tKXliUTP9"
      }
    },
    {
      "cell_type": "markdown",
      "source": [
        "### **1) spotify 추가 전처리**\n",
        "널값 및 사용하지 않는 열 모두 삭제하기"
      ],
      "metadata": {
        "id": "iJuRDLX6O2z9"
      }
    },
    {
      "cell_type": "code",
      "source": [
        "display(spotify)"
      ],
      "metadata": {
        "colab": {
          "base_uri": "https://localhost:8080/",
          "height": 797
        },
        "id": "0qyXy5DYJR_R",
        "outputId": "115826df-24e6-47c0-90f4-36a29a915b72"
      },
      "execution_count": null,
      "outputs": [
        {
          "output_type": "display_data",
          "data": {
            "text/plain": [
              "            id              artist  \\\n",
              "0       600808               Drake   \n",
              "1       600808               Drake   \n",
              "2       600808               Drake   \n",
              "3       600808               Drake   \n",
              "4       600808               Drake   \n",
              "...        ...                 ...   \n",
              "13834  1418260          Unreqvited   \n",
              "13835   844823  Show Me a Dinosaur   \n",
              "13836  1796328              Flovry   \n",
              "13837   121805            The Bled   \n",
              "13838    11473          Primordial   \n",
              "\n",
              "                                                  genres  popularity  \\\n",
              "0      ['canadian hip hop', 'canadian pop', 'hip hop'...        98.0   \n",
              "1      ['canadian hip hop', 'canadian pop', 'hip hop'...        98.0   \n",
              "2      ['canadian hip hop', 'canadian pop', 'hip hop'...        98.0   \n",
              "3      ['canadian hip hop', 'canadian pop', 'hip hop'...        98.0   \n",
              "4      ['canadian hip hop', 'canadian pop', 'hip hop'...        98.0   \n",
              "...                                                  ...         ...   \n",
              "13834  ['atmospheric black metal', 'canadian black me...        32.0   \n",
              "13835  ['instrumental post-rock', 'post-rock', 'russi...        31.0   \n",
              "13836                                    ['lo-fi beats']        53.0   \n",
              "13837  ['arizona punk', 'melodic metalcore', 'post-ha...        32.0   \n",
              "13838  ['black metal', 'celtic metal', 'doom metal', ...        37.0   \n",
              "\n",
              "        followers   pop_mean   rel_mean      fol_mean        date  rank  \\\n",
              "0      61377383.0  81.377358  53.075472  1.100285e+07  2021-11-06  91.0   \n",
              "1      61377383.0  81.377358  53.075472  1.100285e+07  2021-10-02  30.0   \n",
              "2      61377383.0  81.377358  53.075472  1.100285e+07  2021-10-02  40.0   \n",
              "3      61377383.0  81.377358  53.075472  1.100285e+07  2021-10-02  48.0   \n",
              "4      61377383.0  81.377358  53.075472  1.100285e+07  2021-10-02  66.0   \n",
              "...           ...        ...        ...           ...         ...   ...   \n",
              "13834     20071.0  33.500000   3.500000  1.870100e+04         NaN   NaN   \n",
              "13835     10235.0  34.000000   4.500000  2.361900e+04         NaN   NaN   \n",
              "13836      7478.0  62.000000   2.000000  5.242000e+03         NaN   NaN   \n",
              "13837     33531.0  56.000000   8.000000  3.298930e+05         NaN   NaN   \n",
              "13838     64127.0  53.000000  11.000000  2.853120e+05         NaN   NaN   \n",
              "\n",
              "       weeks-on-board top100  \n",
              "0                 8.0    Yes  \n",
              "1                 3.0    Yes  \n",
              "2                 3.0    Yes  \n",
              "3                 3.0    Yes  \n",
              "4                 3.0    Yes  \n",
              "...               ...    ...  \n",
              "13834             NaN     No  \n",
              "13835             NaN     No  \n",
              "13836             NaN     No  \n",
              "13837             NaN     No  \n",
              "13838             NaN     No  \n",
              "\n",
              "[13839 rows x 12 columns]"
            ],
            "text/html": [
              "\n",
              "  <div id=\"df-6324ddd5-4ed9-4902-85a7-46bc36c73991\">\n",
              "    <div class=\"colab-df-container\">\n",
              "      <div>\n",
              "<style scoped>\n",
              "    .dataframe tbody tr th:only-of-type {\n",
              "        vertical-align: middle;\n",
              "    }\n",
              "\n",
              "    .dataframe tbody tr th {\n",
              "        vertical-align: top;\n",
              "    }\n",
              "\n",
              "    .dataframe thead th {\n",
              "        text-align: right;\n",
              "    }\n",
              "</style>\n",
              "<table border=\"1\" class=\"dataframe\">\n",
              "  <thead>\n",
              "    <tr style=\"text-align: right;\">\n",
              "      <th></th>\n",
              "      <th>id</th>\n",
              "      <th>artist</th>\n",
              "      <th>genres</th>\n",
              "      <th>popularity</th>\n",
              "      <th>followers</th>\n",
              "      <th>pop_mean</th>\n",
              "      <th>rel_mean</th>\n",
              "      <th>fol_mean</th>\n",
              "      <th>date</th>\n",
              "      <th>rank</th>\n",
              "      <th>weeks-on-board</th>\n",
              "      <th>top100</th>\n",
              "    </tr>\n",
              "  </thead>\n",
              "  <tbody>\n",
              "    <tr>\n",
              "      <th>0</th>\n",
              "      <td>600808</td>\n",
              "      <td>Drake</td>\n",
              "      <td>['canadian hip hop', 'canadian pop', 'hip hop'...</td>\n",
              "      <td>98.0</td>\n",
              "      <td>61377383.0</td>\n",
              "      <td>81.377358</td>\n",
              "      <td>53.075472</td>\n",
              "      <td>1.100285e+07</td>\n",
              "      <td>2021-11-06</td>\n",
              "      <td>91.0</td>\n",
              "      <td>8.0</td>\n",
              "      <td>Yes</td>\n",
              "    </tr>\n",
              "    <tr>\n",
              "      <th>1</th>\n",
              "      <td>600808</td>\n",
              "      <td>Drake</td>\n",
              "      <td>['canadian hip hop', 'canadian pop', 'hip hop'...</td>\n",
              "      <td>98.0</td>\n",
              "      <td>61377383.0</td>\n",
              "      <td>81.377358</td>\n",
              "      <td>53.075472</td>\n",
              "      <td>1.100285e+07</td>\n",
              "      <td>2021-10-02</td>\n",
              "      <td>30.0</td>\n",
              "      <td>3.0</td>\n",
              "      <td>Yes</td>\n",
              "    </tr>\n",
              "    <tr>\n",
              "      <th>2</th>\n",
              "      <td>600808</td>\n",
              "      <td>Drake</td>\n",
              "      <td>['canadian hip hop', 'canadian pop', 'hip hop'...</td>\n",
              "      <td>98.0</td>\n",
              "      <td>61377383.0</td>\n",
              "      <td>81.377358</td>\n",
              "      <td>53.075472</td>\n",
              "      <td>1.100285e+07</td>\n",
              "      <td>2021-10-02</td>\n",
              "      <td>40.0</td>\n",
              "      <td>3.0</td>\n",
              "      <td>Yes</td>\n",
              "    </tr>\n",
              "    <tr>\n",
              "      <th>3</th>\n",
              "      <td>600808</td>\n",
              "      <td>Drake</td>\n",
              "      <td>['canadian hip hop', 'canadian pop', 'hip hop'...</td>\n",
              "      <td>98.0</td>\n",
              "      <td>61377383.0</td>\n",
              "      <td>81.377358</td>\n",
              "      <td>53.075472</td>\n",
              "      <td>1.100285e+07</td>\n",
              "      <td>2021-10-02</td>\n",
              "      <td>48.0</td>\n",
              "      <td>3.0</td>\n",
              "      <td>Yes</td>\n",
              "    </tr>\n",
              "    <tr>\n",
              "      <th>4</th>\n",
              "      <td>600808</td>\n",
              "      <td>Drake</td>\n",
              "      <td>['canadian hip hop', 'canadian pop', 'hip hop'...</td>\n",
              "      <td>98.0</td>\n",
              "      <td>61377383.0</td>\n",
              "      <td>81.377358</td>\n",
              "      <td>53.075472</td>\n",
              "      <td>1.100285e+07</td>\n",
              "      <td>2021-10-02</td>\n",
              "      <td>66.0</td>\n",
              "      <td>3.0</td>\n",
              "      <td>Yes</td>\n",
              "    </tr>\n",
              "    <tr>\n",
              "      <th>...</th>\n",
              "      <td>...</td>\n",
              "      <td>...</td>\n",
              "      <td>...</td>\n",
              "      <td>...</td>\n",
              "      <td>...</td>\n",
              "      <td>...</td>\n",
              "      <td>...</td>\n",
              "      <td>...</td>\n",
              "      <td>...</td>\n",
              "      <td>...</td>\n",
              "      <td>...</td>\n",
              "      <td>...</td>\n",
              "    </tr>\n",
              "    <tr>\n",
              "      <th>13834</th>\n",
              "      <td>1418260</td>\n",
              "      <td>Unreqvited</td>\n",
              "      <td>['atmospheric black metal', 'canadian black me...</td>\n",
              "      <td>32.0</td>\n",
              "      <td>20071.0</td>\n",
              "      <td>33.500000</td>\n",
              "      <td>3.500000</td>\n",
              "      <td>1.870100e+04</td>\n",
              "      <td>NaN</td>\n",
              "      <td>NaN</td>\n",
              "      <td>NaN</td>\n",
              "      <td>No</td>\n",
              "    </tr>\n",
              "    <tr>\n",
              "      <th>13835</th>\n",
              "      <td>844823</td>\n",
              "      <td>Show Me a Dinosaur</td>\n",
              "      <td>['instrumental post-rock', 'post-rock', 'russi...</td>\n",
              "      <td>31.0</td>\n",
              "      <td>10235.0</td>\n",
              "      <td>34.000000</td>\n",
              "      <td>4.500000</td>\n",
              "      <td>2.361900e+04</td>\n",
              "      <td>NaN</td>\n",
              "      <td>NaN</td>\n",
              "      <td>NaN</td>\n",
              "      <td>No</td>\n",
              "    </tr>\n",
              "    <tr>\n",
              "      <th>13836</th>\n",
              "      <td>1796328</td>\n",
              "      <td>Flovry</td>\n",
              "      <td>['lo-fi beats']</td>\n",
              "      <td>53.0</td>\n",
              "      <td>7478.0</td>\n",
              "      <td>62.000000</td>\n",
              "      <td>2.000000</td>\n",
              "      <td>5.242000e+03</td>\n",
              "      <td>NaN</td>\n",
              "      <td>NaN</td>\n",
              "      <td>NaN</td>\n",
              "      <td>No</td>\n",
              "    </tr>\n",
              "    <tr>\n",
              "      <th>13837</th>\n",
              "      <td>121805</td>\n",
              "      <td>The Bled</td>\n",
              "      <td>['arizona punk', 'melodic metalcore', 'post-ha...</td>\n",
              "      <td>32.0</td>\n",
              "      <td>33531.0</td>\n",
              "      <td>56.000000</td>\n",
              "      <td>8.000000</td>\n",
              "      <td>3.298930e+05</td>\n",
              "      <td>NaN</td>\n",
              "      <td>NaN</td>\n",
              "      <td>NaN</td>\n",
              "      <td>No</td>\n",
              "    </tr>\n",
              "    <tr>\n",
              "      <th>13838</th>\n",
              "      <td>11473</td>\n",
              "      <td>Primordial</td>\n",
              "      <td>['black metal', 'celtic metal', 'doom metal', ...</td>\n",
              "      <td>37.0</td>\n",
              "      <td>64127.0</td>\n",
              "      <td>53.000000</td>\n",
              "      <td>11.000000</td>\n",
              "      <td>2.853120e+05</td>\n",
              "      <td>NaN</td>\n",
              "      <td>NaN</td>\n",
              "      <td>NaN</td>\n",
              "      <td>No</td>\n",
              "    </tr>\n",
              "  </tbody>\n",
              "</table>\n",
              "<p>13839 rows × 12 columns</p>\n",
              "</div>\n",
              "      <button class=\"colab-df-convert\" onclick=\"convertToInteractive('df-6324ddd5-4ed9-4902-85a7-46bc36c73991')\"\n",
              "              title=\"Convert this dataframe to an interactive table.\"\n",
              "              style=\"display:none;\">\n",
              "        \n",
              "  <svg xmlns=\"http://www.w3.org/2000/svg\" height=\"24px\"viewBox=\"0 0 24 24\"\n",
              "       width=\"24px\">\n",
              "    <path d=\"M0 0h24v24H0V0z\" fill=\"none\"/>\n",
              "    <path d=\"M18.56 5.44l.94 2.06.94-2.06 2.06-.94-2.06-.94-.94-2.06-.94 2.06-2.06.94zm-11 1L8.5 8.5l.94-2.06 2.06-.94-2.06-.94L8.5 2.5l-.94 2.06-2.06.94zm10 10l.94 2.06.94-2.06 2.06-.94-2.06-.94-.94-2.06-.94 2.06-2.06.94z\"/><path d=\"M17.41 7.96l-1.37-1.37c-.4-.4-.92-.59-1.43-.59-.52 0-1.04.2-1.43.59L10.3 9.45l-7.72 7.72c-.78.78-.78 2.05 0 2.83L4 21.41c.39.39.9.59 1.41.59.51 0 1.02-.2 1.41-.59l7.78-7.78 2.81-2.81c.8-.78.8-2.07 0-2.86zM5.41 20L4 18.59l7.72-7.72 1.47 1.35L5.41 20z\"/>\n",
              "  </svg>\n",
              "      </button>\n",
              "      \n",
              "  <style>\n",
              "    .colab-df-container {\n",
              "      display:flex;\n",
              "      flex-wrap:wrap;\n",
              "      gap: 12px;\n",
              "    }\n",
              "\n",
              "    .colab-df-convert {\n",
              "      background-color: #E8F0FE;\n",
              "      border: none;\n",
              "      border-radius: 50%;\n",
              "      cursor: pointer;\n",
              "      display: none;\n",
              "      fill: #1967D2;\n",
              "      height: 32px;\n",
              "      padding: 0 0 0 0;\n",
              "      width: 32px;\n",
              "    }\n",
              "\n",
              "    .colab-df-convert:hover {\n",
              "      background-color: #E2EBFA;\n",
              "      box-shadow: 0px 1px 2px rgba(60, 64, 67, 0.3), 0px 1px 3px 1px rgba(60, 64, 67, 0.15);\n",
              "      fill: #174EA6;\n",
              "    }\n",
              "\n",
              "    [theme=dark] .colab-df-convert {\n",
              "      background-color: #3B4455;\n",
              "      fill: #D2E3FC;\n",
              "    }\n",
              "\n",
              "    [theme=dark] .colab-df-convert:hover {\n",
              "      background-color: #434B5C;\n",
              "      box-shadow: 0px 1px 3px 1px rgba(0, 0, 0, 0.15);\n",
              "      filter: drop-shadow(0px 1px 2px rgba(0, 0, 0, 0.3));\n",
              "      fill: #FFFFFF;\n",
              "    }\n",
              "  </style>\n",
              "\n",
              "      <script>\n",
              "        const buttonEl =\n",
              "          document.querySelector('#df-6324ddd5-4ed9-4902-85a7-46bc36c73991 button.colab-df-convert');\n",
              "        buttonEl.style.display =\n",
              "          google.colab.kernel.accessAllowed ? 'block' : 'none';\n",
              "\n",
              "        async function convertToInteractive(key) {\n",
              "          const element = document.querySelector('#df-6324ddd5-4ed9-4902-85a7-46bc36c73991');\n",
              "          const dataTable =\n",
              "            await google.colab.kernel.invokeFunction('convertToInteractive',\n",
              "                                                     [key], {});\n",
              "          if (!dataTable) return;\n",
              "\n",
              "          const docLinkHtml = 'Like what you see? Visit the ' +\n",
              "            '<a target=\"_blank\" href=https://colab.research.google.com/notebooks/data_table.ipynb>data table notebook</a>'\n",
              "            + ' to learn more about interactive tables.';\n",
              "          element.innerHTML = '';\n",
              "          dataTable['output_type'] = 'display_data';\n",
              "          await google.colab.output.renderOutput(dataTable, element);\n",
              "          const docLink = document.createElement('div');\n",
              "          docLink.innerHTML = docLinkHtml;\n",
              "          element.appendChild(docLink);\n",
              "        }\n",
              "      </script>\n",
              "    </div>\n",
              "  </div>\n",
              "  "
            ]
          },
          "metadata": {}
        }
      ]
    },
    {
      "cell_type": "code",
      "source": [
        "print(spotify.isnull().sum())"
      ],
      "metadata": {
        "colab": {
          "base_uri": "https://localhost:8080/"
        },
        "id": "nRrgfisuL5sD",
        "outputId": "51d3b008-21fa-4a6b-e292-9ea5e7c582b8"
      },
      "execution_count": null,
      "outputs": [
        {
          "output_type": "stream",
          "name": "stdout",
          "text": [
            "id                    0\n",
            "artist                0\n",
            "genres                0\n",
            "popularity            0\n",
            "followers             0\n",
            "pop_mean              0\n",
            "rel_mean              0\n",
            "fol_mean              0\n",
            "date              12741\n",
            "rank              12741\n",
            "weeks-on-board    12741\n",
            "top100                0\n",
            "dtype: int64\n"
          ]
        }
      ]
    },
    {
      "cell_type": "code",
      "source": [
        "# 결측치 열 전체 삭제\n",
        "spotify = spotify.dropna(axis=1)   #열삭제의 경우 axis =1 \n",
        "print(\"결측열 모두 제거: \", spotify.shape)    # 결측치 모두 없어졌는지 확인\n",
        "\n",
        "print(spotify.isnull().sum())"
      ],
      "metadata": {
        "colab": {
          "base_uri": "https://localhost:8080/"
        },
        "id": "rsdY_r3BMQ8F",
        "outputId": "9f51ecfd-4530-4bf9-d52c-72ff26bb09ec"
      },
      "execution_count": null,
      "outputs": [
        {
          "output_type": "stream",
          "name": "stdout",
          "text": [
            "결측열 모두 제거:  (13839, 9)\n",
            "id            0\n",
            "artist        0\n",
            "genres        0\n",
            "popularity    0\n",
            "followers     0\n",
            "pop_mean      0\n",
            "rel_mean      0\n",
            "fol_mean      0\n",
            "top100        0\n",
            "dtype: int64\n"
          ]
        }
      ]
    },
    {
      "cell_type": "code",
      "source": [
        "display(spotify.info())"
      ],
      "metadata": {
        "colab": {
          "base_uri": "https://localhost:8080/",
          "height": 326
        },
        "id": "ccpChxWPJjxe",
        "outputId": "20bfd829-8c47-44c3-9d92-7ade8058b1e2"
      },
      "execution_count": null,
      "outputs": [
        {
          "output_type": "stream",
          "name": "stdout",
          "text": [
            "<class 'pandas.core.frame.DataFrame'>\n",
            "Int64Index: 13839 entries, 0 to 13838\n",
            "Data columns (total 9 columns):\n",
            " #   Column      Non-Null Count  Dtype  \n",
            "---  ------      --------------  -----  \n",
            " 0   id          13839 non-null  int64  \n",
            " 1   artist      13839 non-null  object \n",
            " 2   genres      13839 non-null  object \n",
            " 3   popularity  13839 non-null  float64\n",
            " 4   followers   13839 non-null  float64\n",
            " 5   pop_mean    13839 non-null  float64\n",
            " 6   rel_mean    13839 non-null  float64\n",
            " 7   fol_mean    13839 non-null  float64\n",
            " 8   top100      13839 non-null  object \n",
            "dtypes: float64(5), int64(1), object(3)\n",
            "memory usage: 1.1+ MB\n"
          ]
        },
        {
          "output_type": "display_data",
          "data": {
            "text/plain": [
              "None"
            ]
          },
          "metadata": {}
        }
      ]
    },
    {
      "cell_type": "code",
      "source": [
        "print(spotify['top100'].value_counts())\n",
        "\n",
        "spotify['top100'].value_counts().plot.bar()\n",
        "plt.ylabel('count')\n",
        "plt.title('Distribution of top100')\n",
        "plt.show()"
      ],
      "metadata": {
        "colab": {
          "base_uri": "https://localhost:8080/",
          "height": 341
        },
        "id": "kOWFWdgFKxyu",
        "outputId": "3bb316f3-d4ec-438b-e9a8-e2de28ddf0e3"
      },
      "execution_count": null,
      "outputs": [
        {
          "output_type": "stream",
          "name": "stdout",
          "text": [
            "No     12741\n",
            "Yes     1098\n",
            "Name: top100, dtype: int64\n"
          ]
        },
        {
          "output_type": "display_data",
          "data": {
            "text/plain": [
              "<Figure size 432x288 with 1 Axes>"
            ],
            "image/png": "[encoded data removed]"
          },
          "metadata": {
            "needs_background": "light"
          }
        }
      ]
    },
    {
      "cell_type": "markdown",
      "source": [
        "### **2) 의사결정나무 모델** ###\n"
      ],
      "metadata": {
        "id": "VQzdP-8uPUi4"
      }
    },
    {
      "cell_type": "code",
      "source": [
        "from sklearn.tree import DecisionTreeClassifier\n",
        "from sklearn.model_selection import train_test_split\n",
        "\n",
        "X = spotify.iloc[:, [3, 4, 5, 6, 7]]  # 5개 변수 \n",
        "y = spotify.iloc[:, 8]   # top-100으로 설정\n",
        "\n",
        "# 데이터셋을 학습(train)과 테스트(test) 세트로 분할\n",
        "# random_state : random 으로 분할시 사용되는 난수 seed 숫자\n",
        "#X_train, X_test, y_train, y_test = train_test_split(X, y, test_size = 0.25, stratify=y, random_state=42)\n",
        "\n",
        "X_train, X_test, y_train, y_test = train_test_split(X, y, test_size = 0.25, random_state=42)\n",
        "\n",
        "tree = DecisionTreeClassifier(class_weight = \"balanced\", random_state=0)   #데이터 균형 맞춰주기\n",
        "tree.fit(X_train, y_train)  #(학습용 데이터 작성)\n",
        "print(\"학습용 데이터 정확도: {:.3f}\".format(tree.score(X_train, y_train)))\n",
        "print(\"시험용 데이터 정확도: {:.3f}\".format(tree.score(X_test, y_test)))"
      ],
      "metadata": {
        "colab": {
          "base_uri": "https://localhost:8080/"
        },
        "id": "cmk6umHkDh-x",
        "outputId": "96cdcd22-ee6a-4b90-96ee-ee636c7d5e72"
      },
      "execution_count": null,
      "outputs": [
        {
          "output_type": "stream",
          "name": "stdout",
          "text": [
            "학습용 데이터 정확도: 1.000\n",
            "시험용 데이터 정확도: 0.988\n"
          ]
        }
      ]
    },
    {
      "cell_type": "code",
      "source": [
        "# 의사결정나무의 깊이를 4로 제한하면 시험용 데이터에 대한 성능이 향상됨 (과적합을 줄임)\n",
        "#가중치 고려, 해당 모델 선택\n",
        "tree = DecisionTreeClassifier(class_weight = \"balanced\", max_depth=4, random_state=0)\n",
        "tree.fit(X_train, y_train)\n",
        "\n",
        "print(\"학습용 데이터 정확도: {:.3f}\".format(tree.score(X_train, y_train)))\n",
        "print(\"시험용 데이터 정확도: {:.3f}\".format(tree.score(X_test, y_test)))"
      ],
      "metadata": {
        "colab": {
          "base_uri": "https://localhost:8080/"
        },
        "id": "2QY9fSSwNGr7",
        "outputId": "7ce063bc-ad5e-4a69-90cf-92839007f7d1"
      },
      "execution_count": null,
      "outputs": [
        {
          "output_type": "stream",
          "name": "stdout",
          "text": [
            "학습용 데이터 정확도: 0.915\n",
            "시험용 데이터 정확도: 0.912\n"
          ]
        }
      ]
    },
    {
      "cell_type": "code",
      "source": [
        "#graphviz 라이브러리를 이용하여 의사결정나무 그리기 \n",
        "from sklearn.tree import export_graphviz\n",
        "import graphviz\n",
        "\n",
        "# filled = True: 색상의 진하기로 클래스를 나타냄, impurity: 불순도 계산값 보여주기 옵션\n",
        "export_graphviz(tree, out_file=\"tree.dot\", class_names=[ \"Top-100 No\", \"Top-100 Yes\"],\n",
        "                feature_names=spotify.columns[[3, 4, 5, 6, 7]], impurity=False, filled=True)\n",
        "\n",
        "with open(\"tree.dot\") as f:\n",
        "    dot_graph = f.read()\n",
        "\n",
        "display(graphviz.Source(dot_graph))\n",
        "\n",
        "#(어떤 순서로 중요한지 확인 가능)"
      ],
      "metadata": {
        "colab": {
          "base_uri": "https://localhost:8080/",
          "height": 676
        },
        "id": "CwMJihQANIlC",
        "outputId": "52dac042-9a31-4fed-f13d-072922d763ff"
      },
      "execution_count": null,
      "outputs": [
        {
          "output_type": "display_data",
          "data": {
            "text/plain": [
              "<graphviz.files.Source at 0x7f210497c3d0>"
            ],
            "image/svg+xml": "<?xml version=\"1.0\" encoding=\"UTF-8\" standalone=\"no\"?>\n<!DOCTYPE svg PUBLIC \"-//W3C//DTD SVG 1.1//EN\"\n \"http://www.w3.org/Graphics/SVG/1.1/DTD/svg11.dtd\">\n<!-- Generated by graphviz version 2.40.1 (20161225.0304)\n -->\n<!-- Title: Tree Pages: 1 -->\n<svg width=\"2627pt\" height=\"477pt\"\n viewBox=\"0.00 0.00 2626.50 477.00\" xmlns=\"http://www.w3.org/2000/svg\" xmlns:xlink=\"http://www.w3.org/1999/xlink\">\n<g id=\"graph0\" class=\"graph\" transform=\"scale(1 1) rotate(0) translate(4 473)\">\n<title>Tree</title>\n<polygon fill=\"#ffffff\" stroke=\"transparent\" points=\"-4,4 -4,-473 2622.5,-473 2622.5,4 -4,4\"/>\n<!-- 0 -->\n<g id=\"node1\" class=\"node\">\n<title>0</title>\n<polygon fill=\"#ffffff\" stroke=\"#000000\" points=\"1193,-469 1020,-469 1020,-401 1193,-401 1193,-469\"/>\n<text text-anchor=\"middle\" x=\"1106.5\" y=\"-453.8\" font-family=\"Helvetica,sans-Serif\" font-size=\"14.00\" fill=\"#000000\">popularity &lt;= 69.5</text>\n<text text-anchor=\"middle\" x=\"1106.5\" y=\"-438.8\" font-family=\"Helvetica,sans-Serif\" font-size=\"14.00\" fill=\"#000000\">samples = 10379</text>\n<text text-anchor=\"middle\" x=\"1106.5\" y=\"-423.8\" font-family=\"Helvetica,sans-Serif\" font-size=\"14.00\" fill=\"#000000\">value = [5189.5, 5189.5]</text>\n<text text-anchor=\"middle\" x=\"1106.5\" y=\"-408.8\" font-family=\"Helvetica,sans-Serif\" font-size=\"14.00\" fill=\"#000000\">class = Top&#45;100 Yes</text>\n</g>\n<!-- 1 -->\n<g id=\"node2\" class=\"node\">\n<title>1</title>\n<polygon fill=\"#e78945\" stroke=\"#000000\" points=\"939,-365 742,-365 742,-297 939,-297 939,-365\"/>\n<text text-anchor=\"middle\" x=\"840.5\" y=\"-349.8\" font-family=\"Helvetica,sans-Serif\" font-size=\"14.00\" fill=\"#000000\">pop_mean &lt;= 79.933</text>\n<text text-anchor=\"middle\" x=\"840.5\" y=\"-334.8\" font-family=\"Helvetica,sans-Serif\" font-size=\"14.00\" fill=\"#000000\">samples = 8747</text>\n<text text-anchor=\"middle\" x=\"840.5\" y=\"-319.8\" font-family=\"Helvetica,sans-Serif\" font-size=\"14.00\" fill=\"#000000\">value = [4723.205, 291.474]</text>\n<text text-anchor=\"middle\" x=\"840.5\" y=\"-304.8\" font-family=\"Helvetica,sans-Serif\" font-size=\"14.00\" fill=\"#000000\">class = Top&#45;100 No</text>\n</g>\n<!-- 0&#45;&gt;1 -->\n<g id=\"edge1\" class=\"edge\">\n<title>0&#45;&gt;1</title>\n<path fill=\"none\" stroke=\"#000000\" d=\"M1019.7697,-401.0904C993.324,-390.7507 964.09,-379.3209 937.0372,-368.7439\"/>\n<polygon fill=\"#000000\" stroke=\"#000000\" points=\"938.1554,-365.4231 927.5674,-365.0414 935.6064,-371.9425 938.1554,-365.4231\"/>\n<text text-anchor=\"middle\" x=\"937.5944\" y=\"-384.2425\" font-family=\"Helvetica,sans-Serif\" font-size=\"14.00\" fill=\"#000000\">True</text>\n</g>\n<!-- 14 -->\n<g id=\"node15\" class=\"node\">\n<title>14</title>\n<polygon fill=\"#4ca6e7\" stroke=\"#000000\" points=\"1585,-365 1388,-365 1388,-297 1585,-297 1585,-365\"/>\n<text text-anchor=\"middle\" x=\"1486.5\" y=\"-349.8\" font-family=\"Helvetica,sans-Serif\" font-size=\"14.00\" fill=\"#000000\">popularity &lt;= 77.5</text>\n<text text-anchor=\"middle\" x=\"1486.5\" y=\"-334.8\" font-family=\"Helvetica,sans-Serif\" font-size=\"14.00\" fill=\"#000000\">samples = 1632</text>\n<text text-anchor=\"middle\" x=\"1486.5\" y=\"-319.8\" font-family=\"Helvetica,sans-Serif\" font-size=\"14.00\" fill=\"#000000\">value = [466.295, 4898.026]</text>\n<text text-anchor=\"middle\" x=\"1486.5\" y=\"-304.8\" font-family=\"Helvetica,sans-Serif\" font-size=\"14.00\" fill=\"#000000\">class = Top&#45;100 Yes</text>\n</g>\n<!-- 0&#45;&gt;14 -->\n<g id=\"edge14\" class=\"edge\">\n<title>0&#45;&gt;14</title>\n<path fill=\"none\" stroke=\"#000000\" d=\"M1193.2034,-411.2707C1248.0865,-396.25 1319.491,-376.7077 1378.104,-360.6663\"/>\n<polygon fill=\"#000000\" stroke=\"#000000\" points=\"1379.0476,-364.0368 1387.769,-358.0211 1377.1997,-357.2851 1379.0476,-364.0368\"/>\n<text text-anchor=\"middle\" x=\"1375.3848\" y=\"-376.0382\" font-family=\"Helvetica,sans-Serif\" font-size=\"14.00\" fill=\"#000000\">False</text>\n</g>\n<!-- 2 -->\n<g id=\"node3\" class=\"node\">\n<title>2</title>\n<polygon fill=\"#e68640\" stroke=\"#000000\" points=\"651,-261 454,-261 454,-193 651,-193 651,-261\"/>\n<text text-anchor=\"middle\" x=\"552.5\" y=\"-245.8\" font-family=\"Helvetica,sans-Serif\" font-size=\"14.00\" fill=\"#000000\">popularity &lt;= 63.5</text>\n<text text-anchor=\"middle\" x=\"552.5\" y=\"-230.8\" font-family=\"Helvetica,sans-Serif\" font-size=\"14.00\" fill=\"#000000\">samples = 8556</text>\n<text text-anchor=\"middle\" x=\"552.5\" y=\"-215.8\" font-family=\"Helvetica,sans-Serif\" font-size=\"14.00\" fill=\"#000000\">value = [4629.837, 171.082]</text>\n<text text-anchor=\"middle\" x=\"552.5\" y=\"-200.8\" font-family=\"Helvetica,sans-Serif\" font-size=\"14.00\" fill=\"#000000\">class = Top&#45;100 No</text>\n</g>\n<!-- 1&#45;&gt;2 -->\n<g id=\"edge2\" class=\"edge\">\n<title>1&#45;&gt;2</title>\n<path fill=\"none\" stroke=\"#000000\" d=\"M746.198,-296.9465C717.4805,-286.5763 685.7573,-275.1207 656.4408,-264.5342\"/>\n<polygon fill=\"#000000\" stroke=\"#000000\" points=\"657.6082,-261.2346 647.0138,-261.13 655.2306,-267.8184 657.6082,-261.2346\"/>\n</g>\n<!-- 9 -->\n<g id=\"node10\" class=\"node\">\n<title>9</title>\n<polygon fill=\"#d3e9f9\" stroke=\"#000000\" points=\"931,-261 750,-261 750,-193 931,-193 931,-261\"/>\n<text text-anchor=\"middle\" x=\"840.5\" y=\"-245.8\" font-family=\"Helvetica,sans-Serif\" font-size=\"14.00\" fill=\"#000000\">popularity &lt;= 54.5</text>\n<text text-anchor=\"middle\" x=\"840.5\" y=\"-230.8\" font-family=\"Helvetica,sans-Serif\" font-size=\"14.00\" fill=\"#000000\">samples = 191</text>\n<text text-anchor=\"middle\" x=\"840.5\" y=\"-215.8\" font-family=\"Helvetica,sans-Serif\" font-size=\"14.00\" fill=\"#000000\">value = [93.368, 120.391]</text>\n<text text-anchor=\"middle\" x=\"840.5\" y=\"-200.8\" font-family=\"Helvetica,sans-Serif\" font-size=\"14.00\" fill=\"#000000\">class = Top&#45;100 Yes</text>\n</g>\n<!-- 1&#45;&gt;9 -->\n<g id=\"edge9\" class=\"edge\">\n<title>1&#45;&gt;9</title>\n<path fill=\"none\" stroke=\"#000000\" d=\"M840.5,-296.9465C840.5,-288.776 840.5,-279.9318 840.5,-271.3697\"/>\n<polygon fill=\"#000000\" stroke=\"#000000\" points=\"844.0001,-271.13 840.5,-261.13 837.0001,-271.13 844.0001,-271.13\"/>\n</g>\n<!-- 3 -->\n<g id=\"node4\" class=\"node\">\n<title>3</title>\n<polygon fill=\"#e5823b\" stroke=\"#000000\" points=\"388,-157 199,-157 199,-89 388,-89 388,-157\"/>\n<text text-anchor=\"middle\" x=\"293.5\" y=\"-141.8\" font-family=\"Helvetica,sans-Serif\" font-size=\"14.00\" fill=\"#000000\">rel_mean &lt;= 220.062</text>\n<text text-anchor=\"middle\" x=\"293.5\" y=\"-126.8\" font-family=\"Helvetica,sans-Serif\" font-size=\"14.00\" fill=\"#000000\">samples = 7663</text>\n<text text-anchor=\"middle\" x=\"293.5\" y=\"-111.8\" font-family=\"Helvetica,sans-Serif\" font-size=\"14.00\" fill=\"#000000\">value = [4156.486, 38.018]</text>\n<text text-anchor=\"middle\" x=\"293.5\" y=\"-96.8\" font-family=\"Helvetica,sans-Serif\" font-size=\"14.00\" fill=\"#000000\">class = Top&#45;100 No</text>\n</g>\n<!-- 2&#45;&gt;3 -->\n<g id=\"edge3\" class=\"edge\">\n<title>2&#45;&gt;3</title>\n<path fill=\"none\" stroke=\"#000000\" d=\"M467.6937,-192.9465C442.2033,-182.711 414.0796,-171.4181 388.0028,-160.9471\"/>\n<polygon fill=\"#000000\" stroke=\"#000000\" points=\"389.0809,-157.6084 378.4968,-157.13 386.4724,-164.1043 389.0809,-157.6084\"/>\n</g>\n<!-- 6 -->\n<g id=\"node7\" class=\"node\">\n<title>6</title>\n<polygon fill=\"#eca471\" stroke=\"#000000\" points=\"647,-157 458,-157 458,-89 647,-89 647,-157\"/>\n<text text-anchor=\"middle\" x=\"552.5\" y=\"-141.8\" font-family=\"Helvetica,sans-Serif\" font-size=\"14.00\" fill=\"#000000\">rel_mean &lt;= 127.967</text>\n<text text-anchor=\"middle\" x=\"552.5\" y=\"-126.8\" font-family=\"Helvetica,sans-Serif\" font-size=\"14.00\" fill=\"#000000\">samples = 893</text>\n<text text-anchor=\"middle\" x=\"552.5\" y=\"-111.8\" font-family=\"Helvetica,sans-Serif\" font-size=\"14.00\" fill=\"#000000\">value = [473.352, 133.064]</text>\n<text text-anchor=\"middle\" x=\"552.5\" y=\"-96.8\" font-family=\"Helvetica,sans-Serif\" font-size=\"14.00\" fill=\"#000000\">class = Top&#45;100 No</text>\n</g>\n<!-- 2&#45;&gt;6 -->\n<g id=\"edge6\" class=\"edge\">\n<title>2&#45;&gt;6</title>\n<path fill=\"none\" stroke=\"#000000\" d=\"M552.5,-192.9465C552.5,-184.776 552.5,-175.9318 552.5,-167.3697\"/>\n<polygon fill=\"#000000\" stroke=\"#000000\" points=\"556.0001,-167.13 552.5,-157.13 549.0001,-167.13 556.0001,-167.13\"/>\n</g>\n<!-- 4 -->\n<g id=\"node5\" class=\"node\">\n<title>4</title>\n<polygon fill=\"#e5813a\" stroke=\"#000000\" points=\"189,-53 0,-53 0,0 189,0 189,-53\"/>\n<text text-anchor=\"middle\" x=\"94.5\" y=\"-37.8\" font-family=\"Helvetica,sans-Serif\" font-size=\"14.00\" fill=\"#000000\">samples = 7524</text>\n<text text-anchor=\"middle\" x=\"94.5\" y=\"-22.8\" font-family=\"Helvetica,sans-Serif\" font-size=\"14.00\" fill=\"#000000\">value = [4083.203, 12.673]</text>\n<text text-anchor=\"middle\" x=\"94.5\" y=\"-7.8\" font-family=\"Helvetica,sans-Serif\" font-size=\"14.00\" fill=\"#000000\">class = Top&#45;100 No</text>\n</g>\n<!-- 3&#45;&gt;4 -->\n<g id=\"edge4\" class=\"edge\">\n<title>3&#45;&gt;4</title>\n<path fill=\"none\" stroke=\"#000000\" d=\"M223.34,-88.9777C202.1877,-78.7204 179.0926,-67.521 158.3723,-57.4732\"/>\n<polygon fill=\"#000000\" stroke=\"#000000\" points=\"159.8687,-54.3091 149.3436,-53.095 156.8143,-60.6076 159.8687,-54.3091\"/>\n</g>\n<!-- 5 -->\n<g id=\"node6\" class=\"node\">\n<title>5</title>\n<polygon fill=\"#eead7d\" stroke=\"#000000\" points=\"380,-53 207,-53 207,0 380,0 380,-53\"/>\n<text text-anchor=\"middle\" x=\"293.5\" y=\"-37.8\" font-family=\"Helvetica,sans-Serif\" font-size=\"14.00\" fill=\"#000000\">samples = 139</text>\n<text text-anchor=\"middle\" x=\"293.5\" y=\"-22.8\" font-family=\"Helvetica,sans-Serif\" font-size=\"14.00\" fill=\"#000000\">value = [73.283, 25.346]</text>\n<text text-anchor=\"middle\" x=\"293.5\" y=\"-7.8\" font-family=\"Helvetica,sans-Serif\" font-size=\"14.00\" fill=\"#000000\">class = Top&#45;100 No</text>\n</g>\n<!-- 3&#45;&gt;5 -->\n<g id=\"edge5\" class=\"edge\">\n<title>3&#45;&gt;5</title>\n<path fill=\"none\" stroke=\"#000000\" d=\"M293.5,-88.9777C293.5,-80.7364 293.5,-71.887 293.5,-63.5153\"/>\n<polygon fill=\"#000000\" stroke=\"#000000\" points=\"297.0001,-63.2484 293.5,-53.2485 290.0001,-63.2485 297.0001,-63.2484\"/>\n</g>\n<!-- 7 -->\n<g id=\"node8\" class=\"node\">\n<title>7</title>\n<polygon fill=\"#e99457\" stroke=\"#000000\" points=\"562.5,-53 398.5,-53 398.5,0 562.5,0 562.5,-53\"/>\n<text text-anchor=\"middle\" x=\"480.5\" y=\"-37.8\" font-family=\"Helvetica,sans-Serif\" font-size=\"14.00\" fill=\"#000000\">samples = 850</text>\n<text text-anchor=\"middle\" x=\"480.5\" y=\"-22.8\" font-family=\"Helvetica,sans-Serif\" font-size=\"14.00\" fill=\"#000000\">value = [455.438, 69.7]</text>\n<text text-anchor=\"middle\" x=\"480.5\" y=\"-7.8\" font-family=\"Helvetica,sans-Serif\" font-size=\"14.00\" fill=\"#000000\">class = Top&#45;100 No</text>\n</g>\n<!-- 6&#45;&gt;7 -->\n<g id=\"edge7\" class=\"edge\">\n<title>6&#45;&gt;7</title>\n<path fill=\"none\" stroke=\"#000000\" d=\"M527.1155,-88.9777C520.42,-80.0039 513.1865,-70.3089 506.461,-61.295\"/>\n<polygon fill=\"#000000\" stroke=\"#000000\" points=\"509.2427,-59.1704 500.4574,-53.2485 503.6323,-63.3565 509.2427,-59.1704\"/>\n</g>\n<!-- 8 -->\n<g id=\"node9\" class=\"node\">\n<title>8</title>\n<polygon fill=\"#71b9ec\" stroke=\"#000000\" points=\"754,-53 581,-53 581,0 754,0 754,-53\"/>\n<text text-anchor=\"middle\" x=\"667.5\" y=\"-37.8\" font-family=\"Helvetica,sans-Serif\" font-size=\"14.00\" fill=\"#000000\">samples = 43</text>\n<text text-anchor=\"middle\" x=\"667.5\" y=\"-22.8\" font-family=\"Helvetica,sans-Serif\" font-size=\"14.00\" fill=\"#000000\">value = [17.914, 63.364]</text>\n<text text-anchor=\"middle\" x=\"667.5\" y=\"-7.8\" font-family=\"Helvetica,sans-Serif\" font-size=\"14.00\" fill=\"#000000\">class = Top&#45;100 Yes</text>\n</g>\n<!-- 6&#45;&gt;8 -->\n<g id=\"edge8\" class=\"edge\">\n<title>6&#45;&gt;8</title>\n<path fill=\"none\" stroke=\"#000000\" d=\"M593.0447,-88.9777C604.2845,-79.546 616.4736,-69.3178 627.6721,-59.9208\"/>\n<polygon fill=\"#000000\" stroke=\"#000000\" points=\"630.213,-62.3576 635.6236,-53.2485 625.7134,-56.9954 630.213,-62.3576\"/>\n</g>\n<!-- 10 -->\n<g id=\"node11\" class=\"node\">\n<title>10</title>\n<polygon fill=\"#e58139\" stroke=\"#000000\" points=\"863.5,-149.5 715.5,-149.5 715.5,-96.5 863.5,-96.5 863.5,-149.5\"/>\n<text text-anchor=\"middle\" x=\"789.5\" y=\"-134.3\" font-family=\"Helvetica,sans-Serif\" font-size=\"14.00\" fill=\"#000000\">samples = 87</text>\n<text text-anchor=\"middle\" x=\"789.5\" y=\"-119.3\" font-family=\"Helvetica,sans-Serif\" font-size=\"14.00\" fill=\"#000000\">value = [47.227, 0.0]</text>\n<text text-anchor=\"middle\" x=\"789.5\" y=\"-104.3\" font-family=\"Helvetica,sans-Serif\" font-size=\"14.00\" fill=\"#000000\">class = Top&#45;100 No</text>\n</g>\n<!-- 9&#45;&gt;10 -->\n<g id=\"edge10\" class=\"edge\">\n<title>9&#45;&gt;10</title>\n<path fill=\"none\" stroke=\"#000000\" d=\"M823.8007,-192.9465C818.3992,-181.9316 812.3971,-169.6922 806.9431,-158.5703\"/>\n<polygon fill=\"#000000\" stroke=\"#000000\" points=\"810.0614,-156.9797 802.5159,-149.5422 803.7764,-160.0618 810.0614,-156.9797\"/>\n</g>\n<!-- 11 -->\n<g id=\"node12\" class=\"node\">\n<title>11</title>\n<polygon fill=\"#85c3ef\" stroke=\"#000000\" points=\"1063,-157 882,-157 882,-89 1063,-89 1063,-157\"/>\n<text text-anchor=\"middle\" x=\"972.5\" y=\"-141.8\" font-family=\"Helvetica,sans-Serif\" font-size=\"14.00\" fill=\"#000000\">rel_mean &lt;= 17.25</text>\n<text text-anchor=\"middle\" x=\"972.5\" y=\"-126.8\" font-family=\"Helvetica,sans-Serif\" font-size=\"14.00\" fill=\"#000000\">samples = 104</text>\n<text text-anchor=\"middle\" x=\"972.5\" y=\"-111.8\" font-family=\"Helvetica,sans-Serif\" font-size=\"14.00\" fill=\"#000000\">value = [46.141, 120.391]</text>\n<text text-anchor=\"middle\" x=\"972.5\" y=\"-96.8\" font-family=\"Helvetica,sans-Serif\" font-size=\"14.00\" fill=\"#000000\">class = Top&#45;100 Yes</text>\n</g>\n<!-- 9&#45;&gt;11 -->\n<g id=\"edge11\" class=\"edge\">\n<title>9&#45;&gt;11</title>\n<path fill=\"none\" stroke=\"#000000\" d=\"M883.7217,-192.9465C895.6874,-183.519 908.7915,-173.1946 921.1704,-163.4415\"/>\n<polygon fill=\"#000000\" stroke=\"#000000\" points=\"923.4923,-166.068 929.1812,-157.13 919.1602,-160.5695 923.4923,-166.068\"/>\n</g>\n<!-- 12 -->\n<g id=\"node13\" class=\"node\">\n<title>12</title>\n<polygon fill=\"#e58139\" stroke=\"#000000\" points=\"914.5,-53 772.5,-53 772.5,0 914.5,0 914.5,-53\"/>\n<text text-anchor=\"middle\" x=\"843.5\" y=\"-37.8\" font-family=\"Helvetica,sans-Serif\" font-size=\"14.00\" fill=\"#000000\">samples = 14</text>\n<text text-anchor=\"middle\" x=\"843.5\" y=\"-22.8\" font-family=\"Helvetica,sans-Serif\" font-size=\"14.00\" fill=\"#000000\">value = [7.6, 0.0]</text>\n<text text-anchor=\"middle\" x=\"843.5\" y=\"-7.8\" font-family=\"Helvetica,sans-Serif\" font-size=\"14.00\" fill=\"#000000\">class = Top&#45;100 No</text>\n</g>\n<!-- 11&#45;&gt;12 -->\n<g id=\"edge12\" class=\"edge\">\n<title>11&#45;&gt;12</title>\n<path fill=\"none\" stroke=\"#000000\" d=\"M927.0194,-88.9777C914.1665,-79.3629 900.2069,-68.9203 887.446,-59.3743\"/>\n<polygon fill=\"#000000\" stroke=\"#000000\" points=\"889.361,-56.436 879.257,-53.2485 885.168,-62.0412 889.361,-56.436\"/>\n</g>\n<!-- 13 -->\n<g id=\"node14\" class=\"node\">\n<title>13</title>\n<polygon fill=\"#78bced\" stroke=\"#000000\" points=\"1114,-53 933,-53 933,0 1114,0 1114,-53\"/>\n<text text-anchor=\"middle\" x=\"1023.5\" y=\"-37.8\" font-family=\"Helvetica,sans-Serif\" font-size=\"14.00\" fill=\"#000000\">samples = 90</text>\n<text text-anchor=\"middle\" x=\"1023.5\" y=\"-22.8\" font-family=\"Helvetica,sans-Serif\" font-size=\"14.00\" fill=\"#000000\">value = [38.541, 120.391]</text>\n<text text-anchor=\"middle\" x=\"1023.5\" y=\"-7.8\" font-family=\"Helvetica,sans-Serif\" font-size=\"14.00\" fill=\"#000000\">class = Top&#45;100 Yes</text>\n</g>\n<!-- 11&#45;&gt;13 -->\n<g id=\"edge13\" class=\"edge\">\n<title>11&#45;&gt;13</title>\n<path fill=\"none\" stroke=\"#000000\" d=\"M990.4807,-88.9777C995.0782,-80.2786 1000.0337,-70.9018 1004.6725,-62.1247\"/>\n<polygon fill=\"#000000\" stroke=\"#000000\" points=\"1007.7853,-63.7251 1009.3635,-53.2485 1001.5965,-60.4543 1007.7853,-63.7251\"/>\n</g>\n<!-- 15 -->\n<g id=\"node16\" class=\"node\">\n<title>15</title>\n<polygon fill=\"#7cbeee\" stroke=\"#000000\" points=\"1581,-261 1392,-261 1392,-193 1581,-193 1581,-261\"/>\n<text text-anchor=\"middle\" x=\"1486.5\" y=\"-245.8\" font-family=\"Helvetica,sans-Serif\" font-size=\"14.00\" fill=\"#000000\">pop_mean &lt;= 70.438</text>\n<text text-anchor=\"middle\" x=\"1486.5\" y=\"-230.8\" font-family=\"Helvetica,sans-Serif\" font-size=\"14.00\" fill=\"#000000\">samples = 726</text>\n<text text-anchor=\"middle\" x=\"1486.5\" y=\"-215.8\" font-family=\"Helvetica,sans-Serif\" font-size=\"14.00\" fill=\"#000000\">value = [314.301, 931.449]</text>\n<text text-anchor=\"middle\" x=\"1486.5\" y=\"-200.8\" font-family=\"Helvetica,sans-Serif\" font-size=\"14.00\" fill=\"#000000\">class = Top&#45;100 Yes</text>\n</g>\n<!-- 14&#45;&gt;15 -->\n<g id=\"edge15\" class=\"edge\">\n<title>14&#45;&gt;15</title>\n<path fill=\"none\" stroke=\"#000000\" d=\"M1486.5,-296.9465C1486.5,-288.776 1486.5,-279.9318 1486.5,-271.3697\"/>\n<polygon fill=\"#000000\" stroke=\"#000000\" points=\"1490.0001,-271.13 1486.5,-261.13 1483.0001,-271.13 1490.0001,-271.13\"/>\n</g>\n<!-- 22 -->\n<g id=\"node23\" class=\"node\">\n<title>22</title>\n<polygon fill=\"#41a1e6\" stroke=\"#000000\" points=\"2178,-261 1981,-261 1981,-193 2178,-193 2178,-261\"/>\n<text text-anchor=\"middle\" x=\"2079.5\" y=\"-245.8\" font-family=\"Helvetica,sans-Serif\" font-size=\"14.00\" fill=\"#000000\">rel_mean &lt;= 93.851</text>\n<text text-anchor=\"middle\" x=\"2079.5\" y=\"-230.8\" font-family=\"Helvetica,sans-Serif\" font-size=\"14.00\" fill=\"#000000\">samples = 906</text>\n<text text-anchor=\"middle\" x=\"2079.5\" y=\"-215.8\" font-family=\"Helvetica,sans-Serif\" font-size=\"14.00\" fill=\"#000000\">value = [151.994, 3966.578]</text>\n<text text-anchor=\"middle\" x=\"2079.5\" y=\"-200.8\" font-family=\"Helvetica,sans-Serif\" font-size=\"14.00\" fill=\"#000000\">class = Top&#45;100 Yes</text>\n</g>\n<!-- 14&#45;&gt;22 -->\n<g id=\"edge22\" class=\"edge\">\n<title>14&#45;&gt;22</title>\n<path fill=\"none\" stroke=\"#000000\" d=\"M1585.0876,-313.7098C1691.4376,-295.0582 1860.3068,-265.442 1970.529,-246.1113\"/>\n<polygon fill=\"#000000\" stroke=\"#000000\" points=\"1971.4317,-249.5065 1980.6767,-244.3316 1970.2224,-242.6117 1971.4317,-249.5065\"/>\n</g>\n<!-- 16 -->\n<g id=\"node17\" class=\"node\">\n<title>16</title>\n<polygon fill=\"#a7d4f3\" stroke=\"#000000\" points=\"1478,-157 1289,-157 1289,-89 1478,-89 1478,-157\"/>\n<text text-anchor=\"middle\" x=\"1383.5\" y=\"-141.8\" font-family=\"Helvetica,sans-Serif\" font-size=\"14.00\" fill=\"#000000\">followers &lt;= 532730.0</text>\n<text text-anchor=\"middle\" x=\"1383.5\" y=\"-126.8\" font-family=\"Helvetica,sans-Serif\" font-size=\"14.00\" fill=\"#000000\">samples = 405</text>\n<text text-anchor=\"middle\" x=\"1383.5\" y=\"-111.8\" font-family=\"Helvetica,sans-Serif\" font-size=\"14.00\" fill=\"#000000\">value = [190.535, 342.165]</text>\n<text text-anchor=\"middle\" x=\"1383.5\" y=\"-96.8\" font-family=\"Helvetica,sans-Serif\" font-size=\"14.00\" fill=\"#000000\">class = Top&#45;100 Yes</text>\n</g>\n<!-- 15&#45;&gt;16 -->\n<g id=\"edge16\" class=\"edge\">\n<title>15&#45;&gt;16</title>\n<path fill=\"none\" stroke=\"#000000\" d=\"M1452.7739,-192.9465C1443.7039,-183.7884 1433.7955,-173.7838 1424.3819,-164.2788\"/>\n<polygon fill=\"#000000\" stroke=\"#000000\" points=\"1426.8255,-161.7723 1417.3018,-157.13 1421.8519,-166.6981 1426.8255,-161.7723\"/>\n</g>\n<!-- 19 -->\n<g id=\"node20\" class=\"node\">\n<title>19</title>\n<polygon fill=\"#63b2ea\" stroke=\"#000000\" points=\"1685,-157 1496,-157 1496,-89 1685,-89 1685,-157\"/>\n<text text-anchor=\"middle\" x=\"1590.5\" y=\"-141.8\" font-family=\"Helvetica,sans-Serif\" font-size=\"14.00\" fill=\"#000000\">rel_mean &lt;= 7.786</text>\n<text text-anchor=\"middle\" x=\"1590.5\" y=\"-126.8\" font-family=\"Helvetica,sans-Serif\" font-size=\"14.00\" fill=\"#000000\">samples = 321</text>\n<text text-anchor=\"middle\" x=\"1590.5\" y=\"-111.8\" font-family=\"Helvetica,sans-Serif\" font-size=\"14.00\" fill=\"#000000\">value = [123.766, 589.284]</text>\n<text text-anchor=\"middle\" x=\"1590.5\" y=\"-96.8\" font-family=\"Helvetica,sans-Serif\" font-size=\"14.00\" fill=\"#000000\">class = Top&#45;100 Yes</text>\n</g>\n<!-- 15&#45;&gt;19 -->\n<g id=\"edge19\" class=\"edge\">\n<title>15&#45;&gt;19</title>\n<path fill=\"none\" stroke=\"#000000\" d=\"M1520.5535,-192.9465C1529.7116,-183.7884 1539.7162,-173.7838 1549.2212,-164.2788\"/>\n<polygon fill=\"#000000\" stroke=\"#000000\" points=\"1551.7738,-166.676 1556.37,-157.13 1546.824,-161.7262 1551.7738,-166.676\"/>\n</g>\n<!-- 17 -->\n<g id=\"node18\" class=\"node\">\n<title>17</title>\n<polygon fill=\"#e58139\" stroke=\"#000000\" points=\"1280.5,-53 1132.5,-53 1132.5,0 1280.5,0 1280.5,-53\"/>\n<text text-anchor=\"middle\" x=\"1206.5\" y=\"-37.8\" font-family=\"Helvetica,sans-Serif\" font-size=\"14.00\" fill=\"#000000\">samples = 48</text>\n<text text-anchor=\"middle\" x=\"1206.5\" y=\"-22.8\" font-family=\"Helvetica,sans-Serif\" font-size=\"14.00\" fill=\"#000000\">value = [26.056, 0.0]</text>\n<text text-anchor=\"middle\" x=\"1206.5\" y=\"-7.8\" font-family=\"Helvetica,sans-Serif\" font-size=\"14.00\" fill=\"#000000\">class = Top&#45;100 No</text>\n</g>\n<!-- 16&#45;&gt;17 -->\n<g id=\"edge17\" class=\"edge\">\n<title>16&#45;&gt;17</title>\n<path fill=\"none\" stroke=\"#000000\" d=\"M1321.0964,-88.9777C1302.7044,-78.9504 1282.6609,-68.0228 1264.5538,-58.1508\"/>\n<polygon fill=\"#000000\" stroke=\"#000000\" points=\"1265.7358,-54.8089 1255.2805,-53.095 1262.385,-60.9548 1265.7358,-54.8089\"/>\n</g>\n<!-- 18 -->\n<g id=\"node19\" class=\"node\">\n<title>18</title>\n<polygon fill=\"#98ccf1\" stroke=\"#000000\" points=\"1488,-53 1299,-53 1299,0 1488,0 1488,-53\"/>\n<text text-anchor=\"middle\" x=\"1393.5\" y=\"-37.8\" font-family=\"Helvetica,sans-Serif\" font-size=\"14.00\" fill=\"#000000\">samples = 357</text>\n<text text-anchor=\"middle\" x=\"1393.5\" y=\"-22.8\" font-family=\"Helvetica,sans-Serif\" font-size=\"14.00\" fill=\"#000000\">value = [164.479, 342.165]</text>\n<text text-anchor=\"middle\" x=\"1393.5\" y=\"-7.8\" font-family=\"Helvetica,sans-Serif\" font-size=\"14.00\" fill=\"#000000\">class = Top&#45;100 Yes</text>\n</g>\n<!-- 16&#45;&gt;18 -->\n<g id=\"edge18\" class=\"edge\">\n<title>16&#45;&gt;18</title>\n<path fill=\"none\" stroke=\"#000000\" d=\"M1387.0256,-88.9777C1387.8891,-80.6449 1388.8171,-71.6903 1389.6931,-63.2364\"/>\n<polygon fill=\"#000000\" stroke=\"#000000\" points=\"1393.1787,-63.556 1390.7281,-53.2485 1386.2159,-62.8344 1393.1787,-63.556\"/>\n</g>\n<!-- 20 -->\n<g id=\"node21\" class=\"node\">\n<title>20</title>\n<polygon fill=\"#e58139\" stroke=\"#000000\" points=\"1654.5,-53 1506.5,-53 1506.5,0 1654.5,0 1654.5,-53\"/>\n<text text-anchor=\"middle\" x=\"1580.5\" y=\"-37.8\" font-family=\"Helvetica,sans-Serif\" font-size=\"14.00\" fill=\"#000000\">samples = 30</text>\n<text text-anchor=\"middle\" x=\"1580.5\" y=\"-22.8\" font-family=\"Helvetica,sans-Serif\" font-size=\"14.00\" fill=\"#000000\">value = [16.285, 0.0]</text>\n<text text-anchor=\"middle\" x=\"1580.5\" y=\"-7.8\" font-family=\"Helvetica,sans-Serif\" font-size=\"14.00\" fill=\"#000000\">class = Top&#45;100 No</text>\n</g>\n<!-- 19&#45;&gt;20 -->\n<g id=\"edge20\" class=\"edge\">\n<title>19&#45;&gt;20</title>\n<path fill=\"none\" stroke=\"#000000\" d=\"M1586.9744,-88.9777C1586.1109,-80.6449 1585.1829,-71.6903 1584.3069,-63.2364\"/>\n<polygon fill=\"#000000\" stroke=\"#000000\" points=\"1587.7841,-62.8344 1583.2719,-53.2485 1580.8213,-63.556 1587.7841,-62.8344\"/>\n</g>\n<!-- 21 -->\n<g id=\"node22\" class=\"node\">\n<title>21</title>\n<polygon fill=\"#5dafea\" stroke=\"#000000\" points=\"1862,-53 1673,-53 1673,0 1862,0 1862,-53\"/>\n<text text-anchor=\"middle\" x=\"1767.5\" y=\"-37.8\" font-family=\"Helvetica,sans-Serif\" font-size=\"14.00\" fill=\"#000000\">samples = 291</text>\n<text text-anchor=\"middle\" x=\"1767.5\" y=\"-22.8\" font-family=\"Helvetica,sans-Serif\" font-size=\"14.00\" fill=\"#000000\">value = [107.481, 589.284]</text>\n<text text-anchor=\"middle\" x=\"1767.5\" y=\"-7.8\" font-family=\"Helvetica,sans-Serif\" font-size=\"14.00\" fill=\"#000000\">class = Top&#45;100 Yes</text>\n</g>\n<!-- 19&#45;&gt;21 -->\n<g id=\"edge21\" class=\"edge\">\n<title>19&#45;&gt;21</title>\n<path fill=\"none\" stroke=\"#000000\" d=\"M1652.9036,-88.9777C1671.2956,-78.9504 1691.3391,-68.0228 1709.4462,-58.1508\"/>\n<polygon fill=\"#000000\" stroke=\"#000000\" points=\"1711.615,-60.9548 1718.7195,-53.095 1708.2642,-54.8089 1711.615,-60.9548\"/>\n</g>\n<!-- 23 -->\n<g id=\"node24\" class=\"node\">\n<title>23</title>\n<polygon fill=\"#40a0e6\" stroke=\"#000000\" points=\"2178,-157 1981,-157 1981,-89 2178,-89 2178,-157\"/>\n<text text-anchor=\"middle\" x=\"2079.5\" y=\"-141.8\" font-family=\"Helvetica,sans-Serif\" font-size=\"14.00\" fill=\"#000000\">popularity &lt;= 84.5</text>\n<text text-anchor=\"middle\" x=\"2079.5\" y=\"-126.8\" font-family=\"Helvetica,sans-Serif\" font-size=\"14.00\" fill=\"#000000\">samples = 883</text>\n<text text-anchor=\"middle\" x=\"2079.5\" y=\"-111.8\" font-family=\"Helvetica,sans-Serif\" font-size=\"14.00\" fill=\"#000000\">value = [140.051, 3960.241]</text>\n<text text-anchor=\"middle\" x=\"2079.5\" y=\"-96.8\" font-family=\"Helvetica,sans-Serif\" font-size=\"14.00\" fill=\"#000000\">class = Top&#45;100 Yes</text>\n</g>\n<!-- 22&#45;&gt;23 -->\n<g id=\"edge23\" class=\"edge\">\n<title>22&#45;&gt;23</title>\n<path fill=\"none\" stroke=\"#000000\" d=\"M2079.5,-192.9465C2079.5,-184.776 2079.5,-175.9318 2079.5,-167.3697\"/>\n<polygon fill=\"#000000\" stroke=\"#000000\" points=\"2083.0001,-167.13 2079.5,-157.13 2076.0001,-167.13 2083.0001,-167.13\"/>\n</g>\n<!-- 26 -->\n<g id=\"node27\" class=\"node\">\n<title>26</title>\n<polygon fill=\"#f3c4a2\" stroke=\"#000000\" points=\"2462.5,-157 2298.5,-157 2298.5,-89 2462.5,-89 2462.5,-157\"/>\n<text text-anchor=\"middle\" x=\"2380.5\" y=\"-141.8\" font-family=\"Helvetica,sans-Serif\" font-size=\"14.00\" fill=\"#000000\">pop_mean &lt;= 66.81</text>\n<text text-anchor=\"middle\" x=\"2380.5\" y=\"-126.8\" font-family=\"Helvetica,sans-Serif\" font-size=\"14.00\" fill=\"#000000\">samples = 23</text>\n<text text-anchor=\"middle\" x=\"2380.5\" y=\"-111.8\" font-family=\"Helvetica,sans-Serif\" font-size=\"14.00\" fill=\"#000000\">value = [11.942, 6.336]</text>\n<text text-anchor=\"middle\" x=\"2380.5\" y=\"-96.8\" font-family=\"Helvetica,sans-Serif\" font-size=\"14.00\" fill=\"#000000\">class = Top&#45;100 No</text>\n</g>\n<!-- 22&#45;&gt;26 -->\n<g id=\"edge26\" class=\"edge\">\n<title>22&#45;&gt;26</title>\n<path fill=\"none\" stroke=\"#000000\" d=\"M2178.0587,-192.9465C2213.634,-180.6547 2253.6227,-166.838 2288.605,-154.7511\"/>\n<polygon fill=\"#000000\" stroke=\"#000000\" points=\"2290.0225,-157.9644 2298.3312,-151.3905 2287.7365,-151.3482 2290.0225,-157.9644\"/>\n</g>\n<!-- 24 -->\n<g id=\"node25\" class=\"node\">\n<title>24</title>\n<polygon fill=\"#4da7e8\" stroke=\"#000000\" points=\"2077,-53 1880,-53 1880,0 2077,0 2077,-53\"/>\n<text text-anchor=\"middle\" x=\"1978.5\" y=\"-37.8\" font-family=\"Helvetica,sans-Serif\" font-size=\"14.00\" fill=\"#000000\">samples = 380</text>\n<text text-anchor=\"middle\" x=\"1978.5\" y=\"-22.8\" font-family=\"Helvetica,sans-Serif\" font-size=\"14.00\" fill=\"#000000\">value = [112.367, 1096.195]</text>\n<text text-anchor=\"middle\" x=\"1978.5\" y=\"-7.8\" font-family=\"Helvetica,sans-Serif\" font-size=\"14.00\" fill=\"#000000\">class = Top&#45;100 Yes</text>\n</g>\n<!-- 23&#45;&gt;24 -->\n<g id=\"edge24\" class=\"edge\">\n<title>23&#45;&gt;24</title>\n<path fill=\"none\" stroke=\"#000000\" d=\"M2043.8912,-88.9777C2034.1155,-79.6376 2023.5223,-69.5163 2013.766,-60.1947\"/>\n<polygon fill=\"#000000\" stroke=\"#000000\" points=\"2016.144,-57.6261 2006.4958,-53.2485 2011.3083,-62.6873 2016.144,-57.6261\"/>\n</g>\n<!-- 25 -->\n<g id=\"node26\" class=\"node\">\n<title>25</title>\n<polygon fill=\"#3b9ee5\" stroke=\"#000000\" points=\"2284,-53 2095,-53 2095,0 2284,0 2284,-53\"/>\n<text text-anchor=\"middle\" x=\"2189.5\" y=\"-37.8\" font-family=\"Helvetica,sans-Serif\" font-size=\"14.00\" fill=\"#000000\">samples = 503</text>\n<text text-anchor=\"middle\" x=\"2189.5\" y=\"-22.8\" font-family=\"Helvetica,sans-Serif\" font-size=\"14.00\" fill=\"#000000\">value = [27.685, 2864.046]</text>\n<text text-anchor=\"middle\" x=\"2189.5\" y=\"-7.8\" font-family=\"Helvetica,sans-Serif\" font-size=\"14.00\" fill=\"#000000\">class = Top&#45;100 Yes</text>\n</g>\n<!-- 23&#45;&gt;25 -->\n<g id=\"edge25\" class=\"edge\">\n<title>23&#45;&gt;25</title>\n<path fill=\"none\" stroke=\"#000000\" d=\"M2118.2819,-88.9777C2129.033,-79.546 2140.6922,-69.3178 2151.4038,-59.9208\"/>\n<polygon fill=\"#000000\" stroke=\"#000000\" points=\"2153.8004,-62.4743 2159.0095,-53.2485 2149.184,-57.2122 2153.8004,-62.4743\"/>\n</g>\n<!-- 27 -->\n<g id=\"node28\" class=\"node\">\n<title>27</title>\n<polygon fill=\"#7dbfee\" stroke=\"#000000\" points=\"2458.5,-53 2302.5,-53 2302.5,0 2458.5,0 2458.5,-53\"/>\n<text text-anchor=\"middle\" x=\"2380.5\" y=\"-37.8\" font-family=\"Helvetica,sans-Serif\" font-size=\"14.00\" fill=\"#000000\">samples = 5</text>\n<text text-anchor=\"middle\" x=\"2380.5\" y=\"-22.8\" font-family=\"Helvetica,sans-Serif\" font-size=\"14.00\" fill=\"#000000\">value = [2.171, 6.336]</text>\n<text text-anchor=\"middle\" x=\"2380.5\" y=\"-7.8\" font-family=\"Helvetica,sans-Serif\" font-size=\"14.00\" fill=\"#000000\">class = Top&#45;100 Yes</text>\n</g>\n<!-- 26&#45;&gt;27 -->\n<g id=\"edge27\" class=\"edge\">\n<title>26&#45;&gt;27</title>\n<path fill=\"none\" stroke=\"#000000\" d=\"M2380.5,-88.9777C2380.5,-80.7364 2380.5,-71.887 2380.5,-63.5153\"/>\n<polygon fill=\"#000000\" stroke=\"#000000\" points=\"2384.0001,-63.2484 2380.5,-53.2485 2377.0001,-63.2485 2384.0001,-63.2484\"/>\n</g>\n<!-- 28 -->\n<g id=\"node29\" class=\"node\">\n<title>28</title>\n<polygon fill=\"#e58139\" stroke=\"#000000\" points=\"2618.5,-53 2476.5,-53 2476.5,0 2618.5,0 2618.5,-53\"/>\n<text text-anchor=\"middle\" x=\"2547.5\" y=\"-37.8\" font-family=\"Helvetica,sans-Serif\" font-size=\"14.00\" fill=\"#000000\">samples = 18</text>\n<text text-anchor=\"middle\" x=\"2547.5\" y=\"-22.8\" font-family=\"Helvetica,sans-Serif\" font-size=\"14.00\" fill=\"#000000\">value = [9.771, 0.0]</text>\n<text text-anchor=\"middle\" x=\"2547.5\" y=\"-7.8\" font-family=\"Helvetica,sans-Serif\" font-size=\"14.00\" fill=\"#000000\">class = Top&#45;100 No</text>\n</g>\n<!-- 26&#45;&gt;28 -->\n<g id=\"edge28\" class=\"edge\">\n<title>26&#45;&gt;28</title>\n<path fill=\"none\" stroke=\"#000000\" d=\"M2439.378,-88.9777C2456.7309,-78.9504 2475.642,-68.0228 2492.726,-58.1508\"/>\n<polygon fill=\"#000000\" stroke=\"#000000\" points=\"2494.5682,-61.1287 2501.4754,-53.095 2491.0659,-55.0678 2494.5682,-61.1287\"/>\n</g>\n</g>\n</svg>\n"
          },
          "metadata": {}
        }
      ]
    },
    {
      "cell_type": "code",
      "source": [
        "result = tree.feature_importances_\n",
        "print(\"변수의 중요도:\\n\", result)"
      ],
      "metadata": {
        "colab": {
          "base_uri": "https://localhost:8080/"
        },
        "id": "QQQh4rY0OBlK",
        "outputId": "87376895-09b6-4f77-8ad6-71f66f1a0eaf"
      },
      "execution_count": null,
      "outputs": [
        {
          "output_type": "stream",
          "name": "stdout",
          "text": [
            "변수의 중요도:\n",
            " [0.93449971 0.00531473 0.03282878 0.02735678 0.        ]\n"
          ]
        }
      ]
    },
    {
      "cell_type": "code",
      "source": [
        "import numpy as np\n",
        "\n",
        "def plot_feature_importances_spotify(model):\n",
        "    plt.rcParams[\"figure.figsize\"] = (9,6)\n",
        "    n_features = len(spotify.columns[[3, 4, 5, 6, 7]])  # 5개 \n",
        "    plt.barh(np.arange(n_features), model.feature_importances_, align='center') \n",
        "    plt.yticks(np.arange(n_features), spotify.columns[[3, 4, 5, 6, 7]])   # 5개의 눈금을 표시하고 눈금 레이블을 변수 이름으로 지정\n",
        "    plt.xlabel(\"feature importance\")\n",
        "    plt.ylabel(\"feature\")\n",
        "    plt.ylim(-1, n_features) #Y 축 범위 지정\n",
        "\n",
        "plot_feature_importances_spotify(tree)\n",
        "\n",
        "#(0이라고 해서 중요하지 않은 것 아님)"
      ],
      "metadata": {
        "colab": {
          "base_uri": "https://localhost:8080/",
          "height": 388
        },
        "id": "qDM70esBOEG_",
        "outputId": "133cccb5-bb48-41cd-dfd3-c7cfaaaaeee2"
      },
      "execution_count": null,
      "outputs": [
        {
          "output_type": "display_data",
          "data": {
            "text/plain": [
              "<Figure size 648x432 with 1 Axes>"
            ],
            "image/png": "[encoded data removed]"
          },
          "metadata": {
            "needs_background": "light"
          }
        }
      ]
    },
    {
      "cell_type": "markdown",
      "source": [
        "### **3) 앙상블 모델: 랜덤 포레스트** ###"
      ],
      "metadata": {
        "id": "yRL0NFJmPyN-"
      }
    },
    {
      "cell_type": "code",
      "source": [
        "from sklearn.ensemble import RandomForestClassifier\n",
        "\n",
        "# 30개 변수를 모두 이용하여 100개의 나무 생성 (정확도가 높아짐)\n",
        "forest = RandomForestClassifier(n_estimators=100, random_state=0)\n",
        "forest.fit(X_train, y_train)\n",
        "\n",
        "print(\"학습용 데이터 세트 정확도: {:.3f}\".format(forest.score(X_train, y_train)))\n",
        "print(\"시험용 데이터 세트 정확도: {:.3f}\".format(forest.score(X_test, y_test)))"
      ],
      "metadata": {
        "colab": {
          "base_uri": "https://localhost:8080/"
        },
        "id": "0Y92AoiJOoBT",
        "outputId": "ea98c046-e519-47f9-bb97-2655525e0c29"
      },
      "execution_count": null,
      "outputs": [
        {
          "output_type": "stream",
          "name": "stdout",
          "text": [
            "학습용 데이터 세트 정확도: 1.000\n",
            "시험용 데이터 세트 정확도: 0.993\n"
          ]
        }
      ]
    },
    {
      "cell_type": "code",
      "source": [
        "# 단일 의사결정나무의 경우보다 많은 변수(feature)들이 사용됨\n",
        "plot_feature_importances_spotify(forest) "
      ],
      "metadata": {
        "colab": {
          "base_uri": "https://localhost:8080/",
          "height": 388
        },
        "id": "pPQfiPpdOoQp",
        "outputId": "4064cb3e-5b51-466a-b39f-f23d2185fda9"
      },
      "execution_count": null,
      "outputs": [
        {
          "output_type": "display_data",
          "data": {
            "text/plain": [
              "<Figure size 648x432 with 1 Axes>"
            ],
            "image/png": "[encoded data removed]"
          },
          "metadata": {
            "needs_background": "light"
          }
        }
      ]
    },
    {
      "cell_type": "code",
      "source": [
        "from sklearn.model_selection import cross_val_score\n",
        "\n",
        "# 교차 검증을 10번 수행하여 10번의 교차 검증 평균 정확도를 비교 (10-fold cross validation)\n",
        "# default cv=5\n",
        "\n",
        "dt_scores = cross_val_score(tree, X_train, y_train, cv=10, scoring='accuracy')  \n",
        "rf_scores = cross_val_score(forest, X_train, y_train, cv=10, scoring='accuracy')\n",
        "\n",
        "print(\"Accuracy\")\n",
        "print(\"Decision tree: \", dt_scores) \n",
        "print(\"Random forest: \", rf_scores) \n",
        "\n",
        "print(\"Accuracy mean\")\n",
        "print(\"Decision tree :{:.3f}\".format(dt_scores.mean())) \n",
        "print(\"Random forest :{:.3f}\".format(rf_scores.mean()))"
      ],
      "metadata": {
        "colab": {
          "base_uri": "https://localhost:8080/"
        },
        "id": "kfYABbwnOkpJ",
        "outputId": "559a17c2-047f-42de-9ba9-e16ca82ebe1d"
      },
      "execution_count": null,
      "outputs": [
        {
          "output_type": "stream",
          "name": "stdout",
          "text": [
            "Accuracy\n",
            "Decision tree:  [0.91136802 0.90655106 0.90944123 0.91811175 0.9132948  0.9026975\n",
            " 0.91811175 0.91811175 0.90751445 0.91224687]\n",
            "Random forest:  [0.9894027  0.99518304 0.99518304 0.99325626 0.99614644 0.99325626\n",
            " 0.99807322 0.99325626 0.99518304 0.99132112]\n",
            "Accuracy mean\n",
            "Decision tree :0.912\n",
            "Random forest :0.994\n"
          ]
        }
      ]
    },
    {
      "cell_type": "code",
      "source": [
        "cv_list = [    \n",
        "            ['decision_tree',dt_scores],\n",
        "            ['random_forest',rf_scores],\n",
        "          ]\n",
        "df = pd.DataFrame.from_dict(dict(cv_list))\n",
        "df.plot()"
      ],
      "metadata": {
        "colab": {
          "base_uri": "https://localhost:8080/",
          "height": 392
        },
        "id": "YiS4SZ3IQ8D1",
        "outputId": "9329c44e-52e4-40a4-b9ca-ca76d6a95353"
      },
      "execution_count": null,
      "outputs": [
        {
          "output_type": "execute_result",
          "data": {
            "text/plain": [
              "<matplotlib.axes._subplots.AxesSubplot at 0x7f2104983ca0>"
            ]
          },
          "metadata": {},
          "execution_count": 60
        },
        {
          "output_type": "display_data",
          "data": {
            "text/plain": [
              "<Figure size 648x432 with 1 Axes>"
            ],
            "image/png": "[encoded data removed]"
          },
          "metadata": {
            "needs_background": "light"
          }
        }
      ]
    },
    {
      "cell_type": "markdown",
      "source": [
        "### **4) 앙상블 모델: 그래디언트 부스팅** ###"
      ],
      "metadata": {
        "id": "fi-_m-WqRA0h"
      }
    },
    {
      "cell_type": "code",
      "source": [
        "from sklearn.ensemble import GradientBoostingClassifier\n",
        "# 기본값은 max_depth= 3, n_estimators=100, learning_rate = 0.1\n",
        "\n",
        "gbrt = GradientBoostingClassifier(random_state=0)\n",
        "gbrt.fit(X_train, y_train)"
      ],
      "metadata": {
        "colab": {
          "base_uri": "https://localhost:8080/"
        },
        "id": "clguWdgFRLN3",
        "outputId": "752a30d5-889c-4c67-9448-d37f9c1c7486"
      },
      "execution_count": null,
      "outputs": [
        {
          "output_type": "execute_result",
          "data": {
            "text/plain": [
              "GradientBoostingClassifier(random_state=0)"
            ]
          },
          "metadata": {},
          "execution_count": 61
        }
      ]
    },
    {
      "cell_type": "code",
      "source": [
        "print(\"학습용 데이터 세트 정확도: {:.3f}\".format(gbrt.score(X_train, y_train)))\n",
        "print(\"시험용 데이터 세트 정확도: {:.3f}\".format(gbrt.score(X_test, y_test)))"
      ],
      "metadata": {
        "colab": {
          "base_uri": "https://localhost:8080/"
        },
        "id": "j-RfFipBRLYK",
        "outputId": "6aba3494-5285-49a4-f01c-d31e9971b676"
      },
      "execution_count": null,
      "outputs": [
        {
          "output_type": "stream",
          "name": "stdout",
          "text": [
            "학습용 데이터 세트 정확도: 0.983\n",
            "시험용 데이터 세트 정확도: 0.975\n"
          ]
        }
      ]
    },
    {
      "cell_type": "code",
      "source": [
        "plot_feature_importances_spotify(gbrt)"
      ],
      "metadata": {
        "colab": {
          "base_uri": "https://localhost:8080/",
          "height": 388
        },
        "id": "jb5BO6NHRLfU",
        "outputId": "8ad3808a-ae77-4013-9284-01c8490101b7"
      },
      "execution_count": null,
      "outputs": [
        {
          "output_type": "display_data",
          "data": {
            "text/plain": [
              "<Figure size 648x432 with 1 Axes>"
            ],
            "image/png": "[encoded data removed]"
          },
          "metadata": {
            "needs_background": "light"
          }
        }
      ]
    },
    {
      "cell_type": "code",
      "source": [
        "#나무 깊이 제한\n",
        "gbrt = GradientBoostingClassifier(random_state=0, max_depth=2)\n",
        "gbrt.fit(X_train, y_train)\n",
        "\n",
        "print(\"학습 데이터 세트 정확도: {:.3f}\".format(gbrt.score(X_train, y_train)))\n",
        "print(\"시험용 데이터 세트 정확도: {:.3f}\".format(gbrt.score(X_test, y_test)))"
      ],
      "metadata": {
        "colab": {
          "base_uri": "https://localhost:8080/"
        },
        "id": "Wq0Ri13KRicg",
        "outputId": "0cac6235-1d5a-46da-bd33-71a8bcbeee42"
      },
      "execution_count": null,
      "outputs": [
        {
          "output_type": "stream",
          "name": "stdout",
          "text": [
            "학습 데이터 세트 정확도: 0.973\n",
            "시험용 데이터 세트 정확도: 0.969\n"
          ]
        }
      ]
    },
    {
      "cell_type": "code",
      "source": [
        "#학습률 감소\n",
        "gbrt = GradientBoostingClassifier(random_state=0, learning_rate=0.01)\n",
        "gbrt.fit(X_train, y_train)\n",
        "\n",
        "print(\"학습 데이터 세트 정확도: {:.3f}\".format(gbrt.score(X_train, y_train)))\n",
        "print(\"시험용 데이터 세트 정확도: {:.3f}\".format(gbrt.score(X_test, y_test)))"
      ],
      "metadata": {
        "colab": {
          "base_uri": "https://localhost:8080/"
        },
        "id": "4HUsL7xURLiD",
        "outputId": "d599cbb2-b54c-42ab-ad9e-eacc10c95db3"
      },
      "execution_count": null,
      "outputs": [
        {
          "output_type": "stream",
          "name": "stdout",
          "text": [
            "학습 데이터 세트 정확도: 0.961\n",
            "시험용 데이터 세트 정확도: 0.960\n"
          ]
        }
      ]
    },
    {
      "cell_type": "markdown",
      "source": [
        "### **5) 분류모델 평가** ###"
      ],
      "metadata": {
        "id": "mA41uhqKR0RS"
      }
    },
    {
      "cell_type": "markdown",
      "source": [
        "### 분류 모델 선택 및 평가 결과\n",
        "\n",
        "* 선택한 평가: Accuracy(정확도) \n",
        "* 최적의 분류모델: 랜덤 포레스트\n",
        "\n",
        "교차검증을 시도한 결과, 랜덤 포레스트 모델에서 0.994의 가장 높은 정확도를\n",
        "보였으며, 정오 분류표에서도 정확도가 0.993으로 가장 높은 결과를 도출했기에 최적의 분류모델로 판단했다."
      ],
      "metadata": {
        "id": "GHT2ZM-mXL3M"
      }
    },
    {
      "cell_type": "markdown",
      "source": [
        "#### 1. 교차검증 ####"
      ],
      "metadata": {
        "id": "g3Rx5MvISdsq"
      }
    },
    {
      "cell_type": "code",
      "source": [
        "# 교차 검증을 10번 수행하여 10번의 교차 검증 평균 정확도를 비교 (10-fold cross validation)\n",
        "\n",
        "dt_scores = cross_val_score(tree, X_train, y_train, cv=10, scoring='accuracy')  \n",
        "rf_scores = cross_val_score(forest, X_train, y_train, cv=10, scoring='accuracy')\n",
        "gbrt_scores = cross_val_score(gbrt, X_train, y_train, cv=10, scoring='accuracy')\n",
        "\n",
        "print(\"Accuracy\")\n",
        "print(\"Decision tree: \", dt_scores) \n",
        "print(\"Random forest: \", rf_scores) \n",
        "print(\"Gradient boosting: \", gbrt_scores) \n",
        "\n",
        "print(\"Accuracy mean\")\n",
        "print(\"Decision tree :{:.3f}\".format(dt_scores.mean())) \n",
        "print(\"Random forest :{:.3f}\".format(rf_scores.mean())) \n",
        "print(\"Gradient boosting :{:.3f}\".format(gbrt_scores.mean())) "
      ],
      "metadata": {
        "colab": {
          "base_uri": "https://localhost:8080/"
        },
        "id": "YirwACgqRzNf",
        "outputId": "e781386a-c3a3-44b8-c610-04d3eae24b3a"
      },
      "execution_count": null,
      "outputs": [
        {
          "output_type": "stream",
          "name": "stdout",
          "text": [
            "Accuracy\n",
            "Decision tree:  [0.91136802 0.90655106 0.90944123 0.91811175 0.9132948  0.9026975\n",
            " 0.91811175 0.91811175 0.90751445 0.91224687]\n",
            "Random forest:  [0.9894027  0.99518304 0.99518304 0.99325626 0.99614644 0.99325626\n",
            " 0.99807322 0.99325626 0.99518304 0.99132112]\n",
            "Gradient boosting:  [0.95857418 0.95761079 0.95953757 0.96242775 0.95761079 0.95953757\n",
            " 0.96242775 0.96050096 0.9672447  0.96142719]\n",
            "Accuracy mean\n",
            "Decision tree :0.912\n",
            "Random forest :0.994\n",
            "Gradient boosting :0.961\n"
          ]
        }
      ]
    },
    {
      "cell_type": "markdown",
      "source": [
        "#### 2. 그리드 서치 ####"
      ],
      "metadata": {
        "id": "0BbCZ_xzSksq"
      }
    },
    {
      "cell_type": "code",
      "source": [
        "from sklearn.model_selection import GridSearchCV\n",
        "\n",
        "# 파라미터를 dictionary 형태로 설정\n",
        "parameters = {'max_depth':[1,2,3], 'learning_rate':[0.1,0.08, 0.06, 0.04, 0.02]}"
      ],
      "metadata": {
        "id": "faJDB-11SkDS"
      },
      "execution_count": null,
      "outputs": []
    },
    {
      "cell_type": "code",
      "source": [
        "# param_grid의 파라미터들을 3개의 fold 로 나누어 검증\n",
        "# refit=True (기본값): 가장 좋은 파라미터 설정으로 재학습  \n",
        "init_gbrt = GradientBoostingClassifier(random_state=0)\n",
        "grid_gbrt = GridSearchCV(init_gbrt, param_grid=parameters, cv=3, refit=True)\n",
        "print(grid_gbrt)\n",
        "# 파라미터들을 순차적으로 학습, 검증\n",
        "grid_gbrt.fit(X_train, y_train)\n",
        "\n",
        "# GridSearchCV 결과 추출하여 DataFrame으로 변환\n",
        "scores_df = pd.DataFrame(grid_gbrt.cv_results_)\n",
        "scores_df[['params', 'mean_test_score', 'rank_test_score', 'split0_test_score', 'split1_test_score', 'split2_test_score']]"
      ],
      "metadata": {
        "colab": {
          "base_uri": "https://localhost:8080/",
          "height": 574
        },
        "id": "BXtcck4MSalI",
        "outputId": "a3e39897-df53-45d4-ed05-6b8092a67379"
      },
      "execution_count": null,
      "outputs": [
        {
          "output_type": "stream",
          "name": "stdout",
          "text": [
            "GridSearchCV(cv=3, estimator=GradientBoostingClassifier(random_state=0),\n",
            "             param_grid={'learning_rate': [0.1, 0.08, 0.06, 0.04, 0.02],\n",
            "                         'max_depth': [1, 2, 3]})\n"
          ]
        },
        {
          "output_type": "execute_result",
          "data": {
            "text/plain": [
              "                                     params  mean_test_score  rank_test_score  \\\n",
              "0    {'learning_rate': 0.1, 'max_depth': 1}         0.961943               10   \n",
              "1    {'learning_rate': 0.1, 'max_depth': 2}         0.968976                4   \n",
              "2    {'learning_rate': 0.1, 'max_depth': 3}         0.975528                1   \n",
              "3   {'learning_rate': 0.08, 'max_depth': 1}         0.961653               11   \n",
              "4   {'learning_rate': 0.08, 'max_depth': 2}         0.967338                6   \n",
              "5   {'learning_rate': 0.08, 'max_depth': 3}         0.973986                2   \n",
              "6   {'learning_rate': 0.06, 'max_depth': 1}         0.960401               14   \n",
              "7   {'learning_rate': 0.06, 'max_depth': 2}         0.965218                8   \n",
              "8   {'learning_rate': 0.06, 'max_depth': 3}         0.970614                3   \n",
              "9   {'learning_rate': 0.04, 'max_depth': 1}         0.960786               13   \n",
              "10  {'learning_rate': 0.04, 'max_depth': 2}         0.965122                9   \n",
              "11  {'learning_rate': 0.04, 'max_depth': 3}         0.967531                5   \n",
              "12  {'learning_rate': 0.02, 'max_depth': 1}         0.960305               15   \n",
              "13  {'learning_rate': 0.02, 'max_depth': 2}         0.961075               12   \n",
              "14  {'learning_rate': 0.02, 'max_depth': 3}         0.966278                7   \n",
              "\n",
              "    split0_test_score  split1_test_score  split2_test_score  \n",
              "0            0.959827           0.962428           0.963573  \n",
              "1            0.965607           0.969364           0.971957  \n",
              "2            0.974855           0.973988           0.977739  \n",
              "3            0.959249           0.962428           0.963284  \n",
              "4            0.963873           0.969364           0.968777  \n",
              "5            0.972254           0.974855           0.974848  \n",
              "6            0.960116           0.962139           0.958948  \n",
              "7            0.963006           0.964740           0.967910  \n",
              "8            0.968497           0.971676           0.971668  \n",
              "9            0.958960           0.961561           0.961839  \n",
              "10           0.963295           0.964162           0.967910  \n",
              "11           0.964740           0.967919           0.969934  \n",
              "12           0.957803           0.961561           0.961550  \n",
              "13           0.959249           0.963584           0.960393  \n",
              "14           0.965318           0.965318           0.968199  "
            ],
            "text/html": [
              "\n",
              "  <div id=\"df-6b69e186-f3b7-4b5d-9d57-c47121ccf5e9\">\n",
              "    <div class=\"colab-df-container\">\n",
              "      <div>\n",
              "<style scoped>\n",
              "    .dataframe tbody tr th:only-of-type {\n",
              "        vertical-align: middle;\n",
              "    }\n",
              "\n",
              "    .dataframe tbody tr th {\n",
              "        vertical-align: top;\n",
              "    }\n",
              "\n",
              "    .dataframe thead th {\n",
              "        text-align: right;\n",
              "    }\n",
              "</style>\n",
              "<table border=\"1\" class=\"dataframe\">\n",
              "  <thead>\n",
              "    <tr style=\"text-align: right;\">\n",
              "      <th></th>\n",
              "      <th>params</th>\n",
              "      <th>mean_test_score</th>\n",
              "      <th>rank_test_score</th>\n",
              "      <th>split0_test_score</th>\n",
              "      <th>split1_test_score</th>\n",
              "      <th>split2_test_score</th>\n",
              "    </tr>\n",
              "  </thead>\n",
              "  <tbody>\n",
              "    <tr>\n",
              "      <th>0</th>\n",
              "      <td>{'learning_rate': 0.1, 'max_depth': 1}</td>\n",
              "      <td>0.961943</td>\n",
              "      <td>10</td>\n",
              "      <td>0.959827</td>\n",
              "      <td>0.962428</td>\n",
              "      <td>0.963573</td>\n",
              "    </tr>\n",
              "    <tr>\n",
              "      <th>1</th>\n",
              "      <td>{'learning_rate': 0.1, 'max_depth': 2}</td>\n",
              "      <td>0.968976</td>\n",
              "      <td>4</td>\n",
              "      <td>0.965607</td>\n",
              "      <td>0.969364</td>\n",
              "      <td>0.971957</td>\n",
              "    </tr>\n",
              "    <tr>\n",
              "      <th>2</th>\n",
              "      <td>{'learning_rate': 0.1, 'max_depth': 3}</td>\n",
              "      <td>0.975528</td>\n",
              "      <td>1</td>\n",
              "      <td>0.974855</td>\n",
              "      <td>0.973988</td>\n",
              "      <td>0.977739</td>\n",
              "    </tr>\n",
              "    <tr>\n",
              "      <th>3</th>\n",
              "      <td>{'learning_rate': 0.08, 'max_depth': 1}</td>\n",
              "      <td>0.961653</td>\n",
              "      <td>11</td>\n",
              "      <td>0.959249</td>\n",
              "      <td>0.962428</td>\n",
              "      <td>0.963284</td>\n",
              "    </tr>\n",
              "    <tr>\n",
              "      <th>4</th>\n",
              "      <td>{'learning_rate': 0.08, 'max_depth': 2}</td>\n",
              "      <td>0.967338</td>\n",
              "      <td>6</td>\n",
              "      <td>0.963873</td>\n",
              "      <td>0.969364</td>\n",
              "      <td>0.968777</td>\n",
              "    </tr>\n",
              "    <tr>\n",
              "      <th>5</th>\n",
              "      <td>{'learning_rate': 0.08, 'max_depth': 3}</td>\n",
              "      <td>0.973986</td>\n",
              "      <td>2</td>\n",
              "      <td>0.972254</td>\n",
              "      <td>0.974855</td>\n",
              "      <td>0.974848</td>\n",
              "    </tr>\n",
              "    <tr>\n",
              "      <th>6</th>\n",
              "      <td>{'learning_rate': 0.06, 'max_depth': 1}</td>\n",
              "      <td>0.960401</td>\n",
              "      <td>14</td>\n",
              "      <td>0.960116</td>\n",
              "      <td>0.962139</td>\n",
              "      <td>0.958948</td>\n",
              "    </tr>\n",
              "    <tr>\n",
              "      <th>7</th>\n",
              "      <td>{'learning_rate': 0.06, 'max_depth': 2}</td>\n",
              "      <td>0.965218</td>\n",
              "      <td>8</td>\n",
              "      <td>0.963006</td>\n",
              "      <td>0.964740</td>\n",
              "      <td>0.967910</td>\n",
              "    </tr>\n",
              "    <tr>\n",
              "      <th>8</th>\n",
              "      <td>{'learning_rate': 0.06, 'max_depth': 3}</td>\n",
              "      <td>0.970614</td>\n",
              "      <td>3</td>\n",
              "      <td>0.968497</td>\n",
              "      <td>0.971676</td>\n",
              "      <td>0.971668</td>\n",
              "    </tr>\n",
              "    <tr>\n",
              "      <th>9</th>\n",
              "      <td>{'learning_rate': 0.04, 'max_depth': 1}</td>\n",
              "      <td>0.960786</td>\n",
              "      <td>13</td>\n",
              "      <td>0.958960</td>\n",
              "      <td>0.961561</td>\n",
              "      <td>0.961839</td>\n",
              "    </tr>\n",
              "    <tr>\n",
              "      <th>10</th>\n",
              "      <td>{'learning_rate': 0.04, 'max_depth': 2}</td>\n",
              "      <td>0.965122</td>\n",
              "      <td>9</td>\n",
              "      <td>0.963295</td>\n",
              "      <td>0.964162</td>\n",
              "      <td>0.967910</td>\n",
              "    </tr>\n",
              "    <tr>\n",
              "      <th>11</th>\n",
              "      <td>{'learning_rate': 0.04, 'max_depth': 3}</td>\n",
              "      <td>0.967531</td>\n",
              "      <td>5</td>\n",
              "      <td>0.964740</td>\n",
              "      <td>0.967919</td>\n",
              "      <td>0.969934</td>\n",
              "    </tr>\n",
              "    <tr>\n",
              "      <th>12</th>\n",
              "      <td>{'learning_rate': 0.02, 'max_depth': 1}</td>\n",
              "      <td>0.960305</td>\n",
              "      <td>15</td>\n",
              "      <td>0.957803</td>\n",
              "      <td>0.961561</td>\n",
              "      <td>0.961550</td>\n",
              "    </tr>\n",
              "    <tr>\n",
              "      <th>13</th>\n",
              "      <td>{'learning_rate': 0.02, 'max_depth': 2}</td>\n",
              "      <td>0.961075</td>\n",
              "      <td>12</td>\n",
              "      <td>0.959249</td>\n",
              "      <td>0.963584</td>\n",
              "      <td>0.960393</td>\n",
              "    </tr>\n",
              "    <tr>\n",
              "      <th>14</th>\n",
              "      <td>{'learning_rate': 0.02, 'max_depth': 3}</td>\n",
              "      <td>0.966278</td>\n",
              "      <td>7</td>\n",
              "      <td>0.965318</td>\n",
              "      <td>0.965318</td>\n",
              "      <td>0.968199</td>\n",
              "    </tr>\n",
              "  </tbody>\n",
              "</table>\n",
              "</div>\n",
              "      <button class=\"colab-df-convert\" onclick=\"convertToInteractive('df-6b69e186-f3b7-4b5d-9d57-c47121ccf5e9')\"\n",
              "              title=\"Convert this dataframe to an interactive table.\"\n",
              "              style=\"display:none;\">\n",
              "        \n",
              "  <svg xmlns=\"http://www.w3.org/2000/svg\" height=\"24px\"viewBox=\"0 0 24 24\"\n",
              "       width=\"24px\">\n",
              "    <path d=\"M0 0h24v24H0V0z\" fill=\"none\"/>\n",
              "    <path d=\"M18.56 5.44l.94 2.06.94-2.06 2.06-.94-2.06-.94-.94-2.06-.94 2.06-2.06.94zm-11 1L8.5 8.5l.94-2.06 2.06-.94-2.06-.94L8.5 2.5l-.94 2.06-2.06.94zm10 10l.94 2.06.94-2.06 2.06-.94-2.06-.94-.94-2.06-.94 2.06-2.06.94z\"/><path d=\"M17.41 7.96l-1.37-1.37c-.4-.4-.92-.59-1.43-.59-.52 0-1.04.2-1.43.59L10.3 9.45l-7.72 7.72c-.78.78-.78 2.05 0 2.83L4 21.41c.39.39.9.59 1.41.59.51 0 1.02-.2 1.41-.59l7.78-7.78 2.81-2.81c.8-.78.8-2.07 0-2.86zM5.41 20L4 18.59l7.72-7.72 1.47 1.35L5.41 20z\"/>\n",
              "  </svg>\n",
              "      </button>\n",
              "      \n",
              "  <style>\n",
              "    .colab-df-container {\n",
              "      display:flex;\n",
              "      flex-wrap:wrap;\n",
              "      gap: 12px;\n",
              "    }\n",
              "\n",
              "    .colab-df-convert {\n",
              "      background-color: #E8F0FE;\n",
              "      border: none;\n",
              "      border-radius: 50%;\n",
              "      cursor: pointer;\n",
              "      display: none;\n",
              "      fill: #1967D2;\n",
              "      height: 32px;\n",
              "      padding: 0 0 0 0;\n",
              "      width: 32px;\n",
              "    }\n",
              "\n",
              "    .colab-df-convert:hover {\n",
              "      background-color: #E2EBFA;\n",
              "      box-shadow: 0px 1px 2px rgba(60, 64, 67, 0.3), 0px 1px 3px 1px rgba(60, 64, 67, 0.15);\n",
              "      fill: #174EA6;\n",
              "    }\n",
              "\n",
              "    [theme=dark] .colab-df-convert {\n",
              "      background-color: #3B4455;\n",
              "      fill: #D2E3FC;\n",
              "    }\n",
              "\n",
              "    [theme=dark] .colab-df-convert:hover {\n",
              "      background-color: #434B5C;\n",
              "      box-shadow: 0px 1px 3px 1px rgba(0, 0, 0, 0.15);\n",
              "      filter: drop-shadow(0px 1px 2px rgba(0, 0, 0, 0.3));\n",
              "      fill: #FFFFFF;\n",
              "    }\n",
              "  </style>\n",
              "\n",
              "      <script>\n",
              "        const buttonEl =\n",
              "          document.querySelector('#df-6b69e186-f3b7-4b5d-9d57-c47121ccf5e9 button.colab-df-convert');\n",
              "        buttonEl.style.display =\n",
              "          google.colab.kernel.accessAllowed ? 'block' : 'none';\n",
              "\n",
              "        async function convertToInteractive(key) {\n",
              "          const element = document.querySelector('#df-6b69e186-f3b7-4b5d-9d57-c47121ccf5e9');\n",
              "          const dataTable =\n",
              "            await google.colab.kernel.invokeFunction('convertToInteractive',\n",
              "                                                     [key], {});\n",
              "          if (!dataTable) return;\n",
              "\n",
              "          const docLinkHtml = 'Like what you see? Visit the ' +\n",
              "            '<a target=\"_blank\" href=https://colab.research.google.com/notebooks/data_table.ipynb>data table notebook</a>'\n",
              "            + ' to learn more about interactive tables.';\n",
              "          element.innerHTML = '';\n",
              "          dataTable['output_type'] = 'display_data';\n",
              "          await google.colab.output.renderOutput(dataTable, element);\n",
              "          const docLink = document.createElement('div');\n",
              "          docLink.innerHTML = docLinkHtml;\n",
              "          element.appendChild(docLink);\n",
              "        }\n",
              "      </script>\n",
              "    </div>\n",
              "  </div>\n",
              "  "
            ]
          },
          "metadata": {},
          "execution_count": 69
        }
      ]
    },
    {
      "cell_type": "code",
      "source": [
        "print('GridSearchCV 최적 파라미터:', grid_gbrt.best_params_)\n",
        "print('GridSearchCV 최고 정확도: {0:.4f}'.format(grid_gbrt.best_score_))"
      ],
      "metadata": {
        "colab": {
          "base_uri": "https://localhost:8080/"
        },
        "id": "H5L3X90pTFC6",
        "outputId": "e2e915f5-32f1-4572-d5ed-53baebe3eebb"
      },
      "execution_count": null,
      "outputs": [
        {
          "output_type": "stream",
          "name": "stdout",
          "text": [
            "GridSearchCV 최적 파라미터: {'learning_rate': 0.1, 'max_depth': 3}\n",
            "GridSearchCV 최고 정확도: 0.9755\n"
          ]
        }
      ]
    },
    {
      "cell_type": "code",
      "source": [
        "# 최적 파라미터로 학습이 된 모델을 이용하여 시험용 데이터 세트 분류\n",
        "print(\"시험용 데이터 세트 정확도: {:.3f}\".format(grid_gbrt.score(X_test, y_test)))"
      ],
      "metadata": {
        "colab": {
          "base_uri": "https://localhost:8080/"
        },
        "id": "-zOZINmETGkh",
        "outputId": "0eed6fe7-6d34-4d2e-ccde-2661eb1c9303"
      },
      "execution_count": null,
      "outputs": [
        {
          "output_type": "stream",
          "name": "stdout",
          "text": [
            "시험용 데이터 세트 정확도: 0.975\n"
          ]
        }
      ]
    },
    {
      "cell_type": "markdown",
      "source": [
        "#### 4. 모델평가지표: 정오분류표 ####"
      ],
      "metadata": {
        "id": "RIRNB4qkT83-"
      }
    },
    {
      "cell_type": "code",
      "source": [
        "from sklearn.metrics import accuracy_score, precision_score, recall_score, f1_score\n",
        "from sklearn.metrics import confusion_matrix \n",
        "\n",
        "print(y_test.value_counts()) # y_test 의 B,M 분포\n",
        "\n",
        "dt_pred = tree.predict(X_test)\n",
        "rf_pred = forest.predict(X_test)\n",
        "grid_gbrt_pred = grid_gbrt.predict(X_test)\n",
        "\n",
        "# 예측 결과인 pred와 실제 결과인 y_test의 Confusion Matrix 출력\n",
        "print('Decision tree 시험용 데이터 세트 정확도:{:.3f}'.format(accuracy_score(y_test, dt_pred)))\n",
        "print(confusion_matrix(y_test, dt_pred))\n",
        "print('Random forest 시험용 데이터 세트 정확도:{:.3f}'.format(accuracy_score(y_test, rf_pred)))\n",
        "print(confusion_matrix(y_test, rf_pred))\n",
        "print('Gradient boosting 시험용 데이터 세트 정확도:{:.3f}'.format(accuracy_score(y_test, grid_gbrt_pred)))\n",
        "print(confusion_matrix(y_test, grid_gbrt_pred))"
      ],
      "metadata": {
        "colab": {
          "base_uri": "https://localhost:8080/"
        },
        "id": "_FK5kiEoSQ7f",
        "outputId": "122a0ab2-9fd5-4702-dc09-d5b1d105e855"
      },
      "execution_count": null,
      "outputs": [
        {
          "output_type": "stream",
          "name": "stdout",
          "text": [
            "No     3181\n",
            "Yes     279\n",
            "Name: top100, dtype: int64\n",
            "Decision tree 시험용 데이터 세트 정확도:0.912\n",
            "[[2886  295]\n",
            " [   8  271]]\n",
            "Random forest 시험용 데이터 세트 정확도:0.993\n",
            "[[3168   13]\n",
            " [  10  269]]\n",
            "Gradient boosting 시험용 데이터 세트 정확도:0.975\n",
            "[[3151   30]\n",
            " [  58  221]]\n"
          ]
        }
      ]
    },
    {
      "cell_type": "code",
      "source": [
        "from sklearn.metrics import classification_report\n",
        "\n",
        "# 각 클래스가 Positive일 때의 정밀도, 재현율, f1 값을 보여줌 (\"M\"이 Postivit인 경우가 기본값임)\n",
        "# macro avg는 클래스별 점수의 평균을 계산\n",
        "# weighted avg는 클래스의 샘플 수로 가중평균을 계산\n",
        "print(\"Decision Tree:\")\n",
        "print(classification_report(y_test, dt_pred, target_names=[\"No\", \"Yes\"]))\n",
        "print(\"Random Forest:\")\n",
        "print(classification_report(y_test, rf_pred, target_names=[\"No\", \"Yes\"]))\n",
        "print(\"Gradient Boosting:\")\n",
        "print(classification_report(y_test, grid_gbrt_pred, target_names=[\"No\", \"Yes\"]))"
      ],
      "metadata": {
        "colab": {
          "base_uri": "https://localhost:8080/"
        },
        "id": "XfczFxTCTVV7",
        "outputId": "527227ee-49cc-48be-c294-cf8b618ec672"
      },
      "execution_count": null,
      "outputs": [
        {
          "output_type": "stream",
          "name": "stdout",
          "text": [
            "Decision Tree:\n",
            "              precision    recall  f1-score   support\n",
            "\n",
            "          No       1.00      0.91      0.95      3181\n",
            "         Yes       0.48      0.97      0.64       279\n",
            "\n",
            "    accuracy                           0.91      3460\n",
            "   macro avg       0.74      0.94      0.80      3460\n",
            "weighted avg       0.96      0.91      0.93      3460\n",
            "\n",
            "Random Forest:\n",
            "              precision    recall  f1-score   support\n",
            "\n",
            "          No       1.00      1.00      1.00      3181\n",
            "         Yes       0.95      0.96      0.96       279\n",
            "\n",
            "    accuracy                           0.99      3460\n",
            "   macro avg       0.98      0.98      0.98      3460\n",
            "weighted avg       0.99      0.99      0.99      3460\n",
            "\n",
            "Gradient Boosting:\n",
            "              precision    recall  f1-score   support\n",
            "\n",
            "          No       0.98      0.99      0.99      3181\n",
            "         Yes       0.88      0.79      0.83       279\n",
            "\n",
            "    accuracy                           0.97      3460\n",
            "   macro avg       0.93      0.89      0.91      3460\n",
            "weighted avg       0.97      0.97      0.97      3460\n",
            "\n"
          ]
        }
      ]
    },
    {
      "cell_type": "markdown",
      "source": [
        "### 인사이트 도출\n",
        "\n",
        "3가지 분석모델에서 모두 popularity 변수의 중요도가 월등히 높았다.\n",
        "의사결정나무와 그래디언트 부스팅 모델에서는 pop_mean 변수가, 그리고 랜덤 포레스트 모델에서는 followers 변수가 그 뒤를 이었다.\n",
        "\n",
        "* 제일 정확도가 높은 random forest 모델의 결과를 참고한다면, 아티스트의 성공을 예측하기 위해서는 popularity 변수와 followers 변수를 참고하는 것이 가장 중요할 것으로 추측된다. \n",
        "* 위 결과에 따라서 아티스트의 성공을 위해서는 스포티파이 앨범에서의 좋아요(popularity) 개수와 아티스트의 팔로워 수를 올릴 수 있는 전략을 수립할 필요가 있다."
      ],
      "metadata": {
        "id": "jfRZ2KjYYJY1"
      }
    },
    {
      "cell_type": "markdown",
      "source": [
        "##**Step 3. 군집분석**\n"
      ],
      "metadata": {
        "id": "LPf6gjuy9y6f"
      }
    }
  ],
  "metadata": {
    "colab": {
      "collapsed_sections": [
        "-R6ujoIuqiNU"
      ],
      "provenance": [],
      "toc_visible": true,
      "include_colab_link": true
    },
    "kernelspec": {
      "display_name": "Python 3",
      "name": "python3"
    },
    "language_info": {
      "name": "python"
    }
  },
  "nbformat": 4,
  "nbformat_minor": 0
}