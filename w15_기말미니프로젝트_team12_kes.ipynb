{
  "cells": [
    {
      "cell_type": "markdown",
      "metadata": {
        "id": "view-in-github",
        "colab_type": "text"
      },
      "source": [
        "<a href=\"https://colab.research.google.com/github/rnjsdmstj/ITB2022/blob/main/w15_%EA%B8%B0%EB%A7%90%EB%AF%B8%EB%8B%88%ED%94%84%EB%A1%9C%EC%A0%9D%ED%8A%B8_team12_kes.ipynb\" target=\"_parent\"><img src=\"https://colab.research.google.com/assets/colab-badge.svg\" alt=\"Open In Colab\"/></a>"
      ]
    },
    {
      "cell_type": "markdown",
      "metadata": {
        "id": "h_bvLOVLGej6"
      },
      "source": [
        "# **22-2 ITB 기말 미니 프로젝트**\n",
        "\n",
        "\n",
        "**팀명: 12조**\n",
        "\n",
        "**팀원: 숙명여자대학교 홍보광고학과 이지우, 경영학부 권은서, 김민서**"
      ]
    },
    {
      "cell_type": "markdown",
      "metadata": {
        "id": "-R6ujoIuqiNU"
      },
      "source": [
        "필수 실행 코드\n",
        "\n"
      ]
    },
    {
      "cell_type": "code",
      "execution_count": 139,
      "metadata": {
        "id": "vU3tFJEAPlbS",
        "colab": {
          "base_uri": "https://localhost:8080/"
        },
        "outputId": "9edc61ca-3a4e-48fb-cc7c-322a94b910d7"
      },
      "outputs": [
        {
          "output_type": "stream",
          "name": "stdout",
          "text": [
            "Reading package lists... Done\n",
            "Building dependency tree       \n",
            "Reading state information... Done\n",
            "fonts-nanum is already the newest version (20170925-1).\n",
            "The following package was automatically installed and is no longer required:\n",
            "  libnvidia-common-460\n",
            "Use 'sudo apt autoremove' to remove it.\n",
            "0 upgraded, 0 newly installed, 0 to remove and 7 not upgraded.\n",
            "/usr/share/fonts: caching, new cache contents: 0 fonts, 1 dirs\n",
            "/usr/share/fonts/truetype: caching, new cache contents: 0 fonts, 3 dirs\n",
            "/usr/share/fonts/truetype/humor-sans: caching, new cache contents: 1 fonts, 0 dirs\n",
            "/usr/share/fonts/truetype/liberation: caching, new cache contents: 16 fonts, 0 dirs\n",
            "/usr/share/fonts/truetype/nanum: caching, new cache contents: 10 fonts, 0 dirs\n",
            "/usr/local/share/fonts: caching, new cache contents: 0 fonts, 0 dirs\n",
            "/root/.local/share/fonts: skipping, no such directory\n",
            "/root/.fonts: skipping, no such directory\n",
            "/var/cache/fontconfig: cleaning cache directory\n",
            "/root/.cache/fontconfig: not cleaning non-existent cache directory\n",
            "/root/.fontconfig: not cleaning non-existent cache directory\n",
            "fc-cache: succeeded\n"
          ]
        }
      ],
      "source": [
        "#한글 깨짐 방지\n",
        "!sudo apt-get install -y fonts-nanum\n",
        "!sudo fc-cache -fv\n",
        "!rm ~/.cache/matplotlib -rf\n",
        "\n",
        "#해당 코드 실행 후 런타임을 다시 실행하면 한글이 깨지지 않음"
      ]
    },
    {
      "cell_type": "code",
      "execution_count": 140,
      "metadata": {
        "id": "OA1l96sWs0Ku"
      },
      "outputs": [],
      "source": [
        "#패키지 불러오기\n",
        "import pandas as pd\n",
        "import numpy as np\n",
        "import matplotlib.pyplot as plt"
      ]
    },
    {
      "cell_type": "code",
      "execution_count": 141,
      "metadata": {
        "id": "8LemX_aYlvt8"
      },
      "outputs": [],
      "source": [
        "#폰트 설정\n",
        "import matplotlib.pyplot as plt\n",
        "plt.rc('font', family='NanumBarunGothic')"
      ]
    },
    {
      "cell_type": "code",
      "execution_count": 142,
      "metadata": {
        "colab": {
          "base_uri": "https://localhost:8080/"
        },
        "id": "tNNdKjIvr2jS",
        "outputId": "94d5fa3e-3abb-4f1c-96c3-0ea362f32953"
      },
      "outputs": [
        {
          "output_type": "stream",
          "name": "stdout",
          "text": [
            "Drive already mounted at /content/drive; to attempt to forcibly remount, call drive.mount(\"/content/drive\", force_remount=True).\n"
          ]
        }
      ],
      "source": [
        "#파일 경로 설정\n",
        "from google.colab import drive\n",
        "drive.mount('/content/drive')"
      ]
    },
    {
      "cell_type": "markdown",
      "metadata": {
        "id": "a2AJpvl1OEkG"
      },
      "source": [
        "## **Step 1.데이터 전처리**"
      ]
    },
    {
      "cell_type": "markdown",
      "metadata": {
        "id": "TbYiYclVRe5u"
      },
      "source": [
        "### **1) charts.csv 전처리**\n",
        "2019년 11월~2021년 11월까지 2년 간 매월 첫 주차에 해당하는 Top 100 아티스트의 데이터 추출하기"
      ]
    },
    {
      "cell_type": "markdown",
      "metadata": {
        "id": "Awfo4Tj_bRWX"
      },
      "source": [
        "\n",
        "***엑셀을 사용해 charts.csv에 월 주차를 나타내는 변수 week 추가***\n",
        "\n",
        "```\n",
        "사용함수 : =WEEKNUM(B2,11)-WEEKNUM(DATE(YEAR(B2),MONTH(B2),1),11)+1\n",
        "```"
      ]
    },
    {
      "cell_type": "markdown",
      "metadata": {
        "id": "IE2GffW9dSBW"
      },
      "source": [
        "***조건 기간(2019년 11월~2021년 11월)에 맞는 행만 남기고 제거하기***\n",
        "\n"
      ]
    },
    {
      "cell_type": "code",
      "execution_count": 143,
      "metadata": {
        "id": "NRXtOfOfHBBJ"
      },
      "outputs": [],
      "source": [
        "#csv파일 불러오기\n",
        "charts = pd.read_csv(\"/content/drive/My Drive/Colab Notebooks/Bigmining/charts_new.csv\", encoding='cp949')"
      ]
    },
    {
      "cell_type": "code",
      "execution_count": 144,
      "metadata": {
        "id": "c4qnpC6QdXX9",
        "colab": {
          "base_uri": "https://localhost:8080/",
          "height": 206
        },
        "outputId": "b2f91bed-1f28-42ac-a0c3-7d5694f4f2ff"
      },
      "outputs": [
        {
          "output_type": "display_data",
          "data": {
            "text/plain": [
              "   week        date  rank           song                         artist  \\\n",
              "0     1  2021-11-06     1     Easy On Me                          Adele   \n",
              "1     1  2021-11-06     2           Stay  The Kid LAROI & Justin Bieber   \n",
              "2     1  2021-11-06     3  Industry Baby        Lil Nas X & Jack Harlow   \n",
              "3     1  2021-11-06     4     Fancy Like                   Walker Hayes   \n",
              "4     1  2021-11-06     5     Bad Habits                     Ed Sheeran   \n",
              "\n",
              "   last-week  peak-rank  weeks-on-board  \n",
              "0        1.0          1               3  \n",
              "1        2.0          1              16  \n",
              "2        3.0          1              14  \n",
              "3        4.0          3              19  \n",
              "4        5.0          2              18  "
            ],
            "text/html": [
              "\n",
              "  <div id=\"df-5e4334f7-e483-4b19-a825-d24a83a96155\">\n",
              "    <div class=\"colab-df-container\">\n",
              "      <div>\n",
              "<style scoped>\n",
              "    .dataframe tbody tr th:only-of-type {\n",
              "        vertical-align: middle;\n",
              "    }\n",
              "\n",
              "    .dataframe tbody tr th {\n",
              "        vertical-align: top;\n",
              "    }\n",
              "\n",
              "    .dataframe thead th {\n",
              "        text-align: right;\n",
              "    }\n",
              "</style>\n",
              "<table border=\"1\" class=\"dataframe\">\n",
              "  <thead>\n",
              "    <tr style=\"text-align: right;\">\n",
              "      <th></th>\n",
              "      <th>week</th>\n",
              "      <th>date</th>\n",
              "      <th>rank</th>\n",
              "      <th>song</th>\n",
              "      <th>artist</th>\n",
              "      <th>last-week</th>\n",
              "      <th>peak-rank</th>\n",
              "      <th>weeks-on-board</th>\n",
              "    </tr>\n",
              "  </thead>\n",
              "  <tbody>\n",
              "    <tr>\n",
              "      <th>0</th>\n",
              "      <td>1</td>\n",
              "      <td>2021-11-06</td>\n",
              "      <td>1</td>\n",
              "      <td>Easy On Me</td>\n",
              "      <td>Adele</td>\n",
              "      <td>1.0</td>\n",
              "      <td>1</td>\n",
              "      <td>3</td>\n",
              "    </tr>\n",
              "    <tr>\n",
              "      <th>1</th>\n",
              "      <td>1</td>\n",
              "      <td>2021-11-06</td>\n",
              "      <td>2</td>\n",
              "      <td>Stay</td>\n",
              "      <td>The Kid LAROI &amp; Justin Bieber</td>\n",
              "      <td>2.0</td>\n",
              "      <td>1</td>\n",
              "      <td>16</td>\n",
              "    </tr>\n",
              "    <tr>\n",
              "      <th>2</th>\n",
              "      <td>1</td>\n",
              "      <td>2021-11-06</td>\n",
              "      <td>3</td>\n",
              "      <td>Industry Baby</td>\n",
              "      <td>Lil Nas X &amp; Jack Harlow</td>\n",
              "      <td>3.0</td>\n",
              "      <td>1</td>\n",
              "      <td>14</td>\n",
              "    </tr>\n",
              "    <tr>\n",
              "      <th>3</th>\n",
              "      <td>1</td>\n",
              "      <td>2021-11-06</td>\n",
              "      <td>4</td>\n",
              "      <td>Fancy Like</td>\n",
              "      <td>Walker Hayes</td>\n",
              "      <td>4.0</td>\n",
              "      <td>3</td>\n",
              "      <td>19</td>\n",
              "    </tr>\n",
              "    <tr>\n",
              "      <th>4</th>\n",
              "      <td>1</td>\n",
              "      <td>2021-11-06</td>\n",
              "      <td>5</td>\n",
              "      <td>Bad Habits</td>\n",
              "      <td>Ed Sheeran</td>\n",
              "      <td>5.0</td>\n",
              "      <td>2</td>\n",
              "      <td>18</td>\n",
              "    </tr>\n",
              "  </tbody>\n",
              "</table>\n",
              "</div>\n",
              "      <button class=\"colab-df-convert\" onclick=\"convertToInteractive('df-5e4334f7-e483-4b19-a825-d24a83a96155')\"\n",
              "              title=\"Convert this dataframe to an interactive table.\"\n",
              "              style=\"display:none;\">\n",
              "        \n",
              "  <svg xmlns=\"http://www.w3.org/2000/svg\" height=\"24px\"viewBox=\"0 0 24 24\"\n",
              "       width=\"24px\">\n",
              "    <path d=\"M0 0h24v24H0V0z\" fill=\"none\"/>\n",
              "    <path d=\"M18.56 5.44l.94 2.06.94-2.06 2.06-.94-2.06-.94-.94-2.06-.94 2.06-2.06.94zm-11 1L8.5 8.5l.94-2.06 2.06-.94-2.06-.94L8.5 2.5l-.94 2.06-2.06.94zm10 10l.94 2.06.94-2.06 2.06-.94-2.06-.94-.94-2.06-.94 2.06-2.06.94z\"/><path d=\"M17.41 7.96l-1.37-1.37c-.4-.4-.92-.59-1.43-.59-.52 0-1.04.2-1.43.59L10.3 9.45l-7.72 7.72c-.78.78-.78 2.05 0 2.83L4 21.41c.39.39.9.59 1.41.59.51 0 1.02-.2 1.41-.59l7.78-7.78 2.81-2.81c.8-.78.8-2.07 0-2.86zM5.41 20L4 18.59l7.72-7.72 1.47 1.35L5.41 20z\"/>\n",
              "  </svg>\n",
              "      </button>\n",
              "      \n",
              "  <style>\n",
              "    .colab-df-container {\n",
              "      display:flex;\n",
              "      flex-wrap:wrap;\n",
              "      gap: 12px;\n",
              "    }\n",
              "\n",
              "    .colab-df-convert {\n",
              "      background-color: #E8F0FE;\n",
              "      border: none;\n",
              "      border-radius: 50%;\n",
              "      cursor: pointer;\n",
              "      display: none;\n",
              "      fill: #1967D2;\n",
              "      height: 32px;\n",
              "      padding: 0 0 0 0;\n",
              "      width: 32px;\n",
              "    }\n",
              "\n",
              "    .colab-df-convert:hover {\n",
              "      background-color: #E2EBFA;\n",
              "      box-shadow: 0px 1px 2px rgba(60, 64, 67, 0.3), 0px 1px 3px 1px rgba(60, 64, 67, 0.15);\n",
              "      fill: #174EA6;\n",
              "    }\n",
              "\n",
              "    [theme=dark] .colab-df-convert {\n",
              "      background-color: #3B4455;\n",
              "      fill: #D2E3FC;\n",
              "    }\n",
              "\n",
              "    [theme=dark] .colab-df-convert:hover {\n",
              "      background-color: #434B5C;\n",
              "      box-shadow: 0px 1px 3px 1px rgba(0, 0, 0, 0.15);\n",
              "      filter: drop-shadow(0px 1px 2px rgba(0, 0, 0, 0.3));\n",
              "      fill: #FFFFFF;\n",
              "    }\n",
              "  </style>\n",
              "\n",
              "      <script>\n",
              "        const buttonEl =\n",
              "          document.querySelector('#df-5e4334f7-e483-4b19-a825-d24a83a96155 button.colab-df-convert');\n",
              "        buttonEl.style.display =\n",
              "          google.colab.kernel.accessAllowed ? 'block' : 'none';\n",
              "\n",
              "        async function convertToInteractive(key) {\n",
              "          const element = document.querySelector('#df-5e4334f7-e483-4b19-a825-d24a83a96155');\n",
              "          const dataTable =\n",
              "            await google.colab.kernel.invokeFunction('convertToInteractive',\n",
              "                                                     [key], {});\n",
              "          if (!dataTable) return;\n",
              "\n",
              "          const docLinkHtml = 'Like what you see? Visit the ' +\n",
              "            '<a target=\"_blank\" href=https://colab.research.google.com/notebooks/data_table.ipynb>data table notebook</a>'\n",
              "            + ' to learn more about interactive tables.';\n",
              "          element.innerHTML = '';\n",
              "          dataTable['output_type'] = 'display_data';\n",
              "          await google.colab.output.renderOutput(dataTable, element);\n",
              "          const docLink = document.createElement('div');\n",
              "          docLink.innerHTML = docLinkHtml;\n",
              "          element.appendChild(docLink);\n",
              "        }\n",
              "      </script>\n",
              "    </div>\n",
              "  </div>\n",
              "  "
            ]
          },
          "metadata": {}
        }
      ],
      "source": [
        "#데이터 확인\n",
        "display(charts.head())"
      ]
    },
    {
      "cell_type": "code",
      "execution_count": 145,
      "metadata": {
        "id": "ZMyvnIT-dk3F"
      },
      "outputs": [],
      "source": [
        "#date를 인덱스로 설정\n",
        "charts = charts.set_index('date')"
      ]
    },
    {
      "cell_type": "code",
      "execution_count": 146,
      "metadata": {
        "id": "Z7cWCDHohVIJ"
      },
      "outputs": [],
      "source": [
        "#기간에 맞는 행만 추출해 charts에 저장\n",
        "charts = charts[:'2019-10-31']"
      ]
    },
    {
      "cell_type": "markdown",
      "metadata": {
        "id": "jVdlk7wQh29r"
      },
      "source": [
        "***매월 1주차에 해당하는 열만 남기고 제거하기***"
      ]
    },
    {
      "cell_type": "code",
      "execution_count": 147,
      "metadata": {
        "id": "ZFBHkeGJiEoM"
      },
      "outputs": [],
      "source": [
        "#인덱스를 행 번호로 바꾸기\n",
        "charts = charts.reset_index()\n",
        "\n",
        "#display(charts.head())"
      ]
    },
    {
      "cell_type": "code",
      "execution_count": 148,
      "metadata": {
        "id": "suqnoTIyiL4_"
      },
      "outputs": [],
      "source": [
        "#week!=1인 열 제거하기\n",
        "no_week = charts[charts['week']!=1].index\n",
        "charts = charts.drop(no_week)"
      ]
    },
    {
      "cell_type": "markdown",
      "metadata": {
        "id": "JL7AaMx6jd1g"
      },
      "source": [
        "***데이터 분석에 사용할 칼럼만 추출하기***\n",
        "\n",
        "(후반부에서 데이터를 합칠 때 해당 칼럼들이 사용될 가능성이 낮아 'artist'만 남겨도 상관없을 것 같아요 -지우)"
      ]
    },
    {
      "cell_type": "code",
      "execution_count": 149,
      "metadata": {
        "id": "xz3JKUC_kUwI"
      },
      "outputs": [],
      "source": [
        "charts = charts.loc[:,['date','rank','artist','weeks-on-board']]\n",
        "\n",
        "#print(charts)\n",
        "#display(charts.head())"
      ]
    },
    {
      "cell_type": "markdown",
      "metadata": {
        "id": "iEUPQLMavGDk"
      },
      "source": [
        "***'artist'를 기준으로 중복되는 행 제거***\n"
      ]
    },
    {
      "cell_type": "code",
      "execution_count": 150,
      "metadata": {
        "id": "CpDiJEH3vTvH",
        "colab": {
          "base_uri": "https://localhost:8080/",
          "height": 424
        },
        "outputId": "62822f75-17da-4bb7-d0b6-3c68e8452025"
      },
      "outputs": [
        {
          "output_type": "execute_result",
          "data": {
            "text/plain": [
              "             date  rank                                             artist  \\\n",
              "0      2021-11-06     1                                              Adele   \n",
              "1      2021-11-06     2                      The Kid LAROI & Justin Bieber   \n",
              "2      2021-11-06     3                            Lil Nas X & Jack Harlow   \n",
              "3      2021-11-06     4                                       Walker Hayes   \n",
              "4      2021-11-06     5                                         Ed Sheeran   \n",
              "...           ...   ...                                                ...   \n",
              "10594  2019-11-02    95                 Summer Walker Featuring Jhene Aiko   \n",
              "10596  2019-11-02    97  Internet Money, Lil Tecca & A Boogie Wit da Ho...   \n",
              "10597  2019-11-02    98                                        Frank Ocean   \n",
              "10598  2019-11-02    99                       Ariana Grande & Social House   \n",
              "10599  2019-11-02   100            DJ Khaled Featuring Cardi B & 21 Savage   \n",
              "\n",
              "       weeks-on-board  \n",
              "0                   3  \n",
              "1                  16  \n",
              "2                  14  \n",
              "3                  19  \n",
              "4                  18  \n",
              "...               ...  \n",
              "10594               3  \n",
              "10596               1  \n",
              "10597               1  \n",
              "10598              12  \n",
              "10599              15  \n",
              "\n",
              "[545 rows x 4 columns]"
            ],
            "text/html": [
              "\n",
              "  <div id=\"df-a60a27e8-ee77-4364-8751-636a0376510b\">\n",
              "    <div class=\"colab-df-container\">\n",
              "      <div>\n",
              "<style scoped>\n",
              "    .dataframe tbody tr th:only-of-type {\n",
              "        vertical-align: middle;\n",
              "    }\n",
              "\n",
              "    .dataframe tbody tr th {\n",
              "        vertical-align: top;\n",
              "    }\n",
              "\n",
              "    .dataframe thead th {\n",
              "        text-align: right;\n",
              "    }\n",
              "</style>\n",
              "<table border=\"1\" class=\"dataframe\">\n",
              "  <thead>\n",
              "    <tr style=\"text-align: right;\">\n",
              "      <th></th>\n",
              "      <th>date</th>\n",
              "      <th>rank</th>\n",
              "      <th>artist</th>\n",
              "      <th>weeks-on-board</th>\n",
              "    </tr>\n",
              "  </thead>\n",
              "  <tbody>\n",
              "    <tr>\n",
              "      <th>0</th>\n",
              "      <td>2021-11-06</td>\n",
              "      <td>1</td>\n",
              "      <td>Adele</td>\n",
              "      <td>3</td>\n",
              "    </tr>\n",
              "    <tr>\n",
              "      <th>1</th>\n",
              "      <td>2021-11-06</td>\n",
              "      <td>2</td>\n",
              "      <td>The Kid LAROI &amp; Justin Bieber</td>\n",
              "      <td>16</td>\n",
              "    </tr>\n",
              "    <tr>\n",
              "      <th>2</th>\n",
              "      <td>2021-11-06</td>\n",
              "      <td>3</td>\n",
              "      <td>Lil Nas X &amp; Jack Harlow</td>\n",
              "      <td>14</td>\n",
              "    </tr>\n",
              "    <tr>\n",
              "      <th>3</th>\n",
              "      <td>2021-11-06</td>\n",
              "      <td>4</td>\n",
              "      <td>Walker Hayes</td>\n",
              "      <td>19</td>\n",
              "    </tr>\n",
              "    <tr>\n",
              "      <th>4</th>\n",
              "      <td>2021-11-06</td>\n",
              "      <td>5</td>\n",
              "      <td>Ed Sheeran</td>\n",
              "      <td>18</td>\n",
              "    </tr>\n",
              "    <tr>\n",
              "      <th>...</th>\n",
              "      <td>...</td>\n",
              "      <td>...</td>\n",
              "      <td>...</td>\n",
              "      <td>...</td>\n",
              "    </tr>\n",
              "    <tr>\n",
              "      <th>10594</th>\n",
              "      <td>2019-11-02</td>\n",
              "      <td>95</td>\n",
              "      <td>Summer Walker Featuring Jhene Aiko</td>\n",
              "      <td>3</td>\n",
              "    </tr>\n",
              "    <tr>\n",
              "      <th>10596</th>\n",
              "      <td>2019-11-02</td>\n",
              "      <td>97</td>\n",
              "      <td>Internet Money, Lil Tecca &amp; A Boogie Wit da Ho...</td>\n",
              "      <td>1</td>\n",
              "    </tr>\n",
              "    <tr>\n",
              "      <th>10597</th>\n",
              "      <td>2019-11-02</td>\n",
              "      <td>98</td>\n",
              "      <td>Frank Ocean</td>\n",
              "      <td>1</td>\n",
              "    </tr>\n",
              "    <tr>\n",
              "      <th>10598</th>\n",
              "      <td>2019-11-02</td>\n",
              "      <td>99</td>\n",
              "      <td>Ariana Grande &amp; Social House</td>\n",
              "      <td>12</td>\n",
              "    </tr>\n",
              "    <tr>\n",
              "      <th>10599</th>\n",
              "      <td>2019-11-02</td>\n",
              "      <td>100</td>\n",
              "      <td>DJ Khaled Featuring Cardi B &amp; 21 Savage</td>\n",
              "      <td>15</td>\n",
              "    </tr>\n",
              "  </tbody>\n",
              "</table>\n",
              "<p>545 rows × 4 columns</p>\n",
              "</div>\n",
              "      <button class=\"colab-df-convert\" onclick=\"convertToInteractive('df-a60a27e8-ee77-4364-8751-636a0376510b')\"\n",
              "              title=\"Convert this dataframe to an interactive table.\"\n",
              "              style=\"display:none;\">\n",
              "        \n",
              "  <svg xmlns=\"http://www.w3.org/2000/svg\" height=\"24px\"viewBox=\"0 0 24 24\"\n",
              "       width=\"24px\">\n",
              "    <path d=\"M0 0h24v24H0V0z\" fill=\"none\"/>\n",
              "    <path d=\"M18.56 5.44l.94 2.06.94-2.06 2.06-.94-2.06-.94-.94-2.06-.94 2.06-2.06.94zm-11 1L8.5 8.5l.94-2.06 2.06-.94-2.06-.94L8.5 2.5l-.94 2.06-2.06.94zm10 10l.94 2.06.94-2.06 2.06-.94-2.06-.94-.94-2.06-.94 2.06-2.06.94z\"/><path d=\"M17.41 7.96l-1.37-1.37c-.4-.4-.92-.59-1.43-.59-.52 0-1.04.2-1.43.59L10.3 9.45l-7.72 7.72c-.78.78-.78 2.05 0 2.83L4 21.41c.39.39.9.59 1.41.59.51 0 1.02-.2 1.41-.59l7.78-7.78 2.81-2.81c.8-.78.8-2.07 0-2.86zM5.41 20L4 18.59l7.72-7.72 1.47 1.35L5.41 20z\"/>\n",
              "  </svg>\n",
              "      </button>\n",
              "      \n",
              "  <style>\n",
              "    .colab-df-container {\n",
              "      display:flex;\n",
              "      flex-wrap:wrap;\n",
              "      gap: 12px;\n",
              "    }\n",
              "\n",
              "    .colab-df-convert {\n",
              "      background-color: #E8F0FE;\n",
              "      border: none;\n",
              "      border-radius: 50%;\n",
              "      cursor: pointer;\n",
              "      display: none;\n",
              "      fill: #1967D2;\n",
              "      height: 32px;\n",
              "      padding: 0 0 0 0;\n",
              "      width: 32px;\n",
              "    }\n",
              "\n",
              "    .colab-df-convert:hover {\n",
              "      background-color: #E2EBFA;\n",
              "      box-shadow: 0px 1px 2px rgba(60, 64, 67, 0.3), 0px 1px 3px 1px rgba(60, 64, 67, 0.15);\n",
              "      fill: #174EA6;\n",
              "    }\n",
              "\n",
              "    [theme=dark] .colab-df-convert {\n",
              "      background-color: #3B4455;\n",
              "      fill: #D2E3FC;\n",
              "    }\n",
              "\n",
              "    [theme=dark] .colab-df-convert:hover {\n",
              "      background-color: #434B5C;\n",
              "      box-shadow: 0px 1px 3px 1px rgba(0, 0, 0, 0.15);\n",
              "      filter: drop-shadow(0px 1px 2px rgba(0, 0, 0, 0.3));\n",
              "      fill: #FFFFFF;\n",
              "    }\n",
              "  </style>\n",
              "\n",
              "      <script>\n",
              "        const buttonEl =\n",
              "          document.querySelector('#df-a60a27e8-ee77-4364-8751-636a0376510b button.colab-df-convert');\n",
              "        buttonEl.style.display =\n",
              "          google.colab.kernel.accessAllowed ? 'block' : 'none';\n",
              "\n",
              "        async function convertToInteractive(key) {\n",
              "          const element = document.querySelector('#df-a60a27e8-ee77-4364-8751-636a0376510b');\n",
              "          const dataTable =\n",
              "            await google.colab.kernel.invokeFunction('convertToInteractive',\n",
              "                                                     [key], {});\n",
              "          if (!dataTable) return;\n",
              "\n",
              "          const docLinkHtml = 'Like what you see? Visit the ' +\n",
              "            '<a target=\"_blank\" href=https://colab.research.google.com/notebooks/data_table.ipynb>data table notebook</a>'\n",
              "            + ' to learn more about interactive tables.';\n",
              "          element.innerHTML = '';\n",
              "          dataTable['output_type'] = 'display_data';\n",
              "          await google.colab.output.renderOutput(dataTable, element);\n",
              "          const docLink = document.createElement('div');\n",
              "          docLink.innerHTML = docLinkHtml;\n",
              "          element.appendChild(docLink);\n",
              "        }\n",
              "      </script>\n",
              "    </div>\n",
              "  </div>\n",
              "  "
            ]
          },
          "metadata": {},
          "execution_count": 150
        }
      ],
      "source": [
        "charts.drop_duplicates(['artist'])"
      ]
    },
    {
      "cell_type": "markdown",
      "metadata": {
        "id": "Os8HRyrdoRsF"
      },
      "source": [
        "### **2) feature_corel_100.csv 전처리**"
      ]
    },
    {
      "cell_type": "code",
      "execution_count": 151,
      "metadata": {
        "id": "rihw81jKouE2"
      },
      "outputs": [],
      "source": [
        "#csv파일 불러오기\n",
        "feature = pd.read_csv(\"/content/drive/My Drive/Colab Notebooks/Bigmining/feature_corel_100.csv\")"
      ]
    },
    {
      "cell_type": "code",
      "execution_count": 152,
      "metadata": {
        "id": "BYgmk6pWo6OG",
        "colab": {
          "base_uri": "https://localhost:8080/"
        },
        "outputId": "c325574d-a7a0-4a13-8775-47406561da99"
      },
      "outputs": [
        {
          "output_type": "stream",
          "name": "stdout",
          "text": [
            "            id                name  isdone               spotifyid  \\\n",
            "0       600808               Drake    True  3TVXtAsR1Inumwj472S9r4   \n",
            "1       706819          Ed Sheeran    True  6eUKZXaKkcviH0Ku9w2n3V   \n",
            "2       823336       Ariana Grande    True  66CXWjxzNUsdJxJ2JdwvnR   \n",
            "3      1492430           Bad Bunny    True  4q3ewBCX7sLwd24euuV69X   \n",
            "4       796889          The Weeknd    True  1Xyo4u8uXC1ZmMpatF05PJ   \n",
            "...        ...                 ...     ...                     ...   \n",
            "12900  1418260          Unreqvited    True  1ZYRTJCj869ya07OpEAlGR   \n",
            "12901   844823  Show Me a Dinosaur    True  1wou9vWv5PgrTn3pu3TydQ   \n",
            "12902  1796328              Flovry    True  2pLu3Ut2C3RviYZ3xUanBs   \n",
            "12903   121805            The Bled    True  0EvGuw8fuWFtxhAsBOFTin   \n",
            "12904    11473          Primordial    True  0BZr6WHaejNA63uhZZZZek   \n",
            "\n",
            "                                                  genres  popularity  \\\n",
            "0      ['canadian hip hop', 'canadian pop', 'hip hop'...        98.0   \n",
            "1                                      ['pop', 'uk pop']        95.0   \n",
            "2                                   ['dance pop', 'pop']        93.0   \n",
            "3                  ['latin', 'reggaeton', 'trap latino']       100.0   \n",
            "4      ['canadian contemporary r&b', 'canadian pop', ...        98.0   \n",
            "...                                                  ...         ...   \n",
            "12900  ['atmospheric black metal', 'canadian black me...        32.0   \n",
            "12901  ['instrumental post-rock', 'post-rock', 'russi...        31.0   \n",
            "12902                                    ['lo-fi beats']        53.0   \n",
            "12903  ['arizona punk', 'melodic metalcore', 'post-ha...        32.0   \n",
            "12904  ['black metal', 'celtic metal', 'doom metal', ...        37.0   \n",
            "\n",
            "        followers                                          histogram  \\\n",
            "0      61377383.0  [0, 1, 1, 1, 1, 6, 6, 6, 6, 6, 6, 9, 9, 10, 10...   \n",
            "1      93327682.0  [0, 1, 1, 1, 1, 1, 1, 1, 2, 2, 3, 4, 4, 4, 4, ...   \n",
            "2      76626333.0  [0, 1, 1, 1, 1, 1, 1, 1, 1, 1, 2, 2, 9, 9, 9, ...   \n",
            "3      44516743.0  [0, 1, 1, 2, 4, 4, 5, 5, 6, 7, 8, 8, 8, 9, 9, ...   \n",
            "4      42275433.0  [0, 5, 5, 6, 6, 6, 6, 7, 7, 7, 8, 26, 26, 26, ...   \n",
            "...           ...                                                ...   \n",
            "12900     20071.0  [0, 1, 1, 1, 1, 1, 1, 1, 1, 1, 1, 1, 1, 1, 1, ...   \n",
            "12901     10235.0  [0, 0, 0, 0, 0, 0, 0, 0, 0, 0, 0, 0, 0, 0, 0, ...   \n",
            "12902      7478.0  [0, 0, 0, 0, 0, 0, 0, 0, 0, 0, 0, 0, 0, 0, 0, ...   \n",
            "12903     33531.0  [0, 1, 1, 1, 1, 1, 1, 1, 1, 1, 1, 1, 2, 2, 2, ...   \n",
            "12904     64127.0  [0, 1, 1, 1, 1, 1, 1, 1, 1, 1, 1, 1, 1, 1, 1, ...   \n",
            "\n",
            "       num_release first_release  ...     pop_var  pop_max      fol_mean  \\\n",
            "0              124    2008-06-12  ...  109.819865    100.0  1.100285e+07   \n",
            "1               34    2011-07-11  ...  117.177296     98.0  1.472265e+07   \n",
            "2               94    2011-12-12  ...  165.627500     98.0  1.000831e+07   \n",
            "3               30    2016-11-09  ...  266.004898     98.0  8.425305e+06   \n",
            "4              108    2011-01-01  ...  191.923469     98.0  1.363645e+07   \n",
            "...            ...           ...  ...         ...      ...           ...   \n",
            "12900            3    2017-05-20  ...    6.250000     36.0  1.870100e+04   \n",
            "12901            1    2017-05-20  ...    4.000000     36.0  2.361900e+04   \n",
            "12902            1    2019-11-26  ...    0.000000     62.0  5.242000e+03   \n",
            "12903            7    2001-01-01  ...    0.000000     56.0  3.298930e+05   \n",
            "12904            9    2000-01-01  ...    0.000000     53.0  2.853120e+05   \n",
            "\n",
            "            fol_std       fol_var     fol_max   rel_mean    rel_std  \\\n",
            "0      1.434559e+07  2.057958e+14  57338230.0  53.075472  50.238994   \n",
            "1      1.730608e+07  2.995005e+14  57338230.0  44.035714  54.543221   \n",
            "2      1.214947e+07  1.476096e+14  57338230.0  51.900000  45.408039   \n",
            "3      1.087911e+07  1.183549e+14  61377383.0  23.142857  30.127958   \n",
            "4      1.757874e+07  3.090122e+14  76626333.0  53.178571  36.640194   \n",
            "...             ...           ...         ...        ...        ...   \n",
            "12900  8.466000e+03  7.167316e+07     27167.0   3.500000   2.500000   \n",
            "12901  3.548000e+03  1.258830e+07     27167.0   4.500000   1.500000   \n",
            "12902  0.000000e+00  0.000000e+00      5242.0   2.000000   0.000000   \n",
            "12903  0.000000e+00  0.000000e+00    329893.0   8.000000   0.000000   \n",
            "12904  0.000000e+00  0.000000e+00    285312.0  11.000000   0.000000   \n",
            "\n",
            "           rel_var  rel_max  \n",
            "0      2523.956568    191.0  \n",
            "1      2974.963010    226.0  \n",
            "2      2061.890000    181.0  \n",
            "3       907.693878    181.0  \n",
            "4      1342.503827    151.0  \n",
            "...            ...      ...  \n",
            "12900     6.250000      6.0  \n",
            "12901     2.250000      6.0  \n",
            "12902     0.000000      2.0  \n",
            "12903     0.000000      8.0  \n",
            "12904     0.000000     11.0  \n",
            "\n",
            "[12905 rows x 26 columns]\n"
          ]
        }
      ],
      "source": [
        "#데이터 확인\n",
        "print(feature)"
      ]
    },
    {
      "cell_type": "markdown",
      "source": [
        "***데이터 분석에 사용할 칼럼만 추출하기***"
      ],
      "metadata": {
        "id": "vrwvQRQi-NYC"
      }
    },
    {
      "cell_type": "code",
      "execution_count": 153,
      "metadata": {
        "id": "OBxYWi_YpRyn"
      },
      "outputs": [],
      "source": [
        "feature = feature.loc[:,['id','name','genres','popularity','followers','pop_mean','rel_mean','fol_mean']]"
      ]
    },
    {
      "cell_type": "code",
      "execution_count": 154,
      "metadata": {
        "id": "CbrVTvHiq5-q",
        "colab": {
          "base_uri": "https://localhost:8080/",
          "height": 206
        },
        "outputId": "fa36d118-bb88-4c47-bb6f-dfc0b4652c02"
      },
      "outputs": [
        {
          "output_type": "display_data",
          "data": {
            "text/plain": [
              "        id         artist                                             genres  \\\n",
              "0   600808          Drake  ['canadian hip hop', 'canadian pop', 'hip hop'...   \n",
              "1   706819     Ed Sheeran                                  ['pop', 'uk pop']   \n",
              "2   823336  Ariana Grande                               ['dance pop', 'pop']   \n",
              "3  1492430      Bad Bunny              ['latin', 'reggaeton', 'trap latino']   \n",
              "4   796889     The Weeknd  ['canadian contemporary r&b', 'canadian pop', ...   \n",
              "\n",
              "   popularity   followers   pop_mean   rel_mean      fol_mean  \n",
              "0        98.0  61377383.0  81.377358  53.075472  1.100285e+07  \n",
              "1        95.0  93327682.0  80.035714  44.035714  1.472265e+07  \n",
              "2        93.0  76626333.0  77.650000  51.900000  1.000831e+07  \n",
              "3       100.0  44516743.0  75.628571  23.142857  8.425305e+06  \n",
              "4        98.0  42275433.0  81.928571  53.178571  1.363645e+07  "
            ],
            "text/html": [
              "\n",
              "  <div id=\"df-f264581f-7d55-4b59-b1a1-5443d4d47089\">\n",
              "    <div class=\"colab-df-container\">\n",
              "      <div>\n",
              "<style scoped>\n",
              "    .dataframe tbody tr th:only-of-type {\n",
              "        vertical-align: middle;\n",
              "    }\n",
              "\n",
              "    .dataframe tbody tr th {\n",
              "        vertical-align: top;\n",
              "    }\n",
              "\n",
              "    .dataframe thead th {\n",
              "        text-align: right;\n",
              "    }\n",
              "</style>\n",
              "<table border=\"1\" class=\"dataframe\">\n",
              "  <thead>\n",
              "    <tr style=\"text-align: right;\">\n",
              "      <th></th>\n",
              "      <th>id</th>\n",
              "      <th>artist</th>\n",
              "      <th>genres</th>\n",
              "      <th>popularity</th>\n",
              "      <th>followers</th>\n",
              "      <th>pop_mean</th>\n",
              "      <th>rel_mean</th>\n",
              "      <th>fol_mean</th>\n",
              "    </tr>\n",
              "  </thead>\n",
              "  <tbody>\n",
              "    <tr>\n",
              "      <th>0</th>\n",
              "      <td>600808</td>\n",
              "      <td>Drake</td>\n",
              "      <td>['canadian hip hop', 'canadian pop', 'hip hop'...</td>\n",
              "      <td>98.0</td>\n",
              "      <td>61377383.0</td>\n",
              "      <td>81.377358</td>\n",
              "      <td>53.075472</td>\n",
              "      <td>1.100285e+07</td>\n",
              "    </tr>\n",
              "    <tr>\n",
              "      <th>1</th>\n",
              "      <td>706819</td>\n",
              "      <td>Ed Sheeran</td>\n",
              "      <td>['pop', 'uk pop']</td>\n",
              "      <td>95.0</td>\n",
              "      <td>93327682.0</td>\n",
              "      <td>80.035714</td>\n",
              "      <td>44.035714</td>\n",
              "      <td>1.472265e+07</td>\n",
              "    </tr>\n",
              "    <tr>\n",
              "      <th>2</th>\n",
              "      <td>823336</td>\n",
              "      <td>Ariana Grande</td>\n",
              "      <td>['dance pop', 'pop']</td>\n",
              "      <td>93.0</td>\n",
              "      <td>76626333.0</td>\n",
              "      <td>77.650000</td>\n",
              "      <td>51.900000</td>\n",
              "      <td>1.000831e+07</td>\n",
              "    </tr>\n",
              "    <tr>\n",
              "      <th>3</th>\n",
              "      <td>1492430</td>\n",
              "      <td>Bad Bunny</td>\n",
              "      <td>['latin', 'reggaeton', 'trap latino']</td>\n",
              "      <td>100.0</td>\n",
              "      <td>44516743.0</td>\n",
              "      <td>75.628571</td>\n",
              "      <td>23.142857</td>\n",
              "      <td>8.425305e+06</td>\n",
              "    </tr>\n",
              "    <tr>\n",
              "      <th>4</th>\n",
              "      <td>796889</td>\n",
              "      <td>The Weeknd</td>\n",
              "      <td>['canadian contemporary r&amp;b', 'canadian pop', ...</td>\n",
              "      <td>98.0</td>\n",
              "      <td>42275433.0</td>\n",
              "      <td>81.928571</td>\n",
              "      <td>53.178571</td>\n",
              "      <td>1.363645e+07</td>\n",
              "    </tr>\n",
              "  </tbody>\n",
              "</table>\n",
              "</div>\n",
              "      <button class=\"colab-df-convert\" onclick=\"convertToInteractive('df-f264581f-7d55-4b59-b1a1-5443d4d47089')\"\n",
              "              title=\"Convert this dataframe to an interactive table.\"\n",
              "              style=\"display:none;\">\n",
              "        \n",
              "  <svg xmlns=\"http://www.w3.org/2000/svg\" height=\"24px\"viewBox=\"0 0 24 24\"\n",
              "       width=\"24px\">\n",
              "    <path d=\"M0 0h24v24H0V0z\" fill=\"none\"/>\n",
              "    <path d=\"M18.56 5.44l.94 2.06.94-2.06 2.06-.94-2.06-.94-.94-2.06-.94 2.06-2.06.94zm-11 1L8.5 8.5l.94-2.06 2.06-.94-2.06-.94L8.5 2.5l-.94 2.06-2.06.94zm10 10l.94 2.06.94-2.06 2.06-.94-2.06-.94-.94-2.06-.94 2.06-2.06.94z\"/><path d=\"M17.41 7.96l-1.37-1.37c-.4-.4-.92-.59-1.43-.59-.52 0-1.04.2-1.43.59L10.3 9.45l-7.72 7.72c-.78.78-.78 2.05 0 2.83L4 21.41c.39.39.9.59 1.41.59.51 0 1.02-.2 1.41-.59l7.78-7.78 2.81-2.81c.8-.78.8-2.07 0-2.86zM5.41 20L4 18.59l7.72-7.72 1.47 1.35L5.41 20z\"/>\n",
              "  </svg>\n",
              "      </button>\n",
              "      \n",
              "  <style>\n",
              "    .colab-df-container {\n",
              "      display:flex;\n",
              "      flex-wrap:wrap;\n",
              "      gap: 12px;\n",
              "    }\n",
              "\n",
              "    .colab-df-convert {\n",
              "      background-color: #E8F0FE;\n",
              "      border: none;\n",
              "      border-radius: 50%;\n",
              "      cursor: pointer;\n",
              "      display: none;\n",
              "      fill: #1967D2;\n",
              "      height: 32px;\n",
              "      padding: 0 0 0 0;\n",
              "      width: 32px;\n",
              "    }\n",
              "\n",
              "    .colab-df-convert:hover {\n",
              "      background-color: #E2EBFA;\n",
              "      box-shadow: 0px 1px 2px rgba(60, 64, 67, 0.3), 0px 1px 3px 1px rgba(60, 64, 67, 0.15);\n",
              "      fill: #174EA6;\n",
              "    }\n",
              "\n",
              "    [theme=dark] .colab-df-convert {\n",
              "      background-color: #3B4455;\n",
              "      fill: #D2E3FC;\n",
              "    }\n",
              "\n",
              "    [theme=dark] .colab-df-convert:hover {\n",
              "      background-color: #434B5C;\n",
              "      box-shadow: 0px 1px 3px 1px rgba(0, 0, 0, 0.15);\n",
              "      filter: drop-shadow(0px 1px 2px rgba(0, 0, 0, 0.3));\n",
              "      fill: #FFFFFF;\n",
              "    }\n",
              "  </style>\n",
              "\n",
              "      <script>\n",
              "        const buttonEl =\n",
              "          document.querySelector('#df-f264581f-7d55-4b59-b1a1-5443d4d47089 button.colab-df-convert');\n",
              "        buttonEl.style.display =\n",
              "          google.colab.kernel.accessAllowed ? 'block' : 'none';\n",
              "\n",
              "        async function convertToInteractive(key) {\n",
              "          const element = document.querySelector('#df-f264581f-7d55-4b59-b1a1-5443d4d47089');\n",
              "          const dataTable =\n",
              "            await google.colab.kernel.invokeFunction('convertToInteractive',\n",
              "                                                     [key], {});\n",
              "          if (!dataTable) return;\n",
              "\n",
              "          const docLinkHtml = 'Like what you see? Visit the ' +\n",
              "            '<a target=\"_blank\" href=https://colab.research.google.com/notebooks/data_table.ipynb>data table notebook</a>'\n",
              "            + ' to learn more about interactive tables.';\n",
              "          element.innerHTML = '';\n",
              "          dataTable['output_type'] = 'display_data';\n",
              "          await google.colab.output.renderOutput(dataTable, element);\n",
              "          const docLink = document.createElement('div');\n",
              "          docLink.innerHTML = docLinkHtml;\n",
              "          element.appendChild(docLink);\n",
              "        }\n",
              "      </script>\n",
              "    </div>\n",
              "  </div>\n",
              "  "
            ]
          },
          "metadata": {}
        }
      ],
      "source": [
        "#name을 artist로 변수명 바꾸기\n",
        "feature.rename(columns = {'name':'artist'},inplace=True)\n",
        "display(feature.head())"
      ]
    },
    {
      "cell_type": "markdown",
      "metadata": {
        "id": "_uYU_DADqxAi"
      },
      "source": [
        "### ***3) spotify.csv 만들기***\n",
        "\n",
        "charts와 feature_corel_100 파일을 하나로 합친 새로운 데이터 spotify 만들기\n"
      ]
    },
    {
      "cell_type": "code",
      "execution_count": 155,
      "metadata": {
        "id": "OiOrpVfNqz29",
        "colab": {
          "base_uri": "https://localhost:8080/",
          "height": 641
        },
        "outputId": "dc90e33a-234c-4c52-9238-617f72653f79"
      },
      "outputs": [
        {
          "output_type": "display_data",
          "data": {
            "text/plain": [
              "            id              artist  \\\n",
              "0       600808               Drake   \n",
              "1       600808               Drake   \n",
              "2       600808               Drake   \n",
              "3       600808               Drake   \n",
              "4       600808               Drake   \n",
              "...        ...                 ...   \n",
              "13834  1418260          Unreqvited   \n",
              "13835   844823  Show Me a Dinosaur   \n",
              "13836  1796328              Flovry   \n",
              "13837   121805            The Bled   \n",
              "13838    11473          Primordial   \n",
              "\n",
              "                                                  genres  popularity  \\\n",
              "0      ['canadian hip hop', 'canadian pop', 'hip hop'...        98.0   \n",
              "1      ['canadian hip hop', 'canadian pop', 'hip hop'...        98.0   \n",
              "2      ['canadian hip hop', 'canadian pop', 'hip hop'...        98.0   \n",
              "3      ['canadian hip hop', 'canadian pop', 'hip hop'...        98.0   \n",
              "4      ['canadian hip hop', 'canadian pop', 'hip hop'...        98.0   \n",
              "...                                                  ...         ...   \n",
              "13834  ['atmospheric black metal', 'canadian black me...        32.0   \n",
              "13835  ['instrumental post-rock', 'post-rock', 'russi...        31.0   \n",
              "13836                                    ['lo-fi beats']        53.0   \n",
              "13837  ['arizona punk', 'melodic metalcore', 'post-ha...        32.0   \n",
              "13838  ['black metal', 'celtic metal', 'doom metal', ...        37.0   \n",
              "\n",
              "        followers   pop_mean   rel_mean      fol_mean        date  rank  \\\n",
              "0      61377383.0  81.377358  53.075472  1.100285e+07  2021-11-06  91.0   \n",
              "1      61377383.0  81.377358  53.075472  1.100285e+07  2021-10-02  30.0   \n",
              "2      61377383.0  81.377358  53.075472  1.100285e+07  2021-10-02  40.0   \n",
              "3      61377383.0  81.377358  53.075472  1.100285e+07  2021-10-02  48.0   \n",
              "4      61377383.0  81.377358  53.075472  1.100285e+07  2021-10-02  66.0   \n",
              "...           ...        ...        ...           ...         ...   ...   \n",
              "13834     20071.0  33.500000   3.500000  1.870100e+04         NaN   NaN   \n",
              "13835     10235.0  34.000000   4.500000  2.361900e+04         NaN   NaN   \n",
              "13836      7478.0  62.000000   2.000000  5.242000e+03         NaN   NaN   \n",
              "13837     33531.0  56.000000   8.000000  3.298930e+05         NaN   NaN   \n",
              "13838     64127.0  53.000000  11.000000  2.853120e+05         NaN   NaN   \n",
              "\n",
              "       weeks-on-board  \n",
              "0                 8.0  \n",
              "1                 3.0  \n",
              "2                 3.0  \n",
              "3                 3.0  \n",
              "4                 3.0  \n",
              "...               ...  \n",
              "13834             NaN  \n",
              "13835             NaN  \n",
              "13836             NaN  \n",
              "13837             NaN  \n",
              "13838             NaN  \n",
              "\n",
              "[13839 rows x 11 columns]"
            ],
            "text/html": [
              "\n",
              "  <div id=\"df-4bd62627-56ab-42cc-a4e1-34c4d2919a3f\">\n",
              "    <div class=\"colab-df-container\">\n",
              "      <div>\n",
              "<style scoped>\n",
              "    .dataframe tbody tr th:only-of-type {\n",
              "        vertical-align: middle;\n",
              "    }\n",
              "\n",
              "    .dataframe tbody tr th {\n",
              "        vertical-align: top;\n",
              "    }\n",
              "\n",
              "    .dataframe thead th {\n",
              "        text-align: right;\n",
              "    }\n",
              "</style>\n",
              "<table border=\"1\" class=\"dataframe\">\n",
              "  <thead>\n",
              "    <tr style=\"text-align: right;\">\n",
              "      <th></th>\n",
              "      <th>id</th>\n",
              "      <th>artist</th>\n",
              "      <th>genres</th>\n",
              "      <th>popularity</th>\n",
              "      <th>followers</th>\n",
              "      <th>pop_mean</th>\n",
              "      <th>rel_mean</th>\n",
              "      <th>fol_mean</th>\n",
              "      <th>date</th>\n",
              "      <th>rank</th>\n",
              "      <th>weeks-on-board</th>\n",
              "    </tr>\n",
              "  </thead>\n",
              "  <tbody>\n",
              "    <tr>\n",
              "      <th>0</th>\n",
              "      <td>600808</td>\n",
              "      <td>Drake</td>\n",
              "      <td>['canadian hip hop', 'canadian pop', 'hip hop'...</td>\n",
              "      <td>98.0</td>\n",
              "      <td>61377383.0</td>\n",
              "      <td>81.377358</td>\n",
              "      <td>53.075472</td>\n",
              "      <td>1.100285e+07</td>\n",
              "      <td>2021-11-06</td>\n",
              "      <td>91.0</td>\n",
              "      <td>8.0</td>\n",
              "    </tr>\n",
              "    <tr>\n",
              "      <th>1</th>\n",
              "      <td>600808</td>\n",
              "      <td>Drake</td>\n",
              "      <td>['canadian hip hop', 'canadian pop', 'hip hop'...</td>\n",
              "      <td>98.0</td>\n",
              "      <td>61377383.0</td>\n",
              "      <td>81.377358</td>\n",
              "      <td>53.075472</td>\n",
              "      <td>1.100285e+07</td>\n",
              "      <td>2021-10-02</td>\n",
              "      <td>30.0</td>\n",
              "      <td>3.0</td>\n",
              "    </tr>\n",
              "    <tr>\n",
              "      <th>2</th>\n",
              "      <td>600808</td>\n",
              "      <td>Drake</td>\n",
              "      <td>['canadian hip hop', 'canadian pop', 'hip hop'...</td>\n",
              "      <td>98.0</td>\n",
              "      <td>61377383.0</td>\n",
              "      <td>81.377358</td>\n",
              "      <td>53.075472</td>\n",
              "      <td>1.100285e+07</td>\n",
              "      <td>2021-10-02</td>\n",
              "      <td>40.0</td>\n",
              "      <td>3.0</td>\n",
              "    </tr>\n",
              "    <tr>\n",
              "      <th>3</th>\n",
              "      <td>600808</td>\n",
              "      <td>Drake</td>\n",
              "      <td>['canadian hip hop', 'canadian pop', 'hip hop'...</td>\n",
              "      <td>98.0</td>\n",
              "      <td>61377383.0</td>\n",
              "      <td>81.377358</td>\n",
              "      <td>53.075472</td>\n",
              "      <td>1.100285e+07</td>\n",
              "      <td>2021-10-02</td>\n",
              "      <td>48.0</td>\n",
              "      <td>3.0</td>\n",
              "    </tr>\n",
              "    <tr>\n",
              "      <th>4</th>\n",
              "      <td>600808</td>\n",
              "      <td>Drake</td>\n",
              "      <td>['canadian hip hop', 'canadian pop', 'hip hop'...</td>\n",
              "      <td>98.0</td>\n",
              "      <td>61377383.0</td>\n",
              "      <td>81.377358</td>\n",
              "      <td>53.075472</td>\n",
              "      <td>1.100285e+07</td>\n",
              "      <td>2021-10-02</td>\n",
              "      <td>66.0</td>\n",
              "      <td>3.0</td>\n",
              "    </tr>\n",
              "    <tr>\n",
              "      <th>...</th>\n",
              "      <td>...</td>\n",
              "      <td>...</td>\n",
              "      <td>...</td>\n",
              "      <td>...</td>\n",
              "      <td>...</td>\n",
              "      <td>...</td>\n",
              "      <td>...</td>\n",
              "      <td>...</td>\n",
              "      <td>...</td>\n",
              "      <td>...</td>\n",
              "      <td>...</td>\n",
              "    </tr>\n",
              "    <tr>\n",
              "      <th>13834</th>\n",
              "      <td>1418260</td>\n",
              "      <td>Unreqvited</td>\n",
              "      <td>['atmospheric black metal', 'canadian black me...</td>\n",
              "      <td>32.0</td>\n",
              "      <td>20071.0</td>\n",
              "      <td>33.500000</td>\n",
              "      <td>3.500000</td>\n",
              "      <td>1.870100e+04</td>\n",
              "      <td>NaN</td>\n",
              "      <td>NaN</td>\n",
              "      <td>NaN</td>\n",
              "    </tr>\n",
              "    <tr>\n",
              "      <th>13835</th>\n",
              "      <td>844823</td>\n",
              "      <td>Show Me a Dinosaur</td>\n",
              "      <td>['instrumental post-rock', 'post-rock', 'russi...</td>\n",
              "      <td>31.0</td>\n",
              "      <td>10235.0</td>\n",
              "      <td>34.000000</td>\n",
              "      <td>4.500000</td>\n",
              "      <td>2.361900e+04</td>\n",
              "      <td>NaN</td>\n",
              "      <td>NaN</td>\n",
              "      <td>NaN</td>\n",
              "    </tr>\n",
              "    <tr>\n",
              "      <th>13836</th>\n",
              "      <td>1796328</td>\n",
              "      <td>Flovry</td>\n",
              "      <td>['lo-fi beats']</td>\n",
              "      <td>53.0</td>\n",
              "      <td>7478.0</td>\n",
              "      <td>62.000000</td>\n",
              "      <td>2.000000</td>\n",
              "      <td>5.242000e+03</td>\n",
              "      <td>NaN</td>\n",
              "      <td>NaN</td>\n",
              "      <td>NaN</td>\n",
              "    </tr>\n",
              "    <tr>\n",
              "      <th>13837</th>\n",
              "      <td>121805</td>\n",
              "      <td>The Bled</td>\n",
              "      <td>['arizona punk', 'melodic metalcore', 'post-ha...</td>\n",
              "      <td>32.0</td>\n",
              "      <td>33531.0</td>\n",
              "      <td>56.000000</td>\n",
              "      <td>8.000000</td>\n",
              "      <td>3.298930e+05</td>\n",
              "      <td>NaN</td>\n",
              "      <td>NaN</td>\n",
              "      <td>NaN</td>\n",
              "    </tr>\n",
              "    <tr>\n",
              "      <th>13838</th>\n",
              "      <td>11473</td>\n",
              "      <td>Primordial</td>\n",
              "      <td>['black metal', 'celtic metal', 'doom metal', ...</td>\n",
              "      <td>37.0</td>\n",
              "      <td>64127.0</td>\n",
              "      <td>53.000000</td>\n",
              "      <td>11.000000</td>\n",
              "      <td>2.853120e+05</td>\n",
              "      <td>NaN</td>\n",
              "      <td>NaN</td>\n",
              "      <td>NaN</td>\n",
              "    </tr>\n",
              "  </tbody>\n",
              "</table>\n",
              "<p>13839 rows × 11 columns</p>\n",
              "</div>\n",
              "      <button class=\"colab-df-convert\" onclick=\"convertToInteractive('df-4bd62627-56ab-42cc-a4e1-34c4d2919a3f')\"\n",
              "              title=\"Convert this dataframe to an interactive table.\"\n",
              "              style=\"display:none;\">\n",
              "        \n",
              "  <svg xmlns=\"http://www.w3.org/2000/svg\" height=\"24px\"viewBox=\"0 0 24 24\"\n",
              "       width=\"24px\">\n",
              "    <path d=\"M0 0h24v24H0V0z\" fill=\"none\"/>\n",
              "    <path d=\"M18.56 5.44l.94 2.06.94-2.06 2.06-.94-2.06-.94-.94-2.06-.94 2.06-2.06.94zm-11 1L8.5 8.5l.94-2.06 2.06-.94-2.06-.94L8.5 2.5l-.94 2.06-2.06.94zm10 10l.94 2.06.94-2.06 2.06-.94-2.06-.94-.94-2.06-.94 2.06-2.06.94z\"/><path d=\"M17.41 7.96l-1.37-1.37c-.4-.4-.92-.59-1.43-.59-.52 0-1.04.2-1.43.59L10.3 9.45l-7.72 7.72c-.78.78-.78 2.05 0 2.83L4 21.41c.39.39.9.59 1.41.59.51 0 1.02-.2 1.41-.59l7.78-7.78 2.81-2.81c.8-.78.8-2.07 0-2.86zM5.41 20L4 18.59l7.72-7.72 1.47 1.35L5.41 20z\"/>\n",
              "  </svg>\n",
              "      </button>\n",
              "      \n",
              "  <style>\n",
              "    .colab-df-container {\n",
              "      display:flex;\n",
              "      flex-wrap:wrap;\n",
              "      gap: 12px;\n",
              "    }\n",
              "\n",
              "    .colab-df-convert {\n",
              "      background-color: #E8F0FE;\n",
              "      border: none;\n",
              "      border-radius: 50%;\n",
              "      cursor: pointer;\n",
              "      display: none;\n",
              "      fill: #1967D2;\n",
              "      height: 32px;\n",
              "      padding: 0 0 0 0;\n",
              "      width: 32px;\n",
              "    }\n",
              "\n",
              "    .colab-df-convert:hover {\n",
              "      background-color: #E2EBFA;\n",
              "      box-shadow: 0px 1px 2px rgba(60, 64, 67, 0.3), 0px 1px 3px 1px rgba(60, 64, 67, 0.15);\n",
              "      fill: #174EA6;\n",
              "    }\n",
              "\n",
              "    [theme=dark] .colab-df-convert {\n",
              "      background-color: #3B4455;\n",
              "      fill: #D2E3FC;\n",
              "    }\n",
              "\n",
              "    [theme=dark] .colab-df-convert:hover {\n",
              "      background-color: #434B5C;\n",
              "      box-shadow: 0px 1px 3px 1px rgba(0, 0, 0, 0.15);\n",
              "      filter: drop-shadow(0px 1px 2px rgba(0, 0, 0, 0.3));\n",
              "      fill: #FFFFFF;\n",
              "    }\n",
              "  </style>\n",
              "\n",
              "      <script>\n",
              "        const buttonEl =\n",
              "          document.querySelector('#df-4bd62627-56ab-42cc-a4e1-34c4d2919a3f button.colab-df-convert');\n",
              "        buttonEl.style.display =\n",
              "          google.colab.kernel.accessAllowed ? 'block' : 'none';\n",
              "\n",
              "        async function convertToInteractive(key) {\n",
              "          const element = document.querySelector('#df-4bd62627-56ab-42cc-a4e1-34c4d2919a3f');\n",
              "          const dataTable =\n",
              "            await google.colab.kernel.invokeFunction('convertToInteractive',\n",
              "                                                     [key], {});\n",
              "          if (!dataTable) return;\n",
              "\n",
              "          const docLinkHtml = 'Like what you see? Visit the ' +\n",
              "            '<a target=\"_blank\" href=https://colab.research.google.com/notebooks/data_table.ipynb>data table notebook</a>'\n",
              "            + ' to learn more about interactive tables.';\n",
              "          element.innerHTML = '';\n",
              "          dataTable['output_type'] = 'display_data';\n",
              "          await google.colab.output.renderOutput(dataTable, element);\n",
              "          const docLink = document.createElement('div');\n",
              "          docLink.innerHTML = docLinkHtml;\n",
              "          element.appendChild(docLink);\n",
              "        }\n",
              "      </script>\n",
              "    </div>\n",
              "  </div>\n",
              "  "
            ]
          },
          "metadata": {}
        }
      ],
      "source": [
        "#데이터 합치기\n",
        "spotify = pd.merge(feature,charts,how='left',on='artist')\n",
        "display(spotify)"
      ]
    },
    {
      "cell_type": "markdown",
      "metadata": {
        "id": "x-yhYRtdw_5j"
      },
      "source": [
        "***Top100에 차트인 한 아티스트는 yes, 그렇지 않은 아티스트는 no인 새로운 변수 'top100'만들기***"
      ]
    },
    {
      "cell_type": "code",
      "execution_count": 156,
      "metadata": {
        "id": "KGZeKYc_x_-G",
        "colab": {
          "base_uri": "https://localhost:8080/",
          "height": 797
        },
        "outputId": "9da83a24-d463-46bd-b3f6-28ce73ae52c5"
      },
      "outputs": [
        {
          "output_type": "display_data",
          "data": {
            "text/plain": [
              "            id              artist  \\\n",
              "0       600808               Drake   \n",
              "1       600808               Drake   \n",
              "2       600808               Drake   \n",
              "3       600808               Drake   \n",
              "4       600808               Drake   \n",
              "...        ...                 ...   \n",
              "13834  1418260          Unreqvited   \n",
              "13835   844823  Show Me a Dinosaur   \n",
              "13836  1796328              Flovry   \n",
              "13837   121805            The Bled   \n",
              "13838    11473          Primordial   \n",
              "\n",
              "                                                  genres  popularity  \\\n",
              "0      ['canadian hip hop', 'canadian pop', 'hip hop'...        98.0   \n",
              "1      ['canadian hip hop', 'canadian pop', 'hip hop'...        98.0   \n",
              "2      ['canadian hip hop', 'canadian pop', 'hip hop'...        98.0   \n",
              "3      ['canadian hip hop', 'canadian pop', 'hip hop'...        98.0   \n",
              "4      ['canadian hip hop', 'canadian pop', 'hip hop'...        98.0   \n",
              "...                                                  ...         ...   \n",
              "13834  ['atmospheric black metal', 'canadian black me...        32.0   \n",
              "13835  ['instrumental post-rock', 'post-rock', 'russi...        31.0   \n",
              "13836                                    ['lo-fi beats']        53.0   \n",
              "13837  ['arizona punk', 'melodic metalcore', 'post-ha...        32.0   \n",
              "13838  ['black metal', 'celtic metal', 'doom metal', ...        37.0   \n",
              "\n",
              "        followers   pop_mean   rel_mean      fol_mean        date  rank  \\\n",
              "0      61377383.0  81.377358  53.075472  1.100285e+07  2021-11-06  91.0   \n",
              "1      61377383.0  81.377358  53.075472  1.100285e+07  2021-10-02  30.0   \n",
              "2      61377383.0  81.377358  53.075472  1.100285e+07  2021-10-02  40.0   \n",
              "3      61377383.0  81.377358  53.075472  1.100285e+07  2021-10-02  48.0   \n",
              "4      61377383.0  81.377358  53.075472  1.100285e+07  2021-10-02  66.0   \n",
              "...           ...        ...        ...           ...         ...   ...   \n",
              "13834     20071.0  33.500000   3.500000  1.870100e+04         NaN   NaN   \n",
              "13835     10235.0  34.000000   4.500000  2.361900e+04         NaN   NaN   \n",
              "13836      7478.0  62.000000   2.000000  5.242000e+03         NaN   NaN   \n",
              "13837     33531.0  56.000000   8.000000  3.298930e+05         NaN   NaN   \n",
              "13838     64127.0  53.000000  11.000000  2.853120e+05         NaN   NaN   \n",
              "\n",
              "       weeks-on-board top100  \n",
              "0                 8.0    Yes  \n",
              "1                 3.0    Yes  \n",
              "2                 3.0    Yes  \n",
              "3                 3.0    Yes  \n",
              "4                 3.0    Yes  \n",
              "...               ...    ...  \n",
              "13834             NaN     No  \n",
              "13835             NaN     No  \n",
              "13836             NaN     No  \n",
              "13837             NaN     No  \n",
              "13838             NaN     No  \n",
              "\n",
              "[13839 rows x 12 columns]"
            ],
            "text/html": [
              "\n",
              "  <div id=\"df-7477a9ab-27d3-4c6c-af3d-ff98d7ba7a42\">\n",
              "    <div class=\"colab-df-container\">\n",
              "      <div>\n",
              "<style scoped>\n",
              "    .dataframe tbody tr th:only-of-type {\n",
              "        vertical-align: middle;\n",
              "    }\n",
              "\n",
              "    .dataframe tbody tr th {\n",
              "        vertical-align: top;\n",
              "    }\n",
              "\n",
              "    .dataframe thead th {\n",
              "        text-align: right;\n",
              "    }\n",
              "</style>\n",
              "<table border=\"1\" class=\"dataframe\">\n",
              "  <thead>\n",
              "    <tr style=\"text-align: right;\">\n",
              "      <th></th>\n",
              "      <th>id</th>\n",
              "      <th>artist</th>\n",
              "      <th>genres</th>\n",
              "      <th>popularity</th>\n",
              "      <th>followers</th>\n",
              "      <th>pop_mean</th>\n",
              "      <th>rel_mean</th>\n",
              "      <th>fol_mean</th>\n",
              "      <th>date</th>\n",
              "      <th>rank</th>\n",
              "      <th>weeks-on-board</th>\n",
              "      <th>top100</th>\n",
              "    </tr>\n",
              "  </thead>\n",
              "  <tbody>\n",
              "    <tr>\n",
              "      <th>0</th>\n",
              "      <td>600808</td>\n",
              "      <td>Drake</td>\n",
              "      <td>['canadian hip hop', 'canadian pop', 'hip hop'...</td>\n",
              "      <td>98.0</td>\n",
              "      <td>61377383.0</td>\n",
              "      <td>81.377358</td>\n",
              "      <td>53.075472</td>\n",
              "      <td>1.100285e+07</td>\n",
              "      <td>2021-11-06</td>\n",
              "      <td>91.0</td>\n",
              "      <td>8.0</td>\n",
              "      <td>Yes</td>\n",
              "    </tr>\n",
              "    <tr>\n",
              "      <th>1</th>\n",
              "      <td>600808</td>\n",
              "      <td>Drake</td>\n",
              "      <td>['canadian hip hop', 'canadian pop', 'hip hop'...</td>\n",
              "      <td>98.0</td>\n",
              "      <td>61377383.0</td>\n",
              "      <td>81.377358</td>\n",
              "      <td>53.075472</td>\n",
              "      <td>1.100285e+07</td>\n",
              "      <td>2021-10-02</td>\n",
              "      <td>30.0</td>\n",
              "      <td>3.0</td>\n",
              "      <td>Yes</td>\n",
              "    </tr>\n",
              "    <tr>\n",
              "      <th>2</th>\n",
              "      <td>600808</td>\n",
              "      <td>Drake</td>\n",
              "      <td>['canadian hip hop', 'canadian pop', 'hip hop'...</td>\n",
              "      <td>98.0</td>\n",
              "      <td>61377383.0</td>\n",
              "      <td>81.377358</td>\n",
              "      <td>53.075472</td>\n",
              "      <td>1.100285e+07</td>\n",
              "      <td>2021-10-02</td>\n",
              "      <td>40.0</td>\n",
              "      <td>3.0</td>\n",
              "      <td>Yes</td>\n",
              "    </tr>\n",
              "    <tr>\n",
              "      <th>3</th>\n",
              "      <td>600808</td>\n",
              "      <td>Drake</td>\n",
              "      <td>['canadian hip hop', 'canadian pop', 'hip hop'...</td>\n",
              "      <td>98.0</td>\n",
              "      <td>61377383.0</td>\n",
              "      <td>81.377358</td>\n",
              "      <td>53.075472</td>\n",
              "      <td>1.100285e+07</td>\n",
              "      <td>2021-10-02</td>\n",
              "      <td>48.0</td>\n",
              "      <td>3.0</td>\n",
              "      <td>Yes</td>\n",
              "    </tr>\n",
              "    <tr>\n",
              "      <th>4</th>\n",
              "      <td>600808</td>\n",
              "      <td>Drake</td>\n",
              "      <td>['canadian hip hop', 'canadian pop', 'hip hop'...</td>\n",
              "      <td>98.0</td>\n",
              "      <td>61377383.0</td>\n",
              "      <td>81.377358</td>\n",
              "      <td>53.075472</td>\n",
              "      <td>1.100285e+07</td>\n",
              "      <td>2021-10-02</td>\n",
              "      <td>66.0</td>\n",
              "      <td>3.0</td>\n",
              "      <td>Yes</td>\n",
              "    </tr>\n",
              "    <tr>\n",
              "      <th>...</th>\n",
              "      <td>...</td>\n",
              "      <td>...</td>\n",
              "      <td>...</td>\n",
              "      <td>...</td>\n",
              "      <td>...</td>\n",
              "      <td>...</td>\n",
              "      <td>...</td>\n",
              "      <td>...</td>\n",
              "      <td>...</td>\n",
              "      <td>...</td>\n",
              "      <td>...</td>\n",
              "      <td>...</td>\n",
              "    </tr>\n",
              "    <tr>\n",
              "      <th>13834</th>\n",
              "      <td>1418260</td>\n",
              "      <td>Unreqvited</td>\n",
              "      <td>['atmospheric black metal', 'canadian black me...</td>\n",
              "      <td>32.0</td>\n",
              "      <td>20071.0</td>\n",
              "      <td>33.500000</td>\n",
              "      <td>3.500000</td>\n",
              "      <td>1.870100e+04</td>\n",
              "      <td>NaN</td>\n",
              "      <td>NaN</td>\n",
              "      <td>NaN</td>\n",
              "      <td>No</td>\n",
              "    </tr>\n",
              "    <tr>\n",
              "      <th>13835</th>\n",
              "      <td>844823</td>\n",
              "      <td>Show Me a Dinosaur</td>\n",
              "      <td>['instrumental post-rock', 'post-rock', 'russi...</td>\n",
              "      <td>31.0</td>\n",
              "      <td>10235.0</td>\n",
              "      <td>34.000000</td>\n",
              "      <td>4.500000</td>\n",
              "      <td>2.361900e+04</td>\n",
              "      <td>NaN</td>\n",
              "      <td>NaN</td>\n",
              "      <td>NaN</td>\n",
              "      <td>No</td>\n",
              "    </tr>\n",
              "    <tr>\n",
              "      <th>13836</th>\n",
              "      <td>1796328</td>\n",
              "      <td>Flovry</td>\n",
              "      <td>['lo-fi beats']</td>\n",
              "      <td>53.0</td>\n",
              "      <td>7478.0</td>\n",
              "      <td>62.000000</td>\n",
              "      <td>2.000000</td>\n",
              "      <td>5.242000e+03</td>\n",
              "      <td>NaN</td>\n",
              "      <td>NaN</td>\n",
              "      <td>NaN</td>\n",
              "      <td>No</td>\n",
              "    </tr>\n",
              "    <tr>\n",
              "      <th>13837</th>\n",
              "      <td>121805</td>\n",
              "      <td>The Bled</td>\n",
              "      <td>['arizona punk', 'melodic metalcore', 'post-ha...</td>\n",
              "      <td>32.0</td>\n",
              "      <td>33531.0</td>\n",
              "      <td>56.000000</td>\n",
              "      <td>8.000000</td>\n",
              "      <td>3.298930e+05</td>\n",
              "      <td>NaN</td>\n",
              "      <td>NaN</td>\n",
              "      <td>NaN</td>\n",
              "      <td>No</td>\n",
              "    </tr>\n",
              "    <tr>\n",
              "      <th>13838</th>\n",
              "      <td>11473</td>\n",
              "      <td>Primordial</td>\n",
              "      <td>['black metal', 'celtic metal', 'doom metal', ...</td>\n",
              "      <td>37.0</td>\n",
              "      <td>64127.0</td>\n",
              "      <td>53.000000</td>\n",
              "      <td>11.000000</td>\n",
              "      <td>2.853120e+05</td>\n",
              "      <td>NaN</td>\n",
              "      <td>NaN</td>\n",
              "      <td>NaN</td>\n",
              "      <td>No</td>\n",
              "    </tr>\n",
              "  </tbody>\n",
              "</table>\n",
              "<p>13839 rows × 12 columns</p>\n",
              "</div>\n",
              "      <button class=\"colab-df-convert\" onclick=\"convertToInteractive('df-7477a9ab-27d3-4c6c-af3d-ff98d7ba7a42')\"\n",
              "              title=\"Convert this dataframe to an interactive table.\"\n",
              "              style=\"display:none;\">\n",
              "        \n",
              "  <svg xmlns=\"http://www.w3.org/2000/svg\" height=\"24px\"viewBox=\"0 0 24 24\"\n",
              "       width=\"24px\">\n",
              "    <path d=\"M0 0h24v24H0V0z\" fill=\"none\"/>\n",
              "    <path d=\"M18.56 5.44l.94 2.06.94-2.06 2.06-.94-2.06-.94-.94-2.06-.94 2.06-2.06.94zm-11 1L8.5 8.5l.94-2.06 2.06-.94-2.06-.94L8.5 2.5l-.94 2.06-2.06.94zm10 10l.94 2.06.94-2.06 2.06-.94-2.06-.94-.94-2.06-.94 2.06-2.06.94z\"/><path d=\"M17.41 7.96l-1.37-1.37c-.4-.4-.92-.59-1.43-.59-.52 0-1.04.2-1.43.59L10.3 9.45l-7.72 7.72c-.78.78-.78 2.05 0 2.83L4 21.41c.39.39.9.59 1.41.59.51 0 1.02-.2 1.41-.59l7.78-7.78 2.81-2.81c.8-.78.8-2.07 0-2.86zM5.41 20L4 18.59l7.72-7.72 1.47 1.35L5.41 20z\"/>\n",
              "  </svg>\n",
              "      </button>\n",
              "      \n",
              "  <style>\n",
              "    .colab-df-container {\n",
              "      display:flex;\n",
              "      flex-wrap:wrap;\n",
              "      gap: 12px;\n",
              "    }\n",
              "\n",
              "    .colab-df-convert {\n",
              "      background-color: #E8F0FE;\n",
              "      border: none;\n",
              "      border-radius: 50%;\n",
              "      cursor: pointer;\n",
              "      display: none;\n",
              "      fill: #1967D2;\n",
              "      height: 32px;\n",
              "      padding: 0 0 0 0;\n",
              "      width: 32px;\n",
              "    }\n",
              "\n",
              "    .colab-df-convert:hover {\n",
              "      background-color: #E2EBFA;\n",
              "      box-shadow: 0px 1px 2px rgba(60, 64, 67, 0.3), 0px 1px 3px 1px rgba(60, 64, 67, 0.15);\n",
              "      fill: #174EA6;\n",
              "    }\n",
              "\n",
              "    [theme=dark] .colab-df-convert {\n",
              "      background-color: #3B4455;\n",
              "      fill: #D2E3FC;\n",
              "    }\n",
              "\n",
              "    [theme=dark] .colab-df-convert:hover {\n",
              "      background-color: #434B5C;\n",
              "      box-shadow: 0px 1px 3px 1px rgba(0, 0, 0, 0.15);\n",
              "      filter: drop-shadow(0px 1px 2px rgba(0, 0, 0, 0.3));\n",
              "      fill: #FFFFFF;\n",
              "    }\n",
              "  </style>\n",
              "\n",
              "      <script>\n",
              "        const buttonEl =\n",
              "          document.querySelector('#df-7477a9ab-27d3-4c6c-af3d-ff98d7ba7a42 button.colab-df-convert');\n",
              "        buttonEl.style.display =\n",
              "          google.colab.kernel.accessAllowed ? 'block' : 'none';\n",
              "\n",
              "        async function convertToInteractive(key) {\n",
              "          const element = document.querySelector('#df-7477a9ab-27d3-4c6c-af3d-ff98d7ba7a42');\n",
              "          const dataTable =\n",
              "            await google.colab.kernel.invokeFunction('convertToInteractive',\n",
              "                                                     [key], {});\n",
              "          if (!dataTable) return;\n",
              "\n",
              "          const docLinkHtml = 'Like what you see? Visit the ' +\n",
              "            '<a target=\"_blank\" href=https://colab.research.google.com/notebooks/data_table.ipynb>data table notebook</a>'\n",
              "            + ' to learn more about interactive tables.';\n",
              "          element.innerHTML = '';\n",
              "          dataTable['output_type'] = 'display_data';\n",
              "          await google.colab.output.renderOutput(dataTable, element);\n",
              "          const docLink = document.createElement('div');\n",
              "          docLink.innerHTML = docLinkHtml;\n",
              "          element.appendChild(docLink);\n",
              "        }\n",
              "      </script>\n",
              "    </div>\n",
              "  </div>\n",
              "  "
            ]
          },
          "metadata": {}
        }
      ],
      "source": [
        "#새로운 열 추가\n",
        "spotify[\"top100\"]=spotify[\"rank\"]\n",
        "\n",
        "#조건에 맞는 값을 칼럼에 추가\n",
        "spotify['top100']=spotify['top100'].fillna(\"No\")\n",
        "spotify.loc[(spotify['top100']!=\"No\"),'top100']=\"Yes\"\n",
        "\n",
        "display(spotify)"
      ]
    },
    {
      "cell_type": "markdown",
      "metadata": {
        "id": "O6hxrRjptNox"
      },
      "source": [
        "***artist를 기준으로 중복되는 행 제거***"
      ]
    },
    {
      "cell_type": "code",
      "execution_count": 157,
      "metadata": {
        "id": "nunbwC8EwoRV",
        "colab": {
          "base_uri": "https://localhost:8080/",
          "height": 763
        },
        "outputId": "ac219a94-04ae-41ef-fa7e-77e844c5fde6"
      },
      "outputs": [
        {
          "output_type": "execute_result",
          "data": {
            "text/plain": [
              "            id              artist  \\\n",
              "0       600808               Drake   \n",
              "16      706819          Ed Sheeran   \n",
              "25      823336       Ariana Grande   \n",
              "43     1492430           Bad Bunny   \n",
              "53      796889          The Weeknd   \n",
              "...        ...                 ...   \n",
              "13834  1418260          Unreqvited   \n",
              "13835   844823  Show Me a Dinosaur   \n",
              "13836  1796328              Flovry   \n",
              "13837   121805            The Bled   \n",
              "13838    11473          Primordial   \n",
              "\n",
              "                                                  genres  popularity  \\\n",
              "0      ['canadian hip hop', 'canadian pop', 'hip hop'...        98.0   \n",
              "16                                     ['pop', 'uk pop']        95.0   \n",
              "25                                  ['dance pop', 'pop']        93.0   \n",
              "43                 ['latin', 'reggaeton', 'trap latino']       100.0   \n",
              "53     ['canadian contemporary r&b', 'canadian pop', ...        98.0   \n",
              "...                                                  ...         ...   \n",
              "13834  ['atmospheric black metal', 'canadian black me...        32.0   \n",
              "13835  ['instrumental post-rock', 'post-rock', 'russi...        31.0   \n",
              "13836                                    ['lo-fi beats']        53.0   \n",
              "13837  ['arizona punk', 'melodic metalcore', 'post-ha...        32.0   \n",
              "13838  ['black metal', 'celtic metal', 'doom metal', ...        37.0   \n",
              "\n",
              "        followers   pop_mean   rel_mean      fol_mean        date  rank  \\\n",
              "0      61377383.0  81.377358  53.075472  1.100285e+07  2021-11-06  91.0   \n",
              "16     93327682.0  80.035714  44.035714  1.472265e+07  2021-11-06   5.0   \n",
              "25     76626333.0  77.650000  51.900000  1.000831e+07  2021-07-03  27.0   \n",
              "43     44516743.0  75.628571  23.142857  8.425305e+06  2021-10-02  85.0   \n",
              "53     42275433.0  81.928571  53.178571  1.363645e+07  2021-11-06  32.0   \n",
              "...           ...        ...        ...           ...         ...   ...   \n",
              "13834     20071.0  33.500000   3.500000  1.870100e+04         NaN   NaN   \n",
              "13835     10235.0  34.000000   4.500000  2.361900e+04         NaN   NaN   \n",
              "13836      7478.0  62.000000   2.000000  5.242000e+03         NaN   NaN   \n",
              "13837     33531.0  56.000000   8.000000  3.298930e+05         NaN   NaN   \n",
              "13838     64127.0  53.000000  11.000000  2.853120e+05         NaN   NaN   \n",
              "\n",
              "       weeks-on-board top100  \n",
              "0                 8.0    Yes  \n",
              "16               18.0    Yes  \n",
              "25               16.0    Yes  \n",
              "43               16.0    Yes  \n",
              "53               12.0    Yes  \n",
              "...               ...    ...  \n",
              "13834             NaN     No  \n",
              "13835             NaN     No  \n",
              "13836             NaN     No  \n",
              "13837             NaN     No  \n",
              "13838             NaN     No  \n",
              "\n",
              "[12883 rows x 12 columns]"
            ],
            "text/html": [
              "\n",
              "  <div id=\"df-68167b49-2970-4f94-be16-c1c0b16d514f\">\n",
              "    <div class=\"colab-df-container\">\n",
              "      <div>\n",
              "<style scoped>\n",
              "    .dataframe tbody tr th:only-of-type {\n",
              "        vertical-align: middle;\n",
              "    }\n",
              "\n",
              "    .dataframe tbody tr th {\n",
              "        vertical-align: top;\n",
              "    }\n",
              "\n",
              "    .dataframe thead th {\n",
              "        text-align: right;\n",
              "    }\n",
              "</style>\n",
              "<table border=\"1\" class=\"dataframe\">\n",
              "  <thead>\n",
              "    <tr style=\"text-align: right;\">\n",
              "      <th></th>\n",
              "      <th>id</th>\n",
              "      <th>artist</th>\n",
              "      <th>genres</th>\n",
              "      <th>popularity</th>\n",
              "      <th>followers</th>\n",
              "      <th>pop_mean</th>\n",
              "      <th>rel_mean</th>\n",
              "      <th>fol_mean</th>\n",
              "      <th>date</th>\n",
              "      <th>rank</th>\n",
              "      <th>weeks-on-board</th>\n",
              "      <th>top100</th>\n",
              "    </tr>\n",
              "  </thead>\n",
              "  <tbody>\n",
              "    <tr>\n",
              "      <th>0</th>\n",
              "      <td>600808</td>\n",
              "      <td>Drake</td>\n",
              "      <td>['canadian hip hop', 'canadian pop', 'hip hop'...</td>\n",
              "      <td>98.0</td>\n",
              "      <td>61377383.0</td>\n",
              "      <td>81.377358</td>\n",
              "      <td>53.075472</td>\n",
              "      <td>1.100285e+07</td>\n",
              "      <td>2021-11-06</td>\n",
              "      <td>91.0</td>\n",
              "      <td>8.0</td>\n",
              "      <td>Yes</td>\n",
              "    </tr>\n",
              "    <tr>\n",
              "      <th>16</th>\n",
              "      <td>706819</td>\n",
              "      <td>Ed Sheeran</td>\n",
              "      <td>['pop', 'uk pop']</td>\n",
              "      <td>95.0</td>\n",
              "      <td>93327682.0</td>\n",
              "      <td>80.035714</td>\n",
              "      <td>44.035714</td>\n",
              "      <td>1.472265e+07</td>\n",
              "      <td>2021-11-06</td>\n",
              "      <td>5.0</td>\n",
              "      <td>18.0</td>\n",
              "      <td>Yes</td>\n",
              "    </tr>\n",
              "    <tr>\n",
              "      <th>25</th>\n",
              "      <td>823336</td>\n",
              "      <td>Ariana Grande</td>\n",
              "      <td>['dance pop', 'pop']</td>\n",
              "      <td>93.0</td>\n",
              "      <td>76626333.0</td>\n",
              "      <td>77.650000</td>\n",
              "      <td>51.900000</td>\n",
              "      <td>1.000831e+07</td>\n",
              "      <td>2021-07-03</td>\n",
              "      <td>27.0</td>\n",
              "      <td>16.0</td>\n",
              "      <td>Yes</td>\n",
              "    </tr>\n",
              "    <tr>\n",
              "      <th>43</th>\n",
              "      <td>1492430</td>\n",
              "      <td>Bad Bunny</td>\n",
              "      <td>['latin', 'reggaeton', 'trap latino']</td>\n",
              "      <td>100.0</td>\n",
              "      <td>44516743.0</td>\n",
              "      <td>75.628571</td>\n",
              "      <td>23.142857</td>\n",
              "      <td>8.425305e+06</td>\n",
              "      <td>2021-10-02</td>\n",
              "      <td>85.0</td>\n",
              "      <td>16.0</td>\n",
              "      <td>Yes</td>\n",
              "    </tr>\n",
              "    <tr>\n",
              "      <th>53</th>\n",
              "      <td>796889</td>\n",
              "      <td>The Weeknd</td>\n",
              "      <td>['canadian contemporary r&amp;b', 'canadian pop', ...</td>\n",
              "      <td>98.0</td>\n",
              "      <td>42275433.0</td>\n",
              "      <td>81.928571</td>\n",
              "      <td>53.178571</td>\n",
              "      <td>1.363645e+07</td>\n",
              "      <td>2021-11-06</td>\n",
              "      <td>32.0</td>\n",
              "      <td>12.0</td>\n",
              "      <td>Yes</td>\n",
              "    </tr>\n",
              "    <tr>\n",
              "      <th>...</th>\n",
              "      <td>...</td>\n",
              "      <td>...</td>\n",
              "      <td>...</td>\n",
              "      <td>...</td>\n",
              "      <td>...</td>\n",
              "      <td>...</td>\n",
              "      <td>...</td>\n",
              "      <td>...</td>\n",
              "      <td>...</td>\n",
              "      <td>...</td>\n",
              "      <td>...</td>\n",
              "      <td>...</td>\n",
              "    </tr>\n",
              "    <tr>\n",
              "      <th>13834</th>\n",
              "      <td>1418260</td>\n",
              "      <td>Unreqvited</td>\n",
              "      <td>['atmospheric black metal', 'canadian black me...</td>\n",
              "      <td>32.0</td>\n",
              "      <td>20071.0</td>\n",
              "      <td>33.500000</td>\n",
              "      <td>3.500000</td>\n",
              "      <td>1.870100e+04</td>\n",
              "      <td>NaN</td>\n",
              "      <td>NaN</td>\n",
              "      <td>NaN</td>\n",
              "      <td>No</td>\n",
              "    </tr>\n",
              "    <tr>\n",
              "      <th>13835</th>\n",
              "      <td>844823</td>\n",
              "      <td>Show Me a Dinosaur</td>\n",
              "      <td>['instrumental post-rock', 'post-rock', 'russi...</td>\n",
              "      <td>31.0</td>\n",
              "      <td>10235.0</td>\n",
              "      <td>34.000000</td>\n",
              "      <td>4.500000</td>\n",
              "      <td>2.361900e+04</td>\n",
              "      <td>NaN</td>\n",
              "      <td>NaN</td>\n",
              "      <td>NaN</td>\n",
              "      <td>No</td>\n",
              "    </tr>\n",
              "    <tr>\n",
              "      <th>13836</th>\n",
              "      <td>1796328</td>\n",
              "      <td>Flovry</td>\n",
              "      <td>['lo-fi beats']</td>\n",
              "      <td>53.0</td>\n",
              "      <td>7478.0</td>\n",
              "      <td>62.000000</td>\n",
              "      <td>2.000000</td>\n",
              "      <td>5.242000e+03</td>\n",
              "      <td>NaN</td>\n",
              "      <td>NaN</td>\n",
              "      <td>NaN</td>\n",
              "      <td>No</td>\n",
              "    </tr>\n",
              "    <tr>\n",
              "      <th>13837</th>\n",
              "      <td>121805</td>\n",
              "      <td>The Bled</td>\n",
              "      <td>['arizona punk', 'melodic metalcore', 'post-ha...</td>\n",
              "      <td>32.0</td>\n",
              "      <td>33531.0</td>\n",
              "      <td>56.000000</td>\n",
              "      <td>8.000000</td>\n",
              "      <td>3.298930e+05</td>\n",
              "      <td>NaN</td>\n",
              "      <td>NaN</td>\n",
              "      <td>NaN</td>\n",
              "      <td>No</td>\n",
              "    </tr>\n",
              "    <tr>\n",
              "      <th>13838</th>\n",
              "      <td>11473</td>\n",
              "      <td>Primordial</td>\n",
              "      <td>['black metal', 'celtic metal', 'doom metal', ...</td>\n",
              "      <td>37.0</td>\n",
              "      <td>64127.0</td>\n",
              "      <td>53.000000</td>\n",
              "      <td>11.000000</td>\n",
              "      <td>2.853120e+05</td>\n",
              "      <td>NaN</td>\n",
              "      <td>NaN</td>\n",
              "      <td>NaN</td>\n",
              "      <td>No</td>\n",
              "    </tr>\n",
              "  </tbody>\n",
              "</table>\n",
              "<p>12883 rows × 12 columns</p>\n",
              "</div>\n",
              "      <button class=\"colab-df-convert\" onclick=\"convertToInteractive('df-68167b49-2970-4f94-be16-c1c0b16d514f')\"\n",
              "              title=\"Convert this dataframe to an interactive table.\"\n",
              "              style=\"display:none;\">\n",
              "        \n",
              "  <svg xmlns=\"http://www.w3.org/2000/svg\" height=\"24px\"viewBox=\"0 0 24 24\"\n",
              "       width=\"24px\">\n",
              "    <path d=\"M0 0h24v24H0V0z\" fill=\"none\"/>\n",
              "    <path d=\"M18.56 5.44l.94 2.06.94-2.06 2.06-.94-2.06-.94-.94-2.06-.94 2.06-2.06.94zm-11 1L8.5 8.5l.94-2.06 2.06-.94-2.06-.94L8.5 2.5l-.94 2.06-2.06.94zm10 10l.94 2.06.94-2.06 2.06-.94-2.06-.94-.94-2.06-.94 2.06-2.06.94z\"/><path d=\"M17.41 7.96l-1.37-1.37c-.4-.4-.92-.59-1.43-.59-.52 0-1.04.2-1.43.59L10.3 9.45l-7.72 7.72c-.78.78-.78 2.05 0 2.83L4 21.41c.39.39.9.59 1.41.59.51 0 1.02-.2 1.41-.59l7.78-7.78 2.81-2.81c.8-.78.8-2.07 0-2.86zM5.41 20L4 18.59l7.72-7.72 1.47 1.35L5.41 20z\"/>\n",
              "  </svg>\n",
              "      </button>\n",
              "      \n",
              "  <style>\n",
              "    .colab-df-container {\n",
              "      display:flex;\n",
              "      flex-wrap:wrap;\n",
              "      gap: 12px;\n",
              "    }\n",
              "\n",
              "    .colab-df-convert {\n",
              "      background-color: #E8F0FE;\n",
              "      border: none;\n",
              "      border-radius: 50%;\n",
              "      cursor: pointer;\n",
              "      display: none;\n",
              "      fill: #1967D2;\n",
              "      height: 32px;\n",
              "      padding: 0 0 0 0;\n",
              "      width: 32px;\n",
              "    }\n",
              "\n",
              "    .colab-df-convert:hover {\n",
              "      background-color: #E2EBFA;\n",
              "      box-shadow: 0px 1px 2px rgba(60, 64, 67, 0.3), 0px 1px 3px 1px rgba(60, 64, 67, 0.15);\n",
              "      fill: #174EA6;\n",
              "    }\n",
              "\n",
              "    [theme=dark] .colab-df-convert {\n",
              "      background-color: #3B4455;\n",
              "      fill: #D2E3FC;\n",
              "    }\n",
              "\n",
              "    [theme=dark] .colab-df-convert:hover {\n",
              "      background-color: #434B5C;\n",
              "      box-shadow: 0px 1px 3px 1px rgba(0, 0, 0, 0.15);\n",
              "      filter: drop-shadow(0px 1px 2px rgba(0, 0, 0, 0.3));\n",
              "      fill: #FFFFFF;\n",
              "    }\n",
              "  </style>\n",
              "\n",
              "      <script>\n",
              "        const buttonEl =\n",
              "          document.querySelector('#df-68167b49-2970-4f94-be16-c1c0b16d514f button.colab-df-convert');\n",
              "        buttonEl.style.display =\n",
              "          google.colab.kernel.accessAllowed ? 'block' : 'none';\n",
              "\n",
              "        async function convertToInteractive(key) {\n",
              "          const element = document.querySelector('#df-68167b49-2970-4f94-be16-c1c0b16d514f');\n",
              "          const dataTable =\n",
              "            await google.colab.kernel.invokeFunction('convertToInteractive',\n",
              "                                                     [key], {});\n",
              "          if (!dataTable) return;\n",
              "\n",
              "          const docLinkHtml = 'Like what you see? Visit the ' +\n",
              "            '<a target=\"_blank\" href=https://colab.research.google.com/notebooks/data_table.ipynb>data table notebook</a>'\n",
              "            + ' to learn more about interactive tables.';\n",
              "          element.innerHTML = '';\n",
              "          dataTable['output_type'] = 'display_data';\n",
              "          await google.colab.output.renderOutput(dataTable, element);\n",
              "          const docLink = document.createElement('div');\n",
              "          docLink.innerHTML = docLinkHtml;\n",
              "          element.appendChild(docLink);\n",
              "        }\n",
              "      </script>\n",
              "    </div>\n",
              "  </div>\n",
              "  "
            ]
          },
          "metadata": {},
          "execution_count": 157
        }
      ],
      "source": [
        "spotify.drop_duplicates(['artist'])"
      ]
    },
    {
      "cell_type": "markdown",
      "source": [
        "##**Step 2. 분류**"
      ],
      "metadata": {
        "id": "S8ihdTeG9mwO"
      }
    },
    {
      "cell_type": "markdown",
      "source": [
        "### 분류 문제 선정: 아티스트의 성공 예측 및 전략 수립하기\n",
        "\n",
        "* 종속변수: top-100 포함 여부\n",
        "\n",
        "* 독립변수: popularity, followers, rel_mean, fol_mean, pop_mean\n",
        "\n",
        "Yes: 2019년부터 2년간 1~11월의 첫째 주마다 top-100위를 기록한 가수들\n",
        "No: top-100에 포함되지 않은 가수들\n",
        "\n",
        "어떤 독립변수가 스포티파이 차트에서 높은 순위를 기록하는 데 영향을 줄 수 있는지 확인한다.\n",
        "\n",
        "결과에 무관하게 세운 가정: 인기도가 높을수록 가수가 성공할 확률이 높을 것이기 때문에, 인기도가 top-100에 영향을 줄 것이다."
      ],
      "metadata": {
        "id": "AW1tKXliUTP9"
      }
    },
    {
      "cell_type": "markdown",
      "source": [
        "### **1) spotify 추가 전처리**\n",
        "널값 및 사용하지 않는 열 모두 삭제하기"
      ],
      "metadata": {
        "id": "iJuRDLX6O2z9"
      }
    },
    {
      "cell_type": "code",
      "source": [
        "display(spotify)"
      ],
      "metadata": {
        "colab": {
          "base_uri": "https://localhost:8080/",
          "height": 797
        },
        "id": "0qyXy5DYJR_R",
        "outputId": "d0e5661d-58e7-4eda-e60a-403c1a6822ef"
      },
      "execution_count": 158,
      "outputs": [
        {
          "output_type": "display_data",
          "data": {
            "text/plain": [
              "            id              artist  \\\n",
              "0       600808               Drake   \n",
              "1       600808               Drake   \n",
              "2       600808               Drake   \n",
              "3       600808               Drake   \n",
              "4       600808               Drake   \n",
              "...        ...                 ...   \n",
              "13834  1418260          Unreqvited   \n",
              "13835   844823  Show Me a Dinosaur   \n",
              "13836  1796328              Flovry   \n",
              "13837   121805            The Bled   \n",
              "13838    11473          Primordial   \n",
              "\n",
              "                                                  genres  popularity  \\\n",
              "0      ['canadian hip hop', 'canadian pop', 'hip hop'...        98.0   \n",
              "1      ['canadian hip hop', 'canadian pop', 'hip hop'...        98.0   \n",
              "2      ['canadian hip hop', 'canadian pop', 'hip hop'...        98.0   \n",
              "3      ['canadian hip hop', 'canadian pop', 'hip hop'...        98.0   \n",
              "4      ['canadian hip hop', 'canadian pop', 'hip hop'...        98.0   \n",
              "...                                                  ...         ...   \n",
              "13834  ['atmospheric black metal', 'canadian black me...        32.0   \n",
              "13835  ['instrumental post-rock', 'post-rock', 'russi...        31.0   \n",
              "13836                                    ['lo-fi beats']        53.0   \n",
              "13837  ['arizona punk', 'melodic metalcore', 'post-ha...        32.0   \n",
              "13838  ['black metal', 'celtic metal', 'doom metal', ...        37.0   \n",
              "\n",
              "        followers   pop_mean   rel_mean      fol_mean        date  rank  \\\n",
              "0      61377383.0  81.377358  53.075472  1.100285e+07  2021-11-06  91.0   \n",
              "1      61377383.0  81.377358  53.075472  1.100285e+07  2021-10-02  30.0   \n",
              "2      61377383.0  81.377358  53.075472  1.100285e+07  2021-10-02  40.0   \n",
              "3      61377383.0  81.377358  53.075472  1.100285e+07  2021-10-02  48.0   \n",
              "4      61377383.0  81.377358  53.075472  1.100285e+07  2021-10-02  66.0   \n",
              "...           ...        ...        ...           ...         ...   ...   \n",
              "13834     20071.0  33.500000   3.500000  1.870100e+04         NaN   NaN   \n",
              "13835     10235.0  34.000000   4.500000  2.361900e+04         NaN   NaN   \n",
              "13836      7478.0  62.000000   2.000000  5.242000e+03         NaN   NaN   \n",
              "13837     33531.0  56.000000   8.000000  3.298930e+05         NaN   NaN   \n",
              "13838     64127.0  53.000000  11.000000  2.853120e+05         NaN   NaN   \n",
              "\n",
              "       weeks-on-board top100  \n",
              "0                 8.0    Yes  \n",
              "1                 3.0    Yes  \n",
              "2                 3.0    Yes  \n",
              "3                 3.0    Yes  \n",
              "4                 3.0    Yes  \n",
              "...               ...    ...  \n",
              "13834             NaN     No  \n",
              "13835             NaN     No  \n",
              "13836             NaN     No  \n",
              "13837             NaN     No  \n",
              "13838             NaN     No  \n",
              "\n",
              "[13839 rows x 12 columns]"
            ],
            "text/html": [
              "\n",
              "  <div id=\"df-73379eff-1144-4c2c-9aad-ff2ee06bc95e\">\n",
              "    <div class=\"colab-df-container\">\n",
              "      <div>\n",
              "<style scoped>\n",
              "    .dataframe tbody tr th:only-of-type {\n",
              "        vertical-align: middle;\n",
              "    }\n",
              "\n",
              "    .dataframe tbody tr th {\n",
              "        vertical-align: top;\n",
              "    }\n",
              "\n",
              "    .dataframe thead th {\n",
              "        text-align: right;\n",
              "    }\n",
              "</style>\n",
              "<table border=\"1\" class=\"dataframe\">\n",
              "  <thead>\n",
              "    <tr style=\"text-align: right;\">\n",
              "      <th></th>\n",
              "      <th>id</th>\n",
              "      <th>artist</th>\n",
              "      <th>genres</th>\n",
              "      <th>popularity</th>\n",
              "      <th>followers</th>\n",
              "      <th>pop_mean</th>\n",
              "      <th>rel_mean</th>\n",
              "      <th>fol_mean</th>\n",
              "      <th>date</th>\n",
              "      <th>rank</th>\n",
              "      <th>weeks-on-board</th>\n",
              "      <th>top100</th>\n",
              "    </tr>\n",
              "  </thead>\n",
              "  <tbody>\n",
              "    <tr>\n",
              "      <th>0</th>\n",
              "      <td>600808</td>\n",
              "      <td>Drake</td>\n",
              "      <td>['canadian hip hop', 'canadian pop', 'hip hop'...</td>\n",
              "      <td>98.0</td>\n",
              "      <td>61377383.0</td>\n",
              "      <td>81.377358</td>\n",
              "      <td>53.075472</td>\n",
              "      <td>1.100285e+07</td>\n",
              "      <td>2021-11-06</td>\n",
              "      <td>91.0</td>\n",
              "      <td>8.0</td>\n",
              "      <td>Yes</td>\n",
              "    </tr>\n",
              "    <tr>\n",
              "      <th>1</th>\n",
              "      <td>600808</td>\n",
              "      <td>Drake</td>\n",
              "      <td>['canadian hip hop', 'canadian pop', 'hip hop'...</td>\n",
              "      <td>98.0</td>\n",
              "      <td>61377383.0</td>\n",
              "      <td>81.377358</td>\n",
              "      <td>53.075472</td>\n",
              "      <td>1.100285e+07</td>\n",
              "      <td>2021-10-02</td>\n",
              "      <td>30.0</td>\n",
              "      <td>3.0</td>\n",
              "      <td>Yes</td>\n",
              "    </tr>\n",
              "    <tr>\n",
              "      <th>2</th>\n",
              "      <td>600808</td>\n",
              "      <td>Drake</td>\n",
              "      <td>['canadian hip hop', 'canadian pop', 'hip hop'...</td>\n",
              "      <td>98.0</td>\n",
              "      <td>61377383.0</td>\n",
              "      <td>81.377358</td>\n",
              "      <td>53.075472</td>\n",
              "      <td>1.100285e+07</td>\n",
              "      <td>2021-10-02</td>\n",
              "      <td>40.0</td>\n",
              "      <td>3.0</td>\n",
              "      <td>Yes</td>\n",
              "    </tr>\n",
              "    <tr>\n",
              "      <th>3</th>\n",
              "      <td>600808</td>\n",
              "      <td>Drake</td>\n",
              "      <td>['canadian hip hop', 'canadian pop', 'hip hop'...</td>\n",
              "      <td>98.0</td>\n",
              "      <td>61377383.0</td>\n",
              "      <td>81.377358</td>\n",
              "      <td>53.075472</td>\n",
              "      <td>1.100285e+07</td>\n",
              "      <td>2021-10-02</td>\n",
              "      <td>48.0</td>\n",
              "      <td>3.0</td>\n",
              "      <td>Yes</td>\n",
              "    </tr>\n",
              "    <tr>\n",
              "      <th>4</th>\n",
              "      <td>600808</td>\n",
              "      <td>Drake</td>\n",
              "      <td>['canadian hip hop', 'canadian pop', 'hip hop'...</td>\n",
              "      <td>98.0</td>\n",
              "      <td>61377383.0</td>\n",
              "      <td>81.377358</td>\n",
              "      <td>53.075472</td>\n",
              "      <td>1.100285e+07</td>\n",
              "      <td>2021-10-02</td>\n",
              "      <td>66.0</td>\n",
              "      <td>3.0</td>\n",
              "      <td>Yes</td>\n",
              "    </tr>\n",
              "    <tr>\n",
              "      <th>...</th>\n",
              "      <td>...</td>\n",
              "      <td>...</td>\n",
              "      <td>...</td>\n",
              "      <td>...</td>\n",
              "      <td>...</td>\n",
              "      <td>...</td>\n",
              "      <td>...</td>\n",
              "      <td>...</td>\n",
              "      <td>...</td>\n",
              "      <td>...</td>\n",
              "      <td>...</td>\n",
              "      <td>...</td>\n",
              "    </tr>\n",
              "    <tr>\n",
              "      <th>13834</th>\n",
              "      <td>1418260</td>\n",
              "      <td>Unreqvited</td>\n",
              "      <td>['atmospheric black metal', 'canadian black me...</td>\n",
              "      <td>32.0</td>\n",
              "      <td>20071.0</td>\n",
              "      <td>33.500000</td>\n",
              "      <td>3.500000</td>\n",
              "      <td>1.870100e+04</td>\n",
              "      <td>NaN</td>\n",
              "      <td>NaN</td>\n",
              "      <td>NaN</td>\n",
              "      <td>No</td>\n",
              "    </tr>\n",
              "    <tr>\n",
              "      <th>13835</th>\n",
              "      <td>844823</td>\n",
              "      <td>Show Me a Dinosaur</td>\n",
              "      <td>['instrumental post-rock', 'post-rock', 'russi...</td>\n",
              "      <td>31.0</td>\n",
              "      <td>10235.0</td>\n",
              "      <td>34.000000</td>\n",
              "      <td>4.500000</td>\n",
              "      <td>2.361900e+04</td>\n",
              "      <td>NaN</td>\n",
              "      <td>NaN</td>\n",
              "      <td>NaN</td>\n",
              "      <td>No</td>\n",
              "    </tr>\n",
              "    <tr>\n",
              "      <th>13836</th>\n",
              "      <td>1796328</td>\n",
              "      <td>Flovry</td>\n",
              "      <td>['lo-fi beats']</td>\n",
              "      <td>53.0</td>\n",
              "      <td>7478.0</td>\n",
              "      <td>62.000000</td>\n",
              "      <td>2.000000</td>\n",
              "      <td>5.242000e+03</td>\n",
              "      <td>NaN</td>\n",
              "      <td>NaN</td>\n",
              "      <td>NaN</td>\n",
              "      <td>No</td>\n",
              "    </tr>\n",
              "    <tr>\n",
              "      <th>13837</th>\n",
              "      <td>121805</td>\n",
              "      <td>The Bled</td>\n",
              "      <td>['arizona punk', 'melodic metalcore', 'post-ha...</td>\n",
              "      <td>32.0</td>\n",
              "      <td>33531.0</td>\n",
              "      <td>56.000000</td>\n",
              "      <td>8.000000</td>\n",
              "      <td>3.298930e+05</td>\n",
              "      <td>NaN</td>\n",
              "      <td>NaN</td>\n",
              "      <td>NaN</td>\n",
              "      <td>No</td>\n",
              "    </tr>\n",
              "    <tr>\n",
              "      <th>13838</th>\n",
              "      <td>11473</td>\n",
              "      <td>Primordial</td>\n",
              "      <td>['black metal', 'celtic metal', 'doom metal', ...</td>\n",
              "      <td>37.0</td>\n",
              "      <td>64127.0</td>\n",
              "      <td>53.000000</td>\n",
              "      <td>11.000000</td>\n",
              "      <td>2.853120e+05</td>\n",
              "      <td>NaN</td>\n",
              "      <td>NaN</td>\n",
              "      <td>NaN</td>\n",
              "      <td>No</td>\n",
              "    </tr>\n",
              "  </tbody>\n",
              "</table>\n",
              "<p>13839 rows × 12 columns</p>\n",
              "</div>\n",
              "      <button class=\"colab-df-convert\" onclick=\"convertToInteractive('df-73379eff-1144-4c2c-9aad-ff2ee06bc95e')\"\n",
              "              title=\"Convert this dataframe to an interactive table.\"\n",
              "              style=\"display:none;\">\n",
              "        \n",
              "  <svg xmlns=\"http://www.w3.org/2000/svg\" height=\"24px\"viewBox=\"0 0 24 24\"\n",
              "       width=\"24px\">\n",
              "    <path d=\"M0 0h24v24H0V0z\" fill=\"none\"/>\n",
              "    <path d=\"M18.56 5.44l.94 2.06.94-2.06 2.06-.94-2.06-.94-.94-2.06-.94 2.06-2.06.94zm-11 1L8.5 8.5l.94-2.06 2.06-.94-2.06-.94L8.5 2.5l-.94 2.06-2.06.94zm10 10l.94 2.06.94-2.06 2.06-.94-2.06-.94-.94-2.06-.94 2.06-2.06.94z\"/><path d=\"M17.41 7.96l-1.37-1.37c-.4-.4-.92-.59-1.43-.59-.52 0-1.04.2-1.43.59L10.3 9.45l-7.72 7.72c-.78.78-.78 2.05 0 2.83L4 21.41c.39.39.9.59 1.41.59.51 0 1.02-.2 1.41-.59l7.78-7.78 2.81-2.81c.8-.78.8-2.07 0-2.86zM5.41 20L4 18.59l7.72-7.72 1.47 1.35L5.41 20z\"/>\n",
              "  </svg>\n",
              "      </button>\n",
              "      \n",
              "  <style>\n",
              "    .colab-df-container {\n",
              "      display:flex;\n",
              "      flex-wrap:wrap;\n",
              "      gap: 12px;\n",
              "    }\n",
              "\n",
              "    .colab-df-convert {\n",
              "      background-color: #E8F0FE;\n",
              "      border: none;\n",
              "      border-radius: 50%;\n",
              "      cursor: pointer;\n",
              "      display: none;\n",
              "      fill: #1967D2;\n",
              "      height: 32px;\n",
              "      padding: 0 0 0 0;\n",
              "      width: 32px;\n",
              "    }\n",
              "\n",
              "    .colab-df-convert:hover {\n",
              "      background-color: #E2EBFA;\n",
              "      box-shadow: 0px 1px 2px rgba(60, 64, 67, 0.3), 0px 1px 3px 1px rgba(60, 64, 67, 0.15);\n",
              "      fill: #174EA6;\n",
              "    }\n",
              "\n",
              "    [theme=dark] .colab-df-convert {\n",
              "      background-color: #3B4455;\n",
              "      fill: #D2E3FC;\n",
              "    }\n",
              "\n",
              "    [theme=dark] .colab-df-convert:hover {\n",
              "      background-color: #434B5C;\n",
              "      box-shadow: 0px 1px 3px 1px rgba(0, 0, 0, 0.15);\n",
              "      filter: drop-shadow(0px 1px 2px rgba(0, 0, 0, 0.3));\n",
              "      fill: #FFFFFF;\n",
              "    }\n",
              "  </style>\n",
              "\n",
              "      <script>\n",
              "        const buttonEl =\n",
              "          document.querySelector('#df-73379eff-1144-4c2c-9aad-ff2ee06bc95e button.colab-df-convert');\n",
              "        buttonEl.style.display =\n",
              "          google.colab.kernel.accessAllowed ? 'block' : 'none';\n",
              "\n",
              "        async function convertToInteractive(key) {\n",
              "          const element = document.querySelector('#df-73379eff-1144-4c2c-9aad-ff2ee06bc95e');\n",
              "          const dataTable =\n",
              "            await google.colab.kernel.invokeFunction('convertToInteractive',\n",
              "                                                     [key], {});\n",
              "          if (!dataTable) return;\n",
              "\n",
              "          const docLinkHtml = 'Like what you see? Visit the ' +\n",
              "            '<a target=\"_blank\" href=https://colab.research.google.com/notebooks/data_table.ipynb>data table notebook</a>'\n",
              "            + ' to learn more about interactive tables.';\n",
              "          element.innerHTML = '';\n",
              "          dataTable['output_type'] = 'display_data';\n",
              "          await google.colab.output.renderOutput(dataTable, element);\n",
              "          const docLink = document.createElement('div');\n",
              "          docLink.innerHTML = docLinkHtml;\n",
              "          element.appendChild(docLink);\n",
              "        }\n",
              "      </script>\n",
              "    </div>\n",
              "  </div>\n",
              "  "
            ]
          },
          "metadata": {}
        }
      ]
    },
    {
      "cell_type": "code",
      "source": [
        "print(spotify.isnull().sum())"
      ],
      "metadata": {
        "colab": {
          "base_uri": "https://localhost:8080/"
        },
        "id": "nRrgfisuL5sD",
        "outputId": "5870eaaf-d7fd-4e23-eb44-ad164180f230"
      },
      "execution_count": 159,
      "outputs": [
        {
          "output_type": "stream",
          "name": "stdout",
          "text": [
            "id                    0\n",
            "artist                0\n",
            "genres                0\n",
            "popularity            0\n",
            "followers             0\n",
            "pop_mean              0\n",
            "rel_mean              0\n",
            "fol_mean              0\n",
            "date              12741\n",
            "rank              12741\n",
            "weeks-on-board    12741\n",
            "top100                0\n",
            "dtype: int64\n"
          ]
        }
      ]
    },
    {
      "cell_type": "code",
      "source": [
        "# 결측치 열 전체 삭제\n",
        "spotify = spotify.dropna(axis=1)   #열삭제의 경우 axis =1 \n",
        "print(\"결측열 모두 제거: \", spotify.shape)    # 결측치 모두 없어졌는지 확인\n",
        "\n",
        "print(spotify.isnull().sum())"
      ],
      "metadata": {
        "colab": {
          "base_uri": "https://localhost:8080/"
        },
        "id": "rsdY_r3BMQ8F",
        "outputId": "6eca040c-b838-4a94-d69e-164a2f397669"
      },
      "execution_count": 160,
      "outputs": [
        {
          "output_type": "stream",
          "name": "stdout",
          "text": [
            "결측열 모두 제거:  (13839, 9)\n",
            "id            0\n",
            "artist        0\n",
            "genres        0\n",
            "popularity    0\n",
            "followers     0\n",
            "pop_mean      0\n",
            "rel_mean      0\n",
            "fol_mean      0\n",
            "top100        0\n",
            "dtype: int64\n"
          ]
        }
      ]
    },
    {
      "cell_type": "code",
      "source": [
        "display(spotify.info())"
      ],
      "metadata": {
        "colab": {
          "base_uri": "https://localhost:8080/",
          "height": 326
        },
        "id": "ccpChxWPJjxe",
        "outputId": "5eec8a2b-0555-4916-8bb7-fbcdd76f0dd4"
      },
      "execution_count": 161,
      "outputs": [
        {
          "output_type": "stream",
          "name": "stdout",
          "text": [
            "<class 'pandas.core.frame.DataFrame'>\n",
            "Int64Index: 13839 entries, 0 to 13838\n",
            "Data columns (total 9 columns):\n",
            " #   Column      Non-Null Count  Dtype  \n",
            "---  ------      --------------  -----  \n",
            " 0   id          13839 non-null  int64  \n",
            " 1   artist      13839 non-null  object \n",
            " 2   genres      13839 non-null  object \n",
            " 3   popularity  13839 non-null  float64\n",
            " 4   followers   13839 non-null  float64\n",
            " 5   pop_mean    13839 non-null  float64\n",
            " 6   rel_mean    13839 non-null  float64\n",
            " 7   fol_mean    13839 non-null  float64\n",
            " 8   top100      13839 non-null  object \n",
            "dtypes: float64(5), int64(1), object(3)\n",
            "memory usage: 1.1+ MB\n"
          ]
        },
        {
          "output_type": "display_data",
          "data": {
            "text/plain": [
              "None"
            ]
          },
          "metadata": {}
        }
      ]
    },
    {
      "cell_type": "code",
      "source": [
        "print(spotify['top100'].value_counts())\n",
        "\n",
        "spotify['top100'].value_counts().plot.bar()\n",
        "plt.ylabel('count')\n",
        "plt.title('Distribution of top100')\n",
        "plt.show()"
      ],
      "metadata": {
        "colab": {
          "base_uri": "https://localhost:8080/",
          "height": 450
        },
        "id": "kOWFWdgFKxyu",
        "outputId": "4c59608c-3b36-4c7a-a780-af7c600e8849"
      },
      "execution_count": 162,
      "outputs": [
        {
          "output_type": "stream",
          "name": "stdout",
          "text": [
            "No     12741\n",
            "Yes     1098\n",
            "Name: top100, dtype: int64\n"
          ]
        },
        {
          "output_type": "display_data",
          "data": {
            "text/plain": [
              "<Figure size 648x432 with 1 Axes>"
            ],
            "image/png": "[encoded data removed]"
          },
          "metadata": {
            "needs_background": "light"
          }
        }
      ]
    },
    {
      "cell_type": "markdown",
      "source": [
        "### **2) 의사결정나무 모델** ###\n"
      ],
      "metadata": {
        "id": "VQzdP-8uPUi4"
      }
    },
    {
      "cell_type": "code",
      "source": [
        "from sklearn.tree import DecisionTreeClassifier\n",
        "from sklearn.model_selection import train_test_split\n",
        "\n",
        "X = spotify.iloc[:, [3, 4, 5, 6, 7]]  # 5개 변수 \n",
        "y = spotify.iloc[:, 8]   # top-100으로 설정\n",
        "\n",
        "# 데이터셋을 학습(train)과 테스트(test) 세트로 분할\n",
        "# random_state : random 으로 분할시 사용되는 난수 seed 숫자\n",
        "#X_train, X_test, y_train, y_test = train_test_split(X, y, test_size = 0.25, stratify=y, random_state=42)\n",
        "\n",
        "X_train, X_test, y_train, y_test = train_test_split(X, y, test_size = 0.25, random_state=42)\n",
        "\n",
        "tree = DecisionTreeClassifier(class_weight = \"balanced\", random_state=0)   #데이터 균형 맞춰주기\n",
        "tree.fit(X_train, y_train)  #(학습용 데이터 작성)\n",
        "print(\"학습용 데이터 정확도: {:.3f}\".format(tree.score(X_train, y_train)))\n",
        "print(\"시험용 데이터 정확도: {:.3f}\".format(tree.score(X_test, y_test)))"
      ],
      "metadata": {
        "colab": {
          "base_uri": "https://localhost:8080/"
        },
        "id": "cmk6umHkDh-x",
        "outputId": "e18bd908-2506-435b-b865-ae801aff594d"
      },
      "execution_count": 163,
      "outputs": [
        {
          "output_type": "stream",
          "name": "stdout",
          "text": [
            "학습용 데이터 정확도: 1.000\n",
            "시험용 데이터 정확도: 0.988\n"
          ]
        }
      ]
    },
    {
      "cell_type": "code",
      "source": [
        "# 의사결정나무의 깊이를 4로 제한하면 시험용 데이터에 대한 성능이 향상됨 (과적합을 줄임)\n",
        "#가중치 고려, 해당 모델 선택\n",
        "tree = DecisionTreeClassifier(class_weight = \"balanced\", max_depth=4, random_state=0)\n",
        "tree.fit(X_train, y_train)\n",
        "\n",
        "print(\"학습용 데이터 정확도: {:.3f}\".format(tree.score(X_train, y_train)))\n",
        "print(\"시험용 데이터 정확도: {:.3f}\".format(tree.score(X_test, y_test)))"
      ],
      "metadata": {
        "colab": {
          "base_uri": "https://localhost:8080/"
        },
        "id": "2QY9fSSwNGr7",
        "outputId": "68869615-3110-4164-bc00-674a043a5aa4"
      },
      "execution_count": 164,
      "outputs": [
        {
          "output_type": "stream",
          "name": "stdout",
          "text": [
            "학습용 데이터 정확도: 0.915\n",
            "시험용 데이터 정확도: 0.912\n"
          ]
        }
      ]
    },
    {
      "cell_type": "code",
      "source": [
        "#graphviz 라이브러리를 이용하여 의사결정나무 그리기 \n",
        "from sklearn.tree import export_graphviz\n",
        "import graphviz\n",
        "\n",
        "# filled = True: 색상의 진하기로 클래스를 나타냄, impurity: 불순도 계산값 보여주기 옵션\n",
        "export_graphviz(tree, out_file=\"tree.dot\", class_names=[ \"Top-100 No\", \"Top-100 Yes\"],\n",
        "                feature_names=spotify.columns[[3, 4, 5, 6, 7]], impurity=False, filled=True)\n",
        "\n",
        "with open(\"tree.dot\") as f:\n",
        "    dot_graph = f.read()\n",
        "\n",
        "display(graphviz.Source(dot_graph))\n",
        "\n",
        "#(어떤 순서로 중요한지 확인 가능)"
      ],
      "metadata": {
        "colab": {
          "base_uri": "https://localhost:8080/",
          "height": 676
        },
        "id": "CwMJihQANIlC",
        "outputId": "3913bbbf-2bef-4e93-ce54-2f3227e0ea7f"
      },
      "execution_count": 165,
      "outputs": [
        {
          "output_type": "display_data",
          "data": {
            "text/plain": [
              "<graphviz.files.Source at 0x7f9139967b50>"
            ],
            "image/svg+xml": "<?xml version=\"1.0\" encoding=\"UTF-8\" standalone=\"no\"?>\n<!DOCTYPE svg PUBLIC \"-//W3C//DTD SVG 1.1//EN\"\n \"http://www.w3.org/Graphics/SVG/1.1/DTD/svg11.dtd\">\n<!-- Generated by graphviz version 2.40.1 (20161225.0304)\n -->\n<!-- Title: Tree Pages: 1 -->\n<svg width=\"2627pt\" height=\"477pt\"\n viewBox=\"0.00 0.00 2626.50 477.00\" xmlns=\"http://www.w3.org/2000/svg\" xmlns:xlink=\"http://www.w3.org/1999/xlink\">\n<g id=\"graph0\" class=\"graph\" transform=\"scale(1 1) rotate(0) translate(4 473)\">\n<title>Tree</title>\n<polygon fill=\"#ffffff\" stroke=\"transparent\" points=\"-4,4 -4,-473 2622.5,-473 2622.5,4 -4,4\"/>\n<!-- 0 -->\n<g id=\"node1\" class=\"node\">\n<title>0</title>\n<polygon fill=\"#ffffff\" stroke=\"#000000\" points=\"1193,-469 1020,-469 1020,-401 1193,-401 1193,-469\"/>\n<text text-anchor=\"middle\" x=\"1106.5\" y=\"-453.8\" font-family=\"Helvetica,sans-Serif\" font-size=\"14.00\" fill=\"#000000\">popularity &lt;= 69.5</text>\n<text text-anchor=\"middle\" x=\"1106.5\" y=\"-438.8\" font-family=\"Helvetica,sans-Serif\" font-size=\"14.00\" fill=\"#000000\">samples = 10379</text>\n<text text-anchor=\"middle\" x=\"1106.5\" y=\"-423.8\" font-family=\"Helvetica,sans-Serif\" font-size=\"14.00\" fill=\"#000000\">value = [5189.5, 5189.5]</text>\n<text text-anchor=\"middle\" x=\"1106.5\" y=\"-408.8\" font-family=\"Helvetica,sans-Serif\" font-size=\"14.00\" fill=\"#000000\">class = Top&#45;100 Yes</text>\n</g>\n<!-- 1 -->\n<g id=\"node2\" class=\"node\">\n<title>1</title>\n<polygon fill=\"#e78945\" stroke=\"#000000\" points=\"939,-365 742,-365 742,-297 939,-297 939,-365\"/>\n<text text-anchor=\"middle\" x=\"840.5\" y=\"-349.8\" font-family=\"Helvetica,sans-Serif\" font-size=\"14.00\" fill=\"#000000\">pop_mean &lt;= 79.933</text>\n<text text-anchor=\"middle\" x=\"840.5\" y=\"-334.8\" font-family=\"Helvetica,sans-Serif\" font-size=\"14.00\" fill=\"#000000\">samples = 8747</text>\n<text text-anchor=\"middle\" x=\"840.5\" y=\"-319.8\" font-family=\"Helvetica,sans-Serif\" font-size=\"14.00\" fill=\"#000000\">value = [4723.205, 291.474]</text>\n<text text-anchor=\"middle\" x=\"840.5\" y=\"-304.8\" font-family=\"Helvetica,sans-Serif\" font-size=\"14.00\" fill=\"#000000\">class = Top&#45;100 No</text>\n</g>\n<!-- 0&#45;&gt;1 -->\n<g id=\"edge1\" class=\"edge\">\n<title>0&#45;&gt;1</title>\n<path fill=\"none\" stroke=\"#000000\" d=\"M1019.7697,-401.0904C993.324,-390.7507 964.09,-379.3209 937.0372,-368.7439\"/>\n<polygon fill=\"#000000\" stroke=\"#000000\" points=\"938.1554,-365.4231 927.5674,-365.0414 935.6064,-371.9425 938.1554,-365.4231\"/>\n<text text-anchor=\"middle\" x=\"937.5944\" y=\"-384.2425\" font-family=\"Helvetica,sans-Serif\" font-size=\"14.00\" fill=\"#000000\">True</text>\n</g>\n<!-- 14 -->\n<g id=\"node15\" class=\"node\">\n<title>14</title>\n<polygon fill=\"#4ca6e7\" stroke=\"#000000\" points=\"1585,-365 1388,-365 1388,-297 1585,-297 1585,-365\"/>\n<text text-anchor=\"middle\" x=\"1486.5\" y=\"-349.8\" font-family=\"Helvetica,sans-Serif\" font-size=\"14.00\" fill=\"#000000\">popularity &lt;= 77.5</text>\n<text text-anchor=\"middle\" x=\"1486.5\" y=\"-334.8\" font-family=\"Helvetica,sans-Serif\" font-size=\"14.00\" fill=\"#000000\">samples = 1632</text>\n<text text-anchor=\"middle\" x=\"1486.5\" y=\"-319.8\" font-family=\"Helvetica,sans-Serif\" font-size=\"14.00\" fill=\"#000000\">value = [466.295, 4898.026]</text>\n<text text-anchor=\"middle\" x=\"1486.5\" y=\"-304.8\" font-family=\"Helvetica,sans-Serif\" font-size=\"14.00\" fill=\"#000000\">class = Top&#45;100 Yes</text>\n</g>\n<!-- 0&#45;&gt;14 -->\n<g id=\"edge14\" class=\"edge\">\n<title>0&#45;&gt;14</title>\n<path fill=\"none\" stroke=\"#000000\" d=\"M1193.2034,-411.2707C1248.0865,-396.25 1319.491,-376.7077 1378.104,-360.6663\"/>\n<polygon fill=\"#000000\" stroke=\"#000000\" points=\"1379.0476,-364.0368 1387.769,-358.0211 1377.1997,-357.2851 1379.0476,-364.0368\"/>\n<text text-anchor=\"middle\" x=\"1375.3848\" y=\"-376.0382\" font-family=\"Helvetica,sans-Serif\" font-size=\"14.00\" fill=\"#000000\">False</text>\n</g>\n<!-- 2 -->\n<g id=\"node3\" class=\"node\">\n<title>2</title>\n<polygon fill=\"#e68640\" stroke=\"#000000\" points=\"651,-261 454,-261 454,-193 651,-193 651,-261\"/>\n<text text-anchor=\"middle\" x=\"552.5\" y=\"-245.8\" font-family=\"Helvetica,sans-Serif\" font-size=\"14.00\" fill=\"#000000\">popularity &lt;= 63.5</text>\n<text text-anchor=\"middle\" x=\"552.5\" y=\"-230.8\" font-family=\"Helvetica,sans-Serif\" font-size=\"14.00\" fill=\"#000000\">samples = 8556</text>\n<text text-anchor=\"middle\" x=\"552.5\" y=\"-215.8\" font-family=\"Helvetica,sans-Serif\" font-size=\"14.00\" fill=\"#000000\">value = [4629.837, 171.082]</text>\n<text text-anchor=\"middle\" x=\"552.5\" y=\"-200.8\" font-family=\"Helvetica,sans-Serif\" font-size=\"14.00\" fill=\"#000000\">class = Top&#45;100 No</text>\n</g>\n<!-- 1&#45;&gt;2 -->\n<g id=\"edge2\" class=\"edge\">\n<title>1&#45;&gt;2</title>\n<path fill=\"none\" stroke=\"#000000\" d=\"M746.198,-296.9465C717.4805,-286.5763 685.7573,-275.1207 656.4408,-264.5342\"/>\n<polygon fill=\"#000000\" stroke=\"#000000\" points=\"657.6082,-261.2346 647.0138,-261.13 655.2306,-267.8184 657.6082,-261.2346\"/>\n</g>\n<!-- 9 -->\n<g id=\"node10\" class=\"node\">\n<title>9</title>\n<polygon fill=\"#d3e9f9\" stroke=\"#000000\" points=\"931,-261 750,-261 750,-193 931,-193 931,-261\"/>\n<text text-anchor=\"middle\" x=\"840.5\" y=\"-245.8\" font-family=\"Helvetica,sans-Serif\" font-size=\"14.00\" fill=\"#000000\">popularity &lt;= 54.5</text>\n<text text-anchor=\"middle\" x=\"840.5\" y=\"-230.8\" font-family=\"Helvetica,sans-Serif\" font-size=\"14.00\" fill=\"#000000\">samples = 191</text>\n<text text-anchor=\"middle\" x=\"840.5\" y=\"-215.8\" font-family=\"Helvetica,sans-Serif\" font-size=\"14.00\" fill=\"#000000\">value = [93.368, 120.391]</text>\n<text text-anchor=\"middle\" x=\"840.5\" y=\"-200.8\" font-family=\"Helvetica,sans-Serif\" font-size=\"14.00\" fill=\"#000000\">class = Top&#45;100 Yes</text>\n</g>\n<!-- 1&#45;&gt;9 -->\n<g id=\"edge9\" class=\"edge\">\n<title>1&#45;&gt;9</title>\n<path fill=\"none\" stroke=\"#000000\" d=\"M840.5,-296.9465C840.5,-288.776 840.5,-279.9318 840.5,-271.3697\"/>\n<polygon fill=\"#000000\" stroke=\"#000000\" points=\"844.0001,-271.13 840.5,-261.13 837.0001,-271.13 844.0001,-271.13\"/>\n</g>\n<!-- 3 -->\n<g id=\"node4\" class=\"node\">\n<title>3</title>\n<polygon fill=\"#e5823b\" stroke=\"#000000\" points=\"388,-157 199,-157 199,-89 388,-89 388,-157\"/>\n<text text-anchor=\"middle\" x=\"293.5\" y=\"-141.8\" font-family=\"Helvetica,sans-Serif\" font-size=\"14.00\" fill=\"#000000\">rel_mean &lt;= 220.062</text>\n<text text-anchor=\"middle\" x=\"293.5\" y=\"-126.8\" font-family=\"Helvetica,sans-Serif\" font-size=\"14.00\" fill=\"#000000\">samples = 7663</text>\n<text text-anchor=\"middle\" x=\"293.5\" y=\"-111.8\" font-family=\"Helvetica,sans-Serif\" font-size=\"14.00\" fill=\"#000000\">value = [4156.486, 38.018]</text>\n<text text-anchor=\"middle\" x=\"293.5\" y=\"-96.8\" font-family=\"Helvetica,sans-Serif\" font-size=\"14.00\" fill=\"#000000\">class = Top&#45;100 No</text>\n</g>\n<!-- 2&#45;&gt;3 -->\n<g id=\"edge3\" class=\"edge\">\n<title>2&#45;&gt;3</title>\n<path fill=\"none\" stroke=\"#000000\" d=\"M467.6937,-192.9465C442.2033,-182.711 414.0796,-171.4181 388.0028,-160.9471\"/>\n<polygon fill=\"#000000\" stroke=\"#000000\" points=\"389.0809,-157.6084 378.4968,-157.13 386.4724,-164.1043 389.0809,-157.6084\"/>\n</g>\n<!-- 6 -->\n<g id=\"node7\" class=\"node\">\n<title>6</title>\n<polygon fill=\"#eca471\" stroke=\"#000000\" points=\"647,-157 458,-157 458,-89 647,-89 647,-157\"/>\n<text text-anchor=\"middle\" x=\"552.5\" y=\"-141.8\" font-family=\"Helvetica,sans-Serif\" font-size=\"14.00\" fill=\"#000000\">rel_mean &lt;= 127.967</text>\n<text text-anchor=\"middle\" x=\"552.5\" y=\"-126.8\" font-family=\"Helvetica,sans-Serif\" font-size=\"14.00\" fill=\"#000000\">samples = 893</text>\n<text text-anchor=\"middle\" x=\"552.5\" y=\"-111.8\" font-family=\"Helvetica,sans-Serif\" font-size=\"14.00\" fill=\"#000000\">value = [473.352, 133.064]</text>\n<text text-anchor=\"middle\" x=\"552.5\" y=\"-96.8\" font-family=\"Helvetica,sans-Serif\" font-size=\"14.00\" fill=\"#000000\">class = Top&#45;100 No</text>\n</g>\n<!-- 2&#45;&gt;6 -->\n<g id=\"edge6\" class=\"edge\">\n<title>2&#45;&gt;6</title>\n<path fill=\"none\" stroke=\"#000000\" d=\"M552.5,-192.9465C552.5,-184.776 552.5,-175.9318 552.5,-167.3697\"/>\n<polygon fill=\"#000000\" stroke=\"#000000\" points=\"556.0001,-167.13 552.5,-157.13 549.0001,-167.13 556.0001,-167.13\"/>\n</g>\n<!-- 4 -->\n<g id=\"node5\" class=\"node\">\n<title>4</title>\n<polygon fill=\"#e5813a\" stroke=\"#000000\" points=\"189,-53 0,-53 0,0 189,0 189,-53\"/>\n<text text-anchor=\"middle\" x=\"94.5\" y=\"-37.8\" font-family=\"Helvetica,sans-Serif\" font-size=\"14.00\" fill=\"#000000\">samples = 7524</text>\n<text text-anchor=\"middle\" x=\"94.5\" y=\"-22.8\" font-family=\"Helvetica,sans-Serif\" font-size=\"14.00\" fill=\"#000000\">value = [4083.203, 12.673]</text>\n<text text-anchor=\"middle\" x=\"94.5\" y=\"-7.8\" font-family=\"Helvetica,sans-Serif\" font-size=\"14.00\" fill=\"#000000\">class = Top&#45;100 No</text>\n</g>\n<!-- 3&#45;&gt;4 -->\n<g id=\"edge4\" class=\"edge\">\n<title>3&#45;&gt;4</title>\n<path fill=\"none\" stroke=\"#000000\" d=\"M223.34,-88.9777C202.1877,-78.7204 179.0926,-67.521 158.3723,-57.4732\"/>\n<polygon fill=\"#000000\" stroke=\"#000000\" points=\"159.8687,-54.3091 149.3436,-53.095 156.8143,-60.6076 159.8687,-54.3091\"/>\n</g>\n<!-- 5 -->\n<g id=\"node6\" class=\"node\">\n<title>5</title>\n<polygon fill=\"#eead7d\" stroke=\"#000000\" points=\"380,-53 207,-53 207,0 380,0 380,-53\"/>\n<text text-anchor=\"middle\" x=\"293.5\" y=\"-37.8\" font-family=\"Helvetica,sans-Serif\" font-size=\"14.00\" fill=\"#000000\">samples = 139</text>\n<text text-anchor=\"middle\" x=\"293.5\" y=\"-22.8\" font-family=\"Helvetica,sans-Serif\" font-size=\"14.00\" fill=\"#000000\">value = [73.283, 25.346]</text>\n<text text-anchor=\"middle\" x=\"293.5\" y=\"-7.8\" font-family=\"Helvetica,sans-Serif\" font-size=\"14.00\" fill=\"#000000\">class = Top&#45;100 No</text>\n</g>\n<!-- 3&#45;&gt;5 -->\n<g id=\"edge5\" class=\"edge\">\n<title>3&#45;&gt;5</title>\n<path fill=\"none\" stroke=\"#000000\" d=\"M293.5,-88.9777C293.5,-80.7364 293.5,-71.887 293.5,-63.5153\"/>\n<polygon fill=\"#000000\" stroke=\"#000000\" points=\"297.0001,-63.2484 293.5,-53.2485 290.0001,-63.2485 297.0001,-63.2484\"/>\n</g>\n<!-- 7 -->\n<g id=\"node8\" class=\"node\">\n<title>7</title>\n<polygon fill=\"#e99457\" stroke=\"#000000\" points=\"562.5,-53 398.5,-53 398.5,0 562.5,0 562.5,-53\"/>\n<text text-anchor=\"middle\" x=\"480.5\" y=\"-37.8\" font-family=\"Helvetica,sans-Serif\" font-size=\"14.00\" fill=\"#000000\">samples = 850</text>\n<text text-anchor=\"middle\" x=\"480.5\" y=\"-22.8\" font-family=\"Helvetica,sans-Serif\" font-size=\"14.00\" fill=\"#000000\">value = [455.438, 69.7]</text>\n<text text-anchor=\"middle\" x=\"480.5\" y=\"-7.8\" font-family=\"Helvetica,sans-Serif\" font-size=\"14.00\" fill=\"#000000\">class = Top&#45;100 No</text>\n</g>\n<!-- 6&#45;&gt;7 -->\n<g id=\"edge7\" class=\"edge\">\n<title>6&#45;&gt;7</title>\n<path fill=\"none\" stroke=\"#000000\" d=\"M527.1155,-88.9777C520.42,-80.0039 513.1865,-70.3089 506.461,-61.295\"/>\n<polygon fill=\"#000000\" stroke=\"#000000\" points=\"509.2427,-59.1704 500.4574,-53.2485 503.6323,-63.3565 509.2427,-59.1704\"/>\n</g>\n<!-- 8 -->\n<g id=\"node9\" class=\"node\">\n<title>8</title>\n<polygon fill=\"#71b9ec\" stroke=\"#000000\" points=\"754,-53 581,-53 581,0 754,0 754,-53\"/>\n<text text-anchor=\"middle\" x=\"667.5\" y=\"-37.8\" font-family=\"Helvetica,sans-Serif\" font-size=\"14.00\" fill=\"#000000\">samples = 43</text>\n<text text-anchor=\"middle\" x=\"667.5\" y=\"-22.8\" font-family=\"Helvetica,sans-Serif\" font-size=\"14.00\" fill=\"#000000\">value = [17.914, 63.364]</text>\n<text text-anchor=\"middle\" x=\"667.5\" y=\"-7.8\" font-family=\"Helvetica,sans-Serif\" font-size=\"14.00\" fill=\"#000000\">class = Top&#45;100 Yes</text>\n</g>\n<!-- 6&#45;&gt;8 -->\n<g id=\"edge8\" class=\"edge\">\n<title>6&#45;&gt;8</title>\n<path fill=\"none\" stroke=\"#000000\" d=\"M593.0447,-88.9777C604.2845,-79.546 616.4736,-69.3178 627.6721,-59.9208\"/>\n<polygon fill=\"#000000\" stroke=\"#000000\" points=\"630.213,-62.3576 635.6236,-53.2485 625.7134,-56.9954 630.213,-62.3576\"/>\n</g>\n<!-- 10 -->\n<g id=\"node11\" class=\"node\">\n<title>10</title>\n<polygon fill=\"#e58139\" stroke=\"#000000\" points=\"863.5,-149.5 715.5,-149.5 715.5,-96.5 863.5,-96.5 863.5,-149.5\"/>\n<text text-anchor=\"middle\" x=\"789.5\" y=\"-134.3\" font-family=\"Helvetica,sans-Serif\" font-size=\"14.00\" fill=\"#000000\">samples = 87</text>\n<text text-anchor=\"middle\" x=\"789.5\" y=\"-119.3\" font-family=\"Helvetica,sans-Serif\" font-size=\"14.00\" fill=\"#000000\">value = [47.227, 0.0]</text>\n<text text-anchor=\"middle\" x=\"789.5\" y=\"-104.3\" font-family=\"Helvetica,sans-Serif\" font-size=\"14.00\" fill=\"#000000\">class = Top&#45;100 No</text>\n</g>\n<!-- 9&#45;&gt;10 -->\n<g id=\"edge10\" class=\"edge\">\n<title>9&#45;&gt;10</title>\n<path fill=\"none\" stroke=\"#000000\" d=\"M823.8007,-192.9465C818.3992,-181.9316 812.3971,-169.6922 806.9431,-158.5703\"/>\n<polygon fill=\"#000000\" stroke=\"#000000\" points=\"810.0614,-156.9797 802.5159,-149.5422 803.7764,-160.0618 810.0614,-156.9797\"/>\n</g>\n<!-- 11 -->\n<g id=\"node12\" class=\"node\">\n<title>11</title>\n<polygon fill=\"#85c3ef\" stroke=\"#000000\" points=\"1063,-157 882,-157 882,-89 1063,-89 1063,-157\"/>\n<text text-anchor=\"middle\" x=\"972.5\" y=\"-141.8\" font-family=\"Helvetica,sans-Serif\" font-size=\"14.00\" fill=\"#000000\">rel_mean &lt;= 17.25</text>\n<text text-anchor=\"middle\" x=\"972.5\" y=\"-126.8\" font-family=\"Helvetica,sans-Serif\" font-size=\"14.00\" fill=\"#000000\">samples = 104</text>\n<text text-anchor=\"middle\" x=\"972.5\" y=\"-111.8\" font-family=\"Helvetica,sans-Serif\" font-size=\"14.00\" fill=\"#000000\">value = [46.141, 120.391]</text>\n<text text-anchor=\"middle\" x=\"972.5\" y=\"-96.8\" font-family=\"Helvetica,sans-Serif\" font-size=\"14.00\" fill=\"#000000\">class = Top&#45;100 Yes</text>\n</g>\n<!-- 9&#45;&gt;11 -->\n<g id=\"edge11\" class=\"edge\">\n<title>9&#45;&gt;11</title>\n<path fill=\"none\" stroke=\"#000000\" d=\"M883.7217,-192.9465C895.6874,-183.519 908.7915,-173.1946 921.1704,-163.4415\"/>\n<polygon fill=\"#000000\" stroke=\"#000000\" points=\"923.4923,-166.068 929.1812,-157.13 919.1602,-160.5695 923.4923,-166.068\"/>\n</g>\n<!-- 12 -->\n<g id=\"node13\" class=\"node\">\n<title>12</title>\n<polygon fill=\"#e58139\" stroke=\"#000000\" points=\"914.5,-53 772.5,-53 772.5,0 914.5,0 914.5,-53\"/>\n<text text-anchor=\"middle\" x=\"843.5\" y=\"-37.8\" font-family=\"Helvetica,sans-Serif\" font-size=\"14.00\" fill=\"#000000\">samples = 14</text>\n<text text-anchor=\"middle\" x=\"843.5\" y=\"-22.8\" font-family=\"Helvetica,sans-Serif\" font-size=\"14.00\" fill=\"#000000\">value = [7.6, 0.0]</text>\n<text text-anchor=\"middle\" x=\"843.5\" y=\"-7.8\" font-family=\"Helvetica,sans-Serif\" font-size=\"14.00\" fill=\"#000000\">class = Top&#45;100 No</text>\n</g>\n<!-- 11&#45;&gt;12 -->\n<g id=\"edge12\" class=\"edge\">\n<title>11&#45;&gt;12</title>\n<path fill=\"none\" stroke=\"#000000\" d=\"M927.0194,-88.9777C914.1665,-79.3629 900.2069,-68.9203 887.446,-59.3743\"/>\n<polygon fill=\"#000000\" stroke=\"#000000\" points=\"889.361,-56.436 879.257,-53.2485 885.168,-62.0412 889.361,-56.436\"/>\n</g>\n<!-- 13 -->\n<g id=\"node14\" class=\"node\">\n<title>13</title>\n<polygon fill=\"#78bced\" stroke=\"#000000\" points=\"1114,-53 933,-53 933,0 1114,0 1114,-53\"/>\n<text text-anchor=\"middle\" x=\"1023.5\" y=\"-37.8\" font-family=\"Helvetica,sans-Serif\" font-size=\"14.00\" fill=\"#000000\">samples = 90</text>\n<text text-anchor=\"middle\" x=\"1023.5\" y=\"-22.8\" font-family=\"Helvetica,sans-Serif\" font-size=\"14.00\" fill=\"#000000\">value = [38.541, 120.391]</text>\n<text text-anchor=\"middle\" x=\"1023.5\" y=\"-7.8\" font-family=\"Helvetica,sans-Serif\" font-size=\"14.00\" fill=\"#000000\">class = Top&#45;100 Yes</text>\n</g>\n<!-- 11&#45;&gt;13 -->\n<g id=\"edge13\" class=\"edge\">\n<title>11&#45;&gt;13</title>\n<path fill=\"none\" stroke=\"#000000\" d=\"M990.4807,-88.9777C995.0782,-80.2786 1000.0337,-70.9018 1004.6725,-62.1247\"/>\n<polygon fill=\"#000000\" stroke=\"#000000\" points=\"1007.7853,-63.7251 1009.3635,-53.2485 1001.5965,-60.4543 1007.7853,-63.7251\"/>\n</g>\n<!-- 15 -->\n<g id=\"node16\" class=\"node\">\n<title>15</title>\n<polygon fill=\"#7cbeee\" stroke=\"#000000\" points=\"1581,-261 1392,-261 1392,-193 1581,-193 1581,-261\"/>\n<text text-anchor=\"middle\" x=\"1486.5\" y=\"-245.8\" font-family=\"Helvetica,sans-Serif\" font-size=\"14.00\" fill=\"#000000\">pop_mean &lt;= 70.438</text>\n<text text-anchor=\"middle\" x=\"1486.5\" y=\"-230.8\" font-family=\"Helvetica,sans-Serif\" font-size=\"14.00\" fill=\"#000000\">samples = 726</text>\n<text text-anchor=\"middle\" x=\"1486.5\" y=\"-215.8\" font-family=\"Helvetica,sans-Serif\" font-size=\"14.00\" fill=\"#000000\">value = [314.301, 931.449]</text>\n<text text-anchor=\"middle\" x=\"1486.5\" y=\"-200.8\" font-family=\"Helvetica,sans-Serif\" font-size=\"14.00\" fill=\"#000000\">class = Top&#45;100 Yes</text>\n</g>\n<!-- 14&#45;&gt;15 -->\n<g id=\"edge15\" class=\"edge\">\n<title>14&#45;&gt;15</title>\n<path fill=\"none\" stroke=\"#000000\" d=\"M1486.5,-296.9465C1486.5,-288.776 1486.5,-279.9318 1486.5,-271.3697\"/>\n<polygon fill=\"#000000\" stroke=\"#000000\" points=\"1490.0001,-271.13 1486.5,-261.13 1483.0001,-271.13 1490.0001,-271.13\"/>\n</g>\n<!-- 22 -->\n<g id=\"node23\" class=\"node\">\n<title>22</title>\n<polygon fill=\"#41a1e6\" stroke=\"#000000\" points=\"2178,-261 1981,-261 1981,-193 2178,-193 2178,-261\"/>\n<text text-anchor=\"middle\" x=\"2079.5\" y=\"-245.8\" font-family=\"Helvetica,sans-Serif\" font-size=\"14.00\" fill=\"#000000\">rel_mean &lt;= 93.851</text>\n<text text-anchor=\"middle\" x=\"2079.5\" y=\"-230.8\" font-family=\"Helvetica,sans-Serif\" font-size=\"14.00\" fill=\"#000000\">samples = 906</text>\n<text text-anchor=\"middle\" x=\"2079.5\" y=\"-215.8\" font-family=\"Helvetica,sans-Serif\" font-size=\"14.00\" fill=\"#000000\">value = [151.994, 3966.578]</text>\n<text text-anchor=\"middle\" x=\"2079.5\" y=\"-200.8\" font-family=\"Helvetica,sans-Serif\" font-size=\"14.00\" fill=\"#000000\">class = Top&#45;100 Yes</text>\n</g>\n<!-- 14&#45;&gt;22 -->\n<g id=\"edge22\" class=\"edge\">\n<title>14&#45;&gt;22</title>\n<path fill=\"none\" stroke=\"#000000\" d=\"M1585.0876,-313.7098C1691.4376,-295.0582 1860.3068,-265.442 1970.529,-246.1113\"/>\n<polygon fill=\"#000000\" stroke=\"#000000\" points=\"1971.4317,-249.5065 1980.6767,-244.3316 1970.2224,-242.6117 1971.4317,-249.5065\"/>\n</g>\n<!-- 16 -->\n<g id=\"node17\" class=\"node\">\n<title>16</title>\n<polygon fill=\"#a7d4f3\" stroke=\"#000000\" points=\"1478,-157 1289,-157 1289,-89 1478,-89 1478,-157\"/>\n<text text-anchor=\"middle\" x=\"1383.5\" y=\"-141.8\" font-family=\"Helvetica,sans-Serif\" font-size=\"14.00\" fill=\"#000000\">followers &lt;= 532730.0</text>\n<text text-anchor=\"middle\" x=\"1383.5\" y=\"-126.8\" font-family=\"Helvetica,sans-Serif\" font-size=\"14.00\" fill=\"#000000\">samples = 405</text>\n<text text-anchor=\"middle\" x=\"1383.5\" y=\"-111.8\" font-family=\"Helvetica,sans-Serif\" font-size=\"14.00\" fill=\"#000000\">value = [190.535, 342.165]</text>\n<text text-anchor=\"middle\" x=\"1383.5\" y=\"-96.8\" font-family=\"Helvetica,sans-Serif\" font-size=\"14.00\" fill=\"#000000\">class = Top&#45;100 Yes</text>\n</g>\n<!-- 15&#45;&gt;16 -->\n<g id=\"edge16\" class=\"edge\">\n<title>15&#45;&gt;16</title>\n<path fill=\"none\" stroke=\"#000000\" d=\"M1452.7739,-192.9465C1443.7039,-183.7884 1433.7955,-173.7838 1424.3819,-164.2788\"/>\n<polygon fill=\"#000000\" stroke=\"#000000\" points=\"1426.8255,-161.7723 1417.3018,-157.13 1421.8519,-166.6981 1426.8255,-161.7723\"/>\n</g>\n<!-- 19 -->\n<g id=\"node20\" class=\"node\">\n<title>19</title>\n<polygon fill=\"#63b2ea\" stroke=\"#000000\" points=\"1685,-157 1496,-157 1496,-89 1685,-89 1685,-157\"/>\n<text text-anchor=\"middle\" x=\"1590.5\" y=\"-141.8\" font-family=\"Helvetica,sans-Serif\" font-size=\"14.00\" fill=\"#000000\">rel_mean &lt;= 7.786</text>\n<text text-anchor=\"middle\" x=\"1590.5\" y=\"-126.8\" font-family=\"Helvetica,sans-Serif\" font-size=\"14.00\" fill=\"#000000\">samples = 321</text>\n<text text-anchor=\"middle\" x=\"1590.5\" y=\"-111.8\" font-family=\"Helvetica,sans-Serif\" font-size=\"14.00\" fill=\"#000000\">value = [123.766, 589.284]</text>\n<text text-anchor=\"middle\" x=\"1590.5\" y=\"-96.8\" font-family=\"Helvetica,sans-Serif\" font-size=\"14.00\" fill=\"#000000\">class = Top&#45;100 Yes</text>\n</g>\n<!-- 15&#45;&gt;19 -->\n<g id=\"edge19\" class=\"edge\">\n<title>15&#45;&gt;19</title>\n<path fill=\"none\" stroke=\"#000000\" d=\"M1520.5535,-192.9465C1529.7116,-183.7884 1539.7162,-173.7838 1549.2212,-164.2788\"/>\n<polygon fill=\"#000000\" stroke=\"#000000\" points=\"1551.7738,-166.676 1556.37,-157.13 1546.824,-161.7262 1551.7738,-166.676\"/>\n</g>\n<!-- 17 -->\n<g id=\"node18\" class=\"node\">\n<title>17</title>\n<polygon fill=\"#e58139\" stroke=\"#000000\" points=\"1280.5,-53 1132.5,-53 1132.5,0 1280.5,0 1280.5,-53\"/>\n<text text-anchor=\"middle\" x=\"1206.5\" y=\"-37.8\" font-family=\"Helvetica,sans-Serif\" font-size=\"14.00\" fill=\"#000000\">samples = 48</text>\n<text text-anchor=\"middle\" x=\"1206.5\" y=\"-22.8\" font-family=\"Helvetica,sans-Serif\" font-size=\"14.00\" fill=\"#000000\">value = [26.056, 0.0]</text>\n<text text-anchor=\"middle\" x=\"1206.5\" y=\"-7.8\" font-family=\"Helvetica,sans-Serif\" font-size=\"14.00\" fill=\"#000000\">class = Top&#45;100 No</text>\n</g>\n<!-- 16&#45;&gt;17 -->\n<g id=\"edge17\" class=\"edge\">\n<title>16&#45;&gt;17</title>\n<path fill=\"none\" stroke=\"#000000\" d=\"M1321.0964,-88.9777C1302.7044,-78.9504 1282.6609,-68.0228 1264.5538,-58.1508\"/>\n<polygon fill=\"#000000\" stroke=\"#000000\" points=\"1265.7358,-54.8089 1255.2805,-53.095 1262.385,-60.9548 1265.7358,-54.8089\"/>\n</g>\n<!-- 18 -->\n<g id=\"node19\" class=\"node\">\n<title>18</title>\n<polygon fill=\"#98ccf1\" stroke=\"#000000\" points=\"1488,-53 1299,-53 1299,0 1488,0 1488,-53\"/>\n<text text-anchor=\"middle\" x=\"1393.5\" y=\"-37.8\" font-family=\"Helvetica,sans-Serif\" font-size=\"14.00\" fill=\"#000000\">samples = 357</text>\n<text text-anchor=\"middle\" x=\"1393.5\" y=\"-22.8\" font-family=\"Helvetica,sans-Serif\" font-size=\"14.00\" fill=\"#000000\">value = [164.479, 342.165]</text>\n<text text-anchor=\"middle\" x=\"1393.5\" y=\"-7.8\" font-family=\"Helvetica,sans-Serif\" font-size=\"14.00\" fill=\"#000000\">class = Top&#45;100 Yes</text>\n</g>\n<!-- 16&#45;&gt;18 -->\n<g id=\"edge18\" class=\"edge\">\n<title>16&#45;&gt;18</title>\n<path fill=\"none\" stroke=\"#000000\" d=\"M1387.0256,-88.9777C1387.8891,-80.6449 1388.8171,-71.6903 1389.6931,-63.2364\"/>\n<polygon fill=\"#000000\" stroke=\"#000000\" points=\"1393.1787,-63.556 1390.7281,-53.2485 1386.2159,-62.8344 1393.1787,-63.556\"/>\n</g>\n<!-- 20 -->\n<g id=\"node21\" class=\"node\">\n<title>20</title>\n<polygon fill=\"#e58139\" stroke=\"#000000\" points=\"1654.5,-53 1506.5,-53 1506.5,0 1654.5,0 1654.5,-53\"/>\n<text text-anchor=\"middle\" x=\"1580.5\" y=\"-37.8\" font-family=\"Helvetica,sans-Serif\" font-size=\"14.00\" fill=\"#000000\">samples = 30</text>\n<text text-anchor=\"middle\" x=\"1580.5\" y=\"-22.8\" font-family=\"Helvetica,sans-Serif\" font-size=\"14.00\" fill=\"#000000\">value = [16.285, 0.0]</text>\n<text text-anchor=\"middle\" x=\"1580.5\" y=\"-7.8\" font-family=\"Helvetica,sans-Serif\" font-size=\"14.00\" fill=\"#000000\">class = Top&#45;100 No</text>\n</g>\n<!-- 19&#45;&gt;20 -->\n<g id=\"edge20\" class=\"edge\">\n<title>19&#45;&gt;20</title>\n<path fill=\"none\" stroke=\"#000000\" d=\"M1586.9744,-88.9777C1586.1109,-80.6449 1585.1829,-71.6903 1584.3069,-63.2364\"/>\n<polygon fill=\"#000000\" stroke=\"#000000\" points=\"1587.7841,-62.8344 1583.2719,-53.2485 1580.8213,-63.556 1587.7841,-62.8344\"/>\n</g>\n<!-- 21 -->\n<g id=\"node22\" class=\"node\">\n<title>21</title>\n<polygon fill=\"#5dafea\" stroke=\"#000000\" points=\"1862,-53 1673,-53 1673,0 1862,0 1862,-53\"/>\n<text text-anchor=\"middle\" x=\"1767.5\" y=\"-37.8\" font-family=\"Helvetica,sans-Serif\" font-size=\"14.00\" fill=\"#000000\">samples = 291</text>\n<text text-anchor=\"middle\" x=\"1767.5\" y=\"-22.8\" font-family=\"Helvetica,sans-Serif\" font-size=\"14.00\" fill=\"#000000\">value = [107.481, 589.284]</text>\n<text text-anchor=\"middle\" x=\"1767.5\" y=\"-7.8\" font-family=\"Helvetica,sans-Serif\" font-size=\"14.00\" fill=\"#000000\">class = Top&#45;100 Yes</text>\n</g>\n<!-- 19&#45;&gt;21 -->\n<g id=\"edge21\" class=\"edge\">\n<title>19&#45;&gt;21</title>\n<path fill=\"none\" stroke=\"#000000\" d=\"M1652.9036,-88.9777C1671.2956,-78.9504 1691.3391,-68.0228 1709.4462,-58.1508\"/>\n<polygon fill=\"#000000\" stroke=\"#000000\" points=\"1711.615,-60.9548 1718.7195,-53.095 1708.2642,-54.8089 1711.615,-60.9548\"/>\n</g>\n<!-- 23 -->\n<g id=\"node24\" class=\"node\">\n<title>23</title>\n<polygon fill=\"#40a0e6\" stroke=\"#000000\" points=\"2178,-157 1981,-157 1981,-89 2178,-89 2178,-157\"/>\n<text text-anchor=\"middle\" x=\"2079.5\" y=\"-141.8\" font-family=\"Helvetica,sans-Serif\" font-size=\"14.00\" fill=\"#000000\">popularity &lt;= 84.5</text>\n<text text-anchor=\"middle\" x=\"2079.5\" y=\"-126.8\" font-family=\"Helvetica,sans-Serif\" font-size=\"14.00\" fill=\"#000000\">samples = 883</text>\n<text text-anchor=\"middle\" x=\"2079.5\" y=\"-111.8\" font-family=\"Helvetica,sans-Serif\" font-size=\"14.00\" fill=\"#000000\">value = [140.051, 3960.241]</text>\n<text text-anchor=\"middle\" x=\"2079.5\" y=\"-96.8\" font-family=\"Helvetica,sans-Serif\" font-size=\"14.00\" fill=\"#000000\">class = Top&#45;100 Yes</text>\n</g>\n<!-- 22&#45;&gt;23 -->\n<g id=\"edge23\" class=\"edge\">\n<title>22&#45;&gt;23</title>\n<path fill=\"none\" stroke=\"#000000\" d=\"M2079.5,-192.9465C2079.5,-184.776 2079.5,-175.9318 2079.5,-167.3697\"/>\n<polygon fill=\"#000000\" stroke=\"#000000\" points=\"2083.0001,-167.13 2079.5,-157.13 2076.0001,-167.13 2083.0001,-167.13\"/>\n</g>\n<!-- 26 -->\n<g id=\"node27\" class=\"node\">\n<title>26</title>\n<polygon fill=\"#f3c4a2\" stroke=\"#000000\" points=\"2462.5,-157 2298.5,-157 2298.5,-89 2462.5,-89 2462.5,-157\"/>\n<text text-anchor=\"middle\" x=\"2380.5\" y=\"-141.8\" font-family=\"Helvetica,sans-Serif\" font-size=\"14.00\" fill=\"#000000\">pop_mean &lt;= 66.81</text>\n<text text-anchor=\"middle\" x=\"2380.5\" y=\"-126.8\" font-family=\"Helvetica,sans-Serif\" font-size=\"14.00\" fill=\"#000000\">samples = 23</text>\n<text text-anchor=\"middle\" x=\"2380.5\" y=\"-111.8\" font-family=\"Helvetica,sans-Serif\" font-size=\"14.00\" fill=\"#000000\">value = [11.942, 6.336]</text>\n<text text-anchor=\"middle\" x=\"2380.5\" y=\"-96.8\" font-family=\"Helvetica,sans-Serif\" font-size=\"14.00\" fill=\"#000000\">class = Top&#45;100 No</text>\n</g>\n<!-- 22&#45;&gt;26 -->\n<g id=\"edge26\" class=\"edge\">\n<title>22&#45;&gt;26</title>\n<path fill=\"none\" stroke=\"#000000\" d=\"M2178.0587,-192.9465C2213.634,-180.6547 2253.6227,-166.838 2288.605,-154.7511\"/>\n<polygon fill=\"#000000\" stroke=\"#000000\" points=\"2290.0225,-157.9644 2298.3312,-151.3905 2287.7365,-151.3482 2290.0225,-157.9644\"/>\n</g>\n<!-- 24 -->\n<g id=\"node25\" class=\"node\">\n<title>24</title>\n<polygon fill=\"#4da7e8\" stroke=\"#000000\" points=\"2077,-53 1880,-53 1880,0 2077,0 2077,-53\"/>\n<text text-anchor=\"middle\" x=\"1978.5\" y=\"-37.8\" font-family=\"Helvetica,sans-Serif\" font-size=\"14.00\" fill=\"#000000\">samples = 380</text>\n<text text-anchor=\"middle\" x=\"1978.5\" y=\"-22.8\" font-family=\"Helvetica,sans-Serif\" font-size=\"14.00\" fill=\"#000000\">value = [112.367, 1096.195]</text>\n<text text-anchor=\"middle\" x=\"1978.5\" y=\"-7.8\" font-family=\"Helvetica,sans-Serif\" font-size=\"14.00\" fill=\"#000000\">class = Top&#45;100 Yes</text>\n</g>\n<!-- 23&#45;&gt;24 -->\n<g id=\"edge24\" class=\"edge\">\n<title>23&#45;&gt;24</title>\n<path fill=\"none\" stroke=\"#000000\" d=\"M2043.8912,-88.9777C2034.1155,-79.6376 2023.5223,-69.5163 2013.766,-60.1947\"/>\n<polygon fill=\"#000000\" stroke=\"#000000\" points=\"2016.144,-57.6261 2006.4958,-53.2485 2011.3083,-62.6873 2016.144,-57.6261\"/>\n</g>\n<!-- 25 -->\n<g id=\"node26\" class=\"node\">\n<title>25</title>\n<polygon fill=\"#3b9ee5\" stroke=\"#000000\" points=\"2284,-53 2095,-53 2095,0 2284,0 2284,-53\"/>\n<text text-anchor=\"middle\" x=\"2189.5\" y=\"-37.8\" font-family=\"Helvetica,sans-Serif\" font-size=\"14.00\" fill=\"#000000\">samples = 503</text>\n<text text-anchor=\"middle\" x=\"2189.5\" y=\"-22.8\" font-family=\"Helvetica,sans-Serif\" font-size=\"14.00\" fill=\"#000000\">value = [27.685, 2864.046]</text>\n<text text-anchor=\"middle\" x=\"2189.5\" y=\"-7.8\" font-family=\"Helvetica,sans-Serif\" font-size=\"14.00\" fill=\"#000000\">class = Top&#45;100 Yes</text>\n</g>\n<!-- 23&#45;&gt;25 -->\n<g id=\"edge25\" class=\"edge\">\n<title>23&#45;&gt;25</title>\n<path fill=\"none\" stroke=\"#000000\" d=\"M2118.2819,-88.9777C2129.033,-79.546 2140.6922,-69.3178 2151.4038,-59.9208\"/>\n<polygon fill=\"#000000\" stroke=\"#000000\" points=\"2153.8004,-62.4743 2159.0095,-53.2485 2149.184,-57.2122 2153.8004,-62.4743\"/>\n</g>\n<!-- 27 -->\n<g id=\"node28\" class=\"node\">\n<title>27</title>\n<polygon fill=\"#7dbfee\" stroke=\"#000000\" points=\"2458.5,-53 2302.5,-53 2302.5,0 2458.5,0 2458.5,-53\"/>\n<text text-anchor=\"middle\" x=\"2380.5\" y=\"-37.8\" font-family=\"Helvetica,sans-Serif\" font-size=\"14.00\" fill=\"#000000\">samples = 5</text>\n<text text-anchor=\"middle\" x=\"2380.5\" y=\"-22.8\" font-family=\"Helvetica,sans-Serif\" font-size=\"14.00\" fill=\"#000000\">value = [2.171, 6.336]</text>\n<text text-anchor=\"middle\" x=\"2380.5\" y=\"-7.8\" font-family=\"Helvetica,sans-Serif\" font-size=\"14.00\" fill=\"#000000\">class = Top&#45;100 Yes</text>\n</g>\n<!-- 26&#45;&gt;27 -->\n<g id=\"edge27\" class=\"edge\">\n<title>26&#45;&gt;27</title>\n<path fill=\"none\" stroke=\"#000000\" d=\"M2380.5,-88.9777C2380.5,-80.7364 2380.5,-71.887 2380.5,-63.5153\"/>\n<polygon fill=\"#000000\" stroke=\"#000000\" points=\"2384.0001,-63.2484 2380.5,-53.2485 2377.0001,-63.2485 2384.0001,-63.2484\"/>\n</g>\n<!-- 28 -->\n<g id=\"node29\" class=\"node\">\n<title>28</title>\n<polygon fill=\"#e58139\" stroke=\"#000000\" points=\"2618.5,-53 2476.5,-53 2476.5,0 2618.5,0 2618.5,-53\"/>\n<text text-anchor=\"middle\" x=\"2547.5\" y=\"-37.8\" font-family=\"Helvetica,sans-Serif\" font-size=\"14.00\" fill=\"#000000\">samples = 18</text>\n<text text-anchor=\"middle\" x=\"2547.5\" y=\"-22.8\" font-family=\"Helvetica,sans-Serif\" font-size=\"14.00\" fill=\"#000000\">value = [9.771, 0.0]</text>\n<text text-anchor=\"middle\" x=\"2547.5\" y=\"-7.8\" font-family=\"Helvetica,sans-Serif\" font-size=\"14.00\" fill=\"#000000\">class = Top&#45;100 No</text>\n</g>\n<!-- 26&#45;&gt;28 -->\n<g id=\"edge28\" class=\"edge\">\n<title>26&#45;&gt;28</title>\n<path fill=\"none\" stroke=\"#000000\" d=\"M2439.378,-88.9777C2456.7309,-78.9504 2475.642,-68.0228 2492.726,-58.1508\"/>\n<polygon fill=\"#000000\" stroke=\"#000000\" points=\"2494.5682,-61.1287 2501.4754,-53.095 2491.0659,-55.0678 2494.5682,-61.1287\"/>\n</g>\n</g>\n</svg>\n"
          },
          "metadata": {}
        }
      ]
    },
    {
      "cell_type": "code",
      "source": [
        "result = tree.feature_importances_\n",
        "print(\"변수의 중요도:\\n\", result)"
      ],
      "metadata": {
        "colab": {
          "base_uri": "https://localhost:8080/"
        },
        "id": "QQQh4rY0OBlK",
        "outputId": "15868369-0021-464a-a7a2-00bc4728d057"
      },
      "execution_count": 166,
      "outputs": [
        {
          "output_type": "stream",
          "name": "stdout",
          "text": [
            "변수의 중요도:\n",
            " [0.93449971 0.00531473 0.03282878 0.02735678 0.        ]\n"
          ]
        }
      ]
    },
    {
      "cell_type": "code",
      "source": [
        "import numpy as np\n",
        "\n",
        "def plot_feature_importances_spotify(model):\n",
        "    plt.rcParams[\"figure.figsize\"] = (9,6)\n",
        "    n_features = len(spotify.columns[[3, 4, 5, 6, 7]])  # 5개 \n",
        "    plt.barh(np.arange(n_features), model.feature_importances_, align='center') \n",
        "    plt.yticks(np.arange(n_features), spotify.columns[[3, 4, 5, 6, 7]])   # 5개의 눈금을 표시하고 눈금 레이블을 변수 이름으로 지정\n",
        "    plt.xlabel(\"feature importance\")\n",
        "    plt.ylabel(\"feature\")\n",
        "    plt.ylim(-1, n_features) #Y 축 범위 지정\n",
        "\n",
        "plot_feature_importances_spotify(tree)\n",
        "\n",
        "#(0이라고 해서 중요하지 않은 것 아님)"
      ],
      "metadata": {
        "colab": {
          "base_uri": "https://localhost:8080/",
          "height": 388
        },
        "id": "qDM70esBOEG_",
        "outputId": "a861c8b9-8bb2-44e2-e885-e0ecf2b7124a"
      },
      "execution_count": 167,
      "outputs": [
        {
          "output_type": "display_data",
          "data": {
            "text/plain": [
              "<Figure size 648x432 with 1 Axes>"
            ],
            "image/png": "[encoded data removed]"
          },
          "metadata": {
            "needs_background": "light"
          }
        }
      ]
    },
    {
      "cell_type": "markdown",
      "source": [
        "### **3) 앙상블 모델: 랜덤 포레스트** ###"
      ],
      "metadata": {
        "id": "yRL0NFJmPyN-"
      }
    },
    {
      "cell_type": "code",
      "source": [
        "from sklearn.ensemble import RandomForestClassifier\n",
        "\n",
        "# 30개 변수를 모두 이용하여 100개의 나무 생성 (정확도가 높아짐)\n",
        "forest = RandomForestClassifier(n_estimators=100, random_state=0)\n",
        "forest.fit(X_train, y_train)\n",
        "\n",
        "print(\"학습용 데이터 세트 정확도: {:.3f}\".format(forest.score(X_train, y_train)))\n",
        "print(\"시험용 데이터 세트 정확도: {:.3f}\".format(forest.score(X_test, y_test)))"
      ],
      "metadata": {
        "colab": {
          "base_uri": "https://localhost:8080/"
        },
        "id": "0Y92AoiJOoBT",
        "outputId": "29a818b1-7dfd-4103-8c8f-1ddffc6fa721"
      },
      "execution_count": 168,
      "outputs": [
        {
          "output_type": "stream",
          "name": "stdout",
          "text": [
            "학습용 데이터 세트 정확도: 1.000\n",
            "시험용 데이터 세트 정확도: 0.993\n"
          ]
        }
      ]
    },
    {
      "cell_type": "code",
      "source": [
        "# 단일 의사결정나무의 경우보다 많은 변수(feature)들이 사용됨\n",
        "plot_feature_importances_spotify(forest) "
      ],
      "metadata": {
        "colab": {
          "base_uri": "https://localhost:8080/",
          "height": 388
        },
        "id": "pPQfiPpdOoQp",
        "outputId": "3d82beb8-6ddc-4b1d-f227-5de99e2852e8"
      },
      "execution_count": 169,
      "outputs": [
        {
          "output_type": "display_data",
          "data": {
            "text/plain": [
              "<Figure size 648x432 with 1 Axes>"
            ],
            "image/png": "[encoded data removed]"
          },
          "metadata": {
            "needs_background": "light"
          }
        }
      ]
    },
    {
      "cell_type": "code",
      "source": [
        "from sklearn.model_selection import cross_val_score\n",
        "\n",
        "# 교차 검증을 10번 수행하여 10번의 교차 검증 평균 정확도를 비교 (10-fold cross validation)\n",
        "# default cv=5\n",
        "\n",
        "dt_scores = cross_val_score(tree, X_train, y_train, cv=10, scoring='accuracy')  \n",
        "rf_scores = cross_val_score(forest, X_train, y_train, cv=10, scoring='accuracy')\n",
        "\n",
        "print(\"Accuracy\")\n",
        "print(\"Decision tree: \", dt_scores) \n",
        "print(\"Random forest: \", rf_scores) \n",
        "\n",
        "print(\"Accuracy mean\")\n",
        "print(\"Decision tree :{:.3f}\".format(dt_scores.mean())) \n",
        "print(\"Random forest :{:.3f}\".format(rf_scores.mean()))"
      ],
      "metadata": {
        "colab": {
          "base_uri": "https://localhost:8080/"
        },
        "id": "kfYABbwnOkpJ",
        "outputId": "bdaf0b7b-517f-487c-af0a-47781ee51632"
      },
      "execution_count": 170,
      "outputs": [
        {
          "output_type": "stream",
          "name": "stdout",
          "text": [
            "Accuracy\n",
            "Decision tree:  [0.91136802 0.90655106 0.90944123 0.91811175 0.9132948  0.9026975\n",
            " 0.91811175 0.91811175 0.90751445 0.91224687]\n",
            "Random forest:  [0.9894027  0.99518304 0.99518304 0.99325626 0.99614644 0.99325626\n",
            " 0.99807322 0.99325626 0.99518304 0.99132112]\n",
            "Accuracy mean\n",
            "Decision tree :0.912\n",
            "Random forest :0.994\n"
          ]
        }
      ]
    },
    {
      "cell_type": "code",
      "source": [
        "cv_list = [    \n",
        "            ['decision_tree',dt_scores],\n",
        "            ['random_forest',rf_scores],\n",
        "          ]\n",
        "df = pd.DataFrame.from_dict(dict(cv_list))\n",
        "df.plot()"
      ],
      "metadata": {
        "colab": {
          "base_uri": "https://localhost:8080/",
          "height": 392
        },
        "id": "YiS4SZ3IQ8D1",
        "outputId": "7db69b33-1ec9-4436-ab8b-237add14432d"
      },
      "execution_count": 171,
      "outputs": [
        {
          "output_type": "execute_result",
          "data": {
            "text/plain": [
              "<matplotlib.axes._subplots.AxesSubplot at 0x7f9139692550>"
            ]
          },
          "metadata": {},
          "execution_count": 171
        },
        {
          "output_type": "display_data",
          "data": {
            "text/plain": [
              "<Figure size 648x432 with 1 Axes>"
            ],
            "image/png": "[encoded data removed]"
          },
          "metadata": {
            "needs_background": "light"
          }
        }
      ]
    },
    {
      "cell_type": "markdown",
      "source": [
        "### **4) 앙상블 모델: 그래디언트 부스팅** ###"
      ],
      "metadata": {
        "id": "fi-_m-WqRA0h"
      }
    },
    {
      "cell_type": "code",
      "source": [
        "from sklearn.ensemble import GradientBoostingClassifier\n",
        "# 기본값은 max_depth= 3, n_estimators=100, learning_rate = 0.1\n",
        "\n",
        "gbrt = GradientBoostingClassifier(random_state=0)\n",
        "gbrt.fit(X_train, y_train)"
      ],
      "metadata": {
        "colab": {
          "base_uri": "https://localhost:8080/"
        },
        "id": "clguWdgFRLN3",
        "outputId": "dc7d8432-54c8-4ef4-e784-cad86b8a3fb3"
      },
      "execution_count": 172,
      "outputs": [
        {
          "output_type": "execute_result",
          "data": {
            "text/plain": [
              "GradientBoostingClassifier(random_state=0)"
            ]
          },
          "metadata": {},
          "execution_count": 172
        }
      ]
    },
    {
      "cell_type": "code",
      "source": [
        "print(\"학습용 데이터 세트 정확도: {:.3f}\".format(gbrt.score(X_train, y_train)))\n",
        "print(\"시험용 데이터 세트 정확도: {:.3f}\".format(gbrt.score(X_test, y_test)))"
      ],
      "metadata": {
        "colab": {
          "base_uri": "https://localhost:8080/"
        },
        "id": "j-RfFipBRLYK",
        "outputId": "a9a6066d-74d3-46a7-f44b-ce4ee0563fa4"
      },
      "execution_count": 173,
      "outputs": [
        {
          "output_type": "stream",
          "name": "stdout",
          "text": [
            "학습용 데이터 세트 정확도: 0.983\n",
            "시험용 데이터 세트 정확도: 0.975\n"
          ]
        }
      ]
    },
    {
      "cell_type": "code",
      "source": [
        "plot_feature_importances_spotify(gbrt)"
      ],
      "metadata": {
        "colab": {
          "base_uri": "https://localhost:8080/",
          "height": 388
        },
        "id": "jb5BO6NHRLfU",
        "outputId": "28160ba8-8a05-46cc-b6eb-3f4d43d000ca"
      },
      "execution_count": 174,
      "outputs": [
        {
          "output_type": "display_data",
          "data": {
            "text/plain": [
              "<Figure size 648x432 with 1 Axes>"
            ],
            "image/png": "[encoded data removed]"
          },
          "metadata": {
            "needs_background": "light"
          }
        }
      ]
    },
    {
      "cell_type": "code",
      "source": [
        "#나무 깊이 제한\n",
        "gbrt = GradientBoostingClassifier(random_state=0, max_depth=2)\n",
        "gbrt.fit(X_train, y_train)\n",
        "\n",
        "print(\"학습 데이터 세트 정확도: {:.3f}\".format(gbrt.score(X_train, y_train)))\n",
        "print(\"시험용 데이터 세트 정확도: {:.3f}\".format(gbrt.score(X_test, y_test)))"
      ],
      "metadata": {
        "colab": {
          "base_uri": "https://localhost:8080/"
        },
        "id": "Wq0Ri13KRicg",
        "outputId": "eb2a0a20-4a10-4347-8010-badc72cd6dd9"
      },
      "execution_count": 175,
      "outputs": [
        {
          "output_type": "stream",
          "name": "stdout",
          "text": [
            "학습 데이터 세트 정확도: 0.973\n",
            "시험용 데이터 세트 정확도: 0.969\n"
          ]
        }
      ]
    },
    {
      "cell_type": "code",
      "source": [
        "#학습률 감소\n",
        "gbrt = GradientBoostingClassifier(random_state=0, learning_rate=0.01)\n",
        "gbrt.fit(X_train, y_train)\n",
        "\n",
        "print(\"학습 데이터 세트 정확도: {:.3f}\".format(gbrt.score(X_train, y_train)))\n",
        "print(\"시험용 데이터 세트 정확도: {:.3f}\".format(gbrt.score(X_test, y_test)))"
      ],
      "metadata": {
        "colab": {
          "base_uri": "https://localhost:8080/"
        },
        "id": "4HUsL7xURLiD",
        "outputId": "d529e03b-ce80-460d-b762-4245c34a6b16"
      },
      "execution_count": 176,
      "outputs": [
        {
          "output_type": "stream",
          "name": "stdout",
          "text": [
            "학습 데이터 세트 정확도: 0.961\n",
            "시험용 데이터 세트 정확도: 0.960\n"
          ]
        }
      ]
    },
    {
      "cell_type": "markdown",
      "source": [
        "### **5) 분류모델 평가** ###"
      ],
      "metadata": {
        "id": "mA41uhqKR0RS"
      }
    },
    {
      "cell_type": "markdown",
      "source": [
        "### 분류 모델 선택 및 평가 결과\n",
        "\n",
        "* 선택한 평가: Accuracy(정확도) \n",
        "* 최적의 분류모델: 랜덤 포레스트\n",
        "\n",
        "교차검증을 시도한 결과, 랜덤 포레스트 모델에서 0.994의 가장 높은 정확도를\n",
        "보였으며, 정오 분류표에서도 정확도가 0.993으로 가장 높은 결과를 도출했기에 최적의 분류모델로 판단했다."
      ],
      "metadata": {
        "id": "GHT2ZM-mXL3M"
      }
    },
    {
      "cell_type": "markdown",
      "source": [
        "#### 1. 교차검증 ####"
      ],
      "metadata": {
        "id": "g3Rx5MvISdsq"
      }
    },
    {
      "cell_type": "code",
      "source": [
        "# 교차 검증을 10번 수행하여 10번의 교차 검증 평균 정확도를 비교 (10-fold cross validation)\n",
        "\n",
        "dt_scores = cross_val_score(tree, X_train, y_train, cv=10, scoring='accuracy')  \n",
        "rf_scores = cross_val_score(forest, X_train, y_train, cv=10, scoring='accuracy')\n",
        "gbrt_scores = cross_val_score(gbrt, X_train, y_train, cv=10, scoring='accuracy')\n",
        "\n",
        "print(\"Accuracy\")\n",
        "print(\"Decision tree: \", dt_scores) \n",
        "print(\"Random forest: \", rf_scores) \n",
        "print(\"Gradient boosting: \", gbrt_scores) \n",
        "\n",
        "print(\"Accuracy mean\")\n",
        "print(\"Decision tree :{:.3f}\".format(dt_scores.mean())) \n",
        "print(\"Random forest :{:.3f}\".format(rf_scores.mean())) \n",
        "print(\"Gradient boosting :{:.3f}\".format(gbrt_scores.mean())) "
      ],
      "metadata": {
        "colab": {
          "base_uri": "https://localhost:8080/"
        },
        "id": "YirwACgqRzNf",
        "outputId": "39f6ad3a-a50f-4a82-c895-9a7988c585ac"
      },
      "execution_count": 177,
      "outputs": [
        {
          "output_type": "stream",
          "name": "stdout",
          "text": [
            "Accuracy\n",
            "Decision tree:  [0.91136802 0.90655106 0.90944123 0.91811175 0.9132948  0.9026975\n",
            " 0.91811175 0.91811175 0.90751445 0.91224687]\n",
            "Random forest:  [0.9894027  0.99518304 0.99518304 0.99325626 0.99614644 0.99325626\n",
            " 0.99807322 0.99325626 0.99518304 0.99132112]\n",
            "Gradient boosting:  [0.95857418 0.95761079 0.95953757 0.96242775 0.95761079 0.95953757\n",
            " 0.96242775 0.96050096 0.9672447  0.96142719]\n",
            "Accuracy mean\n",
            "Decision tree :0.912\n",
            "Random forest :0.994\n",
            "Gradient boosting :0.961\n"
          ]
        }
      ]
    },
    {
      "cell_type": "markdown",
      "source": [
        "#### 2. 그리드 서치 ####"
      ],
      "metadata": {
        "id": "0BbCZ_xzSksq"
      }
    },
    {
      "cell_type": "code",
      "source": [
        "from sklearn.model_selection import GridSearchCV\n",
        "\n",
        "# 파라미터를 dictionary 형태로 설정\n",
        "parameters = {'max_depth':[1,2,3], 'learning_rate':[0.1,0.08, 0.06, 0.04, 0.02]}"
      ],
      "metadata": {
        "id": "faJDB-11SkDS"
      },
      "execution_count": 178,
      "outputs": []
    },
    {
      "cell_type": "code",
      "source": [
        "# param_grid의 파라미터들을 3개의 fold 로 나누어 검증\n",
        "# refit=True (기본값): 가장 좋은 파라미터 설정으로 재학습  \n",
        "init_gbrt = GradientBoostingClassifier(random_state=0)\n",
        "grid_gbrt = GridSearchCV(init_gbrt, param_grid=parameters, cv=3, refit=True)\n",
        "print(grid_gbrt)\n",
        "# 파라미터들을 순차적으로 학습, 검증\n",
        "grid_gbrt.fit(X_train, y_train)\n",
        "\n",
        "# GridSearchCV 결과 추출하여 DataFrame으로 변환\n",
        "scores_df = pd.DataFrame(grid_gbrt.cv_results_)\n",
        "scores_df[['params', 'mean_test_score', 'rank_test_score', 'split0_test_score', 'split1_test_score', 'split2_test_score']]"
      ],
      "metadata": {
        "colab": {
          "base_uri": "https://localhost:8080/",
          "height": 574
        },
        "id": "BXtcck4MSalI",
        "outputId": "03831ccd-741b-42c8-d7ea-09af368cbe31"
      },
      "execution_count": 179,
      "outputs": [
        {
          "output_type": "stream",
          "name": "stdout",
          "text": [
            "GridSearchCV(cv=3, estimator=GradientBoostingClassifier(random_state=0),\n",
            "             param_grid={'learning_rate': [0.1, 0.08, 0.06, 0.04, 0.02],\n",
            "                         'max_depth': [1, 2, 3]})\n"
          ]
        },
        {
          "output_type": "execute_result",
          "data": {
            "text/plain": [
              "                                     params  mean_test_score  rank_test_score  \\\n",
              "0    {'learning_rate': 0.1, 'max_depth': 1}         0.961943               10   \n",
              "1    {'learning_rate': 0.1, 'max_depth': 2}         0.968976                4   \n",
              "2    {'learning_rate': 0.1, 'max_depth': 3}         0.975528                1   \n",
              "3   {'learning_rate': 0.08, 'max_depth': 1}         0.961653               11   \n",
              "4   {'learning_rate': 0.08, 'max_depth': 2}         0.967338                6   \n",
              "5   {'learning_rate': 0.08, 'max_depth': 3}         0.973986                2   \n",
              "6   {'learning_rate': 0.06, 'max_depth': 1}         0.960401               14   \n",
              "7   {'learning_rate': 0.06, 'max_depth': 2}         0.965218                8   \n",
              "8   {'learning_rate': 0.06, 'max_depth': 3}         0.970614                3   \n",
              "9   {'learning_rate': 0.04, 'max_depth': 1}         0.960786               13   \n",
              "10  {'learning_rate': 0.04, 'max_depth': 2}         0.965122                9   \n",
              "11  {'learning_rate': 0.04, 'max_depth': 3}         0.967531                5   \n",
              "12  {'learning_rate': 0.02, 'max_depth': 1}         0.960305               15   \n",
              "13  {'learning_rate': 0.02, 'max_depth': 2}         0.961075               12   \n",
              "14  {'learning_rate': 0.02, 'max_depth': 3}         0.966278                7   \n",
              "\n",
              "    split0_test_score  split1_test_score  split2_test_score  \n",
              "0            0.959827           0.962428           0.963573  \n",
              "1            0.965607           0.969364           0.971957  \n",
              "2            0.974855           0.973988           0.977739  \n",
              "3            0.959249           0.962428           0.963284  \n",
              "4            0.963873           0.969364           0.968777  \n",
              "5            0.972254           0.974855           0.974848  \n",
              "6            0.960116           0.962139           0.958948  \n",
              "7            0.963006           0.964740           0.967910  \n",
              "8            0.968497           0.971676           0.971668  \n",
              "9            0.958960           0.961561           0.961839  \n",
              "10           0.963295           0.964162           0.967910  \n",
              "11           0.964740           0.967919           0.969934  \n",
              "12           0.957803           0.961561           0.961550  \n",
              "13           0.959249           0.963584           0.960393  \n",
              "14           0.965318           0.965318           0.968199  "
            ],
            "text/html": [
              "\n",
              "  <div id=\"df-6e6abde1-90a8-4a0a-99a8-59e13cd99668\">\n",
              "    <div class=\"colab-df-container\">\n",
              "      <div>\n",
              "<style scoped>\n",
              "    .dataframe tbody tr th:only-of-type {\n",
              "        vertical-align: middle;\n",
              "    }\n",
              "\n",
              "    .dataframe tbody tr th {\n",
              "        vertical-align: top;\n",
              "    }\n",
              "\n",
              "    .dataframe thead th {\n",
              "        text-align: right;\n",
              "    }\n",
              "</style>\n",
              "<table border=\"1\" class=\"dataframe\">\n",
              "  <thead>\n",
              "    <tr style=\"text-align: right;\">\n",
              "      <th></th>\n",
              "      <th>params</th>\n",
              "      <th>mean_test_score</th>\n",
              "      <th>rank_test_score</th>\n",
              "      <th>split0_test_score</th>\n",
              "      <th>split1_test_score</th>\n",
              "      <th>split2_test_score</th>\n",
              "    </tr>\n",
              "  </thead>\n",
              "  <tbody>\n",
              "    <tr>\n",
              "      <th>0</th>\n",
              "      <td>{'learning_rate': 0.1, 'max_depth': 1}</td>\n",
              "      <td>0.961943</td>\n",
              "      <td>10</td>\n",
              "      <td>0.959827</td>\n",
              "      <td>0.962428</td>\n",
              "      <td>0.963573</td>\n",
              "    </tr>\n",
              "    <tr>\n",
              "      <th>1</th>\n",
              "      <td>{'learning_rate': 0.1, 'max_depth': 2}</td>\n",
              "      <td>0.968976</td>\n",
              "      <td>4</td>\n",
              "      <td>0.965607</td>\n",
              "      <td>0.969364</td>\n",
              "      <td>0.971957</td>\n",
              "    </tr>\n",
              "    <tr>\n",
              "      <th>2</th>\n",
              "      <td>{'learning_rate': 0.1, 'max_depth': 3}</td>\n",
              "      <td>0.975528</td>\n",
              "      <td>1</td>\n",
              "      <td>0.974855</td>\n",
              "      <td>0.973988</td>\n",
              "      <td>0.977739</td>\n",
              "    </tr>\n",
              "    <tr>\n",
              "      <th>3</th>\n",
              "      <td>{'learning_rate': 0.08, 'max_depth': 1}</td>\n",
              "      <td>0.961653</td>\n",
              "      <td>11</td>\n",
              "      <td>0.959249</td>\n",
              "      <td>0.962428</td>\n",
              "      <td>0.963284</td>\n",
              "    </tr>\n",
              "    <tr>\n",
              "      <th>4</th>\n",
              "      <td>{'learning_rate': 0.08, 'max_depth': 2}</td>\n",
              "      <td>0.967338</td>\n",
              "      <td>6</td>\n",
              "      <td>0.963873</td>\n",
              "      <td>0.969364</td>\n",
              "      <td>0.968777</td>\n",
              "    </tr>\n",
              "    <tr>\n",
              "      <th>5</th>\n",
              "      <td>{'learning_rate': 0.08, 'max_depth': 3}</td>\n",
              "      <td>0.973986</td>\n",
              "      <td>2</td>\n",
              "      <td>0.972254</td>\n",
              "      <td>0.974855</td>\n",
              "      <td>0.974848</td>\n",
              "    </tr>\n",
              "    <tr>\n",
              "      <th>6</th>\n",
              "      <td>{'learning_rate': 0.06, 'max_depth': 1}</td>\n",
              "      <td>0.960401</td>\n",
              "      <td>14</td>\n",
              "      <td>0.960116</td>\n",
              "      <td>0.962139</td>\n",
              "      <td>0.958948</td>\n",
              "    </tr>\n",
              "    <tr>\n",
              "      <th>7</th>\n",
              "      <td>{'learning_rate': 0.06, 'max_depth': 2}</td>\n",
              "      <td>0.965218</td>\n",
              "      <td>8</td>\n",
              "      <td>0.963006</td>\n",
              "      <td>0.964740</td>\n",
              "      <td>0.967910</td>\n",
              "    </tr>\n",
              "    <tr>\n",
              "      <th>8</th>\n",
              "      <td>{'learning_rate': 0.06, 'max_depth': 3}</td>\n",
              "      <td>0.970614</td>\n",
              "      <td>3</td>\n",
              "      <td>0.968497</td>\n",
              "      <td>0.971676</td>\n",
              "      <td>0.971668</td>\n",
              "    </tr>\n",
              "    <tr>\n",
              "      <th>9</th>\n",
              "      <td>{'learning_rate': 0.04, 'max_depth': 1}</td>\n",
              "      <td>0.960786</td>\n",
              "      <td>13</td>\n",
              "      <td>0.958960</td>\n",
              "      <td>0.961561</td>\n",
              "      <td>0.961839</td>\n",
              "    </tr>\n",
              "    <tr>\n",
              "      <th>10</th>\n",
              "      <td>{'learning_rate': 0.04, 'max_depth': 2}</td>\n",
              "      <td>0.965122</td>\n",
              "      <td>9</td>\n",
              "      <td>0.963295</td>\n",
              "      <td>0.964162</td>\n",
              "      <td>0.967910</td>\n",
              "    </tr>\n",
              "    <tr>\n",
              "      <th>11</th>\n",
              "      <td>{'learning_rate': 0.04, 'max_depth': 3}</td>\n",
              "      <td>0.967531</td>\n",
              "      <td>5</td>\n",
              "      <td>0.964740</td>\n",
              "      <td>0.967919</td>\n",
              "      <td>0.969934</td>\n",
              "    </tr>\n",
              "    <tr>\n",
              "      <th>12</th>\n",
              "      <td>{'learning_rate': 0.02, 'max_depth': 1}</td>\n",
              "      <td>0.960305</td>\n",
              "      <td>15</td>\n",
              "      <td>0.957803</td>\n",
              "      <td>0.961561</td>\n",
              "      <td>0.961550</td>\n",
              "    </tr>\n",
              "    <tr>\n",
              "      <th>13</th>\n",
              "      <td>{'learning_rate': 0.02, 'max_depth': 2}</td>\n",
              "      <td>0.961075</td>\n",
              "      <td>12</td>\n",
              "      <td>0.959249</td>\n",
              "      <td>0.963584</td>\n",
              "      <td>0.960393</td>\n",
              "    </tr>\n",
              "    <tr>\n",
              "      <th>14</th>\n",
              "      <td>{'learning_rate': 0.02, 'max_depth': 3}</td>\n",
              "      <td>0.966278</td>\n",
              "      <td>7</td>\n",
              "      <td>0.965318</td>\n",
              "      <td>0.965318</td>\n",
              "      <td>0.968199</td>\n",
              "    </tr>\n",
              "  </tbody>\n",
              "</table>\n",
              "</div>\n",
              "      <button class=\"colab-df-convert\" onclick=\"convertToInteractive('df-6e6abde1-90a8-4a0a-99a8-59e13cd99668')\"\n",
              "              title=\"Convert this dataframe to an interactive table.\"\n",
              "              style=\"display:none;\">\n",
              "        \n",
              "  <svg xmlns=\"http://www.w3.org/2000/svg\" height=\"24px\"viewBox=\"0 0 24 24\"\n",
              "       width=\"24px\">\n",
              "    <path d=\"M0 0h24v24H0V0z\" fill=\"none\"/>\n",
              "    <path d=\"M18.56 5.44l.94 2.06.94-2.06 2.06-.94-2.06-.94-.94-2.06-.94 2.06-2.06.94zm-11 1L8.5 8.5l.94-2.06 2.06-.94-2.06-.94L8.5 2.5l-.94 2.06-2.06.94zm10 10l.94 2.06.94-2.06 2.06-.94-2.06-.94-.94-2.06-.94 2.06-2.06.94z\"/><path d=\"M17.41 7.96l-1.37-1.37c-.4-.4-.92-.59-1.43-.59-.52 0-1.04.2-1.43.59L10.3 9.45l-7.72 7.72c-.78.78-.78 2.05 0 2.83L4 21.41c.39.39.9.59 1.41.59.51 0 1.02-.2 1.41-.59l7.78-7.78 2.81-2.81c.8-.78.8-2.07 0-2.86zM5.41 20L4 18.59l7.72-7.72 1.47 1.35L5.41 20z\"/>\n",
              "  </svg>\n",
              "      </button>\n",
              "      \n",
              "  <style>\n",
              "    .colab-df-container {\n",
              "      display:flex;\n",
              "      flex-wrap:wrap;\n",
              "      gap: 12px;\n",
              "    }\n",
              "\n",
              "    .colab-df-convert {\n",
              "      background-color: #E8F0FE;\n",
              "      border: none;\n",
              "      border-radius: 50%;\n",
              "      cursor: pointer;\n",
              "      display: none;\n",
              "      fill: #1967D2;\n",
              "      height: 32px;\n",
              "      padding: 0 0 0 0;\n",
              "      width: 32px;\n",
              "    }\n",
              "\n",
              "    .colab-df-convert:hover {\n",
              "      background-color: #E2EBFA;\n",
              "      box-shadow: 0px 1px 2px rgba(60, 64, 67, 0.3), 0px 1px 3px 1px rgba(60, 64, 67, 0.15);\n",
              "      fill: #174EA6;\n",
              "    }\n",
              "\n",
              "    [theme=dark] .colab-df-convert {\n",
              "      background-color: #3B4455;\n",
              "      fill: #D2E3FC;\n",
              "    }\n",
              "\n",
              "    [theme=dark] .colab-df-convert:hover {\n",
              "      background-color: #434B5C;\n",
              "      box-shadow: 0px 1px 3px 1px rgba(0, 0, 0, 0.15);\n",
              "      filter: drop-shadow(0px 1px 2px rgba(0, 0, 0, 0.3));\n",
              "      fill: #FFFFFF;\n",
              "    }\n",
              "  </style>\n",
              "\n",
              "      <script>\n",
              "        const buttonEl =\n",
              "          document.querySelector('#df-6e6abde1-90a8-4a0a-99a8-59e13cd99668 button.colab-df-convert');\n",
              "        buttonEl.style.display =\n",
              "          google.colab.kernel.accessAllowed ? 'block' : 'none';\n",
              "\n",
              "        async function convertToInteractive(key) {\n",
              "          const element = document.querySelector('#df-6e6abde1-90a8-4a0a-99a8-59e13cd99668');\n",
              "          const dataTable =\n",
              "            await google.colab.kernel.invokeFunction('convertToInteractive',\n",
              "                                                     [key], {});\n",
              "          if (!dataTable) return;\n",
              "\n",
              "          const docLinkHtml = 'Like what you see? Visit the ' +\n",
              "            '<a target=\"_blank\" href=https://colab.research.google.com/notebooks/data_table.ipynb>data table notebook</a>'\n",
              "            + ' to learn more about interactive tables.';\n",
              "          element.innerHTML = '';\n",
              "          dataTable['output_type'] = 'display_data';\n",
              "          await google.colab.output.renderOutput(dataTable, element);\n",
              "          const docLink = document.createElement('div');\n",
              "          docLink.innerHTML = docLinkHtml;\n",
              "          element.appendChild(docLink);\n",
              "        }\n",
              "      </script>\n",
              "    </div>\n",
              "  </div>\n",
              "  "
            ]
          },
          "metadata": {},
          "execution_count": 179
        }
      ]
    },
    {
      "cell_type": "code",
      "source": [
        "print('GridSearchCV 최적 파라미터:', grid_gbrt.best_params_)\n",
        "print('GridSearchCV 최고 정확도: {0:.4f}'.format(grid_gbrt.best_score_))"
      ],
      "metadata": {
        "colab": {
          "base_uri": "https://localhost:8080/"
        },
        "id": "H5L3X90pTFC6",
        "outputId": "d2752bb2-1e6e-4124-fc29-a423d9c9f5e6"
      },
      "execution_count": 180,
      "outputs": [
        {
          "output_type": "stream",
          "name": "stdout",
          "text": [
            "GridSearchCV 최적 파라미터: {'learning_rate': 0.1, 'max_depth': 3}\n",
            "GridSearchCV 최고 정확도: 0.9755\n"
          ]
        }
      ]
    },
    {
      "cell_type": "code",
      "source": [
        "# 최적 파라미터로 학습이 된 모델을 이용하여 시험용 데이터 세트 분류\n",
        "print(\"시험용 데이터 세트 정확도: {:.3f}\".format(grid_gbrt.score(X_test, y_test)))"
      ],
      "metadata": {
        "colab": {
          "base_uri": "https://localhost:8080/"
        },
        "id": "-zOZINmETGkh",
        "outputId": "17ef20e4-2e54-4833-ba12-edc9fcc9fb78"
      },
      "execution_count": 181,
      "outputs": [
        {
          "output_type": "stream",
          "name": "stdout",
          "text": [
            "시험용 데이터 세트 정확도: 0.975\n"
          ]
        }
      ]
    },
    {
      "cell_type": "markdown",
      "source": [
        "#### 3. 모델평가지표: 정오분류표 ####"
      ],
      "metadata": {
        "id": "RIRNB4qkT83-"
      }
    },
    {
      "cell_type": "code",
      "source": [
        "from sklearn.metrics import accuracy_score, precision_score, recall_score, f1_score\n",
        "from sklearn.metrics import confusion_matrix \n",
        "\n",
        "print(y_test.value_counts()) # y_test 의 B,M 분포\n",
        "\n",
        "dt_pred = tree.predict(X_test)\n",
        "rf_pred = forest.predict(X_test)\n",
        "grid_gbrt_pred = grid_gbrt.predict(X_test)\n",
        "\n",
        "# 예측 결과인 pred와 실제 결과인 y_test의 Confusion Matrix 출력\n",
        "print('Decision tree 시험용 데이터 세트 정확도:{:.3f}'.format(accuracy_score(y_test, dt_pred)))\n",
        "print(confusion_matrix(y_test, dt_pred))\n",
        "print('Random forest 시험용 데이터 세트 정확도:{:.3f}'.format(accuracy_score(y_test, rf_pred)))\n",
        "print(confusion_matrix(y_test, rf_pred))\n",
        "print('Gradient boosting 시험용 데이터 세트 정확도:{:.3f}'.format(accuracy_score(y_test, grid_gbrt_pred)))\n",
        "print(confusion_matrix(y_test, grid_gbrt_pred))"
      ],
      "metadata": {
        "colab": {
          "base_uri": "https://localhost:8080/"
        },
        "id": "_FK5kiEoSQ7f",
        "outputId": "3948baa4-7d0c-45c1-a298-0d0f31bd76bd"
      },
      "execution_count": 182,
      "outputs": [
        {
          "output_type": "stream",
          "name": "stdout",
          "text": [
            "No     3181\n",
            "Yes     279\n",
            "Name: top100, dtype: int64\n",
            "Decision tree 시험용 데이터 세트 정확도:0.912\n",
            "[[2886  295]\n",
            " [   8  271]]\n",
            "Random forest 시험용 데이터 세트 정확도:0.993\n",
            "[[3168   13]\n",
            " [  10  269]]\n",
            "Gradient boosting 시험용 데이터 세트 정확도:0.975\n",
            "[[3151   30]\n",
            " [  58  221]]\n"
          ]
        }
      ]
    },
    {
      "cell_type": "code",
      "source": [
        "from sklearn.metrics import classification_report\n",
        "\n",
        "# 각 클래스가 Positive일 때의 정밀도, 재현율, f1 값을 보여줌 (\"M\"이 Postivit인 경우가 기본값임)\n",
        "# macro avg는 클래스별 점수의 평균을 계산\n",
        "# weighted avg는 클래스의 샘플 수로 가중평균을 계산\n",
        "print(\"Decision Tree:\")\n",
        "print(classification_report(y_test, dt_pred, target_names=[\"No\", \"Yes\"]))\n",
        "print(\"Random Forest:\")\n",
        "print(classification_report(y_test, rf_pred, target_names=[\"No\", \"Yes\"]))\n",
        "print(\"Gradient Boosting:\")\n",
        "print(classification_report(y_test, grid_gbrt_pred, target_names=[\"No\", \"Yes\"]))"
      ],
      "metadata": {
        "colab": {
          "base_uri": "https://localhost:8080/"
        },
        "id": "XfczFxTCTVV7",
        "outputId": "77f81fe5-864c-4d1f-f5b6-8c0dcec8d19d"
      },
      "execution_count": 183,
      "outputs": [
        {
          "output_type": "stream",
          "name": "stdout",
          "text": [
            "Decision Tree:\n",
            "              precision    recall  f1-score   support\n",
            "\n",
            "          No       1.00      0.91      0.95      3181\n",
            "         Yes       0.48      0.97      0.64       279\n",
            "\n",
            "    accuracy                           0.91      3460\n",
            "   macro avg       0.74      0.94      0.80      3460\n",
            "weighted avg       0.96      0.91      0.93      3460\n",
            "\n",
            "Random Forest:\n",
            "              precision    recall  f1-score   support\n",
            "\n",
            "          No       1.00      1.00      1.00      3181\n",
            "         Yes       0.95      0.96      0.96       279\n",
            "\n",
            "    accuracy                           0.99      3460\n",
            "   macro avg       0.98      0.98      0.98      3460\n",
            "weighted avg       0.99      0.99      0.99      3460\n",
            "\n",
            "Gradient Boosting:\n",
            "              precision    recall  f1-score   support\n",
            "\n",
            "          No       0.98      0.99      0.99      3181\n",
            "         Yes       0.88      0.79      0.83       279\n",
            "\n",
            "    accuracy                           0.97      3460\n",
            "   macro avg       0.93      0.89      0.91      3460\n",
            "weighted avg       0.97      0.97      0.97      3460\n",
            "\n"
          ]
        }
      ]
    },
    {
      "cell_type": "markdown",
      "source": [
        "### 인사이트 도출\n",
        "\n",
        "3가지 분석모델에서 모두 popularity 변수의 중요도가 월등히 높았다.\n",
        "의사결정나무와 그래디언트 부스팅 모델에서는 pop_mean 변수가, 그리고 랜덤 포레스트 모델에서는 followers 변수가 그 뒤를 이었다.\n",
        "\n",
        "* 제일 정확도가 높은 random forest 모델의 결과를 참고한다면, 아티스트의 성공을 예측하기 위해서는 popularity 변수와 followers 변수를 참고하는 것이 가장 중요할 것으로 추측된다. \n",
        "* 위 결과에 따라서 아티스트의 성공을 위해서는 스포티파이 앨범에서의 좋아요(popularity) 개수와 아티스트의 팔로워 수를 올릴 수 있는 전략을 수립할 필요가 있다."
      ],
      "metadata": {
        "id": "jfRZ2KjYYJY1"
      }
    },
    {
      "cell_type": "markdown",
      "source": [
        "##**Step 2-2. 분류**"
      ],
      "metadata": {
        "id": "6PEPX1sbQ8z6"
      }
    },
    {
      "cell_type": "markdown",
      "source": [
        "### 분류 문제 선정: 인기도에 영향을 미치는 변수에 따라 아티스트의 성공 전략 수립하기\n",
        "\n",
        "* 종속변수: popularity \n",
        "\n",
        "* 독립변수: 각종 음악관련 수치들(곡의 분위기, 피치, 가사의 양, 음의 양 등)\n",
        "\n",
        "Yes: 인기도 50이상\n",
        "No: 인기도 50미만\n",
        "\n",
        "어떤 독립변수가 스포티파이 인기도부분에 영향을 주는지 확인한다\n",
        "\n",
        "결과에 무관하게 세운 가정: 노래가 어떤 분위기인지가 영향을 많이 줄 것으로 생각된다."
      ],
      "metadata": {
        "id": "F2igLn8Sm3u4"
      }
    },
    {
      "cell_type": "markdown",
      "source": [
        "### **1) songs 전처리(이지우 참여)** ###"
      ],
      "metadata": {
        "id": "6w69eBfFvLqm"
      }
    },
    {
      "cell_type": "code",
      "source": [
        "songs = pd.read_csv(\"/content/drive/My Drive/Colab Notebooks/Bigmining/songs_normalize.csv\", encoding='cp949')"
      ],
      "metadata": {
        "id": "2qQZO3SERCiD"
      },
      "execution_count": 184,
      "outputs": []
    },
    {
      "cell_type": "code",
      "source": [
        "songs.head()"
      ],
      "metadata": {
        "colab": {
          "base_uri": "https://localhost:8080/",
          "height": 392
        },
        "id": "37hSYx2ZRHYN",
        "outputId": "17439562-b4b2-491a-97de-64167a1ea746"
      },
      "execution_count": 185,
      "outputs": [
        {
          "output_type": "execute_result",
          "data": {
            "text/plain": [
              "           artist                    song duration_ms explicit  year  \\\n",
              "0  Britney Spears  Oops!...I Did It Again      211160    FALSE  2000   \n",
              "1       blink-182    All The Small Things      167066    FALSE  1999   \n",
              "2      Faith Hill                 Breathe      250546    FALSE  1999   \n",
              "3        Bon Jovi            It's My Life      224493    FALSE  2000   \n",
              "4          *NSYNC             Bye Bye Bye      200560    FALSE  2000   \n",
              "\n",
              "   popularity  danceability  energy  key  loudness  mode  speechiness  \\\n",
              "0        77.0         0.751   0.834  1.0    -5.444   0.0       0.0437   \n",
              "1        79.0         0.434   0.897  0.0    -4.918   1.0       0.0488   \n",
              "2        66.0         0.529   0.496  7.0    -9.007   1.0       0.0290   \n",
              "3        78.0         0.551   0.913  0.0    -4.063   0.0       0.0466   \n",
              "4        65.0         0.614   0.928  8.0    -4.806   0.0       0.0516   \n",
              "\n",
              "   acousticness  instrumentalness  liveness  valence    tempo         genre  \n",
              "0        0.3000          0.000018    0.3550    0.894   95.053           pop  \n",
              "1        0.0103          0.000000    0.6120    0.684  148.726     rock, pop  \n",
              "2        0.1730          0.000000    0.2510    0.278  136.859  pop, country  \n",
              "3        0.0263          0.000013    0.3470    0.544  119.992   rock, metal  \n",
              "4        0.0408          0.001040    0.0845    0.879  172.656           pop  "
            ],
            "text/html": [
              "\n",
              "  <div id=\"df-45b42fa8-e242-49da-b022-8cb617840174\">\n",
              "    <div class=\"colab-df-container\">\n",
              "      <div>\n",
              "<style scoped>\n",
              "    .dataframe tbody tr th:only-of-type {\n",
              "        vertical-align: middle;\n",
              "    }\n",
              "\n",
              "    .dataframe tbody tr th {\n",
              "        vertical-align: top;\n",
              "    }\n",
              "\n",
              "    .dataframe thead th {\n",
              "        text-align: right;\n",
              "    }\n",
              "</style>\n",
              "<table border=\"1\" class=\"dataframe\">\n",
              "  <thead>\n",
              "    <tr style=\"text-align: right;\">\n",
              "      <th></th>\n",
              "      <th>artist</th>\n",
              "      <th>song</th>\n",
              "      <th>duration_ms</th>\n",
              "      <th>explicit</th>\n",
              "      <th>year</th>\n",
              "      <th>popularity</th>\n",
              "      <th>danceability</th>\n",
              "      <th>energy</th>\n",
              "      <th>key</th>\n",
              "      <th>loudness</th>\n",
              "      <th>mode</th>\n",
              "      <th>speechiness</th>\n",
              "      <th>acousticness</th>\n",
              "      <th>instrumentalness</th>\n",
              "      <th>liveness</th>\n",
              "      <th>valence</th>\n",
              "      <th>tempo</th>\n",
              "      <th>genre</th>\n",
              "    </tr>\n",
              "  </thead>\n",
              "  <tbody>\n",
              "    <tr>\n",
              "      <th>0</th>\n",
              "      <td>Britney Spears</td>\n",
              "      <td>Oops!...I Did It Again</td>\n",
              "      <td>211160</td>\n",
              "      <td>FALSE</td>\n",
              "      <td>2000</td>\n",
              "      <td>77.0</td>\n",
              "      <td>0.751</td>\n",
              "      <td>0.834</td>\n",
              "      <td>1.0</td>\n",
              "      <td>-5.444</td>\n",
              "      <td>0.0</td>\n",
              "      <td>0.0437</td>\n",
              "      <td>0.3000</td>\n",
              "      <td>0.000018</td>\n",
              "      <td>0.3550</td>\n",
              "      <td>0.894</td>\n",
              "      <td>95.053</td>\n",
              "      <td>pop</td>\n",
              "    </tr>\n",
              "    <tr>\n",
              "      <th>1</th>\n",
              "      <td>blink-182</td>\n",
              "      <td>All The Small Things</td>\n",
              "      <td>167066</td>\n",
              "      <td>FALSE</td>\n",
              "      <td>1999</td>\n",
              "      <td>79.0</td>\n",
              "      <td>0.434</td>\n",
              "      <td>0.897</td>\n",
              "      <td>0.0</td>\n",
              "      <td>-4.918</td>\n",
              "      <td>1.0</td>\n",
              "      <td>0.0488</td>\n",
              "      <td>0.0103</td>\n",
              "      <td>0.000000</td>\n",
              "      <td>0.6120</td>\n",
              "      <td>0.684</td>\n",
              "      <td>148.726</td>\n",
              "      <td>rock, pop</td>\n",
              "    </tr>\n",
              "    <tr>\n",
              "      <th>2</th>\n",
              "      <td>Faith Hill</td>\n",
              "      <td>Breathe</td>\n",
              "      <td>250546</td>\n",
              "      <td>FALSE</td>\n",
              "      <td>1999</td>\n",
              "      <td>66.0</td>\n",
              "      <td>0.529</td>\n",
              "      <td>0.496</td>\n",
              "      <td>7.0</td>\n",
              "      <td>-9.007</td>\n",
              "      <td>1.0</td>\n",
              "      <td>0.0290</td>\n",
              "      <td>0.1730</td>\n",
              "      <td>0.000000</td>\n",
              "      <td>0.2510</td>\n",
              "      <td>0.278</td>\n",
              "      <td>136.859</td>\n",
              "      <td>pop, country</td>\n",
              "    </tr>\n",
              "    <tr>\n",
              "      <th>3</th>\n",
              "      <td>Bon Jovi</td>\n",
              "      <td>It's My Life</td>\n",
              "      <td>224493</td>\n",
              "      <td>FALSE</td>\n",
              "      <td>2000</td>\n",
              "      <td>78.0</td>\n",
              "      <td>0.551</td>\n",
              "      <td>0.913</td>\n",
              "      <td>0.0</td>\n",
              "      <td>-4.063</td>\n",
              "      <td>0.0</td>\n",
              "      <td>0.0466</td>\n",
              "      <td>0.0263</td>\n",
              "      <td>0.000013</td>\n",
              "      <td>0.3470</td>\n",
              "      <td>0.544</td>\n",
              "      <td>119.992</td>\n",
              "      <td>rock, metal</td>\n",
              "    </tr>\n",
              "    <tr>\n",
              "      <th>4</th>\n",
              "      <td>*NSYNC</td>\n",
              "      <td>Bye Bye Bye</td>\n",
              "      <td>200560</td>\n",
              "      <td>FALSE</td>\n",
              "      <td>2000</td>\n",
              "      <td>65.0</td>\n",
              "      <td>0.614</td>\n",
              "      <td>0.928</td>\n",
              "      <td>8.0</td>\n",
              "      <td>-4.806</td>\n",
              "      <td>0.0</td>\n",
              "      <td>0.0516</td>\n",
              "      <td>0.0408</td>\n",
              "      <td>0.001040</td>\n",
              "      <td>0.0845</td>\n",
              "      <td>0.879</td>\n",
              "      <td>172.656</td>\n",
              "      <td>pop</td>\n",
              "    </tr>\n",
              "  </tbody>\n",
              "</table>\n",
              "</div>\n",
              "      <button class=\"colab-df-convert\" onclick=\"convertToInteractive('df-45b42fa8-e242-49da-b022-8cb617840174')\"\n",
              "              title=\"Convert this dataframe to an interactive table.\"\n",
              "              style=\"display:none;\">\n",
              "        \n",
              "  <svg xmlns=\"http://www.w3.org/2000/svg\" height=\"24px\"viewBox=\"0 0 24 24\"\n",
              "       width=\"24px\">\n",
              "    <path d=\"M0 0h24v24H0V0z\" fill=\"none\"/>\n",
              "    <path d=\"M18.56 5.44l.94 2.06.94-2.06 2.06-.94-2.06-.94-.94-2.06-.94 2.06-2.06.94zm-11 1L8.5 8.5l.94-2.06 2.06-.94-2.06-.94L8.5 2.5l-.94 2.06-2.06.94zm10 10l.94 2.06.94-2.06 2.06-.94-2.06-.94-.94-2.06-.94 2.06-2.06.94z\"/><path d=\"M17.41 7.96l-1.37-1.37c-.4-.4-.92-.59-1.43-.59-.52 0-1.04.2-1.43.59L10.3 9.45l-7.72 7.72c-.78.78-.78 2.05 0 2.83L4 21.41c.39.39.9.59 1.41.59.51 0 1.02-.2 1.41-.59l7.78-7.78 2.81-2.81c.8-.78.8-2.07 0-2.86zM5.41 20L4 18.59l7.72-7.72 1.47 1.35L5.41 20z\"/>\n",
              "  </svg>\n",
              "      </button>\n",
              "      \n",
              "  <style>\n",
              "    .colab-df-container {\n",
              "      display:flex;\n",
              "      flex-wrap:wrap;\n",
              "      gap: 12px;\n",
              "    }\n",
              "\n",
              "    .colab-df-convert {\n",
              "      background-color: #E8F0FE;\n",
              "      border: none;\n",
              "      border-radius: 50%;\n",
              "      cursor: pointer;\n",
              "      display: none;\n",
              "      fill: #1967D2;\n",
              "      height: 32px;\n",
              "      padding: 0 0 0 0;\n",
              "      width: 32px;\n",
              "    }\n",
              "\n",
              "    .colab-df-convert:hover {\n",
              "      background-color: #E2EBFA;\n",
              "      box-shadow: 0px 1px 2px rgba(60, 64, 67, 0.3), 0px 1px 3px 1px rgba(60, 64, 67, 0.15);\n",
              "      fill: #174EA6;\n",
              "    }\n",
              "\n",
              "    [theme=dark] .colab-df-convert {\n",
              "      background-color: #3B4455;\n",
              "      fill: #D2E3FC;\n",
              "    }\n",
              "\n",
              "    [theme=dark] .colab-df-convert:hover {\n",
              "      background-color: #434B5C;\n",
              "      box-shadow: 0px 1px 3px 1px rgba(0, 0, 0, 0.15);\n",
              "      filter: drop-shadow(0px 1px 2px rgba(0, 0, 0, 0.3));\n",
              "      fill: #FFFFFF;\n",
              "    }\n",
              "  </style>\n",
              "\n",
              "      <script>\n",
              "        const buttonEl =\n",
              "          document.querySelector('#df-45b42fa8-e242-49da-b022-8cb617840174 button.colab-df-convert');\n",
              "        buttonEl.style.display =\n",
              "          google.colab.kernel.accessAllowed ? 'block' : 'none';\n",
              "\n",
              "        async function convertToInteractive(key) {\n",
              "          const element = document.querySelector('#df-45b42fa8-e242-49da-b022-8cb617840174');\n",
              "          const dataTable =\n",
              "            await google.colab.kernel.invokeFunction('convertToInteractive',\n",
              "                                                     [key], {});\n",
              "          if (!dataTable) return;\n",
              "\n",
              "          const docLinkHtml = 'Like what you see? Visit the ' +\n",
              "            '<a target=\"_blank\" href=https://colab.research.google.com/notebooks/data_table.ipynb>data table notebook</a>'\n",
              "            + ' to learn more about interactive tables.';\n",
              "          element.innerHTML = '';\n",
              "          dataTable['output_type'] = 'display_data';\n",
              "          await google.colab.output.renderOutput(dataTable, element);\n",
              "          const docLink = document.createElement('div');\n",
              "          docLink.innerHTML = docLinkHtml;\n",
              "          element.appendChild(docLink);\n",
              "        }\n",
              "      </script>\n",
              "    </div>\n",
              "  </div>\n",
              "  "
            ]
          },
          "metadata": {},
          "execution_count": 185
        }
      ]
    },
    {
      "cell_type": "code",
      "source": [
        "print(songs.isnull().sum())"
      ],
      "metadata": {
        "colab": {
          "base_uri": "https://localhost:8080/"
        },
        "id": "fbgEijEvWYV4",
        "outputId": "d0dd8fa7-d394-43d4-d68a-4ecc6c914684"
      },
      "execution_count": 186,
      "outputs": [
        {
          "output_type": "stream",
          "name": "stdout",
          "text": [
            "artist              0\n",
            "song                0\n",
            "duration_ms         0\n",
            "explicit            0\n",
            "year                0\n",
            "popularity          0\n",
            "danceability        0\n",
            "energy              0\n",
            "key                 0\n",
            "loudness            0\n",
            "mode                0\n",
            "speechiness         0\n",
            "acousticness        0\n",
            "instrumentalness    0\n",
            "liveness            0\n",
            "valence             0\n",
            "tempo               0\n",
            "genre               1\n",
            "dtype: int64\n"
          ]
        }
      ]
    },
    {
      "cell_type": "code",
      "source": [
        "# 결측치 열 전체 삭제\n",
        "songs = songs.dropna(axis=1)   #열삭제의 경우 axis =1 \n",
        "print(\"결측열 모두 제거: \", songs.shape)    # 결측치 모두 없어졌는지 확인\n",
        "\n",
        "songs = songs.drop(columns = ['duration_ms','explicit','mode'],axis=1)\n",
        "\n",
        "print(songs.isnull().sum())"
      ],
      "metadata": {
        "colab": {
          "base_uri": "https://localhost:8080/"
        },
        "id": "SOcFizDaRHfa",
        "outputId": "ce4f045d-9ce1-47a5-f9d4-6a729192d2d2"
      },
      "execution_count": 187,
      "outputs": [
        {
          "output_type": "stream",
          "name": "stdout",
          "text": [
            "결측열 모두 제거:  (2000, 17)\n",
            "artist              0\n",
            "song                0\n",
            "year                0\n",
            "popularity          0\n",
            "danceability        0\n",
            "energy              0\n",
            "key                 0\n",
            "loudness            0\n",
            "speechiness         0\n",
            "acousticness        0\n",
            "instrumentalness    0\n",
            "liveness            0\n",
            "valence             0\n",
            "tempo               0\n",
            "dtype: int64\n"
          ]
        }
      ]
    },
    {
      "cell_type": "code",
      "source": [
        "display(songs.info())"
      ],
      "metadata": {
        "colab": {
          "base_uri": "https://localhost:8080/",
          "height": 416
        },
        "id": "NQ50fS_NRHj-",
        "outputId": "2a033cc4-446b-4cd9-8cf7-154e393bb1cf"
      },
      "execution_count": 188,
      "outputs": [
        {
          "output_type": "stream",
          "name": "stdout",
          "text": [
            "<class 'pandas.core.frame.DataFrame'>\n",
            "RangeIndex: 2000 entries, 0 to 1999\n",
            "Data columns (total 14 columns):\n",
            " #   Column            Non-Null Count  Dtype  \n",
            "---  ------            --------------  -----  \n",
            " 0   artist            2000 non-null   object \n",
            " 1   song              2000 non-null   object \n",
            " 2   year              2000 non-null   int64  \n",
            " 3   popularity        2000 non-null   float64\n",
            " 4   danceability      2000 non-null   float64\n",
            " 5   energy            2000 non-null   float64\n",
            " 6   key               2000 non-null   float64\n",
            " 7   loudness          2000 non-null   float64\n",
            " 8   speechiness       2000 non-null   float64\n",
            " 9   acousticness      2000 non-null   float64\n",
            " 10  instrumentalness  2000 non-null   float64\n",
            " 11  liveness          2000 non-null   float64\n",
            " 12  valence           2000 non-null   float64\n",
            " 13  tempo             2000 non-null   object \n",
            "dtypes: float64(10), int64(1), object(3)\n",
            "memory usage: 218.9+ KB\n"
          ]
        },
        {
          "output_type": "display_data",
          "data": {
            "text/plain": [
              "None"
            ]
          },
          "metadata": {}
        }
      ]
    },
    {
      "cell_type": "code",
      "source": [
        "rating = []\n",
        "    \n",
        "for row in songs['popularity']:\n",
        "      if row >= 50 :  rating.append('Yes')\n",
        "      else: rating.append('No')\n",
        "\n",
        "songs['popularity'] = rating\n",
        "print(songs)"
      ],
      "metadata": {
        "colab": {
          "base_uri": "https://localhost:8080/"
        },
        "id": "Vb9vFwgabVA_",
        "outputId": "838d0f70-8e14-4320-95e5-0cb11b1b46a2"
      },
      "execution_count": 189,
      "outputs": [
        {
          "output_type": "stream",
          "name": "stdout",
          "text": [
            "              artist                                    song  year popularity  \\\n",
            "0     Britney Spears                  Oops!...I Did It Again  2000        Yes   \n",
            "1          blink-182                    All The Small Things  1999        Yes   \n",
            "2         Faith Hill                                 Breathe  1999        Yes   \n",
            "3           Bon Jovi                            It's My Life  2000        Yes   \n",
            "4             *NSYNC                             Bye Bye Bye  2000        Yes   \n",
            "...              ...                                     ...   ...        ...   \n",
            "1995  Jonas Brothers                                  Sucker  2019        Yes   \n",
            "1996    Taylor Swift                            Cruel Summer  2019        Yes   \n",
            "1997    Blanco Brown                              The Git Up  2019        Yes   \n",
            "1998       Sam Smith  Dancing With A Stranger (with Normani)  2019        Yes   \n",
            "1999     Post Malone                                 Circles  2019        Yes   \n",
            "\n",
            "      danceability  energy  key  loudness  speechiness  acousticness  \\\n",
            "0            0.751   0.834  1.0    -5.444       0.0437        0.3000   \n",
            "1            0.434   0.897  0.0    -4.918       0.0488        0.0103   \n",
            "2            0.529   0.496  7.0    -9.007       0.0290        0.1730   \n",
            "3            0.551   0.913  0.0    -4.063       0.0466        0.0263   \n",
            "4            0.614   0.928  8.0    -4.806       0.0516        0.0408   \n",
            "...            ...     ...  ...       ...          ...           ...   \n",
            "1995         0.842   0.734  1.0    -5.065       0.0588        0.0427   \n",
            "1996         0.552   0.702  9.0    -5.707       0.1570        0.1170   \n",
            "1997         0.847   0.678  9.0    -8.635       0.1090        0.0669   \n",
            "1998         0.741   0.520  8.0    -7.513       0.0656        0.4500   \n",
            "1999         0.695   0.762  0.0    -3.497       0.0395        0.1920   \n",
            "\n",
            "      instrumentalness  liveness  valence    tempo  \n",
            "0             0.000018    0.3550    0.894   95.053  \n",
            "1             0.000000    0.6120    0.684  148.726  \n",
            "2             0.000000    0.2510    0.278  136.859  \n",
            "3             0.000013    0.3470    0.544  119.992  \n",
            "4             0.001040    0.0845    0.879  172.656  \n",
            "...                ...       ...      ...      ...  \n",
            "1995          0.000000    0.1060    0.952  137.958  \n",
            "1996          0.000021    0.1050    0.564  169.994  \n",
            "1997          0.000000    0.2740    0.811   97.984  \n",
            "1998          0.000002    0.2220    0.347  102.998  \n",
            "1999          0.002440    0.0863    0.553  120.042  \n",
            "\n",
            "[2000 rows x 14 columns]\n"
          ]
        }
      ]
    },
    {
      "cell_type": "code",
      "source": [
        "display(songs.info())"
      ],
      "metadata": {
        "colab": {
          "base_uri": "https://localhost:8080/",
          "height": 416
        },
        "id": "O_X-rUeRe6cS",
        "outputId": "d3328195-d981-4b50-c56e-a709ea9f84e0"
      },
      "execution_count": 190,
      "outputs": [
        {
          "output_type": "stream",
          "name": "stdout",
          "text": [
            "<class 'pandas.core.frame.DataFrame'>\n",
            "RangeIndex: 2000 entries, 0 to 1999\n",
            "Data columns (total 14 columns):\n",
            " #   Column            Non-Null Count  Dtype  \n",
            "---  ------            --------------  -----  \n",
            " 0   artist            2000 non-null   object \n",
            " 1   song              2000 non-null   object \n",
            " 2   year              2000 non-null   int64  \n",
            " 3   popularity        2000 non-null   object \n",
            " 4   danceability      2000 non-null   float64\n",
            " 5   energy            2000 non-null   float64\n",
            " 6   key               2000 non-null   float64\n",
            " 7   loudness          2000 non-null   float64\n",
            " 8   speechiness       2000 non-null   float64\n",
            " 9   acousticness      2000 non-null   float64\n",
            " 10  instrumentalness  2000 non-null   float64\n",
            " 11  liveness          2000 non-null   float64\n",
            " 12  valence           2000 non-null   float64\n",
            " 13  tempo             2000 non-null   object \n",
            "dtypes: float64(9), int64(1), object(4)\n",
            "memory usage: 218.9+ KB\n"
          ]
        },
        {
          "output_type": "display_data",
          "data": {
            "text/plain": [
              "None"
            ]
          },
          "metadata": {}
        }
      ]
    },
    {
      "cell_type": "code",
      "source": [
        "print(songs['popularity'].value_counts())\n",
        "\n",
        "songs['popularity'].value_counts().plot.bar()\n",
        "plt.ylabel('count')\n",
        "plt.title('Distribution of popularity')"
      ],
      "metadata": {
        "colab": {
          "base_uri": "https://localhost:8080/",
          "height": 469
        },
        "id": "XUSm92uycOFa",
        "outputId": "e098fdd2-e9a6-4a69-f8f3-9f4875182f8d"
      },
      "execution_count": 191,
      "outputs": [
        {
          "output_type": "stream",
          "name": "stdout",
          "text": [
            "Yes    1681\n",
            "No      319\n",
            "Name: popularity, dtype: int64\n"
          ]
        },
        {
          "output_type": "execute_result",
          "data": {
            "text/plain": [
              "Text(0.5, 1.0, 'Distribution of popularity')"
            ]
          },
          "metadata": {},
          "execution_count": 191
        },
        {
          "output_type": "display_data",
          "data": {
            "text/plain": [
              "<Figure size 648x432 with 1 Axes>"
            ],
            "image/png": "[encoded data removed]"
          },
          "metadata": {
            "needs_background": "light"
          }
        }
      ]
    },
    {
      "cell_type": "markdown",
      "source": [
        "### **2) 의사결정나무 모델** ###"
      ],
      "metadata": {
        "id": "lNO1ev_DdtUi"
      }
    },
    {
      "cell_type": "code",
      "source": [
        "from sklearn.tree import DecisionTreeClassifier\n",
        "from sklearn.model_selection import train_test_split\n",
        "\n",
        "X = songs.iloc[:, [4, 5, 6, 7, 8, 9, 10, 11, 12]]  # 9개 변수 \n",
        "y = songs.iloc[:, 3]   # popularity로 설정\n",
        "\n",
        "# 데이터셋을 학습(train)과 테스트(test) 세트로 분할\n",
        "# random_state : random 으로 분할시 사용되는 난수 seed 숫자\n",
        "#X_train, X_test, y_train, y_test = train_test_split(X, y, test_size = 0.25, stratify=y, random_state=42)\n",
        "\n",
        "X_train, X_test, y_train, y_test = train_test_split(X, y, test_size = 0.25, random_state=42)\n",
        "\n",
        "tree = DecisionTreeClassifier(class_weight = \"balanced\", random_state=0)   #데이터 균형 맞춰주기\n",
        "tree.fit(X_train, y_train)  #(학습용 데이터 작성)\n",
        "print(\"학습용 데이터 정확도: {:.3f}\".format(tree.score(X_train, y_train)))\n",
        "print(\"시험용 데이터 정확도: {:.3f}\".format(tree.score(X_test, y_test)))"
      ],
      "metadata": {
        "colab": {
          "base_uri": "https://localhost:8080/"
        },
        "id": "0Dq6eHH9dZU4",
        "outputId": "f4076282-d1b4-41a4-cb26-e38982c4cefd"
      },
      "execution_count": 192,
      "outputs": [
        {
          "output_type": "stream",
          "name": "stdout",
          "text": [
            "학습용 데이터 정확도: 1.000\n",
            "시험용 데이터 정확도: 0.736\n"
          ]
        }
      ]
    },
    {
      "cell_type": "code",
      "source": [
        "# 의사결정나무의 깊이를 4로 제한하면 시험용 데이터에 대한 성능이 향상됨 (과적합을 줄임)\n",
        "#가중치 고려, 해당 모델 선택\n",
        "tree = DecisionTreeClassifier(class_weight = \"balanced\", max_depth=4, random_state=0)\n",
        "tree.fit(X_train, y_train)\n",
        "\n",
        "print(\"학습용 데이터 정확도: {:.3f}\".format(tree.score(X_train, y_train)))\n",
        "print(\"시험용 데이터 정확도: {:.3f}\".format(tree.score(X_test, y_test)))"
      ],
      "metadata": {
        "colab": {
          "base_uri": "https://localhost:8080/"
        },
        "id": "vaCj0kxsdZZm",
        "outputId": "1cae67a9-3c94-47f6-d22d-37f88fb88d8f"
      },
      "execution_count": 193,
      "outputs": [
        {
          "output_type": "stream",
          "name": "stdout",
          "text": [
            "학습용 데이터 정확도: 0.768\n",
            "시험용 데이터 정확도: 0.708\n"
          ]
        }
      ]
    },
    {
      "cell_type": "code",
      "source": [
        "#graphviz 라이브러리를 이용하여 의사결정나무 그리기 \n",
        "from sklearn.tree import export_graphviz\n",
        "import graphviz\n",
        "\n",
        "# filled = True: 색상의 진하기로 클래스를 나타냄, impurity: 불순도 계산값 보여주기 옵션\n",
        "export_graphviz(tree, out_file=\"tree.dot\", class_names=[ \"popularity < 50\", \"popularity >= 50\"],\n",
        "                feature_names=songs.columns[[4, 5, 6, 7, 8, 9, 10, 11, 12]], impurity=False, filled=True)\n",
        "\n",
        "with open(\"tree.dot\") as f:\n",
        "    dot_graph = f.read()\n",
        "\n",
        "display(graphviz.Source(dot_graph))\n",
        "\n",
        "#(어떤 순서로 중요한지 확인 가능)"
      ],
      "metadata": {
        "colab": {
          "base_uri": "https://localhost:8080/",
          "height": 676
        },
        "id": "neinJaOEdZcV",
        "outputId": "fdc5e8b8-c37a-4127-dbc1-2fd2e471dfa0"
      },
      "execution_count": 194,
      "outputs": [
        {
          "output_type": "display_data",
          "data": {
            "text/plain": [
              "<graphviz.files.Source at 0x7f91399c8850>"
            ],
            "image/svg+xml": "<?xml version=\"1.0\" encoding=\"UTF-8\" standalone=\"no\"?>\n<!DOCTYPE svg PUBLIC \"-//W3C//DTD SVG 1.1//EN\"\n \"http://www.w3.org/Graphics/SVG/1.1/DTD/svg11.dtd\">\n<!-- Generated by graphviz version 2.40.1 (20161225.0304)\n -->\n<!-- Title: Tree Pages: 1 -->\n<svg width=\"2279pt\" height=\"477pt\"\n viewBox=\"0.00 0.00 2278.50 477.00\" xmlns=\"http://www.w3.org/2000/svg\" xmlns:xlink=\"http://www.w3.org/1999/xlink\">\n<g id=\"graph0\" class=\"graph\" transform=\"scale(1 1) rotate(0) translate(4 473)\">\n<title>Tree</title>\n<polygon fill=\"#ffffff\" stroke=\"transparent\" points=\"-4,4 -4,-473 2274.5,-473 2274.5,4 -4,4\"/>\n<!-- 0 -->\n<g id=\"node1\" class=\"node\">\n<title>0</title>\n<polygon fill=\"#ffffff\" stroke=\"#000000\" points=\"1425.5,-469 1237.5,-469 1237.5,-401 1425.5,-401 1425.5,-469\"/>\n<text text-anchor=\"middle\" x=\"1331.5\" y=\"-453.8\" font-family=\"Helvetica,sans-Serif\" font-size=\"14.00\" fill=\"#000000\">instrumentalness &lt;= 0.022</text>\n<text text-anchor=\"middle\" x=\"1331.5\" y=\"-438.8\" font-family=\"Helvetica,sans-Serif\" font-size=\"14.00\" fill=\"#000000\">samples = 1500</text>\n<text text-anchor=\"middle\" x=\"1331.5\" y=\"-423.8\" font-family=\"Helvetica,sans-Serif\" font-size=\"14.00\" fill=\"#000000\">value = [750.0, 750.0]</text>\n<text text-anchor=\"middle\" x=\"1331.5\" y=\"-408.8\" font-family=\"Helvetica,sans-Serif\" font-size=\"14.00\" fill=\"#000000\">class = popularity &gt;= 50</text>\n</g>\n<!-- 1 -->\n<g id=\"node2\" class=\"node\">\n<title>1</title>\n<polygon fill=\"#f2f9fd\" stroke=\"#000000\" points=\"1222,-365 1033,-365 1033,-297 1222,-297 1222,-365\"/>\n<text text-anchor=\"middle\" x=\"1127.5\" y=\"-349.8\" font-family=\"Helvetica,sans-Serif\" font-size=\"14.00\" fill=\"#000000\">liveness &lt;= 0.173</text>\n<text text-anchor=\"middle\" x=\"1127.5\" y=\"-334.8\" font-family=\"Helvetica,sans-Serif\" font-size=\"14.00\" fill=\"#000000\">samples = 1414</text>\n<text text-anchor=\"middle\" x=\"1127.5\" y=\"-319.8\" font-family=\"Helvetica,sans-Serif\" font-size=\"14.00\" fill=\"#000000\">value = [667.722, 714.371]</text>\n<text text-anchor=\"middle\" x=\"1127.5\" y=\"-304.8\" font-family=\"Helvetica,sans-Serif\" font-size=\"14.00\" fill=\"#000000\">class = popularity &gt;= 50</text>\n</g>\n<!-- 0&#45;&gt;1 -->\n<g id=\"edge1\" class=\"edge\">\n<title>0&#45;&gt;1</title>\n<path fill=\"none\" stroke=\"#000000\" d=\"M1264.7028,-400.9465C1245.1537,-390.9803 1223.6383,-380.0117 1203.5594,-369.7754\"/>\n<polygon fill=\"#000000\" stroke=\"#000000\" points=\"1204.946,-366.5537 1194.4473,-365.13 1201.7667,-372.7901 1204.946,-366.5537\"/>\n<text text-anchor=\"middle\" x=\"1202.1675\" y=\"-385.2081\" font-family=\"Helvetica,sans-Serif\" font-size=\"14.00\" fill=\"#000000\">True</text>\n</g>\n<!-- 16 -->\n<g id=\"node17\" class=\"node\">\n<title>16</title>\n<polygon fill=\"#f0b88f\" stroke=\"#000000\" points=\"1711,-365 1538,-365 1538,-297 1711,-297 1711,-365\"/>\n<text text-anchor=\"middle\" x=\"1624.5\" y=\"-349.8\" font-family=\"Helvetica,sans-Serif\" font-size=\"14.00\" fill=\"#000000\">valence &lt;= 0.725</text>\n<text text-anchor=\"middle\" x=\"1624.5\" y=\"-334.8\" font-family=\"Helvetica,sans-Serif\" font-size=\"14.00\" fill=\"#000000\">samples = 86</text>\n<text text-anchor=\"middle\" x=\"1624.5\" y=\"-319.8\" font-family=\"Helvetica,sans-Serif\" font-size=\"14.00\" fill=\"#000000\">value = [82.278, 35.629]</text>\n<text text-anchor=\"middle\" x=\"1624.5\" y=\"-304.8\" font-family=\"Helvetica,sans-Serif\" font-size=\"14.00\" fill=\"#000000\">class = popularity &lt; 50</text>\n</g>\n<!-- 0&#45;&gt;16 -->\n<g id=\"edge16\" class=\"edge\">\n<title>0&#45;&gt;16</title>\n<path fill=\"none\" stroke=\"#000000\" d=\"M1425.8198,-401.5213C1458.556,-389.9016 1495.2908,-376.8627 1528.1858,-365.1866\"/>\n<polygon fill=\"#000000\" stroke=\"#000000\" points=\"1529.5542,-368.4149 1537.8074,-361.7714 1527.2127,-361.8181 1529.5542,-368.4149\"/>\n<text text-anchor=\"middle\" x=\"1527.0613\" y=\"-380.644\" font-family=\"Helvetica,sans-Serif\" font-size=\"14.00\" fill=\"#000000\">False</text>\n</g>\n<!-- 2 -->\n<g id=\"node3\" class=\"node\">\n<title>2</title>\n<polygon fill=\"#d5eaf9\" stroke=\"#000000\" points=\"653,-261 464,-261 464,-193 653,-193 653,-261\"/>\n<text text-anchor=\"middle\" x=\"558.5\" y=\"-245.8\" font-family=\"Helvetica,sans-Serif\" font-size=\"14.00\" fill=\"#000000\">valence &lt;= 0.169</text>\n<text text-anchor=\"middle\" x=\"558.5\" y=\"-230.8\" font-family=\"Helvetica,sans-Serif\" font-size=\"14.00\" fill=\"#000000\">samples = 909</text>\n<text text-anchor=\"middle\" x=\"558.5\" y=\"-215.8\" font-family=\"Helvetica,sans-Serif\" font-size=\"14.00\" fill=\"#000000\">value = [370.253, 470.309]</text>\n<text text-anchor=\"middle\" x=\"558.5\" y=\"-200.8\" font-family=\"Helvetica,sans-Serif\" font-size=\"14.00\" fill=\"#000000\">class = popularity &gt;= 50</text>\n</g>\n<!-- 1&#45;&gt;2 -->\n<g id=\"edge2\" class=\"edge\">\n<title>1&#45;&gt;2</title>\n<path fill=\"none\" stroke=\"#000000\" d=\"M1032.9025,-313.7098C930.9594,-295.0769 769.1483,-265.5016 663.3804,-246.1697\"/>\n<polygon fill=\"#000000\" stroke=\"#000000\" points=\"663.79,-242.6867 653.3237,-244.3316 662.5314,-249.5726 663.79,-242.6867\"/>\n</g>\n<!-- 9 -->\n<g id=\"node10\" class=\"node\">\n<title>9</title>\n<polygon fill=\"#fae8db\" stroke=\"#000000\" points=\"1222,-261 1033,-261 1033,-193 1222,-193 1222,-261\"/>\n<text text-anchor=\"middle\" x=\"1127.5\" y=\"-245.8\" font-family=\"Helvetica,sans-Serif\" font-size=\"14.00\" fill=\"#000000\">speechiness &lt;= 0.033</text>\n<text text-anchor=\"middle\" x=\"1127.5\" y=\"-230.8\" font-family=\"Helvetica,sans-Serif\" font-size=\"14.00\" fill=\"#000000\">samples = 505</text>\n<text text-anchor=\"middle\" x=\"1127.5\" y=\"-215.8\" font-family=\"Helvetica,sans-Serif\" font-size=\"14.00\" fill=\"#000000\">value = [297.468, 244.062]</text>\n<text text-anchor=\"middle\" x=\"1127.5\" y=\"-200.8\" font-family=\"Helvetica,sans-Serif\" font-size=\"14.00\" fill=\"#000000\">class = popularity &lt; 50</text>\n</g>\n<!-- 1&#45;&gt;9 -->\n<g id=\"edge9\" class=\"edge\">\n<title>1&#45;&gt;9</title>\n<path fill=\"none\" stroke=\"#000000\" d=\"M1127.5,-296.9465C1127.5,-288.776 1127.5,-279.9318 1127.5,-271.3697\"/>\n<polygon fill=\"#000000\" stroke=\"#000000\" points=\"1131.0001,-271.13 1127.5,-261.13 1124.0001,-271.13 1131.0001,-271.13\"/>\n</g>\n<!-- 3 -->\n<g id=\"node4\" class=\"node\">\n<title>3</title>\n<polygon fill=\"#4fa8e8\" stroke=\"#000000\" points=\"349.5,-157 179.5,-157 179.5,-89 349.5,-89 349.5,-157\"/>\n<text text-anchor=\"middle\" x=\"264.5\" y=\"-141.8\" font-family=\"Helvetica,sans-Serif\" font-size=\"14.00\" fill=\"#000000\">acousticness &lt;= 0.002</text>\n<text text-anchor=\"middle\" x=\"264.5\" y=\"-126.8\" font-family=\"Helvetica,sans-Serif\" font-size=\"14.00\" fill=\"#000000\">samples = 49</text>\n<text text-anchor=\"middle\" x=\"264.5\" y=\"-111.8\" font-family=\"Helvetica,sans-Serif\" font-size=\"14.00\" fill=\"#000000\">value = [3.165, 28.504]</text>\n<text text-anchor=\"middle\" x=\"264.5\" y=\"-96.8\" font-family=\"Helvetica,sans-Serif\" font-size=\"14.00\" fill=\"#000000\">class = popularity &gt;= 50</text>\n</g>\n<!-- 2&#45;&gt;3 -->\n<g id=\"edge3\" class=\"edge\">\n<title>2&#45;&gt;3</title>\n<path fill=\"none\" stroke=\"#000000\" d=\"M463.8582,-193.5213C430.3992,-181.6854 392.7773,-168.377 359.3047,-156.5364\"/>\n<polygon fill=\"#000000\" stroke=\"#000000\" points=\"360.1163,-153.111 349.5216,-153.0757 357.7819,-159.7103 360.1163,-153.111\"/>\n</g>\n<!-- 6 -->\n<g id=\"node7\" class=\"node\">\n<title>6</title>\n<polygon fill=\"#deeefb\" stroke=\"#000000\" points=\"653,-157 464,-157 464,-89 653,-89 653,-157\"/>\n<text text-anchor=\"middle\" x=\"558.5\" y=\"-141.8\" font-family=\"Helvetica,sans-Serif\" font-size=\"14.00\" fill=\"#000000\">valence &lt;= 0.218</text>\n<text text-anchor=\"middle\" x=\"558.5\" y=\"-126.8\" font-family=\"Helvetica,sans-Serif\" font-size=\"14.00\" fill=\"#000000\">samples = 860</text>\n<text text-anchor=\"middle\" x=\"558.5\" y=\"-111.8\" font-family=\"Helvetica,sans-Serif\" font-size=\"14.00\" fill=\"#000000\">value = [367.089, 441.805]</text>\n<text text-anchor=\"middle\" x=\"558.5\" y=\"-96.8\" font-family=\"Helvetica,sans-Serif\" font-size=\"14.00\" fill=\"#000000\">class = popularity &gt;= 50</text>\n</g>\n<!-- 2&#45;&gt;6 -->\n<g id=\"edge6\" class=\"edge\">\n<title>2&#45;&gt;6</title>\n<path fill=\"none\" stroke=\"#000000\" d=\"M558.5,-192.9465C558.5,-184.776 558.5,-175.9318 558.5,-167.3697\"/>\n<polygon fill=\"#000000\" stroke=\"#000000\" points=\"562.0001,-167.13 558.5,-157.13 555.0001,-167.13 562.0001,-167.13\"/>\n</g>\n<!-- 4 -->\n<g id=\"node5\" class=\"node\">\n<title>4</title>\n<polygon fill=\"#e58139\" stroke=\"#000000\" points=\"161,-53 0,-53 0,0 161,0 161,-53\"/>\n<text text-anchor=\"middle\" x=\"80.5\" y=\"-37.8\" font-family=\"Helvetica,sans-Serif\" font-size=\"14.00\" fill=\"#000000\">samples = 1</text>\n<text text-anchor=\"middle\" x=\"80.5\" y=\"-22.8\" font-family=\"Helvetica,sans-Serif\" font-size=\"14.00\" fill=\"#000000\">value = [3.165, 0.0]</text>\n<text text-anchor=\"middle\" x=\"80.5\" y=\"-7.8\" font-family=\"Helvetica,sans-Serif\" font-size=\"14.00\" fill=\"#000000\">class = popularity &lt; 50</text>\n</g>\n<!-- 3&#45;&gt;4 -->\n<g id=\"edge4\" class=\"edge\">\n<title>3&#45;&gt;4</title>\n<path fill=\"none\" stroke=\"#000000\" d=\"M199.6285,-88.9777C180.2459,-78.8124 159.0991,-67.7218 140.0738,-57.7439\"/>\n<polygon fill=\"#000000\" stroke=\"#000000\" points=\"141.6913,-54.6401 131.2097,-53.095 138.44,-60.8392 141.6913,-54.6401\"/>\n</g>\n<!-- 5 -->\n<g id=\"node6\" class=\"node\">\n<title>5</title>\n<polygon fill=\"#399de5\" stroke=\"#000000\" points=\"349.5,-53 179.5,-53 179.5,0 349.5,0 349.5,-53\"/>\n<text text-anchor=\"middle\" x=\"264.5\" y=\"-37.8\" font-family=\"Helvetica,sans-Serif\" font-size=\"14.00\" fill=\"#000000\">samples = 48</text>\n<text text-anchor=\"middle\" x=\"264.5\" y=\"-22.8\" font-family=\"Helvetica,sans-Serif\" font-size=\"14.00\" fill=\"#000000\">value = [0.0, 28.504]</text>\n<text text-anchor=\"middle\" x=\"264.5\" y=\"-7.8\" font-family=\"Helvetica,sans-Serif\" font-size=\"14.00\" fill=\"#000000\">class = popularity &gt;= 50</text>\n</g>\n<!-- 3&#45;&gt;5 -->\n<g id=\"edge5\" class=\"edge\">\n<title>3&#45;&gt;5</title>\n<path fill=\"none\" stroke=\"#000000\" d=\"M264.5,-88.9777C264.5,-80.7364 264.5,-71.887 264.5,-63.5153\"/>\n<polygon fill=\"#000000\" stroke=\"#000000\" points=\"268.0001,-63.2484 264.5,-53.2485 261.0001,-63.2485 268.0001,-63.2484\"/>\n</g>\n<!-- 7 -->\n<g id=\"node8\" class=\"node\">\n<title>7</title>\n<polygon fill=\"#eeae80\" stroke=\"#000000\" points=\"541,-53 368,-53 368,0 541,0 541,-53\"/>\n<text text-anchor=\"middle\" x=\"454.5\" y=\"-37.8\" font-family=\"Helvetica,sans-Serif\" font-size=\"14.00\" fill=\"#000000\">samples = 35</text>\n<text text-anchor=\"middle\" x=\"454.5\" y=\"-22.8\" font-family=\"Helvetica,sans-Serif\" font-size=\"14.00\" fill=\"#000000\">value = [37.975, 13.658]</text>\n<text text-anchor=\"middle\" x=\"454.5\" y=\"-7.8\" font-family=\"Helvetica,sans-Serif\" font-size=\"14.00\" fill=\"#000000\">class = popularity &lt; 50</text>\n</g>\n<!-- 6&#45;&gt;7 -->\n<g id=\"edge7\" class=\"edge\">\n<title>6&#45;&gt;7</title>\n<path fill=\"none\" stroke=\"#000000\" d=\"M521.8335,-88.9777C511.7675,-79.6376 500.8596,-69.5163 490.8135,-60.1947\"/>\n<polygon fill=\"#000000\" stroke=\"#000000\" points=\"493.0385,-57.4847 483.3274,-53.2485 488.2772,-62.616 493.0385,-57.4847\"/>\n</g>\n<!-- 8 -->\n<g id=\"node9\" class=\"node\">\n<title>8</title>\n<polygon fill=\"#d1e8f9\" stroke=\"#000000\" points=\"748,-53 559,-53 559,0 748,0 748,-53\"/>\n<text text-anchor=\"middle\" x=\"653.5\" y=\"-37.8\" font-family=\"Helvetica,sans-Serif\" font-size=\"14.00\" fill=\"#000000\">samples = 825</text>\n<text text-anchor=\"middle\" x=\"653.5\" y=\"-22.8\" font-family=\"Helvetica,sans-Serif\" font-size=\"14.00\" fill=\"#000000\">value = [329.114, 428.147]</text>\n<text text-anchor=\"middle\" x=\"653.5\" y=\"-7.8\" font-family=\"Helvetica,sans-Serif\" font-size=\"14.00\" fill=\"#000000\">class = popularity &gt;= 50</text>\n</g>\n<!-- 6&#45;&gt;8 -->\n<g id=\"edge8\" class=\"edge\">\n<title>6&#45;&gt;8</title>\n<path fill=\"none\" stroke=\"#000000\" d=\"M591.9934,-88.9777C601.0982,-79.7292 610.957,-69.7147 620.0589,-60.4691\"/>\n<polygon fill=\"#000000\" stroke=\"#000000\" points=\"622.646,-62.8302 627.1673,-53.2485 617.6576,-57.9193 622.646,-62.8302\"/>\n</g>\n<!-- 10 -->\n<g id=\"node11\" class=\"node\">\n<title>10</title>\n<polygon fill=\"#4fa8e8\" stroke=\"#000000\" points=\"1113.5,-157 943.5,-157 943.5,-89 1113.5,-89 1113.5,-157\"/>\n<text text-anchor=\"middle\" x=\"1028.5\" y=\"-141.8\" font-family=\"Helvetica,sans-Serif\" font-size=\"14.00\" fill=\"#000000\">acousticness &lt;= 0.001</text>\n<text text-anchor=\"middle\" x=\"1028.5\" y=\"-126.8\" font-family=\"Helvetica,sans-Serif\" font-size=\"14.00\" fill=\"#000000\">samples = 50</text>\n<text text-anchor=\"middle\" x=\"1028.5\" y=\"-111.8\" font-family=\"Helvetica,sans-Serif\" font-size=\"14.00\" fill=\"#000000\">value = [3.165, 29.097]</text>\n<text text-anchor=\"middle\" x=\"1028.5\" y=\"-96.8\" font-family=\"Helvetica,sans-Serif\" font-size=\"14.00\" fill=\"#000000\">class = popularity &gt;= 50</text>\n</g>\n<!-- 9&#45;&gt;10 -->\n<g id=\"edge10\" class=\"edge\">\n<title>9&#45;&gt;10</title>\n<path fill=\"none\" stroke=\"#000000\" d=\"M1095.0837,-192.9465C1086.4514,-183.8782 1077.0289,-173.9799 1068.0605,-164.5585\"/>\n<polygon fill=\"#000000\" stroke=\"#000000\" points=\"1070.419,-161.9599 1060.9891,-157.13 1065.3489,-166.7863 1070.419,-161.9599\"/>\n</g>\n<!-- 13 -->\n<g id=\"node14\" class=\"node\">\n<title>13</title>\n<polygon fill=\"#f8ddca\" stroke=\"#000000\" points=\"1321,-157 1132,-157 1132,-89 1321,-89 1321,-157\"/>\n<text text-anchor=\"middle\" x=\"1226.5\" y=\"-141.8\" font-family=\"Helvetica,sans-Serif\" font-size=\"14.00\" fill=\"#000000\">liveness &lt;= 0.294</text>\n<text text-anchor=\"middle\" x=\"1226.5\" y=\"-126.8\" font-family=\"Helvetica,sans-Serif\" font-size=\"14.00\" fill=\"#000000\">samples = 455</text>\n<text text-anchor=\"middle\" x=\"1226.5\" y=\"-111.8\" font-family=\"Helvetica,sans-Serif\" font-size=\"14.00\" fill=\"#000000\">value = [294.304, 214.964]</text>\n<text text-anchor=\"middle\" x=\"1226.5\" y=\"-96.8\" font-family=\"Helvetica,sans-Serif\" font-size=\"14.00\" fill=\"#000000\">class = popularity &lt; 50</text>\n</g>\n<!-- 9&#45;&gt;13 -->\n<g id=\"edge13\" class=\"edge\">\n<title>9&#45;&gt;13</title>\n<path fill=\"none\" stroke=\"#000000\" d=\"M1159.9163,-192.9465C1168.5486,-183.8782 1177.9711,-173.9799 1186.9395,-164.5585\"/>\n<polygon fill=\"#000000\" stroke=\"#000000\" points=\"1189.6511,-166.7863 1194.0109,-157.13 1184.581,-161.9599 1189.6511,-166.7863\"/>\n</g>\n<!-- 11 -->\n<g id=\"node12\" class=\"node\">\n<title>11</title>\n<polygon fill=\"#efb083\" stroke=\"#000000\" points=\"927,-53 766,-53 766,0 927,0 927,-53\"/>\n<text text-anchor=\"middle\" x=\"846.5\" y=\"-37.8\" font-family=\"Helvetica,sans-Serif\" font-size=\"14.00\" fill=\"#000000\">samples = 3</text>\n<text text-anchor=\"middle\" x=\"846.5\" y=\"-22.8\" font-family=\"Helvetica,sans-Serif\" font-size=\"14.00\" fill=\"#000000\">value = [3.165, 1.188]</text>\n<text text-anchor=\"middle\" x=\"846.5\" y=\"-7.8\" font-family=\"Helvetica,sans-Serif\" font-size=\"14.00\" fill=\"#000000\">class = popularity &lt; 50</text>\n</g>\n<!-- 10&#45;&gt;11 -->\n<g id=\"edge11\" class=\"edge\">\n<title>10&#45;&gt;11</title>\n<path fill=\"none\" stroke=\"#000000\" d=\"M964.3336,-88.9777C945.2485,-78.8584 924.434,-67.8222 905.6818,-57.8794\"/>\n<polygon fill=\"#000000\" stroke=\"#000000\" points=\"907.133,-54.6873 896.6585,-53.095 903.8539,-60.8718 907.133,-54.6873\"/>\n</g>\n<!-- 12 -->\n<g id=\"node13\" class=\"node\">\n<title>12</title>\n<polygon fill=\"#399de5\" stroke=\"#000000\" points=\"1115.5,-53 945.5,-53 945.5,0 1115.5,0 1115.5,-53\"/>\n<text text-anchor=\"middle\" x=\"1030.5\" y=\"-37.8\" font-family=\"Helvetica,sans-Serif\" font-size=\"14.00\" fill=\"#000000\">samples = 47</text>\n<text text-anchor=\"middle\" x=\"1030.5\" y=\"-22.8\" font-family=\"Helvetica,sans-Serif\" font-size=\"14.00\" fill=\"#000000\">value = [0.0, 27.91]</text>\n<text text-anchor=\"middle\" x=\"1030.5\" y=\"-7.8\" font-family=\"Helvetica,sans-Serif\" font-size=\"14.00\" fill=\"#000000\">class = popularity &gt;= 50</text>\n</g>\n<!-- 10&#45;&gt;12 -->\n<g id=\"edge12\" class=\"edge\">\n<title>10&#45;&gt;12</title>\n<path fill=\"none\" stroke=\"#000000\" d=\"M1029.2051,-88.9777C1029.3759,-80.7364 1029.5593,-71.887 1029.7328,-63.5153\"/>\n<polygon fill=\"#000000\" stroke=\"#000000\" points=\"1033.2376,-63.3189 1029.9456,-53.2485 1026.2391,-63.1738 1033.2376,-63.3189\"/>\n</g>\n<!-- 14 -->\n<g id=\"node15\" class=\"node\">\n<title>14</title>\n<polygon fill=\"#f3c4a3\" stroke=\"#000000\" points=\"1315,-53 1134,-53 1134,0 1315,0 1315,-53\"/>\n<text text-anchor=\"middle\" x=\"1224.5\" y=\"-37.8\" font-family=\"Helvetica,sans-Serif\" font-size=\"14.00\" fill=\"#000000\">samples = 208</text>\n<text text-anchor=\"middle\" x=\"1224.5\" y=\"-22.8\" font-family=\"Helvetica,sans-Serif\" font-size=\"14.00\" fill=\"#000000\">value = [170.886, 91.449]</text>\n<text text-anchor=\"middle\" x=\"1224.5\" y=\"-7.8\" font-family=\"Helvetica,sans-Serif\" font-size=\"14.00\" fill=\"#000000\">class = popularity &lt; 50</text>\n</g>\n<!-- 13&#45;&gt;14 -->\n<g id=\"edge14\" class=\"edge\">\n<title>13&#45;&gt;14</title>\n<path fill=\"none\" stroke=\"#000000\" d=\"M1225.7949,-88.9777C1225.6241,-80.7364 1225.4407,-71.887 1225.2672,-63.5153\"/>\n<polygon fill=\"#000000\" stroke=\"#000000\" points=\"1228.7609,-63.1738 1225.0544,-53.2485 1221.7624,-63.3189 1228.7609,-63.1738\"/>\n</g>\n<!-- 15 -->\n<g id=\"node16\" class=\"node\">\n<title>15</title>\n<polygon fill=\"#ffffff\" stroke=\"#000000\" points=\"1522,-53 1333,-53 1333,0 1522,0 1522,-53\"/>\n<text text-anchor=\"middle\" x=\"1427.5\" y=\"-37.8\" font-family=\"Helvetica,sans-Serif\" font-size=\"14.00\" fill=\"#000000\">samples = 247</text>\n<text text-anchor=\"middle\" x=\"1427.5\" y=\"-22.8\" font-family=\"Helvetica,sans-Serif\" font-size=\"14.00\" fill=\"#000000\">value = [123.418, 123.515]</text>\n<text text-anchor=\"middle\" x=\"1427.5\" y=\"-7.8\" font-family=\"Helvetica,sans-Serif\" font-size=\"14.00\" fill=\"#000000\">class = popularity &gt;= 50</text>\n</g>\n<!-- 13&#45;&gt;15 -->\n<g id=\"edge15\" class=\"edge\">\n<title>13&#45;&gt;15</title>\n<path fill=\"none\" stroke=\"#000000\" d=\"M1297.3651,-88.9777C1318.73,-78.7204 1342.0573,-67.521 1362.9858,-57.4732\"/>\n<polygon fill=\"#000000\" stroke=\"#000000\" points=\"1364.6051,-60.5783 1372.1052,-53.095 1361.5755,-54.2679 1364.6051,-60.5783\"/>\n</g>\n<!-- 17 -->\n<g id=\"node18\" class=\"node\">\n<title>17</title>\n<polygon fill=\"#eca470\" stroke=\"#000000\" points=\"1706.5,-261 1542.5,-261 1542.5,-193 1706.5,-193 1706.5,-261\"/>\n<text text-anchor=\"middle\" x=\"1624.5\" y=\"-245.8\" font-family=\"Helvetica,sans-Serif\" font-size=\"14.00\" fill=\"#000000\">energy &lt;= 0.43</text>\n<text text-anchor=\"middle\" x=\"1624.5\" y=\"-230.8\" font-family=\"Helvetica,sans-Serif\" font-size=\"14.00\" fill=\"#000000\">samples = 57</text>\n<text text-anchor=\"middle\" x=\"1624.5\" y=\"-215.8\" font-family=\"Helvetica,sans-Serif\" font-size=\"14.00\" fill=\"#000000\">value = [72.785, 20.19]</text>\n<text text-anchor=\"middle\" x=\"1624.5\" y=\"-200.8\" font-family=\"Helvetica,sans-Serif\" font-size=\"14.00\" fill=\"#000000\">class = popularity &lt; 50</text>\n</g>\n<!-- 16&#45;&gt;17 -->\n<g id=\"edge17\" class=\"edge\">\n<title>16&#45;&gt;17</title>\n<path fill=\"none\" stroke=\"#000000\" d=\"M1624.5,-296.9465C1624.5,-288.776 1624.5,-279.9318 1624.5,-271.3697\"/>\n<polygon fill=\"#000000\" stroke=\"#000000\" points=\"1628.0001,-271.13 1624.5,-261.13 1621.0001,-271.13 1628.0001,-271.13\"/>\n</g>\n<!-- 22 -->\n<g id=\"node23\" class=\"node\">\n<title>22</title>\n<polygon fill=\"#b3d9f5\" stroke=\"#000000\" points=\"2085.5,-261 1915.5,-261 1915.5,-193 2085.5,-193 2085.5,-261\"/>\n<text text-anchor=\"middle\" x=\"2000.5\" y=\"-245.8\" font-family=\"Helvetica,sans-Serif\" font-size=\"14.00\" fill=\"#000000\">speechiness &lt;= 0.029</text>\n<text text-anchor=\"middle\" x=\"2000.5\" y=\"-230.8\" font-family=\"Helvetica,sans-Serif\" font-size=\"14.00\" fill=\"#000000\">samples = 29</text>\n<text text-anchor=\"middle\" x=\"2000.5\" y=\"-215.8\" font-family=\"Helvetica,sans-Serif\" font-size=\"14.00\" fill=\"#000000\">value = [9.494, 15.439]</text>\n<text text-anchor=\"middle\" x=\"2000.5\" y=\"-200.8\" font-family=\"Helvetica,sans-Serif\" font-size=\"14.00\" fill=\"#000000\">class = popularity &gt;= 50</text>\n</g>\n<!-- 16&#45;&gt;22 -->\n<g id=\"edge22\" class=\"edge\">\n<title>16&#45;&gt;22</title>\n<path fill=\"none\" stroke=\"#000000\" d=\"M1711.2341,-307.0097C1769.3741,-290.9284 1845.9316,-269.753 1905.6816,-253.2264\"/>\n<polygon fill=\"#000000\" stroke=\"#000000\" points=\"1906.7931,-256.5504 1915.4982,-250.5111 1904.927,-249.8037 1906.7931,-256.5504\"/>\n</g>\n<!-- 18 -->\n<g id=\"node19\" class=\"node\">\n<title>18</title>\n<polygon fill=\"#399de5\" stroke=\"#000000\" points=\"1614.5,-149.5 1444.5,-149.5 1444.5,-96.5 1614.5,-96.5 1614.5,-149.5\"/>\n<text text-anchor=\"middle\" x=\"1529.5\" y=\"-134.3\" font-family=\"Helvetica,sans-Serif\" font-size=\"14.00\" fill=\"#000000\">samples = 5</text>\n<text text-anchor=\"middle\" x=\"1529.5\" y=\"-119.3\" font-family=\"Helvetica,sans-Serif\" font-size=\"14.00\" fill=\"#000000\">value = [0.0, 2.969]</text>\n<text text-anchor=\"middle\" x=\"1529.5\" y=\"-104.3\" font-family=\"Helvetica,sans-Serif\" font-size=\"14.00\" fill=\"#000000\">class = popularity &gt;= 50</text>\n</g>\n<!-- 17&#45;&gt;18 -->\n<g id=\"edge18\" class=\"edge\">\n<title>17&#45;&gt;18</title>\n<path fill=\"none\" stroke=\"#000000\" d=\"M1593.3934,-192.9465C1582.9293,-181.491 1571.2553,-168.711 1560.778,-157.2412\"/>\n<polygon fill=\"#000000\" stroke=\"#000000\" points=\"1563.0738,-154.565 1553.7452,-149.5422 1557.9055,-159.2861 1563.0738,-154.565\"/>\n</g>\n<!-- 19 -->\n<g id=\"node20\" class=\"node\">\n<title>19</title>\n<polygon fill=\"#eb9f68\" stroke=\"#000000\" points=\"1806,-157 1633,-157 1633,-89 1806,-89 1806,-157\"/>\n<text text-anchor=\"middle\" x=\"1719.5\" y=\"-141.8\" font-family=\"Helvetica,sans-Serif\" font-size=\"14.00\" fill=\"#000000\">danceability &lt;= 0.465</text>\n<text text-anchor=\"middle\" x=\"1719.5\" y=\"-126.8\" font-family=\"Helvetica,sans-Serif\" font-size=\"14.00\" fill=\"#000000\">samples = 52</text>\n<text text-anchor=\"middle\" x=\"1719.5\" y=\"-111.8\" font-family=\"Helvetica,sans-Serif\" font-size=\"14.00\" fill=\"#000000\">value = [72.785, 17.221]</text>\n<text text-anchor=\"middle\" x=\"1719.5\" y=\"-96.8\" font-family=\"Helvetica,sans-Serif\" font-size=\"14.00\" fill=\"#000000\">class = popularity &lt; 50</text>\n</g>\n<!-- 17&#45;&gt;19 -->\n<g id=\"edge19\" class=\"edge\">\n<title>17&#45;&gt;19</title>\n<path fill=\"none\" stroke=\"#000000\" d=\"M1655.6066,-192.9465C1663.8901,-183.8782 1672.9318,-173.9799 1681.5379,-164.5585\"/>\n<polygon fill=\"#000000\" stroke=\"#000000\" points=\"1684.1633,-166.8739 1688.3236,-157.13 1678.995,-162.1528 1684.1633,-166.8739\"/>\n</g>\n<!-- 20 -->\n<g id=\"node21\" class=\"node\">\n<title>20</title>\n<polygon fill=\"#399de5\" stroke=\"#000000\" points=\"1710.5,-53 1540.5,-53 1540.5,0 1710.5,0 1710.5,-53\"/>\n<text text-anchor=\"middle\" x=\"1625.5\" y=\"-37.8\" font-family=\"Helvetica,sans-Serif\" font-size=\"14.00\" fill=\"#000000\">samples = 3</text>\n<text text-anchor=\"middle\" x=\"1625.5\" y=\"-22.8\" font-family=\"Helvetica,sans-Serif\" font-size=\"14.00\" fill=\"#000000\">value = [0.0, 1.781]</text>\n<text text-anchor=\"middle\" x=\"1625.5\" y=\"-7.8\" font-family=\"Helvetica,sans-Serif\" font-size=\"14.00\" fill=\"#000000\">class = popularity &gt;= 50</text>\n</g>\n<!-- 19&#45;&gt;20 -->\n<g id=\"edge20\" class=\"edge\">\n<title>19&#45;&gt;20</title>\n<path fill=\"none\" stroke=\"#000000\" d=\"M1686.3591,-88.9777C1677.3502,-79.7292 1667.5952,-69.7147 1658.5891,-60.4691\"/>\n<polygon fill=\"#000000\" stroke=\"#000000\" points=\"1661.0404,-57.9696 1651.5555,-53.2485 1656.0261,-62.8539 1661.0404,-57.9696\"/>\n</g>\n<!-- 21 -->\n<g id=\"node22\" class=\"node\">\n<title>21</title>\n<polygon fill=\"#eb9c63\" stroke=\"#000000\" points=\"1902,-53 1729,-53 1729,0 1902,0 1902,-53\"/>\n<text text-anchor=\"middle\" x=\"1815.5\" y=\"-37.8\" font-family=\"Helvetica,sans-Serif\" font-size=\"14.00\" fill=\"#000000\">samples = 49</text>\n<text text-anchor=\"middle\" x=\"1815.5\" y=\"-22.8\" font-family=\"Helvetica,sans-Serif\" font-size=\"14.00\" fill=\"#000000\">value = [72.785, 15.439]</text>\n<text text-anchor=\"middle\" x=\"1815.5\" y=\"-7.8\" font-family=\"Helvetica,sans-Serif\" font-size=\"14.00\" fill=\"#000000\">class = popularity &lt; 50</text>\n</g>\n<!-- 19&#45;&gt;21 -->\n<g id=\"edge21\" class=\"edge\">\n<title>19&#45;&gt;21</title>\n<path fill=\"none\" stroke=\"#000000\" d=\"M1753.346,-88.9777C1762.5466,-79.7292 1772.5092,-69.7147 1781.7069,-60.4691\"/>\n<polygon fill=\"#000000\" stroke=\"#000000\" points=\"1784.3187,-62.8064 1788.8901,-53.2485 1779.3561,-57.8695 1784.3187,-62.8064\"/>\n</g>\n<!-- 23 -->\n<g id=\"node24\" class=\"node\">\n<title>23</title>\n<polygon fill=\"#ea995e\" stroke=\"#000000\" points=\"2082,-157 1919,-157 1919,-89 2082,-89 2082,-157\"/>\n<text text-anchor=\"middle\" x=\"2000.5\" y=\"-141.8\" font-family=\"Helvetica,sans-Serif\" font-size=\"14.00\" fill=\"#000000\">acousticness &lt;= 0.057</text>\n<text text-anchor=\"middle\" x=\"2000.5\" y=\"-126.8\" font-family=\"Helvetica,sans-Serif\" font-size=\"14.00\" fill=\"#000000\">samples = 6</text>\n<text text-anchor=\"middle\" x=\"2000.5\" y=\"-111.8\" font-family=\"Helvetica,sans-Serif\" font-size=\"14.00\" fill=\"#000000\">value = [9.494, 1.781]</text>\n<text text-anchor=\"middle\" x=\"2000.5\" y=\"-96.8\" font-family=\"Helvetica,sans-Serif\" font-size=\"14.00\" fill=\"#000000\">class = popularity &lt; 50</text>\n</g>\n<!-- 22&#45;&gt;23 -->\n<g id=\"edge23\" class=\"edge\">\n<title>22&#45;&gt;23</title>\n<path fill=\"none\" stroke=\"#000000\" d=\"M2000.5,-192.9465C2000.5,-184.776 2000.5,-175.9318 2000.5,-167.3697\"/>\n<polygon fill=\"#000000\" stroke=\"#000000\" points=\"2004.0001,-167.13 2000.5,-157.13 1997.0001,-167.13 2004.0001,-167.13\"/>\n</g>\n<!-- 26 -->\n<g id=\"node27\" class=\"node\">\n<title>26</title>\n<polygon fill=\"#399de5\" stroke=\"#000000\" points=\"2270.5,-149.5 2100.5,-149.5 2100.5,-96.5 2270.5,-96.5 2270.5,-149.5\"/>\n<text text-anchor=\"middle\" x=\"2185.5\" y=\"-134.3\" font-family=\"Helvetica,sans-Serif\" font-size=\"14.00\" fill=\"#000000\">samples = 23</text>\n<text text-anchor=\"middle\" x=\"2185.5\" y=\"-119.3\" font-family=\"Helvetica,sans-Serif\" font-size=\"14.00\" fill=\"#000000\">value = [0.0, 13.658]</text>\n<text text-anchor=\"middle\" x=\"2185.5\" y=\"-104.3\" font-family=\"Helvetica,sans-Serif\" font-size=\"14.00\" fill=\"#000000\">class = popularity &gt;= 50</text>\n</g>\n<!-- 22&#45;&gt;26 -->\n<g id=\"edge26\" class=\"edge\">\n<title>22&#45;&gt;26</title>\n<path fill=\"none\" stroke=\"#000000\" d=\"M2061.0759,-192.9465C2083.119,-180.5547 2107.9189,-166.6132 2129.5437,-154.4565\"/>\n<polygon fill=\"#000000\" stroke=\"#000000\" points=\"2131.2837,-157.4935 2138.2856,-149.5422 2127.8534,-151.3916 2131.2837,-157.4935\"/>\n</g>\n<!-- 24 -->\n<g id=\"node25\" class=\"node\">\n<title>24</title>\n<polygon fill=\"#e58139\" stroke=\"#000000\" points=\"2081,-53 1920,-53 1920,0 2081,0 2081,-53\"/>\n<text text-anchor=\"middle\" x=\"2000.5\" y=\"-37.8\" font-family=\"Helvetica,sans-Serif\" font-size=\"14.00\" fill=\"#000000\">samples = 3</text>\n<text text-anchor=\"middle\" x=\"2000.5\" y=\"-22.8\" font-family=\"Helvetica,sans-Serif\" font-size=\"14.00\" fill=\"#000000\">value = [9.494, 0.0]</text>\n<text text-anchor=\"middle\" x=\"2000.5\" y=\"-7.8\" font-family=\"Helvetica,sans-Serif\" font-size=\"14.00\" fill=\"#000000\">class = popularity &lt; 50</text>\n</g>\n<!-- 23&#45;&gt;24 -->\n<g id=\"edge24\" class=\"edge\">\n<title>23&#45;&gt;24</title>\n<path fill=\"none\" stroke=\"#000000\" d=\"M2000.5,-88.9777C2000.5,-80.7364 2000.5,-71.887 2000.5,-63.5153\"/>\n<polygon fill=\"#000000\" stroke=\"#000000\" points=\"2004.0001,-63.2484 2000.5,-53.2485 1997.0001,-63.2485 2004.0001,-63.2484\"/>\n</g>\n<!-- 25 -->\n<g id=\"node26\" class=\"node\">\n<title>25</title>\n<polygon fill=\"#399de5\" stroke=\"#000000\" points=\"2269.5,-53 2099.5,-53 2099.5,0 2269.5,0 2269.5,-53\"/>\n<text text-anchor=\"middle\" x=\"2184.5\" y=\"-37.8\" font-family=\"Helvetica,sans-Serif\" font-size=\"14.00\" fill=\"#000000\">samples = 3</text>\n<text text-anchor=\"middle\" x=\"2184.5\" y=\"-22.8\" font-family=\"Helvetica,sans-Serif\" font-size=\"14.00\" fill=\"#000000\">value = [0.0, 1.781]</text>\n<text text-anchor=\"middle\" x=\"2184.5\" y=\"-7.8\" font-family=\"Helvetica,sans-Serif\" font-size=\"14.00\" fill=\"#000000\">class = popularity &gt;= 50</text>\n</g>\n<!-- 23&#45;&gt;25 -->\n<g id=\"edge25\" class=\"edge\">\n<title>23&#45;&gt;25</title>\n<path fill=\"none\" stroke=\"#000000\" d=\"M2065.3715,-88.9777C2084.7541,-78.8124 2105.9009,-67.7218 2124.9262,-57.7439\"/>\n<polygon fill=\"#000000\" stroke=\"#000000\" points=\"2126.56,-60.8392 2133.7903,-53.095 2123.3087,-54.6401 2126.56,-60.8392\"/>\n</g>\n</g>\n</svg>\n"
          },
          "metadata": {}
        }
      ]
    },
    {
      "cell_type": "code",
      "source": [
        "result = tree.feature_importances_\n",
        "print(\"변수의 중요도:\\n\", result)"
      ],
      "metadata": {
        "colab": {
          "base_uri": "https://localhost:8080/"
        },
        "id": "IOSZ0-Fghkod",
        "outputId": "32bbb980-ed29-4eef-c688-42ad0c0439e3"
      },
      "execution_count": 195,
      "outputs": [
        {
          "output_type": "stream",
          "name": "stdout",
          "text": [
            "변수의 중요도:\n",
            " [0.02702823 0.04274536 0.         0.         0.25842006 0.14415509\n",
            " 0.11388105 0.15518902 0.25858119]\n"
          ]
        }
      ]
    },
    {
      "cell_type": "code",
      "source": [
        "import numpy as np\n",
        "\n",
        "def plot_feature_importances_songs(model):\n",
        "    plt.rcParams[\"figure.figsize\"] = (9,6)\n",
        "    n_features = len(songs.columns[[4, 5, 6, 7, 8, 9, 10, 11, 12]])  # 9개 \n",
        "    plt.barh(np.arange(n_features), model.feature_importances_, align='center') \n",
        "    plt.yticks(np.arange(n_features), songs.columns[[4, 5, 6, 7, 8, 9, 10, 11, 12]])   # 9개의 눈금을 표시하고 눈금 레이블을 변수 이름으로 지정\n",
        "    plt.xlabel(\"feature importance\")\n",
        "    plt.ylabel(\"feature\")\n",
        "    plt.ylim(-1, n_features) #Y 축 범위 지정\n",
        "\n",
        "plot_feature_importances_songs(tree)\n",
        "\n",
        "#(0이라고 해서 중요하지 않은 것 아님)"
      ],
      "metadata": {
        "colab": {
          "base_uri": "https://localhost:8080/",
          "height": 388
        },
        "id": "bjEzHg5lhkxa",
        "outputId": "ae924d48-6161-47d3-a831-388dc04a385e"
      },
      "execution_count": 196,
      "outputs": [
        {
          "output_type": "display_data",
          "data": {
            "text/plain": [
              "<Figure size 648x432 with 1 Axes>"
            ],
            "image/png": "[encoded data removed]"
          },
          "metadata": {
            "needs_background": "light"
          }
        }
      ]
    },
    {
      "cell_type": "markdown",
      "source": [
        "### **3) 앙상블 모델: 랜덤 포레스트** ###"
      ],
      "metadata": {
        "id": "bbrh1w2Urcge"
      }
    },
    {
      "cell_type": "code",
      "source": [
        "from sklearn.ensemble import RandomForestClassifier\n",
        "\n",
        "# 30개 변수를 모두 이용하여 100개의 나무 생성 (정확도가 높아짐)\n",
        "forest = RandomForestClassifier(n_estimators=100, random_state=0)\n",
        "forest.fit(X_train, y_train)\n",
        "\n",
        "print(\"학습용 데이터 세트 정확도: {:.3f}\".format(forest.score(X_train, y_train)))\n",
        "print(\"시험용 데이터 세트 정확도: {:.3f}\".format(forest.score(X_test, y_test)))"
      ],
      "metadata": {
        "colab": {
          "base_uri": "https://localhost:8080/"
        },
        "id": "csvlP3b9hk4d",
        "outputId": "1aa38735-b391-4428-8d12-0161a614ab39"
      },
      "execution_count": 197,
      "outputs": [
        {
          "output_type": "stream",
          "name": "stdout",
          "text": [
            "학습용 데이터 세트 정확도: 1.000\n",
            "시험용 데이터 세트 정확도: 0.832\n"
          ]
        }
      ]
    },
    {
      "cell_type": "code",
      "source": [
        "# 단일 의사결정나무의 경우보다 많은 변수(feature)들이 사용됨\n",
        "plot_feature_importances_songs(forest)"
      ],
      "metadata": {
        "colab": {
          "base_uri": "https://localhost:8080/",
          "height": 388
        },
        "id": "E6OkAucVhk_6",
        "outputId": "62609642-54a0-4e82-db6f-fe67d50ba02a"
      },
      "execution_count": 198,
      "outputs": [
        {
          "output_type": "display_data",
          "data": {
            "text/plain": [
              "<Figure size 648x432 with 1 Axes>"
            ],
            "image/png": "[encoded data removed]"
          },
          "metadata": {
            "needs_background": "light"
          }
        }
      ]
    },
    {
      "cell_type": "code",
      "source": [
        "from sklearn.model_selection import cross_val_score\n",
        "\n",
        "# 교차 검증을 10번 수행하여 10번의 교차 검증 평균 정확도를 비교 (10-fold cross validation)\n",
        "# default cv=5\n",
        "\n",
        "dt_scores = cross_val_score(tree, X_train, y_train, cv=10, scoring='accuracy')  \n",
        "rf_scores = cross_val_score(forest, X_train, y_train, cv=10, scoring='accuracy')\n",
        "\n",
        "print(\"Accuracy\")\n",
        "print(\"Decision tree: \", dt_scores) \n",
        "print(\"Random forest: \", rf_scores) \n",
        "\n",
        "print(\"Accuracy mean\")\n",
        "print(\"Decision tree :{:.3f}\".format(dt_scores.mean()))\n",
        "print(\"Random forest :{:.3f}\".format(rf_scores.mean()))"
      ],
      "metadata": {
        "colab": {
          "base_uri": "https://localhost:8080/"
        },
        "id": "zMxqZphRjmZR",
        "outputId": "d57d861a-ca89-406f-eb91-34b8983022ce"
      },
      "execution_count": 199,
      "outputs": [
        {
          "output_type": "stream",
          "name": "stdout",
          "text": [
            "Accuracy\n",
            "Decision tree:  [0.6        0.63333333 0.7        0.71333333 0.52666667 0.33333333\n",
            " 0.67333333 0.73333333 0.61333333 0.44666667]\n",
            "Random forest:  [0.84666667 0.85333333 0.86       0.84       0.84       0.84666667\n",
            " 0.84       0.84666667 0.83333333 0.84      ]\n",
            "Accuracy mean\n",
            "Decision tree :0.597\n",
            "Random forest :0.845\n"
          ]
        }
      ]
    },
    {
      "cell_type": "code",
      "source": [
        "cv_list = [    \n",
        "            ['decision_tree',dt_scores],\n",
        "            ['random_forest',rf_scores],\n",
        "          ]\n",
        "df = pd.DataFrame.from_dict(dict(cv_list))\n",
        "df.plot()"
      ],
      "metadata": {
        "colab": {
          "base_uri": "https://localhost:8080/",
          "height": 392
        },
        "id": "CqfzV8qwjyGa",
        "outputId": "df8c5756-a482-44b1-cf8f-2c8572d15f1e"
      },
      "execution_count": 200,
      "outputs": [
        {
          "output_type": "execute_result",
          "data": {
            "text/plain": [
              "<matplotlib.axes._subplots.AxesSubplot at 0x7f9139b3b070>"
            ]
          },
          "metadata": {},
          "execution_count": 200
        },
        {
          "output_type": "display_data",
          "data": {
            "text/plain": [
              "<Figure size 648x432 with 1 Axes>"
            ],
            "image/png": "[encoded data removed]"
          },
          "metadata": {
            "needs_background": "light"
          }
        }
      ]
    },
    {
      "cell_type": "markdown",
      "source": [
        "### **4) 앙상블 모델: 그래디언트 부스팅** ###"
      ],
      "metadata": {
        "id": "ytlLhSq7rvpt"
      }
    },
    {
      "cell_type": "code",
      "source": [
        "from sklearn.ensemble import GradientBoostingClassifier\n",
        "# 기본값은 max_depth= 3, n_estimators=100, learning_rate = 0.1\n",
        "\n",
        "gbrt = GradientBoostingClassifier(random_state=0)\n",
        "gbrt.fit(X_train, y_train)"
      ],
      "metadata": {
        "colab": {
          "base_uri": "https://localhost:8080/"
        },
        "id": "z8nJJ5g7jyOM",
        "outputId": "5e28616d-f437-4f60-86d4-15ffbc183be0"
      },
      "execution_count": 201,
      "outputs": [
        {
          "output_type": "execute_result",
          "data": {
            "text/plain": [
              "GradientBoostingClassifier(random_state=0)"
            ]
          },
          "metadata": {},
          "execution_count": 201
        }
      ]
    },
    {
      "cell_type": "code",
      "source": [
        "print(\"학습용 데이터 세트 정확도: {:.3f}\".format(gbrt.score(X_train, y_train)))\n",
        "print(\"시험용 데이터 세트 정확도: {:.3f}\".format(gbrt.score(X_test, y_test)))"
      ],
      "metadata": {
        "colab": {
          "base_uri": "https://localhost:8080/"
        },
        "id": "kF51yozijyW7",
        "outputId": "338ad43f-9c24-4482-aea5-d7be42aab1a0"
      },
      "execution_count": 202,
      "outputs": [
        {
          "output_type": "stream",
          "name": "stdout",
          "text": [
            "학습용 데이터 세트 정확도: 0.870\n",
            "시험용 데이터 세트 정확도: 0.832\n"
          ]
        }
      ]
    },
    {
      "cell_type": "code",
      "source": [
        "plot_feature_importances_songs(gbrt)"
      ],
      "metadata": {
        "colab": {
          "base_uri": "https://localhost:8080/",
          "height": 388
        },
        "id": "nFPGTJisjmlL",
        "outputId": "7e41b636-4cae-4aad-fb79-bdd54099c476"
      },
      "execution_count": 203,
      "outputs": [
        {
          "output_type": "display_data",
          "data": {
            "text/plain": [
              "<Figure size 648x432 with 1 Axes>"
            ],
            "image/png": "[encoded data removed]"
          },
          "metadata": {
            "needs_background": "light"
          }
        }
      ]
    },
    {
      "cell_type": "code",
      "source": [
        "#나무 깊이 제한\n",
        "gbrt = GradientBoostingClassifier(random_state=0, max_depth=2)\n",
        "gbrt.fit(X_train, y_train)\n",
        "\n",
        "print(\"학습 데이터 세트 정확도: {:.3f}\".format(gbrt.score(X_train, y_train)))\n",
        "print(\"시험용 데이터 세트 정확도: {:.3f}\".format(gbrt.score(X_test, y_test)))"
      ],
      "metadata": {
        "colab": {
          "base_uri": "https://localhost:8080/"
        },
        "id": "T5VgOvFzol4r",
        "outputId": "42440d13-c14b-46d8-a1f2-ced9894261d0"
      },
      "execution_count": 204,
      "outputs": [
        {
          "output_type": "stream",
          "name": "stdout",
          "text": [
            "학습 데이터 세트 정확도: 0.852\n",
            "시험용 데이터 세트 정확도: 0.834\n"
          ]
        }
      ]
    },
    {
      "cell_type": "code",
      "source": [
        "#학습률 감소\n",
        "gbrt = GradientBoostingClassifier(random_state=0, learning_rate=0.01)\n",
        "gbrt.fit(X_train, y_train)\n",
        "\n",
        "print(\"학습 데이터 세트 정확도: {:.3f}\".format(gbrt.score(X_train, y_train)))\n",
        "print(\"시험용 데이터 세트 정확도: {:.3f}\".format(gbrt.score(X_test, y_test)))"
      ],
      "metadata": {
        "colab": {
          "base_uri": "https://localhost:8080/"
        },
        "id": "17ijpt3hpOJw",
        "outputId": "b1beb717-c15a-4c60-f262-35d2b82b0999"
      },
      "execution_count": 205,
      "outputs": [
        {
          "output_type": "stream",
          "name": "stdout",
          "text": [
            "학습 데이터 세트 정확도: 0.843\n",
            "시험용 데이터 세트 정확도: 0.834\n"
          ]
        }
      ]
    },
    {
      "cell_type": "markdown",
      "source": [
        "### **5) 분류모델 평가** ###"
      ],
      "metadata": {
        "id": "VtjOdiQisMdP"
      }
    },
    {
      "cell_type": "markdown",
      "source": [
        "### 분류 모델 선택 및 평가 결과\n",
        "\n",
        "* 선택한 평가: Accuracy(정확도) \n",
        "* 최적의 분류모델: 그래디언트 부스팅\n",
        "\n",
        "교차검증을 시도한 결과, 랜덤 포레스트 모델에서 0.994의 가장 높은 정확도를\n",
        "보였으며, 정오 분류표에서도 정확도가 0.993으로 가장 높은 결과를 도출했기에 최적의 분류모델로 판단했다."
      ],
      "metadata": {
        "id": "0iLQ6WGEsXT7"
      }
    },
    {
      "cell_type": "markdown",
      "source": [
        "#### 1. 교차검증"
      ],
      "metadata": {
        "id": "OHKeEQ78yNUD"
      }
    },
    {
      "cell_type": "code",
      "source": [
        "# 교차 검증을 10번 수행하여 10번의 교차 검증 평균 정확도를 비교 (10-fold cross validation)\n",
        "\n",
        "dt_scores = cross_val_score(tree, X_train, y_train, cv=10, scoring='accuracy')  \n",
        "rf_scores = cross_val_score(forest, X_train, y_train, cv=10, scoring='accuracy')\n",
        "gbrt_scores = cross_val_score(gbrt, X_train, y_train, cv=10, scoring='accuracy')\n",
        "\n",
        "print(\"Accuracy\")\n",
        "print(\"Decision tree: \", dt_scores) \n",
        "print(\"Random forest: \", rf_scores) \n",
        "print(\"Gradient boosting: \", gbrt_scores) \n",
        "\n",
        "print(\"Accuracy mean\")\n",
        "print(\"Decision tree :{:.3f}\".format(dt_scores.mean())) \n",
        "print(\"Random forest :{:.3f}\".format(rf_scores.mean()))\n",
        "print(\"Gradient boosting :{:.3f}\".format(gbrt_scores.mean()))"
      ],
      "metadata": {
        "colab": {
          "base_uri": "https://localhost:8080/"
        },
        "id": "oApt1giNpOSd",
        "outputId": "41a2e202-2330-4fa8-98d4-2404a90bdfb5"
      },
      "execution_count": 206,
      "outputs": [
        {
          "output_type": "stream",
          "name": "stdout",
          "text": [
            "Accuracy\n",
            "Decision tree:  [0.6        0.63333333 0.7        0.71333333 0.52666667 0.33333333\n",
            " 0.67333333 0.73333333 0.61333333 0.44666667]\n",
            "Random forest:  [0.84666667 0.85333333 0.86       0.84       0.84       0.84666667\n",
            " 0.84       0.84666667 0.83333333 0.84      ]\n",
            "Gradient boosting:  [0.84666667 0.84666667 0.84666667 0.84       0.84       0.84\n",
            " 0.84       0.84       0.84       0.84      ]\n",
            "Accuracy mean\n",
            "Decision tree :0.597\n",
            "Random forest :0.845\n",
            "Gradient boosting :0.842\n"
          ]
        }
      ]
    },
    {
      "cell_type": "markdown",
      "source": [
        "#### 2. 그리드 서치"
      ],
      "metadata": {
        "id": "-FZ36XlSySA3"
      }
    },
    {
      "cell_type": "code",
      "source": [
        "from sklearn.model_selection import GridSearchCV\n",
        "\n",
        "# 파라미터를 dictionary 형태로 설정\n",
        "parameters = {'max_depth':[1,2,3], 'learning_rate':[0.1,0.08, 0.06, 0.04, 0.02]}"
      ],
      "metadata": {
        "id": "FuvR2WpfpOWH"
      },
      "execution_count": 207,
      "outputs": []
    },
    {
      "cell_type": "code",
      "source": [
        "# param_grid의 파라미터들을 3개의 fold 로 나누어 검증\n",
        "# refit=True (기본값): 가장 좋은 파라미터 설정으로 재학습  \n",
        "init_gbrt = GradientBoostingClassifier(random_state=0)\n",
        "grid_gbrt = GridSearchCV(init_gbrt, param_grid=parameters, cv=3, refit=True)\n",
        "print(grid_gbrt)\n",
        "# 파라미터들을 순차적으로 학습, 검증\n",
        "grid_gbrt.fit(X_train, y_train)\n",
        "\n",
        "# GridSearchCV 결과 추출하여 DataFrame으로 변환\n",
        "scores_df = pd.DataFrame(grid_gbrt.cv_results_)\n",
        "scores_df[['params', 'mean_test_score', 'rank_test_score', 'split0_test_score', 'split1_test_score', 'split2_test_score']]"
      ],
      "metadata": {
        "colab": {
          "base_uri": "https://localhost:8080/",
          "height": 574
        },
        "id": "morhJ6o_tpOp",
        "outputId": "f1eeebd4-bc5f-4a80-c920-735799e31bdb"
      },
      "execution_count": 208,
      "outputs": [
        {
          "output_type": "stream",
          "name": "stdout",
          "text": [
            "GridSearchCV(cv=3, estimator=GradientBoostingClassifier(random_state=0),\n",
            "             param_grid={'learning_rate': [0.1, 0.08, 0.06, 0.04, 0.02],\n",
            "                         'max_depth': [1, 2, 3]})\n"
          ]
        },
        {
          "output_type": "execute_result",
          "data": {
            "text/plain": [
              "                                     params  mean_test_score  rank_test_score  \\\n",
              "0    {'learning_rate': 0.1, 'max_depth': 1}         0.841333                8   \n",
              "1    {'learning_rate': 0.1, 'max_depth': 2}         0.843333                1   \n",
              "2    {'learning_rate': 0.1, 'max_depth': 3}         0.836000               15   \n",
              "3   {'learning_rate': 0.08, 'max_depth': 1}         0.841333                8   \n",
              "4   {'learning_rate': 0.08, 'max_depth': 2}         0.840667               11   \n",
              "5   {'learning_rate': 0.08, 'max_depth': 3}         0.838000               13   \n",
              "6   {'learning_rate': 0.06, 'max_depth': 1}         0.842000                3   \n",
              "7   {'learning_rate': 0.06, 'max_depth': 2}         0.841333                8   \n",
              "8   {'learning_rate': 0.06, 'max_depth': 3}         0.837333               14   \n",
              "9   {'learning_rate': 0.04, 'max_depth': 1}         0.842000                3   \n",
              "10  {'learning_rate': 0.04, 'max_depth': 2}         0.842667                2   \n",
              "11  {'learning_rate': 0.04, 'max_depth': 3}         0.842000                3   \n",
              "12  {'learning_rate': 0.02, 'max_depth': 1}         0.842000                3   \n",
              "13  {'learning_rate': 0.02, 'max_depth': 2}         0.842000                3   \n",
              "14  {'learning_rate': 0.02, 'max_depth': 3}         0.840000               12   \n",
              "\n",
              "    split0_test_score  split1_test_score  split2_test_score  \n",
              "0               0.840              0.842              0.842  \n",
              "1               0.842              0.844              0.844  \n",
              "2               0.840              0.838              0.830  \n",
              "3               0.840              0.842              0.842  \n",
              "4               0.840              0.844              0.838  \n",
              "5               0.836              0.844              0.834  \n",
              "6               0.842              0.842              0.842  \n",
              "7               0.842              0.842              0.840  \n",
              "8               0.840              0.838              0.834  \n",
              "9               0.842              0.842              0.842  \n",
              "10              0.840              0.842              0.846  \n",
              "11              0.844              0.842              0.840  \n",
              "12              0.842              0.842              0.842  \n",
              "13              0.842              0.842              0.842  \n",
              "14              0.840              0.842              0.838  "
            ],
            "text/html": [
              "\n",
              "  <div id=\"df-6fcfeae0-58ba-41c7-ac5a-01cd5dec6b84\">\n",
              "    <div class=\"colab-df-container\">\n",
              "      <div>\n",
              "<style scoped>\n",
              "    .dataframe tbody tr th:only-of-type {\n",
              "        vertical-align: middle;\n",
              "    }\n",
              "\n",
              "    .dataframe tbody tr th {\n",
              "        vertical-align: top;\n",
              "    }\n",
              "\n",
              "    .dataframe thead th {\n",
              "        text-align: right;\n",
              "    }\n",
              "</style>\n",
              "<table border=\"1\" class=\"dataframe\">\n",
              "  <thead>\n",
              "    <tr style=\"text-align: right;\">\n",
              "      <th></th>\n",
              "      <th>params</th>\n",
              "      <th>mean_test_score</th>\n",
              "      <th>rank_test_score</th>\n",
              "      <th>split0_test_score</th>\n",
              "      <th>split1_test_score</th>\n",
              "      <th>split2_test_score</th>\n",
              "    </tr>\n",
              "  </thead>\n",
              "  <tbody>\n",
              "    <tr>\n",
              "      <th>0</th>\n",
              "      <td>{'learning_rate': 0.1, 'max_depth': 1}</td>\n",
              "      <td>0.841333</td>\n",
              "      <td>8</td>\n",
              "      <td>0.840</td>\n",
              "      <td>0.842</td>\n",
              "      <td>0.842</td>\n",
              "    </tr>\n",
              "    <tr>\n",
              "      <th>1</th>\n",
              "      <td>{'learning_rate': 0.1, 'max_depth': 2}</td>\n",
              "      <td>0.843333</td>\n",
              "      <td>1</td>\n",
              "      <td>0.842</td>\n",
              "      <td>0.844</td>\n",
              "      <td>0.844</td>\n",
              "    </tr>\n",
              "    <tr>\n",
              "      <th>2</th>\n",
              "      <td>{'learning_rate': 0.1, 'max_depth': 3}</td>\n",
              "      <td>0.836000</td>\n",
              "      <td>15</td>\n",
              "      <td>0.840</td>\n",
              "      <td>0.838</td>\n",
              "      <td>0.830</td>\n",
              "    </tr>\n",
              "    <tr>\n",
              "      <th>3</th>\n",
              "      <td>{'learning_rate': 0.08, 'max_depth': 1}</td>\n",
              "      <td>0.841333</td>\n",
              "      <td>8</td>\n",
              "      <td>0.840</td>\n",
              "      <td>0.842</td>\n",
              "      <td>0.842</td>\n",
              "    </tr>\n",
              "    <tr>\n",
              "      <th>4</th>\n",
              "      <td>{'learning_rate': 0.08, 'max_depth': 2}</td>\n",
              "      <td>0.840667</td>\n",
              "      <td>11</td>\n",
              "      <td>0.840</td>\n",
              "      <td>0.844</td>\n",
              "      <td>0.838</td>\n",
              "    </tr>\n",
              "    <tr>\n",
              "      <th>5</th>\n",
              "      <td>{'learning_rate': 0.08, 'max_depth': 3}</td>\n",
              "      <td>0.838000</td>\n",
              "      <td>13</td>\n",
              "      <td>0.836</td>\n",
              "      <td>0.844</td>\n",
              "      <td>0.834</td>\n",
              "    </tr>\n",
              "    <tr>\n",
              "      <th>6</th>\n",
              "      <td>{'learning_rate': 0.06, 'max_depth': 1}</td>\n",
              "      <td>0.842000</td>\n",
              "      <td>3</td>\n",
              "      <td>0.842</td>\n",
              "      <td>0.842</td>\n",
              "      <td>0.842</td>\n",
              "    </tr>\n",
              "    <tr>\n",
              "      <th>7</th>\n",
              "      <td>{'learning_rate': 0.06, 'max_depth': 2}</td>\n",
              "      <td>0.841333</td>\n",
              "      <td>8</td>\n",
              "      <td>0.842</td>\n",
              "      <td>0.842</td>\n",
              "      <td>0.840</td>\n",
              "    </tr>\n",
              "    <tr>\n",
              "      <th>8</th>\n",
              "      <td>{'learning_rate': 0.06, 'max_depth': 3}</td>\n",
              "      <td>0.837333</td>\n",
              "      <td>14</td>\n",
              "      <td>0.840</td>\n",
              "      <td>0.838</td>\n",
              "      <td>0.834</td>\n",
              "    </tr>\n",
              "    <tr>\n",
              "      <th>9</th>\n",
              "      <td>{'learning_rate': 0.04, 'max_depth': 1}</td>\n",
              "      <td>0.842000</td>\n",
              "      <td>3</td>\n",
              "      <td>0.842</td>\n",
              "      <td>0.842</td>\n",
              "      <td>0.842</td>\n",
              "    </tr>\n",
              "    <tr>\n",
              "      <th>10</th>\n",
              "      <td>{'learning_rate': 0.04, 'max_depth': 2}</td>\n",
              "      <td>0.842667</td>\n",
              "      <td>2</td>\n",
              "      <td>0.840</td>\n",
              "      <td>0.842</td>\n",
              "      <td>0.846</td>\n",
              "    </tr>\n",
              "    <tr>\n",
              "      <th>11</th>\n",
              "      <td>{'learning_rate': 0.04, 'max_depth': 3}</td>\n",
              "      <td>0.842000</td>\n",
              "      <td>3</td>\n",
              "      <td>0.844</td>\n",
              "      <td>0.842</td>\n",
              "      <td>0.840</td>\n",
              "    </tr>\n",
              "    <tr>\n",
              "      <th>12</th>\n",
              "      <td>{'learning_rate': 0.02, 'max_depth': 1}</td>\n",
              "      <td>0.842000</td>\n",
              "      <td>3</td>\n",
              "      <td>0.842</td>\n",
              "      <td>0.842</td>\n",
              "      <td>0.842</td>\n",
              "    </tr>\n",
              "    <tr>\n",
              "      <th>13</th>\n",
              "      <td>{'learning_rate': 0.02, 'max_depth': 2}</td>\n",
              "      <td>0.842000</td>\n",
              "      <td>3</td>\n",
              "      <td>0.842</td>\n",
              "      <td>0.842</td>\n",
              "      <td>0.842</td>\n",
              "    </tr>\n",
              "    <tr>\n",
              "      <th>14</th>\n",
              "      <td>{'learning_rate': 0.02, 'max_depth': 3}</td>\n",
              "      <td>0.840000</td>\n",
              "      <td>12</td>\n",
              "      <td>0.840</td>\n",
              "      <td>0.842</td>\n",
              "      <td>0.838</td>\n",
              "    </tr>\n",
              "  </tbody>\n",
              "</table>\n",
              "</div>\n",
              "      <button class=\"colab-df-convert\" onclick=\"convertToInteractive('df-6fcfeae0-58ba-41c7-ac5a-01cd5dec6b84')\"\n",
              "              title=\"Convert this dataframe to an interactive table.\"\n",
              "              style=\"display:none;\">\n",
              "        \n",
              "  <svg xmlns=\"http://www.w3.org/2000/svg\" height=\"24px\"viewBox=\"0 0 24 24\"\n",
              "       width=\"24px\">\n",
              "    <path d=\"M0 0h24v24H0V0z\" fill=\"none\"/>\n",
              "    <path d=\"M18.56 5.44l.94 2.06.94-2.06 2.06-.94-2.06-.94-.94-2.06-.94 2.06-2.06.94zm-11 1L8.5 8.5l.94-2.06 2.06-.94-2.06-.94L8.5 2.5l-.94 2.06-2.06.94zm10 10l.94 2.06.94-2.06 2.06-.94-2.06-.94-.94-2.06-.94 2.06-2.06.94z\"/><path d=\"M17.41 7.96l-1.37-1.37c-.4-.4-.92-.59-1.43-.59-.52 0-1.04.2-1.43.59L10.3 9.45l-7.72 7.72c-.78.78-.78 2.05 0 2.83L4 21.41c.39.39.9.59 1.41.59.51 0 1.02-.2 1.41-.59l7.78-7.78 2.81-2.81c.8-.78.8-2.07 0-2.86zM5.41 20L4 18.59l7.72-7.72 1.47 1.35L5.41 20z\"/>\n",
              "  </svg>\n",
              "      </button>\n",
              "      \n",
              "  <style>\n",
              "    .colab-df-container {\n",
              "      display:flex;\n",
              "      flex-wrap:wrap;\n",
              "      gap: 12px;\n",
              "    }\n",
              "\n",
              "    .colab-df-convert {\n",
              "      background-color: #E8F0FE;\n",
              "      border: none;\n",
              "      border-radius: 50%;\n",
              "      cursor: pointer;\n",
              "      display: none;\n",
              "      fill: #1967D2;\n",
              "      height: 32px;\n",
              "      padding: 0 0 0 0;\n",
              "      width: 32px;\n",
              "    }\n",
              "\n",
              "    .colab-df-convert:hover {\n",
              "      background-color: #E2EBFA;\n",
              "      box-shadow: 0px 1px 2px rgba(60, 64, 67, 0.3), 0px 1px 3px 1px rgba(60, 64, 67, 0.15);\n",
              "      fill: #174EA6;\n",
              "    }\n",
              "\n",
              "    [theme=dark] .colab-df-convert {\n",
              "      background-color: #3B4455;\n",
              "      fill: #D2E3FC;\n",
              "    }\n",
              "\n",
              "    [theme=dark] .colab-df-convert:hover {\n",
              "      background-color: #434B5C;\n",
              "      box-shadow: 0px 1px 3px 1px rgba(0, 0, 0, 0.15);\n",
              "      filter: drop-shadow(0px 1px 2px rgba(0, 0, 0, 0.3));\n",
              "      fill: #FFFFFF;\n",
              "    }\n",
              "  </style>\n",
              "\n",
              "      <script>\n",
              "        const buttonEl =\n",
              "          document.querySelector('#df-6fcfeae0-58ba-41c7-ac5a-01cd5dec6b84 button.colab-df-convert');\n",
              "        buttonEl.style.display =\n",
              "          google.colab.kernel.accessAllowed ? 'block' : 'none';\n",
              "\n",
              "        async function convertToInteractive(key) {\n",
              "          const element = document.querySelector('#df-6fcfeae0-58ba-41c7-ac5a-01cd5dec6b84');\n",
              "          const dataTable =\n",
              "            await google.colab.kernel.invokeFunction('convertToInteractive',\n",
              "                                                     [key], {});\n",
              "          if (!dataTable) return;\n",
              "\n",
              "          const docLinkHtml = 'Like what you see? Visit the ' +\n",
              "            '<a target=\"_blank\" href=https://colab.research.google.com/notebooks/data_table.ipynb>data table notebook</a>'\n",
              "            + ' to learn more about interactive tables.';\n",
              "          element.innerHTML = '';\n",
              "          dataTable['output_type'] = 'display_data';\n",
              "          await google.colab.output.renderOutput(dataTable, element);\n",
              "          const docLink = document.createElement('div');\n",
              "          docLink.innerHTML = docLinkHtml;\n",
              "          element.appendChild(docLink);\n",
              "        }\n",
              "      </script>\n",
              "    </div>\n",
              "  </div>\n",
              "  "
            ]
          },
          "metadata": {},
          "execution_count": 208
        }
      ]
    },
    {
      "cell_type": "code",
      "source": [
        "# 최적 파라미터로 학습이 된 모델을 이용하여 시험용 데이터 세트 분류\n",
        "print(\"시험용 데이터 세트 정확도: {:.3f}\".format(grid_gbrt.score(X_test, y_test)))"
      ],
      "metadata": {
        "colab": {
          "base_uri": "https://localhost:8080/"
        },
        "id": "OKwXSO48tubZ",
        "outputId": "38c085dc-9153-4e19-cba7-77fd22f57522"
      },
      "execution_count": 209,
      "outputs": [
        {
          "output_type": "stream",
          "name": "stdout",
          "text": [
            "시험용 데이터 세트 정확도: 0.834\n"
          ]
        }
      ]
    },
    {
      "cell_type": "markdown",
      "source": [
        "#### 3. 모델평가지표: 정오분류표"
      ],
      "metadata": {
        "id": "TVznYivcz2mp"
      }
    },
    {
      "cell_type": "code",
      "source": [
        "from sklearn.metrics import accuracy_score, precision_score, recall_score, f1_score\n",
        "from sklearn.metrics import confusion_matrix \n",
        "\n",
        "print(y_test.value_counts()) # y_test 의 B,M 분포\n",
        "\n",
        "dt_pred = tree.predict(X_test)\n",
        "rf_pred = forest.predict(X_test)\n",
        "grid_gbrt_pred = grid_gbrt.predict(X_test)\n",
        "\n",
        "# 예측 결과인 pred와 실제 결과인 y_test의 Confusion Matrix 출력\n",
        "print('Decision tree 시험용 데이터 세트 정확도:{:.3f}'.format(accuracy_score(y_test, dt_pred)))\n",
        "print(confusion_matrix(y_test, dt_pred))\n",
        "print('Random forest 시험용 데이터 세트 정확도:{:.3f}'.format(accuracy_score(y_test, rf_pred)))\n",
        "print(confusion_matrix(y_test, rf_pred))\n",
        "print('Gradient boosting 시험용 데이터 세트 정확도:{:.3f}'.format(accuracy_score(y_test, grid_gbrt_pred)))\n",
        "print(confusion_matrix(y_test, grid_gbrt_pred))"
      ],
      "metadata": {
        "colab": {
          "base_uri": "https://localhost:8080/"
        },
        "id": "blG6bifQtEPf",
        "outputId": "9a7a4a36-3ed2-45e4-8a97-fca9dfd858b5"
      },
      "execution_count": 210,
      "outputs": [
        {
          "output_type": "stream",
          "name": "stdout",
          "text": [
            "Yes    418\n",
            "No      82\n",
            "Name: popularity, dtype: int64\n",
            "Decision tree 시험용 데이터 세트 정확도:0.708\n",
            "[[ 17  65]\n",
            " [ 81 337]]\n",
            "Random forest 시험용 데이터 세트 정확도:0.832\n",
            "[[  2  80]\n",
            " [  4 414]]\n",
            "Gradient boosting 시험용 데이터 세트 정확도:0.834\n",
            "[[  0  82]\n",
            " [  1 417]]\n"
          ]
        }
      ]
    },
    {
      "cell_type": "code",
      "source": [
        "from sklearn.metrics import classification_report\n",
        "\n",
        "# 각 클래스가 Positive일 때의 정밀도, 재현율, f1 값을 보여줌 (\"M\"이 Postivit인 경우가 기본값임)\n",
        "# macro avg는 클래스별 점수의 평균을 계산\n",
        "# weighted avg는 클래스의 샘플 수로 가중평균을 계산\n",
        "print(\"Decision Tree:\")\n",
        "print(classification_report(y_test, dt_pred, target_names=[\"No\", \"Yes\"]))\n",
        "print(\"Random Forest:\")\n",
        "print(classification_report(y_test, rf_pred, target_names=[\"No\", \"Yes\"]))\n",
        "print(\"Gradient Boosting:\")\n",
        "print(classification_report(y_test, grid_gbrt_pred, target_names=[\"No\", \"Yes\"]))"
      ],
      "metadata": {
        "colab": {
          "base_uri": "https://localhost:8080/"
        },
        "id": "x8XbWTFUtHsz",
        "outputId": "4d6dcef4-e36b-4b70-df08-235358e36248"
      },
      "execution_count": 211,
      "outputs": [
        {
          "output_type": "stream",
          "name": "stdout",
          "text": [
            "Decision Tree:\n",
            "              precision    recall  f1-score   support\n",
            "\n",
            "          No       0.17      0.21      0.19        82\n",
            "         Yes       0.84      0.81      0.82       418\n",
            "\n",
            "    accuracy                           0.71       500\n",
            "   macro avg       0.51      0.51      0.51       500\n",
            "weighted avg       0.73      0.71      0.72       500\n",
            "\n",
            "Random Forest:\n",
            "              precision    recall  f1-score   support\n",
            "\n",
            "          No       0.33      0.02      0.05        82\n",
            "         Yes       0.84      0.99      0.91       418\n",
            "\n",
            "    accuracy                           0.83       500\n",
            "   macro avg       0.59      0.51      0.48       500\n",
            "weighted avg       0.76      0.83      0.77       500\n",
            "\n",
            "Gradient Boosting:\n",
            "              precision    recall  f1-score   support\n",
            "\n",
            "          No       0.00      0.00      0.00        82\n",
            "         Yes       0.84      1.00      0.91       418\n",
            "\n",
            "    accuracy                           0.83       500\n",
            "   macro avg       0.42      0.50      0.45       500\n",
            "weighted avg       0.70      0.83      0.76       500\n",
            "\n"
          ]
        }
      ]
    },
    {
      "cell_type": "markdown",
      "source": [
        "### **인사이트 도출**"
      ],
      "metadata": {
        "id": "hxqbWch12wPw"
      }
    },
    {
      "cell_type": "markdown",
      "source": [
        "##**Step 3. 군집분석**\n"
      ],
      "metadata": {
        "id": "LPf6gjuy9y6f"
      }
    }
  ],
  "metadata": {
    "colab": {
      "collapsed_sections": [
        "-R6ujoIuqiNU"
      ],
      "provenance": [],
      "toc_visible": true,
      "include_colab_link": true
    },
    "kernelspec": {
      "display_name": "Python 3",
      "name": "python3"
    },
    "language_info": {
      "name": "python"
    }
  },
  "nbformat": 4,
  "nbformat_minor": 0
}