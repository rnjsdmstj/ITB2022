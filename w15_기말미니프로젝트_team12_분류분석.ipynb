{
  "cells": [
    {
      "cell_type": "markdown",
      "metadata": {
        "id": "view-in-github",
        "colab_type": "text"
      },
      "source": [
        "<a href=\"https://colab.research.google.com/github/rnjsdmstj/ITB2022/blob/main/w15_%EA%B8%B0%EB%A7%90%EB%AF%B8%EB%8B%88%ED%94%84%EB%A1%9C%EC%A0%9D%ED%8A%B8_team12_%EB%B6%84%EB%A5%98%EB%B6%84%EC%84%9D.ipynb\" target=\"_parent\"><img src=\"https://colab.research.google.com/assets/colab-badge.svg\" alt=\"Open In Colab\"/></a>"
      ]
    },
    {
      "cell_type": "markdown",
      "metadata": {
        "id": "h_bvLOVLGej6"
      },
      "source": [
        "# **22-2 ITB 기말 미니 프로젝트**\n",
        "\n",
        "\n",
        "**팀명: 12조**\n",
        "\n",
        "**팀원: 숙명여자대학교 홍보광고학과 이지우, 경영학부 권은서, 미디어학부 김민서**"
      ]
    },
    {
      "cell_type": "markdown",
      "metadata": {
        "id": "-R6ujoIuqiNU"
      },
      "source": [
        "필수 실행 코드\n",
        "\n"
      ]
    },
    {
      "cell_type": "code",
      "execution_count": 77,
      "metadata": {
        "id": "vU3tFJEAPlbS",
        "colab": {
          "base_uri": "https://localhost:8080/"
        },
        "outputId": "a717806b-0441-4520-8b60-d5863ec2d552"
      },
      "outputs": [
        {
          "output_type": "stream",
          "name": "stdout",
          "text": [
            "Reading package lists... Done\n",
            "Building dependency tree       \n",
            "Reading state information... Done\n",
            "fonts-nanum is already the newest version (20170925-1).\n",
            "The following package was automatically installed and is no longer required:\n",
            "  libnvidia-common-460\n",
            "Use 'sudo apt autoremove' to remove it.\n",
            "0 upgraded, 0 newly installed, 0 to remove and 7 not upgraded.\n",
            "/usr/share/fonts: caching, new cache contents: 0 fonts, 1 dirs\n",
            "/usr/share/fonts/truetype: caching, new cache contents: 0 fonts, 3 dirs\n",
            "/usr/share/fonts/truetype/humor-sans: caching, new cache contents: 1 fonts, 0 dirs\n",
            "/usr/share/fonts/truetype/liberation: caching, new cache contents: 16 fonts, 0 dirs\n",
            "/usr/share/fonts/truetype/nanum: caching, new cache contents: 10 fonts, 0 dirs\n",
            "/usr/local/share/fonts: caching, new cache contents: 0 fonts, 0 dirs\n",
            "/root/.local/share/fonts: skipping, no such directory\n",
            "/root/.fonts: skipping, no such directory\n",
            "/var/cache/fontconfig: cleaning cache directory\n",
            "/root/.cache/fontconfig: not cleaning non-existent cache directory\n",
            "/root/.fontconfig: not cleaning non-existent cache directory\n",
            "fc-cache: succeeded\n"
          ]
        }
      ],
      "source": [
        "#한글 깨짐 방지\n",
        "!sudo apt-get install -y fonts-nanum\n",
        "!sudo fc-cache -fv\n",
        "!rm ~/.cache/matplotlib -rf\n",
        "\n",
        "#해당 코드 실행 후 런타임을 다시 실행하면 한글이 깨지지 않음"
      ]
    },
    {
      "cell_type": "code",
      "execution_count": 78,
      "metadata": {
        "id": "OA1l96sWs0Ku"
      },
      "outputs": [],
      "source": [
        "#패키지 불러오기\n",
        "import pandas as pd\n",
        "import numpy as np\n",
        "import matplotlib.pyplot as plt"
      ]
    },
    {
      "cell_type": "code",
      "execution_count": 79,
      "metadata": {
        "id": "8LemX_aYlvt8"
      },
      "outputs": [],
      "source": [
        "#폰트 설정\n",
        "import matplotlib.pyplot as plt\n",
        "plt.rc('font', family='NanumBarunGothic')"
      ]
    },
    {
      "cell_type": "code",
      "execution_count": 80,
      "metadata": {
        "colab": {
          "base_uri": "https://localhost:8080/"
        },
        "id": "tNNdKjIvr2jS",
        "outputId": "ed981ad2-57e2-43c2-d41d-5611b7f88926"
      },
      "outputs": [
        {
          "output_type": "stream",
          "name": "stdout",
          "text": [
            "Drive already mounted at /content/drive; to attempt to forcibly remount, call drive.mount(\"/content/drive\", force_remount=True).\n"
          ]
        }
      ],
      "source": [
        "#파일 경로 설정\n",
        "from google.colab import drive\n",
        "drive.mount('/content/drive')"
      ]
    },
    {
      "cell_type": "markdown",
      "metadata": {
        "id": "a2AJpvl1OEkG"
      },
      "source": [
        "## **Step 1.데이터 전처리**"
      ]
    },
    {
      "cell_type": "markdown",
      "metadata": {
        "id": "TbYiYclVRe5u"
      },
      "source": [
        "### **1) charts.csv 전처리**\n",
        "2019년 11월~2021년 11월까지 2년 간 매월 첫 주차에 해당하는 Top 100 아티스트의 데이터 추출하기"
      ]
    },
    {
      "cell_type": "markdown",
      "metadata": {
        "id": "Awfo4Tj_bRWX"
      },
      "source": [
        "\n",
        "***엑셀을 사용해 charts.csv에 월 주차를 나타내는 변수 week 추가***\n",
        "\n",
        "```\n",
        "사용함수 : =WEEKNUM(B2,11)-WEEKNUM(DATE(YEAR(B2),MONTH(B2),1),11)+1\n",
        "```"
      ]
    },
    {
      "cell_type": "markdown",
      "metadata": {
        "id": "IE2GffW9dSBW"
      },
      "source": [
        "***조건 기간(2019년 11월~2021년 11월)에 맞는 행만 남기고 제거하기***\n",
        "\n"
      ]
    },
    {
      "cell_type": "code",
      "execution_count": 81,
      "metadata": {
        "id": "NRXtOfOfHBBJ"
      },
      "outputs": [],
      "source": [
        "#csv파일 불러오기\n",
        "charts = pd.read_csv(\"/content/drive/My Drive/Colab Notebooks/Bigmining/charts_new.csv\", encoding='cp949')"
      ]
    },
    {
      "cell_type": "code",
      "execution_count": 82,
      "metadata": {
        "id": "c4qnpC6QdXX9",
        "colab": {
          "base_uri": "https://localhost:8080/",
          "height": 206
        },
        "outputId": "d66506b8-a64f-449b-dbc1-d99e2a745f13"
      },
      "outputs": [
        {
          "output_type": "display_data",
          "data": {
            "text/plain": [
              "   week        date  rank           song                         artist  \\\n",
              "0     1  2021-11-06     1     Easy On Me                          Adele   \n",
              "1     1  2021-11-06     2           Stay  The Kid LAROI & Justin Bieber   \n",
              "2     1  2021-11-06     3  Industry Baby        Lil Nas X & Jack Harlow   \n",
              "3     1  2021-11-06     4     Fancy Like                   Walker Hayes   \n",
              "4     1  2021-11-06     5     Bad Habits                     Ed Sheeran   \n",
              "\n",
              "   last-week  peak-rank  weeks-on-board  \n",
              "0        1.0          1               3  \n",
              "1        2.0          1              16  \n",
              "2        3.0          1              14  \n",
              "3        4.0          3              19  \n",
              "4        5.0          2              18  "
            ],
            "text/html": [
              "\n",
              "  <div id=\"df-b98f45bd-c83b-491b-a7b6-1cbe47a45ee0\">\n",
              "    <div class=\"colab-df-container\">\n",
              "      <div>\n",
              "<style scoped>\n",
              "    .dataframe tbody tr th:only-of-type {\n",
              "        vertical-align: middle;\n",
              "    }\n",
              "\n",
              "    .dataframe tbody tr th {\n",
              "        vertical-align: top;\n",
              "    }\n",
              "\n",
              "    .dataframe thead th {\n",
              "        text-align: right;\n",
              "    }\n",
              "</style>\n",
              "<table border=\"1\" class=\"dataframe\">\n",
              "  <thead>\n",
              "    <tr style=\"text-align: right;\">\n",
              "      <th></th>\n",
              "      <th>week</th>\n",
              "      <th>date</th>\n",
              "      <th>rank</th>\n",
              "      <th>song</th>\n",
              "      <th>artist</th>\n",
              "      <th>last-week</th>\n",
              "      <th>peak-rank</th>\n",
              "      <th>weeks-on-board</th>\n",
              "    </tr>\n",
              "  </thead>\n",
              "  <tbody>\n",
              "    <tr>\n",
              "      <th>0</th>\n",
              "      <td>1</td>\n",
              "      <td>2021-11-06</td>\n",
              "      <td>1</td>\n",
              "      <td>Easy On Me</td>\n",
              "      <td>Adele</td>\n",
              "      <td>1.0</td>\n",
              "      <td>1</td>\n",
              "      <td>3</td>\n",
              "    </tr>\n",
              "    <tr>\n",
              "      <th>1</th>\n",
              "      <td>1</td>\n",
              "      <td>2021-11-06</td>\n",
              "      <td>2</td>\n",
              "      <td>Stay</td>\n",
              "      <td>The Kid LAROI &amp; Justin Bieber</td>\n",
              "      <td>2.0</td>\n",
              "      <td>1</td>\n",
              "      <td>16</td>\n",
              "    </tr>\n",
              "    <tr>\n",
              "      <th>2</th>\n",
              "      <td>1</td>\n",
              "      <td>2021-11-06</td>\n",
              "      <td>3</td>\n",
              "      <td>Industry Baby</td>\n",
              "      <td>Lil Nas X &amp; Jack Harlow</td>\n",
              "      <td>3.0</td>\n",
              "      <td>1</td>\n",
              "      <td>14</td>\n",
              "    </tr>\n",
              "    <tr>\n",
              "      <th>3</th>\n",
              "      <td>1</td>\n",
              "      <td>2021-11-06</td>\n",
              "      <td>4</td>\n",
              "      <td>Fancy Like</td>\n",
              "      <td>Walker Hayes</td>\n",
              "      <td>4.0</td>\n",
              "      <td>3</td>\n",
              "      <td>19</td>\n",
              "    </tr>\n",
              "    <tr>\n",
              "      <th>4</th>\n",
              "      <td>1</td>\n",
              "      <td>2021-11-06</td>\n",
              "      <td>5</td>\n",
              "      <td>Bad Habits</td>\n",
              "      <td>Ed Sheeran</td>\n",
              "      <td>5.0</td>\n",
              "      <td>2</td>\n",
              "      <td>18</td>\n",
              "    </tr>\n",
              "  </tbody>\n",
              "</table>\n",
              "</div>\n",
              "      <button class=\"colab-df-convert\" onclick=\"convertToInteractive('df-b98f45bd-c83b-491b-a7b6-1cbe47a45ee0')\"\n",
              "              title=\"Convert this dataframe to an interactive table.\"\n",
              "              style=\"display:none;\">\n",
              "        \n",
              "  <svg xmlns=\"http://www.w3.org/2000/svg\" height=\"24px\"viewBox=\"0 0 24 24\"\n",
              "       width=\"24px\">\n",
              "    <path d=\"M0 0h24v24H0V0z\" fill=\"none\"/>\n",
              "    <path d=\"M18.56 5.44l.94 2.06.94-2.06 2.06-.94-2.06-.94-.94-2.06-.94 2.06-2.06.94zm-11 1L8.5 8.5l.94-2.06 2.06-.94-2.06-.94L8.5 2.5l-.94 2.06-2.06.94zm10 10l.94 2.06.94-2.06 2.06-.94-2.06-.94-.94-2.06-.94 2.06-2.06.94z\"/><path d=\"M17.41 7.96l-1.37-1.37c-.4-.4-.92-.59-1.43-.59-.52 0-1.04.2-1.43.59L10.3 9.45l-7.72 7.72c-.78.78-.78 2.05 0 2.83L4 21.41c.39.39.9.59 1.41.59.51 0 1.02-.2 1.41-.59l7.78-7.78 2.81-2.81c.8-.78.8-2.07 0-2.86zM5.41 20L4 18.59l7.72-7.72 1.47 1.35L5.41 20z\"/>\n",
              "  </svg>\n",
              "      </button>\n",
              "      \n",
              "  <style>\n",
              "    .colab-df-container {\n",
              "      display:flex;\n",
              "      flex-wrap:wrap;\n",
              "      gap: 12px;\n",
              "    }\n",
              "\n",
              "    .colab-df-convert {\n",
              "      background-color: #E8F0FE;\n",
              "      border: none;\n",
              "      border-radius: 50%;\n",
              "      cursor: pointer;\n",
              "      display: none;\n",
              "      fill: #1967D2;\n",
              "      height: 32px;\n",
              "      padding: 0 0 0 0;\n",
              "      width: 32px;\n",
              "    }\n",
              "\n",
              "    .colab-df-convert:hover {\n",
              "      background-color: #E2EBFA;\n",
              "      box-shadow: 0px 1px 2px rgba(60, 64, 67, 0.3), 0px 1px 3px 1px rgba(60, 64, 67, 0.15);\n",
              "      fill: #174EA6;\n",
              "    }\n",
              "\n",
              "    [theme=dark] .colab-df-convert {\n",
              "      background-color: #3B4455;\n",
              "      fill: #D2E3FC;\n",
              "    }\n",
              "\n",
              "    [theme=dark] .colab-df-convert:hover {\n",
              "      background-color: #434B5C;\n",
              "      box-shadow: 0px 1px 3px 1px rgba(0, 0, 0, 0.15);\n",
              "      filter: drop-shadow(0px 1px 2px rgba(0, 0, 0, 0.3));\n",
              "      fill: #FFFFFF;\n",
              "    }\n",
              "  </style>\n",
              "\n",
              "      <script>\n",
              "        const buttonEl =\n",
              "          document.querySelector('#df-b98f45bd-c83b-491b-a7b6-1cbe47a45ee0 button.colab-df-convert');\n",
              "        buttonEl.style.display =\n",
              "          google.colab.kernel.accessAllowed ? 'block' : 'none';\n",
              "\n",
              "        async function convertToInteractive(key) {\n",
              "          const element = document.querySelector('#df-b98f45bd-c83b-491b-a7b6-1cbe47a45ee0');\n",
              "          const dataTable =\n",
              "            await google.colab.kernel.invokeFunction('convertToInteractive',\n",
              "                                                     [key], {});\n",
              "          if (!dataTable) return;\n",
              "\n",
              "          const docLinkHtml = 'Like what you see? Visit the ' +\n",
              "            '<a target=\"_blank\" href=https://colab.research.google.com/notebooks/data_table.ipynb>data table notebook</a>'\n",
              "            + ' to learn more about interactive tables.';\n",
              "          element.innerHTML = '';\n",
              "          dataTable['output_type'] = 'display_data';\n",
              "          await google.colab.output.renderOutput(dataTable, element);\n",
              "          const docLink = document.createElement('div');\n",
              "          docLink.innerHTML = docLinkHtml;\n",
              "          element.appendChild(docLink);\n",
              "        }\n",
              "      </script>\n",
              "    </div>\n",
              "  </div>\n",
              "  "
            ]
          },
          "metadata": {}
        }
      ],
      "source": [
        "#데이터 확인\n",
        "display(charts.head())"
      ]
    },
    {
      "cell_type": "code",
      "execution_count": 83,
      "metadata": {
        "id": "ZMyvnIT-dk3F"
      },
      "outputs": [],
      "source": [
        "#date를 인덱스로 설정\n",
        "charts = charts.set_index('date')"
      ]
    },
    {
      "cell_type": "code",
      "execution_count": 84,
      "metadata": {
        "id": "Z7cWCDHohVIJ"
      },
      "outputs": [],
      "source": [
        "#기간에 맞는 행만 추출해 charts에 저장\n",
        "charts = charts[:'2019-10-31']"
      ]
    },
    {
      "cell_type": "markdown",
      "metadata": {
        "id": "jVdlk7wQh29r"
      },
      "source": [
        "***매월 1주차에 해당하는 열만 남기고 제거하기***"
      ]
    },
    {
      "cell_type": "code",
      "execution_count": 85,
      "metadata": {
        "id": "ZFBHkeGJiEoM"
      },
      "outputs": [],
      "source": [
        "#인덱스를 행 번호로 바꾸기\n",
        "charts = charts.reset_index()\n",
        "\n",
        "#display(charts.head())"
      ]
    },
    {
      "cell_type": "code",
      "execution_count": 86,
      "metadata": {
        "id": "suqnoTIyiL4_"
      },
      "outputs": [],
      "source": [
        "#week!=1인 열 제거하기\n",
        "no_week = charts[charts['week']!=1].index\n",
        "charts = charts.drop(no_week)"
      ]
    },
    {
      "cell_type": "markdown",
      "metadata": {
        "id": "JL7AaMx6jd1g"
      },
      "source": [
        "***데이터 분석에 사용할 칼럼만 추출하기***\n",
        "\n",
        "(후반부에서 데이터를 합칠 때 해당 칼럼들이 사용될 가능성이 낮아 'artist'만 남겨도 상관없을 것 같아요 -지우)"
      ]
    },
    {
      "cell_type": "code",
      "execution_count": 87,
      "metadata": {
        "id": "xz3JKUC_kUwI"
      },
      "outputs": [],
      "source": [
        "charts = charts.loc[:,['date','rank','artist','weeks-on-board']]\n",
        "\n",
        "#print(charts)\n",
        "#display(charts.head())"
      ]
    },
    {
      "cell_type": "markdown",
      "metadata": {
        "id": "iEUPQLMavGDk"
      },
      "source": [
        "***'artist'를 기준으로 중복되는 행 제거***\n"
      ]
    },
    {
      "cell_type": "code",
      "execution_count": 88,
      "metadata": {
        "id": "CpDiJEH3vTvH",
        "colab": {
          "base_uri": "https://localhost:8080/",
          "height": 424
        },
        "outputId": "6496b547-efc8-4757-9dad-aaa5a76c8fd9"
      },
      "outputs": [
        {
          "output_type": "execute_result",
          "data": {
            "text/plain": [
              "             date  rank                                             artist  \\\n",
              "0      2021-11-06     1                                              Adele   \n",
              "1      2021-11-06     2                      The Kid LAROI & Justin Bieber   \n",
              "2      2021-11-06     3                            Lil Nas X & Jack Harlow   \n",
              "3      2021-11-06     4                                       Walker Hayes   \n",
              "4      2021-11-06     5                                         Ed Sheeran   \n",
              "...           ...   ...                                                ...   \n",
              "10594  2019-11-02    95                 Summer Walker Featuring Jhene Aiko   \n",
              "10596  2019-11-02    97  Internet Money, Lil Tecca & A Boogie Wit da Ho...   \n",
              "10597  2019-11-02    98                                        Frank Ocean   \n",
              "10598  2019-11-02    99                       Ariana Grande & Social House   \n",
              "10599  2019-11-02   100            DJ Khaled Featuring Cardi B & 21 Savage   \n",
              "\n",
              "       weeks-on-board  \n",
              "0                   3  \n",
              "1                  16  \n",
              "2                  14  \n",
              "3                  19  \n",
              "4                  18  \n",
              "...               ...  \n",
              "10594               3  \n",
              "10596               1  \n",
              "10597               1  \n",
              "10598              12  \n",
              "10599              15  \n",
              "\n",
              "[545 rows x 4 columns]"
            ],
            "text/html": [
              "\n",
              "  <div id=\"df-c124f5d7-4f78-47fd-9f4c-ba96f4ba4310\">\n",
              "    <div class=\"colab-df-container\">\n",
              "      <div>\n",
              "<style scoped>\n",
              "    .dataframe tbody tr th:only-of-type {\n",
              "        vertical-align: middle;\n",
              "    }\n",
              "\n",
              "    .dataframe tbody tr th {\n",
              "        vertical-align: top;\n",
              "    }\n",
              "\n",
              "    .dataframe thead th {\n",
              "        text-align: right;\n",
              "    }\n",
              "</style>\n",
              "<table border=\"1\" class=\"dataframe\">\n",
              "  <thead>\n",
              "    <tr style=\"text-align: right;\">\n",
              "      <th></th>\n",
              "      <th>date</th>\n",
              "      <th>rank</th>\n",
              "      <th>artist</th>\n",
              "      <th>weeks-on-board</th>\n",
              "    </tr>\n",
              "  </thead>\n",
              "  <tbody>\n",
              "    <tr>\n",
              "      <th>0</th>\n",
              "      <td>2021-11-06</td>\n",
              "      <td>1</td>\n",
              "      <td>Adele</td>\n",
              "      <td>3</td>\n",
              "    </tr>\n",
              "    <tr>\n",
              "      <th>1</th>\n",
              "      <td>2021-11-06</td>\n",
              "      <td>2</td>\n",
              "      <td>The Kid LAROI &amp; Justin Bieber</td>\n",
              "      <td>16</td>\n",
              "    </tr>\n",
              "    <tr>\n",
              "      <th>2</th>\n",
              "      <td>2021-11-06</td>\n",
              "      <td>3</td>\n",
              "      <td>Lil Nas X &amp; Jack Harlow</td>\n",
              "      <td>14</td>\n",
              "    </tr>\n",
              "    <tr>\n",
              "      <th>3</th>\n",
              "      <td>2021-11-06</td>\n",
              "      <td>4</td>\n",
              "      <td>Walker Hayes</td>\n",
              "      <td>19</td>\n",
              "    </tr>\n",
              "    <tr>\n",
              "      <th>4</th>\n",
              "      <td>2021-11-06</td>\n",
              "      <td>5</td>\n",
              "      <td>Ed Sheeran</td>\n",
              "      <td>18</td>\n",
              "    </tr>\n",
              "    <tr>\n",
              "      <th>...</th>\n",
              "      <td>...</td>\n",
              "      <td>...</td>\n",
              "      <td>...</td>\n",
              "      <td>...</td>\n",
              "    </tr>\n",
              "    <tr>\n",
              "      <th>10594</th>\n",
              "      <td>2019-11-02</td>\n",
              "      <td>95</td>\n",
              "      <td>Summer Walker Featuring Jhene Aiko</td>\n",
              "      <td>3</td>\n",
              "    </tr>\n",
              "    <tr>\n",
              "      <th>10596</th>\n",
              "      <td>2019-11-02</td>\n",
              "      <td>97</td>\n",
              "      <td>Internet Money, Lil Tecca &amp; A Boogie Wit da Ho...</td>\n",
              "      <td>1</td>\n",
              "    </tr>\n",
              "    <tr>\n",
              "      <th>10597</th>\n",
              "      <td>2019-11-02</td>\n",
              "      <td>98</td>\n",
              "      <td>Frank Ocean</td>\n",
              "      <td>1</td>\n",
              "    </tr>\n",
              "    <tr>\n",
              "      <th>10598</th>\n",
              "      <td>2019-11-02</td>\n",
              "      <td>99</td>\n",
              "      <td>Ariana Grande &amp; Social House</td>\n",
              "      <td>12</td>\n",
              "    </tr>\n",
              "    <tr>\n",
              "      <th>10599</th>\n",
              "      <td>2019-11-02</td>\n",
              "      <td>100</td>\n",
              "      <td>DJ Khaled Featuring Cardi B &amp; 21 Savage</td>\n",
              "      <td>15</td>\n",
              "    </tr>\n",
              "  </tbody>\n",
              "</table>\n",
              "<p>545 rows × 4 columns</p>\n",
              "</div>\n",
              "      <button class=\"colab-df-convert\" onclick=\"convertToInteractive('df-c124f5d7-4f78-47fd-9f4c-ba96f4ba4310')\"\n",
              "              title=\"Convert this dataframe to an interactive table.\"\n",
              "              style=\"display:none;\">\n",
              "        \n",
              "  <svg xmlns=\"http://www.w3.org/2000/svg\" height=\"24px\"viewBox=\"0 0 24 24\"\n",
              "       width=\"24px\">\n",
              "    <path d=\"M0 0h24v24H0V0z\" fill=\"none\"/>\n",
              "    <path d=\"M18.56 5.44l.94 2.06.94-2.06 2.06-.94-2.06-.94-.94-2.06-.94 2.06-2.06.94zm-11 1L8.5 8.5l.94-2.06 2.06-.94-2.06-.94L8.5 2.5l-.94 2.06-2.06.94zm10 10l.94 2.06.94-2.06 2.06-.94-2.06-.94-.94-2.06-.94 2.06-2.06.94z\"/><path d=\"M17.41 7.96l-1.37-1.37c-.4-.4-.92-.59-1.43-.59-.52 0-1.04.2-1.43.59L10.3 9.45l-7.72 7.72c-.78.78-.78 2.05 0 2.83L4 21.41c.39.39.9.59 1.41.59.51 0 1.02-.2 1.41-.59l7.78-7.78 2.81-2.81c.8-.78.8-2.07 0-2.86zM5.41 20L4 18.59l7.72-7.72 1.47 1.35L5.41 20z\"/>\n",
              "  </svg>\n",
              "      </button>\n",
              "      \n",
              "  <style>\n",
              "    .colab-df-container {\n",
              "      display:flex;\n",
              "      flex-wrap:wrap;\n",
              "      gap: 12px;\n",
              "    }\n",
              "\n",
              "    .colab-df-convert {\n",
              "      background-color: #E8F0FE;\n",
              "      border: none;\n",
              "      border-radius: 50%;\n",
              "      cursor: pointer;\n",
              "      display: none;\n",
              "      fill: #1967D2;\n",
              "      height: 32px;\n",
              "      padding: 0 0 0 0;\n",
              "      width: 32px;\n",
              "    }\n",
              "\n",
              "    .colab-df-convert:hover {\n",
              "      background-color: #E2EBFA;\n",
              "      box-shadow: 0px 1px 2px rgba(60, 64, 67, 0.3), 0px 1px 3px 1px rgba(60, 64, 67, 0.15);\n",
              "      fill: #174EA6;\n",
              "    }\n",
              "\n",
              "    [theme=dark] .colab-df-convert {\n",
              "      background-color: #3B4455;\n",
              "      fill: #D2E3FC;\n",
              "    }\n",
              "\n",
              "    [theme=dark] .colab-df-convert:hover {\n",
              "      background-color: #434B5C;\n",
              "      box-shadow: 0px 1px 3px 1px rgba(0, 0, 0, 0.15);\n",
              "      filter: drop-shadow(0px 1px 2px rgba(0, 0, 0, 0.3));\n",
              "      fill: #FFFFFF;\n",
              "    }\n",
              "  </style>\n",
              "\n",
              "      <script>\n",
              "        const buttonEl =\n",
              "          document.querySelector('#df-c124f5d7-4f78-47fd-9f4c-ba96f4ba4310 button.colab-df-convert');\n",
              "        buttonEl.style.display =\n",
              "          google.colab.kernel.accessAllowed ? 'block' : 'none';\n",
              "\n",
              "        async function convertToInteractive(key) {\n",
              "          const element = document.querySelector('#df-c124f5d7-4f78-47fd-9f4c-ba96f4ba4310');\n",
              "          const dataTable =\n",
              "            await google.colab.kernel.invokeFunction('convertToInteractive',\n",
              "                                                     [key], {});\n",
              "          if (!dataTable) return;\n",
              "\n",
              "          const docLinkHtml = 'Like what you see? Visit the ' +\n",
              "            '<a target=\"_blank\" href=https://colab.research.google.com/notebooks/data_table.ipynb>data table notebook</a>'\n",
              "            + ' to learn more about interactive tables.';\n",
              "          element.innerHTML = '';\n",
              "          dataTable['output_type'] = 'display_data';\n",
              "          await google.colab.output.renderOutput(dataTable, element);\n",
              "          const docLink = document.createElement('div');\n",
              "          docLink.innerHTML = docLinkHtml;\n",
              "          element.appendChild(docLink);\n",
              "        }\n",
              "      </script>\n",
              "    </div>\n",
              "  </div>\n",
              "  "
            ]
          },
          "metadata": {},
          "execution_count": 88
        }
      ],
      "source": [
        "charts.drop_duplicates(['artist'])"
      ]
    },
    {
      "cell_type": "markdown",
      "metadata": {
        "id": "Os8HRyrdoRsF"
      },
      "source": [
        "### **2) feature_corel_100.csv 전처리**"
      ]
    },
    {
      "cell_type": "code",
      "execution_count": 179,
      "metadata": {
        "id": "rihw81jKouE2"
      },
      "outputs": [],
      "source": [
        "#csv파일 불러오기\n",
        "feature = pd.read_csv(\"/content/drive/My Drive/Colab Notebooks/Bigmining/feature_corel_100.csv\")"
      ]
    },
    {
      "cell_type": "code",
      "execution_count": 90,
      "metadata": {
        "id": "BYgmk6pWo6OG",
        "colab": {
          "base_uri": "https://localhost:8080/"
        },
        "outputId": "cb69b80b-cf38-4be9-9d81-93a145bbc427"
      },
      "outputs": [
        {
          "output_type": "stream",
          "name": "stdout",
          "text": [
            "            id                name  isdone               spotifyid  \\\n",
            "0       600808               Drake    True  3TVXtAsR1Inumwj472S9r4   \n",
            "1       706819          Ed Sheeran    True  6eUKZXaKkcviH0Ku9w2n3V   \n",
            "2       823336       Ariana Grande    True  66CXWjxzNUsdJxJ2JdwvnR   \n",
            "3      1492430           Bad Bunny    True  4q3ewBCX7sLwd24euuV69X   \n",
            "4       796889          The Weeknd    True  1Xyo4u8uXC1ZmMpatF05PJ   \n",
            "...        ...                 ...     ...                     ...   \n",
            "12900  1418260          Unreqvited    True  1ZYRTJCj869ya07OpEAlGR   \n",
            "12901   844823  Show Me a Dinosaur    True  1wou9vWv5PgrTn3pu3TydQ   \n",
            "12902  1796328              Flovry    True  2pLu3Ut2C3RviYZ3xUanBs   \n",
            "12903   121805            The Bled    True  0EvGuw8fuWFtxhAsBOFTin   \n",
            "12904    11473          Primordial    True  0BZr6WHaejNA63uhZZZZek   \n",
            "\n",
            "                                                  genres  popularity  \\\n",
            "0      ['canadian hip hop', 'canadian pop', 'hip hop'...        98.0   \n",
            "1                                      ['pop', 'uk pop']        95.0   \n",
            "2                                   ['dance pop', 'pop']        93.0   \n",
            "3                  ['latin', 'reggaeton', 'trap latino']       100.0   \n",
            "4      ['canadian contemporary r&b', 'canadian pop', ...        98.0   \n",
            "...                                                  ...         ...   \n",
            "12900  ['atmospheric black metal', 'canadian black me...        32.0   \n",
            "12901  ['instrumental post-rock', 'post-rock', 'russi...        31.0   \n",
            "12902                                    ['lo-fi beats']        53.0   \n",
            "12903  ['arizona punk', 'melodic metalcore', 'post-ha...        32.0   \n",
            "12904  ['black metal', 'celtic metal', 'doom metal', ...        37.0   \n",
            "\n",
            "        followers                                          histogram  \\\n",
            "0      61377383.0  [0, 1, 1, 1, 1, 6, 6, 6, 6, 6, 6, 9, 9, 10, 10...   \n",
            "1      93327682.0  [0, 1, 1, 1, 1, 1, 1, 1, 2, 2, 3, 4, 4, 4, 4, ...   \n",
            "2      76626333.0  [0, 1, 1, 1, 1, 1, 1, 1, 1, 1, 2, 2, 9, 9, 9, ...   \n",
            "3      44516743.0  [0, 1, 1, 2, 4, 4, 5, 5, 6, 7, 8, 8, 8, 9, 9, ...   \n",
            "4      42275433.0  [0, 5, 5, 6, 6, 6, 6, 7, 7, 7, 8, 26, 26, 26, ...   \n",
            "...           ...                                                ...   \n",
            "12900     20071.0  [0, 1, 1, 1, 1, 1, 1, 1, 1, 1, 1, 1, 1, 1, 1, ...   \n",
            "12901     10235.0  [0, 0, 0, 0, 0, 0, 0, 0, 0, 0, 0, 0, 0, 0, 0, ...   \n",
            "12902      7478.0  [0, 0, 0, 0, 0, 0, 0, 0, 0, 0, 0, 0, 0, 0, 0, ...   \n",
            "12903     33531.0  [0, 1, 1, 1, 1, 1, 1, 1, 1, 1, 1, 1, 2, 2, 2, ...   \n",
            "12904     64127.0  [0, 1, 1, 1, 1, 1, 1, 1, 1, 1, 1, 1, 1, 1, 1, ...   \n",
            "\n",
            "       num_release first_release  ...     pop_var  pop_max      fol_mean  \\\n",
            "0              124    2008-06-12  ...  109.819865    100.0  1.100285e+07   \n",
            "1               34    2011-07-11  ...  117.177296     98.0  1.472265e+07   \n",
            "2               94    2011-12-12  ...  165.627500     98.0  1.000831e+07   \n",
            "3               30    2016-11-09  ...  266.004898     98.0  8.425305e+06   \n",
            "4              108    2011-01-01  ...  191.923469     98.0  1.363645e+07   \n",
            "...            ...           ...  ...         ...      ...           ...   \n",
            "12900            3    2017-05-20  ...    6.250000     36.0  1.870100e+04   \n",
            "12901            1    2017-05-20  ...    4.000000     36.0  2.361900e+04   \n",
            "12902            1    2019-11-26  ...    0.000000     62.0  5.242000e+03   \n",
            "12903            7    2001-01-01  ...    0.000000     56.0  3.298930e+05   \n",
            "12904            9    2000-01-01  ...    0.000000     53.0  2.853120e+05   \n",
            "\n",
            "            fol_std       fol_var     fol_max   rel_mean    rel_std  \\\n",
            "0      1.434559e+07  2.057958e+14  57338230.0  53.075472  50.238994   \n",
            "1      1.730608e+07  2.995005e+14  57338230.0  44.035714  54.543221   \n",
            "2      1.214947e+07  1.476096e+14  57338230.0  51.900000  45.408039   \n",
            "3      1.087911e+07  1.183549e+14  61377383.0  23.142857  30.127958   \n",
            "4      1.757874e+07  3.090122e+14  76626333.0  53.178571  36.640194   \n",
            "...             ...           ...         ...        ...        ...   \n",
            "12900  8.466000e+03  7.167316e+07     27167.0   3.500000   2.500000   \n",
            "12901  3.548000e+03  1.258830e+07     27167.0   4.500000   1.500000   \n",
            "12902  0.000000e+00  0.000000e+00      5242.0   2.000000   0.000000   \n",
            "12903  0.000000e+00  0.000000e+00    329893.0   8.000000   0.000000   \n",
            "12904  0.000000e+00  0.000000e+00    285312.0  11.000000   0.000000   \n",
            "\n",
            "           rel_var  rel_max  \n",
            "0      2523.956568    191.0  \n",
            "1      2974.963010    226.0  \n",
            "2      2061.890000    181.0  \n",
            "3       907.693878    181.0  \n",
            "4      1342.503827    151.0  \n",
            "...            ...      ...  \n",
            "12900     6.250000      6.0  \n",
            "12901     2.250000      6.0  \n",
            "12902     0.000000      2.0  \n",
            "12903     0.000000      8.0  \n",
            "12904     0.000000     11.0  \n",
            "\n",
            "[12905 rows x 26 columns]\n"
          ]
        }
      ],
      "source": [
        "#데이터 확인\n",
        "print(feature)"
      ]
    },
    {
      "cell_type": "code",
      "source": [
        "display(feature.info())"
      ],
      "metadata": {
        "colab": {
          "base_uri": "https://localhost:8080/",
          "height": 634
        },
        "id": "--ZhYi1LoRxl",
        "outputId": "51eed6d2-b843-401e-8f35-3536c0ff3337"
      },
      "execution_count": 180,
      "outputs": [
        {
          "output_type": "stream",
          "name": "stdout",
          "text": [
            "<class 'pandas.core.frame.DataFrame'>\n",
            "RangeIndex: 12905 entries, 0 to 12904\n",
            "Data columns (total 26 columns):\n",
            " #   Column         Non-Null Count  Dtype  \n",
            "---  ------         --------------  -----  \n",
            " 0   id             12905 non-null  int64  \n",
            " 1   name           12905 non-null  object \n",
            " 2   isdone         12905 non-null  bool   \n",
            " 3   spotifyid      12905 non-null  object \n",
            " 4   genres         12905 non-null  object \n",
            " 5   popularity     12905 non-null  float64\n",
            " 6   followers      12905 non-null  float64\n",
            " 7   histogram      12905 non-null  object \n",
            " 8   num_release    12905 non-null  int64  \n",
            " 9   first_release  12561 non-null  object \n",
            " 10  last_release   12561 non-null  object \n",
            " 11  network_rank   12905 non-null  float64\n",
            " 12  in_edges       12905 non-null  int64  \n",
            " 13  out_edges      12905 non-null  int64  \n",
            " 14  pop_mean       12905 non-null  float64\n",
            " 15  pop_std        12905 non-null  float64\n",
            " 16  pop_var        12905 non-null  float64\n",
            " 17  pop_max        12905 non-null  float64\n",
            " 18  fol_mean       12905 non-null  float64\n",
            " 19  fol_std        12905 non-null  float64\n",
            " 20  fol_var        12905 non-null  float64\n",
            " 21  fol_max        12905 non-null  float64\n",
            " 22  rel_mean       12905 non-null  float64\n",
            " 23  rel_std        12905 non-null  float64\n",
            " 24  rel_var        12905 non-null  float64\n",
            " 25  rel_max        12905 non-null  float64\n",
            "dtypes: bool(1), float64(15), int64(4), object(6)\n",
            "memory usage: 2.5+ MB\n"
          ]
        },
        {
          "output_type": "display_data",
          "data": {
            "text/plain": [
              "None"
            ]
          },
          "metadata": {}
        }
      ]
    },
    {
      "cell_type": "markdown",
      "source": [
        "***데이터 분석에 사용할 칼럼만 추출하기***"
      ],
      "metadata": {
        "id": "vrwvQRQi-NYC"
      }
    },
    {
      "cell_type": "code",
      "execution_count": 91,
      "metadata": {
        "id": "OBxYWi_YpRyn"
      },
      "outputs": [],
      "source": [
        "feature = feature.loc[:,['id','name','genres','popularity','followers','pop_mean','rel_mean','fol_mean']]"
      ]
    },
    {
      "cell_type": "code",
      "execution_count": 92,
      "metadata": {
        "id": "CbrVTvHiq5-q",
        "colab": {
          "base_uri": "https://localhost:8080/",
          "height": 206
        },
        "outputId": "bd58c942-79e5-4289-d5c7-b9b63fc5fb4d"
      },
      "outputs": [
        {
          "output_type": "display_data",
          "data": {
            "text/plain": [
              "        id         artist                                             genres  \\\n",
              "0   600808          Drake  ['canadian hip hop', 'canadian pop', 'hip hop'...   \n",
              "1   706819     Ed Sheeran                                  ['pop', 'uk pop']   \n",
              "2   823336  Ariana Grande                               ['dance pop', 'pop']   \n",
              "3  1492430      Bad Bunny              ['latin', 'reggaeton', 'trap latino']   \n",
              "4   796889     The Weeknd  ['canadian contemporary r&b', 'canadian pop', ...   \n",
              "\n",
              "   popularity   followers   pop_mean   rel_mean      fol_mean  \n",
              "0        98.0  61377383.0  81.377358  53.075472  1.100285e+07  \n",
              "1        95.0  93327682.0  80.035714  44.035714  1.472265e+07  \n",
              "2        93.0  76626333.0  77.650000  51.900000  1.000831e+07  \n",
              "3       100.0  44516743.0  75.628571  23.142857  8.425305e+06  \n",
              "4        98.0  42275433.0  81.928571  53.178571  1.363645e+07  "
            ],
            "text/html": [
              "\n",
              "  <div id=\"df-88f8eeb7-02cb-46f4-8a73-00059031a603\">\n",
              "    <div class=\"colab-df-container\">\n",
              "      <div>\n",
              "<style scoped>\n",
              "    .dataframe tbody tr th:only-of-type {\n",
              "        vertical-align: middle;\n",
              "    }\n",
              "\n",
              "    .dataframe tbody tr th {\n",
              "        vertical-align: top;\n",
              "    }\n",
              "\n",
              "    .dataframe thead th {\n",
              "        text-align: right;\n",
              "    }\n",
              "</style>\n",
              "<table border=\"1\" class=\"dataframe\">\n",
              "  <thead>\n",
              "    <tr style=\"text-align: right;\">\n",
              "      <th></th>\n",
              "      <th>id</th>\n",
              "      <th>artist</th>\n",
              "      <th>genres</th>\n",
              "      <th>popularity</th>\n",
              "      <th>followers</th>\n",
              "      <th>pop_mean</th>\n",
              "      <th>rel_mean</th>\n",
              "      <th>fol_mean</th>\n",
              "    </tr>\n",
              "  </thead>\n",
              "  <tbody>\n",
              "    <tr>\n",
              "      <th>0</th>\n",
              "      <td>600808</td>\n",
              "      <td>Drake</td>\n",
              "      <td>['canadian hip hop', 'canadian pop', 'hip hop'...</td>\n",
              "      <td>98.0</td>\n",
              "      <td>61377383.0</td>\n",
              "      <td>81.377358</td>\n",
              "      <td>53.075472</td>\n",
              "      <td>1.100285e+07</td>\n",
              "    </tr>\n",
              "    <tr>\n",
              "      <th>1</th>\n",
              "      <td>706819</td>\n",
              "      <td>Ed Sheeran</td>\n",
              "      <td>['pop', 'uk pop']</td>\n",
              "      <td>95.0</td>\n",
              "      <td>93327682.0</td>\n",
              "      <td>80.035714</td>\n",
              "      <td>44.035714</td>\n",
              "      <td>1.472265e+07</td>\n",
              "    </tr>\n",
              "    <tr>\n",
              "      <th>2</th>\n",
              "      <td>823336</td>\n",
              "      <td>Ariana Grande</td>\n",
              "      <td>['dance pop', 'pop']</td>\n",
              "      <td>93.0</td>\n",
              "      <td>76626333.0</td>\n",
              "      <td>77.650000</td>\n",
              "      <td>51.900000</td>\n",
              "      <td>1.000831e+07</td>\n",
              "    </tr>\n",
              "    <tr>\n",
              "      <th>3</th>\n",
              "      <td>1492430</td>\n",
              "      <td>Bad Bunny</td>\n",
              "      <td>['latin', 'reggaeton', 'trap latino']</td>\n",
              "      <td>100.0</td>\n",
              "      <td>44516743.0</td>\n",
              "      <td>75.628571</td>\n",
              "      <td>23.142857</td>\n",
              "      <td>8.425305e+06</td>\n",
              "    </tr>\n",
              "    <tr>\n",
              "      <th>4</th>\n",
              "      <td>796889</td>\n",
              "      <td>The Weeknd</td>\n",
              "      <td>['canadian contemporary r&amp;b', 'canadian pop', ...</td>\n",
              "      <td>98.0</td>\n",
              "      <td>42275433.0</td>\n",
              "      <td>81.928571</td>\n",
              "      <td>53.178571</td>\n",
              "      <td>1.363645e+07</td>\n",
              "    </tr>\n",
              "  </tbody>\n",
              "</table>\n",
              "</div>\n",
              "      <button class=\"colab-df-convert\" onclick=\"convertToInteractive('df-88f8eeb7-02cb-46f4-8a73-00059031a603')\"\n",
              "              title=\"Convert this dataframe to an interactive table.\"\n",
              "              style=\"display:none;\">\n",
              "        \n",
              "  <svg xmlns=\"http://www.w3.org/2000/svg\" height=\"24px\"viewBox=\"0 0 24 24\"\n",
              "       width=\"24px\">\n",
              "    <path d=\"M0 0h24v24H0V0z\" fill=\"none\"/>\n",
              "    <path d=\"M18.56 5.44l.94 2.06.94-2.06 2.06-.94-2.06-.94-.94-2.06-.94 2.06-2.06.94zm-11 1L8.5 8.5l.94-2.06 2.06-.94-2.06-.94L8.5 2.5l-.94 2.06-2.06.94zm10 10l.94 2.06.94-2.06 2.06-.94-2.06-.94-.94-2.06-.94 2.06-2.06.94z\"/><path d=\"M17.41 7.96l-1.37-1.37c-.4-.4-.92-.59-1.43-.59-.52 0-1.04.2-1.43.59L10.3 9.45l-7.72 7.72c-.78.78-.78 2.05 0 2.83L4 21.41c.39.39.9.59 1.41.59.51 0 1.02-.2 1.41-.59l7.78-7.78 2.81-2.81c.8-.78.8-2.07 0-2.86zM5.41 20L4 18.59l7.72-7.72 1.47 1.35L5.41 20z\"/>\n",
              "  </svg>\n",
              "      </button>\n",
              "      \n",
              "  <style>\n",
              "    .colab-df-container {\n",
              "      display:flex;\n",
              "      flex-wrap:wrap;\n",
              "      gap: 12px;\n",
              "    }\n",
              "\n",
              "    .colab-df-convert {\n",
              "      background-color: #E8F0FE;\n",
              "      border: none;\n",
              "      border-radius: 50%;\n",
              "      cursor: pointer;\n",
              "      display: none;\n",
              "      fill: #1967D2;\n",
              "      height: 32px;\n",
              "      padding: 0 0 0 0;\n",
              "      width: 32px;\n",
              "    }\n",
              "\n",
              "    .colab-df-convert:hover {\n",
              "      background-color: #E2EBFA;\n",
              "      box-shadow: 0px 1px 2px rgba(60, 64, 67, 0.3), 0px 1px 3px 1px rgba(60, 64, 67, 0.15);\n",
              "      fill: #174EA6;\n",
              "    }\n",
              "\n",
              "    [theme=dark] .colab-df-convert {\n",
              "      background-color: #3B4455;\n",
              "      fill: #D2E3FC;\n",
              "    }\n",
              "\n",
              "    [theme=dark] .colab-df-convert:hover {\n",
              "      background-color: #434B5C;\n",
              "      box-shadow: 0px 1px 3px 1px rgba(0, 0, 0, 0.15);\n",
              "      filter: drop-shadow(0px 1px 2px rgba(0, 0, 0, 0.3));\n",
              "      fill: #FFFFFF;\n",
              "    }\n",
              "  </style>\n",
              "\n",
              "      <script>\n",
              "        const buttonEl =\n",
              "          document.querySelector('#df-88f8eeb7-02cb-46f4-8a73-00059031a603 button.colab-df-convert');\n",
              "        buttonEl.style.display =\n",
              "          google.colab.kernel.accessAllowed ? 'block' : 'none';\n",
              "\n",
              "        async function convertToInteractive(key) {\n",
              "          const element = document.querySelector('#df-88f8eeb7-02cb-46f4-8a73-00059031a603');\n",
              "          const dataTable =\n",
              "            await google.colab.kernel.invokeFunction('convertToInteractive',\n",
              "                                                     [key], {});\n",
              "          if (!dataTable) return;\n",
              "\n",
              "          const docLinkHtml = 'Like what you see? Visit the ' +\n",
              "            '<a target=\"_blank\" href=https://colab.research.google.com/notebooks/data_table.ipynb>data table notebook</a>'\n",
              "            + ' to learn more about interactive tables.';\n",
              "          element.innerHTML = '';\n",
              "          dataTable['output_type'] = 'display_data';\n",
              "          await google.colab.output.renderOutput(dataTable, element);\n",
              "          const docLink = document.createElement('div');\n",
              "          docLink.innerHTML = docLinkHtml;\n",
              "          element.appendChild(docLink);\n",
              "        }\n",
              "      </script>\n",
              "    </div>\n",
              "  </div>\n",
              "  "
            ]
          },
          "metadata": {}
        }
      ],
      "source": [
        "#name을 artist로 변수명 바꾸기\n",
        "feature.rename(columns = {'name':'artist'},inplace=True)\n",
        "display(feature.head())"
      ]
    },
    {
      "cell_type": "markdown",
      "metadata": {
        "id": "_uYU_DADqxAi"
      },
      "source": [
        "### ***3) spotify.csv 만들기***\n",
        "\n",
        "charts와 feature_corel_100 파일을 하나로 합친 새로운 데이터 spotify 만들기\n"
      ]
    },
    {
      "cell_type": "code",
      "execution_count": 93,
      "metadata": {
        "id": "OiOrpVfNqz29",
        "colab": {
          "base_uri": "https://localhost:8080/",
          "height": 641
        },
        "outputId": "3a70b771-d75b-45cb-9323-c090852a52c6"
      },
      "outputs": [
        {
          "output_type": "display_data",
          "data": {
            "text/plain": [
              "            id              artist  \\\n",
              "0       600808               Drake   \n",
              "1       600808               Drake   \n",
              "2       600808               Drake   \n",
              "3       600808               Drake   \n",
              "4       600808               Drake   \n",
              "...        ...                 ...   \n",
              "13834  1418260          Unreqvited   \n",
              "13835   844823  Show Me a Dinosaur   \n",
              "13836  1796328              Flovry   \n",
              "13837   121805            The Bled   \n",
              "13838    11473          Primordial   \n",
              "\n",
              "                                                  genres  popularity  \\\n",
              "0      ['canadian hip hop', 'canadian pop', 'hip hop'...        98.0   \n",
              "1      ['canadian hip hop', 'canadian pop', 'hip hop'...        98.0   \n",
              "2      ['canadian hip hop', 'canadian pop', 'hip hop'...        98.0   \n",
              "3      ['canadian hip hop', 'canadian pop', 'hip hop'...        98.0   \n",
              "4      ['canadian hip hop', 'canadian pop', 'hip hop'...        98.0   \n",
              "...                                                  ...         ...   \n",
              "13834  ['atmospheric black metal', 'canadian black me...        32.0   \n",
              "13835  ['instrumental post-rock', 'post-rock', 'russi...        31.0   \n",
              "13836                                    ['lo-fi beats']        53.0   \n",
              "13837  ['arizona punk', 'melodic metalcore', 'post-ha...        32.0   \n",
              "13838  ['black metal', 'celtic metal', 'doom metal', ...        37.0   \n",
              "\n",
              "        followers   pop_mean   rel_mean      fol_mean        date  rank  \\\n",
              "0      61377383.0  81.377358  53.075472  1.100285e+07  2021-11-06  91.0   \n",
              "1      61377383.0  81.377358  53.075472  1.100285e+07  2021-10-02  30.0   \n",
              "2      61377383.0  81.377358  53.075472  1.100285e+07  2021-10-02  40.0   \n",
              "3      61377383.0  81.377358  53.075472  1.100285e+07  2021-10-02  48.0   \n",
              "4      61377383.0  81.377358  53.075472  1.100285e+07  2021-10-02  66.0   \n",
              "...           ...        ...        ...           ...         ...   ...   \n",
              "13834     20071.0  33.500000   3.500000  1.870100e+04         NaN   NaN   \n",
              "13835     10235.0  34.000000   4.500000  2.361900e+04         NaN   NaN   \n",
              "13836      7478.0  62.000000   2.000000  5.242000e+03         NaN   NaN   \n",
              "13837     33531.0  56.000000   8.000000  3.298930e+05         NaN   NaN   \n",
              "13838     64127.0  53.000000  11.000000  2.853120e+05         NaN   NaN   \n",
              "\n",
              "       weeks-on-board  \n",
              "0                 8.0  \n",
              "1                 3.0  \n",
              "2                 3.0  \n",
              "3                 3.0  \n",
              "4                 3.0  \n",
              "...               ...  \n",
              "13834             NaN  \n",
              "13835             NaN  \n",
              "13836             NaN  \n",
              "13837             NaN  \n",
              "13838             NaN  \n",
              "\n",
              "[13839 rows x 11 columns]"
            ],
            "text/html": [
              "\n",
              "  <div id=\"df-540bc15c-0d45-4683-ba7d-7f9e3d0a0900\">\n",
              "    <div class=\"colab-df-container\">\n",
              "      <div>\n",
              "<style scoped>\n",
              "    .dataframe tbody tr th:only-of-type {\n",
              "        vertical-align: middle;\n",
              "    }\n",
              "\n",
              "    .dataframe tbody tr th {\n",
              "        vertical-align: top;\n",
              "    }\n",
              "\n",
              "    .dataframe thead th {\n",
              "        text-align: right;\n",
              "    }\n",
              "</style>\n",
              "<table border=\"1\" class=\"dataframe\">\n",
              "  <thead>\n",
              "    <tr style=\"text-align: right;\">\n",
              "      <th></th>\n",
              "      <th>id</th>\n",
              "      <th>artist</th>\n",
              "      <th>genres</th>\n",
              "      <th>popularity</th>\n",
              "      <th>followers</th>\n",
              "      <th>pop_mean</th>\n",
              "      <th>rel_mean</th>\n",
              "      <th>fol_mean</th>\n",
              "      <th>date</th>\n",
              "      <th>rank</th>\n",
              "      <th>weeks-on-board</th>\n",
              "    </tr>\n",
              "  </thead>\n",
              "  <tbody>\n",
              "    <tr>\n",
              "      <th>0</th>\n",
              "      <td>600808</td>\n",
              "      <td>Drake</td>\n",
              "      <td>['canadian hip hop', 'canadian pop', 'hip hop'...</td>\n",
              "      <td>98.0</td>\n",
              "      <td>61377383.0</td>\n",
              "      <td>81.377358</td>\n",
              "      <td>53.075472</td>\n",
              "      <td>1.100285e+07</td>\n",
              "      <td>2021-11-06</td>\n",
              "      <td>91.0</td>\n",
              "      <td>8.0</td>\n",
              "    </tr>\n",
              "    <tr>\n",
              "      <th>1</th>\n",
              "      <td>600808</td>\n",
              "      <td>Drake</td>\n",
              "      <td>['canadian hip hop', 'canadian pop', 'hip hop'...</td>\n",
              "      <td>98.0</td>\n",
              "      <td>61377383.0</td>\n",
              "      <td>81.377358</td>\n",
              "      <td>53.075472</td>\n",
              "      <td>1.100285e+07</td>\n",
              "      <td>2021-10-02</td>\n",
              "      <td>30.0</td>\n",
              "      <td>3.0</td>\n",
              "    </tr>\n",
              "    <tr>\n",
              "      <th>2</th>\n",
              "      <td>600808</td>\n",
              "      <td>Drake</td>\n",
              "      <td>['canadian hip hop', 'canadian pop', 'hip hop'...</td>\n",
              "      <td>98.0</td>\n",
              "      <td>61377383.0</td>\n",
              "      <td>81.377358</td>\n",
              "      <td>53.075472</td>\n",
              "      <td>1.100285e+07</td>\n",
              "      <td>2021-10-02</td>\n",
              "      <td>40.0</td>\n",
              "      <td>3.0</td>\n",
              "    </tr>\n",
              "    <tr>\n",
              "      <th>3</th>\n",
              "      <td>600808</td>\n",
              "      <td>Drake</td>\n",
              "      <td>['canadian hip hop', 'canadian pop', 'hip hop'...</td>\n",
              "      <td>98.0</td>\n",
              "      <td>61377383.0</td>\n",
              "      <td>81.377358</td>\n",
              "      <td>53.075472</td>\n",
              "      <td>1.100285e+07</td>\n",
              "      <td>2021-10-02</td>\n",
              "      <td>48.0</td>\n",
              "      <td>3.0</td>\n",
              "    </tr>\n",
              "    <tr>\n",
              "      <th>4</th>\n",
              "      <td>600808</td>\n",
              "      <td>Drake</td>\n",
              "      <td>['canadian hip hop', 'canadian pop', 'hip hop'...</td>\n",
              "      <td>98.0</td>\n",
              "      <td>61377383.0</td>\n",
              "      <td>81.377358</td>\n",
              "      <td>53.075472</td>\n",
              "      <td>1.100285e+07</td>\n",
              "      <td>2021-10-02</td>\n",
              "      <td>66.0</td>\n",
              "      <td>3.0</td>\n",
              "    </tr>\n",
              "    <tr>\n",
              "      <th>...</th>\n",
              "      <td>...</td>\n",
              "      <td>...</td>\n",
              "      <td>...</td>\n",
              "      <td>...</td>\n",
              "      <td>...</td>\n",
              "      <td>...</td>\n",
              "      <td>...</td>\n",
              "      <td>...</td>\n",
              "      <td>...</td>\n",
              "      <td>...</td>\n",
              "      <td>...</td>\n",
              "    </tr>\n",
              "    <tr>\n",
              "      <th>13834</th>\n",
              "      <td>1418260</td>\n",
              "      <td>Unreqvited</td>\n",
              "      <td>['atmospheric black metal', 'canadian black me...</td>\n",
              "      <td>32.0</td>\n",
              "      <td>20071.0</td>\n",
              "      <td>33.500000</td>\n",
              "      <td>3.500000</td>\n",
              "      <td>1.870100e+04</td>\n",
              "      <td>NaN</td>\n",
              "      <td>NaN</td>\n",
              "      <td>NaN</td>\n",
              "    </tr>\n",
              "    <tr>\n",
              "      <th>13835</th>\n",
              "      <td>844823</td>\n",
              "      <td>Show Me a Dinosaur</td>\n",
              "      <td>['instrumental post-rock', 'post-rock', 'russi...</td>\n",
              "      <td>31.0</td>\n",
              "      <td>10235.0</td>\n",
              "      <td>34.000000</td>\n",
              "      <td>4.500000</td>\n",
              "      <td>2.361900e+04</td>\n",
              "      <td>NaN</td>\n",
              "      <td>NaN</td>\n",
              "      <td>NaN</td>\n",
              "    </tr>\n",
              "    <tr>\n",
              "      <th>13836</th>\n",
              "      <td>1796328</td>\n",
              "      <td>Flovry</td>\n",
              "      <td>['lo-fi beats']</td>\n",
              "      <td>53.0</td>\n",
              "      <td>7478.0</td>\n",
              "      <td>62.000000</td>\n",
              "      <td>2.000000</td>\n",
              "      <td>5.242000e+03</td>\n",
              "      <td>NaN</td>\n",
              "      <td>NaN</td>\n",
              "      <td>NaN</td>\n",
              "    </tr>\n",
              "    <tr>\n",
              "      <th>13837</th>\n",
              "      <td>121805</td>\n",
              "      <td>The Bled</td>\n",
              "      <td>['arizona punk', 'melodic metalcore', 'post-ha...</td>\n",
              "      <td>32.0</td>\n",
              "      <td>33531.0</td>\n",
              "      <td>56.000000</td>\n",
              "      <td>8.000000</td>\n",
              "      <td>3.298930e+05</td>\n",
              "      <td>NaN</td>\n",
              "      <td>NaN</td>\n",
              "      <td>NaN</td>\n",
              "    </tr>\n",
              "    <tr>\n",
              "      <th>13838</th>\n",
              "      <td>11473</td>\n",
              "      <td>Primordial</td>\n",
              "      <td>['black metal', 'celtic metal', 'doom metal', ...</td>\n",
              "      <td>37.0</td>\n",
              "      <td>64127.0</td>\n",
              "      <td>53.000000</td>\n",
              "      <td>11.000000</td>\n",
              "      <td>2.853120e+05</td>\n",
              "      <td>NaN</td>\n",
              "      <td>NaN</td>\n",
              "      <td>NaN</td>\n",
              "    </tr>\n",
              "  </tbody>\n",
              "</table>\n",
              "<p>13839 rows × 11 columns</p>\n",
              "</div>\n",
              "      <button class=\"colab-df-convert\" onclick=\"convertToInteractive('df-540bc15c-0d45-4683-ba7d-7f9e3d0a0900')\"\n",
              "              title=\"Convert this dataframe to an interactive table.\"\n",
              "              style=\"display:none;\">\n",
              "        \n",
              "  <svg xmlns=\"http://www.w3.org/2000/svg\" height=\"24px\"viewBox=\"0 0 24 24\"\n",
              "       width=\"24px\">\n",
              "    <path d=\"M0 0h24v24H0V0z\" fill=\"none\"/>\n",
              "    <path d=\"M18.56 5.44l.94 2.06.94-2.06 2.06-.94-2.06-.94-.94-2.06-.94 2.06-2.06.94zm-11 1L8.5 8.5l.94-2.06 2.06-.94-2.06-.94L8.5 2.5l-.94 2.06-2.06.94zm10 10l.94 2.06.94-2.06 2.06-.94-2.06-.94-.94-2.06-.94 2.06-2.06.94z\"/><path d=\"M17.41 7.96l-1.37-1.37c-.4-.4-.92-.59-1.43-.59-.52 0-1.04.2-1.43.59L10.3 9.45l-7.72 7.72c-.78.78-.78 2.05 0 2.83L4 21.41c.39.39.9.59 1.41.59.51 0 1.02-.2 1.41-.59l7.78-7.78 2.81-2.81c.8-.78.8-2.07 0-2.86zM5.41 20L4 18.59l7.72-7.72 1.47 1.35L5.41 20z\"/>\n",
              "  </svg>\n",
              "      </button>\n",
              "      \n",
              "  <style>\n",
              "    .colab-df-container {\n",
              "      display:flex;\n",
              "      flex-wrap:wrap;\n",
              "      gap: 12px;\n",
              "    }\n",
              "\n",
              "    .colab-df-convert {\n",
              "      background-color: #E8F0FE;\n",
              "      border: none;\n",
              "      border-radius: 50%;\n",
              "      cursor: pointer;\n",
              "      display: none;\n",
              "      fill: #1967D2;\n",
              "      height: 32px;\n",
              "      padding: 0 0 0 0;\n",
              "      width: 32px;\n",
              "    }\n",
              "\n",
              "    .colab-df-convert:hover {\n",
              "      background-color: #E2EBFA;\n",
              "      box-shadow: 0px 1px 2px rgba(60, 64, 67, 0.3), 0px 1px 3px 1px rgba(60, 64, 67, 0.15);\n",
              "      fill: #174EA6;\n",
              "    }\n",
              "\n",
              "    [theme=dark] .colab-df-convert {\n",
              "      background-color: #3B4455;\n",
              "      fill: #D2E3FC;\n",
              "    }\n",
              "\n",
              "    [theme=dark] .colab-df-convert:hover {\n",
              "      background-color: #434B5C;\n",
              "      box-shadow: 0px 1px 3px 1px rgba(0, 0, 0, 0.15);\n",
              "      filter: drop-shadow(0px 1px 2px rgba(0, 0, 0, 0.3));\n",
              "      fill: #FFFFFF;\n",
              "    }\n",
              "  </style>\n",
              "\n",
              "      <script>\n",
              "        const buttonEl =\n",
              "          document.querySelector('#df-540bc15c-0d45-4683-ba7d-7f9e3d0a0900 button.colab-df-convert');\n",
              "        buttonEl.style.display =\n",
              "          google.colab.kernel.accessAllowed ? 'block' : 'none';\n",
              "\n",
              "        async function convertToInteractive(key) {\n",
              "          const element = document.querySelector('#df-540bc15c-0d45-4683-ba7d-7f9e3d0a0900');\n",
              "          const dataTable =\n",
              "            await google.colab.kernel.invokeFunction('convertToInteractive',\n",
              "                                                     [key], {});\n",
              "          if (!dataTable) return;\n",
              "\n",
              "          const docLinkHtml = 'Like what you see? Visit the ' +\n",
              "            '<a target=\"_blank\" href=https://colab.research.google.com/notebooks/data_table.ipynb>data table notebook</a>'\n",
              "            + ' to learn more about interactive tables.';\n",
              "          element.innerHTML = '';\n",
              "          dataTable['output_type'] = 'display_data';\n",
              "          await google.colab.output.renderOutput(dataTable, element);\n",
              "          const docLink = document.createElement('div');\n",
              "          docLink.innerHTML = docLinkHtml;\n",
              "          element.appendChild(docLink);\n",
              "        }\n",
              "      </script>\n",
              "    </div>\n",
              "  </div>\n",
              "  "
            ]
          },
          "metadata": {}
        }
      ],
      "source": [
        "#데이터 합치기\n",
        "spotify = pd.merge(feature,charts,how='left',on='artist')\n",
        "display(spotify)"
      ]
    },
    {
      "cell_type": "markdown",
      "metadata": {
        "id": "x-yhYRtdw_5j"
      },
      "source": [
        "***Top100에 차트인 한 아티스트는 yes, 그렇지 않은 아티스트는 no인 새로운 변수 'top100'만들기***"
      ]
    },
    {
      "cell_type": "code",
      "execution_count": 94,
      "metadata": {
        "id": "KGZeKYc_x_-G",
        "colab": {
          "base_uri": "https://localhost:8080/",
          "height": 658
        },
        "outputId": "1f632f08-2496-4814-f959-c630e057ff82"
      },
      "outputs": [
        {
          "output_type": "display_data",
          "data": {
            "text/plain": [
              "            id              artist  \\\n",
              "0       600808               Drake   \n",
              "1       600808               Drake   \n",
              "2       600808               Drake   \n",
              "3       600808               Drake   \n",
              "4       600808               Drake   \n",
              "...        ...                 ...   \n",
              "13834  1418260          Unreqvited   \n",
              "13835   844823  Show Me a Dinosaur   \n",
              "13836  1796328              Flovry   \n",
              "13837   121805            The Bled   \n",
              "13838    11473          Primordial   \n",
              "\n",
              "                                                  genres  popularity  \\\n",
              "0      ['canadian hip hop', 'canadian pop', 'hip hop'...        98.0   \n",
              "1      ['canadian hip hop', 'canadian pop', 'hip hop'...        98.0   \n",
              "2      ['canadian hip hop', 'canadian pop', 'hip hop'...        98.0   \n",
              "3      ['canadian hip hop', 'canadian pop', 'hip hop'...        98.0   \n",
              "4      ['canadian hip hop', 'canadian pop', 'hip hop'...        98.0   \n",
              "...                                                  ...         ...   \n",
              "13834  ['atmospheric black metal', 'canadian black me...        32.0   \n",
              "13835  ['instrumental post-rock', 'post-rock', 'russi...        31.0   \n",
              "13836                                    ['lo-fi beats']        53.0   \n",
              "13837  ['arizona punk', 'melodic metalcore', 'post-ha...        32.0   \n",
              "13838  ['black metal', 'celtic metal', 'doom metal', ...        37.0   \n",
              "\n",
              "        followers   pop_mean   rel_mean      fol_mean        date  rank  \\\n",
              "0      61377383.0  81.377358  53.075472  1.100285e+07  2021-11-06  91.0   \n",
              "1      61377383.0  81.377358  53.075472  1.100285e+07  2021-10-02  30.0   \n",
              "2      61377383.0  81.377358  53.075472  1.100285e+07  2021-10-02  40.0   \n",
              "3      61377383.0  81.377358  53.075472  1.100285e+07  2021-10-02  48.0   \n",
              "4      61377383.0  81.377358  53.075472  1.100285e+07  2021-10-02  66.0   \n",
              "...           ...        ...        ...           ...         ...   ...   \n",
              "13834     20071.0  33.500000   3.500000  1.870100e+04         NaN   NaN   \n",
              "13835     10235.0  34.000000   4.500000  2.361900e+04         NaN   NaN   \n",
              "13836      7478.0  62.000000   2.000000  5.242000e+03         NaN   NaN   \n",
              "13837     33531.0  56.000000   8.000000  3.298930e+05         NaN   NaN   \n",
              "13838     64127.0  53.000000  11.000000  2.853120e+05         NaN   NaN   \n",
              "\n",
              "       weeks-on-board top100  \n",
              "0                 8.0    Yes  \n",
              "1                 3.0    Yes  \n",
              "2                 3.0    Yes  \n",
              "3                 3.0    Yes  \n",
              "4                 3.0    Yes  \n",
              "...               ...    ...  \n",
              "13834             NaN     No  \n",
              "13835             NaN     No  \n",
              "13836             NaN     No  \n",
              "13837             NaN     No  \n",
              "13838             NaN     No  \n",
              "\n",
              "[13839 rows x 12 columns]"
            ],
            "text/html": [
              "\n",
              "  <div id=\"df-251224a5-1223-4828-859e-7f7a4fb4bf2f\">\n",
              "    <div class=\"colab-df-container\">\n",
              "      <div>\n",
              "<style scoped>\n",
              "    .dataframe tbody tr th:only-of-type {\n",
              "        vertical-align: middle;\n",
              "    }\n",
              "\n",
              "    .dataframe tbody tr th {\n",
              "        vertical-align: top;\n",
              "    }\n",
              "\n",
              "    .dataframe thead th {\n",
              "        text-align: right;\n",
              "    }\n",
              "</style>\n",
              "<table border=\"1\" class=\"dataframe\">\n",
              "  <thead>\n",
              "    <tr style=\"text-align: right;\">\n",
              "      <th></th>\n",
              "      <th>id</th>\n",
              "      <th>artist</th>\n",
              "      <th>genres</th>\n",
              "      <th>popularity</th>\n",
              "      <th>followers</th>\n",
              "      <th>pop_mean</th>\n",
              "      <th>rel_mean</th>\n",
              "      <th>fol_mean</th>\n",
              "      <th>date</th>\n",
              "      <th>rank</th>\n",
              "      <th>weeks-on-board</th>\n",
              "      <th>top100</th>\n",
              "    </tr>\n",
              "  </thead>\n",
              "  <tbody>\n",
              "    <tr>\n",
              "      <th>0</th>\n",
              "      <td>600808</td>\n",
              "      <td>Drake</td>\n",
              "      <td>['canadian hip hop', 'canadian pop', 'hip hop'...</td>\n",
              "      <td>98.0</td>\n",
              "      <td>61377383.0</td>\n",
              "      <td>81.377358</td>\n",
              "      <td>53.075472</td>\n",
              "      <td>1.100285e+07</td>\n",
              "      <td>2021-11-06</td>\n",
              "      <td>91.0</td>\n",
              "      <td>8.0</td>\n",
              "      <td>Yes</td>\n",
              "    </tr>\n",
              "    <tr>\n",
              "      <th>1</th>\n",
              "      <td>600808</td>\n",
              "      <td>Drake</td>\n",
              "      <td>['canadian hip hop', 'canadian pop', 'hip hop'...</td>\n",
              "      <td>98.0</td>\n",
              "      <td>61377383.0</td>\n",
              "      <td>81.377358</td>\n",
              "      <td>53.075472</td>\n",
              "      <td>1.100285e+07</td>\n",
              "      <td>2021-10-02</td>\n",
              "      <td>30.0</td>\n",
              "      <td>3.0</td>\n",
              "      <td>Yes</td>\n",
              "    </tr>\n",
              "    <tr>\n",
              "      <th>2</th>\n",
              "      <td>600808</td>\n",
              "      <td>Drake</td>\n",
              "      <td>['canadian hip hop', 'canadian pop', 'hip hop'...</td>\n",
              "      <td>98.0</td>\n",
              "      <td>61377383.0</td>\n",
              "      <td>81.377358</td>\n",
              "      <td>53.075472</td>\n",
              "      <td>1.100285e+07</td>\n",
              "      <td>2021-10-02</td>\n",
              "      <td>40.0</td>\n",
              "      <td>3.0</td>\n",
              "      <td>Yes</td>\n",
              "    </tr>\n",
              "    <tr>\n",
              "      <th>3</th>\n",
              "      <td>600808</td>\n",
              "      <td>Drake</td>\n",
              "      <td>['canadian hip hop', 'canadian pop', 'hip hop'...</td>\n",
              "      <td>98.0</td>\n",
              "      <td>61377383.0</td>\n",
              "      <td>81.377358</td>\n",
              "      <td>53.075472</td>\n",
              "      <td>1.100285e+07</td>\n",
              "      <td>2021-10-02</td>\n",
              "      <td>48.0</td>\n",
              "      <td>3.0</td>\n",
              "      <td>Yes</td>\n",
              "    </tr>\n",
              "    <tr>\n",
              "      <th>4</th>\n",
              "      <td>600808</td>\n",
              "      <td>Drake</td>\n",
              "      <td>['canadian hip hop', 'canadian pop', 'hip hop'...</td>\n",
              "      <td>98.0</td>\n",
              "      <td>61377383.0</td>\n",
              "      <td>81.377358</td>\n",
              "      <td>53.075472</td>\n",
              "      <td>1.100285e+07</td>\n",
              "      <td>2021-10-02</td>\n",
              "      <td>66.0</td>\n",
              "      <td>3.0</td>\n",
              "      <td>Yes</td>\n",
              "    </tr>\n",
              "    <tr>\n",
              "      <th>...</th>\n",
              "      <td>...</td>\n",
              "      <td>...</td>\n",
              "      <td>...</td>\n",
              "      <td>...</td>\n",
              "      <td>...</td>\n",
              "      <td>...</td>\n",
              "      <td>...</td>\n",
              "      <td>...</td>\n",
              "      <td>...</td>\n",
              "      <td>...</td>\n",
              "      <td>...</td>\n",
              "      <td>...</td>\n",
              "    </tr>\n",
              "    <tr>\n",
              "      <th>13834</th>\n",
              "      <td>1418260</td>\n",
              "      <td>Unreqvited</td>\n",
              "      <td>['atmospheric black metal', 'canadian black me...</td>\n",
              "      <td>32.0</td>\n",
              "      <td>20071.0</td>\n",
              "      <td>33.500000</td>\n",
              "      <td>3.500000</td>\n",
              "      <td>1.870100e+04</td>\n",
              "      <td>NaN</td>\n",
              "      <td>NaN</td>\n",
              "      <td>NaN</td>\n",
              "      <td>No</td>\n",
              "    </tr>\n",
              "    <tr>\n",
              "      <th>13835</th>\n",
              "      <td>844823</td>\n",
              "      <td>Show Me a Dinosaur</td>\n",
              "      <td>['instrumental post-rock', 'post-rock', 'russi...</td>\n",
              "      <td>31.0</td>\n",
              "      <td>10235.0</td>\n",
              "      <td>34.000000</td>\n",
              "      <td>4.500000</td>\n",
              "      <td>2.361900e+04</td>\n",
              "      <td>NaN</td>\n",
              "      <td>NaN</td>\n",
              "      <td>NaN</td>\n",
              "      <td>No</td>\n",
              "    </tr>\n",
              "    <tr>\n",
              "      <th>13836</th>\n",
              "      <td>1796328</td>\n",
              "      <td>Flovry</td>\n",
              "      <td>['lo-fi beats']</td>\n",
              "      <td>53.0</td>\n",
              "      <td>7478.0</td>\n",
              "      <td>62.000000</td>\n",
              "      <td>2.000000</td>\n",
              "      <td>5.242000e+03</td>\n",
              "      <td>NaN</td>\n",
              "      <td>NaN</td>\n",
              "      <td>NaN</td>\n",
              "      <td>No</td>\n",
              "    </tr>\n",
              "    <tr>\n",
              "      <th>13837</th>\n",
              "      <td>121805</td>\n",
              "      <td>The Bled</td>\n",
              "      <td>['arizona punk', 'melodic metalcore', 'post-ha...</td>\n",
              "      <td>32.0</td>\n",
              "      <td>33531.0</td>\n",
              "      <td>56.000000</td>\n",
              "      <td>8.000000</td>\n",
              "      <td>3.298930e+05</td>\n",
              "      <td>NaN</td>\n",
              "      <td>NaN</td>\n",
              "      <td>NaN</td>\n",
              "      <td>No</td>\n",
              "    </tr>\n",
              "    <tr>\n",
              "      <th>13838</th>\n",
              "      <td>11473</td>\n",
              "      <td>Primordial</td>\n",
              "      <td>['black metal', 'celtic metal', 'doom metal', ...</td>\n",
              "      <td>37.0</td>\n",
              "      <td>64127.0</td>\n",
              "      <td>53.000000</td>\n",
              "      <td>11.000000</td>\n",
              "      <td>2.853120e+05</td>\n",
              "      <td>NaN</td>\n",
              "      <td>NaN</td>\n",
              "      <td>NaN</td>\n",
              "      <td>No</td>\n",
              "    </tr>\n",
              "  </tbody>\n",
              "</table>\n",
              "<p>13839 rows × 12 columns</p>\n",
              "</div>\n",
              "      <button class=\"colab-df-convert\" onclick=\"convertToInteractive('df-251224a5-1223-4828-859e-7f7a4fb4bf2f')\"\n",
              "              title=\"Convert this dataframe to an interactive table.\"\n",
              "              style=\"display:none;\">\n",
              "        \n",
              "  <svg xmlns=\"http://www.w3.org/2000/svg\" height=\"24px\"viewBox=\"0 0 24 24\"\n",
              "       width=\"24px\">\n",
              "    <path d=\"M0 0h24v24H0V0z\" fill=\"none\"/>\n",
              "    <path d=\"M18.56 5.44l.94 2.06.94-2.06 2.06-.94-2.06-.94-.94-2.06-.94 2.06-2.06.94zm-11 1L8.5 8.5l.94-2.06 2.06-.94-2.06-.94L8.5 2.5l-.94 2.06-2.06.94zm10 10l.94 2.06.94-2.06 2.06-.94-2.06-.94-.94-2.06-.94 2.06-2.06.94z\"/><path d=\"M17.41 7.96l-1.37-1.37c-.4-.4-.92-.59-1.43-.59-.52 0-1.04.2-1.43.59L10.3 9.45l-7.72 7.72c-.78.78-.78 2.05 0 2.83L4 21.41c.39.39.9.59 1.41.59.51 0 1.02-.2 1.41-.59l7.78-7.78 2.81-2.81c.8-.78.8-2.07 0-2.86zM5.41 20L4 18.59l7.72-7.72 1.47 1.35L5.41 20z\"/>\n",
              "  </svg>\n",
              "      </button>\n",
              "      \n",
              "  <style>\n",
              "    .colab-df-container {\n",
              "      display:flex;\n",
              "      flex-wrap:wrap;\n",
              "      gap: 12px;\n",
              "    }\n",
              "\n",
              "    .colab-df-convert {\n",
              "      background-color: #E8F0FE;\n",
              "      border: none;\n",
              "      border-radius: 50%;\n",
              "      cursor: pointer;\n",
              "      display: none;\n",
              "      fill: #1967D2;\n",
              "      height: 32px;\n",
              "      padding: 0 0 0 0;\n",
              "      width: 32px;\n",
              "    }\n",
              "\n",
              "    .colab-df-convert:hover {\n",
              "      background-color: #E2EBFA;\n",
              "      box-shadow: 0px 1px 2px rgba(60, 64, 67, 0.3), 0px 1px 3px 1px rgba(60, 64, 67, 0.15);\n",
              "      fill: #174EA6;\n",
              "    }\n",
              "\n",
              "    [theme=dark] .colab-df-convert {\n",
              "      background-color: #3B4455;\n",
              "      fill: #D2E3FC;\n",
              "    }\n",
              "\n",
              "    [theme=dark] .colab-df-convert:hover {\n",
              "      background-color: #434B5C;\n",
              "      box-shadow: 0px 1px 3px 1px rgba(0, 0, 0, 0.15);\n",
              "      filter: drop-shadow(0px 1px 2px rgba(0, 0, 0, 0.3));\n",
              "      fill: #FFFFFF;\n",
              "    }\n",
              "  </style>\n",
              "\n",
              "      <script>\n",
              "        const buttonEl =\n",
              "          document.querySelector('#df-251224a5-1223-4828-859e-7f7a4fb4bf2f button.colab-df-convert');\n",
              "        buttonEl.style.display =\n",
              "          google.colab.kernel.accessAllowed ? 'block' : 'none';\n",
              "\n",
              "        async function convertToInteractive(key) {\n",
              "          const element = document.querySelector('#df-251224a5-1223-4828-859e-7f7a4fb4bf2f');\n",
              "          const dataTable =\n",
              "            await google.colab.kernel.invokeFunction('convertToInteractive',\n",
              "                                                     [key], {});\n",
              "          if (!dataTable) return;\n",
              "\n",
              "          const docLinkHtml = 'Like what you see? Visit the ' +\n",
              "            '<a target=\"_blank\" href=https://colab.research.google.com/notebooks/data_table.ipynb>data table notebook</a>'\n",
              "            + ' to learn more about interactive tables.';\n",
              "          element.innerHTML = '';\n",
              "          dataTable['output_type'] = 'display_data';\n",
              "          await google.colab.output.renderOutput(dataTable, element);\n",
              "          const docLink = document.createElement('div');\n",
              "          docLink.innerHTML = docLinkHtml;\n",
              "          element.appendChild(docLink);\n",
              "        }\n",
              "      </script>\n",
              "    </div>\n",
              "  </div>\n",
              "  "
            ]
          },
          "metadata": {}
        }
      ],
      "source": [
        "#새로운 열 추가\n",
        "spotify[\"top100\"]=spotify[\"rank\"]\n",
        "\n",
        "#조건에 맞는 값을 칼럼에 추가\n",
        "spotify['top100']=spotify['top100'].fillna(\"No\")\n",
        "spotify.loc[(spotify['top100']!=\"No\"),'top100']=\"Yes\"\n",
        "\n",
        "display(spotify)"
      ]
    },
    {
      "cell_type": "markdown",
      "metadata": {
        "id": "O6hxrRjptNox"
      },
      "source": [
        "***artist를 기준으로 중복되는 행 제거***"
      ]
    },
    {
      "cell_type": "code",
      "execution_count": 95,
      "metadata": {
        "id": "nunbwC8EwoRV",
        "colab": {
          "base_uri": "https://localhost:8080/",
          "height": 641
        },
        "outputId": "18535705-c9ef-436c-a2fc-506d6292a01e"
      },
      "outputs": [
        {
          "output_type": "execute_result",
          "data": {
            "text/plain": [
              "            id              artist  \\\n",
              "0       600808               Drake   \n",
              "16      706819          Ed Sheeran   \n",
              "25      823336       Ariana Grande   \n",
              "43     1492430           Bad Bunny   \n",
              "53      796889          The Weeknd   \n",
              "...        ...                 ...   \n",
              "13834  1418260          Unreqvited   \n",
              "13835   844823  Show Me a Dinosaur   \n",
              "13836  1796328              Flovry   \n",
              "13837   121805            The Bled   \n",
              "13838    11473          Primordial   \n",
              "\n",
              "                                                  genres  popularity  \\\n",
              "0      ['canadian hip hop', 'canadian pop', 'hip hop'...        98.0   \n",
              "16                                     ['pop', 'uk pop']        95.0   \n",
              "25                                  ['dance pop', 'pop']        93.0   \n",
              "43                 ['latin', 'reggaeton', 'trap latino']       100.0   \n",
              "53     ['canadian contemporary r&b', 'canadian pop', ...        98.0   \n",
              "...                                                  ...         ...   \n",
              "13834  ['atmospheric black metal', 'canadian black me...        32.0   \n",
              "13835  ['instrumental post-rock', 'post-rock', 'russi...        31.0   \n",
              "13836                                    ['lo-fi beats']        53.0   \n",
              "13837  ['arizona punk', 'melodic metalcore', 'post-ha...        32.0   \n",
              "13838  ['black metal', 'celtic metal', 'doom metal', ...        37.0   \n",
              "\n",
              "        followers   pop_mean   rel_mean      fol_mean        date  rank  \\\n",
              "0      61377383.0  81.377358  53.075472  1.100285e+07  2021-11-06  91.0   \n",
              "16     93327682.0  80.035714  44.035714  1.472265e+07  2021-11-06   5.0   \n",
              "25     76626333.0  77.650000  51.900000  1.000831e+07  2021-07-03  27.0   \n",
              "43     44516743.0  75.628571  23.142857  8.425305e+06  2021-10-02  85.0   \n",
              "53     42275433.0  81.928571  53.178571  1.363645e+07  2021-11-06  32.0   \n",
              "...           ...        ...        ...           ...         ...   ...   \n",
              "13834     20071.0  33.500000   3.500000  1.870100e+04         NaN   NaN   \n",
              "13835     10235.0  34.000000   4.500000  2.361900e+04         NaN   NaN   \n",
              "13836      7478.0  62.000000   2.000000  5.242000e+03         NaN   NaN   \n",
              "13837     33531.0  56.000000   8.000000  3.298930e+05         NaN   NaN   \n",
              "13838     64127.0  53.000000  11.000000  2.853120e+05         NaN   NaN   \n",
              "\n",
              "       weeks-on-board top100  \n",
              "0                 8.0    Yes  \n",
              "16               18.0    Yes  \n",
              "25               16.0    Yes  \n",
              "43               16.0    Yes  \n",
              "53               12.0    Yes  \n",
              "...               ...    ...  \n",
              "13834             NaN     No  \n",
              "13835             NaN     No  \n",
              "13836             NaN     No  \n",
              "13837             NaN     No  \n",
              "13838             NaN     No  \n",
              "\n",
              "[12883 rows x 12 columns]"
            ],
            "text/html": [
              "\n",
              "  <div id=\"df-343565f9-da6d-404a-a19a-54e6f11a807e\">\n",
              "    <div class=\"colab-df-container\">\n",
              "      <div>\n",
              "<style scoped>\n",
              "    .dataframe tbody tr th:only-of-type {\n",
              "        vertical-align: middle;\n",
              "    }\n",
              "\n",
              "    .dataframe tbody tr th {\n",
              "        vertical-align: top;\n",
              "    }\n",
              "\n",
              "    .dataframe thead th {\n",
              "        text-align: right;\n",
              "    }\n",
              "</style>\n",
              "<table border=\"1\" class=\"dataframe\">\n",
              "  <thead>\n",
              "    <tr style=\"text-align: right;\">\n",
              "      <th></th>\n",
              "      <th>id</th>\n",
              "      <th>artist</th>\n",
              "      <th>genres</th>\n",
              "      <th>popularity</th>\n",
              "      <th>followers</th>\n",
              "      <th>pop_mean</th>\n",
              "      <th>rel_mean</th>\n",
              "      <th>fol_mean</th>\n",
              "      <th>date</th>\n",
              "      <th>rank</th>\n",
              "      <th>weeks-on-board</th>\n",
              "      <th>top100</th>\n",
              "    </tr>\n",
              "  </thead>\n",
              "  <tbody>\n",
              "    <tr>\n",
              "      <th>0</th>\n",
              "      <td>600808</td>\n",
              "      <td>Drake</td>\n",
              "      <td>['canadian hip hop', 'canadian pop', 'hip hop'...</td>\n",
              "      <td>98.0</td>\n",
              "      <td>61377383.0</td>\n",
              "      <td>81.377358</td>\n",
              "      <td>53.075472</td>\n",
              "      <td>1.100285e+07</td>\n",
              "      <td>2021-11-06</td>\n",
              "      <td>91.0</td>\n",
              "      <td>8.0</td>\n",
              "      <td>Yes</td>\n",
              "    </tr>\n",
              "    <tr>\n",
              "      <th>16</th>\n",
              "      <td>706819</td>\n",
              "      <td>Ed Sheeran</td>\n",
              "      <td>['pop', 'uk pop']</td>\n",
              "      <td>95.0</td>\n",
              "      <td>93327682.0</td>\n",
              "      <td>80.035714</td>\n",
              "      <td>44.035714</td>\n",
              "      <td>1.472265e+07</td>\n",
              "      <td>2021-11-06</td>\n",
              "      <td>5.0</td>\n",
              "      <td>18.0</td>\n",
              "      <td>Yes</td>\n",
              "    </tr>\n",
              "    <tr>\n",
              "      <th>25</th>\n",
              "      <td>823336</td>\n",
              "      <td>Ariana Grande</td>\n",
              "      <td>['dance pop', 'pop']</td>\n",
              "      <td>93.0</td>\n",
              "      <td>76626333.0</td>\n",
              "      <td>77.650000</td>\n",
              "      <td>51.900000</td>\n",
              "      <td>1.000831e+07</td>\n",
              "      <td>2021-07-03</td>\n",
              "      <td>27.0</td>\n",
              "      <td>16.0</td>\n",
              "      <td>Yes</td>\n",
              "    </tr>\n",
              "    <tr>\n",
              "      <th>43</th>\n",
              "      <td>1492430</td>\n",
              "      <td>Bad Bunny</td>\n",
              "      <td>['latin', 'reggaeton', 'trap latino']</td>\n",
              "      <td>100.0</td>\n",
              "      <td>44516743.0</td>\n",
              "      <td>75.628571</td>\n",
              "      <td>23.142857</td>\n",
              "      <td>8.425305e+06</td>\n",
              "      <td>2021-10-02</td>\n",
              "      <td>85.0</td>\n",
              "      <td>16.0</td>\n",
              "      <td>Yes</td>\n",
              "    </tr>\n",
              "    <tr>\n",
              "      <th>53</th>\n",
              "      <td>796889</td>\n",
              "      <td>The Weeknd</td>\n",
              "      <td>['canadian contemporary r&amp;b', 'canadian pop', ...</td>\n",
              "      <td>98.0</td>\n",
              "      <td>42275433.0</td>\n",
              "      <td>81.928571</td>\n",
              "      <td>53.178571</td>\n",
              "      <td>1.363645e+07</td>\n",
              "      <td>2021-11-06</td>\n",
              "      <td>32.0</td>\n",
              "      <td>12.0</td>\n",
              "      <td>Yes</td>\n",
              "    </tr>\n",
              "    <tr>\n",
              "      <th>...</th>\n",
              "      <td>...</td>\n",
              "      <td>...</td>\n",
              "      <td>...</td>\n",
              "      <td>...</td>\n",
              "      <td>...</td>\n",
              "      <td>...</td>\n",
              "      <td>...</td>\n",
              "      <td>...</td>\n",
              "      <td>...</td>\n",
              "      <td>...</td>\n",
              "      <td>...</td>\n",
              "      <td>...</td>\n",
              "    </tr>\n",
              "    <tr>\n",
              "      <th>13834</th>\n",
              "      <td>1418260</td>\n",
              "      <td>Unreqvited</td>\n",
              "      <td>['atmospheric black metal', 'canadian black me...</td>\n",
              "      <td>32.0</td>\n",
              "      <td>20071.0</td>\n",
              "      <td>33.500000</td>\n",
              "      <td>3.500000</td>\n",
              "      <td>1.870100e+04</td>\n",
              "      <td>NaN</td>\n",
              "      <td>NaN</td>\n",
              "      <td>NaN</td>\n",
              "      <td>No</td>\n",
              "    </tr>\n",
              "    <tr>\n",
              "      <th>13835</th>\n",
              "      <td>844823</td>\n",
              "      <td>Show Me a Dinosaur</td>\n",
              "      <td>['instrumental post-rock', 'post-rock', 'russi...</td>\n",
              "      <td>31.0</td>\n",
              "      <td>10235.0</td>\n",
              "      <td>34.000000</td>\n",
              "      <td>4.500000</td>\n",
              "      <td>2.361900e+04</td>\n",
              "      <td>NaN</td>\n",
              "      <td>NaN</td>\n",
              "      <td>NaN</td>\n",
              "      <td>No</td>\n",
              "    </tr>\n",
              "    <tr>\n",
              "      <th>13836</th>\n",
              "      <td>1796328</td>\n",
              "      <td>Flovry</td>\n",
              "      <td>['lo-fi beats']</td>\n",
              "      <td>53.0</td>\n",
              "      <td>7478.0</td>\n",
              "      <td>62.000000</td>\n",
              "      <td>2.000000</td>\n",
              "      <td>5.242000e+03</td>\n",
              "      <td>NaN</td>\n",
              "      <td>NaN</td>\n",
              "      <td>NaN</td>\n",
              "      <td>No</td>\n",
              "    </tr>\n",
              "    <tr>\n",
              "      <th>13837</th>\n",
              "      <td>121805</td>\n",
              "      <td>The Bled</td>\n",
              "      <td>['arizona punk', 'melodic metalcore', 'post-ha...</td>\n",
              "      <td>32.0</td>\n",
              "      <td>33531.0</td>\n",
              "      <td>56.000000</td>\n",
              "      <td>8.000000</td>\n",
              "      <td>3.298930e+05</td>\n",
              "      <td>NaN</td>\n",
              "      <td>NaN</td>\n",
              "      <td>NaN</td>\n",
              "      <td>No</td>\n",
              "    </tr>\n",
              "    <tr>\n",
              "      <th>13838</th>\n",
              "      <td>11473</td>\n",
              "      <td>Primordial</td>\n",
              "      <td>['black metal', 'celtic metal', 'doom metal', ...</td>\n",
              "      <td>37.0</td>\n",
              "      <td>64127.0</td>\n",
              "      <td>53.000000</td>\n",
              "      <td>11.000000</td>\n",
              "      <td>2.853120e+05</td>\n",
              "      <td>NaN</td>\n",
              "      <td>NaN</td>\n",
              "      <td>NaN</td>\n",
              "      <td>No</td>\n",
              "    </tr>\n",
              "  </tbody>\n",
              "</table>\n",
              "<p>12883 rows × 12 columns</p>\n",
              "</div>\n",
              "      <button class=\"colab-df-convert\" onclick=\"convertToInteractive('df-343565f9-da6d-404a-a19a-54e6f11a807e')\"\n",
              "              title=\"Convert this dataframe to an interactive table.\"\n",
              "              style=\"display:none;\">\n",
              "        \n",
              "  <svg xmlns=\"http://www.w3.org/2000/svg\" height=\"24px\"viewBox=\"0 0 24 24\"\n",
              "       width=\"24px\">\n",
              "    <path d=\"M0 0h24v24H0V0z\" fill=\"none\"/>\n",
              "    <path d=\"M18.56 5.44l.94 2.06.94-2.06 2.06-.94-2.06-.94-.94-2.06-.94 2.06-2.06.94zm-11 1L8.5 8.5l.94-2.06 2.06-.94-2.06-.94L8.5 2.5l-.94 2.06-2.06.94zm10 10l.94 2.06.94-2.06 2.06-.94-2.06-.94-.94-2.06-.94 2.06-2.06.94z\"/><path d=\"M17.41 7.96l-1.37-1.37c-.4-.4-.92-.59-1.43-.59-.52 0-1.04.2-1.43.59L10.3 9.45l-7.72 7.72c-.78.78-.78 2.05 0 2.83L4 21.41c.39.39.9.59 1.41.59.51 0 1.02-.2 1.41-.59l7.78-7.78 2.81-2.81c.8-.78.8-2.07 0-2.86zM5.41 20L4 18.59l7.72-7.72 1.47 1.35L5.41 20z\"/>\n",
              "  </svg>\n",
              "      </button>\n",
              "      \n",
              "  <style>\n",
              "    .colab-df-container {\n",
              "      display:flex;\n",
              "      flex-wrap:wrap;\n",
              "      gap: 12px;\n",
              "    }\n",
              "\n",
              "    .colab-df-convert {\n",
              "      background-color: #E8F0FE;\n",
              "      border: none;\n",
              "      border-radius: 50%;\n",
              "      cursor: pointer;\n",
              "      display: none;\n",
              "      fill: #1967D2;\n",
              "      height: 32px;\n",
              "      padding: 0 0 0 0;\n",
              "      width: 32px;\n",
              "    }\n",
              "\n",
              "    .colab-df-convert:hover {\n",
              "      background-color: #E2EBFA;\n",
              "      box-shadow: 0px 1px 2px rgba(60, 64, 67, 0.3), 0px 1px 3px 1px rgba(60, 64, 67, 0.15);\n",
              "      fill: #174EA6;\n",
              "    }\n",
              "\n",
              "    [theme=dark] .colab-df-convert {\n",
              "      background-color: #3B4455;\n",
              "      fill: #D2E3FC;\n",
              "    }\n",
              "\n",
              "    [theme=dark] .colab-df-convert:hover {\n",
              "      background-color: #434B5C;\n",
              "      box-shadow: 0px 1px 3px 1px rgba(0, 0, 0, 0.15);\n",
              "      filter: drop-shadow(0px 1px 2px rgba(0, 0, 0, 0.3));\n",
              "      fill: #FFFFFF;\n",
              "    }\n",
              "  </style>\n",
              "\n",
              "      <script>\n",
              "        const buttonEl =\n",
              "          document.querySelector('#df-343565f9-da6d-404a-a19a-54e6f11a807e button.colab-df-convert');\n",
              "        buttonEl.style.display =\n",
              "          google.colab.kernel.accessAllowed ? 'block' : 'none';\n",
              "\n",
              "        async function convertToInteractive(key) {\n",
              "          const element = document.querySelector('#df-343565f9-da6d-404a-a19a-54e6f11a807e');\n",
              "          const dataTable =\n",
              "            await google.colab.kernel.invokeFunction('convertToInteractive',\n",
              "                                                     [key], {});\n",
              "          if (!dataTable) return;\n",
              "\n",
              "          const docLinkHtml = 'Like what you see? Visit the ' +\n",
              "            '<a target=\"_blank\" href=https://colab.research.google.com/notebooks/data_table.ipynb>data table notebook</a>'\n",
              "            + ' to learn more about interactive tables.';\n",
              "          element.innerHTML = '';\n",
              "          dataTable['output_type'] = 'display_data';\n",
              "          await google.colab.output.renderOutput(dataTable, element);\n",
              "          const docLink = document.createElement('div');\n",
              "          docLink.innerHTML = docLinkHtml;\n",
              "          element.appendChild(docLink);\n",
              "        }\n",
              "      </script>\n",
              "    </div>\n",
              "  </div>\n",
              "  "
            ]
          },
          "metadata": {},
          "execution_count": 95
        }
      ],
      "source": [
        "spotify.drop_duplicates(['artist'])"
      ]
    },
    {
      "cell_type": "markdown",
      "source": [
        "##**Step 2. 분류**"
      ],
      "metadata": {
        "id": "S8ihdTeG9mwO"
      }
    },
    {
      "cell_type": "markdown",
      "source": [
        "### 분류 문제 선정: 아티스트의 성공 예측 및 전략 수립하기\n",
        "\n",
        "* 종속변수: top-100 포함 여부\n",
        "\n",
        "* 독립변수: popularity, followers, rel_mean, fol_mean, pop_mean\n",
        "\n",
        "Yes: 2019년부터 2년간 1~11월의 첫째 주마다 top-100위를 기록한 가수들\n",
        "No: top-100에 포함되지 않은 가수들\n",
        "\n",
        "어떤 독립변수가 스포티파이 차트에서 높은 순위를 기록하는 데 영향을 줄 수 있는지 확인한다.\n",
        "\n",
        "결과에 무관하게 세운 가정: 인기도가 높을수록 가수가 성공할 확률이 높을 것이기 때문에, 인기도가 top-100에 영향을 줄 것이다."
      ],
      "metadata": {
        "id": "AW1tKXliUTP9"
      }
    },
    {
      "cell_type": "markdown",
      "source": [
        "### **1) spotify 추가 전처리**\n",
        "널값 및 사용하지 않는 열 모두 삭제하기"
      ],
      "metadata": {
        "id": "iJuRDLX6O2z9"
      }
    },
    {
      "cell_type": "code",
      "source": [
        "display(spotify)"
      ],
      "metadata": {
        "colab": {
          "base_uri": "https://localhost:8080/",
          "height": 658
        },
        "id": "0qyXy5DYJR_R",
        "outputId": "8cf39fa5-00b5-4702-d80c-9a24810a202a"
      },
      "execution_count": 96,
      "outputs": [
        {
          "output_type": "display_data",
          "data": {
            "text/plain": [
              "            id              artist  \\\n",
              "0       600808               Drake   \n",
              "1       600808               Drake   \n",
              "2       600808               Drake   \n",
              "3       600808               Drake   \n",
              "4       600808               Drake   \n",
              "...        ...                 ...   \n",
              "13834  1418260          Unreqvited   \n",
              "13835   844823  Show Me a Dinosaur   \n",
              "13836  1796328              Flovry   \n",
              "13837   121805            The Bled   \n",
              "13838    11473          Primordial   \n",
              "\n",
              "                                                  genres  popularity  \\\n",
              "0      ['canadian hip hop', 'canadian pop', 'hip hop'...        98.0   \n",
              "1      ['canadian hip hop', 'canadian pop', 'hip hop'...        98.0   \n",
              "2      ['canadian hip hop', 'canadian pop', 'hip hop'...        98.0   \n",
              "3      ['canadian hip hop', 'canadian pop', 'hip hop'...        98.0   \n",
              "4      ['canadian hip hop', 'canadian pop', 'hip hop'...        98.0   \n",
              "...                                                  ...         ...   \n",
              "13834  ['atmospheric black metal', 'canadian black me...        32.0   \n",
              "13835  ['instrumental post-rock', 'post-rock', 'russi...        31.0   \n",
              "13836                                    ['lo-fi beats']        53.0   \n",
              "13837  ['arizona punk', 'melodic metalcore', 'post-ha...        32.0   \n",
              "13838  ['black metal', 'celtic metal', 'doom metal', ...        37.0   \n",
              "\n",
              "        followers   pop_mean   rel_mean      fol_mean        date  rank  \\\n",
              "0      61377383.0  81.377358  53.075472  1.100285e+07  2021-11-06  91.0   \n",
              "1      61377383.0  81.377358  53.075472  1.100285e+07  2021-10-02  30.0   \n",
              "2      61377383.0  81.377358  53.075472  1.100285e+07  2021-10-02  40.0   \n",
              "3      61377383.0  81.377358  53.075472  1.100285e+07  2021-10-02  48.0   \n",
              "4      61377383.0  81.377358  53.075472  1.100285e+07  2021-10-02  66.0   \n",
              "...           ...        ...        ...           ...         ...   ...   \n",
              "13834     20071.0  33.500000   3.500000  1.870100e+04         NaN   NaN   \n",
              "13835     10235.0  34.000000   4.500000  2.361900e+04         NaN   NaN   \n",
              "13836      7478.0  62.000000   2.000000  5.242000e+03         NaN   NaN   \n",
              "13837     33531.0  56.000000   8.000000  3.298930e+05         NaN   NaN   \n",
              "13838     64127.0  53.000000  11.000000  2.853120e+05         NaN   NaN   \n",
              "\n",
              "       weeks-on-board top100  \n",
              "0                 8.0    Yes  \n",
              "1                 3.0    Yes  \n",
              "2                 3.0    Yes  \n",
              "3                 3.0    Yes  \n",
              "4                 3.0    Yes  \n",
              "...               ...    ...  \n",
              "13834             NaN     No  \n",
              "13835             NaN     No  \n",
              "13836             NaN     No  \n",
              "13837             NaN     No  \n",
              "13838             NaN     No  \n",
              "\n",
              "[13839 rows x 12 columns]"
            ],
            "text/html": [
              "\n",
              "  <div id=\"df-5b81d45d-c831-4888-897c-a4868a472012\">\n",
              "    <div class=\"colab-df-container\">\n",
              "      <div>\n",
              "<style scoped>\n",
              "    .dataframe tbody tr th:only-of-type {\n",
              "        vertical-align: middle;\n",
              "    }\n",
              "\n",
              "    .dataframe tbody tr th {\n",
              "        vertical-align: top;\n",
              "    }\n",
              "\n",
              "    .dataframe thead th {\n",
              "        text-align: right;\n",
              "    }\n",
              "</style>\n",
              "<table border=\"1\" class=\"dataframe\">\n",
              "  <thead>\n",
              "    <tr style=\"text-align: right;\">\n",
              "      <th></th>\n",
              "      <th>id</th>\n",
              "      <th>artist</th>\n",
              "      <th>genres</th>\n",
              "      <th>popularity</th>\n",
              "      <th>followers</th>\n",
              "      <th>pop_mean</th>\n",
              "      <th>rel_mean</th>\n",
              "      <th>fol_mean</th>\n",
              "      <th>date</th>\n",
              "      <th>rank</th>\n",
              "      <th>weeks-on-board</th>\n",
              "      <th>top100</th>\n",
              "    </tr>\n",
              "  </thead>\n",
              "  <tbody>\n",
              "    <tr>\n",
              "      <th>0</th>\n",
              "      <td>600808</td>\n",
              "      <td>Drake</td>\n",
              "      <td>['canadian hip hop', 'canadian pop', 'hip hop'...</td>\n",
              "      <td>98.0</td>\n",
              "      <td>61377383.0</td>\n",
              "      <td>81.377358</td>\n",
              "      <td>53.075472</td>\n",
              "      <td>1.100285e+07</td>\n",
              "      <td>2021-11-06</td>\n",
              "      <td>91.0</td>\n",
              "      <td>8.0</td>\n",
              "      <td>Yes</td>\n",
              "    </tr>\n",
              "    <tr>\n",
              "      <th>1</th>\n",
              "      <td>600808</td>\n",
              "      <td>Drake</td>\n",
              "      <td>['canadian hip hop', 'canadian pop', 'hip hop'...</td>\n",
              "      <td>98.0</td>\n",
              "      <td>61377383.0</td>\n",
              "      <td>81.377358</td>\n",
              "      <td>53.075472</td>\n",
              "      <td>1.100285e+07</td>\n",
              "      <td>2021-10-02</td>\n",
              "      <td>30.0</td>\n",
              "      <td>3.0</td>\n",
              "      <td>Yes</td>\n",
              "    </tr>\n",
              "    <tr>\n",
              "      <th>2</th>\n",
              "      <td>600808</td>\n",
              "      <td>Drake</td>\n",
              "      <td>['canadian hip hop', 'canadian pop', 'hip hop'...</td>\n",
              "      <td>98.0</td>\n",
              "      <td>61377383.0</td>\n",
              "      <td>81.377358</td>\n",
              "      <td>53.075472</td>\n",
              "      <td>1.100285e+07</td>\n",
              "      <td>2021-10-02</td>\n",
              "      <td>40.0</td>\n",
              "      <td>3.0</td>\n",
              "      <td>Yes</td>\n",
              "    </tr>\n",
              "    <tr>\n",
              "      <th>3</th>\n",
              "      <td>600808</td>\n",
              "      <td>Drake</td>\n",
              "      <td>['canadian hip hop', 'canadian pop', 'hip hop'...</td>\n",
              "      <td>98.0</td>\n",
              "      <td>61377383.0</td>\n",
              "      <td>81.377358</td>\n",
              "      <td>53.075472</td>\n",
              "      <td>1.100285e+07</td>\n",
              "      <td>2021-10-02</td>\n",
              "      <td>48.0</td>\n",
              "      <td>3.0</td>\n",
              "      <td>Yes</td>\n",
              "    </tr>\n",
              "    <tr>\n",
              "      <th>4</th>\n",
              "      <td>600808</td>\n",
              "      <td>Drake</td>\n",
              "      <td>['canadian hip hop', 'canadian pop', 'hip hop'...</td>\n",
              "      <td>98.0</td>\n",
              "      <td>61377383.0</td>\n",
              "      <td>81.377358</td>\n",
              "      <td>53.075472</td>\n",
              "      <td>1.100285e+07</td>\n",
              "      <td>2021-10-02</td>\n",
              "      <td>66.0</td>\n",
              "      <td>3.0</td>\n",
              "      <td>Yes</td>\n",
              "    </tr>\n",
              "    <tr>\n",
              "      <th>...</th>\n",
              "      <td>...</td>\n",
              "      <td>...</td>\n",
              "      <td>...</td>\n",
              "      <td>...</td>\n",
              "      <td>...</td>\n",
              "      <td>...</td>\n",
              "      <td>...</td>\n",
              "      <td>...</td>\n",
              "      <td>...</td>\n",
              "      <td>...</td>\n",
              "      <td>...</td>\n",
              "      <td>...</td>\n",
              "    </tr>\n",
              "    <tr>\n",
              "      <th>13834</th>\n",
              "      <td>1418260</td>\n",
              "      <td>Unreqvited</td>\n",
              "      <td>['atmospheric black metal', 'canadian black me...</td>\n",
              "      <td>32.0</td>\n",
              "      <td>20071.0</td>\n",
              "      <td>33.500000</td>\n",
              "      <td>3.500000</td>\n",
              "      <td>1.870100e+04</td>\n",
              "      <td>NaN</td>\n",
              "      <td>NaN</td>\n",
              "      <td>NaN</td>\n",
              "      <td>No</td>\n",
              "    </tr>\n",
              "    <tr>\n",
              "      <th>13835</th>\n",
              "      <td>844823</td>\n",
              "      <td>Show Me a Dinosaur</td>\n",
              "      <td>['instrumental post-rock', 'post-rock', 'russi...</td>\n",
              "      <td>31.0</td>\n",
              "      <td>10235.0</td>\n",
              "      <td>34.000000</td>\n",
              "      <td>4.500000</td>\n",
              "      <td>2.361900e+04</td>\n",
              "      <td>NaN</td>\n",
              "      <td>NaN</td>\n",
              "      <td>NaN</td>\n",
              "      <td>No</td>\n",
              "    </tr>\n",
              "    <tr>\n",
              "      <th>13836</th>\n",
              "      <td>1796328</td>\n",
              "      <td>Flovry</td>\n",
              "      <td>['lo-fi beats']</td>\n",
              "      <td>53.0</td>\n",
              "      <td>7478.0</td>\n",
              "      <td>62.000000</td>\n",
              "      <td>2.000000</td>\n",
              "      <td>5.242000e+03</td>\n",
              "      <td>NaN</td>\n",
              "      <td>NaN</td>\n",
              "      <td>NaN</td>\n",
              "      <td>No</td>\n",
              "    </tr>\n",
              "    <tr>\n",
              "      <th>13837</th>\n",
              "      <td>121805</td>\n",
              "      <td>The Bled</td>\n",
              "      <td>['arizona punk', 'melodic metalcore', 'post-ha...</td>\n",
              "      <td>32.0</td>\n",
              "      <td>33531.0</td>\n",
              "      <td>56.000000</td>\n",
              "      <td>8.000000</td>\n",
              "      <td>3.298930e+05</td>\n",
              "      <td>NaN</td>\n",
              "      <td>NaN</td>\n",
              "      <td>NaN</td>\n",
              "      <td>No</td>\n",
              "    </tr>\n",
              "    <tr>\n",
              "      <th>13838</th>\n",
              "      <td>11473</td>\n",
              "      <td>Primordial</td>\n",
              "      <td>['black metal', 'celtic metal', 'doom metal', ...</td>\n",
              "      <td>37.0</td>\n",
              "      <td>64127.0</td>\n",
              "      <td>53.000000</td>\n",
              "      <td>11.000000</td>\n",
              "      <td>2.853120e+05</td>\n",
              "      <td>NaN</td>\n",
              "      <td>NaN</td>\n",
              "      <td>NaN</td>\n",
              "      <td>No</td>\n",
              "    </tr>\n",
              "  </tbody>\n",
              "</table>\n",
              "<p>13839 rows × 12 columns</p>\n",
              "</div>\n",
              "      <button class=\"colab-df-convert\" onclick=\"convertToInteractive('df-5b81d45d-c831-4888-897c-a4868a472012')\"\n",
              "              title=\"Convert this dataframe to an interactive table.\"\n",
              "              style=\"display:none;\">\n",
              "        \n",
              "  <svg xmlns=\"http://www.w3.org/2000/svg\" height=\"24px\"viewBox=\"0 0 24 24\"\n",
              "       width=\"24px\">\n",
              "    <path d=\"M0 0h24v24H0V0z\" fill=\"none\"/>\n",
              "    <path d=\"M18.56 5.44l.94 2.06.94-2.06 2.06-.94-2.06-.94-.94-2.06-.94 2.06-2.06.94zm-11 1L8.5 8.5l.94-2.06 2.06-.94-2.06-.94L8.5 2.5l-.94 2.06-2.06.94zm10 10l.94 2.06.94-2.06 2.06-.94-2.06-.94-.94-2.06-.94 2.06-2.06.94z\"/><path d=\"M17.41 7.96l-1.37-1.37c-.4-.4-.92-.59-1.43-.59-.52 0-1.04.2-1.43.59L10.3 9.45l-7.72 7.72c-.78.78-.78 2.05 0 2.83L4 21.41c.39.39.9.59 1.41.59.51 0 1.02-.2 1.41-.59l7.78-7.78 2.81-2.81c.8-.78.8-2.07 0-2.86zM5.41 20L4 18.59l7.72-7.72 1.47 1.35L5.41 20z\"/>\n",
              "  </svg>\n",
              "      </button>\n",
              "      \n",
              "  <style>\n",
              "    .colab-df-container {\n",
              "      display:flex;\n",
              "      flex-wrap:wrap;\n",
              "      gap: 12px;\n",
              "    }\n",
              "\n",
              "    .colab-df-convert {\n",
              "      background-color: #E8F0FE;\n",
              "      border: none;\n",
              "      border-radius: 50%;\n",
              "      cursor: pointer;\n",
              "      display: none;\n",
              "      fill: #1967D2;\n",
              "      height: 32px;\n",
              "      padding: 0 0 0 0;\n",
              "      width: 32px;\n",
              "    }\n",
              "\n",
              "    .colab-df-convert:hover {\n",
              "      background-color: #E2EBFA;\n",
              "      box-shadow: 0px 1px 2px rgba(60, 64, 67, 0.3), 0px 1px 3px 1px rgba(60, 64, 67, 0.15);\n",
              "      fill: #174EA6;\n",
              "    }\n",
              "\n",
              "    [theme=dark] .colab-df-convert {\n",
              "      background-color: #3B4455;\n",
              "      fill: #D2E3FC;\n",
              "    }\n",
              "\n",
              "    [theme=dark] .colab-df-convert:hover {\n",
              "      background-color: #434B5C;\n",
              "      box-shadow: 0px 1px 3px 1px rgba(0, 0, 0, 0.15);\n",
              "      filter: drop-shadow(0px 1px 2px rgba(0, 0, 0, 0.3));\n",
              "      fill: #FFFFFF;\n",
              "    }\n",
              "  </style>\n",
              "\n",
              "      <script>\n",
              "        const buttonEl =\n",
              "          document.querySelector('#df-5b81d45d-c831-4888-897c-a4868a472012 button.colab-df-convert');\n",
              "        buttonEl.style.display =\n",
              "          google.colab.kernel.accessAllowed ? 'block' : 'none';\n",
              "\n",
              "        async function convertToInteractive(key) {\n",
              "          const element = document.querySelector('#df-5b81d45d-c831-4888-897c-a4868a472012');\n",
              "          const dataTable =\n",
              "            await google.colab.kernel.invokeFunction('convertToInteractive',\n",
              "                                                     [key], {});\n",
              "          if (!dataTable) return;\n",
              "\n",
              "          const docLinkHtml = 'Like what you see? Visit the ' +\n",
              "            '<a target=\"_blank\" href=https://colab.research.google.com/notebooks/data_table.ipynb>data table notebook</a>'\n",
              "            + ' to learn more about interactive tables.';\n",
              "          element.innerHTML = '';\n",
              "          dataTable['output_type'] = 'display_data';\n",
              "          await google.colab.output.renderOutput(dataTable, element);\n",
              "          const docLink = document.createElement('div');\n",
              "          docLink.innerHTML = docLinkHtml;\n",
              "          element.appendChild(docLink);\n",
              "        }\n",
              "      </script>\n",
              "    </div>\n",
              "  </div>\n",
              "  "
            ]
          },
          "metadata": {}
        }
      ]
    },
    {
      "cell_type": "code",
      "source": [
        "print(spotify.isnull().sum())"
      ],
      "metadata": {
        "colab": {
          "base_uri": "https://localhost:8080/"
        },
        "id": "nRrgfisuL5sD",
        "outputId": "d11991ea-cddd-4237-8271-b1a46905f34f"
      },
      "execution_count": 97,
      "outputs": [
        {
          "output_type": "stream",
          "name": "stdout",
          "text": [
            "id                    0\n",
            "artist                0\n",
            "genres                0\n",
            "popularity            0\n",
            "followers             0\n",
            "pop_mean              0\n",
            "rel_mean              0\n",
            "fol_mean              0\n",
            "date              12741\n",
            "rank              12741\n",
            "weeks-on-board    12741\n",
            "top100                0\n",
            "dtype: int64\n"
          ]
        }
      ]
    },
    {
      "cell_type": "code",
      "source": [
        "# 결측치 열 전체 삭제\n",
        "spotify = spotify.dropna(axis=1)   #열삭제의 경우 axis =1 \n",
        "print(\"결측열 모두 제거: \", spotify.shape)    # 결측치 모두 없어졌는지 확인\n",
        "\n",
        "print(spotify.isnull().sum())"
      ],
      "metadata": {
        "colab": {
          "base_uri": "https://localhost:8080/"
        },
        "id": "rsdY_r3BMQ8F",
        "outputId": "0861967b-c89f-4469-d5ac-0edc53b23048"
      },
      "execution_count": 98,
      "outputs": [
        {
          "output_type": "stream",
          "name": "stdout",
          "text": [
            "결측열 모두 제거:  (13839, 9)\n",
            "id            0\n",
            "artist        0\n",
            "genres        0\n",
            "popularity    0\n",
            "followers     0\n",
            "pop_mean      0\n",
            "rel_mean      0\n",
            "fol_mean      0\n",
            "top100        0\n",
            "dtype: int64\n"
          ]
        }
      ]
    },
    {
      "cell_type": "code",
      "source": [
        "display(spotify.info())"
      ],
      "metadata": {
        "colab": {
          "base_uri": "https://localhost:8080/",
          "height": 326
        },
        "id": "ccpChxWPJjxe",
        "outputId": "b34b054b-c756-49e3-e295-2912da762bad"
      },
      "execution_count": 99,
      "outputs": [
        {
          "output_type": "stream",
          "name": "stdout",
          "text": [
            "<class 'pandas.core.frame.DataFrame'>\n",
            "Int64Index: 13839 entries, 0 to 13838\n",
            "Data columns (total 9 columns):\n",
            " #   Column      Non-Null Count  Dtype  \n",
            "---  ------      --------------  -----  \n",
            " 0   id          13839 non-null  int64  \n",
            " 1   artist      13839 non-null  object \n",
            " 2   genres      13839 non-null  object \n",
            " 3   popularity  13839 non-null  float64\n",
            " 4   followers   13839 non-null  float64\n",
            " 5   pop_mean    13839 non-null  float64\n",
            " 6   rel_mean    13839 non-null  float64\n",
            " 7   fol_mean    13839 non-null  float64\n",
            " 8   top100      13839 non-null  object \n",
            "dtypes: float64(5), int64(1), object(3)\n",
            "memory usage: 1.1+ MB\n"
          ]
        },
        {
          "output_type": "display_data",
          "data": {
            "text/plain": [
              "None"
            ]
          },
          "metadata": {}
        }
      ]
    },
    {
      "cell_type": "code",
      "source": [
        "print(spotify['top100'].value_counts())\n",
        "\n",
        "spotify['top100'].value_counts().plot.bar()\n",
        "plt.ylabel('count')\n",
        "plt.title('Distribution of top100')\n",
        "plt.show()"
      ],
      "metadata": {
        "colab": {
          "base_uri": "https://localhost:8080/",
          "height": 450
        },
        "id": "kOWFWdgFKxyu",
        "outputId": "7d14b75e-bd16-4596-e7fa-9a5d17836cc6"
      },
      "execution_count": 100,
      "outputs": [
        {
          "output_type": "stream",
          "name": "stdout",
          "text": [
            "No     12741\n",
            "Yes     1098\n",
            "Name: top100, dtype: int64\n"
          ]
        },
        {
          "output_type": "display_data",
          "data": {
            "text/plain": [
              "<Figure size 648x432 with 1 Axes>"
            ],
            "image/png": "[encoded data removed]"
          },
          "metadata": {
            "needs_background": "light"
          }
        }
      ]
    },
    {
      "cell_type": "markdown",
      "source": [
        "### **2) 의사결정나무 모델** ###\n"
      ],
      "metadata": {
        "id": "VQzdP-8uPUi4"
      }
    },
    {
      "cell_type": "code",
      "source": [
        "from sklearn.tree import DecisionTreeClassifier\n",
        "from sklearn.model_selection import train_test_split\n",
        "\n",
        "X = spotify.iloc[:, [3, 4, 6, 7]]  # 3개 변수 \n",
        "y = spotify.iloc[:, 8]   # top-100으로 설정\n",
        "\n",
        "# 데이터셋을 학습(train)과 테스트(test) 세트로 분할\n",
        "# random_state : random 으로 분할시 사용되는 난수 seed 숫자\n",
        "#X_train, X_test, y_train, y_test = train_test_split(X, y, test_size = 0.25, stratify=y, random_state=42)\n",
        "\n",
        "X_train, X_test, y_train, y_test = train_test_split(X, y, test_size = 0.25, random_state=42)\n",
        "\n",
        "tree = DecisionTreeClassifier(class_weight = \"balanced\", random_state=0)   #데이터 균형 맞춰주기\n",
        "tree.fit(X_train, y_train)  #(학습용 데이터 작성)\n",
        "print(\"학습용 데이터 정확도: {:.3f}\".format(tree.score(X_train, y_train)))\n",
        "print(\"시험용 데이터 정확도: {:.3f}\".format(tree.score(X_test, y_test)))"
      ],
      "metadata": {
        "colab": {
          "base_uri": "https://localhost:8080/"
        },
        "id": "cmk6umHkDh-x",
        "outputId": "85aa071b-49bd-46df-dc43-1fca3ab748ac"
      },
      "execution_count": 192,
      "outputs": [
        {
          "output_type": "stream",
          "name": "stdout",
          "text": [
            "학습용 데이터 정확도: 1.000\n",
            "시험용 데이터 정확도: 0.988\n"
          ]
        }
      ]
    },
    {
      "cell_type": "code",
      "source": [
        "# 의사결정나무의 깊이를 4로 제한하면 시험용 데이터에 대한 성능이 향상됨 (과적합을 줄임)\n",
        "#가중치 고려, 해당 모델 선택\n",
        "tree = DecisionTreeClassifier(class_weight = \"balanced\", max_depth=4, random_state=0)\n",
        "tree.fit(X_train, y_train)\n",
        "\n",
        "print(\"학습용 데이터 정확도: {:.3f}\".format(tree.score(X_train, y_train)))\n",
        "print(\"시험용 데이터 정확도: {:.3f}\".format(tree.score(X_test, y_test)))"
      ],
      "metadata": {
        "colab": {
          "base_uri": "https://localhost:8080/"
        },
        "id": "2QY9fSSwNGr7",
        "outputId": "9f3c3023-ccc1-4972-8db7-e546fc333335"
      },
      "execution_count": 193,
      "outputs": [
        {
          "output_type": "stream",
          "name": "stdout",
          "text": [
            "학습용 데이터 정확도: 0.916\n",
            "시험용 데이터 정확도: 0.914\n"
          ]
        }
      ]
    },
    {
      "cell_type": "code",
      "source": [
        "#graphviz 라이브러리를 이용하여 의사결정나무 그리기 \n",
        "from sklearn.tree import export_graphviz\n",
        "import graphviz\n",
        "\n",
        "# filled = True: 색상의 진하기로 클래스를 나타냄, impurity: 불순도 계산값 보여주기 옵션\n",
        "export_graphviz(tree, out_file=\"tree.dot\", class_names=[ \"Top-100 No\", \"Top-100 Yes\"],\n",
        "                feature_names=spotify.columns[[3, 4, 6, 7]], impurity=False, filled=True)\n",
        "\n",
        "with open(\"tree.dot\") as f:\n",
        "    dot_graph = f.read()\n",
        "\n",
        "display(graphviz.Source(dot_graph))\n",
        "\n",
        "#(어떤 순서로 중요한지 확인 가능)"
      ],
      "metadata": {
        "colab": {
          "base_uri": "https://localhost:8080/",
          "height": 676
        },
        "id": "CwMJihQANIlC",
        "outputId": "078f43e5-c727-4687-da9b-53d0adcae62f"
      },
      "execution_count": 194,
      "outputs": [
        {
          "output_type": "display_data",
          "data": {
            "text/plain": [
              "<graphviz.files.Source at 0x7f9fb577f790>"
            ],
            "image/svg+xml": "<?xml version=\"1.0\" encoding=\"UTF-8\" standalone=\"no\"?>\n<!DOCTYPE svg PUBLIC \"-//W3C//DTD SVG 1.1//EN\"\n \"http://www.w3.org/Graphics/SVG/1.1/DTD/svg11.dtd\">\n<!-- Generated by graphviz version 2.40.1 (20161225.0304)\n -->\n<!-- Title: Tree Pages: 1 -->\n<svg width=\"2326pt\" height=\"477pt\"\n viewBox=\"0.00 0.00 2326.00 477.00\" xmlns=\"http://www.w3.org/2000/svg\" xmlns:xlink=\"http://www.w3.org/1999/xlink\">\n<g id=\"graph0\" class=\"graph\" transform=\"scale(1 1) rotate(0) translate(4 473)\">\n<title>Tree</title>\n<polygon fill=\"#ffffff\" stroke=\"transparent\" points=\"-4,4 -4,-473 2322,-473 2322,4 -4,4\"/>\n<!-- 0 -->\n<g id=\"node1\" class=\"node\">\n<title>0</title>\n<polygon fill=\"#ffffff\" stroke=\"#000000\" points=\"1156.5,-469 983.5,-469 983.5,-401 1156.5,-401 1156.5,-469\"/>\n<text text-anchor=\"middle\" x=\"1070\" y=\"-453.8\" font-family=\"Helvetica,sans-Serif\" font-size=\"14.00\" fill=\"#000000\">popularity &lt;= 69.5</text>\n<text text-anchor=\"middle\" x=\"1070\" y=\"-438.8\" font-family=\"Helvetica,sans-Serif\" font-size=\"14.00\" fill=\"#000000\">samples = 10379</text>\n<text text-anchor=\"middle\" x=\"1070\" y=\"-423.8\" font-family=\"Helvetica,sans-Serif\" font-size=\"14.00\" fill=\"#000000\">value = [5189.5, 5189.5]</text>\n<text text-anchor=\"middle\" x=\"1070\" y=\"-408.8\" font-family=\"Helvetica,sans-Serif\" font-size=\"14.00\" fill=\"#000000\">class = Top&#45;100 Yes</text>\n</g>\n<!-- 1 -->\n<g id=\"node2\" class=\"node\">\n<title>1</title>\n<polygon fill=\"#e78945\" stroke=\"#000000\" points=\"858.5,-365 661.5,-365 661.5,-297 858.5,-297 858.5,-365\"/>\n<text text-anchor=\"middle\" x=\"760\" y=\"-349.8\" font-family=\"Helvetica,sans-Serif\" font-size=\"14.00\" fill=\"#000000\">fol_mean &lt;= 944996.031</text>\n<text text-anchor=\"middle\" x=\"760\" y=\"-334.8\" font-family=\"Helvetica,sans-Serif\" font-size=\"14.00\" fill=\"#000000\">samples = 8747</text>\n<text text-anchor=\"middle\" x=\"760\" y=\"-319.8\" font-family=\"Helvetica,sans-Serif\" font-size=\"14.00\" fill=\"#000000\">value = [4723.205, 291.474]</text>\n<text text-anchor=\"middle\" x=\"760\" y=\"-304.8\" font-family=\"Helvetica,sans-Serif\" font-size=\"14.00\" fill=\"#000000\">class = Top&#45;100 No</text>\n</g>\n<!-- 0&#45;&gt;1 -->\n<g id=\"edge1\" class=\"edge\">\n<title>0&#45;&gt;1</title>\n<path fill=\"none\" stroke=\"#000000\" d=\"M983.2355,-405.8919C947.7196,-393.9769 906.2319,-380.0584 868.7244,-367.4753\"/>\n<polygon fill=\"#000000\" stroke=\"#000000\" points=\"869.3656,-363.9987 858.7717,-364.1363 867.1391,-370.6352 869.3656,-363.9987\"/>\n<text text-anchor=\"middle\" x=\"869.9087\" y=\"-382.8186\" font-family=\"Helvetica,sans-Serif\" font-size=\"14.00\" fill=\"#000000\">True</text>\n</g>\n<!-- 14 -->\n<g id=\"node15\" class=\"node\">\n<title>14</title>\n<polygon fill=\"#4ca6e7\" stroke=\"#000000\" points=\"1368.5,-365 1171.5,-365 1171.5,-297 1368.5,-297 1368.5,-365\"/>\n<text text-anchor=\"middle\" x=\"1270\" y=\"-349.8\" font-family=\"Helvetica,sans-Serif\" font-size=\"14.00\" fill=\"#000000\">popularity &lt;= 77.5</text>\n<text text-anchor=\"middle\" x=\"1270\" y=\"-334.8\" font-family=\"Helvetica,sans-Serif\" font-size=\"14.00\" fill=\"#000000\">samples = 1632</text>\n<text text-anchor=\"middle\" x=\"1270\" y=\"-319.8\" font-family=\"Helvetica,sans-Serif\" font-size=\"14.00\" fill=\"#000000\">value = [466.295, 4898.026]</text>\n<text text-anchor=\"middle\" x=\"1270\" y=\"-304.8\" font-family=\"Helvetica,sans-Serif\" font-size=\"14.00\" fill=\"#000000\">class = Top&#45;100 Yes</text>\n</g>\n<!-- 0&#45;&gt;14 -->\n<g id=\"edge14\" class=\"edge\">\n<title>0&#45;&gt;14</title>\n<path fill=\"none\" stroke=\"#000000\" d=\"M1135.4875,-400.9465C1154.6532,-390.9803 1175.7467,-380.0117 1195.4319,-369.7754\"/>\n<polygon fill=\"#000000\" stroke=\"#000000\" points=\"1197.108,-372.8488 1204.3654,-365.13 1193.8785,-366.6383 1197.108,-372.8488\"/>\n<text text-anchor=\"middle\" x=\"1196.8371\" y=\"-385.2696\" font-family=\"Helvetica,sans-Serif\" font-size=\"14.00\" fill=\"#000000\">False</text>\n</g>\n<!-- 2 -->\n<g id=\"node3\" class=\"node\">\n<title>2</title>\n<polygon fill=\"#e5823a\" stroke=\"#000000\" points=\"367.5,-261 178.5,-261 178.5,-193 367.5,-193 367.5,-261\"/>\n<text text-anchor=\"middle\" x=\"273\" y=\"-245.8\" font-family=\"Helvetica,sans-Serif\" font-size=\"14.00\" fill=\"#000000\">popularity &lt;= 61.5</text>\n<text text-anchor=\"middle\" x=\"273\" y=\"-230.8\" font-family=\"Helvetica,sans-Serif\" font-size=\"14.00\" fill=\"#000000\">samples = 6997</text>\n<text text-anchor=\"middle\" x=\"273\" y=\"-215.8\" font-family=\"Helvetica,sans-Serif\" font-size=\"14.00\" fill=\"#000000\">value = [3796.586, 19.009]</text>\n<text text-anchor=\"middle\" x=\"273\" y=\"-200.8\" font-family=\"Helvetica,sans-Serif\" font-size=\"14.00\" fill=\"#000000\">class = Top&#45;100 No</text>\n</g>\n<!-- 1&#45;&gt;2 -->\n<g id=\"edge2\" class=\"edge\">\n<title>1&#45;&gt;2</title>\n<path fill=\"none\" stroke=\"#000000\" d=\"M661.4483,-309.954C578.9709,-292.3408 461.6101,-267.2781 377.5083,-249.318\"/>\n<polygon fill=\"#000000\" stroke=\"#000000\" points=\"378.1897,-245.8847 367.6792,-247.219 376.7278,-252.7303 378.1897,-245.8847\"/>\n</g>\n<!-- 7 -->\n<g id=\"node8\" class=\"node\">\n<title>7</title>\n<polygon fill=\"#eda673\" stroke=\"#000000\" points=\"854.5,-261 665.5,-261 665.5,-193 854.5,-193 854.5,-261\"/>\n<text text-anchor=\"middle\" x=\"760\" y=\"-245.8\" font-family=\"Helvetica,sans-Serif\" font-size=\"14.00\" fill=\"#000000\">popularity &lt;= 63.5</text>\n<text text-anchor=\"middle\" x=\"760\" y=\"-230.8\" font-family=\"Helvetica,sans-Serif\" font-size=\"14.00\" fill=\"#000000\">samples = 1750</text>\n<text text-anchor=\"middle\" x=\"760\" y=\"-215.8\" font-family=\"Helvetica,sans-Serif\" font-size=\"14.00\" fill=\"#000000\">value = [926.619, 272.465]</text>\n<text text-anchor=\"middle\" x=\"760\" y=\"-200.8\" font-family=\"Helvetica,sans-Serif\" font-size=\"14.00\" fill=\"#000000\">class = Top&#45;100 No</text>\n</g>\n<!-- 1&#45;&gt;7 -->\n<g id=\"edge7\" class=\"edge\">\n<title>1&#45;&gt;7</title>\n<path fill=\"none\" stroke=\"#000000\" d=\"M760,-296.9465C760,-288.776 760,-279.9318 760,-271.3697\"/>\n<polygon fill=\"#000000\" stroke=\"#000000\" points=\"763.5001,-271.13 760,-261.13 756.5001,-271.13 763.5001,-271.13\"/>\n</g>\n<!-- 3 -->\n<g id=\"node4\" class=\"node\">\n<title>3</title>\n<polygon fill=\"#e58139\" stroke=\"#000000\" points=\"164,-149.5 0,-149.5 0,-96.5 164,-96.5 164,-149.5\"/>\n<text text-anchor=\"middle\" x=\"82\" y=\"-134.3\" font-family=\"Helvetica,sans-Serif\" font-size=\"14.00\" fill=\"#000000\">samples = 6362</text>\n<text text-anchor=\"middle\" x=\"82\" y=\"-119.3\" font-family=\"Helvetica,sans-Serif\" font-size=\"14.00\" fill=\"#000000\">value = [3453.515, 0.0]</text>\n<text text-anchor=\"middle\" x=\"82\" y=\"-104.3\" font-family=\"Helvetica,sans-Serif\" font-size=\"14.00\" fill=\"#000000\">class = Top&#45;100 No</text>\n</g>\n<!-- 2&#45;&gt;3 -->\n<g id=\"edge3\" class=\"edge\">\n<title>2&#45;&gt;3</title>\n<path fill=\"none\" stroke=\"#000000\" d=\"M210.4595,-192.9465C187.7015,-180.5547 162.0973,-166.6132 139.7711,-154.4565\"/>\n<polygon fill=\"#000000\" stroke=\"#000000\" points=\"141.2019,-151.2504 130.7457,-149.5422 137.8544,-157.3982 141.2019,-151.2504\"/>\n</g>\n<!-- 4 -->\n<g id=\"node5\" class=\"node\">\n<title>4</title>\n<polygon fill=\"#e68844\" stroke=\"#000000\" points=\"363.5,-157 182.5,-157 182.5,-89 363.5,-89 363.5,-157\"/>\n<text text-anchor=\"middle\" x=\"273\" y=\"-141.8\" font-family=\"Helvetica,sans-Serif\" font-size=\"14.00\" fill=\"#000000\">followers &lt;= 147056.0</text>\n<text text-anchor=\"middle\" x=\"273\" y=\"-126.8\" font-family=\"Helvetica,sans-Serif\" font-size=\"14.00\" fill=\"#000000\">samples = 635</text>\n<text text-anchor=\"middle\" x=\"273\" y=\"-111.8\" font-family=\"Helvetica,sans-Serif\" font-size=\"14.00\" fill=\"#000000\">value = [343.072, 19.009]</text>\n<text text-anchor=\"middle\" x=\"273\" y=\"-96.8\" font-family=\"Helvetica,sans-Serif\" font-size=\"14.00\" fill=\"#000000\">class = Top&#45;100 No</text>\n</g>\n<!-- 2&#45;&gt;4 -->\n<g id=\"edge4\" class=\"edge\">\n<title>2&#45;&gt;4</title>\n<path fill=\"none\" stroke=\"#000000\" d=\"M273,-192.9465C273,-184.776 273,-175.9318 273,-167.3697\"/>\n<polygon fill=\"#000000\" stroke=\"#000000\" points=\"276.5001,-167.13 273,-157.13 269.5001,-167.13 276.5001,-167.13\"/>\n</g>\n<!-- 5 -->\n<g id=\"node6\" class=\"node\">\n<title>5</title>\n<polygon fill=\"#eda673\" stroke=\"#000000\" points=\"176.5,-53 3.5,-53 3.5,0 176.5,0 176.5,-53\"/>\n<text text-anchor=\"middle\" x=\"90\" y=\"-37.8\" font-family=\"Helvetica,sans-Serif\" font-size=\"14.00\" fill=\"#000000\">samples = 122</text>\n<text text-anchor=\"middle\" x=\"90\" y=\"-22.8\" font-family=\"Helvetica,sans-Serif\" font-size=\"14.00\" fill=\"#000000\">value = [64.597, 19.009]</text>\n<text text-anchor=\"middle\" x=\"90\" y=\"-7.8\" font-family=\"Helvetica,sans-Serif\" font-size=\"14.00\" fill=\"#000000\">class = Top&#45;100 No</text>\n</g>\n<!-- 4&#45;&gt;5 -->\n<g id=\"edge5\" class=\"edge\">\n<title>4&#45;&gt;5</title>\n<path fill=\"none\" stroke=\"#000000\" d=\"M208.481,-88.9777C189.2911,-78.8584 168.3623,-67.8222 149.507,-57.8794\"/>\n<polygon fill=\"#000000\" stroke=\"#000000\" points=\"150.9122,-54.6636 140.4341,-53.095 147.647,-60.8554 150.9122,-54.6636\"/>\n</g>\n<!-- 6 -->\n<g id=\"node7\" class=\"node\">\n<title>6</title>\n<polygon fill=\"#e58139\" stroke=\"#000000\" points=\"351,-53 195,-53 195,0 351,0 351,-53\"/>\n<text text-anchor=\"middle\" x=\"273\" y=\"-37.8\" font-family=\"Helvetica,sans-Serif\" font-size=\"14.00\" fill=\"#000000\">samples = 513</text>\n<text text-anchor=\"middle\" x=\"273\" y=\"-22.8\" font-family=\"Helvetica,sans-Serif\" font-size=\"14.00\" fill=\"#000000\">value = [278.474, 0.0]</text>\n<text text-anchor=\"middle\" x=\"273\" y=\"-7.8\" font-family=\"Helvetica,sans-Serif\" font-size=\"14.00\" fill=\"#000000\">class = Top&#45;100 No</text>\n</g>\n<!-- 4&#45;&gt;6 -->\n<g id=\"edge6\" class=\"edge\">\n<title>4&#45;&gt;6</title>\n<path fill=\"none\" stroke=\"#000000\" d=\"M273,-88.9777C273,-80.7364 273,-71.887 273,-63.5153\"/>\n<polygon fill=\"#000000\" stroke=\"#000000\" points=\"276.5001,-63.2484 273,-53.2485 269.5001,-63.2485 276.5001,-63.2484\"/>\n</g>\n<!-- 8 -->\n<g id=\"node9\" class=\"node\">\n<title>8</title>\n<polygon fill=\"#e88f4f\" stroke=\"#000000\" points=\"749.5,-157 568.5,-157 568.5,-89 749.5,-89 749.5,-157\"/>\n<text text-anchor=\"middle\" x=\"659\" y=\"-141.8\" font-family=\"Helvetica,sans-Serif\" font-size=\"14.00\" fill=\"#000000\">fol_mean &lt;= 5528534.75</text>\n<text text-anchor=\"middle\" x=\"659\" y=\"-126.8\" font-family=\"Helvetica,sans-Serif\" font-size=\"14.00\" fill=\"#000000\">samples = 1279</text>\n<text text-anchor=\"middle\" x=\"659\" y=\"-111.8\" font-family=\"Helvetica,sans-Serif\" font-size=\"14.00\" fill=\"#000000\">value = [687.772, 76.037]</text>\n<text text-anchor=\"middle\" x=\"659\" y=\"-96.8\" font-family=\"Helvetica,sans-Serif\" font-size=\"14.00\" fill=\"#000000\">class = Top&#45;100 No</text>\n</g>\n<!-- 7&#45;&gt;8 -->\n<g id=\"edge8\" class=\"edge\">\n<title>7&#45;&gt;8</title>\n<path fill=\"none\" stroke=\"#000000\" d=\"M726.9288,-192.9465C718.1221,-183.8782 708.5093,-173.9799 699.3597,-164.5585\"/>\n<polygon fill=\"#000000\" stroke=\"#000000\" points=\"701.6232,-161.8654 692.1455,-157.13 696.6015,-166.7422 701.6232,-161.8654\"/>\n</g>\n<!-- 11 -->\n<g id=\"node12\" class=\"node\">\n<title>11</title>\n<polygon fill=\"#fae9dc\" stroke=\"#000000\" points=\"956.5,-157 767.5,-157 767.5,-89 956.5,-89 956.5,-157\"/>\n<text text-anchor=\"middle\" x=\"862\" y=\"-141.8\" font-family=\"Helvetica,sans-Serif\" font-size=\"14.00\" fill=\"#000000\">rel_mean &lt;= 127.967</text>\n<text text-anchor=\"middle\" x=\"862\" y=\"-126.8\" font-family=\"Helvetica,sans-Serif\" font-size=\"14.00\" fill=\"#000000\">samples = 471</text>\n<text text-anchor=\"middle\" x=\"862\" y=\"-111.8\" font-family=\"Helvetica,sans-Serif\" font-size=\"14.00\" fill=\"#000000\">value = [238.847, 196.428]</text>\n<text text-anchor=\"middle\" x=\"862\" y=\"-96.8\" font-family=\"Helvetica,sans-Serif\" font-size=\"14.00\" fill=\"#000000\">class = Top&#45;100 No</text>\n</g>\n<!-- 7&#45;&gt;11 -->\n<g id=\"edge11\" class=\"edge\">\n<title>7&#45;&gt;11</title>\n<path fill=\"none\" stroke=\"#000000\" d=\"M793.3986,-192.9465C802.3806,-183.7884 812.1928,-173.7838 821.515,-164.2788\"/>\n<polygon fill=\"#000000\" stroke=\"#000000\" points=\"824.023,-166.7201 828.5263,-157.13 819.0254,-161.8187 824.023,-166.7201\"/>\n</g>\n<!-- 9 -->\n<g id=\"node10\" class=\"node\">\n<title>9</title>\n<polygon fill=\"#e68742\" stroke=\"#000000\" points=\"550.5,-53 369.5,-53 369.5,0 550.5,0 550.5,-53\"/>\n<text text-anchor=\"middle\" x=\"460\" y=\"-37.8\" font-family=\"Helvetica,sans-Serif\" font-size=\"14.00\" fill=\"#000000\">samples = 1056</text>\n<text text-anchor=\"middle\" x=\"460\" y=\"-22.8\" font-family=\"Helvetica,sans-Serif\" font-size=\"14.00\" fill=\"#000000\">value = [571.062, 25.346]</text>\n<text text-anchor=\"middle\" x=\"460\" y=\"-7.8\" font-family=\"Helvetica,sans-Serif\" font-size=\"14.00\" fill=\"#000000\">class = Top&#45;100 No</text>\n</g>\n<!-- 8&#45;&gt;9 -->\n<g id=\"edge9\" class=\"edge\">\n<title>8&#45;&gt;9</title>\n<path fill=\"none\" stroke=\"#000000\" d=\"M588.84,-88.9777C567.6877,-78.7204 544.5926,-67.521 523.8723,-57.4732\"/>\n<polygon fill=\"#000000\" stroke=\"#000000\" points=\"525.3687,-54.3091 514.8436,-53.095 522.3143,-60.6076 525.3687,-54.3091\"/>\n</g>\n<!-- 10 -->\n<g id=\"node11\" class=\"node\">\n<title>10</title>\n<polygon fill=\"#f0b88f\" stroke=\"#000000\" points=\"749.5,-53 568.5,-53 568.5,0 749.5,0 749.5,-53\"/>\n<text text-anchor=\"middle\" x=\"659\" y=\"-37.8\" font-family=\"Helvetica,sans-Serif\" font-size=\"14.00\" fill=\"#000000\">samples = 223</text>\n<text text-anchor=\"middle\" x=\"659\" y=\"-22.8\" font-family=\"Helvetica,sans-Serif\" font-size=\"14.00\" fill=\"#000000\">value = [116.709, 50.691]</text>\n<text text-anchor=\"middle\" x=\"659\" y=\"-7.8\" font-family=\"Helvetica,sans-Serif\" font-size=\"14.00\" fill=\"#000000\">class = Top&#45;100 No</text>\n</g>\n<!-- 8&#45;&gt;10 -->\n<g id=\"edge10\" class=\"edge\">\n<title>8&#45;&gt;10</title>\n<path fill=\"none\" stroke=\"#000000\" d=\"M659,-88.9777C659,-80.7364 659,-71.887 659,-63.5153\"/>\n<polygon fill=\"#000000\" stroke=\"#000000\" points=\"662.5001,-63.2484 659,-53.2485 655.5001,-63.2485 662.5001,-63.2484\"/>\n</g>\n<!-- 12 -->\n<g id=\"node13\" class=\"node\">\n<title>12</title>\n<polygon fill=\"#f1ba93\" stroke=\"#000000\" points=\"956.5,-53 767.5,-53 767.5,0 956.5,0 956.5,-53\"/>\n<text text-anchor=\"middle\" x=\"862\" y=\"-37.8\" font-family=\"Helvetica,sans-Serif\" font-size=\"14.00\" fill=\"#000000\">samples = 426</text>\n<text text-anchor=\"middle\" x=\"862\" y=\"-22.8\" font-family=\"Helvetica,sans-Serif\" font-size=\"14.00\" fill=\"#000000\">value = [222.562, 101.382]</text>\n<text text-anchor=\"middle\" x=\"862\" y=\"-7.8\" font-family=\"Helvetica,sans-Serif\" font-size=\"14.00\" fill=\"#000000\">class = Top&#45;100 No</text>\n</g>\n<!-- 11&#45;&gt;12 -->\n<g id=\"edge12\" class=\"edge\">\n<title>11&#45;&gt;12</title>\n<path fill=\"none\" stroke=\"#000000\" d=\"M862,-88.9777C862,-80.7364 862,-71.887 862,-63.5153\"/>\n<polygon fill=\"#000000\" stroke=\"#000000\" points=\"865.5001,-63.2484 862,-53.2485 858.5001,-63.2485 865.5001,-63.2484\"/>\n</g>\n<!-- 13 -->\n<g id=\"node14\" class=\"node\">\n<title>13</title>\n<polygon fill=\"#5baee9\" stroke=\"#000000\" points=\"1147.5,-53 974.5,-53 974.5,0 1147.5,0 1147.5,-53\"/>\n<text text-anchor=\"middle\" x=\"1061\" y=\"-37.8\" font-family=\"Helvetica,sans-Serif\" font-size=\"14.00\" fill=\"#000000\">samples = 45</text>\n<text text-anchor=\"middle\" x=\"1061\" y=\"-22.8\" font-family=\"Helvetica,sans-Serif\" font-size=\"14.00\" fill=\"#000000\">value = [16.285, 95.046]</text>\n<text text-anchor=\"middle\" x=\"1061\" y=\"-7.8\" font-family=\"Helvetica,sans-Serif\" font-size=\"14.00\" fill=\"#000000\">class = Top&#45;100 Yes</text>\n</g>\n<!-- 11&#45;&gt;13 -->\n<g id=\"edge13\" class=\"edge\">\n<title>11&#45;&gt;13</title>\n<path fill=\"none\" stroke=\"#000000\" d=\"M932.16,-88.9777C953.3123,-78.7204 976.4074,-67.521 997.1277,-57.4732\"/>\n<polygon fill=\"#000000\" stroke=\"#000000\" points=\"998.6857,-60.6076 1006.1564,-53.095 995.6313,-54.3091 998.6857,-60.6076\"/>\n</g>\n<!-- 15 -->\n<g id=\"node16\" class=\"node\">\n<title>15</title>\n<polygon fill=\"#7cbeee\" stroke=\"#000000\" points=\"1364.5,-261 1175.5,-261 1175.5,-193 1364.5,-193 1364.5,-261\"/>\n<text text-anchor=\"middle\" x=\"1270\" y=\"-245.8\" font-family=\"Helvetica,sans-Serif\" font-size=\"14.00\" fill=\"#000000\">followers &lt;= 170083.0</text>\n<text text-anchor=\"middle\" x=\"1270\" y=\"-230.8\" font-family=\"Helvetica,sans-Serif\" font-size=\"14.00\" fill=\"#000000\">samples = 726</text>\n<text text-anchor=\"middle\" x=\"1270\" y=\"-215.8\" font-family=\"Helvetica,sans-Serif\" font-size=\"14.00\" fill=\"#000000\">value = [314.301, 931.449]</text>\n<text text-anchor=\"middle\" x=\"1270\" y=\"-200.8\" font-family=\"Helvetica,sans-Serif\" font-size=\"14.00\" fill=\"#000000\">class = Top&#45;100 Yes</text>\n</g>\n<!-- 14&#45;&gt;15 -->\n<g id=\"edge15\" class=\"edge\">\n<title>14&#45;&gt;15</title>\n<path fill=\"none\" stroke=\"#000000\" d=\"M1270,-296.9465C1270,-288.776 1270,-279.9318 1270,-271.3697\"/>\n<polygon fill=\"#000000\" stroke=\"#000000\" points=\"1273.5001,-271.13 1270,-261.13 1266.5001,-271.13 1273.5001,-271.13\"/>\n</g>\n<!-- 20 -->\n<g id=\"node21\" class=\"node\">\n<title>20</title>\n<polygon fill=\"#41a1e6\" stroke=\"#000000\" points=\"1874.5,-261 1677.5,-261 1677.5,-193 1874.5,-193 1874.5,-261\"/>\n<text text-anchor=\"middle\" x=\"1776\" y=\"-245.8\" font-family=\"Helvetica,sans-Serif\" font-size=\"14.00\" fill=\"#000000\">rel_mean &lt;= 93.851</text>\n<text text-anchor=\"middle\" x=\"1776\" y=\"-230.8\" font-family=\"Helvetica,sans-Serif\" font-size=\"14.00\" fill=\"#000000\">samples = 906</text>\n<text text-anchor=\"middle\" x=\"1776\" y=\"-215.8\" font-family=\"Helvetica,sans-Serif\" font-size=\"14.00\" fill=\"#000000\">value = [151.994, 3966.578]</text>\n<text text-anchor=\"middle\" x=\"1776\" y=\"-200.8\" font-family=\"Helvetica,sans-Serif\" font-size=\"14.00\" fill=\"#000000\">class = Top&#45;100 Yes</text>\n</g>\n<!-- 14&#45;&gt;20 -->\n<g id=\"edge20\" class=\"edge\">\n<title>14&#45;&gt;20</title>\n<path fill=\"none\" stroke=\"#000000\" d=\"M1368.7631,-310.7009C1454.7,-293.0379 1579.0291,-267.4841 1667.6715,-249.2652\"/>\n<polygon fill=\"#000000\" stroke=\"#000000\" points=\"1668.3954,-252.6896 1677.486,-247.2479 1666.9861,-245.8329 1668.3954,-252.6896\"/>\n</g>\n<!-- 16 -->\n<g id=\"node17\" class=\"node\">\n<title>16</title>\n<polygon fill=\"#e58139\" stroke=\"#000000\" points=\"1251,-149.5 1103,-149.5 1103,-96.5 1251,-96.5 1251,-149.5\"/>\n<text text-anchor=\"middle\" x=\"1177\" y=\"-134.3\" font-family=\"Helvetica,sans-Serif\" font-size=\"14.00\" fill=\"#000000\">samples = 29</text>\n<text text-anchor=\"middle\" x=\"1177\" y=\"-119.3\" font-family=\"Helvetica,sans-Serif\" font-size=\"14.00\" fill=\"#000000\">value = [15.742, 0.0]</text>\n<text text-anchor=\"middle\" x=\"1177\" y=\"-104.3\" font-family=\"Helvetica,sans-Serif\" font-size=\"14.00\" fill=\"#000000\">class = Top&#45;100 No</text>\n</g>\n<!-- 15&#45;&gt;16 -->\n<g id=\"edge16\" class=\"edge\">\n<title>15&#45;&gt;16</title>\n<path fill=\"none\" stroke=\"#000000\" d=\"M1239.5483,-192.9465C1229.3045,-181.491 1217.8762,-168.711 1207.6195,-157.2412\"/>\n<polygon fill=\"#000000\" stroke=\"#000000\" points=\"1210.0097,-154.6634 1200.7348,-149.5422 1204.7917,-159.3295 1210.0097,-154.6634\"/>\n</g>\n<!-- 17 -->\n<g id=\"node18\" class=\"node\">\n<title>17</title>\n<polygon fill=\"#78bced\" stroke=\"#000000\" points=\"1458.5,-157 1269.5,-157 1269.5,-89 1458.5,-89 1458.5,-157\"/>\n<text text-anchor=\"middle\" x=\"1364\" y=\"-141.8\" font-family=\"Helvetica,sans-Serif\" font-size=\"14.00\" fill=\"#000000\">fol_mean &lt;= 914289.969</text>\n<text text-anchor=\"middle\" x=\"1364\" y=\"-126.8\" font-family=\"Helvetica,sans-Serif\" font-size=\"14.00\" fill=\"#000000\">samples = 697</text>\n<text text-anchor=\"middle\" x=\"1364\" y=\"-111.8\" font-family=\"Helvetica,sans-Serif\" font-size=\"14.00\" fill=\"#000000\">value = [298.559, 931.449]</text>\n<text text-anchor=\"middle\" x=\"1364\" y=\"-96.8\" font-family=\"Helvetica,sans-Serif\" font-size=\"14.00\" fill=\"#000000\">class = Top&#45;100 Yes</text>\n</g>\n<!-- 15&#45;&gt;17 -->\n<g id=\"edge17\" class=\"edge\">\n<title>15&#45;&gt;17</title>\n<path fill=\"none\" stroke=\"#000000\" d=\"M1300.7791,-192.9465C1308.9755,-183.8782 1317.922,-173.9799 1326.4375,-164.5585\"/>\n<polygon fill=\"#000000\" stroke=\"#000000\" points=\"1329.0429,-166.8957 1333.1517,-157.13 1323.8497,-162.2019 1329.0429,-166.8957\"/>\n</g>\n<!-- 18 -->\n<g id=\"node19\" class=\"node\">\n<title>18</title>\n<polygon fill=\"#b5dbf5\" stroke=\"#000000\" points=\"1354.5,-53 1165.5,-53 1165.5,0 1354.5,0 1354.5,-53\"/>\n<text text-anchor=\"middle\" x=\"1260\" y=\"-37.8\" font-family=\"Helvetica,sans-Serif\" font-size=\"14.00\" fill=\"#000000\">samples = 225</text>\n<text text-anchor=\"middle\" x=\"1260\" y=\"-22.8\" font-family=\"Helvetica,sans-Serif\" font-size=\"14.00\" fill=\"#000000\">value = [107.481, 171.082]</text>\n<text text-anchor=\"middle\" x=\"1260\" y=\"-7.8\" font-family=\"Helvetica,sans-Serif\" font-size=\"14.00\" fill=\"#000000\">class = Top&#45;100 Yes</text>\n</g>\n<!-- 17&#45;&gt;18 -->\n<g id=\"edge18\" class=\"edge\">\n<title>17&#45;&gt;18</title>\n<path fill=\"none\" stroke=\"#000000\" d=\"M1327.3335,-88.9777C1317.2675,-79.6376 1306.3596,-69.5163 1296.3135,-60.1947\"/>\n<polygon fill=\"#000000\" stroke=\"#000000\" points=\"1298.5385,-57.4847 1288.8274,-53.2485 1293.7772,-62.616 1298.5385,-57.4847\"/>\n</g>\n<!-- 19 -->\n<g id=\"node20\" class=\"node\">\n<title>19</title>\n<polygon fill=\"#6bb6ec\" stroke=\"#000000\" points=\"1561.5,-53 1372.5,-53 1372.5,0 1561.5,0 1561.5,-53\"/>\n<text text-anchor=\"middle\" x=\"1467\" y=\"-37.8\" font-family=\"Helvetica,sans-Serif\" font-size=\"14.00\" fill=\"#000000\">samples = 472</text>\n<text text-anchor=\"middle\" x=\"1467\" y=\"-22.8\" font-family=\"Helvetica,sans-Serif\" font-size=\"14.00\" fill=\"#000000\">value = [191.078, 760.366]</text>\n<text text-anchor=\"middle\" x=\"1467\" y=\"-7.8\" font-family=\"Helvetica,sans-Serif\" font-size=\"14.00\" fill=\"#000000\">class = Top&#45;100 Yes</text>\n</g>\n<!-- 17&#45;&gt;19 -->\n<g id=\"edge19\" class=\"edge\">\n<title>17&#45;&gt;19</title>\n<path fill=\"none\" stroke=\"#000000\" d=\"M1400.3139,-88.9777C1410.2832,-79.6376 1421.0862,-69.5163 1431.0357,-60.1947\"/>\n<polygon fill=\"#000000\" stroke=\"#000000\" points=\"1433.5452,-62.6397 1438.4498,-53.2485 1428.7592,-57.5314 1433.5452,-62.6397\"/>\n</g>\n<!-- 21 -->\n<g id=\"node22\" class=\"node\">\n<title>21</title>\n<polygon fill=\"#40a0e6\" stroke=\"#000000\" points=\"1874.5,-157 1677.5,-157 1677.5,-89 1874.5,-89 1874.5,-157\"/>\n<text text-anchor=\"middle\" x=\"1776\" y=\"-141.8\" font-family=\"Helvetica,sans-Serif\" font-size=\"14.00\" fill=\"#000000\">popularity &lt;= 84.5</text>\n<text text-anchor=\"middle\" x=\"1776\" y=\"-126.8\" font-family=\"Helvetica,sans-Serif\" font-size=\"14.00\" fill=\"#000000\">samples = 883</text>\n<text text-anchor=\"middle\" x=\"1776\" y=\"-111.8\" font-family=\"Helvetica,sans-Serif\" font-size=\"14.00\" fill=\"#000000\">value = [140.051, 3960.241]</text>\n<text text-anchor=\"middle\" x=\"1776\" y=\"-96.8\" font-family=\"Helvetica,sans-Serif\" font-size=\"14.00\" fill=\"#000000\">class = Top&#45;100 Yes</text>\n</g>\n<!-- 20&#45;&gt;21 -->\n<g id=\"edge21\" class=\"edge\">\n<title>20&#45;&gt;21</title>\n<path fill=\"none\" stroke=\"#000000\" d=\"M1776,-192.9465C1776,-184.776 1776,-175.9318 1776,-167.3697\"/>\n<polygon fill=\"#000000\" stroke=\"#000000\" points=\"1779.5001,-167.13 1776,-157.13 1772.5001,-167.13 1779.5001,-167.13\"/>\n</g>\n<!-- 24 -->\n<g id=\"node25\" class=\"node\">\n<title>24</title>\n<polygon fill=\"#f3c4a2\" stroke=\"#000000\" points=\"2169.5,-157 1990.5,-157 1990.5,-89 2169.5,-89 2169.5,-157\"/>\n<text text-anchor=\"middle\" x=\"2080\" y=\"-141.8\" font-family=\"Helvetica,sans-Serif\" font-size=\"14.00\" fill=\"#000000\">fol_mean &lt;= 2623571.25</text>\n<text text-anchor=\"middle\" x=\"2080\" y=\"-126.8\" font-family=\"Helvetica,sans-Serif\" font-size=\"14.00\" fill=\"#000000\">samples = 23</text>\n<text text-anchor=\"middle\" x=\"2080\" y=\"-111.8\" font-family=\"Helvetica,sans-Serif\" font-size=\"14.00\" fill=\"#000000\">value = [11.942, 6.336]</text>\n<text text-anchor=\"middle\" x=\"2080\" y=\"-96.8\" font-family=\"Helvetica,sans-Serif\" font-size=\"14.00\" fill=\"#000000\">class = Top&#45;100 No</text>\n</g>\n<!-- 20&#45;&gt;24 -->\n<g id=\"edge24\" class=\"edge\">\n<title>20&#45;&gt;24</title>\n<path fill=\"none\" stroke=\"#000000\" d=\"M1874.7001,-193.2342C1908.6923,-181.6052 1946.7566,-168.5833 1980.7894,-156.9405\"/>\n<polygon fill=\"#000000\" stroke=\"#000000\" points=\"1981.9461,-160.244 1990.2748,-153.6955 1979.6802,-153.6208 1981.9461,-160.244\"/>\n</g>\n<!-- 22 -->\n<g id=\"node23\" class=\"node\">\n<title>22</title>\n<polygon fill=\"#4da7e8\" stroke=\"#000000\" points=\"1776.5,-53 1579.5,-53 1579.5,0 1776.5,0 1776.5,-53\"/>\n<text text-anchor=\"middle\" x=\"1678\" y=\"-37.8\" font-family=\"Helvetica,sans-Serif\" font-size=\"14.00\" fill=\"#000000\">samples = 380</text>\n<text text-anchor=\"middle\" x=\"1678\" y=\"-22.8\" font-family=\"Helvetica,sans-Serif\" font-size=\"14.00\" fill=\"#000000\">value = [112.367, 1096.195]</text>\n<text text-anchor=\"middle\" x=\"1678\" y=\"-7.8\" font-family=\"Helvetica,sans-Serif\" font-size=\"14.00\" fill=\"#000000\">class = Top&#45;100 Yes</text>\n</g>\n<!-- 21&#45;&gt;22 -->\n<g id=\"edge22\" class=\"edge\">\n<title>21&#45;&gt;22</title>\n<path fill=\"none\" stroke=\"#000000\" d=\"M1741.4489,-88.9777C1732.0566,-79.7292 1721.8864,-69.7147 1712.4971,-60.4691\"/>\n<polygon fill=\"#000000\" stroke=\"#000000\" points=\"1714.7454,-57.7709 1705.1643,-53.2485 1709.8339,-62.7587 1714.7454,-57.7709\"/>\n</g>\n<!-- 23 -->\n<g id=\"node24\" class=\"node\">\n<title>23</title>\n<polygon fill=\"#3b9ee5\" stroke=\"#000000\" points=\"1983.5,-53 1794.5,-53 1794.5,0 1983.5,0 1983.5,-53\"/>\n<text text-anchor=\"middle\" x=\"1889\" y=\"-37.8\" font-family=\"Helvetica,sans-Serif\" font-size=\"14.00\" fill=\"#000000\">samples = 503</text>\n<text text-anchor=\"middle\" x=\"1889\" y=\"-22.8\" font-family=\"Helvetica,sans-Serif\" font-size=\"14.00\" fill=\"#000000\">value = [27.685, 2864.046]</text>\n<text text-anchor=\"middle\" x=\"1889\" y=\"-7.8\" font-family=\"Helvetica,sans-Serif\" font-size=\"14.00\" fill=\"#000000\">class = Top&#45;100 Yes</text>\n</g>\n<!-- 21&#45;&gt;23 -->\n<g id=\"edge23\" class=\"edge\">\n<title>21&#45;&gt;23</title>\n<path fill=\"none\" stroke=\"#000000\" d=\"M1815.8396,-88.9777C1826.8839,-79.546 1838.861,-69.3178 1849.8648,-59.9208\"/>\n<polygon fill=\"#000000\" stroke=\"#000000\" points=\"1852.3464,-62.4041 1857.6779,-53.2485 1847.8006,-57.081 1852.3464,-62.4041\"/>\n</g>\n<!-- 25 -->\n<g id=\"node26\" class=\"node\">\n<title>25</title>\n<polygon fill=\"#8ec7f0\" stroke=\"#000000\" points=\"2158,-53 2002,-53 2002,0 2158,0 2158,-53\"/>\n<text text-anchor=\"middle\" x=\"2080\" y=\"-37.8\" font-family=\"Helvetica,sans-Serif\" font-size=\"14.00\" fill=\"#000000\">samples = 6</text>\n<text text-anchor=\"middle\" x=\"2080\" y=\"-22.8\" font-family=\"Helvetica,sans-Serif\" font-size=\"14.00\" fill=\"#000000\">value = [2.714, 6.336]</text>\n<text text-anchor=\"middle\" x=\"2080\" y=\"-7.8\" font-family=\"Helvetica,sans-Serif\" font-size=\"14.00\" fill=\"#000000\">class = Top&#45;100 Yes</text>\n</g>\n<!-- 24&#45;&gt;25 -->\n<g id=\"edge25\" class=\"edge\">\n<title>24&#45;&gt;25</title>\n<path fill=\"none\" stroke=\"#000000\" d=\"M2080,-88.9777C2080,-80.7364 2080,-71.887 2080,-63.5153\"/>\n<polygon fill=\"#000000\" stroke=\"#000000\" points=\"2083.5001,-63.2484 2080,-53.2485 2076.5001,-63.2485 2083.5001,-63.2484\"/>\n</g>\n<!-- 26 -->\n<g id=\"node27\" class=\"node\">\n<title>26</title>\n<polygon fill=\"#e58139\" stroke=\"#000000\" points=\"2318,-53 2176,-53 2176,0 2318,0 2318,-53\"/>\n<text text-anchor=\"middle\" x=\"2247\" y=\"-37.8\" font-family=\"Helvetica,sans-Serif\" font-size=\"14.00\" fill=\"#000000\">samples = 17</text>\n<text text-anchor=\"middle\" x=\"2247\" y=\"-22.8\" font-family=\"Helvetica,sans-Serif\" font-size=\"14.00\" fill=\"#000000\">value = [9.228, 0.0]</text>\n<text text-anchor=\"middle\" x=\"2247\" y=\"-7.8\" font-family=\"Helvetica,sans-Serif\" font-size=\"14.00\" fill=\"#000000\">class = Top&#45;100 No</text>\n</g>\n<!-- 24&#45;&gt;26 -->\n<g id=\"edge26\" class=\"edge\">\n<title>24&#45;&gt;26</title>\n<path fill=\"none\" stroke=\"#000000\" d=\"M2138.878,-88.9777C2156.2309,-78.9504 2175.142,-68.0228 2192.226,-58.1508\"/>\n<polygon fill=\"#000000\" stroke=\"#000000\" points=\"2194.0682,-61.1287 2200.9754,-53.095 2190.5659,-55.0678 2194.0682,-61.1287\"/>\n</g>\n</g>\n</svg>\n"
          },
          "metadata": {}
        }
      ]
    },
    {
      "cell_type": "code",
      "source": [
        "result = tree.feature_importances_\n",
        "print(\"변수의 중요도:\\n\", result)"
      ],
      "metadata": {
        "colab": {
          "base_uri": "https://localhost:8080/"
        },
        "id": "QQQh4rY0OBlK",
        "outputId": "3b160f0c-423a-49f2-c32b-138be7b42e48"
      },
      "execution_count": 195,
      "outputs": [
        {
          "output_type": "stream",
          "name": "stdout",
          "text": [
            "변수의 중요도:\n",
            " [0.9487381  0.00586382 0.01495291 0.03044517]\n"
          ]
        }
      ]
    },
    {
      "cell_type": "code",
      "source": [
        "import numpy as np\n",
        "\n",
        "def plot_feature_importances_spotify(model):\n",
        "    plt.rcParams[\"figure.figsize\"] = (9,6)\n",
        "    n_features = len(spotify.columns[[3, 4, 6, 7]])  # 4개 \n",
        "    plt.barh(np.arange(n_features), model.feature_importances_, align='center') \n",
        "    plt.yticks(np.arange(n_features), spotify.columns[[3, 4, 6, 7]])   # 5개의 눈금을 표시하고 눈금 레이블을 변수 이름으로 지정\n",
        "    plt.xlabel(\"feature importance\")\n",
        "    plt.ylabel(\"feature\")\n",
        "    plt.ylim(-1, n_features) #Y 축 범위 지정\n",
        "\n",
        "plot_feature_importances_spotify(tree)\n",
        "\n",
        "#(0이라고 해서 중요하지 않은 것 아님)"
      ],
      "metadata": {
        "colab": {
          "base_uri": "https://localhost:8080/",
          "height": 388
        },
        "id": "qDM70esBOEG_",
        "outputId": "a0168a35-bfeb-402f-c3bd-51fb29680e92"
      },
      "execution_count": 196,
      "outputs": [
        {
          "output_type": "display_data",
          "data": {
            "text/plain": [
              "<Figure size 648x432 with 1 Axes>"
            ],
            "image/png": "[encoded data removed]"
          },
          "metadata": {
            "needs_background": "light"
          }
        }
      ]
    },
    {
      "cell_type": "markdown",
      "source": [
        "### **3) 앙상블 모델: 랜덤 포레스트** ###"
      ],
      "metadata": {
        "id": "yRL0NFJmPyN-"
      }
    },
    {
      "cell_type": "code",
      "source": [
        "from sklearn.ensemble import RandomForestClassifier\n",
        "\n",
        "# 30개 변수를 모두 이용하여 100개의 나무 생성 (정확도가 높아짐)\n",
        "forest = RandomForestClassifier(n_estimators=100, random_state=0)\n",
        "forest.fit(X_train, y_train)\n",
        "\n",
        "print(\"학습용 데이터 세트 정확도: {:.3f}\".format(forest.score(X_train, y_train)))\n",
        "print(\"시험용 데이터 세트 정확도: {:.3f}\".format(forest.score(X_test, y_test)))"
      ],
      "metadata": {
        "colab": {
          "base_uri": "https://localhost:8080/"
        },
        "id": "0Y92AoiJOoBT",
        "outputId": "a1c1f489-216f-4236-989a-a6dcf16b24a0"
      },
      "execution_count": 197,
      "outputs": [
        {
          "output_type": "stream",
          "name": "stdout",
          "text": [
            "학습용 데이터 세트 정확도: 1.000\n",
            "시험용 데이터 세트 정확도: 0.992\n"
          ]
        }
      ]
    },
    {
      "cell_type": "code",
      "source": [
        "# 단일 의사결정나무의 경우보다 많은 변수(feature)들이 사용됨\n",
        "plot_feature_importances_spotify(forest) "
      ],
      "metadata": {
        "colab": {
          "base_uri": "https://localhost:8080/",
          "height": 388
        },
        "id": "pPQfiPpdOoQp",
        "outputId": "01aa9fd8-58c1-4c8f-b012-9f5150e5f67a"
      },
      "execution_count": 198,
      "outputs": [
        {
          "output_type": "display_data",
          "data": {
            "text/plain": [
              "<Figure size 648x432 with 1 Axes>"
            ],
            "image/png": "[encoded data removed]"
          },
          "metadata": {
            "needs_background": "light"
          }
        }
      ]
    },
    {
      "cell_type": "code",
      "source": [
        "from sklearn.model_selection import cross_val_score\n",
        "\n",
        "# 교차 검증을 10번 수행하여 10번의 교차 검증 평균 정확도를 비교 (10-fold cross validation)\n",
        "# default cv=5\n",
        "\n",
        "dt_scores = cross_val_score(tree, X_train, y_train, cv=10, scoring='accuracy')  \n",
        "rf_scores = cross_val_score(forest, X_train, y_train, cv=10, scoring='accuracy')\n",
        "\n",
        "print(\"Accuracy\")\n",
        "print(\"Decision tree: \", dt_scores) \n",
        "print(\"Random forest: \", rf_scores) \n",
        "\n",
        "print(\"Accuracy mean\")\n",
        "print(\"Decision tree :{:.3f}\".format(dt_scores.mean())) \n",
        "print(\"Random forest :{:.3f}\".format(rf_scores.mean()))"
      ],
      "metadata": {
        "colab": {
          "base_uri": "https://localhost:8080/"
        },
        "id": "kfYABbwnOkpJ",
        "outputId": "be25c612-362d-4ae6-be79-57ab04133d9e"
      },
      "execution_count": 199,
      "outputs": [
        {
          "output_type": "stream",
          "name": "stdout",
          "text": [
            "Accuracy\n",
            "Decision tree:  [0.91425819 0.89788054 0.91811175 0.91714836 0.90077071 0.91040462\n",
            " 0.9238921  0.92581888 0.91040462 0.92092575]\n",
            "Random forest:  [0.9894027  0.99710983 0.99325626 0.99325626 0.99421965 0.99421965\n",
            " 0.99518304 0.99325626 0.99132948 0.99324976]\n",
            "Accuracy mean\n",
            "Decision tree :0.914\n",
            "Random forest :0.993\n"
          ]
        }
      ]
    },
    {
      "cell_type": "code",
      "source": [
        "cv_list = [    \n",
        "            ['decision_tree',dt_scores],\n",
        "            ['random_forest',rf_scores],\n",
        "          ]\n",
        "df = pd.DataFrame.from_dict(dict(cv_list))\n",
        "df.plot()"
      ],
      "metadata": {
        "colab": {
          "base_uri": "https://localhost:8080/",
          "height": 392
        },
        "id": "YiS4SZ3IQ8D1",
        "outputId": "9d277045-78de-473d-d38e-9ff8697f4ddf"
      },
      "execution_count": 200,
      "outputs": [
        {
          "output_type": "execute_result",
          "data": {
            "text/plain": [
              "<matplotlib.axes._subplots.AxesSubplot at 0x7f9fb5205eb0>"
            ]
          },
          "metadata": {},
          "execution_count": 200
        },
        {
          "output_type": "display_data",
          "data": {
            "text/plain": [
              "<Figure size 648x432 with 1 Axes>"
            ],
            "image/png": "[encoded data removed]"
          },
          "metadata": {
            "needs_background": "light"
          }
        }
      ]
    },
    {
      "cell_type": "markdown",
      "source": [
        "### **4) 앙상블 모델: 그래디언트 부스팅** ###"
      ],
      "metadata": {
        "id": "fi-_m-WqRA0h"
      }
    },
    {
      "cell_type": "code",
      "source": [
        "from sklearn.ensemble import GradientBoostingClassifier\n",
        "# 기본값은 max_depth= 3, n_estimators=100, learning_rate = 0.1\n",
        "\n",
        "gbrt = GradientBoostingClassifier(random_state=0)\n",
        "gbrt.fit(X_train, y_train)"
      ],
      "metadata": {
        "colab": {
          "base_uri": "https://localhost:8080/"
        },
        "id": "clguWdgFRLN3",
        "outputId": "2f179fc2-49bc-4aae-db39-bb36df34b20c"
      },
      "execution_count": 201,
      "outputs": [
        {
          "output_type": "execute_result",
          "data": {
            "text/plain": [
              "GradientBoostingClassifier(random_state=0)"
            ]
          },
          "metadata": {},
          "execution_count": 201
        }
      ]
    },
    {
      "cell_type": "code",
      "source": [
        "print(\"학습용 데이터 세트 정확도: {:.3f}\".format(gbrt.score(X_train, y_train)))\n",
        "print(\"시험용 데이터 세트 정확도: {:.3f}\".format(gbrt.score(X_test, y_test)))"
      ],
      "metadata": {
        "colab": {
          "base_uri": "https://localhost:8080/"
        },
        "id": "j-RfFipBRLYK",
        "outputId": "64c8c1c3-4517-456d-92ff-8c37e45c2aa6"
      },
      "execution_count": 202,
      "outputs": [
        {
          "output_type": "stream",
          "name": "stdout",
          "text": [
            "학습용 데이터 세트 정확도: 0.982\n",
            "시험용 데이터 세트 정확도: 0.973\n"
          ]
        }
      ]
    },
    {
      "cell_type": "code",
      "source": [
        "plot_feature_importances_spotify(gbrt)"
      ],
      "metadata": {
        "colab": {
          "base_uri": "https://localhost:8080/",
          "height": 388
        },
        "id": "jb5BO6NHRLfU",
        "outputId": "5b21d957-7bfc-4b5f-80f7-9a64b0c3b33a"
      },
      "execution_count": 203,
      "outputs": [
        {
          "output_type": "display_data",
          "data": {
            "text/plain": [
              "<Figure size 648x432 with 1 Axes>"
            ],
            "image/png": "[encoded data removed]"
          },
          "metadata": {
            "needs_background": "light"
          }
        }
      ]
    },
    {
      "cell_type": "code",
      "source": [
        "#나무 깊이 제한\n",
        "gbrt = GradientBoostingClassifier(random_state=0, max_depth=2)\n",
        "gbrt.fit(X_train, y_train)\n",
        "\n",
        "print(\"학습 데이터 세트 정확도: {:.3f}\".format(gbrt.score(X_train, y_train)))\n",
        "print(\"시험용 데이터 세트 정확도: {:.3f}\".format(gbrt.score(X_test, y_test)))"
      ],
      "metadata": {
        "colab": {
          "base_uri": "https://localhost:8080/"
        },
        "id": "Wq0Ri13KRicg",
        "outputId": "f07df281-221c-4890-d6aa-2fa8b4a2f688"
      },
      "execution_count": 204,
      "outputs": [
        {
          "output_type": "stream",
          "name": "stdout",
          "text": [
            "학습 데이터 세트 정확도: 0.971\n",
            "시험용 데이터 세트 정확도: 0.964\n"
          ]
        }
      ]
    },
    {
      "cell_type": "code",
      "source": [
        "#학습률 감소\n",
        "gbrt = GradientBoostingClassifier(random_state=0, learning_rate=0.01)\n",
        "gbrt.fit(X_train, y_train)\n",
        "\n",
        "print(\"학습 데이터 세트 정확도: {:.3f}\".format(gbrt.score(X_train, y_train)))\n",
        "print(\"시험용 데이터 세트 정확도: {:.3f}\".format(gbrt.score(X_test, y_test)))"
      ],
      "metadata": {
        "colab": {
          "base_uri": "https://localhost:8080/"
        },
        "id": "4HUsL7xURLiD",
        "outputId": "14bf86be-294b-4a57-9dc0-15ce7ff407f3"
      },
      "execution_count": 205,
      "outputs": [
        {
          "output_type": "stream",
          "name": "stdout",
          "text": [
            "학습 데이터 세트 정확도: 0.963\n",
            "시험용 데이터 세트 정확도: 0.962\n"
          ]
        }
      ]
    },
    {
      "cell_type": "markdown",
      "source": [
        "### **5) 분류모델 평가** ###"
      ],
      "metadata": {
        "id": "mA41uhqKR0RS"
      }
    },
    {
      "cell_type": "markdown",
      "source": [
        "### 분류 모델 선택 및 평가 결과\n",
        "\n",
        "* 선택한 평가: Accuracy(정확도) \n",
        "* 최적의 분류모델: 랜덤 포레스트\n",
        "\n",
        "교차검증을 시도한 결과, 랜덤 포레스트 모델에서 0.994의 가장 높은 정확도를\n",
        "보였으며, 정오 분류표에서도 정확도가 0.993으로 가장 높은 결과를 도출했기에 최적의 분류모델로 판단했다."
      ],
      "metadata": {
        "id": "GHT2ZM-mXL3M"
      }
    },
    {
      "cell_type": "markdown",
      "source": [
        "#### 1. 교차검증 ####"
      ],
      "metadata": {
        "id": "g3Rx5MvISdsq"
      }
    },
    {
      "cell_type": "code",
      "source": [
        "# 교차 검증을 10번 수행하여 10번의 교차 검증 평균 정확도를 비교 (10-fold cross validation)\n",
        "\n",
        "dt_scores = cross_val_score(tree, X_train, y_train, cv=10, scoring='accuracy')  \n",
        "rf_scores = cross_val_score(forest, X_train, y_train, cv=10, scoring='accuracy')\n",
        "gbrt_scores = cross_val_score(gbrt, X_train, y_train, cv=10, scoring='accuracy')\n",
        "\n",
        "print(\"Accuracy\")\n",
        "print(\"Decision tree: \", dt_scores) \n",
        "print(\"Random forest: \", rf_scores) \n",
        "print(\"Gradient boosting: \", gbrt_scores) \n",
        "\n",
        "print(\"Accuracy mean\")\n",
        "print(\"Decision tree :{:.3f}\".format(dt_scores.mean())) \n",
        "print(\"Random forest :{:.3f}\".format(rf_scores.mean())) \n",
        "print(\"Gradient boosting :{:.3f}\".format(gbrt_scores.mean())) "
      ],
      "metadata": {
        "colab": {
          "base_uri": "https://localhost:8080/"
        },
        "id": "YirwACgqRzNf",
        "outputId": "3294c544-0602-4725-92c6-9ebb2ab10dd8"
      },
      "execution_count": 206,
      "outputs": [
        {
          "output_type": "stream",
          "name": "stdout",
          "text": [
            "Accuracy\n",
            "Decision tree:  [0.91425819 0.89788054 0.91811175 0.91714836 0.90077071 0.91040462\n",
            " 0.9238921  0.92581888 0.91040462 0.92092575]\n",
            "Random forest:  [0.9894027  0.99710983 0.99325626 0.99325626 0.99421965 0.99421965\n",
            " 0.99518304 0.99325626 0.99132948 0.99324976]\n",
            "Gradient boosting:  [0.95761079 0.9566474  0.95761079 0.96339114 0.95761079 0.96050096\n",
            " 0.96339114 0.96146435 0.9672447  0.96046287]\n",
            "Accuracy mean\n",
            "Decision tree :0.914\n",
            "Random forest :0.993\n",
            "Gradient boosting :0.961\n"
          ]
        }
      ]
    },
    {
      "cell_type": "markdown",
      "source": [
        "#### 2. 그리드 서치 ####"
      ],
      "metadata": {
        "id": "0BbCZ_xzSksq"
      }
    },
    {
      "cell_type": "code",
      "source": [
        "from sklearn.model_selection import GridSearchCV\n",
        "\n",
        "# 파라미터를 dictionary 형태로 설정\n",
        "parameters = {'max_depth':[1,2,3], 'learning_rate':[0.1,0.08, 0.06, 0.04, 0.02]}"
      ],
      "metadata": {
        "id": "faJDB-11SkDS"
      },
      "execution_count": 207,
      "outputs": []
    },
    {
      "cell_type": "code",
      "source": [
        "# param_grid의 파라미터들을 3개의 fold 로 나누어 검증\n",
        "# refit=True (기본값): 가장 좋은 파라미터 설정으로 재학습  \n",
        "init_gbrt = GradientBoostingClassifier(random_state=0)\n",
        "grid_gbrt = GridSearchCV(init_gbrt, param_grid=parameters, cv=3, refit=True)\n",
        "print(grid_gbrt)\n",
        "# 파라미터들을 순차적으로 학습, 검증\n",
        "grid_gbrt.fit(X_train, y_train)\n",
        "\n",
        "# GridSearchCV 결과 추출하여 DataFrame으로 변환\n",
        "scores_df = pd.DataFrame(grid_gbrt.cv_results_)\n",
        "scores_df[['params', 'mean_test_score', 'rank_test_score', 'split0_test_score', 'split1_test_score', 'split2_test_score']]"
      ],
      "metadata": {
        "colab": {
          "base_uri": "https://localhost:8080/",
          "height": 574
        },
        "id": "BXtcck4MSalI",
        "outputId": "8fa2ae7c-2d7d-4523-e290-bf15614859c9"
      },
      "execution_count": 208,
      "outputs": [
        {
          "output_type": "stream",
          "name": "stdout",
          "text": [
            "GridSearchCV(cv=3, estimator=GradientBoostingClassifier(random_state=0),\n",
            "             param_grid={'learning_rate': [0.1, 0.08, 0.06, 0.04, 0.02],\n",
            "                         'max_depth': [1, 2, 3]})\n"
          ]
        },
        {
          "output_type": "execute_result",
          "data": {
            "text/plain": [
              "                                     params  mean_test_score  rank_test_score  \\\n",
              "0    {'learning_rate': 0.1, 'max_depth': 1}         0.961461               10   \n",
              "1    {'learning_rate': 0.1, 'max_depth': 2}         0.968976                4   \n",
              "2    {'learning_rate': 0.1, 'max_depth': 3}         0.974661                1   \n",
              "3   {'learning_rate': 0.08, 'max_depth': 1}         0.961075               11   \n",
              "4   {'learning_rate': 0.08, 'max_depth': 2}         0.966182                6   \n",
              "5   {'learning_rate': 0.08, 'max_depth': 3}         0.972252                2   \n",
              "6   {'learning_rate': 0.06, 'max_depth': 1}         0.960593               13   \n",
              "7   {'learning_rate': 0.06, 'max_depth': 2}         0.964351                9   \n",
              "8   {'learning_rate': 0.06, 'max_depth': 3}         0.970806                3   \n",
              "9   {'learning_rate': 0.04, 'max_depth': 1}         0.960304               14   \n",
              "10  {'learning_rate': 0.04, 'max_depth': 2}         0.964640                8   \n",
              "11  {'learning_rate': 0.04, 'max_depth': 3}         0.967627                5   \n",
              "12  {'learning_rate': 0.02, 'max_depth': 1}         0.959245               15   \n",
              "13  {'learning_rate': 0.02, 'max_depth': 2}         0.960979               12   \n",
              "14  {'learning_rate': 0.02, 'max_depth': 3}         0.966182                6   \n",
              "\n",
              "    split0_test_score  split1_test_score  split2_test_score  \n",
              "0            0.960405           0.963295           0.960682  \n",
              "1            0.968497           0.970520           0.967910  \n",
              "2            0.973699           0.973988           0.976294  \n",
              "3            0.960405           0.962139           0.960682  \n",
              "4            0.963873           0.969653           0.965019  \n",
              "5            0.973121           0.971965           0.971668  \n",
              "6            0.959827           0.962717           0.959237  \n",
              "7            0.962717           0.966474           0.963862  \n",
              "8            0.970231           0.971098           0.971090  \n",
              "9            0.959249           0.961272           0.960393  \n",
              "10           0.963295           0.967052           0.963573  \n",
              "11           0.967052           0.968497           0.967332  \n",
              "12           0.956358           0.960694           0.960682  \n",
              "13           0.956936           0.963584           0.962417  \n",
              "14           0.964740           0.968786           0.965019  "
            ],
            "text/html": [
              "\n",
              "  <div id=\"df-c40014b8-b10c-45b7-ac8e-9f69a8537de9\">\n",
              "    <div class=\"colab-df-container\">\n",
              "      <div>\n",
              "<style scoped>\n",
              "    .dataframe tbody tr th:only-of-type {\n",
              "        vertical-align: middle;\n",
              "    }\n",
              "\n",
              "    .dataframe tbody tr th {\n",
              "        vertical-align: top;\n",
              "    }\n",
              "\n",
              "    .dataframe thead th {\n",
              "        text-align: right;\n",
              "    }\n",
              "</style>\n",
              "<table border=\"1\" class=\"dataframe\">\n",
              "  <thead>\n",
              "    <tr style=\"text-align: right;\">\n",
              "      <th></th>\n",
              "      <th>params</th>\n",
              "      <th>mean_test_score</th>\n",
              "      <th>rank_test_score</th>\n",
              "      <th>split0_test_score</th>\n",
              "      <th>split1_test_score</th>\n",
              "      <th>split2_test_score</th>\n",
              "    </tr>\n",
              "  </thead>\n",
              "  <tbody>\n",
              "    <tr>\n",
              "      <th>0</th>\n",
              "      <td>{'learning_rate': 0.1, 'max_depth': 1}</td>\n",
              "      <td>0.961461</td>\n",
              "      <td>10</td>\n",
              "      <td>0.960405</td>\n",
              "      <td>0.963295</td>\n",
              "      <td>0.960682</td>\n",
              "    </tr>\n",
              "    <tr>\n",
              "      <th>1</th>\n",
              "      <td>{'learning_rate': 0.1, 'max_depth': 2}</td>\n",
              "      <td>0.968976</td>\n",
              "      <td>4</td>\n",
              "      <td>0.968497</td>\n",
              "      <td>0.970520</td>\n",
              "      <td>0.967910</td>\n",
              "    </tr>\n",
              "    <tr>\n",
              "      <th>2</th>\n",
              "      <td>{'learning_rate': 0.1, 'max_depth': 3}</td>\n",
              "      <td>0.974661</td>\n",
              "      <td>1</td>\n",
              "      <td>0.973699</td>\n",
              "      <td>0.973988</td>\n",
              "      <td>0.976294</td>\n",
              "    </tr>\n",
              "    <tr>\n",
              "      <th>3</th>\n",
              "      <td>{'learning_rate': 0.08, 'max_depth': 1}</td>\n",
              "      <td>0.961075</td>\n",
              "      <td>11</td>\n",
              "      <td>0.960405</td>\n",
              "      <td>0.962139</td>\n",
              "      <td>0.960682</td>\n",
              "    </tr>\n",
              "    <tr>\n",
              "      <th>4</th>\n",
              "      <td>{'learning_rate': 0.08, 'max_depth': 2}</td>\n",
              "      <td>0.966182</td>\n",
              "      <td>6</td>\n",
              "      <td>0.963873</td>\n",
              "      <td>0.969653</td>\n",
              "      <td>0.965019</td>\n",
              "    </tr>\n",
              "    <tr>\n",
              "      <th>5</th>\n",
              "      <td>{'learning_rate': 0.08, 'max_depth': 3}</td>\n",
              "      <td>0.972252</td>\n",
              "      <td>2</td>\n",
              "      <td>0.973121</td>\n",
              "      <td>0.971965</td>\n",
              "      <td>0.971668</td>\n",
              "    </tr>\n",
              "    <tr>\n",
              "      <th>6</th>\n",
              "      <td>{'learning_rate': 0.06, 'max_depth': 1}</td>\n",
              "      <td>0.960593</td>\n",
              "      <td>13</td>\n",
              "      <td>0.959827</td>\n",
              "      <td>0.962717</td>\n",
              "      <td>0.959237</td>\n",
              "    </tr>\n",
              "    <tr>\n",
              "      <th>7</th>\n",
              "      <td>{'learning_rate': 0.06, 'max_depth': 2}</td>\n",
              "      <td>0.964351</td>\n",
              "      <td>9</td>\n",
              "      <td>0.962717</td>\n",
              "      <td>0.966474</td>\n",
              "      <td>0.963862</td>\n",
              "    </tr>\n",
              "    <tr>\n",
              "      <th>8</th>\n",
              "      <td>{'learning_rate': 0.06, 'max_depth': 3}</td>\n",
              "      <td>0.970806</td>\n",
              "      <td>3</td>\n",
              "      <td>0.970231</td>\n",
              "      <td>0.971098</td>\n",
              "      <td>0.971090</td>\n",
              "    </tr>\n",
              "    <tr>\n",
              "      <th>9</th>\n",
              "      <td>{'learning_rate': 0.04, 'max_depth': 1}</td>\n",
              "      <td>0.960304</td>\n",
              "      <td>14</td>\n",
              "      <td>0.959249</td>\n",
              "      <td>0.961272</td>\n",
              "      <td>0.960393</td>\n",
              "    </tr>\n",
              "    <tr>\n",
              "      <th>10</th>\n",
              "      <td>{'learning_rate': 0.04, 'max_depth': 2}</td>\n",
              "      <td>0.964640</td>\n",
              "      <td>8</td>\n",
              "      <td>0.963295</td>\n",
              "      <td>0.967052</td>\n",
              "      <td>0.963573</td>\n",
              "    </tr>\n",
              "    <tr>\n",
              "      <th>11</th>\n",
              "      <td>{'learning_rate': 0.04, 'max_depth': 3}</td>\n",
              "      <td>0.967627</td>\n",
              "      <td>5</td>\n",
              "      <td>0.967052</td>\n",
              "      <td>0.968497</td>\n",
              "      <td>0.967332</td>\n",
              "    </tr>\n",
              "    <tr>\n",
              "      <th>12</th>\n",
              "      <td>{'learning_rate': 0.02, 'max_depth': 1}</td>\n",
              "      <td>0.959245</td>\n",
              "      <td>15</td>\n",
              "      <td>0.956358</td>\n",
              "      <td>0.960694</td>\n",
              "      <td>0.960682</td>\n",
              "    </tr>\n",
              "    <tr>\n",
              "      <th>13</th>\n",
              "      <td>{'learning_rate': 0.02, 'max_depth': 2}</td>\n",
              "      <td>0.960979</td>\n",
              "      <td>12</td>\n",
              "      <td>0.956936</td>\n",
              "      <td>0.963584</td>\n",
              "      <td>0.962417</td>\n",
              "    </tr>\n",
              "    <tr>\n",
              "      <th>14</th>\n",
              "      <td>{'learning_rate': 0.02, 'max_depth': 3}</td>\n",
              "      <td>0.966182</td>\n",
              "      <td>6</td>\n",
              "      <td>0.964740</td>\n",
              "      <td>0.968786</td>\n",
              "      <td>0.965019</td>\n",
              "    </tr>\n",
              "  </tbody>\n",
              "</table>\n",
              "</div>\n",
              "      <button class=\"colab-df-convert\" onclick=\"convertToInteractive('df-c40014b8-b10c-45b7-ac8e-9f69a8537de9')\"\n",
              "              title=\"Convert this dataframe to an interactive table.\"\n",
              "              style=\"display:none;\">\n",
              "        \n",
              "  <svg xmlns=\"http://www.w3.org/2000/svg\" height=\"24px\"viewBox=\"0 0 24 24\"\n",
              "       width=\"24px\">\n",
              "    <path d=\"M0 0h24v24H0V0z\" fill=\"none\"/>\n",
              "    <path d=\"M18.56 5.44l.94 2.06.94-2.06 2.06-.94-2.06-.94-.94-2.06-.94 2.06-2.06.94zm-11 1L8.5 8.5l.94-2.06 2.06-.94-2.06-.94L8.5 2.5l-.94 2.06-2.06.94zm10 10l.94 2.06.94-2.06 2.06-.94-2.06-.94-.94-2.06-.94 2.06-2.06.94z\"/><path d=\"M17.41 7.96l-1.37-1.37c-.4-.4-.92-.59-1.43-.59-.52 0-1.04.2-1.43.59L10.3 9.45l-7.72 7.72c-.78.78-.78 2.05 0 2.83L4 21.41c.39.39.9.59 1.41.59.51 0 1.02-.2 1.41-.59l7.78-7.78 2.81-2.81c.8-.78.8-2.07 0-2.86zM5.41 20L4 18.59l7.72-7.72 1.47 1.35L5.41 20z\"/>\n",
              "  </svg>\n",
              "      </button>\n",
              "      \n",
              "  <style>\n",
              "    .colab-df-container {\n",
              "      display:flex;\n",
              "      flex-wrap:wrap;\n",
              "      gap: 12px;\n",
              "    }\n",
              "\n",
              "    .colab-df-convert {\n",
              "      background-color: #E8F0FE;\n",
              "      border: none;\n",
              "      border-radius: 50%;\n",
              "      cursor: pointer;\n",
              "      display: none;\n",
              "      fill: #1967D2;\n",
              "      height: 32px;\n",
              "      padding: 0 0 0 0;\n",
              "      width: 32px;\n",
              "    }\n",
              "\n",
              "    .colab-df-convert:hover {\n",
              "      background-color: #E2EBFA;\n",
              "      box-shadow: 0px 1px 2px rgba(60, 64, 67, 0.3), 0px 1px 3px 1px rgba(60, 64, 67, 0.15);\n",
              "      fill: #174EA6;\n",
              "    }\n",
              "\n",
              "    [theme=dark] .colab-df-convert {\n",
              "      background-color: #3B4455;\n",
              "      fill: #D2E3FC;\n",
              "    }\n",
              "\n",
              "    [theme=dark] .colab-df-convert:hover {\n",
              "      background-color: #434B5C;\n",
              "      box-shadow: 0px 1px 3px 1px rgba(0, 0, 0, 0.15);\n",
              "      filter: drop-shadow(0px 1px 2px rgba(0, 0, 0, 0.3));\n",
              "      fill: #FFFFFF;\n",
              "    }\n",
              "  </style>\n",
              "\n",
              "      <script>\n",
              "        const buttonEl =\n",
              "          document.querySelector('#df-c40014b8-b10c-45b7-ac8e-9f69a8537de9 button.colab-df-convert');\n",
              "        buttonEl.style.display =\n",
              "          google.colab.kernel.accessAllowed ? 'block' : 'none';\n",
              "\n",
              "        async function convertToInteractive(key) {\n",
              "          const element = document.querySelector('#df-c40014b8-b10c-45b7-ac8e-9f69a8537de9');\n",
              "          const dataTable =\n",
              "            await google.colab.kernel.invokeFunction('convertToInteractive',\n",
              "                                                     [key], {});\n",
              "          if (!dataTable) return;\n",
              "\n",
              "          const docLinkHtml = 'Like what you see? Visit the ' +\n",
              "            '<a target=\"_blank\" href=https://colab.research.google.com/notebooks/data_table.ipynb>data table notebook</a>'\n",
              "            + ' to learn more about interactive tables.';\n",
              "          element.innerHTML = '';\n",
              "          dataTable['output_type'] = 'display_data';\n",
              "          await google.colab.output.renderOutput(dataTable, element);\n",
              "          const docLink = document.createElement('div');\n",
              "          docLink.innerHTML = docLinkHtml;\n",
              "          element.appendChild(docLink);\n",
              "        }\n",
              "      </script>\n",
              "    </div>\n",
              "  </div>\n",
              "  "
            ]
          },
          "metadata": {},
          "execution_count": 208
        }
      ]
    },
    {
      "cell_type": "code",
      "source": [
        "print('GridSearchCV 최적 파라미터:', grid_gbrt.best_params_)\n",
        "print('GridSearchCV 최고 정확도: {0:.4f}'.format(grid_gbrt.best_score_))"
      ],
      "metadata": {
        "colab": {
          "base_uri": "https://localhost:8080/"
        },
        "id": "H5L3X90pTFC6",
        "outputId": "d0adc08c-bf43-4843-df90-52058f9fba8f"
      },
      "execution_count": 209,
      "outputs": [
        {
          "output_type": "stream",
          "name": "stdout",
          "text": [
            "GridSearchCV 최적 파라미터: {'learning_rate': 0.1, 'max_depth': 3}\n",
            "GridSearchCV 최고 정확도: 0.9747\n"
          ]
        }
      ]
    },
    {
      "cell_type": "code",
      "source": [
        "# 최적 파라미터로 학습이 된 모델을 이용하여 시험용 데이터 세트 분류\n",
        "print(\"시험용 데이터 세트 정확도: {:.3f}\".format(grid_gbrt.score(X_test, y_test)))"
      ],
      "metadata": {
        "colab": {
          "base_uri": "https://localhost:8080/"
        },
        "id": "-zOZINmETGkh",
        "outputId": "b84e679a-5594-40b2-eb71-853c23e352fb"
      },
      "execution_count": 210,
      "outputs": [
        {
          "output_type": "stream",
          "name": "stdout",
          "text": [
            "시험용 데이터 세트 정확도: 0.973\n"
          ]
        }
      ]
    },
    {
      "cell_type": "markdown",
      "source": [
        "#### 3. 모델평가지표: 정오분류표 ####"
      ],
      "metadata": {
        "id": "RIRNB4qkT83-"
      }
    },
    {
      "cell_type": "code",
      "source": [
        "from sklearn.metrics import accuracy_score, precision_score, recall_score, f1_score\n",
        "from sklearn.metrics import confusion_matrix \n",
        "\n",
        "print(y_test.value_counts()) # y_test 의 B,M 분포\n",
        "\n",
        "dt_pred = tree.predict(X_test)\n",
        "rf_pred = forest.predict(X_test)\n",
        "grid_gbrt_pred = grid_gbrt.predict(X_test)\n",
        "\n",
        "# 예측 결과인 pred와 실제 결과인 y_test의 Confusion Matrix 출력\n",
        "print('Decision tree 시험용 데이터 세트 정확도:{:.3f}'.format(accuracy_score(y_test, dt_pred)))\n",
        "print(confusion_matrix(y_test, dt_pred))\n",
        "print('Random forest 시험용 데이터 세트 정확도:{:.3f}'.format(accuracy_score(y_test, rf_pred)))\n",
        "print(confusion_matrix(y_test, rf_pred))\n",
        "print('Gradient boosting 시험용 데이터 세트 정확도:{:.3f}'.format(accuracy_score(y_test, grid_gbrt_pred)))\n",
        "print(confusion_matrix(y_test, grid_gbrt_pred))"
      ],
      "metadata": {
        "colab": {
          "base_uri": "https://localhost:8080/"
        },
        "id": "_FK5kiEoSQ7f",
        "outputId": "fbeaa627-429e-4e01-c5a3-9e0c3c0d534b"
      },
      "execution_count": 211,
      "outputs": [
        {
          "output_type": "stream",
          "name": "stdout",
          "text": [
            "No     3181\n",
            "Yes     279\n",
            "Name: top100, dtype: int64\n",
            "Decision tree 시험용 데이터 세트 정확도:0.914\n",
            "[[2894  287]\n",
            " [  12  267]]\n",
            "Random forest 시험용 데이터 세트 정확도:0.992\n",
            "[[3165   16]\n",
            " [  10  269]]\n",
            "Gradient boosting 시험용 데이터 세트 정확도:0.973\n",
            "[[3158   23]\n",
            " [  71  208]]\n"
          ]
        }
      ]
    },
    {
      "cell_type": "code",
      "source": [
        "from sklearn.metrics import classification_report\n",
        "\n",
        "# 각 클래스가 Positive일 때의 정밀도, 재현율, f1 값을 보여줌 (\"M\"이 Postivit인 경우가 기본값임)\n",
        "# macro avg는 클래스별 점수의 평균을 계산\n",
        "# weighted avg는 클래스의 샘플 수로 가중평균을 계산\n",
        "print(\"Decision Tree:\")\n",
        "print(classification_report(y_test, dt_pred, target_names=[\"No\", \"Yes\"]))\n",
        "print(\"Random Forest:\")\n",
        "print(classification_report(y_test, rf_pred, target_names=[\"No\", \"Yes\"]))\n",
        "print(\"Gradient Boosting:\")\n",
        "print(classification_report(y_test, grid_gbrt_pred, target_names=[\"No\", \"Yes\"]))"
      ],
      "metadata": {
        "colab": {
          "base_uri": "https://localhost:8080/"
        },
        "id": "XfczFxTCTVV7",
        "outputId": "2ab7e290-b5e2-442d-e516-676ba0a7fb5b"
      },
      "execution_count": 212,
      "outputs": [
        {
          "output_type": "stream",
          "name": "stdout",
          "text": [
            "Decision Tree:\n",
            "              precision    recall  f1-score   support\n",
            "\n",
            "          No       1.00      0.91      0.95      3181\n",
            "         Yes       0.48      0.96      0.64       279\n",
            "\n",
            "    accuracy                           0.91      3460\n",
            "   macro avg       0.74      0.93      0.80      3460\n",
            "weighted avg       0.95      0.91      0.93      3460\n",
            "\n",
            "Random Forest:\n",
            "              precision    recall  f1-score   support\n",
            "\n",
            "          No       1.00      0.99      1.00      3181\n",
            "         Yes       0.94      0.96      0.95       279\n",
            "\n",
            "    accuracy                           0.99      3460\n",
            "   macro avg       0.97      0.98      0.97      3460\n",
            "weighted avg       0.99      0.99      0.99      3460\n",
            "\n",
            "Gradient Boosting:\n",
            "              precision    recall  f1-score   support\n",
            "\n",
            "          No       0.98      0.99      0.99      3181\n",
            "         Yes       0.90      0.75      0.82       279\n",
            "\n",
            "    accuracy                           0.97      3460\n",
            "   macro avg       0.94      0.87      0.90      3460\n",
            "weighted avg       0.97      0.97      0.97      3460\n",
            "\n"
          ]
        }
      ]
    },
    {
      "cell_type": "markdown",
      "source": [
        "### 인사이트 도출\n",
        "\n",
        "3가지 분석모델에서 모두 popularity 변수의 중요도가 월등히 높았다.\n",
        "의사결정나무와 그래디언트 부스팅 모델에서는 pop_mean 변수가, 그리고 랜덤 포레스트 모델에서는 followers 변수가 그 뒤를 이었다.\n",
        "\n",
        "* 제일 정확도가 높은 random forest 모델의 결과를 참고한다면, 아티스트의 성공을 예측하기 위해서는 popularity 변수와 followers 변수를 참고하는 것이 가장 중요할 것으로 추측된다. \n",
        "* 위 결과에 따라서 아티스트의 성공을 위해서는 스포티파이 앨범에서의 좋아요(popularity) 개수와 아티스트의 팔로워 수를 올릴 수 있는 전략을 수립할 필요가 있다."
      ],
      "metadata": {
        "id": "jfRZ2KjYYJY1"
      }
    },
    {
      "cell_type": "markdown",
      "source": [
        "##**Step 2-2. 분류**"
      ],
      "metadata": {
        "id": "6PEPX1sbQ8z6"
      }
    },
    {
      "cell_type": "markdown",
      "source": [
        "### 분류 문제 선정: 인기도에 영향을 미치는 변수에 따라 아티스트의 성공 전략 수립하기\n",
        "\n",
        "* 종속변수: popularity \n",
        "\n",
        "* 독립변수: 각종 음악관련 수치들(곡의 분위기, 피치, 가사의 양, 음의 양 등)\n",
        "\n",
        "Yes: 인기도 50이상\n",
        "No: 인기도 50미만\n",
        "\n",
        "어떤 독립변수가 스포티파이 인기도부분에 영향을 주는지 확인한다\n",
        "\n",
        "결과에 무관하게 세운 가정: 노래가 어떤 분위기인지가 영향을 많이 줄 것으로 생각된다."
      ],
      "metadata": {
        "id": "F2igLn8Sm3u4"
      }
    },
    {
      "cell_type": "markdown",
      "source": [
        "### **1) songs 전처리** ###"
      ],
      "metadata": {
        "id": "6w69eBfFvLqm"
      }
    },
    {
      "cell_type": "code",
      "source": [
        "songs = pd.read_csv(\"/content/drive/My Drive/Colab Notebooks/Bigmining/songs_normalize.csv\", encoding='cp949')"
      ],
      "metadata": {
        "id": "2qQZO3SERCiD"
      },
      "execution_count": 150,
      "outputs": []
    },
    {
      "cell_type": "code",
      "source": [
        "songs.head()"
      ],
      "metadata": {
        "colab": {
          "base_uri": "https://localhost:8080/",
          "height": 392
        },
        "id": "37hSYx2ZRHYN",
        "outputId": "02971de0-69ad-40c4-bcc9-91edd51987c0"
      },
      "execution_count": 151,
      "outputs": [
        {
          "output_type": "execute_result",
          "data": {
            "text/plain": [
              "           artist                    song duration_ms explicit  year  \\\n",
              "0  Britney Spears  Oops!...I Did It Again      211160    FALSE  2000   \n",
              "1       blink-182    All The Small Things      167066    FALSE  1999   \n",
              "2      Faith Hill                 Breathe      250546    FALSE  1999   \n",
              "3        Bon Jovi            It's My Life      224493    FALSE  2000   \n",
              "4          *NSYNC             Bye Bye Bye      200560    FALSE  2000   \n",
              "\n",
              "   popularity  danceability  energy  key  loudness  mode  speechiness  \\\n",
              "0        77.0         0.751   0.834  1.0    -5.444   0.0       0.0437   \n",
              "1        79.0         0.434   0.897  0.0    -4.918   1.0       0.0488   \n",
              "2        66.0         0.529   0.496  7.0    -9.007   1.0       0.0290   \n",
              "3        78.0         0.551   0.913  0.0    -4.063   0.0       0.0466   \n",
              "4        65.0         0.614   0.928  8.0    -4.806   0.0       0.0516   \n",
              "\n",
              "   acousticness  instrumentalness  liveness  valence    tempo         genre  \n",
              "0        0.3000          0.000018    0.3550    0.894   95.053           pop  \n",
              "1        0.0103          0.000000    0.6120    0.684  148.726     rock, pop  \n",
              "2        0.1730          0.000000    0.2510    0.278  136.859  pop, country  \n",
              "3        0.0263          0.000013    0.3470    0.544  119.992   rock, metal  \n",
              "4        0.0408          0.001040    0.0845    0.879  172.656           pop  "
            ],
            "text/html": [
              "\n",
              "  <div id=\"df-37552ebb-7960-432a-b83c-1e8443460b63\">\n",
              "    <div class=\"colab-df-container\">\n",
              "      <div>\n",
              "<style scoped>\n",
              "    .dataframe tbody tr th:only-of-type {\n",
              "        vertical-align: middle;\n",
              "    }\n",
              "\n",
              "    .dataframe tbody tr th {\n",
              "        vertical-align: top;\n",
              "    }\n",
              "\n",
              "    .dataframe thead th {\n",
              "        text-align: right;\n",
              "    }\n",
              "</style>\n",
              "<table border=\"1\" class=\"dataframe\">\n",
              "  <thead>\n",
              "    <tr style=\"text-align: right;\">\n",
              "      <th></th>\n",
              "      <th>artist</th>\n",
              "      <th>song</th>\n",
              "      <th>duration_ms</th>\n",
              "      <th>explicit</th>\n",
              "      <th>year</th>\n",
              "      <th>popularity</th>\n",
              "      <th>danceability</th>\n",
              "      <th>energy</th>\n",
              "      <th>key</th>\n",
              "      <th>loudness</th>\n",
              "      <th>mode</th>\n",
              "      <th>speechiness</th>\n",
              "      <th>acousticness</th>\n",
              "      <th>instrumentalness</th>\n",
              "      <th>liveness</th>\n",
              "      <th>valence</th>\n",
              "      <th>tempo</th>\n",
              "      <th>genre</th>\n",
              "    </tr>\n",
              "  </thead>\n",
              "  <tbody>\n",
              "    <tr>\n",
              "      <th>0</th>\n",
              "      <td>Britney Spears</td>\n",
              "      <td>Oops!...I Did It Again</td>\n",
              "      <td>211160</td>\n",
              "      <td>FALSE</td>\n",
              "      <td>2000</td>\n",
              "      <td>77.0</td>\n",
              "      <td>0.751</td>\n",
              "      <td>0.834</td>\n",
              "      <td>1.0</td>\n",
              "      <td>-5.444</td>\n",
              "      <td>0.0</td>\n",
              "      <td>0.0437</td>\n",
              "      <td>0.3000</td>\n",
              "      <td>0.000018</td>\n",
              "      <td>0.3550</td>\n",
              "      <td>0.894</td>\n",
              "      <td>95.053</td>\n",
              "      <td>pop</td>\n",
              "    </tr>\n",
              "    <tr>\n",
              "      <th>1</th>\n",
              "      <td>blink-182</td>\n",
              "      <td>All The Small Things</td>\n",
              "      <td>167066</td>\n",
              "      <td>FALSE</td>\n",
              "      <td>1999</td>\n",
              "      <td>79.0</td>\n",
              "      <td>0.434</td>\n",
              "      <td>0.897</td>\n",
              "      <td>0.0</td>\n",
              "      <td>-4.918</td>\n",
              "      <td>1.0</td>\n",
              "      <td>0.0488</td>\n",
              "      <td>0.0103</td>\n",
              "      <td>0.000000</td>\n",
              "      <td>0.6120</td>\n",
              "      <td>0.684</td>\n",
              "      <td>148.726</td>\n",
              "      <td>rock, pop</td>\n",
              "    </tr>\n",
              "    <tr>\n",
              "      <th>2</th>\n",
              "      <td>Faith Hill</td>\n",
              "      <td>Breathe</td>\n",
              "      <td>250546</td>\n",
              "      <td>FALSE</td>\n",
              "      <td>1999</td>\n",
              "      <td>66.0</td>\n",
              "      <td>0.529</td>\n",
              "      <td>0.496</td>\n",
              "      <td>7.0</td>\n",
              "      <td>-9.007</td>\n",
              "      <td>1.0</td>\n",
              "      <td>0.0290</td>\n",
              "      <td>0.1730</td>\n",
              "      <td>0.000000</td>\n",
              "      <td>0.2510</td>\n",
              "      <td>0.278</td>\n",
              "      <td>136.859</td>\n",
              "      <td>pop, country</td>\n",
              "    </tr>\n",
              "    <tr>\n",
              "      <th>3</th>\n",
              "      <td>Bon Jovi</td>\n",
              "      <td>It's My Life</td>\n",
              "      <td>224493</td>\n",
              "      <td>FALSE</td>\n",
              "      <td>2000</td>\n",
              "      <td>78.0</td>\n",
              "      <td>0.551</td>\n",
              "      <td>0.913</td>\n",
              "      <td>0.0</td>\n",
              "      <td>-4.063</td>\n",
              "      <td>0.0</td>\n",
              "      <td>0.0466</td>\n",
              "      <td>0.0263</td>\n",
              "      <td>0.000013</td>\n",
              "      <td>0.3470</td>\n",
              "      <td>0.544</td>\n",
              "      <td>119.992</td>\n",
              "      <td>rock, metal</td>\n",
              "    </tr>\n",
              "    <tr>\n",
              "      <th>4</th>\n",
              "      <td>*NSYNC</td>\n",
              "      <td>Bye Bye Bye</td>\n",
              "      <td>200560</td>\n",
              "      <td>FALSE</td>\n",
              "      <td>2000</td>\n",
              "      <td>65.0</td>\n",
              "      <td>0.614</td>\n",
              "      <td>0.928</td>\n",
              "      <td>8.0</td>\n",
              "      <td>-4.806</td>\n",
              "      <td>0.0</td>\n",
              "      <td>0.0516</td>\n",
              "      <td>0.0408</td>\n",
              "      <td>0.001040</td>\n",
              "      <td>0.0845</td>\n",
              "      <td>0.879</td>\n",
              "      <td>172.656</td>\n",
              "      <td>pop</td>\n",
              "    </tr>\n",
              "  </tbody>\n",
              "</table>\n",
              "</div>\n",
              "      <button class=\"colab-df-convert\" onclick=\"convertToInteractive('df-37552ebb-7960-432a-b83c-1e8443460b63')\"\n",
              "              title=\"Convert this dataframe to an interactive table.\"\n",
              "              style=\"display:none;\">\n",
              "        \n",
              "  <svg xmlns=\"http://www.w3.org/2000/svg\" height=\"24px\"viewBox=\"0 0 24 24\"\n",
              "       width=\"24px\">\n",
              "    <path d=\"M0 0h24v24H0V0z\" fill=\"none\"/>\n",
              "    <path d=\"M18.56 5.44l.94 2.06.94-2.06 2.06-.94-2.06-.94-.94-2.06-.94 2.06-2.06.94zm-11 1L8.5 8.5l.94-2.06 2.06-.94-2.06-.94L8.5 2.5l-.94 2.06-2.06.94zm10 10l.94 2.06.94-2.06 2.06-.94-2.06-.94-.94-2.06-.94 2.06-2.06.94z\"/><path d=\"M17.41 7.96l-1.37-1.37c-.4-.4-.92-.59-1.43-.59-.52 0-1.04.2-1.43.59L10.3 9.45l-7.72 7.72c-.78.78-.78 2.05 0 2.83L4 21.41c.39.39.9.59 1.41.59.51 0 1.02-.2 1.41-.59l7.78-7.78 2.81-2.81c.8-.78.8-2.07 0-2.86zM5.41 20L4 18.59l7.72-7.72 1.47 1.35L5.41 20z\"/>\n",
              "  </svg>\n",
              "      </button>\n",
              "      \n",
              "  <style>\n",
              "    .colab-df-container {\n",
              "      display:flex;\n",
              "      flex-wrap:wrap;\n",
              "      gap: 12px;\n",
              "    }\n",
              "\n",
              "    .colab-df-convert {\n",
              "      background-color: #E8F0FE;\n",
              "      border: none;\n",
              "      border-radius: 50%;\n",
              "      cursor: pointer;\n",
              "      display: none;\n",
              "      fill: #1967D2;\n",
              "      height: 32px;\n",
              "      padding: 0 0 0 0;\n",
              "      width: 32px;\n",
              "    }\n",
              "\n",
              "    .colab-df-convert:hover {\n",
              "      background-color: #E2EBFA;\n",
              "      box-shadow: 0px 1px 2px rgba(60, 64, 67, 0.3), 0px 1px 3px 1px rgba(60, 64, 67, 0.15);\n",
              "      fill: #174EA6;\n",
              "    }\n",
              "\n",
              "    [theme=dark] .colab-df-convert {\n",
              "      background-color: #3B4455;\n",
              "      fill: #D2E3FC;\n",
              "    }\n",
              "\n",
              "    [theme=dark] .colab-df-convert:hover {\n",
              "      background-color: #434B5C;\n",
              "      box-shadow: 0px 1px 3px 1px rgba(0, 0, 0, 0.15);\n",
              "      filter: drop-shadow(0px 1px 2px rgba(0, 0, 0, 0.3));\n",
              "      fill: #FFFFFF;\n",
              "    }\n",
              "  </style>\n",
              "\n",
              "      <script>\n",
              "        const buttonEl =\n",
              "          document.querySelector('#df-37552ebb-7960-432a-b83c-1e8443460b63 button.colab-df-convert');\n",
              "        buttonEl.style.display =\n",
              "          google.colab.kernel.accessAllowed ? 'block' : 'none';\n",
              "\n",
              "        async function convertToInteractive(key) {\n",
              "          const element = document.querySelector('#df-37552ebb-7960-432a-b83c-1e8443460b63');\n",
              "          const dataTable =\n",
              "            await google.colab.kernel.invokeFunction('convertToInteractive',\n",
              "                                                     [key], {});\n",
              "          if (!dataTable) return;\n",
              "\n",
              "          const docLinkHtml = 'Like what you see? Visit the ' +\n",
              "            '<a target=\"_blank\" href=https://colab.research.google.com/notebooks/data_table.ipynb>data table notebook</a>'\n",
              "            + ' to learn more about interactive tables.';\n",
              "          element.innerHTML = '';\n",
              "          dataTable['output_type'] = 'display_data';\n",
              "          await google.colab.output.renderOutput(dataTable, element);\n",
              "          const docLink = document.createElement('div');\n",
              "          docLink.innerHTML = docLinkHtml;\n",
              "          element.appendChild(docLink);\n",
              "        }\n",
              "      </script>\n",
              "    </div>\n",
              "  </div>\n",
              "  "
            ]
          },
          "metadata": {},
          "execution_count": 151
        }
      ]
    },
    {
      "cell_type": "code",
      "source": [
        "print(songs.isnull().sum())"
      ],
      "metadata": {
        "colab": {
          "base_uri": "https://localhost:8080/"
        },
        "id": "fbgEijEvWYV4",
        "outputId": "0c5b03c9-fce7-414c-ffe2-51337e0c4c2c"
      },
      "execution_count": 152,
      "outputs": [
        {
          "output_type": "stream",
          "name": "stdout",
          "text": [
            "artist              0\n",
            "song                0\n",
            "duration_ms         0\n",
            "explicit            0\n",
            "year                0\n",
            "popularity          0\n",
            "danceability        0\n",
            "energy              0\n",
            "key                 0\n",
            "loudness            0\n",
            "mode                0\n",
            "speechiness         0\n",
            "acousticness        0\n",
            "instrumentalness    0\n",
            "liveness            0\n",
            "valence             0\n",
            "tempo               0\n",
            "genre               1\n",
            "dtype: int64\n"
          ]
        }
      ]
    },
    {
      "cell_type": "code",
      "source": [
        "# 결측치 열 전체 삭제\n",
        "songs = songs.dropna(axis=1)   #열삭제의 경우 axis =1 \n",
        "print(\"결측열 모두 제거: \", songs.shape)    # 결측치 모두 없어졌는지 확인\n",
        "\n",
        "songs = songs.drop(columns = ['duration_ms','explicit','mode'],axis=1)\n",
        "\n",
        "print(songs.isnull().sum())"
      ],
      "metadata": {
        "colab": {
          "base_uri": "https://localhost:8080/"
        },
        "id": "SOcFizDaRHfa",
        "outputId": "d88352b6-3e2e-4dc2-ab3a-930471ae15d2"
      },
      "execution_count": 153,
      "outputs": [
        {
          "output_type": "stream",
          "name": "stdout",
          "text": [
            "결측열 모두 제거:  (2000, 17)\n",
            "artist              0\n",
            "song                0\n",
            "year                0\n",
            "popularity          0\n",
            "danceability        0\n",
            "energy              0\n",
            "key                 0\n",
            "loudness            0\n",
            "speechiness         0\n",
            "acousticness        0\n",
            "instrumentalness    0\n",
            "liveness            0\n",
            "valence             0\n",
            "tempo               0\n",
            "dtype: int64\n"
          ]
        }
      ]
    },
    {
      "cell_type": "code",
      "source": [
        "display(songs.info())"
      ],
      "metadata": {
        "colab": {
          "base_uri": "https://localhost:8080/",
          "height": 416
        },
        "id": "NQ50fS_NRHj-",
        "outputId": "9c83ed4c-b43d-40d8-9c2b-d74c3643946c"
      },
      "execution_count": 154,
      "outputs": [
        {
          "output_type": "stream",
          "name": "stdout",
          "text": [
            "<class 'pandas.core.frame.DataFrame'>\n",
            "RangeIndex: 2000 entries, 0 to 1999\n",
            "Data columns (total 14 columns):\n",
            " #   Column            Non-Null Count  Dtype  \n",
            "---  ------            --------------  -----  \n",
            " 0   artist            2000 non-null   object \n",
            " 1   song              2000 non-null   object \n",
            " 2   year              2000 non-null   int64  \n",
            " 3   popularity        2000 non-null   float64\n",
            " 4   danceability      2000 non-null   float64\n",
            " 5   energy            2000 non-null   float64\n",
            " 6   key               2000 non-null   float64\n",
            " 7   loudness          2000 non-null   float64\n",
            " 8   speechiness       2000 non-null   float64\n",
            " 9   acousticness      2000 non-null   float64\n",
            " 10  instrumentalness  2000 non-null   float64\n",
            " 11  liveness          2000 non-null   float64\n",
            " 12  valence           2000 non-null   float64\n",
            " 13  tempo             2000 non-null   object \n",
            "dtypes: float64(10), int64(1), object(3)\n",
            "memory usage: 218.9+ KB\n"
          ]
        },
        {
          "output_type": "display_data",
          "data": {
            "text/plain": [
              "None"
            ]
          },
          "metadata": {}
        }
      ]
    },
    {
      "cell_type": "code",
      "source": [
        "rating = []\n",
        "    \n",
        "for row in songs['popularity']:\n",
        "      if row >= 65 :  rating.append('Yes')\n",
        "      else: rating.append('No')\n",
        "\n",
        "songs['popularity'] = rating\n",
        "print(songs)"
      ],
      "metadata": {
        "colab": {
          "base_uri": "https://localhost:8080/"
        },
        "id": "Vb9vFwgabVA_",
        "outputId": "26451476-15bf-4900-cb89-18a42e69a928"
      },
      "execution_count": 155,
      "outputs": [
        {
          "output_type": "stream",
          "name": "stdout",
          "text": [
            "              artist                                    song  year popularity  \\\n",
            "0     Britney Spears                  Oops!...I Did It Again  2000        Yes   \n",
            "1          blink-182                    All The Small Things  1999        Yes   \n",
            "2         Faith Hill                                 Breathe  1999        Yes   \n",
            "3           Bon Jovi                            It's My Life  2000        Yes   \n",
            "4             *NSYNC                             Bye Bye Bye  2000        Yes   \n",
            "...              ...                                     ...   ...        ...   \n",
            "1995  Jonas Brothers                                  Sucker  2019        Yes   \n",
            "1996    Taylor Swift                            Cruel Summer  2019        Yes   \n",
            "1997    Blanco Brown                              The Git Up  2019        Yes   \n",
            "1998       Sam Smith  Dancing With A Stranger (with Normani)  2019        Yes   \n",
            "1999     Post Malone                                 Circles  2019        Yes   \n",
            "\n",
            "      danceability  energy  key  loudness  speechiness  acousticness  \\\n",
            "0            0.751   0.834  1.0    -5.444       0.0437        0.3000   \n",
            "1            0.434   0.897  0.0    -4.918       0.0488        0.0103   \n",
            "2            0.529   0.496  7.0    -9.007       0.0290        0.1730   \n",
            "3            0.551   0.913  0.0    -4.063       0.0466        0.0263   \n",
            "4            0.614   0.928  8.0    -4.806       0.0516        0.0408   \n",
            "...            ...     ...  ...       ...          ...           ...   \n",
            "1995         0.842   0.734  1.0    -5.065       0.0588        0.0427   \n",
            "1996         0.552   0.702  9.0    -5.707       0.1570        0.1170   \n",
            "1997         0.847   0.678  9.0    -8.635       0.1090        0.0669   \n",
            "1998         0.741   0.520  8.0    -7.513       0.0656        0.4500   \n",
            "1999         0.695   0.762  0.0    -3.497       0.0395        0.1920   \n",
            "\n",
            "      instrumentalness  liveness  valence    tempo  \n",
            "0             0.000018    0.3550    0.894   95.053  \n",
            "1             0.000000    0.6120    0.684  148.726  \n",
            "2             0.000000    0.2510    0.278  136.859  \n",
            "3             0.000013    0.3470    0.544  119.992  \n",
            "4             0.001040    0.0845    0.879  172.656  \n",
            "...                ...       ...      ...      ...  \n",
            "1995          0.000000    0.1060    0.952  137.958  \n",
            "1996          0.000021    0.1050    0.564  169.994  \n",
            "1997          0.000000    0.2740    0.811   97.984  \n",
            "1998          0.000002    0.2220    0.347  102.998  \n",
            "1999          0.002440    0.0863    0.553  120.042  \n",
            "\n",
            "[2000 rows x 14 columns]\n"
          ]
        }
      ]
    },
    {
      "cell_type": "code",
      "source": [
        "display(songs.info())"
      ],
      "metadata": {
        "colab": {
          "base_uri": "https://localhost:8080/",
          "height": 416
        },
        "id": "O_X-rUeRe6cS",
        "outputId": "e95a1b3c-2d87-47d8-c2bb-13d998bd14b4"
      },
      "execution_count": 156,
      "outputs": [
        {
          "output_type": "stream",
          "name": "stdout",
          "text": [
            "<class 'pandas.core.frame.DataFrame'>\n",
            "RangeIndex: 2000 entries, 0 to 1999\n",
            "Data columns (total 14 columns):\n",
            " #   Column            Non-Null Count  Dtype  \n",
            "---  ------            --------------  -----  \n",
            " 0   artist            2000 non-null   object \n",
            " 1   song              2000 non-null   object \n",
            " 2   year              2000 non-null   int64  \n",
            " 3   popularity        2000 non-null   object \n",
            " 4   danceability      2000 non-null   float64\n",
            " 5   energy            2000 non-null   float64\n",
            " 6   key               2000 non-null   float64\n",
            " 7   loudness          2000 non-null   float64\n",
            " 8   speechiness       2000 non-null   float64\n",
            " 9   acousticness      2000 non-null   float64\n",
            " 10  instrumentalness  2000 non-null   float64\n",
            " 11  liveness          2000 non-null   float64\n",
            " 12  valence           2000 non-null   float64\n",
            " 13  tempo             2000 non-null   object \n",
            "dtypes: float64(9), int64(1), object(4)\n",
            "memory usage: 218.9+ KB\n"
          ]
        },
        {
          "output_type": "display_data",
          "data": {
            "text/plain": [
              "None"
            ]
          },
          "metadata": {}
        }
      ]
    },
    {
      "cell_type": "code",
      "source": [
        "print(songs['popularity'].value_counts())\n",
        "\n",
        "songs['popularity'].value_counts().plot.bar()\n",
        "plt.ylabel('count')\n",
        "plt.title('Distribution of popularity')"
      ],
      "metadata": {
        "colab": {
          "base_uri": "https://localhost:8080/",
          "height": 469
        },
        "id": "XUSm92uycOFa",
        "outputId": "c083053f-66e1-4e84-deb1-052bcb61e95c"
      },
      "execution_count": 157,
      "outputs": [
        {
          "output_type": "stream",
          "name": "stdout",
          "text": [
            "Yes    1061\n",
            "No      939\n",
            "Name: popularity, dtype: int64\n"
          ]
        },
        {
          "output_type": "execute_result",
          "data": {
            "text/plain": [
              "Text(0.5, 1.0, 'Distribution of popularity')"
            ]
          },
          "metadata": {},
          "execution_count": 157
        },
        {
          "output_type": "display_data",
          "data": {
            "text/plain": [
              "<Figure size 648x432 with 1 Axes>"
            ],
            "image/png": "[encoded data removed]"
          },
          "metadata": {
            "needs_background": "light"
          }
        }
      ]
    },
    {
      "cell_type": "markdown",
      "source": [
        "### **2) 의사결정나무 모델** ###"
      ],
      "metadata": {
        "id": "lNO1ev_DdtUi"
      }
    },
    {
      "cell_type": "code",
      "source": [
        "from sklearn.tree import DecisionTreeClassifier\n",
        "from sklearn.model_selection import train_test_split\n",
        "\n",
        "X = songs.iloc[:, [4, 5, 6, 7, 8, 9, 10, 11, 12]]  # 9개 변수 \n",
        "y = songs.iloc[:, 3]   # popularity로 설정\n",
        "\n",
        "# 데이터셋을 학습(train)과 테스트(test) 세트로 분할\n",
        "# random_state : random 으로 분할시 사용되는 난수 seed 숫자\n",
        "#X_train, X_test, y_train, y_test = train_test_split(X, y, test_size = 0.25, stratify=y, random_state=42)\n",
        "\n",
        "X_train, X_test, y_train, y_test = train_test_split(X, y, test_size = 0.25, random_state=42)\n",
        "\n",
        "tree = DecisionTreeClassifier(class_weight = \"balanced\", random_state=0)   #데이터 균형 맞춰주기\n",
        "tree.fit(X_train, y_train)  #(학습용 데이터 작성)\n",
        "print(\"학습용 데이터 정확도: {:.3f}\".format(tree.score(X_train, y_train)))\n",
        "print(\"시험용 데이터 정확도: {:.3f}\".format(tree.score(X_test, y_test)))"
      ],
      "metadata": {
        "colab": {
          "base_uri": "https://localhost:8080/"
        },
        "id": "0Dq6eHH9dZU4",
        "outputId": "1b8123b4-745c-4023-ff35-9d0d6452b8a3"
      },
      "execution_count": 158,
      "outputs": [
        {
          "output_type": "stream",
          "name": "stdout",
          "text": [
            "학습용 데이터 정확도: 0.999\n",
            "시험용 데이터 정확도: 0.542\n"
          ]
        }
      ]
    },
    {
      "cell_type": "code",
      "source": [
        "# 의사결정나무의 깊이를 4로 제한하면 시험용 데이터에 대한 성능이 향상됨 (과적합을 줄임)\n",
        "#가중치 고려, 해당 모델 선택\n",
        "tree = DecisionTreeClassifier(class_weight = \"balanced\", max_depth=4, random_state=0)\n",
        "tree.fit(X_train, y_train)\n",
        "\n",
        "print(\"학습용 데이터 정확도: {:.3f}\".format(tree.score(X_train, y_train)))\n",
        "print(\"시험용 데이터 정확도: {:.3f}\".format(tree.score(X_test, y_test)))"
      ],
      "metadata": {
        "colab": {
          "base_uri": "https://localhost:8080/"
        },
        "id": "vaCj0kxsdZZm",
        "outputId": "78bca817-6694-4470-e660-cfb9e8264216"
      },
      "execution_count": 159,
      "outputs": [
        {
          "output_type": "stream",
          "name": "stdout",
          "text": [
            "학습용 데이터 정확도: 0.579\n",
            "시험용 데이터 정확도: 0.554\n"
          ]
        }
      ]
    },
    {
      "cell_type": "code",
      "source": [
        "#graphviz 라이브러리를 이용하여 의사결정나무 그리기 \n",
        "from sklearn.tree import export_graphviz\n",
        "import graphviz\n",
        "\n",
        "# filled = True: 색상의 진하기로 클래스를 나타냄, impurity: 불순도 계산값 보여주기 옵션\n",
        "export_graphviz(tree, out_file=\"tree.dot\", class_names=[ \"popularity < 50\", \"popularity >= 50\"],\n",
        "                feature_names=songs.columns[[4, 5, 6, 7, 8, 9, 10, 11, 12]], impurity=False, filled=True)\n",
        "\n",
        "with open(\"tree.dot\") as f:\n",
        "    dot_graph = f.read()\n",
        "\n",
        "display(graphviz.Source(dot_graph))\n",
        "\n",
        "#(어떤 순서로 중요한지 확인 가능)"
      ],
      "metadata": {
        "colab": {
          "base_uri": "https://localhost:8080/",
          "height": 676
        },
        "id": "neinJaOEdZcV",
        "outputId": "0738809c-4990-4527-8428-ef461261f673"
      },
      "execution_count": 160,
      "outputs": [
        {
          "output_type": "display_data",
          "data": {
            "text/plain": [
              "<graphviz.files.Source at 0x7f9fb5fc5550>"
            ],
            "image/svg+xml": "<?xml version=\"1.0\" encoding=\"UTF-8\" standalone=\"no\"?>\n<!DOCTYPE svg PUBLIC \"-//W3C//DTD SVG 1.1//EN\"\n \"http://www.w3.org/Graphics/SVG/1.1/DTD/svg11.dtd\">\n<!-- Generated by graphviz version 2.40.1 (20161225.0304)\n -->\n<!-- Title: Tree Pages: 1 -->\n<svg width=\"2280pt\" height=\"477pt\"\n viewBox=\"0.00 0.00 2280.00 477.00\" xmlns=\"http://www.w3.org/2000/svg\" xmlns:xlink=\"http://www.w3.org/1999/xlink\">\n<g id=\"graph0\" class=\"graph\" transform=\"scale(1 1) rotate(0) translate(4 473)\">\n<title>Tree</title>\n<polygon fill=\"#ffffff\" stroke=\"transparent\" points=\"-4,4 -4,-473 2276,-473 2276,4 -4,4\"/>\n<!-- 0 -->\n<g id=\"node1\" class=\"node\">\n<title>0</title>\n<polygon fill=\"#ffffff\" stroke=\"#000000\" points=\"1543.5,-469 1373.5,-469 1373.5,-401 1543.5,-401 1543.5,-469\"/>\n<text text-anchor=\"middle\" x=\"1458.5\" y=\"-453.8\" font-family=\"Helvetica,sans-Serif\" font-size=\"14.00\" fill=\"#000000\">acousticness &lt;= 0.691</text>\n<text text-anchor=\"middle\" x=\"1458.5\" y=\"-438.8\" font-family=\"Helvetica,sans-Serif\" font-size=\"14.00\" fill=\"#000000\">samples = 1500</text>\n<text text-anchor=\"middle\" x=\"1458.5\" y=\"-423.8\" font-family=\"Helvetica,sans-Serif\" font-size=\"14.00\" fill=\"#000000\">value = [750.0, 750.0]</text>\n<text text-anchor=\"middle\" x=\"1458.5\" y=\"-408.8\" font-family=\"Helvetica,sans-Serif\" font-size=\"14.00\" fill=\"#000000\">class = popularity &gt;= 50</text>\n</g>\n<!-- 1 -->\n<g id=\"node2\" class=\"node\">\n<title>1</title>\n<polygon fill=\"#fefcfa\" stroke=\"#000000\" points=\"1262,-365 1073,-365 1073,-297 1262,-297 1262,-365\"/>\n<text text-anchor=\"middle\" x=\"1167.5\" y=\"-349.8\" font-family=\"Helvetica,sans-Serif\" font-size=\"14.00\" fill=\"#000000\">instrumentalness &lt;= 0.0</text>\n<text text-anchor=\"middle\" x=\"1167.5\" y=\"-334.8\" font-family=\"Helvetica,sans-Serif\" font-size=\"14.00\" fill=\"#000000\">samples = 1473</text>\n<text text-anchor=\"middle\" x=\"1167.5\" y=\"-319.8\" font-family=\"Helvetica,sans-Serif\" font-size=\"14.00\" fill=\"#000000\">value = [745.733, 728.356]</text>\n<text text-anchor=\"middle\" x=\"1167.5\" y=\"-304.8\" font-family=\"Helvetica,sans-Serif\" font-size=\"14.00\" fill=\"#000000\">class = popularity &lt; 50</text>\n</g>\n<!-- 0&#45;&gt;1 -->\n<g id=\"edge1\" class=\"edge\">\n<title>0&#45;&gt;1</title>\n<path fill=\"none\" stroke=\"#000000\" d=\"M1373.1566,-404.4993C1341.4077,-393.1526 1305.0206,-380.1483 1271.766,-368.2634\"/>\n<polygon fill=\"#000000\" stroke=\"#000000\" points=\"1272.6117,-364.8489 1262.0171,-364.7793 1270.2558,-371.4406 1272.6117,-364.8489\"/>\n<text text-anchor=\"middle\" x=\"1272.7143\" y=\"-383.6751\" font-family=\"Helvetica,sans-Serif\" font-size=\"14.00\" fill=\"#000000\">True</text>\n</g>\n<!-- 16 -->\n<g id=\"node17\" class=\"node\">\n<title>16</title>\n<polygon fill=\"#60b0ea\" stroke=\"#000000\" points=\"1819.5,-365 1649.5,-365 1649.5,-297 1819.5,-297 1819.5,-365\"/>\n<text text-anchor=\"middle\" x=\"1734.5\" y=\"-349.8\" font-family=\"Helvetica,sans-Serif\" font-size=\"14.00\" fill=\"#000000\">liveness &lt;= 0.253</text>\n<text text-anchor=\"middle\" x=\"1734.5\" y=\"-334.8\" font-family=\"Helvetica,sans-Serif\" font-size=\"14.00\" fill=\"#000000\">samples = 27</text>\n<text text-anchor=\"middle\" x=\"1734.5\" y=\"-319.8\" font-family=\"Helvetica,sans-Serif\" font-size=\"14.00\" fill=\"#000000\">value = [4.267, 21.644]</text>\n<text text-anchor=\"middle\" x=\"1734.5\" y=\"-304.8\" font-family=\"Helvetica,sans-Serif\" font-size=\"14.00\" fill=\"#000000\">class = popularity &gt;= 50</text>\n</g>\n<!-- 0&#45;&gt;16 -->\n<g id=\"edge16\" class=\"edge\">\n<title>0&#45;&gt;16</title>\n<path fill=\"none\" stroke=\"#000000\" d=\"M1543.5612,-402.948C1573.9917,-391.4814 1608.4703,-378.4895 1639.6739,-366.7316\"/>\n<polygon fill=\"#000000\" stroke=\"#000000\" points=\"1641.121,-369.9266 1649.2446,-363.1252 1638.6527,-363.3762 1641.121,-369.9266\"/>\n<text text-anchor=\"middle\" x=\"1638.9357\" y=\"-382.2008\" font-family=\"Helvetica,sans-Serif\" font-size=\"14.00\" fill=\"#000000\">False</text>\n</g>\n<!-- 2 -->\n<g id=\"node3\" class=\"node\">\n<title>2</title>\n<polygon fill=\"#f4fafe\" stroke=\"#000000\" points=\"698,-261 517,-261 517,-193 698,-193 698,-261\"/>\n<text text-anchor=\"middle\" x=\"607.5\" y=\"-245.8\" font-family=\"Helvetica,sans-Serif\" font-size=\"14.00\" fill=\"#000000\">loudness &lt;= &#45;5.032</text>\n<text text-anchor=\"middle\" x=\"607.5\" y=\"-230.8\" font-family=\"Helvetica,sans-Serif\" font-size=\"14.00\" fill=\"#000000\">samples = 1196</text>\n<text text-anchor=\"middle\" x=\"607.5\" y=\"-215.8\" font-family=\"Helvetica,sans-Serif\" font-size=\"14.00\" fill=\"#000000\">value = [580.37, 613.551]</text>\n<text text-anchor=\"middle\" x=\"607.5\" y=\"-200.8\" font-family=\"Helvetica,sans-Serif\" font-size=\"14.00\" fill=\"#000000\">class = popularity &gt;= 50</text>\n</g>\n<!-- 1&#45;&gt;2 -->\n<g id=\"edge2\" class=\"edge\">\n<title>1&#45;&gt;2</title>\n<path fill=\"none\" stroke=\"#000000\" d=\"M1072.8204,-313.4167C971.6051,-294.6195 811.7506,-264.9322 708.2586,-245.7123\"/>\n<polygon fill=\"#000000\" stroke=\"#000000\" points=\"708.8941,-242.2706 698.4231,-243.8857 707.6159,-249.1529 708.8941,-242.2706\"/>\n</g>\n<!-- 9 -->\n<g id=\"node10\" class=\"node\">\n<title>9</title>\n<polygon fill=\"#f7d8c2\" stroke=\"#000000\" points=\"1262,-261 1073,-261 1073,-193 1262,-193 1262,-261\"/>\n<text text-anchor=\"middle\" x=\"1167.5\" y=\"-245.8\" font-family=\"Helvetica,sans-Serif\" font-size=\"14.00\" fill=\"#000000\">liveness &lt;= 0.054</text>\n<text text-anchor=\"middle\" x=\"1167.5\" y=\"-230.8\" font-family=\"Helvetica,sans-Serif\" font-size=\"14.00\" fill=\"#000000\">samples = 277</text>\n<text text-anchor=\"middle\" x=\"1167.5\" y=\"-215.8\" font-family=\"Helvetica,sans-Serif\" font-size=\"14.00\" fill=\"#000000\">value = [165.363, 114.806]</text>\n<text text-anchor=\"middle\" x=\"1167.5\" y=\"-200.8\" font-family=\"Helvetica,sans-Serif\" font-size=\"14.00\" fill=\"#000000\">class = popularity &lt; 50</text>\n</g>\n<!-- 1&#45;&gt;9 -->\n<g id=\"edge9\" class=\"edge\">\n<title>1&#45;&gt;9</title>\n<path fill=\"none\" stroke=\"#000000\" d=\"M1167.5,-296.9465C1167.5,-288.776 1167.5,-279.9318 1167.5,-271.3697\"/>\n<polygon fill=\"#000000\" stroke=\"#000000\" points=\"1171.0001,-271.13 1167.5,-261.13 1164.0001,-271.13 1171.0001,-271.13\"/>\n</g>\n<!-- 3 -->\n<g id=\"node4\" class=\"node\">\n<title>3</title>\n<polygon fill=\"#fdf5ef\" stroke=\"#000000\" points=\"392,-157 211,-157 211,-89 392,-89 392,-157\"/>\n<text text-anchor=\"middle\" x=\"301.5\" y=\"-141.8\" font-family=\"Helvetica,sans-Serif\" font-size=\"14.00\" fill=\"#000000\">valence &lt;= 0.572</text>\n<text text-anchor=\"middle\" x=\"301.5\" y=\"-126.8\" font-family=\"Helvetica,sans-Serif\" font-size=\"14.00\" fill=\"#000000\">samples = 647</text>\n<text text-anchor=\"middle\" x=\"301.5\" y=\"-111.8\" font-family=\"Helvetica,sans-Serif\" font-size=\"14.00\" fill=\"#000000\">value = [338.193, 310.54]</text>\n<text text-anchor=\"middle\" x=\"301.5\" y=\"-96.8\" font-family=\"Helvetica,sans-Serif\" font-size=\"14.00\" fill=\"#000000\">class = popularity &lt; 50</text>\n</g>\n<!-- 2&#45;&gt;3 -->\n<g id=\"edge3\" class=\"edge\">\n<title>2&#45;&gt;3</title>\n<path fill=\"none\" stroke=\"#000000\" d=\"M516.9319,-196.2187C480.7746,-183.9299 439.0024,-169.7329 401.9212,-157.1301\"/>\n<polygon fill=\"#000000\" stroke=\"#000000\" points=\"402.6944,-153.6963 392.1,-153.7921 400.4418,-160.324 402.6944,-153.6963\"/>\n</g>\n<!-- 6 -->\n<g id=\"node7\" class=\"node\">\n<title>6</title>\n<polygon fill=\"#d7ebfa\" stroke=\"#000000\" points=\"702,-157 513,-157 513,-89 702,-89 702,-157\"/>\n<text text-anchor=\"middle\" x=\"607.5\" y=\"-141.8\" font-family=\"Helvetica,sans-Serif\" font-size=\"14.00\" fill=\"#000000\">acousticness &lt;= 0.188</text>\n<text text-anchor=\"middle\" x=\"607.5\" y=\"-126.8\" font-family=\"Helvetica,sans-Serif\" font-size=\"14.00\" fill=\"#000000\">samples = 549</text>\n<text text-anchor=\"middle\" x=\"607.5\" y=\"-111.8\" font-family=\"Helvetica,sans-Serif\" font-size=\"14.00\" fill=\"#000000\">value = [242.176, 303.011]</text>\n<text text-anchor=\"middle\" x=\"607.5\" y=\"-96.8\" font-family=\"Helvetica,sans-Serif\" font-size=\"14.00\" fill=\"#000000\">class = popularity &gt;= 50</text>\n</g>\n<!-- 2&#45;&gt;6 -->\n<g id=\"edge6\" class=\"edge\">\n<title>2&#45;&gt;6</title>\n<path fill=\"none\" stroke=\"#000000\" d=\"M607.5,-192.9465C607.5,-184.776 607.5,-175.9318 607.5,-167.3697\"/>\n<polygon fill=\"#000000\" stroke=\"#000000\" points=\"611.0001,-167.13 607.5,-157.13 604.0001,-167.13 611.0001,-167.13\"/>\n</g>\n<!-- 4 -->\n<g id=\"node5\" class=\"node\">\n<title>4</title>\n<polygon fill=\"#e5f2fc\" stroke=\"#000000\" points=\"189,-53 0,-53 0,0 189,0 189,-53\"/>\n<text text-anchor=\"middle\" x=\"94.5\" y=\"-37.8\" font-family=\"Helvetica,sans-Serif\" font-size=\"14.00\" fill=\"#000000\">samples = 369</text>\n<text text-anchor=\"middle\" x=\"94.5\" y=\"-22.8\" font-family=\"Helvetica,sans-Serif\" font-size=\"14.00\" fill=\"#000000\">value = [170.697, 196.675]</text>\n<text text-anchor=\"middle\" x=\"94.5\" y=\"-7.8\" font-family=\"Helvetica,sans-Serif\" font-size=\"14.00\" fill=\"#000000\">class = popularity &gt;= 50</text>\n</g>\n<!-- 3&#45;&gt;4 -->\n<g id=\"edge4\" class=\"edge\">\n<title>3&#45;&gt;4</title>\n<path fill=\"none\" stroke=\"#000000\" d=\"M228.5195,-88.9777C206.4182,-78.6744 182.2778,-67.4205 160.6502,-57.3381\"/>\n<polygon fill=\"#000000\" stroke=\"#000000\" points=\"162.0908,-54.1481 151.5484,-53.095 159.1331,-60.4926 162.0908,-54.1481\"/>\n</g>\n<!-- 5 -->\n<g id=\"node6\" class=\"node\">\n<title>5</title>\n<polygon fill=\"#f7d7c0\" stroke=\"#000000\" points=\"396,-53 207,-53 207,0 396,0 396,-53\"/>\n<text text-anchor=\"middle\" x=\"301.5\" y=\"-37.8\" font-family=\"Helvetica,sans-Serif\" font-size=\"14.00\" fill=\"#000000\">samples = 278</text>\n<text text-anchor=\"middle\" x=\"301.5\" y=\"-22.8\" font-family=\"Helvetica,sans-Serif\" font-size=\"14.00\" fill=\"#000000\">value = [167.496, 113.864]</text>\n<text text-anchor=\"middle\" x=\"301.5\" y=\"-7.8\" font-family=\"Helvetica,sans-Serif\" font-size=\"14.00\" fill=\"#000000\">class = popularity &lt; 50</text>\n</g>\n<!-- 3&#45;&gt;5 -->\n<g id=\"edge5\" class=\"edge\">\n<title>3&#45;&gt;5</title>\n<path fill=\"none\" stroke=\"#000000\" d=\"M301.5,-88.9777C301.5,-80.7364 301.5,-71.887 301.5,-63.5153\"/>\n<polygon fill=\"#000000\" stroke=\"#000000\" points=\"305.0001,-63.2484 301.5,-53.2485 298.0001,-63.2485 305.0001,-63.2484\"/>\n</g>\n<!-- 7 -->\n<g id=\"node8\" class=\"node\">\n<title>7</title>\n<polygon fill=\"#ecf5fc\" stroke=\"#000000\" points=\"603,-53 414,-53 414,0 603,0 603,-53\"/>\n<text text-anchor=\"middle\" x=\"508.5\" y=\"-37.8\" font-family=\"Helvetica,sans-Serif\" font-size=\"14.00\" fill=\"#000000\">samples = 458</text>\n<text text-anchor=\"middle\" x=\"508.5\" y=\"-22.8\" font-family=\"Helvetica,sans-Serif\" font-size=\"14.00\" fill=\"#000000\">value = [216.572, 239.962]</text>\n<text text-anchor=\"middle\" x=\"508.5\" y=\"-7.8\" font-family=\"Helvetica,sans-Serif\" font-size=\"14.00\" fill=\"#000000\">class = popularity &gt;= 50</text>\n</g>\n<!-- 6&#45;&gt;7 -->\n<g id=\"edge7\" class=\"edge\">\n<title>6&#45;&gt;7</title>\n<path fill=\"none\" stroke=\"#000000\" d=\"M572.5963,-88.9777C563.1082,-79.7292 552.8343,-69.7147 543.3491,-60.4691\"/>\n<polygon fill=\"#000000\" stroke=\"#000000\" points=\"545.5454,-57.7223 535.9414,-53.2485 540.6593,-62.7349 545.5454,-57.7223\"/>\n</g>\n<!-- 8 -->\n<g id=\"node9\" class=\"node\">\n<title>8</title>\n<polygon fill=\"#89c5f0\" stroke=\"#000000\" points=\"794,-53 621,-53 621,0 794,0 794,-53\"/>\n<text text-anchor=\"middle\" x=\"707.5\" y=\"-37.8\" font-family=\"Helvetica,sans-Serif\" font-size=\"14.00\" fill=\"#000000\">samples = 91</text>\n<text text-anchor=\"middle\" x=\"707.5\" y=\"-22.8\" font-family=\"Helvetica,sans-Serif\" font-size=\"14.00\" fill=\"#000000\">value = [25.605, 63.049]</text>\n<text text-anchor=\"middle\" x=\"707.5\" y=\"-7.8\" font-family=\"Helvetica,sans-Serif\" font-size=\"14.00\" fill=\"#000000\">class = popularity &gt;= 50</text>\n</g>\n<!-- 6&#45;&gt;8 -->\n<g id=\"edge8\" class=\"edge\">\n<title>6&#45;&gt;8</title>\n<path fill=\"none\" stroke=\"#000000\" d=\"M642.7563,-88.9777C652.4351,-79.6376 662.9235,-69.5163 672.5832,-60.1947\"/>\n<polygon fill=\"#000000\" stroke=\"#000000\" points=\"675.0159,-62.7111 679.7814,-53.2485 670.1551,-57.674 675.0159,-62.7111\"/>\n</g>\n<!-- 10 -->\n<g id=\"node11\" class=\"node\">\n<title>10</title>\n<polygon fill=\"#e78945\" stroke=\"#000000\" points=\"1158.5,-157 970.5,-157 970.5,-89 1158.5,-89 1158.5,-157\"/>\n<text text-anchor=\"middle\" x=\"1064.5\" y=\"-141.8\" font-family=\"Helvetica,sans-Serif\" font-size=\"14.00\" fill=\"#000000\">instrumentalness &lt;= 0.001</text>\n<text text-anchor=\"middle\" x=\"1064.5\" y=\"-126.8\" font-family=\"Helvetica,sans-Serif\" font-size=\"14.00\" fill=\"#000000\">samples = 15</text>\n<text text-anchor=\"middle\" x=\"1064.5\" y=\"-111.8\" font-family=\"Helvetica,sans-Serif\" font-size=\"14.00\" fill=\"#000000\">value = [14.936, 0.941]</text>\n<text text-anchor=\"middle\" x=\"1064.5\" y=\"-96.8\" font-family=\"Helvetica,sans-Serif\" font-size=\"14.00\" fill=\"#000000\">class = popularity &lt; 50</text>\n</g>\n<!-- 9&#45;&gt;10 -->\n<g id=\"edge10\" class=\"edge\">\n<title>9&#45;&gt;10</title>\n<path fill=\"none\" stroke=\"#000000\" d=\"M1133.7739,-192.9465C1124.7039,-183.7884 1114.7955,-173.7838 1105.3819,-164.2788\"/>\n<polygon fill=\"#000000\" stroke=\"#000000\" points=\"1107.8255,-161.7723 1098.3018,-157.13 1102.8519,-166.6981 1107.8255,-161.7723\"/>\n</g>\n<!-- 13 -->\n<g id=\"node14\" class=\"node\">\n<title>13</title>\n<polygon fill=\"#f9e0cf\" stroke=\"#000000\" points=\"1366,-157 1177,-157 1177,-89 1366,-89 1366,-157\"/>\n<text text-anchor=\"middle\" x=\"1271.5\" y=\"-141.8\" font-family=\"Helvetica,sans-Serif\" font-size=\"14.00\" fill=\"#000000\">liveness &lt;= 0.319</text>\n<text text-anchor=\"middle\" x=\"1271.5\" y=\"-126.8\" font-family=\"Helvetica,sans-Serif\" font-size=\"14.00\" fill=\"#000000\">samples = 262</text>\n<text text-anchor=\"middle\" x=\"1271.5\" y=\"-111.8\" font-family=\"Helvetica,sans-Serif\" font-size=\"14.00\" fill=\"#000000\">value = [150.427, 113.864]</text>\n<text text-anchor=\"middle\" x=\"1271.5\" y=\"-96.8\" font-family=\"Helvetica,sans-Serif\" font-size=\"14.00\" fill=\"#000000\">class = popularity &lt; 50</text>\n</g>\n<!-- 9&#45;&gt;13 -->\n<g id=\"edge13\" class=\"edge\">\n<title>9&#45;&gt;13</title>\n<path fill=\"none\" stroke=\"#000000\" d=\"M1201.5535,-192.9465C1210.7116,-183.7884 1220.7162,-173.7838 1230.2212,-164.2788\"/>\n<polygon fill=\"#000000\" stroke=\"#000000\" points=\"1232.7738,-166.676 1237.37,-157.13 1227.824,-161.7262 1232.7738,-166.676\"/>\n</g>\n<!-- 11 -->\n<g id=\"node12\" class=\"node\">\n<title>11</title>\n<polygon fill=\"#f0b990\" stroke=\"#000000\" points=\"973,-53 812,-53 812,0 973,0 973,-53\"/>\n<text text-anchor=\"middle\" x=\"892.5\" y=\"-37.8\" font-family=\"Helvetica,sans-Serif\" font-size=\"14.00\" fill=\"#000000\">samples = 3</text>\n<text text-anchor=\"middle\" x=\"892.5\" y=\"-22.8\" font-family=\"Helvetica,sans-Serif\" font-size=\"14.00\" fill=\"#000000\">value = [2.134, 0.941]</text>\n<text text-anchor=\"middle\" x=\"892.5\" y=\"-7.8\" font-family=\"Helvetica,sans-Serif\" font-size=\"14.00\" fill=\"#000000\">class = popularity &lt; 50</text>\n</g>\n<!-- 10&#45;&gt;11 -->\n<g id=\"edge11\" class=\"edge\">\n<title>10&#45;&gt;11</title>\n<path fill=\"none\" stroke=\"#000000\" d=\"M1003.8592,-88.9777C985.9867,-78.9504 966.5095,-68.0228 948.9139,-58.1508\"/>\n<polygon fill=\"#000000\" stroke=\"#000000\" points=\"950.3363,-54.9356 939.9025,-53.095 946.9112,-61.0405 950.3363,-54.9356\"/>\n</g>\n<!-- 12 -->\n<g id=\"node13\" class=\"node\">\n<title>12</title>\n<polygon fill=\"#e58139\" stroke=\"#000000\" points=\"1152,-53 991,-53 991,0 1152,0 1152,-53\"/>\n<text text-anchor=\"middle\" x=\"1071.5\" y=\"-37.8\" font-family=\"Helvetica,sans-Serif\" font-size=\"14.00\" fill=\"#000000\">samples = 12</text>\n<text text-anchor=\"middle\" x=\"1071.5\" y=\"-22.8\" font-family=\"Helvetica,sans-Serif\" font-size=\"14.00\" fill=\"#000000\">value = [12.802, 0.0]</text>\n<text text-anchor=\"middle\" x=\"1071.5\" y=\"-7.8\" font-family=\"Helvetica,sans-Serif\" font-size=\"14.00\" fill=\"#000000\">class = popularity &lt; 50</text>\n</g>\n<!-- 10&#45;&gt;12 -->\n<g id=\"edge12\" class=\"edge\">\n<title>10&#45;&gt;12</title>\n<path fill=\"none\" stroke=\"#000000\" d=\"M1066.9679,-88.9777C1067.5724,-80.6449 1068.222,-71.6903 1068.8352,-63.2364\"/>\n<polygon fill=\"#000000\" stroke=\"#000000\" points=\"1072.3269,-63.4755 1069.5597,-53.2485 1065.3453,-62.969 1072.3269,-63.4755\"/>\n</g>\n<!-- 14 -->\n<g id=\"node15\" class=\"node\">\n<title>14</title>\n<polygon fill=\"#fbede3\" stroke=\"#000000\" points=\"1359,-53 1170,-53 1170,0 1359,0 1359,-53\"/>\n<text text-anchor=\"middle\" x=\"1264.5\" y=\"-37.8\" font-family=\"Helvetica,sans-Serif\" font-size=\"14.00\" fill=\"#000000\">samples = 227</text>\n<text text-anchor=\"middle\" x=\"1264.5\" y=\"-22.8\" font-family=\"Helvetica,sans-Serif\" font-size=\"14.00\" fill=\"#000000\">value = [122.688, 105.395]</text>\n<text text-anchor=\"middle\" x=\"1264.5\" y=\"-7.8\" font-family=\"Helvetica,sans-Serif\" font-size=\"14.00\" fill=\"#000000\">class = popularity &lt; 50</text>\n</g>\n<!-- 13&#45;&gt;14 -->\n<g id=\"edge14\" class=\"edge\">\n<title>13&#45;&gt;14</title>\n<path fill=\"none\" stroke=\"#000000\" d=\"M1269.0321,-88.9777C1268.4276,-80.6449 1267.778,-71.6903 1267.1648,-63.2364\"/>\n<polygon fill=\"#000000\" stroke=\"#000000\" points=\"1270.6547,-62.969 1266.4403,-53.2485 1263.6731,-63.4755 1270.6547,-62.969\"/>\n</g>\n<!-- 15 -->\n<g id=\"node16\" class=\"node\">\n<title>15</title>\n<polygon fill=\"#eda775\" stroke=\"#000000\" points=\"1541.5,-53 1377.5,-53 1377.5,0 1541.5,0 1541.5,-53\"/>\n<text text-anchor=\"middle\" x=\"1459.5\" y=\"-37.8\" font-family=\"Helvetica,sans-Serif\" font-size=\"14.00\" fill=\"#000000\">samples = 35</text>\n<text text-anchor=\"middle\" x=\"1459.5\" y=\"-22.8\" font-family=\"Helvetica,sans-Serif\" font-size=\"14.00\" fill=\"#000000\">value = [27.738, 8.469]</text>\n<text text-anchor=\"middle\" x=\"1459.5\" y=\"-7.8\" font-family=\"Helvetica,sans-Serif\" font-size=\"14.00\" fill=\"#000000\">class = popularity &lt; 50</text>\n</g>\n<!-- 13&#45;&gt;15 -->\n<g id=\"edge15\" class=\"edge\">\n<title>13&#45;&gt;15</title>\n<path fill=\"none\" stroke=\"#000000\" d=\"M1337.7818,-88.9777C1357.5857,-78.8124 1379.1922,-67.7218 1398.6311,-57.7439\"/>\n<polygon fill=\"#000000\" stroke=\"#000000\" points=\"1400.3898,-60.7754 1407.6879,-53.095 1397.1932,-54.5478 1400.3898,-60.7754\"/>\n</g>\n<!-- 17 -->\n<g id=\"node18\" class=\"node\">\n<title>17</title>\n<polygon fill=\"#4da7e8\" stroke=\"#000000\" points=\"1819.5,-261 1649.5,-261 1649.5,-193 1819.5,-193 1819.5,-261\"/>\n<text text-anchor=\"middle\" x=\"1734.5\" y=\"-245.8\" font-family=\"Helvetica,sans-Serif\" font-size=\"14.00\" fill=\"#000000\">energy &lt;= 0.288</text>\n<text text-anchor=\"middle\" x=\"1734.5\" y=\"-230.8\" font-family=\"Helvetica,sans-Serif\" font-size=\"14.00\" fill=\"#000000\">samples = 25</text>\n<text text-anchor=\"middle\" x=\"1734.5\" y=\"-215.8\" font-family=\"Helvetica,sans-Serif\" font-size=\"14.00\" fill=\"#000000\">value = [2.134, 21.644]</text>\n<text text-anchor=\"middle\" x=\"1734.5\" y=\"-200.8\" font-family=\"Helvetica,sans-Serif\" font-size=\"14.00\" fill=\"#000000\">class = popularity &gt;= 50</text>\n</g>\n<!-- 16&#45;&gt;17 -->\n<g id=\"edge17\" class=\"edge\">\n<title>16&#45;&gt;17</title>\n<path fill=\"none\" stroke=\"#000000\" d=\"M1734.5,-296.9465C1734.5,-288.776 1734.5,-279.9318 1734.5,-271.3697\"/>\n<polygon fill=\"#000000\" stroke=\"#000000\" points=\"1738.0001,-271.13 1734.5,-261.13 1731.0001,-271.13 1738.0001,-271.13\"/>\n</g>\n<!-- 22 -->\n<g id=\"node23\" class=\"node\">\n<title>22</title>\n<polygon fill=\"#e58139\" stroke=\"#000000\" points=\"2093,-261 1932,-261 1932,-193 2093,-193 2093,-261\"/>\n<text text-anchor=\"middle\" x=\"2012.5\" y=\"-245.8\" font-family=\"Helvetica,sans-Serif\" font-size=\"14.00\" fill=\"#000000\">speechiness &lt;= 0.254</text>\n<text text-anchor=\"middle\" x=\"2012.5\" y=\"-230.8\" font-family=\"Helvetica,sans-Serif\" font-size=\"14.00\" fill=\"#000000\">samples = 2</text>\n<text text-anchor=\"middle\" x=\"2012.5\" y=\"-215.8\" font-family=\"Helvetica,sans-Serif\" font-size=\"14.00\" fill=\"#000000\">value = [2.134, 0.0]</text>\n<text text-anchor=\"middle\" x=\"2012.5\" y=\"-200.8\" font-family=\"Helvetica,sans-Serif\" font-size=\"14.00\" fill=\"#000000\">class = popularity &lt; 50</text>\n</g>\n<!-- 16&#45;&gt;22 -->\n<g id=\"edge22\" class=\"edge\">\n<title>16&#45;&gt;22</title>\n<path fill=\"none\" stroke=\"#000000\" d=\"M1819.7984,-299.0898C1852.1933,-286.9709 1889.1866,-273.1316 1922.042,-260.8404\"/>\n<polygon fill=\"#000000\" stroke=\"#000000\" points=\"1923.5026,-264.031 1931.6423,-257.2489 1921.0498,-257.4747 1923.5026,-264.031\"/>\n</g>\n<!-- 18 -->\n<g id=\"node19\" class=\"node\">\n<title>18</title>\n<polygon fill=\"#93c9f1\" stroke=\"#000000\" points=\"1725.5,-157 1555.5,-157 1555.5,-89 1725.5,-89 1725.5,-157\"/>\n<text text-anchor=\"middle\" x=\"1640.5\" y=\"-141.8\" font-family=\"Helvetica,sans-Serif\" font-size=\"14.00\" fill=\"#000000\">valence &lt;= 0.193</text>\n<text text-anchor=\"middle\" x=\"1640.5\" y=\"-126.8\" font-family=\"Helvetica,sans-Serif\" font-size=\"14.00\" fill=\"#000000\">samples = 7</text>\n<text text-anchor=\"middle\" x=\"1640.5\" y=\"-111.8\" font-family=\"Helvetica,sans-Serif\" font-size=\"14.00\" fill=\"#000000\">value = [2.134, 4.705]</text>\n<text text-anchor=\"middle\" x=\"1640.5\" y=\"-96.8\" font-family=\"Helvetica,sans-Serif\" font-size=\"14.00\" fill=\"#000000\">class = popularity &gt;= 50</text>\n</g>\n<!-- 17&#45;&gt;18 -->\n<g id=\"edge18\" class=\"edge\">\n<title>17&#45;&gt;18</title>\n<path fill=\"none\" stroke=\"#000000\" d=\"M1703.7209,-192.9465C1695.5245,-183.8782 1686.578,-173.9799 1678.0625,-164.5585\"/>\n<polygon fill=\"#000000\" stroke=\"#000000\" points=\"1680.6503,-162.2019 1671.3483,-157.13 1675.4571,-166.8957 1680.6503,-162.2019\"/>\n</g>\n<!-- 21 -->\n<g id=\"node22\" class=\"node\">\n<title>21</title>\n<polygon fill=\"#399de5\" stroke=\"#000000\" points=\"1913.5,-149.5 1743.5,-149.5 1743.5,-96.5 1913.5,-96.5 1913.5,-149.5\"/>\n<text text-anchor=\"middle\" x=\"1828.5\" y=\"-134.3\" font-family=\"Helvetica,sans-Serif\" font-size=\"14.00\" fill=\"#000000\">samples = 18</text>\n<text text-anchor=\"middle\" x=\"1828.5\" y=\"-119.3\" font-family=\"Helvetica,sans-Serif\" font-size=\"14.00\" fill=\"#000000\">value = [0.0, 16.939]</text>\n<text text-anchor=\"middle\" x=\"1828.5\" y=\"-104.3\" font-family=\"Helvetica,sans-Serif\" font-size=\"14.00\" fill=\"#000000\">class = popularity &gt;= 50</text>\n</g>\n<!-- 17&#45;&gt;21 -->\n<g id=\"edge21\" class=\"edge\">\n<title>17&#45;&gt;21</title>\n<path fill=\"none\" stroke=\"#000000\" d=\"M1765.2791,-192.9465C1775.6331,-181.491 1787.1842,-168.711 1797.5513,-157.2412\"/>\n<polygon fill=\"#000000\" stroke=\"#000000\" points=\"1800.4011,-159.3078 1804.51,-149.5422 1795.208,-154.614 1800.4011,-159.3078\"/>\n</g>\n<!-- 19 -->\n<g id=\"node20\" class=\"node\">\n<title>19</title>\n<polygon fill=\"#f0b990\" stroke=\"#000000\" points=\"1721,-53 1560,-53 1560,0 1721,0 1721,-53\"/>\n<text text-anchor=\"middle\" x=\"1640.5\" y=\"-37.8\" font-family=\"Helvetica,sans-Serif\" font-size=\"14.00\" fill=\"#000000\">samples = 3</text>\n<text text-anchor=\"middle\" x=\"1640.5\" y=\"-22.8\" font-family=\"Helvetica,sans-Serif\" font-size=\"14.00\" fill=\"#000000\">value = [2.134, 0.941]</text>\n<text text-anchor=\"middle\" x=\"1640.5\" y=\"-7.8\" font-family=\"Helvetica,sans-Serif\" font-size=\"14.00\" fill=\"#000000\">class = popularity &lt; 50</text>\n</g>\n<!-- 18&#45;&gt;19 -->\n<g id=\"edge19\" class=\"edge\">\n<title>18&#45;&gt;19</title>\n<path fill=\"none\" stroke=\"#000000\" d=\"M1640.5,-88.9777C1640.5,-80.7364 1640.5,-71.887 1640.5,-63.5153\"/>\n<polygon fill=\"#000000\" stroke=\"#000000\" points=\"1644.0001,-63.2484 1640.5,-53.2485 1637.0001,-63.2485 1644.0001,-63.2484\"/>\n</g>\n<!-- 20 -->\n<g id=\"node21\" class=\"node\">\n<title>20</title>\n<polygon fill=\"#399de5\" stroke=\"#000000\" points=\"1909.5,-53 1739.5,-53 1739.5,0 1909.5,0 1909.5,-53\"/>\n<text text-anchor=\"middle\" x=\"1824.5\" y=\"-37.8\" font-family=\"Helvetica,sans-Serif\" font-size=\"14.00\" fill=\"#000000\">samples = 4</text>\n<text text-anchor=\"middle\" x=\"1824.5\" y=\"-22.8\" font-family=\"Helvetica,sans-Serif\" font-size=\"14.00\" fill=\"#000000\">value = [0.0, 3.764]</text>\n<text text-anchor=\"middle\" x=\"1824.5\" y=\"-7.8\" font-family=\"Helvetica,sans-Serif\" font-size=\"14.00\" fill=\"#000000\">class = popularity &gt;= 50</text>\n</g>\n<!-- 18&#45;&gt;20 -->\n<g id=\"edge20\" class=\"edge\">\n<title>18&#45;&gt;20</title>\n<path fill=\"none\" stroke=\"#000000\" d=\"M1705.3715,-88.9777C1724.7541,-78.8124 1745.9009,-67.7218 1764.9262,-57.7439\"/>\n<polygon fill=\"#000000\" stroke=\"#000000\" points=\"1766.56,-60.8392 1773.7903,-53.095 1763.3087,-54.6401 1766.56,-60.8392\"/>\n</g>\n<!-- 23 -->\n<g id=\"node24\" class=\"node\">\n<title>23</title>\n<polygon fill=\"#e58139\" stroke=\"#000000\" points=\"2093,-149.5 1932,-149.5 1932,-96.5 2093,-96.5 2093,-149.5\"/>\n<text text-anchor=\"middle\" x=\"2012.5\" y=\"-134.3\" font-family=\"Helvetica,sans-Serif\" font-size=\"14.00\" fill=\"#000000\">samples = 1</text>\n<text text-anchor=\"middle\" x=\"2012.5\" y=\"-119.3\" font-family=\"Helvetica,sans-Serif\" font-size=\"14.00\" fill=\"#000000\">value = [1.067, 0.0]</text>\n<text text-anchor=\"middle\" x=\"2012.5\" y=\"-104.3\" font-family=\"Helvetica,sans-Serif\" font-size=\"14.00\" fill=\"#000000\">class = popularity &lt; 50</text>\n</g>\n<!-- 22&#45;&gt;23 -->\n<g id=\"edge23\" class=\"edge\">\n<title>22&#45;&gt;23</title>\n<path fill=\"none\" stroke=\"#000000\" d=\"M2012.5,-192.9465C2012.5,-182.2621 2012.5,-170.4254 2012.5,-159.5742\"/>\n<polygon fill=\"#000000\" stroke=\"#000000\" points=\"2016.0001,-159.5421 2012.5,-149.5422 2009.0001,-159.5422 2016.0001,-159.5421\"/>\n</g>\n<!-- 24 -->\n<g id=\"node25\" class=\"node\">\n<title>24</title>\n<polygon fill=\"#e58139\" stroke=\"#000000\" points=\"2272,-149.5 2111,-149.5 2111,-96.5 2272,-96.5 2272,-149.5\"/>\n<text text-anchor=\"middle\" x=\"2191.5\" y=\"-134.3\" font-family=\"Helvetica,sans-Serif\" font-size=\"14.00\" fill=\"#000000\">samples = 1</text>\n<text text-anchor=\"middle\" x=\"2191.5\" y=\"-119.3\" font-family=\"Helvetica,sans-Serif\" font-size=\"14.00\" fill=\"#000000\">value = [1.067, 0.0]</text>\n<text text-anchor=\"middle\" x=\"2191.5\" y=\"-104.3\" font-family=\"Helvetica,sans-Serif\" font-size=\"14.00\" fill=\"#000000\">class = popularity &lt; 50</text>\n</g>\n<!-- 22&#45;&gt;24 -->\n<g id=\"edge24\" class=\"edge\">\n<title>22&#45;&gt;24</title>\n<path fill=\"none\" stroke=\"#000000\" d=\"M2071.1113,-192.9465C2092.3446,-180.6098 2116.2218,-166.7371 2137.0793,-154.6187\"/>\n<polygon fill=\"#000000\" stroke=\"#000000\" points=\"2138.9286,-157.5922 2145.8169,-149.5422 2135.412,-151.5396 2138.9286,-157.5922\"/>\n</g>\n</g>\n</svg>\n"
          },
          "metadata": {}
        }
      ]
    },
    {
      "cell_type": "code",
      "source": [
        "result = tree.feature_importances_\n",
        "print(\"변수의 중요도:\\n\", result)"
      ],
      "metadata": {
        "colab": {
          "base_uri": "https://localhost:8080/"
        },
        "id": "IOSZ0-Fghkod",
        "outputId": "69bac63e-5a2e-4431-f544-271aa437cee0"
      },
      "execution_count": 161,
      "outputs": [
        {
          "output_type": "stream",
          "name": "stdout",
          "text": [
            "변수의 중요도:\n",
            " [0.00000000e+00 2.45709969e-02 0.00000000e+00 9.12516325e-02\n",
            " 8.59146289e-17 2.86035500e-01 1.39494180e-01 2.75480227e-01\n",
            " 1.83167464e-01]\n"
          ]
        }
      ]
    },
    {
      "cell_type": "code",
      "source": [
        "import numpy as np\n",
        "\n",
        "def plot_feature_importances_songs(model):\n",
        "    plt.rcParams[\"figure.figsize\"] = (9,6)\n",
        "    n_features = len(songs.columns[[4, 5, 6, 7, 8, 9, 10, 11, 12]])  # 9개 \n",
        "    plt.barh(np.arange(n_features), model.feature_importances_, align='center') \n",
        "    plt.yticks(np.arange(n_features), songs.columns[[4, 5, 6, 7, 8, 9, 10, 11, 12]])   # 9개의 눈금을 표시하고 눈금 레이블을 변수 이름으로 지정\n",
        "    plt.xlabel(\"feature importance\")\n",
        "    plt.ylabel(\"feature\")\n",
        "    plt.ylim(-1, n_features) #Y 축 범위 지정\n",
        "\n",
        "plot_feature_importances_songs(tree)\n",
        "\n",
        "#(0이라고 해서 중요하지 않은 것 아님)"
      ],
      "metadata": {
        "colab": {
          "base_uri": "https://localhost:8080/",
          "height": 388
        },
        "id": "bjEzHg5lhkxa",
        "outputId": "dfb0d9b3-43e7-4982-d544-ef73011a7bd5"
      },
      "execution_count": 162,
      "outputs": [
        {
          "output_type": "display_data",
          "data": {
            "text/plain": [
              "<Figure size 648x432 with 1 Axes>"
            ],
            "image/png": "[encoded data removed]"
          },
          "metadata": {
            "needs_background": "light"
          }
        }
      ]
    },
    {
      "cell_type": "markdown",
      "source": [
        "### **3) 앙상블 모델: 랜덤 포레스트** ###"
      ],
      "metadata": {
        "id": "bbrh1w2Urcge"
      }
    },
    {
      "cell_type": "code",
      "source": [
        "from sklearn.ensemble import RandomForestClassifier\n",
        "\n",
        "# 30개 변수를 모두 이용하여 100개의 나무 생성 (정확도가 높아짐)\n",
        "forest = RandomForestClassifier(n_estimators=100, random_state=0)\n",
        "forest.fit(X_train, y_train)\n",
        "\n",
        "print(\"학습용 데이터 세트 정확도: {:.3f}\".format(forest.score(X_train, y_train)))\n",
        "print(\"시험용 데이터 세트 정확도: {:.3f}\".format(forest.score(X_test, y_test)))"
      ],
      "metadata": {
        "colab": {
          "base_uri": "https://localhost:8080/"
        },
        "id": "csvlP3b9hk4d",
        "outputId": "e7816484-0a1c-4197-c10a-8ef76f73a9a4"
      },
      "execution_count": 163,
      "outputs": [
        {
          "output_type": "stream",
          "name": "stdout",
          "text": [
            "학습용 데이터 세트 정확도: 0.999\n",
            "시험용 데이터 세트 정확도: 0.552\n"
          ]
        }
      ]
    },
    {
      "cell_type": "code",
      "source": [
        "# 단일 의사결정나무의 경우보다 많은 변수(feature)들이 사용됨\n",
        "plot_feature_importances_songs(forest)"
      ],
      "metadata": {
        "colab": {
          "base_uri": "https://localhost:8080/",
          "height": 388
        },
        "id": "E6OkAucVhk_6",
        "outputId": "925b82ab-bcad-4602-9df4-f2e29135d30d"
      },
      "execution_count": 164,
      "outputs": [
        {
          "output_type": "display_data",
          "data": {
            "text/plain": [
              "<Figure size 648x432 with 1 Axes>"
            ],
            "image/png": "[encoded data removed]"
          },
          "metadata": {
            "needs_background": "light"
          }
        }
      ]
    },
    {
      "cell_type": "code",
      "source": [
        "from sklearn.model_selection import cross_val_score\n",
        "\n",
        "# 교차 검증을 10번 수행하여 10번의 교차 검증 평균 정확도를 비교 (10-fold cross validation)\n",
        "# default cv=5\n",
        "\n",
        "dt_scores = cross_val_score(tree, X_train, y_train, cv=10, scoring='accuracy')  \n",
        "rf_scores = cross_val_score(forest, X_train, y_train, cv=10, scoring='accuracy')\n",
        "\n",
        "print(\"Accuracy\")\n",
        "print(\"Decision tree: \", dt_scores) \n",
        "print(\"Random forest: \", rf_scores) \n",
        "\n",
        "print(\"Accuracy mean\")\n",
        "print(\"Decision tree :{:.3f}\".format(dt_scores.mean()))\n",
        "print(\"Random forest :{:.3f}\".format(rf_scores.mean()))"
      ],
      "metadata": {
        "colab": {
          "base_uri": "https://localhost:8080/"
        },
        "id": "zMxqZphRjmZR",
        "outputId": "7ab7bd51-3bb6-4428-ab61-1a6e9fbb4a69"
      },
      "execution_count": 165,
      "outputs": [
        {
          "output_type": "stream",
          "name": "stdout",
          "text": [
            "Accuracy\n",
            "Decision tree:  [0.50666667 0.52666667 0.50666667 0.5        0.52       0.48\n",
            " 0.54       0.42666667 0.51333333 0.49333333]\n",
            "Random forest:  [0.52       0.53333333 0.59333333 0.53333333 0.58       0.56666667\n",
            " 0.54       0.49333333 0.48       0.58      ]\n",
            "Accuracy mean\n",
            "Decision tree :0.501\n",
            "Random forest :0.542\n"
          ]
        }
      ]
    },
    {
      "cell_type": "code",
      "source": [
        "cv_list = [    \n",
        "            ['decision_tree',dt_scores],\n",
        "            ['random_forest',rf_scores],\n",
        "          ]\n",
        "df = pd.DataFrame.from_dict(dict(cv_list))\n",
        "df.plot()"
      ],
      "metadata": {
        "colab": {
          "base_uri": "https://localhost:8080/",
          "height": 393
        },
        "id": "CqfzV8qwjyGa",
        "outputId": "6838d034-3b64-4375-d219-8c77f23dca9e"
      },
      "execution_count": 166,
      "outputs": [
        {
          "output_type": "execute_result",
          "data": {
            "text/plain": [
              "<matplotlib.axes._subplots.AxesSubplot at 0x7f9fb5445460>"
            ]
          },
          "metadata": {},
          "execution_count": 166
        },
        {
          "output_type": "display_data",
          "data": {
            "text/plain": [
              "<Figure size 648x432 with 1 Axes>"
            ],
            "image/png": "[encoded data removed]"
          },
          "metadata": {
            "needs_background": "light"
          }
        }
      ]
    },
    {
      "cell_type": "markdown",
      "source": [
        "### **4) 앙상블 모델: 그래디언트 부스팅** ###"
      ],
      "metadata": {
        "id": "ytlLhSq7rvpt"
      }
    },
    {
      "cell_type": "code",
      "source": [
        "from sklearn.ensemble import GradientBoostingClassifier\n",
        "# 기본값은 max_depth= 3, n_estimators=100, learning_rate = 0.1\n",
        "\n",
        "gbrt = GradientBoostingClassifier(random_state=0)\n",
        "gbrt.fit(X_train, y_train)"
      ],
      "metadata": {
        "colab": {
          "base_uri": "https://localhost:8080/"
        },
        "id": "z8nJJ5g7jyOM",
        "outputId": "cb71d520-42b0-4cf6-d4e7-090fc9751477"
      },
      "execution_count": 167,
      "outputs": [
        {
          "output_type": "execute_result",
          "data": {
            "text/plain": [
              "GradientBoostingClassifier(random_state=0)"
            ]
          },
          "metadata": {},
          "execution_count": 167
        }
      ]
    },
    {
      "cell_type": "code",
      "source": [
        "print(\"학습용 데이터 세트 정확도: {:.3f}\".format(gbrt.score(X_train, y_train)))\n",
        "print(\"시험용 데이터 세트 정확도: {:.3f}\".format(gbrt.score(X_test, y_test)))"
      ],
      "metadata": {
        "colab": {
          "base_uri": "https://localhost:8080/"
        },
        "id": "kF51yozijyW7",
        "outputId": "96178bef-bd6f-4475-d5d7-abf9f3db8cf0"
      },
      "execution_count": 168,
      "outputs": [
        {
          "output_type": "stream",
          "name": "stdout",
          "text": [
            "학습용 데이터 세트 정확도: 0.781\n",
            "시험용 데이터 세트 정확도: 0.542\n"
          ]
        }
      ]
    },
    {
      "cell_type": "code",
      "source": [
        "plot_feature_importances_songs(gbrt)"
      ],
      "metadata": {
        "colab": {
          "base_uri": "https://localhost:8080/",
          "height": 388
        },
        "id": "nFPGTJisjmlL",
        "outputId": "40211151-76e2-471c-c251-cf62e0a0f75b"
      },
      "execution_count": 169,
      "outputs": [
        {
          "output_type": "display_data",
          "data": {
            "text/plain": [
              "<Figure size 648x432 with 1 Axes>"
            ],
            "image/png": "[encoded data removed]"
          },
          "metadata": {
            "needs_background": "light"
          }
        }
      ]
    },
    {
      "cell_type": "code",
      "source": [
        "#나무 깊이 제한\n",
        "gbrt = GradientBoostingClassifier(random_state=0, max_depth=2)\n",
        "gbrt.fit(X_train, y_train)\n",
        "\n",
        "print(\"학습 데이터 세트 정확도: {:.3f}\".format(gbrt.score(X_train, y_train)))\n",
        "print(\"시험용 데이터 세트 정확도: {:.3f}\".format(gbrt.score(X_test, y_test))) # 나무깊이 제안은 하지 않는 것이 좋음"
      ],
      "metadata": {
        "colab": {
          "base_uri": "https://localhost:8080/"
        },
        "id": "T5VgOvFzol4r",
        "outputId": "fb3d433c-32ce-4d3e-9b6b-66de0851ee55"
      },
      "execution_count": 170,
      "outputs": [
        {
          "output_type": "stream",
          "name": "stdout",
          "text": [
            "학습 데이터 세트 정확도: 0.713\n",
            "시험용 데이터 세트 정확도: 0.534\n"
          ]
        }
      ]
    },
    {
      "cell_type": "code",
      "source": [
        "#학습률 감소\n",
        "gbrt = GradientBoostingClassifier(random_state=0, learning_rate=0.01)\n",
        "gbrt.fit(X_train, y_train)\n",
        "\n",
        "print(\"학습 데이터 세트 정확도: {:.3f}\".format(gbrt.score(X_train, y_train)))\n",
        "print(\"시험용 데이터 세트 정확도: {:.3f}\".format(gbrt.score(X_test, y_test))) #하는 게 좋을 것으로 추정"
      ],
      "metadata": {
        "colab": {
          "base_uri": "https://localhost:8080/"
        },
        "id": "17ijpt3hpOJw",
        "outputId": "3003f439-2fc3-471d-8b29-af64792734d2"
      },
      "execution_count": 171,
      "outputs": [
        {
          "output_type": "stream",
          "name": "stdout",
          "text": [
            "학습 데이터 세트 정확도: 0.630\n",
            "시험용 데이터 세트 정확도: 0.548\n"
          ]
        }
      ]
    },
    {
      "cell_type": "markdown",
      "source": [
        "### **5) 분류모델 평가** ###"
      ],
      "metadata": {
        "id": "VtjOdiQisMdP"
      }
    },
    {
      "cell_type": "markdown",
      "source": [
        "### 분류 모델 선택 및 평가 결과\n",
        "\n",
        "* 선택한 평가: Accuracy(정확도) \n",
        "* 최적의 분류모델: 랜덤포레스트? 대부분에서 긍정적인 정확도\n",
        "\n",
        "교차검증을 시도한 결과, 랜덤 포레스트 모델에서 0.994의 가장 높은 정확도를\n",
        "보였으며, 정오 분류표에서도 정확도가 0.993으로 가장 높은 결과를 도출했기에 최적의 분류모델로 판단했다."
      ],
      "metadata": {
        "id": "0iLQ6WGEsXT7"
      }
    },
    {
      "cell_type": "markdown",
      "source": [
        "#### 1. 교차검증"
      ],
      "metadata": {
        "id": "OHKeEQ78yNUD"
      }
    },
    {
      "cell_type": "code",
      "source": [
        "# 교차 검증을 10번 수행하여 10번의 교차 검증 평균 정확도를 비교 (10-fold cross validation)\n",
        "\n",
        "dt_scores = cross_val_score(tree, X_train, y_train, cv=10, scoring='accuracy')  \n",
        "rf_scores = cross_val_score(forest, X_train, y_train, cv=10, scoring='accuracy')\n",
        "gbrt_scores = cross_val_score(gbrt, X_train, y_train, cv=10, scoring='accuracy')\n",
        "\n",
        "print(\"Accuracy\")\n",
        "print(\"Decision tree: \", dt_scores) \n",
        "print(\"Random forest: \", rf_scores) \n",
        "print(\"Gradient boosting: \", gbrt_scores) \n",
        "\n",
        "print(\"Accuracy mean\")\n",
        "print(\"Decision tree :{:.3f}\".format(dt_scores.mean())) \n",
        "print(\"Random forest :{:.3f}\".format(rf_scores.mean()))\n",
        "print(\"Gradient boosting :{:.3f}\".format(gbrt_scores.mean())) #교순님이 다른 측정지표 추천하심"
      ],
      "metadata": {
        "colab": {
          "base_uri": "https://localhost:8080/"
        },
        "id": "oApt1giNpOSd",
        "outputId": "83ed643f-1531-41a5-e6e8-084c46c121a5"
      },
      "execution_count": 172,
      "outputs": [
        {
          "output_type": "stream",
          "name": "stdout",
          "text": [
            "Accuracy\n",
            "Decision tree:  [0.50666667 0.52666667 0.50666667 0.5        0.52       0.48\n",
            " 0.54       0.42666667 0.51333333 0.49333333]\n",
            "Random forest:  [0.52       0.53333333 0.59333333 0.53333333 0.58       0.56666667\n",
            " 0.54       0.49333333 0.48       0.58      ]\n",
            "Gradient boosting:  [0.56       0.58       0.52       0.52666667 0.48666667 0.59333333\n",
            " 0.48       0.47333333 0.55333333 0.54      ]\n",
            "Accuracy mean\n",
            "Decision tree :0.501\n",
            "Random forest :0.542\n",
            "Gradient boosting :0.531\n"
          ]
        }
      ]
    },
    {
      "cell_type": "markdown",
      "source": [
        "#### 2. 그리드 서치"
      ],
      "metadata": {
        "id": "-FZ36XlSySA3"
      }
    },
    {
      "cell_type": "code",
      "source": [
        "from sklearn.model_selection import GridSearchCV\n",
        "\n",
        "# 파라미터를 dictionary 형태로 설정\n",
        "parameters = {'max_depth':[1,2,3], 'learning_rate':[0.1,0.08, 0.06, 0.04, 0.02]}"
      ],
      "metadata": {
        "id": "FuvR2WpfpOWH"
      },
      "execution_count": 173,
      "outputs": []
    },
    {
      "cell_type": "code",
      "source": [
        "# param_grid의 파라미터들을 3개의 fold 로 나누어 검증\n",
        "# refit=True (기본값): 가장 좋은 파라미터 설정으로 재학습  \n",
        "init_gbrt = GradientBoostingClassifier(random_state=0)\n",
        "grid_gbrt = GridSearchCV(init_gbrt, param_grid=parameters, cv=3, refit=True)\n",
        "print(grid_gbrt)\n",
        "# 파라미터들을 순차적으로 학습, 검증\n",
        "grid_gbrt.fit(X_train, y_train)\n",
        "\n",
        "# GridSearchCV 결과 추출하여 DataFrame으로 변환\n",
        "scores_df = pd.DataFrame(grid_gbrt.cv_results_)\n",
        "scores_df[['params', 'mean_test_score', 'rank_test_score', 'split0_test_score', 'split1_test_score', 'split2_test_score']]"
      ],
      "metadata": {
        "colab": {
          "base_uri": "https://localhost:8080/",
          "height": 574
        },
        "id": "morhJ6o_tpOp",
        "outputId": "f16a8e2c-289f-4164-bb8f-c32cd468bc6a"
      },
      "execution_count": 174,
      "outputs": [
        {
          "output_type": "stream",
          "name": "stdout",
          "text": [
            "GridSearchCV(cv=3, estimator=GradientBoostingClassifier(random_state=0),\n",
            "             param_grid={'learning_rate': [0.1, 0.08, 0.06, 0.04, 0.02],\n",
            "                         'max_depth': [1, 2, 3]})\n"
          ]
        },
        {
          "output_type": "execute_result",
          "data": {
            "text/plain": [
              "                                     params  mean_test_score  rank_test_score  \\\n",
              "0    {'learning_rate': 0.1, 'max_depth': 1}         0.530667               11   \n",
              "1    {'learning_rate': 0.1, 'max_depth': 2}         0.528667               12   \n",
              "2    {'learning_rate': 0.1, 'max_depth': 3}         0.542667                1   \n",
              "3   {'learning_rate': 0.08, 'max_depth': 1}         0.532667                9   \n",
              "4   {'learning_rate': 0.08, 'max_depth': 2}         0.542000                2   \n",
              "5   {'learning_rate': 0.08, 'max_depth': 3}         0.542000                2   \n",
              "6   {'learning_rate': 0.06, 'max_depth': 1}         0.527333               13   \n",
              "7   {'learning_rate': 0.06, 'max_depth': 2}         0.538000                4   \n",
              "8   {'learning_rate': 0.06, 'max_depth': 3}         0.536667                5   \n",
              "9   {'learning_rate': 0.04, 'max_depth': 1}         0.531333               10   \n",
              "10  {'learning_rate': 0.04, 'max_depth': 2}         0.536667                5   \n",
              "11  {'learning_rate': 0.04, 'max_depth': 3}         0.534667                8   \n",
              "12  {'learning_rate': 0.02, 'max_depth': 1}         0.526667               14   \n",
              "13  {'learning_rate': 0.02, 'max_depth': 2}         0.536667                5   \n",
              "14  {'learning_rate': 0.02, 'max_depth': 3}         0.524000               15   \n",
              "\n",
              "    split0_test_score  split1_test_score  split2_test_score  \n",
              "0               0.538              0.522              0.532  \n",
              "1               0.546              0.530              0.510  \n",
              "2               0.530              0.576              0.522  \n",
              "3               0.536              0.532              0.530  \n",
              "4               0.554              0.558              0.514  \n",
              "5               0.542              0.570              0.514  \n",
              "6               0.548              0.506              0.528  \n",
              "7               0.546              0.554              0.514  \n",
              "8               0.534              0.570              0.506  \n",
              "9               0.546              0.518              0.530  \n",
              "10              0.542              0.544              0.524  \n",
              "11              0.546              0.544              0.514  \n",
              "12              0.550              0.506              0.524  \n",
              "13              0.550              0.538              0.522  \n",
              "14              0.528              0.546              0.498  "
            ],
            "text/html": [
              "\n",
              "  <div id=\"df-bbc31a65-0740-497f-8fba-56a2c71ff867\">\n",
              "    <div class=\"colab-df-container\">\n",
              "      <div>\n",
              "<style scoped>\n",
              "    .dataframe tbody tr th:only-of-type {\n",
              "        vertical-align: middle;\n",
              "    }\n",
              "\n",
              "    .dataframe tbody tr th {\n",
              "        vertical-align: top;\n",
              "    }\n",
              "\n",
              "    .dataframe thead th {\n",
              "        text-align: right;\n",
              "    }\n",
              "</style>\n",
              "<table border=\"1\" class=\"dataframe\">\n",
              "  <thead>\n",
              "    <tr style=\"text-align: right;\">\n",
              "      <th></th>\n",
              "      <th>params</th>\n",
              "      <th>mean_test_score</th>\n",
              "      <th>rank_test_score</th>\n",
              "      <th>split0_test_score</th>\n",
              "      <th>split1_test_score</th>\n",
              "      <th>split2_test_score</th>\n",
              "    </tr>\n",
              "  </thead>\n",
              "  <tbody>\n",
              "    <tr>\n",
              "      <th>0</th>\n",
              "      <td>{'learning_rate': 0.1, 'max_depth': 1}</td>\n",
              "      <td>0.530667</td>\n",
              "      <td>11</td>\n",
              "      <td>0.538</td>\n",
              "      <td>0.522</td>\n",
              "      <td>0.532</td>\n",
              "    </tr>\n",
              "    <tr>\n",
              "      <th>1</th>\n",
              "      <td>{'learning_rate': 0.1, 'max_depth': 2}</td>\n",
              "      <td>0.528667</td>\n",
              "      <td>12</td>\n",
              "      <td>0.546</td>\n",
              "      <td>0.530</td>\n",
              "      <td>0.510</td>\n",
              "    </tr>\n",
              "    <tr>\n",
              "      <th>2</th>\n",
              "      <td>{'learning_rate': 0.1, 'max_depth': 3}</td>\n",
              "      <td>0.542667</td>\n",
              "      <td>1</td>\n",
              "      <td>0.530</td>\n",
              "      <td>0.576</td>\n",
              "      <td>0.522</td>\n",
              "    </tr>\n",
              "    <tr>\n",
              "      <th>3</th>\n",
              "      <td>{'learning_rate': 0.08, 'max_depth': 1}</td>\n",
              "      <td>0.532667</td>\n",
              "      <td>9</td>\n",
              "      <td>0.536</td>\n",
              "      <td>0.532</td>\n",
              "      <td>0.530</td>\n",
              "    </tr>\n",
              "    <tr>\n",
              "      <th>4</th>\n",
              "      <td>{'learning_rate': 0.08, 'max_depth': 2}</td>\n",
              "      <td>0.542000</td>\n",
              "      <td>2</td>\n",
              "      <td>0.554</td>\n",
              "      <td>0.558</td>\n",
              "      <td>0.514</td>\n",
              "    </tr>\n",
              "    <tr>\n",
              "      <th>5</th>\n",
              "      <td>{'learning_rate': 0.08, 'max_depth': 3}</td>\n",
              "      <td>0.542000</td>\n",
              "      <td>2</td>\n",
              "      <td>0.542</td>\n",
              "      <td>0.570</td>\n",
              "      <td>0.514</td>\n",
              "    </tr>\n",
              "    <tr>\n",
              "      <th>6</th>\n",
              "      <td>{'learning_rate': 0.06, 'max_depth': 1}</td>\n",
              "      <td>0.527333</td>\n",
              "      <td>13</td>\n",
              "      <td>0.548</td>\n",
              "      <td>0.506</td>\n",
              "      <td>0.528</td>\n",
              "    </tr>\n",
              "    <tr>\n",
              "      <th>7</th>\n",
              "      <td>{'learning_rate': 0.06, 'max_depth': 2}</td>\n",
              "      <td>0.538000</td>\n",
              "      <td>4</td>\n",
              "      <td>0.546</td>\n",
              "      <td>0.554</td>\n",
              "      <td>0.514</td>\n",
              "    </tr>\n",
              "    <tr>\n",
              "      <th>8</th>\n",
              "      <td>{'learning_rate': 0.06, 'max_depth': 3}</td>\n",
              "      <td>0.536667</td>\n",
              "      <td>5</td>\n",
              "      <td>0.534</td>\n",
              "      <td>0.570</td>\n",
              "      <td>0.506</td>\n",
              "    </tr>\n",
              "    <tr>\n",
              "      <th>9</th>\n",
              "      <td>{'learning_rate': 0.04, 'max_depth': 1}</td>\n",
              "      <td>0.531333</td>\n",
              "      <td>10</td>\n",
              "      <td>0.546</td>\n",
              "      <td>0.518</td>\n",
              "      <td>0.530</td>\n",
              "    </tr>\n",
              "    <tr>\n",
              "      <th>10</th>\n",
              "      <td>{'learning_rate': 0.04, 'max_depth': 2}</td>\n",
              "      <td>0.536667</td>\n",
              "      <td>5</td>\n",
              "      <td>0.542</td>\n",
              "      <td>0.544</td>\n",
              "      <td>0.524</td>\n",
              "    </tr>\n",
              "    <tr>\n",
              "      <th>11</th>\n",
              "      <td>{'learning_rate': 0.04, 'max_depth': 3}</td>\n",
              "      <td>0.534667</td>\n",
              "      <td>8</td>\n",
              "      <td>0.546</td>\n",
              "      <td>0.544</td>\n",
              "      <td>0.514</td>\n",
              "    </tr>\n",
              "    <tr>\n",
              "      <th>12</th>\n",
              "      <td>{'learning_rate': 0.02, 'max_depth': 1}</td>\n",
              "      <td>0.526667</td>\n",
              "      <td>14</td>\n",
              "      <td>0.550</td>\n",
              "      <td>0.506</td>\n",
              "      <td>0.524</td>\n",
              "    </tr>\n",
              "    <tr>\n",
              "      <th>13</th>\n",
              "      <td>{'learning_rate': 0.02, 'max_depth': 2}</td>\n",
              "      <td>0.536667</td>\n",
              "      <td>5</td>\n",
              "      <td>0.550</td>\n",
              "      <td>0.538</td>\n",
              "      <td>0.522</td>\n",
              "    </tr>\n",
              "    <tr>\n",
              "      <th>14</th>\n",
              "      <td>{'learning_rate': 0.02, 'max_depth': 3}</td>\n",
              "      <td>0.524000</td>\n",
              "      <td>15</td>\n",
              "      <td>0.528</td>\n",
              "      <td>0.546</td>\n",
              "      <td>0.498</td>\n",
              "    </tr>\n",
              "  </tbody>\n",
              "</table>\n",
              "</div>\n",
              "      <button class=\"colab-df-convert\" onclick=\"convertToInteractive('df-bbc31a65-0740-497f-8fba-56a2c71ff867')\"\n",
              "              title=\"Convert this dataframe to an interactive table.\"\n",
              "              style=\"display:none;\">\n",
              "        \n",
              "  <svg xmlns=\"http://www.w3.org/2000/svg\" height=\"24px\"viewBox=\"0 0 24 24\"\n",
              "       width=\"24px\">\n",
              "    <path d=\"M0 0h24v24H0V0z\" fill=\"none\"/>\n",
              "    <path d=\"M18.56 5.44l.94 2.06.94-2.06 2.06-.94-2.06-.94-.94-2.06-.94 2.06-2.06.94zm-11 1L8.5 8.5l.94-2.06 2.06-.94-2.06-.94L8.5 2.5l-.94 2.06-2.06.94zm10 10l.94 2.06.94-2.06 2.06-.94-2.06-.94-.94-2.06-.94 2.06-2.06.94z\"/><path d=\"M17.41 7.96l-1.37-1.37c-.4-.4-.92-.59-1.43-.59-.52 0-1.04.2-1.43.59L10.3 9.45l-7.72 7.72c-.78.78-.78 2.05 0 2.83L4 21.41c.39.39.9.59 1.41.59.51 0 1.02-.2 1.41-.59l7.78-7.78 2.81-2.81c.8-.78.8-2.07 0-2.86zM5.41 20L4 18.59l7.72-7.72 1.47 1.35L5.41 20z\"/>\n",
              "  </svg>\n",
              "      </button>\n",
              "      \n",
              "  <style>\n",
              "    .colab-df-container {\n",
              "      display:flex;\n",
              "      flex-wrap:wrap;\n",
              "      gap: 12px;\n",
              "    }\n",
              "\n",
              "    .colab-df-convert {\n",
              "      background-color: #E8F0FE;\n",
              "      border: none;\n",
              "      border-radius: 50%;\n",
              "      cursor: pointer;\n",
              "      display: none;\n",
              "      fill: #1967D2;\n",
              "      height: 32px;\n",
              "      padding: 0 0 0 0;\n",
              "      width: 32px;\n",
              "    }\n",
              "\n",
              "    .colab-df-convert:hover {\n",
              "      background-color: #E2EBFA;\n",
              "      box-shadow: 0px 1px 2px rgba(60, 64, 67, 0.3), 0px 1px 3px 1px rgba(60, 64, 67, 0.15);\n",
              "      fill: #174EA6;\n",
              "    }\n",
              "\n",
              "    [theme=dark] .colab-df-convert {\n",
              "      background-color: #3B4455;\n",
              "      fill: #D2E3FC;\n",
              "    }\n",
              "\n",
              "    [theme=dark] .colab-df-convert:hover {\n",
              "      background-color: #434B5C;\n",
              "      box-shadow: 0px 1px 3px 1px rgba(0, 0, 0, 0.15);\n",
              "      filter: drop-shadow(0px 1px 2px rgba(0, 0, 0, 0.3));\n",
              "      fill: #FFFFFF;\n",
              "    }\n",
              "  </style>\n",
              "\n",
              "      <script>\n",
              "        const buttonEl =\n",
              "          document.querySelector('#df-bbc31a65-0740-497f-8fba-56a2c71ff867 button.colab-df-convert');\n",
              "        buttonEl.style.display =\n",
              "          google.colab.kernel.accessAllowed ? 'block' : 'none';\n",
              "\n",
              "        async function convertToInteractive(key) {\n",
              "          const element = document.querySelector('#df-bbc31a65-0740-497f-8fba-56a2c71ff867');\n",
              "          const dataTable =\n",
              "            await google.colab.kernel.invokeFunction('convertToInteractive',\n",
              "                                                     [key], {});\n",
              "          if (!dataTable) return;\n",
              "\n",
              "          const docLinkHtml = 'Like what you see? Visit the ' +\n",
              "            '<a target=\"_blank\" href=https://colab.research.google.com/notebooks/data_table.ipynb>data table notebook</a>'\n",
              "            + ' to learn more about interactive tables.';\n",
              "          element.innerHTML = '';\n",
              "          dataTable['output_type'] = 'display_data';\n",
              "          await google.colab.output.renderOutput(dataTable, element);\n",
              "          const docLink = document.createElement('div');\n",
              "          docLink.innerHTML = docLinkHtml;\n",
              "          element.appendChild(docLink);\n",
              "        }\n",
              "      </script>\n",
              "    </div>\n",
              "  </div>\n",
              "  "
            ]
          },
          "metadata": {},
          "execution_count": 174
        }
      ]
    },
    {
      "cell_type": "code",
      "source": [
        "# 최적 파라미터로 학습이 된 모델을 이용하여 시험용 데이터 세트 분류\n",
        "print(\"시험용 데이터 세트 정확도: {:.3f}\".format(grid_gbrt.score(X_test, y_test)))"
      ],
      "metadata": {
        "colab": {
          "base_uri": "https://localhost:8080/"
        },
        "id": "OKwXSO48tubZ",
        "outputId": "58601f0d-5127-4fb4-abdb-231ae95827db"
      },
      "execution_count": 175,
      "outputs": [
        {
          "output_type": "stream",
          "name": "stdout",
          "text": [
            "시험용 데이터 세트 정확도: 0.542\n"
          ]
        }
      ]
    },
    {
      "cell_type": "markdown",
      "source": [
        "#### 3. 모델평가지표: 정오분류표"
      ],
      "metadata": {
        "id": "TVznYivcz2mp"
      }
    },
    {
      "cell_type": "code",
      "source": [
        "from sklearn.metrics import accuracy_score, precision_score, recall_score, f1_score\n",
        "from sklearn.metrics import confusion_matrix \n",
        "\n",
        "print(y_test.value_counts()) # y_test 의 B,M 분포\n",
        "\n",
        "dt_pred = tree.predict(X_test)\n",
        "rf_pred = forest.predict(X_test)\n",
        "grid_gbrt_pred = grid_gbrt.predict(X_test)\n",
        "\n",
        "# 예측 결과인 pred와 실제 결과인 y_test의 Confusion Matrix 출력\n",
        "print('Decision tree 시험용 데이터 세트 정확도:{:.3f}'.format(accuracy_score(y_test, dt_pred)))\n",
        "print(confusion_matrix(y_test, dt_pred))\n",
        "print('Random forest 시험용 데이터 세트 정확도:{:.3f}'.format(accuracy_score(y_test, rf_pred)))\n",
        "print(confusion_matrix(y_test, rf_pred))\n",
        "print('Gradient boosting 시험용 데이터 세트 정확도:{:.3f}'.format(accuracy_score(y_test, grid_gbrt_pred)))\n",
        "print(confusion_matrix(y_test, grid_gbrt_pred))"
      ],
      "metadata": {
        "colab": {
          "base_uri": "https://localhost:8080/"
        },
        "id": "blG6bifQtEPf",
        "outputId": "fb2e6491-faab-40da-9ee6-075a74c7ec3c"
      },
      "execution_count": 176,
      "outputs": [
        {
          "output_type": "stream",
          "name": "stdout",
          "text": [
            "Yes    264\n",
            "No     236\n",
            "Name: popularity, dtype: int64\n",
            "Decision tree 시험용 데이터 세트 정확도:0.554\n",
            "[[ 94 142]\n",
            " [ 81 183]]\n",
            "Random forest 시험용 데이터 세트 정확도:0.552\n",
            "[[104 132]\n",
            " [ 92 172]]\n",
            "Gradient boosting 시험용 데이터 세트 정확도:0.542\n",
            "[[ 93 143]\n",
            " [ 86 178]]\n"
          ]
        }
      ]
    },
    {
      "cell_type": "code",
      "source": [
        "from sklearn.metrics import classification_report\n",
        "\n",
        "# 각 클래스가 Positive일 때의 정밀도, 재현율, f1 값을 보여줌 (\"M\"이 Postivit인 경우가 기본값임)\n",
        "# macro avg는 클래스별 점수의 평균을 계산\n",
        "# weighted avg는 클래스의 샘플 수로 가중평균을 계산\n",
        "print(\"Decision Tree:\")\n",
        "print(classification_report(y_test, dt_pred, target_names=[\"No\", \"Yes\"]))\n",
        "print(\"Random Forest:\")\n",
        "print(classification_report(y_test, rf_pred, target_names=[\"No\", \"Yes\"]))\n",
        "print(\"Gradient Boosting:\")\n",
        "print(classification_report(y_test, grid_gbrt_pred, target_names=[\"No\", \"Yes\"]))"
      ],
      "metadata": {
        "colab": {
          "base_uri": "https://localhost:8080/"
        },
        "id": "x8XbWTFUtHsz",
        "outputId": "04040e31-a2a3-47ea-ea97-f2616d3b44dc"
      },
      "execution_count": 177,
      "outputs": [
        {
          "output_type": "stream",
          "name": "stdout",
          "text": [
            "Decision Tree:\n",
            "              precision    recall  f1-score   support\n",
            "\n",
            "          No       0.54      0.40      0.46       236\n",
            "         Yes       0.56      0.69      0.62       264\n",
            "\n",
            "    accuracy                           0.55       500\n",
            "   macro avg       0.55      0.55      0.54       500\n",
            "weighted avg       0.55      0.55      0.54       500\n",
            "\n",
            "Random Forest:\n",
            "              precision    recall  f1-score   support\n",
            "\n",
            "          No       0.53      0.44      0.48       236\n",
            "         Yes       0.57      0.65      0.61       264\n",
            "\n",
            "    accuracy                           0.55       500\n",
            "   macro avg       0.55      0.55      0.54       500\n",
            "weighted avg       0.55      0.55      0.55       500\n",
            "\n",
            "Gradient Boosting:\n",
            "              precision    recall  f1-score   support\n",
            "\n",
            "          No       0.52      0.39      0.45       236\n",
            "         Yes       0.55      0.67      0.61       264\n",
            "\n",
            "    accuracy                           0.54       500\n",
            "   macro avg       0.54      0.53      0.53       500\n",
            "weighted avg       0.54      0.54      0.53       500\n",
            "\n"
          ]
        }
      ]
    },
    {
      "cell_type": "markdown",
      "source": [
        "### **인사이트 도출**"
      ],
      "metadata": {
        "id": "hxqbWch12wPw"
      }
    }
  ],
  "metadata": {
    "colab": {
      "collapsed_sections": [
        "-R6ujoIuqiNU"
      ],
      "provenance": [],
      "toc_visible": true,
      "include_colab_link": true
    },
    "kernelspec": {
      "display_name": "Python 3",
      "name": "python3"
    },
    "language_info": {
      "name": "python"
    }
  },
  "nbformat": 4,
  "nbformat_minor": 0
}