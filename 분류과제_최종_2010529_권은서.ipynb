{
  "nbformat": 4,
  "nbformat_minor": 0,
  "metadata": {
    "colab": {
      "provenance": [],
      "toc_visible": true,
      "authorship_tag": "ABX9TyNskyRqdQr3djVkXalAOm+d",
      "include_colab_link": true
    },
    "kernelspec": {
      "name": "python3",
      "display_name": "Python 3"
    },
    "language_info": {
      "name": "python"
    }
  },
  "cells": [
    {
      "cell_type": "markdown",
      "metadata": {
        "id": "view-in-github",
        "colab_type": "text"
      },
      "source": [
        "<a href=\"https://colab.research.google.com/github/rnjsdmstj/ITB2022/blob/main/%EB%B6%84%EB%A5%98%EA%B3%BC%EC%A0%9C_%EC%B5%9C%EC%A2%85_2010529_%EA%B6%8C%EC%9D%80%EC%84%9C.ipynb\" target=\"_parent\"><img src=\"https://colab.research.google.com/assets/colab-badge.svg\" alt=\"Open In Colab\"/></a>"
      ]
    },
    {
      "cell_type": "markdown",
      "source": [
        "# 라이브러리 설치 & 임포트"
      ],
      "metadata": {
        "id": "JCWxdjw6V1tp"
      }
    },
    {
      "cell_type": "code",
      "execution_count": 1,
      "metadata": {
        "colab": {
          "base_uri": "https://localhost:8080/"
        },
        "id": "TPPSsVXIyscs",
        "outputId": "32702bd4-3c54-4aca-eabd-a3965db9a4d9"
      },
      "outputs": [
        {
          "output_type": "stream",
          "name": "stdout",
          "text": [
            "Looking in indexes: https://pypi.org/simple, https://us-python.pkg.dev/colab-wheels/public/simple/\n",
            "Requirement already satisfied: mglearn in /usr/local/lib/python3.7/dist-packages (0.1.9)\n",
            "Requirement already satisfied: pillow in /usr/local/lib/python3.7/dist-packages (from mglearn) (7.1.2)\n",
            "Requirement already satisfied: cycler in /usr/local/lib/python3.7/dist-packages (from mglearn) (0.11.0)\n",
            "Requirement already satisfied: joblib in /usr/local/lib/python3.7/dist-packages (from mglearn) (1.1.0)\n",
            "Requirement already satisfied: scikit-learn in /usr/local/lib/python3.7/dist-packages (from mglearn) (1.0.2)\n",
            "Requirement already satisfied: matplotlib in /usr/local/lib/python3.7/dist-packages (from mglearn) (3.2.2)\n",
            "Requirement already satisfied: imageio in /usr/local/lib/python3.7/dist-packages (from mglearn) (2.9.0)\n",
            "Requirement already satisfied: pandas in /usr/local/lib/python3.7/dist-packages (from mglearn) (1.3.5)\n",
            "Requirement already satisfied: numpy in /usr/local/lib/python3.7/dist-packages (from mglearn) (1.21.6)\n",
            "Requirement already satisfied: pyparsing!=2.0.4,!=2.1.2,!=2.1.6,>=2.0.1 in /usr/local/lib/python3.7/dist-packages (from matplotlib->mglearn) (3.0.9)\n",
            "Requirement already satisfied: kiwisolver>=1.0.1 in /usr/local/lib/python3.7/dist-packages (from matplotlib->mglearn) (1.4.4)\n",
            "Requirement already satisfied: python-dateutil>=2.1 in /usr/local/lib/python3.7/dist-packages (from matplotlib->mglearn) (2.8.2)\n",
            "Requirement already satisfied: typing-extensions in /usr/local/lib/python3.7/dist-packages (from kiwisolver>=1.0.1->matplotlib->mglearn) (4.1.1)\n",
            "Requirement already satisfied: six>=1.5 in /usr/local/lib/python3.7/dist-packages (from python-dateutil>=2.1->matplotlib->mglearn) (1.15.0)\n",
            "Requirement already satisfied: pytz>=2017.3 in /usr/local/lib/python3.7/dist-packages (from pandas->mglearn) (2022.6)\n",
            "Requirement already satisfied: scipy>=1.1.0 in /usr/local/lib/python3.7/dist-packages (from scikit-learn->mglearn) (1.7.3)\n",
            "Requirement already satisfied: threadpoolctl>=2.0.0 in /usr/local/lib/python3.7/dist-packages (from scikit-learn->mglearn) (3.1.0)\n"
          ]
        }
      ],
      "source": [
        "!pip install mglearn "
      ]
    },
    {
      "cell_type": "code",
      "source": [
        "!pip install --upgrade joblib==1.1.0"
      ],
      "metadata": {
        "colab": {
          "base_uri": "https://localhost:8080/"
        },
        "id": "in2YXgBky1PA",
        "outputId": "19bde8d8-19a1-46a0-8aca-198257c0a9eb"
      },
      "execution_count": 2,
      "outputs": [
        {
          "output_type": "stream",
          "name": "stdout",
          "text": [
            "Looking in indexes: https://pypi.org/simple, https://us-python.pkg.dev/colab-wheels/public/simple/\n",
            "Requirement already satisfied: joblib==1.1.0 in /usr/local/lib/python3.7/dist-packages (1.1.0)\n"
          ]
        }
      ]
    },
    {
      "cell_type": "code",
      "source": [
        "import mglearn"
      ],
      "metadata": {
        "id": "cFmZJJ9qy1a9"
      },
      "execution_count": 3,
      "outputs": []
    },
    {
      "cell_type": "code",
      "source": [
        "from google.colab import drive\n",
        "drive.mount('/content/drive')"
      ],
      "metadata": {
        "colab": {
          "base_uri": "https://localhost:8080/"
        },
        "id": "HB54CG4my1dn",
        "outputId": "0d55c788-fe93-49a4-ab4e-4b76441af6cb"
      },
      "execution_count": 4,
      "outputs": [
        {
          "output_type": "stream",
          "name": "stdout",
          "text": [
            "Drive already mounted at /content/drive; to attempt to forcibly remount, call drive.mount(\"/content/drive\", force_remount=True).\n"
          ]
        }
      ]
    },
    {
      "cell_type": "code",
      "source": [
        "%matplotlib inline\n",
        "import pandas as pd\n",
        "import seaborn as sns           # Seaborn 로딩하기\n",
        "import matplotlib.pyplot as plt # Matplotlib의 pyplot 로딩하기"
      ],
      "metadata": {
        "id": "KZqeBCpyy1f-"
      },
      "execution_count": 5,
      "outputs": []
    },
    {
      "cell_type": "code",
      "source": [
        "# 한글폰트 사용 in colab\n",
        "%matplotlib inline  \n",
        "\n",
        "import matplotlib as mpl \n",
        "import matplotlib.pyplot as plt \n",
        "import matplotlib.font_manager as fm  \n",
        "\n",
        "!apt-get update -qq\n",
        "!apt-get install fonts-nanum* -qq\n",
        "\n",
        "path = '/usr/share/fonts/truetype/nanum/NanumBarunGothic.ttf' \n",
        "font_name = fm.FontProperties(fname=path, size=10).get_name()\n",
        "print(font_name)\n",
        "plt.rc('font', family=font_name)\n",
        "\n",
        "fm._rebuild()\n",
        "mpl.rcParams['axes.unicode_minus'] = False"
      ],
      "metadata": {
        "colab": {
          "base_uri": "https://localhost:8080/"
        },
        "id": "tGVJ7labMqoK",
        "outputId": "b023be10-fa5c-48f0-df2e-4ef7ce2de5e6"
      },
      "execution_count": 6,
      "outputs": [
        {
          "output_type": "stream",
          "name": "stdout",
          "text": [
            "NanumBarunGothic\n"
          ]
        }
      ]
    },
    {
      "cell_type": "markdown",
      "source": [
        "# (1) 분류 문제 선정\n",
        "\n",
        "* 종속변수: 남성의 음주 여부\n",
        "\n",
        "* 독립변수: 식전혈당(공복혈당) 변수부터 감마지티피 변수 (13~23번 변수)까지\n",
        "\n",
        "해당 변수 간의 관계를 통해서 어떤 독립변수의 수치가 남성의 음주 여부를\n",
        "판단하는데 가장 관련성이 높은지 확인하고자 한다.\n",
        "\n",
        "결과에 무관하게 세운 가정: 음주를 할수록 간의 상태가 좋지 않을 것이다. 따라서, 감마지티피, 혈청지오티(ALT) 변수의 중요도가 높을 것이고, 음주여부가 'No'인 남성일수록 변수의 수치가 더욱 낮게 나올 것이다."
      ],
      "metadata": {
        "id": "qIoC7rG0oKoC"
      }
    },
    {
      "cell_type": "markdown",
      "source": [
        "# 데이터 전처리\n",
        "* 탐색\n",
        "* 필요한 데이터 추출\n",
        "* 널값 제거"
      ],
      "metadata": {
        "id": "5eqKWBPFy9SU"
      }
    },
    {
      "cell_type": "code",
      "source": [
        "# csv 데이터 가져오기, 가입자일련번호를 인덱스로 지정\n",
        "health = pd.read_csv(\"/content/drive/My Drive/Colab Notebooks/Bigmining/health_data.csv\", index_col='가입자일련번호')\n",
        "\n",
        "print(health.columns)\n",
        "display(health.info())      # 10000행의 데이터 - 가입자일련번호는 index이므로 생략됨, 30개 변수 (결측치 있음, 정리 필요) \n",
        "display(health.head())      # 처음 5행 확인"
      ],
      "metadata": {
        "colab": {
          "base_uri": "https://localhost:8080/",
          "height": 1000
        },
        "id": "3HkkfWr0y1iT",
        "outputId": "f8be9c46-8a77-4f1a-c325-4f2f4f306ea3"
      },
      "execution_count": 7,
      "outputs": [
        {
          "output_type": "stream",
          "name": "stdout",
          "text": [
            "Index(['기준년도', '시도코드', '성별코드', '연령대코드(5세단위)', '신장(5Cm단위)', '체중(5Kg 단위)',\n",
            "       '허리둘레', '시력(좌)', '시력(우)', '청력(좌)', '청력(우)', '수축기혈압', '이완기혈압',\n",
            "       '식전혈당(공복혈당)', '총콜레스테롤', '트리글리세라이드', 'HDL콜레스테롤', 'LDL콜레스테롤', '혈색소',\n",
            "       '요단백', '혈청크레아티닌', '(혈청지오티)AST', '(혈청지오티)ALT', '감마지티피', '흡연상태', '음주여부',\n",
            "       '구강검진수검여부', '치아우식증유무', '치석', '데이터공개일자'],\n",
            "      dtype='object')\n",
            "<class 'pandas.core.frame.DataFrame'>\n",
            "Int64Index: 10000 entries, 1 to 10000\n",
            "Data columns (total 30 columns):\n",
            " #   Column       Non-Null Count  Dtype  \n",
            "---  ------       --------------  -----  \n",
            " 0   기준년도         10000 non-null  int64  \n",
            " 1   시도코드         10000 non-null  int64  \n",
            " 2   성별코드         10000 non-null  object \n",
            " 3   연령대코드(5세단위)  10000 non-null  int64  \n",
            " 4   신장(5Cm단위)    10000 non-null  int64  \n",
            " 5   체중(5Kg 단위)   10000 non-null  int64  \n",
            " 6   허리둘레         10000 non-null  float64\n",
            " 7   시력(좌)        10000 non-null  float64\n",
            " 8   시력(우)        10000 non-null  float64\n",
            " 9   청력(좌)        10000 non-null  int64  \n",
            " 10  청력(우)        10000 non-null  int64  \n",
            " 11  수축기혈압        9912 non-null   float64\n",
            " 12  이완기혈압        9912 non-null   float64\n",
            " 13  식전혈당(공복혈당)   9912 non-null   float64\n",
            " 14  총콜레스테롤       4044 non-null   float64\n",
            " 15  트리글리세라이드     4044 non-null   float64\n",
            " 16  HDL콜레스테롤     4044 non-null   float64\n",
            " 17  LDL콜레스테롤     3977 non-null   float64\n",
            " 18  혈색소          9912 non-null   float64\n",
            " 19  요단백          9861 non-null   float64\n",
            " 20  혈청크레아티닌      9912 non-null   float64\n",
            " 21  (혈청지오티)AST   9912 non-null   float64\n",
            " 22  (혈청지오티)ALT   9912 non-null   float64\n",
            " 23  감마지티피        9912 non-null   float64\n",
            " 24  흡연상태         9998 non-null   object \n",
            " 25  음주여부         9999 non-null   object \n",
            " 26  구강검진수검여부     10000 non-null  int64  \n",
            " 27  치아우식증유무      3251 non-null   float64\n",
            " 28  치석           3251 non-null   float64\n",
            " 29  데이터공개일자      10000 non-null  object \n",
            "dtypes: float64(18), int64(8), object(4)\n",
            "memory usage: 2.4+ MB\n"
          ]
        },
        {
          "output_type": "display_data",
          "data": {
            "text/plain": [
              "None"
            ]
          },
          "metadata": {}
        },
        {
          "output_type": "display_data",
          "data": {
            "text/plain": [
              "         기준년도  시도코드 성별코드  연령대코드(5세단위)  신장(5Cm단위)  체중(5Kg 단위)  허리둘레  시력(좌)  \\\n",
              "가입자일련번호                                                                     \n",
              "1        2020    36    M            9        165          60  72.1    1.2   \n",
              "2        2020    27    F           13        150          65  81.0    0.8   \n",
              "3        2020    11    F           12        155          55  70.0    0.6   \n",
              "4        2020    31    M           13        160          70  90.8    1.0   \n",
              "5        2020    41    F           12        155          50  75.2    1.5   \n",
              "\n",
              "         시력(우)  청력(좌)  ...  혈청크레아티닌  (혈청지오티)AST  (혈청지오티)ALT  감마지티피  흡연상태  \\\n",
              "가입자일련번호                ...                                                 \n",
              "1          1.5      1  ...      1.1        21.0        27.0   21.0    No   \n",
              "2          0.8      1  ...      0.5        18.0        15.0   15.0    No   \n",
              "3          0.7      1  ...      0.7        27.0        25.0    7.0    No   \n",
              "4          1.0      1  ...      1.2        65.0        97.0   72.0    No   \n",
              "5          1.2      1  ...      0.7        18.0        17.0   14.0    No   \n",
              "\n",
              "         음주여부  구강검진수검여부  치아우식증유무   치석     데이터공개일자  \n",
              "가입자일련번호                                            \n",
              "1          No         0      NaN  NaN  12/29/2021  \n",
              "2          No         0      NaN  NaN  12/29/2021  \n",
              "3          No         0      NaN  NaN  12/29/2021  \n",
              "4          No         1      0.0  0.0  12/29/2021  \n",
              "5          No         0      NaN  NaN  12/29/2021  \n",
              "\n",
              "[5 rows x 30 columns]"
            ],
            "text/html": [
              "\n",
              "  <div id=\"df-39e61d12-70f7-4118-980f-350279578e87\">\n",
              "    <div class=\"colab-df-container\">\n",
              "      <div>\n",
              "<style scoped>\n",
              "    .dataframe tbody tr th:only-of-type {\n",
              "        vertical-align: middle;\n",
              "    }\n",
              "\n",
              "    .dataframe tbody tr th {\n",
              "        vertical-align: top;\n",
              "    }\n",
              "\n",
              "    .dataframe thead th {\n",
              "        text-align: right;\n",
              "    }\n",
              "</style>\n",
              "<table border=\"1\" class=\"dataframe\">\n",
              "  <thead>\n",
              "    <tr style=\"text-align: right;\">\n",
              "      <th></th>\n",
              "      <th>기준년도</th>\n",
              "      <th>시도코드</th>\n",
              "      <th>성별코드</th>\n",
              "      <th>연령대코드(5세단위)</th>\n",
              "      <th>신장(5Cm단위)</th>\n",
              "      <th>체중(5Kg 단위)</th>\n",
              "      <th>허리둘레</th>\n",
              "      <th>시력(좌)</th>\n",
              "      <th>시력(우)</th>\n",
              "      <th>청력(좌)</th>\n",
              "      <th>...</th>\n",
              "      <th>혈청크레아티닌</th>\n",
              "      <th>(혈청지오티)AST</th>\n",
              "      <th>(혈청지오티)ALT</th>\n",
              "      <th>감마지티피</th>\n",
              "      <th>흡연상태</th>\n",
              "      <th>음주여부</th>\n",
              "      <th>구강검진수검여부</th>\n",
              "      <th>치아우식증유무</th>\n",
              "      <th>치석</th>\n",
              "      <th>데이터공개일자</th>\n",
              "    </tr>\n",
              "    <tr>\n",
              "      <th>가입자일련번호</th>\n",
              "      <th></th>\n",
              "      <th></th>\n",
              "      <th></th>\n",
              "      <th></th>\n",
              "      <th></th>\n",
              "      <th></th>\n",
              "      <th></th>\n",
              "      <th></th>\n",
              "      <th></th>\n",
              "      <th></th>\n",
              "      <th></th>\n",
              "      <th></th>\n",
              "      <th></th>\n",
              "      <th></th>\n",
              "      <th></th>\n",
              "      <th></th>\n",
              "      <th></th>\n",
              "      <th></th>\n",
              "      <th></th>\n",
              "      <th></th>\n",
              "      <th></th>\n",
              "    </tr>\n",
              "  </thead>\n",
              "  <tbody>\n",
              "    <tr>\n",
              "      <th>1</th>\n",
              "      <td>2020</td>\n",
              "      <td>36</td>\n",
              "      <td>M</td>\n",
              "      <td>9</td>\n",
              "      <td>165</td>\n",
              "      <td>60</td>\n",
              "      <td>72.1</td>\n",
              "      <td>1.2</td>\n",
              "      <td>1.5</td>\n",
              "      <td>1</td>\n",
              "      <td>...</td>\n",
              "      <td>1.1</td>\n",
              "      <td>21.0</td>\n",
              "      <td>27.0</td>\n",
              "      <td>21.0</td>\n",
              "      <td>No</td>\n",
              "      <td>No</td>\n",
              "      <td>0</td>\n",
              "      <td>NaN</td>\n",
              "      <td>NaN</td>\n",
              "      <td>12/29/2021</td>\n",
              "    </tr>\n",
              "    <tr>\n",
              "      <th>2</th>\n",
              "      <td>2020</td>\n",
              "      <td>27</td>\n",
              "      <td>F</td>\n",
              "      <td>13</td>\n",
              "      <td>150</td>\n",
              "      <td>65</td>\n",
              "      <td>81.0</td>\n",
              "      <td>0.8</td>\n",
              "      <td>0.8</td>\n",
              "      <td>1</td>\n",
              "      <td>...</td>\n",
              "      <td>0.5</td>\n",
              "      <td>18.0</td>\n",
              "      <td>15.0</td>\n",
              "      <td>15.0</td>\n",
              "      <td>No</td>\n",
              "      <td>No</td>\n",
              "      <td>0</td>\n",
              "      <td>NaN</td>\n",
              "      <td>NaN</td>\n",
              "      <td>12/29/2021</td>\n",
              "    </tr>\n",
              "    <tr>\n",
              "      <th>3</th>\n",
              "      <td>2020</td>\n",
              "      <td>11</td>\n",
              "      <td>F</td>\n",
              "      <td>12</td>\n",
              "      <td>155</td>\n",
              "      <td>55</td>\n",
              "      <td>70.0</td>\n",
              "      <td>0.6</td>\n",
              "      <td>0.7</td>\n",
              "      <td>1</td>\n",
              "      <td>...</td>\n",
              "      <td>0.7</td>\n",
              "      <td>27.0</td>\n",
              "      <td>25.0</td>\n",
              "      <td>7.0</td>\n",
              "      <td>No</td>\n",
              "      <td>No</td>\n",
              "      <td>0</td>\n",
              "      <td>NaN</td>\n",
              "      <td>NaN</td>\n",
              "      <td>12/29/2021</td>\n",
              "    </tr>\n",
              "    <tr>\n",
              "      <th>4</th>\n",
              "      <td>2020</td>\n",
              "      <td>31</td>\n",
              "      <td>M</td>\n",
              "      <td>13</td>\n",
              "      <td>160</td>\n",
              "      <td>70</td>\n",
              "      <td>90.8</td>\n",
              "      <td>1.0</td>\n",
              "      <td>1.0</td>\n",
              "      <td>1</td>\n",
              "      <td>...</td>\n",
              "      <td>1.2</td>\n",
              "      <td>65.0</td>\n",
              "      <td>97.0</td>\n",
              "      <td>72.0</td>\n",
              "      <td>No</td>\n",
              "      <td>No</td>\n",
              "      <td>1</td>\n",
              "      <td>0.0</td>\n",
              "      <td>0.0</td>\n",
              "      <td>12/29/2021</td>\n",
              "    </tr>\n",
              "    <tr>\n",
              "      <th>5</th>\n",
              "      <td>2020</td>\n",
              "      <td>41</td>\n",
              "      <td>F</td>\n",
              "      <td>12</td>\n",
              "      <td>155</td>\n",
              "      <td>50</td>\n",
              "      <td>75.2</td>\n",
              "      <td>1.5</td>\n",
              "      <td>1.2</td>\n",
              "      <td>1</td>\n",
              "      <td>...</td>\n",
              "      <td>0.7</td>\n",
              "      <td>18.0</td>\n",
              "      <td>17.0</td>\n",
              "      <td>14.0</td>\n",
              "      <td>No</td>\n",
              "      <td>No</td>\n",
              "      <td>0</td>\n",
              "      <td>NaN</td>\n",
              "      <td>NaN</td>\n",
              "      <td>12/29/2021</td>\n",
              "    </tr>\n",
              "  </tbody>\n",
              "</table>\n",
              "<p>5 rows × 30 columns</p>\n",
              "</div>\n",
              "      <button class=\"colab-df-convert\" onclick=\"convertToInteractive('df-39e61d12-70f7-4118-980f-350279578e87')\"\n",
              "              title=\"Convert this dataframe to an interactive table.\"\n",
              "              style=\"display:none;\">\n",
              "        \n",
              "  <svg xmlns=\"http://www.w3.org/2000/svg\" height=\"24px\"viewBox=\"0 0 24 24\"\n",
              "       width=\"24px\">\n",
              "    <path d=\"M0 0h24v24H0V0z\" fill=\"none\"/>\n",
              "    <path d=\"M18.56 5.44l.94 2.06.94-2.06 2.06-.94-2.06-.94-.94-2.06-.94 2.06-2.06.94zm-11 1L8.5 8.5l.94-2.06 2.06-.94-2.06-.94L8.5 2.5l-.94 2.06-2.06.94zm10 10l.94 2.06.94-2.06 2.06-.94-2.06-.94-.94-2.06-.94 2.06-2.06.94z\"/><path d=\"M17.41 7.96l-1.37-1.37c-.4-.4-.92-.59-1.43-.59-.52 0-1.04.2-1.43.59L10.3 9.45l-7.72 7.72c-.78.78-.78 2.05 0 2.83L4 21.41c.39.39.9.59 1.41.59.51 0 1.02-.2 1.41-.59l7.78-7.78 2.81-2.81c.8-.78.8-2.07 0-2.86zM5.41 20L4 18.59l7.72-7.72 1.47 1.35L5.41 20z\"/>\n",
              "  </svg>\n",
              "      </button>\n",
              "      \n",
              "  <style>\n",
              "    .colab-df-container {\n",
              "      display:flex;\n",
              "      flex-wrap:wrap;\n",
              "      gap: 12px;\n",
              "    }\n",
              "\n",
              "    .colab-df-convert {\n",
              "      background-color: #E8F0FE;\n",
              "      border: none;\n",
              "      border-radius: 50%;\n",
              "      cursor: pointer;\n",
              "      display: none;\n",
              "      fill: #1967D2;\n",
              "      height: 32px;\n",
              "      padding: 0 0 0 0;\n",
              "      width: 32px;\n",
              "    }\n",
              "\n",
              "    .colab-df-convert:hover {\n",
              "      background-color: #E2EBFA;\n",
              "      box-shadow: 0px 1px 2px rgba(60, 64, 67, 0.3), 0px 1px 3px 1px rgba(60, 64, 67, 0.15);\n",
              "      fill: #174EA6;\n",
              "    }\n",
              "\n",
              "    [theme=dark] .colab-df-convert {\n",
              "      background-color: #3B4455;\n",
              "      fill: #D2E3FC;\n",
              "    }\n",
              "\n",
              "    [theme=dark] .colab-df-convert:hover {\n",
              "      background-color: #434B5C;\n",
              "      box-shadow: 0px 1px 3px 1px rgba(0, 0, 0, 0.15);\n",
              "      filter: drop-shadow(0px 1px 2px rgba(0, 0, 0, 0.3));\n",
              "      fill: #FFFFFF;\n",
              "    }\n",
              "  </style>\n",
              "\n",
              "      <script>\n",
              "        const buttonEl =\n",
              "          document.querySelector('#df-39e61d12-70f7-4118-980f-350279578e87 button.colab-df-convert');\n",
              "        buttonEl.style.display =\n",
              "          google.colab.kernel.accessAllowed ? 'block' : 'none';\n",
              "\n",
              "        async function convertToInteractive(key) {\n",
              "          const element = document.querySelector('#df-39e61d12-70f7-4118-980f-350279578e87');\n",
              "          const dataTable =\n",
              "            await google.colab.kernel.invokeFunction('convertToInteractive',\n",
              "                                                     [key], {});\n",
              "          if (!dataTable) return;\n",
              "\n",
              "          const docLinkHtml = 'Like what you see? Visit the ' +\n",
              "            '<a target=\"_blank\" href=https://colab.research.google.com/notebooks/data_table.ipynb>data table notebook</a>'\n",
              "            + ' to learn more about interactive tables.';\n",
              "          element.innerHTML = '';\n",
              "          dataTable['output_type'] = 'display_data';\n",
              "          await google.colab.output.renderOutput(dataTable, element);\n",
              "          const docLink = document.createElement('div');\n",
              "          docLink.innerHTML = docLinkHtml;\n",
              "          element.appendChild(docLink);\n",
              "        }\n",
              "      </script>\n",
              "    </div>\n",
              "  </div>\n",
              "  "
            ]
          },
          "metadata": {}
        }
      ]
    },
    {
      "cell_type": "code",
      "source": [
        "health = health[health['성별코드'].str.contains('M')] #남성 선택\n",
        "\n",
        "health.reset_index(drop=True, inplace=True)"
      ],
      "metadata": {
        "id": "fxISPO5BZ2VH"
      },
      "execution_count": 8,
      "outputs": []
    },
    {
      "cell_type": "code",
      "source": [
        "display(health.info()) "
      ],
      "metadata": {
        "colab": {
          "base_uri": "https://localhost:8080/",
          "height": 707
        },
        "id": "HzA2EqE5aERG",
        "outputId": "1f2268c7-1617-48d6-b204-00a36806d543"
      },
      "execution_count": 9,
      "outputs": [
        {
          "output_type": "stream",
          "name": "stdout",
          "text": [
            "<class 'pandas.core.frame.DataFrame'>\n",
            "RangeIndex: 5138 entries, 0 to 5137\n",
            "Data columns (total 30 columns):\n",
            " #   Column       Non-Null Count  Dtype  \n",
            "---  ------       --------------  -----  \n",
            " 0   기준년도         5138 non-null   int64  \n",
            " 1   시도코드         5138 non-null   int64  \n",
            " 2   성별코드         5138 non-null   object \n",
            " 3   연령대코드(5세단위)  5138 non-null   int64  \n",
            " 4   신장(5Cm단위)    5138 non-null   int64  \n",
            " 5   체중(5Kg 단위)   5138 non-null   int64  \n",
            " 6   허리둘레         5138 non-null   float64\n",
            " 7   시력(좌)        5138 non-null   float64\n",
            " 8   시력(우)        5138 non-null   float64\n",
            " 9   청력(좌)        5138 non-null   int64  \n",
            " 10  청력(우)        5138 non-null   int64  \n",
            " 11  수축기혈압        5104 non-null   float64\n",
            " 12  이완기혈압        5104 non-null   float64\n",
            " 13  식전혈당(공복혈당)   5104 non-null   float64\n",
            " 14  총콜레스테롤       2026 non-null   float64\n",
            " 15  트리글리세라이드     2026 non-null   float64\n",
            " 16  HDL콜레스테롤     2026 non-null   float64\n",
            " 17  LDL콜레스테롤     1970 non-null   float64\n",
            " 18  혈색소          5104 non-null   float64\n",
            " 19  요단백          5080 non-null   float64\n",
            " 20  혈청크레아티닌      5104 non-null   float64\n",
            " 21  (혈청지오티)AST   5104 non-null   float64\n",
            " 22  (혈청지오티)ALT   5104 non-null   float64\n",
            " 23  감마지티피        5104 non-null   float64\n",
            " 24  흡연상태         5137 non-null   object \n",
            " 25  음주여부         5138 non-null   object \n",
            " 26  구강검진수검여부     5138 non-null   int64  \n",
            " 27  치아우식증유무      1871 non-null   float64\n",
            " 28  치석           1871 non-null   float64\n",
            " 29  데이터공개일자      5138 non-null   object \n",
            "dtypes: float64(18), int64(8), object(4)\n",
            "memory usage: 1.2+ MB\n"
          ]
        },
        {
          "output_type": "display_data",
          "data": {
            "text/plain": [
              "None"
            ]
          },
          "metadata": {}
        }
      ]
    },
    {
      "cell_type": "code",
      "source": [
        "print(health.isnull().sum())"
      ],
      "metadata": {
        "colab": {
          "base_uri": "https://localhost:8080/"
        },
        "id": "zggeGRw8y1ka",
        "outputId": "375379be-3abe-403c-ae73-728b36673bb1"
      },
      "execution_count": 10,
      "outputs": [
        {
          "output_type": "stream",
          "name": "stdout",
          "text": [
            "기준년도              0\n",
            "시도코드              0\n",
            "성별코드              0\n",
            "연령대코드(5세단위)       0\n",
            "신장(5Cm단위)         0\n",
            "체중(5Kg 단위)        0\n",
            "허리둘레              0\n",
            "시력(좌)             0\n",
            "시력(우)             0\n",
            "청력(좌)             0\n",
            "청력(우)             0\n",
            "수축기혈압            34\n",
            "이완기혈압            34\n",
            "식전혈당(공복혈당)       34\n",
            "총콜레스테롤         3112\n",
            "트리글리세라이드       3112\n",
            "HDL콜레스테롤       3112\n",
            "LDL콜레스테롤       3168\n",
            "혈색소              34\n",
            "요단백              58\n",
            "혈청크레아티닌          34\n",
            "(혈청지오티)AST       34\n",
            "(혈청지오티)ALT       34\n",
            "감마지티피            34\n",
            "흡연상태              1\n",
            "음주여부              0\n",
            "구강검진수검여부          0\n",
            "치아우식증유무        3267\n",
            "치석             3267\n",
            "데이터공개일자           0\n",
            "dtype: int64\n"
          ]
        }
      ]
    },
    {
      "cell_type": "code",
      "source": [
        "# 결측치 행 전체 삭제\n",
        "health = health.dropna(axis=0)   #열삭제의 경우 axis =1 \n",
        "print(\"결측행 모두 제거: \", health.shape)    # 결측치 모두 없어졌는지 확인\n",
        "\n",
        "print(health.isnull().sum())"
      ],
      "metadata": {
        "colab": {
          "base_uri": "https://localhost:8080/"
        },
        "id": "tvJNzWIWzvhs",
        "outputId": "afbaeef9-79c8-4fc3-9298-7fce28b4e990"
      },
      "execution_count": 11,
      "outputs": [
        {
          "output_type": "stream",
          "name": "stdout",
          "text": [
            "결측행 모두 제거:  (677, 30)\n",
            "기준년도           0\n",
            "시도코드           0\n",
            "성별코드           0\n",
            "연령대코드(5세단위)    0\n",
            "신장(5Cm단위)      0\n",
            "체중(5Kg 단위)     0\n",
            "허리둘레           0\n",
            "시력(좌)          0\n",
            "시력(우)          0\n",
            "청력(좌)          0\n",
            "청력(우)          0\n",
            "수축기혈압          0\n",
            "이완기혈압          0\n",
            "식전혈당(공복혈당)     0\n",
            "총콜레스테롤         0\n",
            "트리글리세라이드       0\n",
            "HDL콜레스테롤       0\n",
            "LDL콜레스테롤       0\n",
            "혈색소            0\n",
            "요단백            0\n",
            "혈청크레아티닌        0\n",
            "(혈청지오티)AST     0\n",
            "(혈청지오티)ALT     0\n",
            "감마지티피          0\n",
            "흡연상태           0\n",
            "음주여부           0\n",
            "구강검진수검여부       0\n",
            "치아우식증유무        0\n",
            "치석             0\n",
            "데이터공개일자        0\n",
            "dtype: int64\n"
          ]
        }
      ]
    },
    {
      "cell_type": "code",
      "source": [
        "print(health['음주여부'].value_counts())\n",
        "\n",
        "health['음주여부'].value_counts().plot.bar()\n",
        "plt.ylabel('count')\n",
        "plt.title('Distribution of drink')\n",
        "plt.show()"
      ],
      "metadata": {
        "colab": {
          "base_uri": "https://localhost:8080/",
          "height": 341
        },
        "id": "F3Q_aq_J0l4M",
        "outputId": "669284b5-a8d7-434c-8640-5793efc5ae1b"
      },
      "execution_count": 12,
      "outputs": [
        {
          "output_type": "stream",
          "name": "stdout",
          "text": [
            "Yes    515\n",
            "No     162\n",
            "Name: 음주여부, dtype: int64\n"
          ]
        },
        {
          "output_type": "display_data",
          "data": {
            "text/plain": [
              "<Figure size 432x288 with 1 Axes>"
            ],
            "image/png": "[encoded data removed]"
          },
          "metadata": {
            "needs_background": "light"
          }
        }
      ]
    },
    {
      "cell_type": "code",
      "source": [
        "print(health['성별코드'].value_counts())\n",
        "\n",
        "health['성별코드'].value_counts().plot.bar()\n",
        "plt.ylabel('count')\n",
        "plt.title('Distribution of gender')\n",
        "plt.show()"
      ],
      "metadata": {
        "colab": {
          "base_uri": "https://localhost:8080/",
          "height": 316
        },
        "id": "fTi-slEq0vTg",
        "outputId": "b008e353-cd92-4cf9-c0b0-441847e6130f"
      },
      "execution_count": 13,
      "outputs": [
        {
          "output_type": "stream",
          "name": "stdout",
          "text": [
            "M    677\n",
            "Name: 성별코드, dtype: int64\n"
          ]
        },
        {
          "output_type": "display_data",
          "data": {
            "text/plain": [
              "<Figure size 432x288 with 1 Axes>"
            ],
            "image/png": "[encoded data removed]"
          },
          "metadata": {
            "needs_background": "light"
          }
        }
      ]
    },
    {
      "cell_type": "code",
      "source": [
        "mglearn.discrete_scatter(health['식전혈당(공복혈당)'], health['총콜레스테롤'], health['음주여부'])\n",
        "plt.xlabel(\"fasting blood sugar level\")\n",
        "plt.ylabel(\"cholesterol\") \n",
        "plt.legend()\n",
        "plt.show()"
      ],
      "metadata": {
        "colab": {
          "base_uri": "https://localhost:8080/",
          "height": 280
        },
        "id": "CSnwpfI40zmF",
        "outputId": "4a009ab1-8228-44e0-a7d6-726d2e7d0a3b"
      },
      "execution_count": 14,
      "outputs": [
        {
          "output_type": "display_data",
          "data": {
            "text/plain": [
              "<Figure size 432x288 with 1 Axes>"
            ],
            "image/png": "[encoded data removed]"
          },
          "metadata": {
            "needs_background": "light"
          }
        }
      ]
    },
    {
      "cell_type": "markdown",
      "source": [
        "# 분류모델 만들기"
      ],
      "metadata": {
        "id": "2EbjzR-sXjnJ"
      }
    },
    {
      "cell_type": "markdown",
      "source": [
        "## 의사결정나무 모델"
      ],
      "metadata": {
        "id": "OblubnHe2Qkj"
      }
    },
    {
      "cell_type": "code",
      "source": [
        "from sklearn.tree import DecisionTreeClassifier\n",
        "from sklearn.model_selection import train_test_split\n",
        "\n",
        "X = health.iloc[:, [13, 14, 15, 16, 17, 18, 19, 20, 21, 22, 23]]  # 11개 변수 \n",
        "y = health.iloc[:, 25]   # target 변수 음주여부,,,?성별코드,,? 일단 성별코드로 설정\n",
        "\n",
        "# 데이터셋을 학습(train)과 테스트(test) 세트로 분할\n",
        "# random_state : random 으로 분할시 사용되는 난수 seed 숫자\n",
        "#X_train, X_test, y_train, y_test = train_test_split(X, y, test_size = 0.25, stratify=y, random_state=42)\n",
        "\n",
        "X_train, X_test, y_train, y_test = train_test_split(X, y, test_size = 0.25, random_state=42)\n",
        "\n",
        "tree = DecisionTreeClassifier(random_state=0)  \n",
        "tree.fit(X_train, y_train)  #(학습용 데이터 작성)\n",
        "print(\"학습용 데이터 정확도: {:.3f}\".format(tree.score(X_train, y_train)))\n",
        "print(\"시험용 데이터 정확도: {:.3f}\".format(tree.score(X_test, y_test)))"
      ],
      "metadata": {
        "colab": {
          "base_uri": "https://localhost:8080/"
        },
        "id": "vrBQBqvv11nq",
        "outputId": "f4366653-219b-4ca8-e858-3ed198c8d544"
      },
      "execution_count": 15,
      "outputs": [
        {
          "output_type": "stream",
          "name": "stdout",
          "text": [
            "학습용 데이터 정확도: 1.000\n",
            "시험용 데이터 정확도: 0.671\n"
          ]
        }
      ]
    },
    {
      "cell_type": "code",
      "source": [
        "# 의사결정나무의 깊이를 4로 제한하면 시험용 데이터에 대한 성능이 향상됨 (과적합을 줄임)\n",
        "# 과적합(overfitting): 학습용 데이터에 대해서만 성능이 좋고 새로운 데이터에 적용했을 경우에는 성능이 좋지 않은 경우\n",
        "tree = DecisionTreeClassifier(max_depth=4, random_state=0)\n",
        "tree.fit(X_train, y_train)\n",
        "\n",
        "print(\"학습용 데이터 정확도: {:.3f}\".format(tree.score(X_train, y_train)))\n",
        "print(\"시험용 데이터 정확도: {:.3f}\".format(tree.score(X_test, y_test)))"
      ],
      "metadata": {
        "colab": {
          "base_uri": "https://localhost:8080/"
        },
        "id": "rfRNufjf2WXQ",
        "outputId": "c3f4f516-522f-462e-82a1-e25c4455c2df"
      },
      "execution_count": 16,
      "outputs": [
        {
          "output_type": "stream",
          "name": "stdout",
          "text": [
            "학습용 데이터 정확도: 0.805\n",
            "시험용 데이터 정확도: 0.747\n"
          ]
        }
      ]
    },
    {
      "cell_type": "code",
      "source": [
        "#graphviz 라이브러리를 이용하여 의사결정나무 그리기 \n",
        "from sklearn.tree import export_graphviz\n",
        "import graphviz\n",
        "\n",
        "# filled = True: 색상의 진하기로 클래스를 나타냄, impurity: 불순도 계산값 보여주기 옵션\n",
        "export_graphviz(tree, out_file=\"tree.dot\", class_names=[ \"음주 No\", \"음주 Yes\"],\n",
        "                feature_names=health.columns[[13, 14, 15, 16, 17, 18, 19, 20, 21, 22, 23]], impurity=False, filled=True)\n",
        "\n",
        "with open(\"tree.dot\") as f:\n",
        "    dot_graph = f.read()\n",
        "\n",
        "display(graphviz.Source(dot_graph))\n",
        "\n",
        "#(어떤 순서로 중요한지 확인 가능)"
      ],
      "metadata": {
        "colab": {
          "base_uri": "https://localhost:8080/",
          "height": 676
        },
        "id": "6_aslBS_2ZR4",
        "outputId": "7f092b33-bb43-4512-d05d-8af86fdb543d"
      },
      "execution_count": 17,
      "outputs": [
        {
          "output_type": "display_data",
          "data": {
            "text/plain": [
              "<graphviz.files.Source at 0x7f869e5fffd0>"
            ],
            "image/svg+xml": "<?xml version=\"1.0\" encoding=\"UTF-8\" standalone=\"no\"?>\n<!DOCTYPE svg PUBLIC \"-//W3C//DTD SVG 1.1//EN\"\n \"http://www.w3.org/Graphics/SVG/1.1/DTD/svg11.dtd\">\n<!-- Generated by graphviz version 2.40.1 (20161225.0304)\n -->\n<!-- Title: Tree Pages: 1 -->\n<svg width=\"2201pt\" height=\"477pt\"\n viewBox=\"0.00 0.00 2201.00 477.00\" xmlns=\"http://www.w3.org/2000/svg\" xmlns:xlink=\"http://www.w3.org/1999/xlink\">\n<g id=\"graph0\" class=\"graph\" transform=\"scale(1 1) rotate(0) translate(4 473)\">\n<title>Tree</title>\n<polygon fill=\"#ffffff\" stroke=\"transparent\" points=\"-4,4 -4,-473 2197,-473 2197,4 -4,4\"/>\n<!-- 0 -->\n<g id=\"node1\" class=\"node\">\n<title>0</title>\n<polygon fill=\"#78bced\" stroke=\"#000000\" points=\"1167.5,-469 1009.5,-469 1009.5,-401 1167.5,-401 1167.5,-469\"/>\n<text text-anchor=\"middle\" x=\"1088.5\" y=\"-453.8\" font-family=\"Helvetica,sans-Serif\" font-size=\"14.00\" fill=\"#000000\">총콜레스테롤 &lt;= 212.5</text>\n<text text-anchor=\"middle\" x=\"1088.5\" y=\"-438.8\" font-family=\"Helvetica,sans-Serif\" font-size=\"14.00\" fill=\"#000000\">samples = 507</text>\n<text text-anchor=\"middle\" x=\"1088.5\" y=\"-423.8\" font-family=\"Helvetica,sans-Serif\" font-size=\"14.00\" fill=\"#000000\">value = [122, 385]</text>\n<text text-anchor=\"middle\" x=\"1088.5\" y=\"-408.8\" font-family=\"Helvetica,sans-Serif\" font-size=\"14.00\" fill=\"#000000\">class = 음주 Yes</text>\n</g>\n<!-- 1 -->\n<g id=\"node2\" class=\"node\">\n<title>1</title>\n<polygon fill=\"#8cc6f0\" stroke=\"#000000\" points=\"905.5,-365 731.5,-365 731.5,-297 905.5,-297 905.5,-365\"/>\n<text text-anchor=\"middle\" x=\"818.5\" y=\"-349.8\" font-family=\"Helvetica,sans-Serif\" font-size=\"14.00\" fill=\"#000000\">(혈청지오티)AST &lt;= 26.5</text>\n<text text-anchor=\"middle\" x=\"818.5\" y=\"-334.8\" font-family=\"Helvetica,sans-Serif\" font-size=\"14.00\" fill=\"#000000\">samples = 318</text>\n<text text-anchor=\"middle\" x=\"818.5\" y=\"-319.8\" font-family=\"Helvetica,sans-Serif\" font-size=\"14.00\" fill=\"#000000\">value = [94, 224]</text>\n<text text-anchor=\"middle\" x=\"818.5\" y=\"-304.8\" font-family=\"Helvetica,sans-Serif\" font-size=\"14.00\" fill=\"#000000\">class = 음주 Yes</text>\n</g>\n<!-- 0&#45;&gt;1 -->\n<g id=\"edge1\" class=\"edge\">\n<title>0&#45;&gt;1</title>\n<path fill=\"none\" stroke=\"#000000\" d=\"M1009.3154,-404.4993C979.8431,-393.147 946.063,-380.1354 915.1958,-368.2458\"/>\n<polygon fill=\"#000000\" stroke=\"#000000\" points=\"916.3075,-364.9234 905.7178,-364.595 913.7914,-371.4556 916.3075,-364.9234\"/>\n<text text-anchor=\"middle\" x=\"915.8599\" y=\"-383.7453\" font-family=\"Helvetica,sans-Serif\" font-size=\"14.00\" fill=\"#000000\">True</text>\n</g>\n<!-- 16 -->\n<g id=\"node17\" class=\"node\">\n<title>16</title>\n<polygon fill=\"#5baeea\" stroke=\"#000000\" points=\"1456.5,-365 1284.5,-365 1284.5,-297 1456.5,-297 1456.5,-365\"/>\n<text text-anchor=\"middle\" x=\"1370.5\" y=\"-349.8\" font-family=\"Helvetica,sans-Serif\" font-size=\"14.00\" fill=\"#000000\">(혈청지오티)ALT &lt;= 23.5</text>\n<text text-anchor=\"middle\" x=\"1370.5\" y=\"-334.8\" font-family=\"Helvetica,sans-Serif\" font-size=\"14.00\" fill=\"#000000\">samples = 189</text>\n<text text-anchor=\"middle\" x=\"1370.5\" y=\"-319.8\" font-family=\"Helvetica,sans-Serif\" font-size=\"14.00\" fill=\"#000000\">value = [28, 161]</text>\n<text text-anchor=\"middle\" x=\"1370.5\" y=\"-304.8\" font-family=\"Helvetica,sans-Serif\" font-size=\"14.00\" fill=\"#000000\">class = 음주 Yes</text>\n</g>\n<!-- 0&#45;&gt;16 -->\n<g id=\"edge16\" class=\"edge\">\n<title>0&#45;&gt;16</title>\n<path fill=\"none\" stroke=\"#000000\" d=\"M1167.8032,-405.7534C1201.0096,-393.5071 1239.9028,-379.1635 1274.6916,-366.3336\"/>\n<polygon fill=\"#000000\" stroke=\"#000000\" points=\"1276.2157,-369.502 1284.3869,-362.758 1273.7935,-362.9344 1276.2157,-369.502\"/>\n<text text-anchor=\"middle\" x=\"1273.9179\" y=\"-381.7604\" font-family=\"Helvetica,sans-Serif\" font-size=\"14.00\" fill=\"#000000\">False</text>\n</g>\n<!-- 2 -->\n<g id=\"node3\" class=\"node\">\n<title>2</title>\n<polygon fill=\"#74baed\" stroke=\"#000000\" points=\"476.5,-261 352.5,-261 352.5,-193 476.5,-193 476.5,-261\"/>\n<text text-anchor=\"middle\" x=\"414.5\" y=\"-245.8\" font-family=\"Helvetica,sans-Serif\" font-size=\"14.00\" fill=\"#000000\">혈색소 &lt;= 13.65</text>\n<text text-anchor=\"middle\" x=\"414.5\" y=\"-230.8\" font-family=\"Helvetica,sans-Serif\" font-size=\"14.00\" fill=\"#000000\">samples = 196</text>\n<text text-anchor=\"middle\" x=\"414.5\" y=\"-215.8\" font-family=\"Helvetica,sans-Serif\" font-size=\"14.00\" fill=\"#000000\">value = [45, 151]</text>\n<text text-anchor=\"middle\" x=\"414.5\" y=\"-200.8\" font-family=\"Helvetica,sans-Serif\" font-size=\"14.00\" fill=\"#000000\">class = 음주 Yes</text>\n</g>\n<!-- 1&#45;&gt;2 -->\n<g id=\"edge2\" class=\"edge\">\n<title>1&#45;&gt;2</title>\n<path fill=\"none\" stroke=\"#000000\" d=\"M731.3354,-308.5616C658.1548,-289.723 554.8636,-263.1332 486.354,-245.4971\"/>\n<polygon fill=\"#000000\" stroke=\"#000000\" points=\"487.0629,-242.0655 476.5061,-242.962 485.3178,-248.8445 487.0629,-242.0655\"/>\n</g>\n<!-- 9 -->\n<g id=\"node10\" class=\"node\">\n<title>9</title>\n<polygon fill=\"#bedff6\" stroke=\"#000000\" points=\"887,-261 750,-261 750,-193 887,-193 887,-261\"/>\n<text text-anchor=\"middle\" x=\"818.5\" y=\"-245.8\" font-family=\"Helvetica,sans-Serif\" font-size=\"14.00\" fill=\"#000000\">감마지티피 &lt;= 26.5</text>\n<text text-anchor=\"middle\" x=\"818.5\" y=\"-230.8\" font-family=\"Helvetica,sans-Serif\" font-size=\"14.00\" fill=\"#000000\">samples = 122</text>\n<text text-anchor=\"middle\" x=\"818.5\" y=\"-215.8\" font-family=\"Helvetica,sans-Serif\" font-size=\"14.00\" fill=\"#000000\">value = [49, 73]</text>\n<text text-anchor=\"middle\" x=\"818.5\" y=\"-200.8\" font-family=\"Helvetica,sans-Serif\" font-size=\"14.00\" fill=\"#000000\">class = 음주 Yes</text>\n</g>\n<!-- 1&#45;&gt;9 -->\n<g id=\"edge9\" class=\"edge\">\n<title>1&#45;&gt;9</title>\n<path fill=\"none\" stroke=\"#000000\" d=\"M818.5,-296.9465C818.5,-288.776 818.5,-279.9318 818.5,-271.3697\"/>\n<polygon fill=\"#000000\" stroke=\"#000000\" points=\"822.0001,-271.13 818.5,-261.13 815.0001,-271.13 822.0001,-271.13\"/>\n</g>\n<!-- 3 -->\n<g id=\"node4\" class=\"node\">\n<title>3</title>\n<polygon fill=\"#ffffff\" stroke=\"#000000\" points=\"266,-157 129,-157 129,-89 266,-89 266,-157\"/>\n<text text-anchor=\"middle\" x=\"197.5\" y=\"-141.8\" font-family=\"Helvetica,sans-Serif\" font-size=\"14.00\" fill=\"#000000\">감마지티피 &lt;= 16.5</text>\n<text text-anchor=\"middle\" x=\"197.5\" y=\"-126.8\" font-family=\"Helvetica,sans-Serif\" font-size=\"14.00\" fill=\"#000000\">samples = 22</text>\n<text text-anchor=\"middle\" x=\"197.5\" y=\"-111.8\" font-family=\"Helvetica,sans-Serif\" font-size=\"14.00\" fill=\"#000000\">value = [11, 11]</text>\n<text text-anchor=\"middle\" x=\"197.5\" y=\"-96.8\" font-family=\"Helvetica,sans-Serif\" font-size=\"14.00\" fill=\"#000000\">class = 음주 No</text>\n</g>\n<!-- 2&#45;&gt;3 -->\n<g id=\"edge3\" class=\"edge\">\n<title>2&#45;&gt;3</title>\n<path fill=\"none\" stroke=\"#000000\" d=\"M352.3165,-197.1978C328.3349,-185.7043 300.6369,-172.4297 275.3567,-160.3138\"/>\n<polygon fill=\"#000000\" stroke=\"#000000\" points=\"276.6942,-157.0736 266.1636,-155.9079 273.6688,-163.3861 276.6942,-157.0736\"/>\n</g>\n<!-- 6 -->\n<g id=\"node7\" class=\"node\">\n<title>6</title>\n<polygon fill=\"#69b5eb\" stroke=\"#000000\" points=\"483,-157 346,-157 346,-89 483,-89 483,-157\"/>\n<text text-anchor=\"middle\" x=\"414.5\" y=\"-141.8\" font-family=\"Helvetica,sans-Serif\" font-size=\"14.00\" fill=\"#000000\">감마지티피 &lt;= 52.0</text>\n<text text-anchor=\"middle\" x=\"414.5\" y=\"-126.8\" font-family=\"Helvetica,sans-Serif\" font-size=\"14.00\" fill=\"#000000\">samples = 174</text>\n<text text-anchor=\"middle\" x=\"414.5\" y=\"-111.8\" font-family=\"Helvetica,sans-Serif\" font-size=\"14.00\" fill=\"#000000\">value = [34, 140]</text>\n<text text-anchor=\"middle\" x=\"414.5\" y=\"-96.8\" font-family=\"Helvetica,sans-Serif\" font-size=\"14.00\" fill=\"#000000\">class = 음주 Yes</text>\n</g>\n<!-- 2&#45;&gt;6 -->\n<g id=\"edge6\" class=\"edge\">\n<title>2&#45;&gt;6</title>\n<path fill=\"none\" stroke=\"#000000\" d=\"M414.5,-192.9465C414.5,-184.776 414.5,-175.9318 414.5,-167.3697\"/>\n<polygon fill=\"#000000\" stroke=\"#000000\" points=\"418.0001,-167.13 414.5,-157.13 411.0001,-167.13 418.0001,-167.13\"/>\n</g>\n<!-- 4 -->\n<g id=\"node5\" class=\"node\">\n<title>4</title>\n<polygon fill=\"#61b1ea\" stroke=\"#000000\" points=\"121,-53 0,-53 0,0 121,0 121,-53\"/>\n<text text-anchor=\"middle\" x=\"60.5\" y=\"-37.8\" font-family=\"Helvetica,sans-Serif\" font-size=\"14.00\" fill=\"#000000\">samples = 6</text>\n<text text-anchor=\"middle\" x=\"60.5\" y=\"-22.8\" font-family=\"Helvetica,sans-Serif\" font-size=\"14.00\" fill=\"#000000\">value = [1, 5]</text>\n<text text-anchor=\"middle\" x=\"60.5\" y=\"-7.8\" font-family=\"Helvetica,sans-Serif\" font-size=\"14.00\" fill=\"#000000\">class = 음주 Yes</text>\n</g>\n<!-- 3&#45;&gt;4 -->\n<g id=\"edge4\" class=\"edge\">\n<title>3&#45;&gt;4</title>\n<path fill=\"none\" stroke=\"#000000\" d=\"M149.1989,-88.9777C135.4189,-79.2713 120.4411,-68.7213 106.7845,-59.1018\"/>\n<polygon fill=\"#000000\" stroke=\"#000000\" points=\"108.6655,-56.1457 98.4745,-53.2485 104.6345,-61.8686 108.6655,-56.1457\"/>\n</g>\n<!-- 5 -->\n<g id=\"node6\" class=\"node\">\n<title>5</title>\n<polygon fill=\"#f5cdb0\" stroke=\"#000000\" points=\"255.5,-53 139.5,-53 139.5,0 255.5,0 255.5,-53\"/>\n<text text-anchor=\"middle\" x=\"197.5\" y=\"-37.8\" font-family=\"Helvetica,sans-Serif\" font-size=\"14.00\" fill=\"#000000\">samples = 16</text>\n<text text-anchor=\"middle\" x=\"197.5\" y=\"-22.8\" font-family=\"Helvetica,sans-Serif\" font-size=\"14.00\" fill=\"#000000\">value = [10, 6]</text>\n<text text-anchor=\"middle\" x=\"197.5\" y=\"-7.8\" font-family=\"Helvetica,sans-Serif\" font-size=\"14.00\" fill=\"#000000\">class = 음주 No</text>\n</g>\n<!-- 3&#45;&gt;5 -->\n<g id=\"edge5\" class=\"edge\">\n<title>3&#45;&gt;5</title>\n<path fill=\"none\" stroke=\"#000000\" d=\"M197.5,-88.9777C197.5,-80.7364 197.5,-71.887 197.5,-63.5153\"/>\n<polygon fill=\"#000000\" stroke=\"#000000\" points=\"201.0001,-63.2484 197.5,-53.2485 194.0001,-63.2485 201.0001,-63.2484\"/>\n</g>\n<!-- 7 -->\n<g id=\"node8\" class=\"node\">\n<title>7</title>\n<polygon fill=\"#72b9ec\" stroke=\"#000000\" points=\"397.5,-53 273.5,-53 273.5,0 397.5,0 397.5,-53\"/>\n<text text-anchor=\"middle\" x=\"335.5\" y=\"-37.8\" font-family=\"Helvetica,sans-Serif\" font-size=\"14.00\" fill=\"#000000\">samples = 153</text>\n<text text-anchor=\"middle\" x=\"335.5\" y=\"-22.8\" font-family=\"Helvetica,sans-Serif\" font-size=\"14.00\" fill=\"#000000\">value = [34, 119]</text>\n<text text-anchor=\"middle\" x=\"335.5\" y=\"-7.8\" font-family=\"Helvetica,sans-Serif\" font-size=\"14.00\" fill=\"#000000\">class = 음주 Yes</text>\n</g>\n<!-- 6&#45;&gt;7 -->\n<g id=\"edge7\" class=\"edge\">\n<title>6&#45;&gt;7</title>\n<path fill=\"none\" stroke=\"#000000\" d=\"M386.6476,-88.9777C379.2261,-79.9123 371.2023,-70.111 363.7593,-61.0192\"/>\n<polygon fill=\"#000000\" stroke=\"#000000\" points=\"366.4405,-58.7692 357.3977,-53.2485 361.0241,-63.2034 366.4405,-58.7692\"/>\n</g>\n<!-- 8 -->\n<g id=\"node9\" class=\"node\">\n<title>8</title>\n<polygon fill=\"#399de5\" stroke=\"#000000\" points=\"537,-53 416,-53 416,0 537,0 537,-53\"/>\n<text text-anchor=\"middle\" x=\"476.5\" y=\"-37.8\" font-family=\"Helvetica,sans-Serif\" font-size=\"14.00\" fill=\"#000000\">samples = 21</text>\n<text text-anchor=\"middle\" x=\"476.5\" y=\"-22.8\" font-family=\"Helvetica,sans-Serif\" font-size=\"14.00\" fill=\"#000000\">value = [0, 21]</text>\n<text text-anchor=\"middle\" x=\"476.5\" y=\"-7.8\" font-family=\"Helvetica,sans-Serif\" font-size=\"14.00\" fill=\"#000000\">class = 음주 Yes</text>\n</g>\n<!-- 6&#45;&gt;8 -->\n<g id=\"edge8\" class=\"edge\">\n<title>6&#45;&gt;8</title>\n<path fill=\"none\" stroke=\"#000000\" d=\"M436.3589,-88.9777C442.0068,-80.187 448.0993,-70.7044 453.7896,-61.8477\"/>\n<polygon fill=\"#000000\" stroke=\"#000000\" points=\"456.8537,-63.5536 459.3144,-53.2485 450.9644,-59.7698 456.8537,-63.5536\"/>\n</g>\n<!-- 10 -->\n<g id=\"node11\" class=\"node\">\n<title>10</title>\n<polygon fill=\"#f5cdb0\" stroke=\"#000000\" points=\"820.5,-157 654.5,-157 654.5,-89 820.5,-89 820.5,-157\"/>\n<text text-anchor=\"middle\" x=\"737.5\" y=\"-141.8\" font-family=\"Helvetica,sans-Serif\" font-size=\"14.00\" fill=\"#000000\">HDL콜레스테롤 &lt;= 51.5</text>\n<text text-anchor=\"middle\" x=\"737.5\" y=\"-126.8\" font-family=\"Helvetica,sans-Serif\" font-size=\"14.00\" fill=\"#000000\">samples = 32</text>\n<text text-anchor=\"middle\" x=\"737.5\" y=\"-111.8\" font-family=\"Helvetica,sans-Serif\" font-size=\"14.00\" fill=\"#000000\">value = [20, 12]</text>\n<text text-anchor=\"middle\" x=\"737.5\" y=\"-96.8\" font-family=\"Helvetica,sans-Serif\" font-size=\"14.00\" fill=\"#000000\">class = 음주 No</text>\n</g>\n<!-- 9&#45;&gt;10 -->\n<g id=\"edge10\" class=\"edge\">\n<title>9&#45;&gt;10</title>\n<path fill=\"none\" stroke=\"#000000\" d=\"M791.9776,-192.9465C785.0546,-184.0578 777.5106,-174.3716 770.304,-165.1188\"/>\n<polygon fill=\"#000000\" stroke=\"#000000\" points=\"772.988,-162.8688 764.082,-157.13 767.4654,-167.1701 772.988,-162.8688\"/>\n</g>\n<!-- 13 -->\n<g id=\"node14\" class=\"node\">\n<title>13</title>\n<polygon fill=\"#97ccf1\" stroke=\"#000000\" points=\"960,-157 839,-157 839,-89 960,-89 960,-157\"/>\n<text text-anchor=\"middle\" x=\"899.5\" y=\"-141.8\" font-family=\"Helvetica,sans-Serif\" font-size=\"14.00\" fill=\"#000000\">혈색소 &lt;= 11.5</text>\n<text text-anchor=\"middle\" x=\"899.5\" y=\"-126.8\" font-family=\"Helvetica,sans-Serif\" font-size=\"14.00\" fill=\"#000000\">samples = 90</text>\n<text text-anchor=\"middle\" x=\"899.5\" y=\"-111.8\" font-family=\"Helvetica,sans-Serif\" font-size=\"14.00\" fill=\"#000000\">value = [29, 61]</text>\n<text text-anchor=\"middle\" x=\"899.5\" y=\"-96.8\" font-family=\"Helvetica,sans-Serif\" font-size=\"14.00\" fill=\"#000000\">class = 음주 Yes</text>\n</g>\n<!-- 9&#45;&gt;13 -->\n<g id=\"edge13\" class=\"edge\">\n<title>9&#45;&gt;13</title>\n<path fill=\"none\" stroke=\"#000000\" d=\"M845.0224,-192.9465C851.9454,-184.0578 859.4894,-174.3716 866.696,-165.1188\"/>\n<polygon fill=\"#000000\" stroke=\"#000000\" points=\"869.5346,-167.1701 872.918,-157.13 864.012,-162.8688 869.5346,-167.1701\"/>\n</g>\n<!-- 11 -->\n<g id=\"node12\" class=\"node\">\n<title>11</title>\n<polygon fill=\"#ea995e\" stroke=\"#000000\" points=\"671.5,-53 555.5,-53 555.5,0 671.5,0 671.5,-53\"/>\n<text text-anchor=\"middle\" x=\"613.5\" y=\"-37.8\" font-family=\"Helvetica,sans-Serif\" font-size=\"14.00\" fill=\"#000000\">samples = 19</text>\n<text text-anchor=\"middle\" x=\"613.5\" y=\"-22.8\" font-family=\"Helvetica,sans-Serif\" font-size=\"14.00\" fill=\"#000000\">value = [16, 3]</text>\n<text text-anchor=\"middle\" x=\"613.5\" y=\"-7.8\" font-family=\"Helvetica,sans-Serif\" font-size=\"14.00\" fill=\"#000000\">class = 음주 No</text>\n</g>\n<!-- 10&#45;&gt;11 -->\n<g id=\"edge11\" class=\"edge\">\n<title>10&#45;&gt;11</title>\n<path fill=\"none\" stroke=\"#000000\" d=\"M693.7822,-88.9777C681.5451,-79.4545 668.2645,-69.1191 656.0934,-59.6473\"/>\n<polygon fill=\"#000000\" stroke=\"#000000\" points=\"657.9125,-56.628 647.8711,-53.2485 653.6134,-62.1523 657.9125,-56.628\"/>\n</g>\n<!-- 12 -->\n<g id=\"node13\" class=\"node\">\n<title>12</title>\n<polygon fill=\"#91c9f1\" stroke=\"#000000\" points=\"811,-53 690,-53 690,0 811,0 811,-53\"/>\n<text text-anchor=\"middle\" x=\"750.5\" y=\"-37.8\" font-family=\"Helvetica,sans-Serif\" font-size=\"14.00\" fill=\"#000000\">samples = 13</text>\n<text text-anchor=\"middle\" x=\"750.5\" y=\"-22.8\" font-family=\"Helvetica,sans-Serif\" font-size=\"14.00\" fill=\"#000000\">value = [4, 9]</text>\n<text text-anchor=\"middle\" x=\"750.5\" y=\"-7.8\" font-family=\"Helvetica,sans-Serif\" font-size=\"14.00\" fill=\"#000000\">class = 음주 Yes</text>\n</g>\n<!-- 10&#45;&gt;12 -->\n<g id=\"edge12\" class=\"edge\">\n<title>10&#45;&gt;12</title>\n<path fill=\"none\" stroke=\"#000000\" d=\"M742.0833,-88.9777C743.2059,-80.6449 744.4122,-71.6903 745.551,-63.2364\"/>\n<polygon fill=\"#000000\" stroke=\"#000000\" points=\"749.0301,-63.6263 746.8966,-53.2485 742.0927,-62.6916 749.0301,-63.6263\"/>\n</g>\n<!-- 14 -->\n<g id=\"node15\" class=\"node\">\n<title>14</title>\n<polygon fill=\"#e58139\" stroke=\"#000000\" points=\"945.5,-53 829.5,-53 829.5,0 945.5,0 945.5,-53\"/>\n<text text-anchor=\"middle\" x=\"887.5\" y=\"-37.8\" font-family=\"Helvetica,sans-Serif\" font-size=\"14.00\" fill=\"#000000\">samples = 2</text>\n<text text-anchor=\"middle\" x=\"887.5\" y=\"-22.8\" font-family=\"Helvetica,sans-Serif\" font-size=\"14.00\" fill=\"#000000\">value = [2, 0]</text>\n<text text-anchor=\"middle\" x=\"887.5\" y=\"-7.8\" font-family=\"Helvetica,sans-Serif\" font-size=\"14.00\" fill=\"#000000\">class = 음주 No</text>\n</g>\n<!-- 13&#45;&gt;14 -->\n<g id=\"edge14\" class=\"edge\">\n<title>13&#45;&gt;14</title>\n<path fill=\"none\" stroke=\"#000000\" d=\"M895.2692,-88.9777C894.233,-80.6449 893.1195,-71.6903 892.0683,-63.2364\"/>\n<polygon fill=\"#000000\" stroke=\"#000000\" points=\"895.5336,-62.7401 890.8262,-53.2485 888.5871,-63.604 895.5336,-62.7401\"/>\n</g>\n<!-- 15 -->\n<g id=\"node16\" class=\"node\">\n<title>15</title>\n<polygon fill=\"#91c8f1\" stroke=\"#000000\" points=\"1085,-53 964,-53 964,0 1085,0 1085,-53\"/>\n<text text-anchor=\"middle\" x=\"1024.5\" y=\"-37.8\" font-family=\"Helvetica,sans-Serif\" font-size=\"14.00\" fill=\"#000000\">samples = 88</text>\n<text text-anchor=\"middle\" x=\"1024.5\" y=\"-22.8\" font-family=\"Helvetica,sans-Serif\" font-size=\"14.00\" fill=\"#000000\">value = [27, 61]</text>\n<text text-anchor=\"middle\" x=\"1024.5\" y=\"-7.8\" font-family=\"Helvetica,sans-Serif\" font-size=\"14.00\" fill=\"#000000\">class = 음주 Yes</text>\n</g>\n<!-- 13&#45;&gt;15 -->\n<g id=\"edge15\" class=\"edge\">\n<title>13&#45;&gt;15</title>\n<path fill=\"none\" stroke=\"#000000\" d=\"M943.5703,-88.9777C956.0248,-79.3629 969.5515,-68.9203 981.9167,-59.3743\"/>\n<polygon fill=\"#000000\" stroke=\"#000000\" points=\"984.0749,-62.1299 989.8517,-53.2485 979.7972,-56.5889 984.0749,-62.1299\"/>\n</g>\n<!-- 17 -->\n<g id=\"node18\" class=\"node\">\n<title>17</title>\n<polygon fill=\"#72b9ed\" stroke=\"#000000\" points=\"1456.5,-261 1284.5,-261 1284.5,-193 1456.5,-193 1456.5,-261\"/>\n<text text-anchor=\"middle\" x=\"1370.5\" y=\"-245.8\" font-family=\"Helvetica,sans-Serif\" font-size=\"14.00\" fill=\"#000000\">(혈청지오티)ALT &lt;= 22.5</text>\n<text text-anchor=\"middle\" x=\"1370.5\" y=\"-230.8\" font-family=\"Helvetica,sans-Serif\" font-size=\"14.00\" fill=\"#000000\">samples = 80</text>\n<text text-anchor=\"middle\" x=\"1370.5\" y=\"-215.8\" font-family=\"Helvetica,sans-Serif\" font-size=\"14.00\" fill=\"#000000\">value = [18, 62]</text>\n<text text-anchor=\"middle\" x=\"1370.5\" y=\"-200.8\" font-family=\"Helvetica,sans-Serif\" font-size=\"14.00\" fill=\"#000000\">class = 음주 Yes</text>\n</g>\n<!-- 16&#45;&gt;17 -->\n<g id=\"edge17\" class=\"edge\">\n<title>16&#45;&gt;17</title>\n<path fill=\"none\" stroke=\"#000000\" d=\"M1370.5,-296.9465C1370.5,-288.776 1370.5,-279.9318 1370.5,-271.3697\"/>\n<polygon fill=\"#000000\" stroke=\"#000000\" points=\"1374.0001,-271.13 1370.5,-261.13 1367.0001,-271.13 1374.0001,-271.13\"/>\n</g>\n<!-- 24 -->\n<g id=\"node25\" class=\"node\">\n<title>24</title>\n<polygon fill=\"#4da7e8\" stroke=\"#000000\" points=\"1830,-261 1709,-261 1709,-193 1830,-193 1830,-261\"/>\n<text text-anchor=\"middle\" x=\"1769.5\" y=\"-245.8\" font-family=\"Helvetica,sans-Serif\" font-size=\"14.00\" fill=\"#000000\">혈색소 &lt;= 16.35</text>\n<text text-anchor=\"middle\" x=\"1769.5\" y=\"-230.8\" font-family=\"Helvetica,sans-Serif\" font-size=\"14.00\" fill=\"#000000\">samples = 109</text>\n<text text-anchor=\"middle\" x=\"1769.5\" y=\"-215.8\" font-family=\"Helvetica,sans-Serif\" font-size=\"14.00\" fill=\"#000000\">value = [10, 99]</text>\n<text text-anchor=\"middle\" x=\"1769.5\" y=\"-200.8\" font-family=\"Helvetica,sans-Serif\" font-size=\"14.00\" fill=\"#000000\">class = 음주 Yes</text>\n</g>\n<!-- 16&#45;&gt;24 -->\n<g id=\"edge24\" class=\"edge\">\n<title>16&#45;&gt;24</title>\n<path fill=\"none\" stroke=\"#000000\" d=\"M1456.5858,-308.5616C1529.0791,-289.6661 1631.4903,-262.9725 1699.1476,-245.3375\"/>\n<polygon fill=\"#000000\" stroke=\"#000000\" points=\"1700.0761,-248.7125 1708.87,-242.8033 1698.3105,-241.9388 1700.0761,-248.7125\"/>\n</g>\n<!-- 18 -->\n<g id=\"node19\" class=\"node\">\n<title>18</title>\n<polygon fill=\"#64b2eb\" stroke=\"#000000\" points=\"1370.5,-157 1198.5,-157 1198.5,-89 1370.5,-89 1370.5,-157\"/>\n<text text-anchor=\"middle\" x=\"1284.5\" y=\"-141.8\" font-family=\"Helvetica,sans-Serif\" font-size=\"14.00\" fill=\"#000000\">LDL콜레스테롤 &lt;= 164.5</text>\n<text text-anchor=\"middle\" x=\"1284.5\" y=\"-126.8\" font-family=\"Helvetica,sans-Serif\" font-size=\"14.00\" fill=\"#000000\">samples = 73</text>\n<text text-anchor=\"middle\" x=\"1284.5\" y=\"-111.8\" font-family=\"Helvetica,sans-Serif\" font-size=\"14.00\" fill=\"#000000\">value = [13, 60]</text>\n<text text-anchor=\"middle\" x=\"1284.5\" y=\"-96.8\" font-family=\"Helvetica,sans-Serif\" font-size=\"14.00\" fill=\"#000000\">class = 음주 Yes</text>\n</g>\n<!-- 17&#45;&gt;18 -->\n<g id=\"edge18\" class=\"edge\">\n<title>17&#45;&gt;18</title>\n<path fill=\"none\" stroke=\"#000000\" d=\"M1342.3404,-192.9465C1334.9158,-183.968 1326.8185,-174.1758 1319.0972,-164.8385\"/>\n<polygon fill=\"#000000\" stroke=\"#000000\" points=\"1321.7928,-162.606 1312.7229,-157.13 1316.3983,-167.0669 1321.7928,-162.606\"/>\n</g>\n<!-- 21 -->\n<g id=\"node22\" class=\"node\">\n<title>21</title>\n<polygon fill=\"#efb388\" stroke=\"#000000\" points=\"1526,-157 1389,-157 1389,-89 1526,-89 1526,-157\"/>\n<text text-anchor=\"middle\" x=\"1457.5\" y=\"-141.8\" font-family=\"Helvetica,sans-Serif\" font-size=\"14.00\" fill=\"#000000\">감마지티피 &lt;= 35.5</text>\n<text text-anchor=\"middle\" x=\"1457.5\" y=\"-126.8\" font-family=\"Helvetica,sans-Serif\" font-size=\"14.00\" fill=\"#000000\">samples = 7</text>\n<text text-anchor=\"middle\" x=\"1457.5\" y=\"-111.8\" font-family=\"Helvetica,sans-Serif\" font-size=\"14.00\" fill=\"#000000\">value = [5, 2]</text>\n<text text-anchor=\"middle\" x=\"1457.5\" y=\"-96.8\" font-family=\"Helvetica,sans-Serif\" font-size=\"14.00\" fill=\"#000000\">class = 음주 No</text>\n</g>\n<!-- 17&#45;&gt;21 -->\n<g id=\"edge21\" class=\"edge\">\n<title>17&#45;&gt;21</title>\n<path fill=\"none\" stroke=\"#000000\" d=\"M1398.9871,-192.9465C1406.4979,-183.968 1414.6895,-174.1758 1422.5005,-164.8385\"/>\n<polygon fill=\"#000000\" stroke=\"#000000\" points=\"1425.2171,-167.0459 1428.9489,-157.13 1419.848,-162.5544 1425.2171,-167.0459\"/>\n</g>\n<!-- 19 -->\n<g id=\"node20\" class=\"node\">\n<title>19</title>\n<polygon fill=\"#55abe9\" stroke=\"#000000\" points=\"1224,-53 1103,-53 1103,0 1224,0 1224,-53\"/>\n<text text-anchor=\"middle\" x=\"1163.5\" y=\"-37.8\" font-family=\"Helvetica,sans-Serif\" font-size=\"14.00\" fill=\"#000000\">samples = 57</text>\n<text text-anchor=\"middle\" x=\"1163.5\" y=\"-22.8\" font-family=\"Helvetica,sans-Serif\" font-size=\"14.00\" fill=\"#000000\">value = [7, 50]</text>\n<text text-anchor=\"middle\" x=\"1163.5\" y=\"-7.8\" font-family=\"Helvetica,sans-Serif\" font-size=\"14.00\" fill=\"#000000\">class = 음주 Yes</text>\n</g>\n<!-- 18&#45;&gt;19 -->\n<g id=\"edge19\" class=\"edge\">\n<title>18&#45;&gt;19</title>\n<path fill=\"none\" stroke=\"#000000\" d=\"M1241.8399,-88.9777C1229.8989,-79.4545 1216.9395,-69.1191 1205.063,-59.6473\"/>\n<polygon fill=\"#000000\" stroke=\"#000000\" points=\"1207.04,-56.7473 1197.0395,-53.2485 1202.6754,-62.22 1207.04,-56.7473\"/>\n</g>\n<!-- 20 -->\n<g id=\"node21\" class=\"node\">\n<title>20</title>\n<polygon fill=\"#b0d8f5\" stroke=\"#000000\" points=\"1363,-53 1242,-53 1242,0 1363,0 1363,-53\"/>\n<text text-anchor=\"middle\" x=\"1302.5\" y=\"-37.8\" font-family=\"Helvetica,sans-Serif\" font-size=\"14.00\" fill=\"#000000\">samples = 16</text>\n<text text-anchor=\"middle\" x=\"1302.5\" y=\"-22.8\" font-family=\"Helvetica,sans-Serif\" font-size=\"14.00\" fill=\"#000000\">value = [6, 10]</text>\n<text text-anchor=\"middle\" x=\"1302.5\" y=\"-7.8\" font-family=\"Helvetica,sans-Serif\" font-size=\"14.00\" fill=\"#000000\">class = 음주 Yes</text>\n</g>\n<!-- 18&#45;&gt;20 -->\n<g id=\"edge20\" class=\"edge\">\n<title>18&#45;&gt;20</title>\n<path fill=\"none\" stroke=\"#000000\" d=\"M1290.8461,-88.9777C1292.4004,-80.6449 1294.0707,-71.6903 1295.6476,-63.2364\"/>\n<polygon fill=\"#000000\" stroke=\"#000000\" points=\"1299.1176,-63.7207 1297.5106,-53.2485 1292.2363,-62.4371 1299.1176,-63.7207\"/>\n</g>\n<!-- 22 -->\n<g id=\"node23\" class=\"node\">\n<title>22</title>\n<polygon fill=\"#e58139\" stroke=\"#000000\" points=\"1497.5,-53 1381.5,-53 1381.5,0 1497.5,0 1497.5,-53\"/>\n<text text-anchor=\"middle\" x=\"1439.5\" y=\"-37.8\" font-family=\"Helvetica,sans-Serif\" font-size=\"14.00\" fill=\"#000000\">samples = 4</text>\n<text text-anchor=\"middle\" x=\"1439.5\" y=\"-22.8\" font-family=\"Helvetica,sans-Serif\" font-size=\"14.00\" fill=\"#000000\">value = [4, 0]</text>\n<text text-anchor=\"middle\" x=\"1439.5\" y=\"-7.8\" font-family=\"Helvetica,sans-Serif\" font-size=\"14.00\" fill=\"#000000\">class = 음주 No</text>\n</g>\n<!-- 21&#45;&gt;22 -->\n<g id=\"edge22\" class=\"edge\">\n<title>21&#45;&gt;22</title>\n<path fill=\"none\" stroke=\"#000000\" d=\"M1451.1539,-88.9777C1449.5996,-80.6449 1447.9293,-71.6903 1446.3524,-63.2364\"/>\n<polygon fill=\"#000000\" stroke=\"#000000\" points=\"1449.7637,-62.4371 1444.4894,-53.2485 1442.8824,-63.7207 1449.7637,-62.4371\"/>\n</g>\n<!-- 23 -->\n<g id=\"node24\" class=\"node\">\n<title>23</title>\n<polygon fill=\"#9ccef2\" stroke=\"#000000\" points=\"1637,-53 1516,-53 1516,0 1637,0 1637,-53\"/>\n<text text-anchor=\"middle\" x=\"1576.5\" y=\"-37.8\" font-family=\"Helvetica,sans-Serif\" font-size=\"14.00\" fill=\"#000000\">samples = 3</text>\n<text text-anchor=\"middle\" x=\"1576.5\" y=\"-22.8\" font-family=\"Helvetica,sans-Serif\" font-size=\"14.00\" fill=\"#000000\">value = [1, 2]</text>\n<text text-anchor=\"middle\" x=\"1576.5\" y=\"-7.8\" font-family=\"Helvetica,sans-Serif\" font-size=\"14.00\" fill=\"#000000\">class = 음주 Yes</text>\n</g>\n<!-- 21&#45;&gt;23 -->\n<g id=\"edge23\" class=\"edge\">\n<title>21&#45;&gt;23</title>\n<path fill=\"none\" stroke=\"#000000\" d=\"M1499.4549,-88.9777C1511.1986,-79.4545 1523.9438,-69.1191 1535.624,-59.6473\"/>\n<polygon fill=\"#000000\" stroke=\"#000000\" points=\"1537.9522,-62.2656 1543.5148,-53.2485 1533.5432,-56.8286 1537.9522,-62.2656\"/>\n</g>\n<!-- 25 -->\n<g id=\"node26\" class=\"node\">\n<title>25</title>\n<polygon fill=\"#46a3e7\" stroke=\"#000000\" points=\"1852.5,-157 1686.5,-157 1686.5,-89 1852.5,-89 1852.5,-157\"/>\n<text text-anchor=\"middle\" x=\"1769.5\" y=\"-141.8\" font-family=\"Helvetica,sans-Serif\" font-size=\"14.00\" fill=\"#000000\">HDL콜레스테롤 &lt;= 47.5</text>\n<text text-anchor=\"middle\" x=\"1769.5\" y=\"-126.8\" font-family=\"Helvetica,sans-Serif\" font-size=\"14.00\" fill=\"#000000\">samples = 83</text>\n<text text-anchor=\"middle\" x=\"1769.5\" y=\"-111.8\" font-family=\"Helvetica,sans-Serif\" font-size=\"14.00\" fill=\"#000000\">value = [5, 78]</text>\n<text text-anchor=\"middle\" x=\"1769.5\" y=\"-96.8\" font-family=\"Helvetica,sans-Serif\" font-size=\"14.00\" fill=\"#000000\">class = 음주 Yes</text>\n</g>\n<!-- 24&#45;&gt;25 -->\n<g id=\"edge25\" class=\"edge\">\n<title>24&#45;&gt;25</title>\n<path fill=\"none\" stroke=\"#000000\" d=\"M1769.5,-192.9465C1769.5,-184.776 1769.5,-175.9318 1769.5,-167.3697\"/>\n<polygon fill=\"#000000\" stroke=\"#000000\" points=\"1773.0001,-167.13 1769.5,-157.13 1766.0001,-167.13 1773.0001,-167.13\"/>\n</g>\n<!-- 28 -->\n<g id=\"node29\" class=\"node\">\n<title>28</title>\n<polygon fill=\"#68b4eb\" stroke=\"#000000\" points=\"2062,-157 1925,-157 1925,-89 2062,-89 2062,-157\"/>\n<text text-anchor=\"middle\" x=\"1993.5\" y=\"-141.8\" font-family=\"Helvetica,sans-Serif\" font-size=\"14.00\" fill=\"#000000\">감마지티피 &lt;= 47.0</text>\n<text text-anchor=\"middle\" x=\"1993.5\" y=\"-126.8\" font-family=\"Helvetica,sans-Serif\" font-size=\"14.00\" fill=\"#000000\">samples = 26</text>\n<text text-anchor=\"middle\" x=\"1993.5\" y=\"-111.8\" font-family=\"Helvetica,sans-Serif\" font-size=\"14.00\" fill=\"#000000\">value = [5, 21]</text>\n<text text-anchor=\"middle\" x=\"1993.5\" y=\"-96.8\" font-family=\"Helvetica,sans-Serif\" font-size=\"14.00\" fill=\"#000000\">class = 음주 Yes</text>\n</g>\n<!-- 24&#45;&gt;28 -->\n<g id=\"edge28\" class=\"edge\">\n<title>24&#45;&gt;28</title>\n<path fill=\"none\" stroke=\"#000000\" d=\"M1830.1176,-198.8561C1856.4259,-186.6415 1887.5633,-172.1849 1915.562,-159.1855\"/>\n<polygon fill=\"#000000\" stroke=\"#000000\" points=\"1917.3291,-162.2239 1924.9253,-154.8382 1914.3813,-155.8749 1917.3291,-162.2239\"/>\n</g>\n<!-- 26 -->\n<g id=\"node27\" class=\"node\">\n<title>26</title>\n<polygon fill=\"#59ade9\" stroke=\"#000000\" points=\"1776,-53 1655,-53 1655,0 1776,0 1776,-53\"/>\n<text text-anchor=\"middle\" x=\"1715.5\" y=\"-37.8\" font-family=\"Helvetica,sans-Serif\" font-size=\"14.00\" fill=\"#000000\">samples = 36</text>\n<text text-anchor=\"middle\" x=\"1715.5\" y=\"-22.8\" font-family=\"Helvetica,sans-Serif\" font-size=\"14.00\" fill=\"#000000\">value = [5, 31]</text>\n<text text-anchor=\"middle\" x=\"1715.5\" y=\"-7.8\" font-family=\"Helvetica,sans-Serif\" font-size=\"14.00\" fill=\"#000000\">class = 음주 Yes</text>\n</g>\n<!-- 25&#45;&gt;26 -->\n<g id=\"edge26\" class=\"edge\">\n<title>25&#45;&gt;26</title>\n<path fill=\"none\" stroke=\"#000000\" d=\"M1750.4616,-88.9777C1745.5937,-80.2786 1740.3466,-70.9018 1735.435,-62.1247\"/>\n<polygon fill=\"#000000\" stroke=\"#000000\" points=\"1738.4057,-60.2659 1730.4681,-53.2485 1732.2971,-63.6843 1738.4057,-60.2659\"/>\n</g>\n<!-- 27 -->\n<g id=\"node28\" class=\"node\">\n<title>27</title>\n<polygon fill=\"#399de5\" stroke=\"#000000\" points=\"1915,-53 1794,-53 1794,0 1915,0 1915,-53\"/>\n<text text-anchor=\"middle\" x=\"1854.5\" y=\"-37.8\" font-family=\"Helvetica,sans-Serif\" font-size=\"14.00\" fill=\"#000000\">samples = 47</text>\n<text text-anchor=\"middle\" x=\"1854.5\" y=\"-22.8\" font-family=\"Helvetica,sans-Serif\" font-size=\"14.00\" fill=\"#000000\">value = [0, 47]</text>\n<text text-anchor=\"middle\" x=\"1854.5\" y=\"-7.8\" font-family=\"Helvetica,sans-Serif\" font-size=\"14.00\" fill=\"#000000\">class = 음주 Yes</text>\n</g>\n<!-- 25&#45;&gt;27 -->\n<g id=\"edge27\" class=\"edge\">\n<title>25&#45;&gt;27</title>\n<path fill=\"none\" stroke=\"#000000\" d=\"M1799.4678,-88.9777C1807.4529,-79.9123 1816.0862,-70.111 1824.0944,-61.0192\"/>\n<polygon fill=\"#000000\" stroke=\"#000000\" points=\"1826.9558,-63.066 1830.9392,-53.2485 1821.7029,-58.4391 1826.9558,-63.066\"/>\n</g>\n<!-- 29 -->\n<g id=\"node30\" class=\"node\">\n<title>29</title>\n<polygon fill=\"#47a4e7\" stroke=\"#000000\" points=\"2054,-53 1933,-53 1933,0 2054,0 2054,-53\"/>\n<text text-anchor=\"middle\" x=\"1993.5\" y=\"-37.8\" font-family=\"Helvetica,sans-Serif\" font-size=\"14.00\" fill=\"#000000\">samples = 15</text>\n<text text-anchor=\"middle\" x=\"1993.5\" y=\"-22.8\" font-family=\"Helvetica,sans-Serif\" font-size=\"14.00\" fill=\"#000000\">value = [1, 14]</text>\n<text text-anchor=\"middle\" x=\"1993.5\" y=\"-7.8\" font-family=\"Helvetica,sans-Serif\" font-size=\"14.00\" fill=\"#000000\">class = 음주 Yes</text>\n</g>\n<!-- 28&#45;&gt;29 -->\n<g id=\"edge29\" class=\"edge\">\n<title>28&#45;&gt;29</title>\n<path fill=\"none\" stroke=\"#000000\" d=\"M1993.5,-88.9777C1993.5,-80.7364 1993.5,-71.887 1993.5,-63.5153\"/>\n<polygon fill=\"#000000\" stroke=\"#000000\" points=\"1997.0001,-63.2484 1993.5,-53.2485 1990.0001,-63.2485 1997.0001,-63.2484\"/>\n</g>\n<!-- 30 -->\n<g id=\"node31\" class=\"node\">\n<title>30</title>\n<polygon fill=\"#aad5f4\" stroke=\"#000000\" points=\"2193,-53 2072,-53 2072,0 2193,0 2193,-53\"/>\n<text text-anchor=\"middle\" x=\"2132.5\" y=\"-37.8\" font-family=\"Helvetica,sans-Serif\" font-size=\"14.00\" fill=\"#000000\">samples = 11</text>\n<text text-anchor=\"middle\" x=\"2132.5\" y=\"-22.8\" font-family=\"Helvetica,sans-Serif\" font-size=\"14.00\" fill=\"#000000\">value = [4, 7]</text>\n<text text-anchor=\"middle\" x=\"2132.5\" y=\"-7.8\" font-family=\"Helvetica,sans-Serif\" font-size=\"14.00\" fill=\"#000000\">class = 음주 Yes</text>\n</g>\n<!-- 28&#45;&gt;30 -->\n<g id=\"edge30\" class=\"edge\">\n<title>28&#45;&gt;30</title>\n<path fill=\"none\" stroke=\"#000000\" d=\"M2042.5062,-88.9777C2056.4874,-79.2713 2071.6838,-68.7213 2085.5398,-59.1018\"/>\n<polygon fill=\"#000000\" stroke=\"#000000\" points=\"2087.7526,-61.8264 2093.9711,-53.2485 2083.7606,-56.0763 2087.7526,-61.8264\"/>\n</g>\n</g>\n</svg>\n"
          },
          "metadata": {}
        }
      ]
    },
    {
      "cell_type": "code",
      "source": [
        "result = tree.feature_importances_\n",
        "print(\"변수의 중요도:\\n\", result)"
      ],
      "metadata": {
        "colab": {
          "base_uri": "https://localhost:8080/"
        },
        "id": "2SyJzBWl3vm_",
        "outputId": "1cf4931c-ac27-4179-bd6d-3c82633a4bab"
      },
      "execution_count": 18,
      "outputs": [
        {
          "output_type": "stream",
          "name": "stdout",
          "text": [
            "변수의 중요도:\n",
            " [0.         0.1338     0.         0.1348582  0.04125034 0.16077973\n",
            " 0.         0.         0.11555136 0.13787376 0.2758866 ]\n"
          ]
        }
      ]
    },
    {
      "cell_type": "code",
      "source": [
        "import numpy as np\n",
        "\n",
        "def plot_feature_importances_wisc(model):\n",
        "    plt.rcParams[\"figure.figsize\"] = (9,6)\n",
        "    n_features = len(health.columns[[13, 14, 15, 16, 17, 18, 19, 20, 21, 22, 23]])  # 11개 \n",
        "    plt.barh(np.arange(n_features), model.feature_importances_, align='center') \n",
        "    plt.yticks(np.arange(n_features), health.columns[[13, 14, 15, 16, 17, 18, 19, 20, 21, 22, 23]])   # 11개의 눈금을 표시하고 눈금 레이블을 변수 이름으로 지정\n",
        "    plt.xlabel(\"feature importance\")\n",
        "    plt.ylabel(\"feature\")\n",
        "    plt.ylim(-1, n_features) #Y 축 범위 지정 (-1 ~ 30)\n",
        "\n",
        "plot_feature_importances_wisc(tree)\n",
        "\n",
        "#(0이라고 해서 중요하지 않은 것 아님)"
      ],
      "metadata": {
        "colab": {
          "base_uri": "https://localhost:8080/",
          "height": 389
        },
        "id": "voKgRNe83yDO",
        "outputId": "21078139-b078-4a76-8a84-833b4236712d"
      },
      "execution_count": 19,
      "outputs": [
        {
          "output_type": "display_data",
          "data": {
            "text/plain": [
              "<Figure size 648x432 with 1 Axes>"
            ],
            "image/png": "[encoded data removed]"
          },
          "metadata": {
            "needs_background": "light"
          }
        }
      ]
    },
    {
      "cell_type": "markdown",
      "source": [
        "## 앙상블 모델:랜덤포레스트"
      ],
      "metadata": {
        "id": "gspkGEayPEOY"
      }
    },
    {
      "cell_type": "code",
      "source": [
        "from sklearn.ensemble import RandomForestClassifier\n",
        "\n",
        "# radius_mean, texture_mean 변수만 이용하여 \n",
        "# 5개의 나무를 만드는 예 (n_estimators = 5, 실제는 수백개의 트리를 만든다)\n",
        "forest = RandomForestClassifier(n_estimators=5, random_state=2)\n",
        "forest.fit(X_train.iloc[:, 0:2], y_train)\n",
        "\n",
        "# 5개 나무 각각의 분류 경계를 그림 (서로 모양이 많이 다르다)\n",
        "# 2차원으로 나무의 결과를 보여주기 위한 코드로 mglearn의 함수들을 이용 - 여기서는 설명 생략\n",
        "fig, axes = plt.subplots(2, 3, figsize=(20, 10))\n",
        "for i, (ax, tree) in enumerate(zip(axes.ravel(), forest.estimators_)):\n",
        "    ax.set_title(\"Tree {}\".format(i))\n",
        "    mglearn.plots.plot_tree_partition(X.iloc[:, 0:2].values, y, tree, ax=ax)\n",
        "    \n",
        "mglearn.plots.plot_2d_separator(forest, X.iloc[:, 0:2].values, fill=True, ax=axes[-1, -1], alpha=.4)\n",
        "axes[-1, -1].set_title(\"Random forest\")\n",
        "mglearn.discrete_scatter(X.iloc[:, 0], X.iloc[:, 1], y)\n",
        "plt.show()"
      ],
      "metadata": {
        "colab": {
          "base_uri": "https://localhost:8080/",
          "height": 616
        },
        "id": "MlOH-P4FPEBe",
        "outputId": "0a18cbbc-d211-48df-df2f-2d42eaefe7b5"
      },
      "execution_count": 20,
      "outputs": [
        {
          "output_type": "stream",
          "name": "stderr",
          "text": [
            "/usr/local/lib/python3.7/dist-packages/sklearn/base.py:451: UserWarning: X does not have valid feature names, but RandomForestClassifier was fitted with feature names\n",
            "  \"X does not have valid feature names, but\"\n"
          ]
        },
        {
          "output_type": "display_data",
          "data": {
            "text/plain": [
              "<Figure size 1440x720 with 6 Axes>"
            ],
            "image/png": "[encoded data removed]"
          },
          "metadata": {}
        }
      ]
    },
    {
      "cell_type": "code",
      "source": [
        "# 30개 변수를 모두 이용하여 100개의 나무 생성 (정확도가 높아짐)\n",
        "forest = RandomForestClassifier(n_estimators=100, random_state=0)\n",
        "forest.fit(X_train, y_train)\n",
        "\n",
        "print(\"학습용 데이터 세트 정확도: {:.3f}\".format(forest.score(X_train, y_train)))\n",
        "print(\"시험용 데이터 세트 정확도: {:.3f}\".format(forest.score(X_test, y_test)))"
      ],
      "metadata": {
        "colab": {
          "base_uri": "https://localhost:8080/"
        },
        "id": "ePYJXZg7RMFJ",
        "outputId": "6c8ff134-92db-47f9-a6c7-2c62ff79f2bb"
      },
      "execution_count": 21,
      "outputs": [
        {
          "output_type": "stream",
          "name": "stdout",
          "text": [
            "학습용 데이터 세트 정확도: 1.000\n",
            "시험용 데이터 세트 정확도: 0.765\n"
          ]
        }
      ]
    },
    {
      "cell_type": "code",
      "source": [
        "# 단일 의사결정나무의 경우보다 많은 변수(feature)들이 사용됨\n",
        "plot_feature_importances_wisc(forest)   "
      ],
      "metadata": {
        "colab": {
          "base_uri": "https://localhost:8080/",
          "height": 389
        },
        "id": "-rvFJ6NzRZvC",
        "outputId": "0ea4d02c-8aaa-41cd-fcb6-01e61ec912ed"
      },
      "execution_count": 22,
      "outputs": [
        {
          "output_type": "display_data",
          "data": {
            "text/plain": [
              "<Figure size 648x432 with 1 Axes>"
            ],
            "image/png": "[encoded data removed]"
          },
          "metadata": {
            "needs_background": "light"
          }
        }
      ]
    },
    {
      "cell_type": "code",
      "source": [
        "from sklearn.model_selection import cross_val_score\n",
        "\n",
        "# 교차 검증을 10번 수행하여 10번의 교차 검증 평균 정확도를 비교 (10-fold cross validation)\n",
        "# default cv=5\n",
        "\n",
        "dt_scores = cross_val_score(tree, X_train, y_train, cv=10, scoring='accuracy')  \n",
        "rf_scores = cross_val_score(forest, X_train, y_train, cv=10, scoring='accuracy')\n",
        "\n",
        "print(\"Accuracy\")\n",
        "print(\"Decision tree: \", dt_scores) \n",
        "print(\"Random forest: \", rf_scores) \n",
        "\n",
        "print(\"Accuracy mean\")\n",
        "print(\"Decision tree :{:.3f}\".format(dt_scores.mean())) \n",
        "print(\"Random forest :{:.3f}\".format(rf_scores.mean()))"
      ],
      "metadata": {
        "colab": {
          "base_uri": "https://localhost:8080/"
        },
        "id": "VaZNVuMKRczl",
        "outputId": "46241261-c97f-4848-e62b-3328e69af3ce"
      },
      "execution_count": 23,
      "outputs": [
        {
          "output_type": "stream",
          "name": "stdout",
          "text": [
            "Accuracy\n",
            "Decision tree:  [0.68627451 0.74509804 0.52941176 0.66666667 0.64705882 0.66666667\n",
            " 0.66666667 0.7        0.7        0.76      ]\n",
            "Random forest:  [0.78431373 0.76470588 0.76470588 0.74509804 0.76470588 0.76470588\n",
            " 0.76470588 0.74       0.78       0.76      ]\n",
            "Accuracy mean\n",
            "Decision tree :0.677\n",
            "Random forest :0.763\n"
          ]
        }
      ]
    },
    {
      "cell_type": "code",
      "source": [
        "cv_list = [    \n",
        "            ['decision_tree',dt_scores],\n",
        "            ['random_forest',rf_scores],\n",
        "          ]\n",
        "df = pd.DataFrame.from_dict(dict(cv_list))\n",
        "df.plot()"
      ],
      "metadata": {
        "colab": {
          "base_uri": "https://localhost:8080/",
          "height": 392
        },
        "id": "S209W026R7nW",
        "outputId": "5145d281-adf4-4216-9b94-a380b0e4efdd"
      },
      "execution_count": 24,
      "outputs": [
        {
          "output_type": "execute_result",
          "data": {
            "text/plain": [
              "<matplotlib.axes._subplots.AxesSubplot at 0x7f869e57f050>"
            ]
          },
          "metadata": {},
          "execution_count": 24
        },
        {
          "output_type": "display_data",
          "data": {
            "text/plain": [
              "<Figure size 648x432 with 1 Axes>"
            ],
            "image/png": "[encoded data removed]"
          },
          "metadata": {
            "needs_background": "light"
          }
        }
      ]
    },
    {
      "cell_type": "markdown",
      "source": [
        "## 앙상블 모델: 그래디언트 부스팅"
      ],
      "metadata": {
        "id": "CjfV3BnLSKN_"
      }
    },
    {
      "cell_type": "code",
      "source": [
        "from sklearn.ensemble import GradientBoostingClassifier\n",
        "# 기본값은 max_depth= 3, n_estimators=100, learning_rate = 0.1\n",
        "\n",
        "gbrt = GradientBoostingClassifier(random_state=0)\n",
        "gbrt.fit(X_train, y_train)"
      ],
      "metadata": {
        "colab": {
          "base_uri": "https://localhost:8080/"
        },
        "id": "rEtvZze2SJ9O",
        "outputId": "ed970a68-dc11-413a-c511-6d7748b32825"
      },
      "execution_count": 25,
      "outputs": [
        {
          "output_type": "execute_result",
          "data": {
            "text/plain": [
              "GradientBoostingClassifier(random_state=0)"
            ]
          },
          "metadata": {},
          "execution_count": 25
        }
      ]
    },
    {
      "cell_type": "code",
      "source": [
        "print(\"학습용 데이터 세트 정확도: {:.3f}\".format(gbrt.score(X_train, y_train)))\n",
        "print(\"시험용 데이터 세트 정확도: {:.3f}\".format(gbrt.score(X_test, y_test)))"
      ],
      "metadata": {
        "colab": {
          "base_uri": "https://localhost:8080/"
        },
        "id": "N3jlNIrESVzJ",
        "outputId": "5f233484-506d-4c08-cfd1-0eb8a04ca55b"
      },
      "execution_count": 26,
      "outputs": [
        {
          "output_type": "stream",
          "name": "stdout",
          "text": [
            "학습용 데이터 세트 정확도: 0.911\n",
            "시험용 데이터 세트 정확도: 0.759\n"
          ]
        }
      ]
    },
    {
      "cell_type": "code",
      "source": [
        "plot_feature_importances_wisc(gbrt)"
      ],
      "metadata": {
        "colab": {
          "base_uri": "https://localhost:8080/",
          "height": 389
        },
        "id": "L_zsqoMqSV6J",
        "outputId": "2071693f-54fa-41f4-a3ac-297b5db829e6"
      },
      "execution_count": 27,
      "outputs": [
        {
          "output_type": "display_data",
          "data": {
            "text/plain": [
              "<Figure size 648x432 with 1 Axes>"
            ],
            "image/png": "[encoded data removed]"
          },
          "metadata": {
            "needs_background": "light"
          }
        }
      ]
    },
    {
      "cell_type": "code",
      "source": [
        "#나무 깊이 제한\n",
        "gbrt = GradientBoostingClassifier(random_state=0, max_depth=2)\n",
        "gbrt.fit(X_train, y_train)\n",
        "\n",
        "print(\"학습 데이터 세트 정확도: {:.3f}\".format(gbrt.score(X_train, y_train)))\n",
        "print(\"시험용 데이터 세트 정확도: {:.3f}\".format(gbrt.score(X_test, y_test)))"
      ],
      "metadata": {
        "colab": {
          "base_uri": "https://localhost:8080/"
        },
        "id": "Wt0DLDoBSWBI",
        "outputId": "2391dad1-7137-42e9-aa3d-661c98c7bc34"
      },
      "execution_count": 28,
      "outputs": [
        {
          "output_type": "stream",
          "name": "stdout",
          "text": [
            "학습 데이터 세트 정확도: 0.834\n",
            "시험용 데이터 세트 정확도: 0.765\n"
          ]
        }
      ]
    },
    {
      "cell_type": "code",
      "source": [
        "#학습률 감소\n",
        "gbrt = GradientBoostingClassifier(random_state=0, learning_rate=0.01)\n",
        "gbrt.fit(X_train, y_train)\n",
        "\n",
        "print(\"학습 데이터 세트 정확도: {:.3f}\".format(gbrt.score(X_train, y_train)))\n",
        "print(\"시험용 데이터 세트 정확도: {:.3f}\".format(gbrt.score(X_test, y_test)))"
      ],
      "metadata": {
        "colab": {
          "base_uri": "https://localhost:8080/"
        },
        "id": "7Z_c0YlsSiQl",
        "outputId": "3b264984-6aca-4e81-d21c-174c8ee74294"
      },
      "execution_count": 29,
      "outputs": [
        {
          "output_type": "stream",
          "name": "stdout",
          "text": [
            "학습 데이터 세트 정확도: 0.763\n",
            "시험용 데이터 세트 정확도: 0.771\n"
          ]
        }
      ]
    },
    {
      "cell_type": "code",
      "source": [
        "# 그리드서치 결과 반영\n",
        "\n",
        "gbrt = GradientBoostingClassifier(random_state=0, max_depth = 1, learning_rate=0.02)\n",
        "gbrt.fit(X_train, y_train)\n",
        "\n",
        "print(\"학습 데이터 세트 정확도: {:.3f}\".format(gbrt.score(X_train, y_train)))\n",
        "print(\"시험용 데이터 세트 정확도: {:.3f}\".format(gbrt.score(X_test, y_test)))"
      ],
      "metadata": {
        "colab": {
          "base_uri": "https://localhost:8080/"
        },
        "id": "O_QoRpP79euB",
        "outputId": "5ab87ce6-49bc-459e-c3ac-3cf045144390"
      },
      "execution_count": 30,
      "outputs": [
        {
          "output_type": "stream",
          "name": "stdout",
          "text": [
            "학습 데이터 세트 정확도: 0.759\n",
            "시험용 데이터 세트 정확도: 0.765\n"
          ]
        }
      ]
    },
    {
      "cell_type": "markdown",
      "source": [
        "# 분류모델평가"
      ],
      "metadata": {
        "id": "Z-FgtQEgTPsw"
      }
    },
    {
      "cell_type": "markdown",
      "source": [
        "#(2) 분류 모델 선택 및 평가 결과\n",
        "\n",
        "* 선택한 평가: Accuracy(정확도) \n",
        "* 최적의 분류모델: 랜덤 포레스트\n",
        "\n",
        "교차검증을 시도한 결과, 랜덤 포레스트 모델에서 0.763의 가장 높은 정확도를\n",
        "보였으므로 선택하게 되었다.\n",
        "정오 분류표에서의 결과에서도 정확도가 0.765로 그래디언트 부스팅과 함께 높은 결과를 도출했기에 최적의 분류모델이 맞다고 생각한다."
      ],
      "metadata": {
        "id": "r7BtOyGHGZVA"
      }
    },
    {
      "cell_type": "markdown",
      "source": [
        "## 교차검증"
      ],
      "metadata": {
        "id": "EEty9pnHYIHF"
      }
    },
    {
      "cell_type": "code",
      "source": [
        "# 교차 검증을 10번 수행하여 10번의 교차 검증 평균 정확도를 비교 (10-fold cross validation)\n",
        "\n",
        "dt_scores = cross_val_score(tree, X_train, y_train, cv=10, scoring='accuracy')  \n",
        "rf_scores = cross_val_score(forest, X_train, y_train, cv=10, scoring='accuracy')\n",
        "gbrt_scores = cross_val_score(gbrt, X_train, y_train, cv=10, scoring='accuracy')\n",
        "\n",
        "print(\"Accuracy\")\n",
        "print(\"Decision tree: \", dt_scores) \n",
        "print(\"Random forest: \", rf_scores) \n",
        "print(\"Gradient boosting: \", gbrt_scores) \n",
        "\n",
        "print(\"Accuracy mean\")\n",
        "print(\"Decision tree :{:.3f}\".format(dt_scores.mean())) \n",
        "print(\"Random forest :{:.3f}\".format(rf_scores.mean())) \n",
        "print(\"Gradient boosting :{:.3f}\".format(gbrt_scores.mean())) "
      ],
      "metadata": {
        "colab": {
          "base_uri": "https://localhost:8080/"
        },
        "id": "ypoFdqfVSr39",
        "outputId": "d95f37c8-8e8d-4ecf-dce6-2290bb86a6b0"
      },
      "execution_count": 31,
      "outputs": [
        {
          "output_type": "stream",
          "name": "stdout",
          "text": [
            "Accuracy\n",
            "Decision tree:  [0.68627451 0.74509804 0.52941176 0.66666667 0.64705882 0.66666667\n",
            " 0.66666667 0.7        0.7        0.76      ]\n",
            "Random forest:  [0.78431373 0.76470588 0.76470588 0.74509804 0.76470588 0.76470588\n",
            " 0.76470588 0.74       0.78       0.76      ]\n",
            "Gradient boosting:  [0.76470588 0.76470588 0.74509804 0.76470588 0.76470588 0.74509804\n",
            " 0.74509804 0.76       0.76       0.76      ]\n",
            "Accuracy mean\n",
            "Decision tree :0.677\n",
            "Random forest :0.763\n",
            "Gradient boosting :0.757\n"
          ]
        }
      ]
    },
    {
      "cell_type": "code",
      "source": [
        "# 교차 검증 상세 옵션 지정\n",
        "\n",
        "# KFold :기본값 n_splits=5, shuffle=None (데이터를 임의로 섞지 않음) \n",
        "# LeaveOneOut :데이터 1개를 검증에 이용 \n",
        "# ShuffleSplit :임의 분할, 전체 데이터를 모두 사용하지 않을 수도 있음\n",
        "# GroupKFold :그룹을 지정해서 같은 그룹의 데이터는 학습용 또는 검증용으로 동일하게 분할\n",
        "# StratifiedKFold :각 fold마다 클래스의 분포가 동일하도록 분할 (예. 악성:양성) \n",
        "# RepeatedStratifiedKFold: 교차검증을 반복, 기본값 n_repeats =10\n",
        "\n",
        "from sklearn.model_selection import StratifiedKFold\n",
        "kf = StratifiedKFold(n_splits=10)\n",
        "#from sklearn.model_selection import RepeatedStratifiedKFold\n",
        "#kf = RepeatedStratifiedKFold(n_splits=10)\n",
        "\n",
        "print(kf)\n",
        "\n",
        "dt_scores = cross_val_score(tree, X_train, y_train, cv=kf, scoring='accuracy')  \n",
        "rf_scores = cross_val_score(forest, X_train, y_train, cv=kf, scoring='accuracy')\n",
        "gbrt_scores = cross_val_score(gbrt, X_train, y_train, cv=kf, scoring='accuracy')\n",
        "\n",
        "print(\"Accuracy mean -- StratifiedKFold 이용\")\n",
        "print(\"Decision tree :{:.3f}\".format(dt_scores.mean())) \n",
        "print(\"Random forest :{:.3f}\".format(rf_scores.mean())) \n",
        "print(\"Gradient boosting :{:.3f}\".format(gbrt_scores.mean())) "
      ],
      "metadata": {
        "colab": {
          "base_uri": "https://localhost:8080/"
        },
        "id": "-LfV8dfoz3XP",
        "outputId": "11815e40-6f07-4d10-fd99-39a4190d4022"
      },
      "execution_count": 32,
      "outputs": [
        {
          "output_type": "stream",
          "name": "stdout",
          "text": [
            "StratifiedKFold(n_splits=10, random_state=None, shuffle=False)\n",
            "Accuracy mean -- StratifiedKFold 이용\n",
            "Decision tree :0.677\n",
            "Random forest :0.763\n",
            "Gradient boosting :0.757\n"
          ]
        }
      ]
    },
    {
      "cell_type": "markdown",
      "source": [
        "## 그리드 서치"
      ],
      "metadata": {
        "id": "2KHax7oKYRr4"
      }
    },
    {
      "cell_type": "code",
      "source": [
        "from sklearn.model_selection import GridSearchCV\n",
        "\n",
        "# 파라미터를 dictionary 형태로 설정\n",
        "parameters = {'max_depth':[1,2,3], 'learning_rate':[0.1,0.08, 0.06, 0.04, 0.02]}"
      ],
      "metadata": {
        "id": "5MXVAevVUBUP"
      },
      "execution_count": 33,
      "outputs": []
    },
    {
      "cell_type": "code",
      "source": [
        "# param_grid의 파라미터들을 3개의 fold 로 나누어 검증\n",
        "# refit=True (기본값): 가장 좋은 파라미터 설정으로 재학습  \n",
        "init_gbrt = GradientBoostingClassifier(random_state=0)\n",
        "grid_gbrt = GridSearchCV(init_gbrt, param_grid=parameters, cv=3, refit=True)\n",
        "print(grid_gbrt)\n",
        "# 파라미터들을 순차적으로 학습, 검증\n",
        "grid_gbrt.fit(X_train, y_train)\n",
        "\n",
        "# GridSearchCV 결과 추출하여 DataFrame으로 변환\n",
        "scores_df = pd.DataFrame(grid_gbrt.cv_results_)\n",
        "scores_df[['params', 'mean_test_score', 'rank_test_score', 'split0_test_score', 'split1_test_score', 'split2_test_score']]\n"
      ],
      "metadata": {
        "colab": {
          "base_uri": "https://localhost:8080/",
          "height": 574
        },
        "id": "GuxqYieCUJ3X",
        "outputId": "a3f5988e-68cf-44fe-ea64-f794cd69bf12"
      },
      "execution_count": 34,
      "outputs": [
        {
          "output_type": "stream",
          "name": "stdout",
          "text": [
            "GridSearchCV(cv=3, estimator=GradientBoostingClassifier(random_state=0),\n",
            "             param_grid={'learning_rate': [0.1, 0.08, 0.06, 0.04, 0.02],\n",
            "                         'max_depth': [1, 2, 3]})\n"
          ]
        },
        {
          "output_type": "execute_result",
          "data": {
            "text/plain": [
              "                                     params  mean_test_score  rank_test_score  \\\n",
              "0    {'learning_rate': 0.1, 'max_depth': 1}         0.741617                8   \n",
              "1    {'learning_rate': 0.1, 'max_depth': 2}         0.717949               15   \n",
              "2    {'learning_rate': 0.1, 'max_depth': 3}         0.723866               12   \n",
              "3   {'learning_rate': 0.08, 'max_depth': 1}         0.743590                5   \n",
              "4   {'learning_rate': 0.08, 'max_depth': 2}         0.727811               10   \n",
              "5   {'learning_rate': 0.08, 'max_depth': 3}         0.727811               10   \n",
              "6   {'learning_rate': 0.06, 'max_depth': 1}         0.743590                5   \n",
              "7   {'learning_rate': 0.06, 'max_depth': 2}         0.723866               12   \n",
              "8   {'learning_rate': 0.06, 'max_depth': 3}         0.719921               14   \n",
              "9   {'learning_rate': 0.04, 'max_depth': 1}         0.743590                5   \n",
              "10  {'learning_rate': 0.04, 'max_depth': 2}         0.745562                3   \n",
              "11  {'learning_rate': 0.04, 'max_depth': 3}         0.737673                9   \n",
              "12  {'learning_rate': 0.02, 'max_depth': 1}         0.753452                1   \n",
              "13  {'learning_rate': 0.02, 'max_depth': 2}         0.745562                4   \n",
              "14  {'learning_rate': 0.02, 'max_depth': 3}         0.749507                2   \n",
              "\n",
              "    split0_test_score  split1_test_score  split2_test_score  \n",
              "0            0.751479           0.739645           0.733728  \n",
              "1            0.727811           0.710059           0.715976  \n",
              "2            0.721893           0.733728           0.715976  \n",
              "3            0.757396           0.739645           0.733728  \n",
              "4            0.751479           0.721893           0.710059  \n",
              "5            0.715976           0.733728           0.733728  \n",
              "6            0.751479           0.745562           0.733728  \n",
              "7            0.733728           0.721893           0.715976  \n",
              "8            0.710059           0.727811           0.721893  \n",
              "9            0.745562           0.751479           0.733728  \n",
              "10           0.745562           0.757396           0.733728  \n",
              "11           0.745562           0.733728           0.733728  \n",
              "12           0.751479           0.757396           0.751479  \n",
              "13           0.745562           0.751479           0.739645  \n",
              "14           0.757396           0.739645           0.751479  "
            ],
            "text/html": [
              "\n",
              "  <div id=\"df-bf843c31-01d4-4d2e-9696-06c935a9a32a\">\n",
              "    <div class=\"colab-df-container\">\n",
              "      <div>\n",
              "<style scoped>\n",
              "    .dataframe tbody tr th:only-of-type {\n",
              "        vertical-align: middle;\n",
              "    }\n",
              "\n",
              "    .dataframe tbody tr th {\n",
              "        vertical-align: top;\n",
              "    }\n",
              "\n",
              "    .dataframe thead th {\n",
              "        text-align: right;\n",
              "    }\n",
              "</style>\n",
              "<table border=\"1\" class=\"dataframe\">\n",
              "  <thead>\n",
              "    <tr style=\"text-align: right;\">\n",
              "      <th></th>\n",
              "      <th>params</th>\n",
              "      <th>mean_test_score</th>\n",
              "      <th>rank_test_score</th>\n",
              "      <th>split0_test_score</th>\n",
              "      <th>split1_test_score</th>\n",
              "      <th>split2_test_score</th>\n",
              "    </tr>\n",
              "  </thead>\n",
              "  <tbody>\n",
              "    <tr>\n",
              "      <th>0</th>\n",
              "      <td>{'learning_rate': 0.1, 'max_depth': 1}</td>\n",
              "      <td>0.741617</td>\n",
              "      <td>8</td>\n",
              "      <td>0.751479</td>\n",
              "      <td>0.739645</td>\n",
              "      <td>0.733728</td>\n",
              "    </tr>\n",
              "    <tr>\n",
              "      <th>1</th>\n",
              "      <td>{'learning_rate': 0.1, 'max_depth': 2}</td>\n",
              "      <td>0.717949</td>\n",
              "      <td>15</td>\n",
              "      <td>0.727811</td>\n",
              "      <td>0.710059</td>\n",
              "      <td>0.715976</td>\n",
              "    </tr>\n",
              "    <tr>\n",
              "      <th>2</th>\n",
              "      <td>{'learning_rate': 0.1, 'max_depth': 3}</td>\n",
              "      <td>0.723866</td>\n",
              "      <td>12</td>\n",
              "      <td>0.721893</td>\n",
              "      <td>0.733728</td>\n",
              "      <td>0.715976</td>\n",
              "    </tr>\n",
              "    <tr>\n",
              "      <th>3</th>\n",
              "      <td>{'learning_rate': 0.08, 'max_depth': 1}</td>\n",
              "      <td>0.743590</td>\n",
              "      <td>5</td>\n",
              "      <td>0.757396</td>\n",
              "      <td>0.739645</td>\n",
              "      <td>0.733728</td>\n",
              "    </tr>\n",
              "    <tr>\n",
              "      <th>4</th>\n",
              "      <td>{'learning_rate': 0.08, 'max_depth': 2}</td>\n",
              "      <td>0.727811</td>\n",
              "      <td>10</td>\n",
              "      <td>0.751479</td>\n",
              "      <td>0.721893</td>\n",
              "      <td>0.710059</td>\n",
              "    </tr>\n",
              "    <tr>\n",
              "      <th>5</th>\n",
              "      <td>{'learning_rate': 0.08, 'max_depth': 3}</td>\n",
              "      <td>0.727811</td>\n",
              "      <td>10</td>\n",
              "      <td>0.715976</td>\n",
              "      <td>0.733728</td>\n",
              "      <td>0.733728</td>\n",
              "    </tr>\n",
              "    <tr>\n",
              "      <th>6</th>\n",
              "      <td>{'learning_rate': 0.06, 'max_depth': 1}</td>\n",
              "      <td>0.743590</td>\n",
              "      <td>5</td>\n",
              "      <td>0.751479</td>\n",
              "      <td>0.745562</td>\n",
              "      <td>0.733728</td>\n",
              "    </tr>\n",
              "    <tr>\n",
              "      <th>7</th>\n",
              "      <td>{'learning_rate': 0.06, 'max_depth': 2}</td>\n",
              "      <td>0.723866</td>\n",
              "      <td>12</td>\n",
              "      <td>0.733728</td>\n",
              "      <td>0.721893</td>\n",
              "      <td>0.715976</td>\n",
              "    </tr>\n",
              "    <tr>\n",
              "      <th>8</th>\n",
              "      <td>{'learning_rate': 0.06, 'max_depth': 3}</td>\n",
              "      <td>0.719921</td>\n",
              "      <td>14</td>\n",
              "      <td>0.710059</td>\n",
              "      <td>0.727811</td>\n",
              "      <td>0.721893</td>\n",
              "    </tr>\n",
              "    <tr>\n",
              "      <th>9</th>\n",
              "      <td>{'learning_rate': 0.04, 'max_depth': 1}</td>\n",
              "      <td>0.743590</td>\n",
              "      <td>5</td>\n",
              "      <td>0.745562</td>\n",
              "      <td>0.751479</td>\n",
              "      <td>0.733728</td>\n",
              "    </tr>\n",
              "    <tr>\n",
              "      <th>10</th>\n",
              "      <td>{'learning_rate': 0.04, 'max_depth': 2}</td>\n",
              "      <td>0.745562</td>\n",
              "      <td>3</td>\n",
              "      <td>0.745562</td>\n",
              "      <td>0.757396</td>\n",
              "      <td>0.733728</td>\n",
              "    </tr>\n",
              "    <tr>\n",
              "      <th>11</th>\n",
              "      <td>{'learning_rate': 0.04, 'max_depth': 3}</td>\n",
              "      <td>0.737673</td>\n",
              "      <td>9</td>\n",
              "      <td>0.745562</td>\n",
              "      <td>0.733728</td>\n",
              "      <td>0.733728</td>\n",
              "    </tr>\n",
              "    <tr>\n",
              "      <th>12</th>\n",
              "      <td>{'learning_rate': 0.02, 'max_depth': 1}</td>\n",
              "      <td>0.753452</td>\n",
              "      <td>1</td>\n",
              "      <td>0.751479</td>\n",
              "      <td>0.757396</td>\n",
              "      <td>0.751479</td>\n",
              "    </tr>\n",
              "    <tr>\n",
              "      <th>13</th>\n",
              "      <td>{'learning_rate': 0.02, 'max_depth': 2}</td>\n",
              "      <td>0.745562</td>\n",
              "      <td>4</td>\n",
              "      <td>0.745562</td>\n",
              "      <td>0.751479</td>\n",
              "      <td>0.739645</td>\n",
              "    </tr>\n",
              "    <tr>\n",
              "      <th>14</th>\n",
              "      <td>{'learning_rate': 0.02, 'max_depth': 3}</td>\n",
              "      <td>0.749507</td>\n",
              "      <td>2</td>\n",
              "      <td>0.757396</td>\n",
              "      <td>0.739645</td>\n",
              "      <td>0.751479</td>\n",
              "    </tr>\n",
              "  </tbody>\n",
              "</table>\n",
              "</div>\n",
              "      <button class=\"colab-df-convert\" onclick=\"convertToInteractive('df-bf843c31-01d4-4d2e-9696-06c935a9a32a')\"\n",
              "              title=\"Convert this dataframe to an interactive table.\"\n",
              "              style=\"display:none;\">\n",
              "        \n",
              "  <svg xmlns=\"http://www.w3.org/2000/svg\" height=\"24px\"viewBox=\"0 0 24 24\"\n",
              "       width=\"24px\">\n",
              "    <path d=\"M0 0h24v24H0V0z\" fill=\"none\"/>\n",
              "    <path d=\"M18.56 5.44l.94 2.06.94-2.06 2.06-.94-2.06-.94-.94-2.06-.94 2.06-2.06.94zm-11 1L8.5 8.5l.94-2.06 2.06-.94-2.06-.94L8.5 2.5l-.94 2.06-2.06.94zm10 10l.94 2.06.94-2.06 2.06-.94-2.06-.94-.94-2.06-.94 2.06-2.06.94z\"/><path d=\"M17.41 7.96l-1.37-1.37c-.4-.4-.92-.59-1.43-.59-.52 0-1.04.2-1.43.59L10.3 9.45l-7.72 7.72c-.78.78-.78 2.05 0 2.83L4 21.41c.39.39.9.59 1.41.59.51 0 1.02-.2 1.41-.59l7.78-7.78 2.81-2.81c.8-.78.8-2.07 0-2.86zM5.41 20L4 18.59l7.72-7.72 1.47 1.35L5.41 20z\"/>\n",
              "  </svg>\n",
              "      </button>\n",
              "      \n",
              "  <style>\n",
              "    .colab-df-container {\n",
              "      display:flex;\n",
              "      flex-wrap:wrap;\n",
              "      gap: 12px;\n",
              "    }\n",
              "\n",
              "    .colab-df-convert {\n",
              "      background-color: #E8F0FE;\n",
              "      border: none;\n",
              "      border-radius: 50%;\n",
              "      cursor: pointer;\n",
              "      display: none;\n",
              "      fill: #1967D2;\n",
              "      height: 32px;\n",
              "      padding: 0 0 0 0;\n",
              "      width: 32px;\n",
              "    }\n",
              "\n",
              "    .colab-df-convert:hover {\n",
              "      background-color: #E2EBFA;\n",
              "      box-shadow: 0px 1px 2px rgba(60, 64, 67, 0.3), 0px 1px 3px 1px rgba(60, 64, 67, 0.15);\n",
              "      fill: #174EA6;\n",
              "    }\n",
              "\n",
              "    [theme=dark] .colab-df-convert {\n",
              "      background-color: #3B4455;\n",
              "      fill: #D2E3FC;\n",
              "    }\n",
              "\n",
              "    [theme=dark] .colab-df-convert:hover {\n",
              "      background-color: #434B5C;\n",
              "      box-shadow: 0px 1px 3px 1px rgba(0, 0, 0, 0.15);\n",
              "      filter: drop-shadow(0px 1px 2px rgba(0, 0, 0, 0.3));\n",
              "      fill: #FFFFFF;\n",
              "    }\n",
              "  </style>\n",
              "\n",
              "      <script>\n",
              "        const buttonEl =\n",
              "          document.querySelector('#df-bf843c31-01d4-4d2e-9696-06c935a9a32a button.colab-df-convert');\n",
              "        buttonEl.style.display =\n",
              "          google.colab.kernel.accessAllowed ? 'block' : 'none';\n",
              "\n",
              "        async function convertToInteractive(key) {\n",
              "          const element = document.querySelector('#df-bf843c31-01d4-4d2e-9696-06c935a9a32a');\n",
              "          const dataTable =\n",
              "            await google.colab.kernel.invokeFunction('convertToInteractive',\n",
              "                                                     [key], {});\n",
              "          if (!dataTable) return;\n",
              "\n",
              "          const docLinkHtml = 'Like what you see? Visit the ' +\n",
              "            '<a target=\"_blank\" href=https://colab.research.google.com/notebooks/data_table.ipynb>data table notebook</a>'\n",
              "            + ' to learn more about interactive tables.';\n",
              "          element.innerHTML = '';\n",
              "          dataTable['output_type'] = 'display_data';\n",
              "          await google.colab.output.renderOutput(dataTable, element);\n",
              "          const docLink = document.createElement('div');\n",
              "          docLink.innerHTML = docLinkHtml;\n",
              "          element.appendChild(docLink);\n",
              "        }\n",
              "      </script>\n",
              "    </div>\n",
              "  </div>\n",
              "  "
            ]
          },
          "metadata": {},
          "execution_count": 34
        }
      ]
    },
    {
      "cell_type": "code",
      "source": [
        "print('GridSearchCV 최적 파라미터:', grid_gbrt.best_params_)\n",
        "print('GridSearchCV 최고 정확도: {0:.4f}'.format(grid_gbrt.best_score_))"
      ],
      "metadata": {
        "colab": {
          "base_uri": "https://localhost:8080/"
        },
        "id": "9z0p3TS5Ug26",
        "outputId": "d55970c3-7ccc-4a10-c341-608734bd86b6"
      },
      "execution_count": 35,
      "outputs": [
        {
          "output_type": "stream",
          "name": "stdout",
          "text": [
            "GridSearchCV 최적 파라미터: {'learning_rate': 0.02, 'max_depth': 1}\n",
            "GridSearchCV 최고 정확도: 0.7535\n"
          ]
        }
      ]
    },
    {
      "cell_type": "code",
      "source": [
        "# 최적 파라미터로 학습이 된 모델을 이용하여 시험용 데이터 세트 분류\n",
        "print(\"시험용 데이터 세트 정확도: {:.3f}\".format(grid_gbrt.score(X_test, y_test)))"
      ],
      "metadata": {
        "colab": {
          "base_uri": "https://localhost:8080/"
        },
        "id": "MjaHnJSMUjM_",
        "outputId": "db7c5b1b-4f7a-47d3-83b8-0ae139236be1"
      },
      "execution_count": 36,
      "outputs": [
        {
          "output_type": "stream",
          "name": "stdout",
          "text": [
            "시험용 데이터 세트 정확도: 0.765\n"
          ]
        }
      ]
    },
    {
      "cell_type": "markdown",
      "source": [
        "## 모델평가지표: 정오분류표"
      ],
      "metadata": {
        "id": "706ondNrUjlU"
      }
    },
    {
      "cell_type": "code",
      "source": [
        "from sklearn.preprocessing import LabelEncoder\n",
        "from sklearn.preprocessing import OneHotEncoder\n",
        "\n",
        "# 먼저 숫자값으로 변환을 위해 LabelEncoder로 변환 \n",
        "encoder = LabelEncoder()\n",
        "labels = encoder.fit_transform(y_test)\n",
        "# 2차원 데이터로 변환 \n",
        "labels = labels.reshape(-1,1)\n",
        "\n",
        "# 원-핫 인코딩 적용\n",
        "oh_encoder = OneHotEncoder()\n",
        "oh_labels = oh_encoder.fit_transform(labels)\n",
        "print(y_test)\n",
        "print('원-핫 인코딩 데이터')\n",
        "print(oh_labels.toarray())\n",
        "print('원-핫 인코딩 데이터 차원')\n",
        "print(oh_labels.shape)"
      ],
      "metadata": {
        "colab": {
          "base_uri": "https://localhost:8080/"
        },
        "id": "krd4mA3oirFt",
        "outputId": "7e8f96ce-4176-4869-d923-bc3642ae00e2"
      },
      "execution_count": 37,
      "outputs": [
        {
          "output_type": "stream",
          "name": "stdout",
          "text": [
            "4976    Yes\n",
            "2704    Yes\n",
            "594     Yes\n",
            "2894    Yes\n",
            "898      No\n",
            "       ... \n",
            "5081     No\n",
            "2651    Yes\n",
            "4555    Yes\n",
            "3061    Yes\n",
            "909     Yes\n",
            "Name: 음주여부, Length: 170, dtype: object\n",
            "원-핫 인코딩 데이터\n",
            "[[0. 1.]\n",
            " [0. 1.]\n",
            " [0. 1.]\n",
            " [0. 1.]\n",
            " [1. 0.]\n",
            " [0. 1.]\n",
            " [1. 0.]\n",
            " [1. 0.]\n",
            " [0. 1.]\n",
            " [0. 1.]\n",
            " [1. 0.]\n",
            " [1. 0.]\n",
            " [1. 0.]\n",
            " [0. 1.]\n",
            " [0. 1.]\n",
            " [0. 1.]\n",
            " [0. 1.]\n",
            " [0. 1.]\n",
            " [0. 1.]\n",
            " [0. 1.]\n",
            " [0. 1.]\n",
            " [0. 1.]\n",
            " [0. 1.]\n",
            " [0. 1.]\n",
            " [0. 1.]\n",
            " [1. 0.]\n",
            " [0. 1.]\n",
            " [0. 1.]\n",
            " [0. 1.]\n",
            " [0. 1.]\n",
            " [0. 1.]\n",
            " [0. 1.]\n",
            " [0. 1.]\n",
            " [1. 0.]\n",
            " [1. 0.]\n",
            " [0. 1.]\n",
            " [0. 1.]\n",
            " [0. 1.]\n",
            " [1. 0.]\n",
            " [1. 0.]\n",
            " [0. 1.]\n",
            " [1. 0.]\n",
            " [0. 1.]\n",
            " [0. 1.]\n",
            " [1. 0.]\n",
            " [0. 1.]\n",
            " [0. 1.]\n",
            " [0. 1.]\n",
            " [0. 1.]\n",
            " [0. 1.]\n",
            " [0. 1.]\n",
            " [0. 1.]\n",
            " [0. 1.]\n",
            " [0. 1.]\n",
            " [0. 1.]\n",
            " [0. 1.]\n",
            " [0. 1.]\n",
            " [0. 1.]\n",
            " [1. 0.]\n",
            " [0. 1.]\n",
            " [0. 1.]\n",
            " [0. 1.]\n",
            " [0. 1.]\n",
            " [0. 1.]\n",
            " [0. 1.]\n",
            " [1. 0.]\n",
            " [0. 1.]\n",
            " [1. 0.]\n",
            " [1. 0.]\n",
            " [0. 1.]\n",
            " [0. 1.]\n",
            " [0. 1.]\n",
            " [1. 0.]\n",
            " [0. 1.]\n",
            " [0. 1.]\n",
            " [0. 1.]\n",
            " [0. 1.]\n",
            " [0. 1.]\n",
            " [0. 1.]\n",
            " [0. 1.]\n",
            " [1. 0.]\n",
            " [0. 1.]\n",
            " [0. 1.]\n",
            " [0. 1.]\n",
            " [0. 1.]\n",
            " [0. 1.]\n",
            " [1. 0.]\n",
            " [1. 0.]\n",
            " [0. 1.]\n",
            " [0. 1.]\n",
            " [0. 1.]\n",
            " [0. 1.]\n",
            " [0. 1.]\n",
            " [0. 1.]\n",
            " [1. 0.]\n",
            " [1. 0.]\n",
            " [1. 0.]\n",
            " [0. 1.]\n",
            " [0. 1.]\n",
            " [0. 1.]\n",
            " [0. 1.]\n",
            " [0. 1.]\n",
            " [1. 0.]\n",
            " [0. 1.]\n",
            " [0. 1.]\n",
            " [0. 1.]\n",
            " [0. 1.]\n",
            " [0. 1.]\n",
            " [1. 0.]\n",
            " [0. 1.]\n",
            " [0. 1.]\n",
            " [1. 0.]\n",
            " [0. 1.]\n",
            " [1. 0.]\n",
            " [0. 1.]\n",
            " [0. 1.]\n",
            " [0. 1.]\n",
            " [0. 1.]\n",
            " [0. 1.]\n",
            " [0. 1.]\n",
            " [0. 1.]\n",
            " [1. 0.]\n",
            " [1. 0.]\n",
            " [0. 1.]\n",
            " [0. 1.]\n",
            " [0. 1.]\n",
            " [1. 0.]\n",
            " [1. 0.]\n",
            " [0. 1.]\n",
            " [1. 0.]\n",
            " [1. 0.]\n",
            " [0. 1.]\n",
            " [0. 1.]\n",
            " [1. 0.]\n",
            " [0. 1.]\n",
            " [0. 1.]\n",
            " [0. 1.]\n",
            " [1. 0.]\n",
            " [0. 1.]\n",
            " [0. 1.]\n",
            " [0. 1.]\n",
            " [1. 0.]\n",
            " [0. 1.]\n",
            " [0. 1.]\n",
            " [0. 1.]\n",
            " [0. 1.]\n",
            " [0. 1.]\n",
            " [0. 1.]\n",
            " [0. 1.]\n",
            " [0. 1.]\n",
            " [0. 1.]\n",
            " [0. 1.]\n",
            " [0. 1.]\n",
            " [0. 1.]\n",
            " [0. 1.]\n",
            " [0. 1.]\n",
            " [0. 1.]\n",
            " [0. 1.]\n",
            " [0. 1.]\n",
            " [1. 0.]\n",
            " [0. 1.]\n",
            " [0. 1.]\n",
            " [0. 1.]\n",
            " [1. 0.]\n",
            " [0. 1.]\n",
            " [1. 0.]\n",
            " [0. 1.]\n",
            " [0. 1.]\n",
            " [0. 1.]\n",
            " [0. 1.]]\n",
            "원-핫 인코딩 데이터 차원\n",
            "(170, 2)\n"
          ]
        }
      ]
    },
    {
      "cell_type": "code",
      "source": [
        "#의사결정 나무 모델에 OneHotEncoding을 적용해도 에러가 발생할 뿐만 아니라, 다른 분류모델에 비하여 상대적으로 낮은 정확도를 보이기 때문에 제외하기로 결정함\n",
        "\n",
        "from sklearn.metrics import accuracy_score, precision_score, recall_score, f1_score\n",
        "from sklearn.metrics import confusion_matrix \n",
        "\n",
        "print(y_test.value_counts()) # y_test 의 B,M 분포\n",
        "\n",
        "#dt_pred = tree.predict(X_test)\n",
        "rf_pred = forest.predict(X_test)\n",
        "grid_gbrt_pred = grid_gbrt.predict(X_test)\n",
        "\n",
        "# 예측 결과인 pred와 실제 결과인 y_test의 Confusion Matrix 출력\n",
        "#print('Decision tree 시험용 데이터 세트 정확도:{:.3f}'.format(accuracy_score(y_test, dt_pred)))\n",
        "#print(confusion_matrix(y_test, dt_pred))\n",
        "print('Random forest 시험용 데이터 세트 정확도:{:.3f}'.format(accuracy_score(y_test, rf_pred)))\n",
        "print(confusion_matrix(y_test, rf_pred))\n",
        "print('Gradient boosting 시험용 데이터 세트 정확도:{:.3f}'.format(accuracy_score(y_test, grid_gbrt_pred)))\n",
        "print(confusion_matrix(y_test, grid_gbrt_pred))"
      ],
      "metadata": {
        "colab": {
          "base_uri": "https://localhost:8080/"
        },
        "id": "YWBpGqvDAvS3",
        "outputId": "b5f9a60a-916a-4d13-d174-2c732a7bff8c"
      },
      "execution_count": 38,
      "outputs": [
        {
          "output_type": "stream",
          "name": "stdout",
          "text": [
            "Yes    130\n",
            "No      40\n",
            "Name: 음주여부, dtype: int64\n",
            "Random forest 시험용 데이터 세트 정확도:0.765\n",
            "[[  4  36]\n",
            " [  4 126]]\n",
            "Gradient boosting 시험용 데이터 세트 정확도:0.765\n",
            "[[  0  40]\n",
            " [  0 130]]\n"
          ]
        }
      ]
    },
    {
      "cell_type": "code",
      "source": [
        "from sklearn.metrics import classification_report\n",
        "\n",
        "# 각 클래스가 Positive일 때의 정밀도, 재현율, f1 값을 보여줌 (\"M\"이 Postivit인 경우가 기본값임)\n",
        "# macro avg는 클래스별 점수의 평균을 계산\n",
        "# weighted avg는 클래스의 샘플 수로 가중평균을 계산\n",
        "#print(\"Decision Tree:\")\n",
        "#print(classification_report(y_test, dt_pred, target_names=[\"B\", \"M\"]))\n",
        "print(\"Random Forest:\")\n",
        "print(classification_report(y_test, rf_pred, target_names=[\"B\", \"M\"]))\n",
        "print(\"Gradient Boosting:\")\n",
        "print(classification_report(y_test, grid_gbrt_pred, target_names=[\"B\", \"M\"]))"
      ],
      "metadata": {
        "id": "W7345FV5isRH",
        "colab": {
          "base_uri": "https://localhost:8080/"
        },
        "outputId": "db1dc047-5bc5-4a70-cb69-7bed1abafe7e"
      },
      "execution_count": 39,
      "outputs": [
        {
          "output_type": "stream",
          "name": "stdout",
          "text": [
            "Random Forest:\n",
            "              precision    recall  f1-score   support\n",
            "\n",
            "           B       0.50      0.10      0.17        40\n",
            "           M       0.78      0.97      0.86       130\n",
            "\n",
            "    accuracy                           0.76       170\n",
            "   macro avg       0.64      0.53      0.51       170\n",
            "weighted avg       0.71      0.76      0.70       170\n",
            "\n",
            "Gradient Boosting:\n",
            "              precision    recall  f1-score   support\n",
            "\n",
            "           B       0.00      0.00      0.00        40\n",
            "           M       0.76      1.00      0.87       130\n",
            "\n",
            "    accuracy                           0.76       170\n",
            "   macro avg       0.38      0.50      0.43       170\n",
            "weighted avg       0.58      0.76      0.66       170\n",
            "\n"
          ]
        },
        {
          "output_type": "stream",
          "name": "stderr",
          "text": [
            "/usr/local/lib/python3.7/dist-packages/sklearn/metrics/_classification.py:1318: UndefinedMetricWarning: Precision and F-score are ill-defined and being set to 0.0 in labels with no predicted samples. Use `zero_division` parameter to control this behavior.\n",
            "  _warn_prf(average, modifier, msg_start, len(result))\n",
            "/usr/local/lib/python3.7/dist-packages/sklearn/metrics/_classification.py:1318: UndefinedMetricWarning: Precision and F-score are ill-defined and being set to 0.0 in labels with no predicted samples. Use `zero_division` parameter to control this behavior.\n",
            "  _warn_prf(average, modifier, msg_start, len(result))\n",
            "/usr/local/lib/python3.7/dist-packages/sklearn/metrics/_classification.py:1318: UndefinedMetricWarning: Precision and F-score are ill-defined and being set to 0.0 in labels with no predicted samples. Use `zero_division` parameter to control this behavior.\n",
            "  _warn_prf(average, modifier, msg_start, len(result))\n"
          ]
        }
      ]
    },
    {
      "cell_type": "markdown",
      "source": [
        "# (3) 인사이트 도출\n",
        "\n",
        "감마지티피와 (혈청지오티)ALT변수도 작지 않은 수치를 보인 것은 맞지만, \n",
        "혈색소와 트리글리세라이드 변수등이 더욱 높은 중요도를 차지한 점에서 예상과는 달랐다.\n",
        "\n",
        "* 혈색소의 경우, 수치가 과다해지면 혈색소 침착증이 발생할 가능성이 있고, 이에 따라 간경화가 발생할 수 있기에 관련성이 높은 수치라는 점을 새롭게 판단할 수 있었다. 음주를 하게 되면 간의 상태가 악화되기 때문이다.\n",
        "* 트리글리세라이드의 경우 과다한 알코올 섭취를 하게되면 실제로 지방의 농도가 증가할 수 있는 점에서 이 또한 음주 여부를 판단할 수 있는\n",
        "변수였음을 알 수 있었다."
      ],
      "metadata": {
        "id": "P4Q0VAXiG60b"
      }
    }
  ]
}